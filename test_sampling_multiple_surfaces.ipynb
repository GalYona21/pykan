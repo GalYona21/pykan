{
 "cells": [
  {
   "cell_type": "code",
   "execution_count": 40,
   "metadata": {
    "collapsed": true
   },
   "outputs": [],
   "source": [
    "import torch\n",
    "from kan import *\n",
    "from my_functions import calculate_signature, calculate_signature_over_all_surface, format_signature\n",
    "import plotly.graph_objects as go\n"
   ]
  },
  {
   "cell_type": "code",
   "execution_count": 41,
   "outputs": [
    {
     "name": "stdout",
     "output_type": "stream",
     "text": [
      "[50494, 99346, 55125, 5306, 33936, 67013, 63691, 53075, 102734, 39755]\n"
     ]
    }
   ],
   "source": [
    "mesh_path = \"data/bunny_curvs.ply\"\n",
    "sampled_indices = random.sample(range(0, 106712), 10)\n",
    "print(sampled_indices)\n"
   ],
   "metadata": {
    "collapsed": false
   }
  },
  {
   "cell_type": "code",
   "execution_count": 42,
   "outputs": [
    {
     "name": "stdout",
     "output_type": "stream",
     "text": [
      "0\n",
      "Number of vertices: 106712\n",
      "torch.Size([131, 2]) torch.Size([131, 1])\n"
     ]
    },
    {
     "name": "stderr",
     "output_type": "stream",
     "text": [
      "train loss: 1.62e-02 | test loss: 1.76e-02 | reg: 2.68e+00 : 100%|██| 20/20 [00:02<00:00,  9.75it/s]\n",
      "train loss: 1.19e-03 | test loss: 1.22e-02 | reg: 6.58e+00 : 100%|██| 50/50 [00:02<00:00, 18.21it/s]\n"
     ]
    },
    {
     "name": "stdout",
     "output_type": "stream",
     "text": [
      "r2 is 0.9938840866088867\n",
      "r2 is 0.9844156503677368\n",
      "Best value at boundary.\n",
      "r2 is 0.7579801678657532\n",
      "r2 is not very high, please double check if you are choosing the correct symbolic function.\n"
     ]
    },
    {
     "name": "stderr",
     "output_type": "stream",
     "text": [
      "train loss: 1.72e-03 | test loss: 1.05e-02 | reg: 8.79e+00 : 100%|██| 50/50 [00:01<00:00, 48.50it/s]\n",
      "/Users/gal.yona/Documents/MSc/Thesis/ImplicitNeuralSurfaces/forked_pykan/pykan/kan/KAN.py:344: UserWarning:\n",
      "\n",
      "std(): degrees of freedom is <= 0. Correction should be strictly less than the reduction factor (input numel divided by output numel). (Triggered internally at /Users/runner/work/pytorch/pytorch/pytorch/aten/src/ATen/native/ReduceOps.cpp:1760.)\n",
      "\n"
     ]
    },
    {
     "name": "stdout",
     "output_type": "stream",
     "text": [
      "-22751.17*(0.72*(0.06 - x_2)**3 + (-x_1 - 0.17)**4)**2\n",
      "sampled_index 0 exp  0 signature  tensor([[   10.0367,    13.0071,   -18.7962,  -549.8358,   161.9982, -5560.9087]],\n",
      "       grad_fn=<StackBackward0>)\n"
     ]
    },
    {
     "name": "stderr",
     "output_type": "stream",
     "text": [
      "train loss: 1.43e-02 | test loss: 1.52e-02 | reg: 2.55e+00 : 100%|██| 20/20 [00:02<00:00,  9.95it/s]\n",
      "train loss: 1.19e-03 | test loss: 1.15e-02 | reg: 1.23e+01 : 100%|██| 50/50 [00:02<00:00, 17.14it/s]\n"
     ]
    },
    {
     "name": "stdout",
     "output_type": "stream",
     "text": [
      "r2 is 0.9932785630226135\n",
      "r2 is 0.9835101366043091\n",
      "Best value at boundary.\n",
      "r2 is 0.715990424156189\n",
      "r2 is not very high, please double check if you are choosing the correct symbolic function.\n"
     ]
    },
    {
     "name": "stderr",
     "output_type": "stream",
     "text": [
      "train loss: 3.21e-03 | test loss: 4.21e-03 | reg: 1.84e+01 : 100%|██| 50/50 [00:00<00:00, 76.45it/s]\n",
      "/Users/gal.yona/Documents/MSc/Thesis/ImplicitNeuralSurfaces/forked_pykan/pykan/kan/KAN.py:344: UserWarning:\n",
      "\n",
      "std(): degrees of freedom is <= 0. Correction should be strictly less than the reduction factor (input numel divided by output numel). (Triggered internally at /Users/runner/work/pytorch/pytorch/pytorch/aten/src/ATen/native/ReduceOps.cpp:1760.)\n",
      "\n"
     ]
    },
    {
     "name": "stdout",
     "output_type": "stream",
     "text": [
      "0.03 - 955.05*(-0.84*(0.06 - x_2)**3 - (-x_1 - 0.17)**4 - 0.e-2)**2\n",
      "sampled_index 0 exp  1 signature  tensor([[   3.8382,   14.6143,   20.5390,  -44.8536,  176.2094, -334.3720]],\n",
      "       grad_fn=<StackBackward0>)\n"
     ]
    },
    {
     "name": "stderr",
     "output_type": "stream",
     "text": [
      "train loss: 7.28e-03 | test loss: 6.63e-03 | reg: 2.72e+00 : 100%|██| 20/20 [00:01<00:00, 10.09it/s]\n",
      "train loss: 1.18e-03 | test loss: 7.97e-02 | reg: 3.12e+00 : 100%|██| 50/50 [00:02<00:00, 16.98it/s]\n"
     ]
    },
    {
     "name": "stdout",
     "output_type": "stream",
     "text": [
      "r2 is 0.99299556016922\n",
      "Best value at boundary.\n",
      "r2 is 0.9877333045005798\n",
      "Best value at boundary.\n",
      "r2 is 0.8015129566192627\n",
      "r2 is not very high, please double check if you are choosing the correct symbolic function.\n"
     ]
    },
    {
     "name": "stderr",
     "output_type": "stream",
     "text": [
      "train loss: 1.72e-03 | test loss: 1.03e-02 | reg: 3.89e+00 : 100%|██| 50/50 [00:00<00:00, 54.65it/s]\n",
      "/Users/gal.yona/Documents/MSc/Thesis/ImplicitNeuralSurfaces/forked_pykan/pykan/kan/KAN.py:344: UserWarning:\n",
      "\n",
      "std(): degrees of freedom is <= 0. Correction should be strictly less than the reduction factor (input numel divided by output numel). (Triggered internally at /Users/runner/work/pytorch/pytorch/pytorch/aten/src/ATen/native/ReduceOps.cpp:1760.)\n",
      "\n"
     ]
    },
    {
     "name": "stdout",
     "output_type": "stream",
     "text": [
      "-15479.72*(0.89*(0.06 - x_2)**3 + (-x_1 - 0.18)**4)**2\n",
      "sampled_index 0 exp  2 signature  tensor([[   10.0207,    14.1910,   -10.8282,  -520.6812,   180.9736, -5496.3418]],\n",
      "       grad_fn=<StackBackward0>)\n"
     ]
    },
    {
     "name": "stderr",
     "output_type": "stream",
     "text": [
      "train loss: 1.73e-02 | test loss: 1.80e-02 | reg: 3.36e+00 : 100%|██| 20/20 [00:01<00:00, 10.05it/s]\n",
      "train loss: 1.19e-03 | test loss: 1.15e-02 | reg: 5.21e+00 : 100%|██| 50/50 [00:02<00:00, 16.91it/s]\n"
     ]
    },
    {
     "name": "stdout",
     "output_type": "stream",
     "text": [
      "Best value at boundary.\n",
      "r2 is 0.9938357472419739\n",
      "r2 is 0.9837377071380615\n",
      "Best value at boundary.\n",
      "r2 is 0.7392886281013489\n",
      "r2 is not very high, please double check if you are choosing the correct symbolic function.\n"
     ]
    },
    {
     "name": "stderr",
     "output_type": "stream",
     "text": [
      "train loss: 1.72e-03 | test loss: 1.06e-02 | reg: 6.23e+00 : 100%|██| 50/50 [00:00<00:00, 52.87it/s]\n",
      "/Users/gal.yona/Documents/MSc/Thesis/ImplicitNeuralSurfaces/forked_pykan/pykan/kan/KAN.py:344: UserWarning:\n",
      "\n",
      "std(): degrees of freedom is <= 0. Correction should be strictly less than the reduction factor (input numel divided by output numel). (Triggered internally at /Users/runner/work/pytorch/pytorch/pytorch/aten/src/ATen/native/ReduceOps.cpp:1760.)\n",
      "\n"
     ]
    },
    {
     "name": "stdout",
     "output_type": "stream",
     "text": [
      "-29133.87*(0.62*(0.06 - x_2)**3 + (-x_1 - 0.16)**4)**2\n",
      "sampled_index 0 exp  3 signature  tensor([[   10.0243,    12.3001,   -24.2004,  -567.9562,   150.7421, -5582.8232]],\n",
      "       grad_fn=<StackBackward0>)\n"
     ]
    },
    {
     "name": "stderr",
     "output_type": "stream",
     "text": [
      "train loss: 6.49e-03 | test loss: 6.35e-03 | reg: 2.37e+00 : 100%|██| 20/20 [00:01<00:00, 10.15it/s]\n",
      "train loss: 1.25e-03 | test loss: 1.00e-02 | reg: 3.72e+00 : 100%|██| 50/50 [00:02<00:00, 17.15it/s]\n"
     ]
    },
    {
     "name": "stdout",
     "output_type": "stream",
     "text": [
      "r2 is 0.9942470788955688\n",
      "r2 is 0.9825020432472229\n",
      "Best value at boundary.\n",
      "r2 is 0.5492315888404846\n",
      "r2 is not very high, please double check if you are choosing the correct symbolic function.\n"
     ]
    },
    {
     "name": "stderr",
     "output_type": "stream",
     "text": [
      "train loss: 1.72e-03 | test loss: 1.06e-02 | reg: 7.63e+01 : 100%|██| 50/50 [00:00<00:00, 55.93it/s]\n",
      "/Users/gal.yona/Documents/MSc/Thesis/ImplicitNeuralSurfaces/forked_pykan/pykan/kan/KAN.py:344: UserWarning:\n",
      "\n",
      "std(): degrees of freedom is <= 0. Correction should be strictly less than the reduction factor (input numel divided by output numel). (Triggered internally at /Users/runner/work/pytorch/pytorch/pytorch/aten/src/ATen/native/ReduceOps.cpp:1760.)\n",
      "\n"
     ]
    },
    {
     "name": "stdout",
     "output_type": "stream",
     "text": [
      "-21973.64*(0.64*(0.07 - x_2)**3 + (-x_1 - 0.17)**4)**2\n",
      "sampled_index 0 exp  4 signature  tensor([[   10.4313,    13.5760,   -23.9239,  -551.8969,   150.1729, -5742.9746]],\n",
      "       grad_fn=<StackBackward0>)\n"
     ]
    },
    {
     "name": "stderr",
     "output_type": "stream",
     "text": [
      "train loss: 7.89e-03 | test loss: 7.15e-03 | reg: 2.47e+00 : 100%|██| 20/20 [00:01<00:00, 10.05it/s]\n",
      "train loss: 1.08e-03 | test loss: 1.62e-02 | reg: 7.09e+00 : 100%|██| 50/50 [00:02<00:00, 17.04it/s]\n"
     ]
    },
    {
     "name": "stdout",
     "output_type": "stream",
     "text": [
      "Best value at boundary.\n",
      "r2 is 0.9723541736602783\n",
      "Best value at boundary.\n",
      "r2 is 0.9482861757278442\n",
      "Best value at boundary.\n",
      "r2 is 0.005135644692927599\n",
      "r2 is not very high, please double check if you are choosing the correct symbolic function.\n"
     ]
    },
    {
     "name": "stderr",
     "output_type": "stream",
     "text": [
      "train loss: 3.08e-03 | test loss: 3.86e-03 | reg: 8.37e+01 : 100%|██| 50/50 [00:02<00:00, 23.65it/s]\n",
      "/Users/gal.yona/Documents/MSc/Thesis/ImplicitNeuralSurfaces/forked_pykan/pykan/kan/KAN.py:344: UserWarning:\n",
      "\n",
      "std(): degrees of freedom is <= 0. Correction should be strictly less than the reduction factor (input numel divided by output numel). (Triggered internally at /Users/runner/work/pytorch/pytorch/pytorch/aten/src/ATen/native/ReduceOps.cpp:1760.)\n",
      "\n"
     ]
    },
    {
     "name": "stdout",
     "output_type": "stream",
     "text": [
      "3325.19*(-0.36*(0.02 - x_2)**3 - (-x_1 - 0.08)**4 + 0.01)**2 - 0.56\n",
      "sampled_index 0 exp  5 signature  tensor([[   5.3322,   27.3580,   90.5553,  -60.9846, 1146.4994, -500.1406]],\n",
      "       grad_fn=<StackBackward0>)\n"
     ]
    },
    {
     "name": "stderr",
     "output_type": "stream",
     "text": [
      "train loss: 6.30e-03 | test loss: 5.91e-03 | reg: 2.60e+00 : 100%|██| 20/20 [00:01<00:00, 10.07it/s]\n",
      "train loss: 1.19e-03 | test loss: 2.41e-02 | reg: 1.74e+00 : 100%|██| 50/50 [00:02<00:00, 17.06it/s]\n"
     ]
    },
    {
     "name": "stdout",
     "output_type": "stream",
     "text": [
      "r2 is 0.9934343099594116\n",
      "r2 is 0.9837924242019653\n",
      "Best value at boundary.\n",
      "r2 is 0.6825492978096008\n",
      "r2 is not very high, please double check if you are choosing the correct symbolic function.\n"
     ]
    },
    {
     "name": "stderr",
     "output_type": "stream",
     "text": [
      "train loss: 1.72e-03 | test loss: 1.06e-02 | reg: 3.99e+00 : 100%|██| 50/50 [00:00<00:00, 55.35it/s]\n",
      "/Users/gal.yona/Documents/MSc/Thesis/ImplicitNeuralSurfaces/forked_pykan/pykan/kan/KAN.py:344: UserWarning:\n",
      "\n",
      "std(): degrees of freedom is <= 0. Correction should be strictly less than the reduction factor (input numel divided by output numel). (Triggered internally at /Users/runner/work/pytorch/pytorch/pytorch/aten/src/ATen/native/ReduceOps.cpp:1760.)\n",
      "\n"
     ]
    },
    {
     "name": "stdout",
     "output_type": "stream",
     "text": [
      "-36296.95*(0.55*(0.06 - x_2)**3 + (-x_1 - 0.15)**4)**2\n",
      "sampled_index 0 exp  6 signature  tensor([[    9.9956,    11.5160,   -28.9366,  -585.2659,   140.2402, -5597.7471]],\n",
      "       grad_fn=<StackBackward0>)\n"
     ]
    },
    {
     "name": "stderr",
     "output_type": "stream",
     "text": [
      "train loss: 8.59e-03 | test loss: 1.09e-02 | reg: 2.55e+00 : 100%|██| 20/20 [00:01<00:00, 10.09it/s]\n",
      "train loss: 1.19e-03 | test loss: 1.27e-02 | reg: 7.07e+00 : 100%|██| 50/50 [00:02<00:00, 16.98it/s]\n"
     ]
    },
    {
     "name": "stdout",
     "output_type": "stream",
     "text": [
      "r2 is 0.9942098259925842\n",
      "r2 is 0.9845135807991028\n",
      "Best value at boundary.\n",
      "r2 is 0.7275998592376709\n",
      "r2 is not very high, please double check if you are choosing the correct symbolic function.\n"
     ]
    },
    {
     "name": "stderr",
     "output_type": "stream",
     "text": [
      "train loss: 3.18e-03 | test loss: 4.26e-03 | reg: 1.04e+01 : 100%|██| 50/50 [00:00<00:00, 71.98it/s]\n",
      "/Users/gal.yona/Documents/MSc/Thesis/ImplicitNeuralSurfaces/forked_pykan/pykan/kan/KAN.py:344: UserWarning:\n",
      "\n",
      "std(): degrees of freedom is <= 0. Correction should be strictly less than the reduction factor (input numel divided by output numel). (Triggered internally at /Users/runner/work/pytorch/pytorch/pytorch/aten/src/ATen/native/ReduceOps.cpp:1760.)\n",
      "\n"
     ]
    },
    {
     "name": "stdout",
     "output_type": "stream",
     "text": [
      "0.02 - 1435.73*(0.76*(0.06 - x_2)**3 + (-x_1 - 0.16)**4)**2\n",
      "sampled_index 0 exp  7 signature  tensor([[   3.9680,   15.4795,   20.4228,  -52.5211,  190.4615, -396.8943]],\n",
      "       grad_fn=<StackBackward0>)\n"
     ]
    },
    {
     "name": "stderr",
     "output_type": "stream",
     "text": [
      "train loss: 2.17e-02 | test loss: 2.27e-02 | reg: 3.44e+00 : 100%|██| 20/20 [00:01<00:00, 10.10it/s]\n",
      "train loss: 1.20e-03 | test loss: 1.26e-02 | reg: 8.50e+00 : 100%|██| 50/50 [00:02<00:00, 16.93it/s]\n"
     ]
    },
    {
     "name": "stdout",
     "output_type": "stream",
     "text": [
      "r2 is 0.9934435486793518\n",
      "r2 is 0.9834137558937073\n",
      "Best value at boundary.\n",
      "r2 is 0.7082022428512573\n",
      "r2 is not very high, please double check if you are choosing the correct symbolic function.\n"
     ]
    },
    {
     "name": "stderr",
     "output_type": "stream",
     "text": [
      "train loss: 3.20e-03 | test loss: 4.22e-03 | reg: 1.56e+01 : 100%|██| 50/50 [00:00<00:00, 67.48it/s]\n",
      "/Users/gal.yona/Documents/MSc/Thesis/ImplicitNeuralSurfaces/forked_pykan/pykan/kan/KAN.py:344: UserWarning:\n",
      "\n",
      "std(): degrees of freedom is <= 0. Correction should be strictly less than the reduction factor (input numel divided by output numel). (Triggered internally at /Users/runner/work/pytorch/pytorch/pytorch/aten/src/ATen/native/ReduceOps.cpp:1760.)\n",
      "\n"
     ]
    },
    {
     "name": "stdout",
     "output_type": "stream",
     "text": [
      "0.03 - 948.28*(0.87*(0.06 - x_2)**3 + (-x_1 - 0.17)**4)**2\n",
      "sampled_index 0 exp  8 signature  tensor([[   3.8454,   14.6659,   19.7312,  -46.3076,  169.7171, -346.7438]],\n",
      "       grad_fn=<StackBackward0>)\n"
     ]
    },
    {
     "name": "stderr",
     "output_type": "stream",
     "text": [
      "train loss: 7.04e-03 | test loss: 7.09e-03 | reg: 2.38e+00 : 100%|██| 20/20 [00:01<00:00, 10.07it/s]\n",
      "train loss: 1.23e-03 | test loss: 1.04e-02 | reg: 1.04e+01 : 100%|██| 50/50 [00:02<00:00, 18.23it/s]\n"
     ]
    },
    {
     "name": "stdout",
     "output_type": "stream",
     "text": [
      "r2 is 0.9910162687301636\n",
      "Best value at boundary.\n",
      "r2 is 0.9796886444091797\n",
      "Best value at boundary.\n",
      "r2 is 0.7099870443344116\n",
      "r2 is not very high, please double check if you are choosing the correct symbolic function.\n"
     ]
    },
    {
     "name": "stderr",
     "output_type": "stream",
     "text": [
      "train loss: 3.23e-03 | test loss: 4.18e-03 | reg: 1.52e+01 : 100%|██| 50/50 [00:00<00:00, 78.85it/s]\n",
      "/Users/gal.yona/Documents/MSc/Thesis/ImplicitNeuralSurfaces/forked_pykan/pykan/kan/KAN.py:344: UserWarning:\n",
      "\n",
      "std(): degrees of freedom is <= 0. Correction should be strictly less than the reduction factor (input numel divided by output numel). (Triggered internally at /Users/runner/work/pytorch/pytorch/pytorch/aten/src/ATen/native/ReduceOps.cpp:1760.)\n",
      "\n"
     ]
    },
    {
     "name": "stdout",
     "output_type": "stream",
     "text": [
      "0.04 - 545.8*(-(0.06 - x_2)**3 - 0.74*(-x_1 - 0.19)**4 - 0.e-2)**2\n",
      "sampled_index 0 exp  9 signature  tensor([[   3.5477,   12.5585,   -1.1199,  -41.6636,  -12.4175, -292.6077]],\n",
      "       grad_fn=<StackBackward0>)\n",
      "1\n",
      "Number of vertices: 106712\n",
      "torch.Size([145, 2]) torch.Size([145, 1])\n"
     ]
    },
    {
     "name": "stderr",
     "output_type": "stream",
     "text": [
      "train loss: 1.40e-02 | test loss: 1.72e-02 | reg: 2.52e+00 : 100%|██| 20/20 [00:02<00:00,  9.89it/s]\n",
      "train loss: 7.65e-04 | test loss: 4.01e-03 | reg: 3.23e+00 : 100%|██| 50/50 [00:03<00:00, 16.35it/s]\n"
     ]
    },
    {
     "name": "stdout",
     "output_type": "stream",
     "text": [
      "Best value at boundary.\n",
      "r2 is 0.9269037246704102\n",
      "Best value at boundary.\n",
      "r2 is 0.9829260110855103\n",
      "Best value at boundary.\n",
      "r2 is 0.7272945046424866\n",
      "r2 is not very high, please double check if you are choosing the correct symbolic function.\n"
     ]
    },
    {
     "name": "stderr",
     "output_type": "stream",
     "text": [
      "train loss: 1.34e-03 | test loss: 2.50e-03 | reg: 2.25e+00 : 100%|██| 50/50 [00:00<00:00, 54.17it/s]\n",
      "/Users/gal.yona/Documents/MSc/Thesis/ImplicitNeuralSurfaces/forked_pykan/pykan/kan/KAN.py:344: UserWarning:\n",
      "\n",
      "std(): degrees of freedom is <= 0. Correction should be strictly less than the reduction factor (input numel divided by output numel). (Triggered internally at /Users/runner/work/pytorch/pytorch/pytorch/aten/src/ATen/native/ReduceOps.cpp:1760.)\n",
      "\n"
     ]
    },
    {
     "name": "stdout",
     "output_type": "stream",
     "text": [
      "0.01 - 471667.16*((0.04 - x_1)**4 + 0.43*(-x_2 - 0.e-2)**3)**2\n",
      "sampled_index 1 exp  0 signature  tensor([[-6.5286e-03, -5.1239e+00, -1.5643e+02,  6.1290e+01, -7.0274e+02,\n",
      "         -2.9146e+02]], grad_fn=<StackBackward0>)\n"
     ]
    },
    {
     "name": "stderr",
     "output_type": "stream",
     "text": [
      "train loss: 1.55e-02 | test loss: 1.64e-02 | reg: 2.81e+00 : 100%|██| 20/20 [00:02<00:00,  9.85it/s]\n",
      "train loss: 8.10e-04 | test loss: 4.21e-03 | reg: 1.70e+00 : 100%|██| 50/50 [00:02<00:00, 17.04it/s]\n"
     ]
    },
    {
     "name": "stdout",
     "output_type": "stream",
     "text": [
      "Best value at boundary.\n",
      "r2 is 0.9195199012756348\n",
      "Best value at boundary.\n",
      "r2 is 0.9839122891426086\n",
      "Best value at boundary.\n",
      "r2 is 0.8096646070480347\n",
      "r2 is not very high, please double check if you are choosing the correct symbolic function.\n"
     ]
    },
    {
     "name": "stderr",
     "output_type": "stream",
     "text": [
      "train loss: 1.28e-03 | test loss: 2.41e-03 | reg: 2.21e+00 : 100%|██| 50/50 [00:01<00:00, 42.38it/s]\n",
      "/Users/gal.yona/Documents/MSc/Thesis/ImplicitNeuralSurfaces/forked_pykan/pykan/kan/KAN.py:344: UserWarning:\n",
      "\n",
      "std(): degrees of freedom is <= 0. Correction should be strictly less than the reduction factor (input numel divided by output numel). (Triggered internally at /Users/runner/work/pytorch/pytorch/pytorch/aten/src/ATen/native/ReduceOps.cpp:1760.)\n",
      "\n"
     ]
    },
    {
     "name": "stdout",
     "output_type": "stream",
     "text": [
      "0.01 - 26139158.89*(-(0.01 - x_1)**4 - 0.05*(-x_2 - 0.e-2)**3)**2\n",
      "sampled_index 1 exp  1 signature  tensor([[  -0.7434,   -1.1673, -144.4581,   79.7339, -163.5511, -327.9485]],\n",
      "       grad_fn=<StackBackward0>)\n"
     ]
    },
    {
     "name": "stderr",
     "output_type": "stream",
     "text": [
      "train loss: 1.83e-02 | test loss: 2.15e-02 | reg: 2.37e+00 : 100%|██| 20/20 [00:02<00:00,  9.63it/s]\n",
      "train loss: 7.36e-04 | test loss: 4.44e-03 | reg: 1.97e+00 : 100%|██| 50/50 [00:02<00:00, 16.72it/s]\n"
     ]
    },
    {
     "name": "stdout",
     "output_type": "stream",
     "text": [
      "Best value at boundary.\n",
      "r2 is 0.9296410083770752\n",
      "Best value at boundary.\n",
      "r2 is 0.9783375859260559\n",
      "Best value at boundary.\n",
      "r2 is 0.7552394270896912\n",
      "r2 is not very high, please double check if you are choosing the correct symbolic function.\n"
     ]
    },
    {
     "name": "stderr",
     "output_type": "stream",
     "text": [
      "train loss: 1.40e-03 | test loss: 2.76e-03 | reg: 7.26e+00 : 100%|██| 50/50 [00:01<00:00, 49.34it/s]\n",
      "/Users/gal.yona/Documents/MSc/Thesis/ImplicitNeuralSurfaces/forked_pykan/pykan/kan/KAN.py:344: UserWarning:\n",
      "\n",
      "std(): degrees of freedom is <= 0. Correction should be strictly less than the reduction factor (input numel divided by output numel). (Triggered internally at /Users/runner/work/pytorch/pytorch/pytorch/aten/src/ATen/native/ReduceOps.cpp:1760.)\n",
      "\n"
     ]
    },
    {
     "name": "stdout",
     "output_type": "stream",
     "text": [
      "0.05 - 53950.72*(-0.43*x_2**3 + (0.04 - x_1)**4)**2\n",
      "sampled_index 1 exp  2 signature  tensor([[ 5.1302e-01, -1.7673e+00,  1.4331e+02,  5.0950e+01,  5.5541e+02,\n",
      "         -9.3300e+01]], grad_fn=<StackBackward0>)\n"
     ]
    },
    {
     "name": "stderr",
     "output_type": "stream",
     "text": [
      "train loss: 1.52e-02 | test loss: 1.88e-02 | reg: 3.16e+00 : 100%|██| 20/20 [00:02<00:00,  9.95it/s]\n",
      "train loss: 7.36e-04 | test loss: 4.98e-03 | reg: 1.09e+00 : 100%|██| 50/50 [00:02<00:00, 16.78it/s]\n"
     ]
    },
    {
     "name": "stdout",
     "output_type": "stream",
     "text": [
      "Best value at boundary.\n",
      "r2 is 0.9371713995933533\n",
      "Best value at boundary.\n",
      "r2 is 0.9793357253074646\n",
      "Best value at boundary.\n",
      "r2 is 0.6891395449638367\n",
      "r2 is not very high, please double check if you are choosing the correct symbolic function.\n"
     ]
    },
    {
     "name": "stderr",
     "output_type": "stream",
     "text": [
      "train loss: 1.28e-03 | test loss: 2.41e-03 | reg: 2.32e+00 : 100%|██| 50/50 [00:01<00:00, 34.55it/s]\n",
      "/Users/gal.yona/Documents/MSc/Thesis/ImplicitNeuralSurfaces/forked_pykan/pykan/kan/KAN.py:344: UserWarning:\n",
      "\n",
      "std(): degrees of freedom is <= 0. Correction should be strictly less than the reduction factor (input numel divided by output numel). (Triggered internally at /Users/runner/work/pytorch/pytorch/pytorch/aten/src/ATen/native/ReduceOps.cpp:1760.)\n",
      "\n"
     ]
    },
    {
     "name": "stdout",
     "output_type": "stream",
     "text": [
      "0.01 - 26128985.81*(-(0.01 - x_1)**4 - 0.05*(-x_2 - 0.e-2)**3)**2\n",
      "sampled_index 1 exp  3 signature  tensor([[  -0.7434,   -1.1670, -144.4129,   79.7324, -163.4603, -327.9238]],\n",
      "       grad_fn=<StackBackward0>)\n"
     ]
    },
    {
     "name": "stderr",
     "output_type": "stream",
     "text": [
      "train loss: 1.33e-02 | test loss: 1.55e-02 | reg: 2.96e+00 : 100%|██| 20/20 [00:02<00:00,  9.66it/s]\n",
      "train loss: 7.37e-04 | test loss: 5.63e-03 | reg: 1.51e+00 : 100%|██| 50/50 [00:02<00:00, 16.88it/s]\n"
     ]
    },
    {
     "name": "stdout",
     "output_type": "stream",
     "text": [
      "Best value at boundary.\n",
      "r2 is 0.932990312576294\n",
      "Best value at boundary.\n",
      "r2 is 0.9773231148719788\n",
      "Best value at boundary.\n",
      "r2 is 0.6756241321563721\n",
      "r2 is not very high, please double check if you are choosing the correct symbolic function.\n"
     ]
    },
    {
     "name": "stderr",
     "output_type": "stream",
     "text": [
      "train loss: 1.28e-03 | test loss: 2.41e-03 | reg: 2.29e+00 : 100%|██| 50/50 [00:01<00:00, 40.46it/s]\n",
      "/Users/gal.yona/Documents/MSc/Thesis/ImplicitNeuralSurfaces/forked_pykan/pykan/kan/KAN.py:344: UserWarning:\n",
      "\n",
      "std(): degrees of freedom is <= 0. Correction should be strictly less than the reduction factor (input numel divided by output numel). (Triggered internally at /Users/runner/work/pytorch/pytorch/pytorch/aten/src/ATen/native/ReduceOps.cpp:1760.)\n",
      "\n"
     ]
    },
    {
     "name": "stdout",
     "output_type": "stream",
     "text": [
      "0.01 - 26186030.72*((0.01 - x_1)**4 + 0.05*(-x_2 - 0.e-2)**3)**2\n",
      "sampled_index 1 exp  4 signature  tensor([[  -0.7437,   -1.1632, -144.4282,   79.6771, -163.0294, -327.5415]],\n",
      "       grad_fn=<StackBackward0>)\n"
     ]
    },
    {
     "name": "stderr",
     "output_type": "stream",
     "text": [
      "train loss: 1.98e-02 | test loss: 2.30e-02 | reg: 2.58e+00 : 100%|██| 20/20 [00:02<00:00,  9.26it/s]\n",
      "train loss: 7.45e-04 | test loss: 5.29e-03 | reg: 1.78e+00 : 100%|██| 50/50 [00:02<00:00, 16.85it/s]\n"
     ]
    },
    {
     "name": "stdout",
     "output_type": "stream",
     "text": [
      "Best value at boundary.\n",
      "r2 is 0.9344985485076904\n",
      "Best value at boundary.\n",
      "r2 is 0.9835057258605957\n",
      "Best value at boundary.\n",
      "r2 is 0.7597899436950684\n",
      "r2 is not very high, please double check if you are choosing the correct symbolic function.\n"
     ]
    },
    {
     "name": "stderr",
     "output_type": "stream",
     "text": [
      "train loss: 1.28e-03 | test loss: 2.41e-03 | reg: 1.41e+00 : 100%|██| 50/50 [00:01<00:00, 38.28it/s]\n",
      "/Users/gal.yona/Documents/MSc/Thesis/ImplicitNeuralSurfaces/forked_pykan/pykan/kan/KAN.py:344: UserWarning:\n",
      "\n",
      "std(): degrees of freedom is <= 0. Correction should be strictly less than the reduction factor (input numel divided by output numel). (Triggered internally at /Users/runner/work/pytorch/pytorch/pytorch/aten/src/ATen/native/ReduceOps.cpp:1760.)\n",
      "\n"
     ]
    },
    {
     "name": "stdout",
     "output_type": "stream",
     "text": [
      "0.01 - 26164940.08*((0.01 - x_1)**4 + 0.05*(-x_2 - 0.e-2)**3)**2\n",
      "sampled_index 1 exp  5 signature  tensor([[  -0.7442,   -1.1662, -144.4377,   79.7102, -163.3035, -327.9902]],\n",
      "       grad_fn=<StackBackward0>)\n"
     ]
    },
    {
     "name": "stderr",
     "output_type": "stream",
     "text": [
      "train loss: 1.79e-02 | test loss: 1.96e-02 | reg: 2.39e+00 : 100%|██| 20/20 [00:02<00:00,  9.94it/s]\n",
      "train loss: 7.41e-04 | test loss: 4.45e-03 | reg: 3.17e+00 : 100%|██| 50/50 [00:02<00:00, 17.32it/s]\n"
     ]
    },
    {
     "name": "stdout",
     "output_type": "stream",
     "text": [
      "Best value at boundary.\n",
      "r2 is 0.9347955584526062\n",
      "Best value at boundary.\n",
      "r2 is 0.9806362986564636\n",
      "Best value at boundary.\n",
      "r2 is 0.7400972247123718\n",
      "r2 is not very high, please double check if you are choosing the correct symbolic function.\n"
     ]
    },
    {
     "name": "stderr",
     "output_type": "stream",
     "text": [
      "train loss: 1.28e-03 | test loss: 2.41e-03 | reg: 2.84e+00 : 100%|██| 50/50 [00:01<00:00, 40.83it/s]\n",
      "/Users/gal.yona/Documents/MSc/Thesis/ImplicitNeuralSurfaces/forked_pykan/pykan/kan/KAN.py:344: UserWarning:\n",
      "\n",
      "std(): degrees of freedom is <= 0. Correction should be strictly less than the reduction factor (input numel divided by output numel). (Triggered internally at /Users/runner/work/pytorch/pytorch/pytorch/aten/src/ATen/native/ReduceOps.cpp:1760.)\n",
      "\n"
     ]
    },
    {
     "name": "stdout",
     "output_type": "stream",
     "text": [
      "0.01 - 26146280.95*(-(0.01 - x_1)**4 - 0.05*(-x_2 - 0.e-2)**3)**2\n",
      "sampled_index 1 exp  6 signature  tensor([[  -0.7436,   -1.1689, -144.4404,   79.7757, -163.6760, -328.2726]],\n",
      "       grad_fn=<StackBackward0>)\n"
     ]
    },
    {
     "name": "stderr",
     "output_type": "stream",
     "text": [
      "train loss: 1.44e-02 | test loss: 1.80e-02 | reg: 2.58e+00 : 100%|██| 20/20 [00:02<00:00,  9.81it/s]\n",
      "train loss: 7.31e-04 | test loss: 5.20e-03 | reg: 1.32e+00 : 100%|██| 50/50 [00:02<00:00, 16.81it/s]\n"
     ]
    },
    {
     "name": "stdout",
     "output_type": "stream",
     "text": [
      "Best value at boundary.\n",
      "r2 is 0.939278244972229\n",
      "Best value at boundary.\n",
      "r2 is 0.9799192547798157\n",
      "Best value at boundary.\n",
      "r2 is 0.7437452077865601\n",
      "r2 is not very high, please double check if you are choosing the correct symbolic function.\n"
     ]
    },
    {
     "name": "stderr",
     "output_type": "stream",
     "text": [
      "train loss: 1.28e-03 | test loss: 2.41e-03 | reg: 1.88e+00 : 100%|██| 50/50 [00:01<00:00, 38.40it/s]\n",
      "/Users/gal.yona/Documents/MSc/Thesis/ImplicitNeuralSurfaces/forked_pykan/pykan/kan/KAN.py:344: UserWarning:\n",
      "\n",
      "std(): degrees of freedom is <= 0. Correction should be strictly less than the reduction factor (input numel divided by output numel). (Triggered internally at /Users/runner/work/pytorch/pytorch/pytorch/aten/src/ATen/native/ReduceOps.cpp:1760.)\n",
      "\n"
     ]
    },
    {
     "name": "stdout",
     "output_type": "stream",
     "text": [
      "0.01 - 25987168.91*(-(0.01 - x_1)**4 - 0.05*(-x_2 - 0.e-2)**3)**2\n",
      "sampled_index 1 exp  7 signature  tensor([[  -0.7502,   -1.1751, -144.3851,   79.6951, -163.4667, -329.9586]],\n",
      "       grad_fn=<StackBackward0>)\n"
     ]
    },
    {
     "name": "stderr",
     "output_type": "stream",
     "text": [
      "train loss: 1.33e-02 | test loss: 1.67e-02 | reg: 3.19e+00 : 100%|██| 20/20 [00:02<00:00,  9.91it/s]\n",
      "train loss: 7.63e-04 | test loss: 4.56e-03 | reg: 1.24e+00 : 100%|██| 50/50 [00:02<00:00, 18.49it/s]\n"
     ]
    },
    {
     "name": "stdout",
     "output_type": "stream",
     "text": [
      "Best value at boundary.\n",
      "r2 is 0.9345722198486328\n",
      "Best value at boundary.\n",
      "r2 is 0.9836145639419556\n",
      "Best value at boundary.\n",
      "r2 is 0.8113303184509277\n",
      "r2 is not very high, please double check if you are choosing the correct symbolic function.\n"
     ]
    },
    {
     "name": "stderr",
     "output_type": "stream",
     "text": [
      "train loss: 1.28e-03 | test loss: 2.41e-03 | reg: 1.48e+00 : 100%|██| 50/50 [00:01<00:00, 40.03it/s]\n",
      "/Users/gal.yona/Documents/MSc/Thesis/ImplicitNeuralSurfaces/forked_pykan/pykan/kan/KAN.py:344: UserWarning:\n",
      "\n",
      "std(): degrees of freedom is <= 0. Correction should be strictly less than the reduction factor (input numel divided by output numel). (Triggered internally at /Users/runner/work/pytorch/pytorch/pytorch/aten/src/ATen/native/ReduceOps.cpp:1760.)\n",
      "\n"
     ]
    },
    {
     "name": "stdout",
     "output_type": "stream",
     "text": [
      "0.01 - 26137605.79*(-(0.01 - x_1)**4 - 0.05*(-x_2 - 0.e-2)**3)**2\n",
      "sampled_index 1 exp  8 signature  tensor([[  -0.7438,   -1.1671, -144.4583,   79.7088, -163.4769, -327.9302]],\n",
      "       grad_fn=<StackBackward0>)\n"
     ]
    },
    {
     "name": "stderr",
     "output_type": "stream",
     "text": [
      "train loss: 2.40e-02 | test loss: 2.71e-02 | reg: 2.43e+00 : 100%|██| 20/20 [00:02<00:00,  9.96it/s]\n",
      "train loss: 7.32e-04 | test loss: 6.86e-03 | reg: 1.24e+00 : 100%|██| 50/50 [00:02<00:00, 16.96it/s]\n"
     ]
    },
    {
     "name": "stdout",
     "output_type": "stream",
     "text": [
      "Best value at boundary.\n",
      "r2 is 0.9356430768966675\n",
      "Best value at boundary.\n",
      "r2 is 0.9755482077598572\n",
      "Best value at boundary.\n",
      "r2 is 0.6039646863937378\n",
      "r2 is not very high, please double check if you are choosing the correct symbolic function.\n"
     ]
    },
    {
     "name": "stderr",
     "output_type": "stream",
     "text": [
      "train loss: 1.28e-03 | test loss: 2.41e-03 | reg: 2.06e+00 : 100%|██| 50/50 [00:01<00:00, 31.88it/s]\n",
      "/Users/gal.yona/Documents/MSc/Thesis/ImplicitNeuralSurfaces/forked_pykan/pykan/kan/KAN.py:344: UserWarning:\n",
      "\n",
      "std(): degrees of freedom is <= 0. Correction should be strictly less than the reduction factor (input numel divided by output numel). (Triggered internally at /Users/runner/work/pytorch/pytorch/pytorch/aten/src/ATen/native/ReduceOps.cpp:1760.)\n",
      "\n"
     ]
    },
    {
     "name": "stdout",
     "output_type": "stream",
     "text": [
      "0.01 - 26161333.51*(-(0.01 - x_1)**4 - 0.05*(-x_2 - 0.e-2)**3)**2\n",
      "sampled_index 1 exp  9 signature  tensor([[  -0.7438,   -1.1659, -144.4184,   79.7040, -163.2977, -327.8372]],\n",
      "       grad_fn=<StackBackward0>)\n",
      "2\n",
      "Number of vertices: 106712\n",
      "torch.Size([139, 2]) torch.Size([139, 1])\n"
     ]
    },
    {
     "name": "stderr",
     "output_type": "stream",
     "text": [
      "train loss: 2.46e-02 | test loss: 3.28e-02 | reg: 2.43e+00 : 100%|██| 20/20 [00:02<00:00,  9.83it/s]\n",
      "train loss: 1.58e-03 | test loss: 8.36e-03 | reg: 2.24e+00 : 100%|██| 50/50 [00:02<00:00, 20.24it/s]\n"
     ]
    },
    {
     "name": "stdout",
     "output_type": "stream",
     "text": [
      "Best value at boundary.\n",
      "r2 is 0.7831408977508545\n",
      "r2 is not very high, please double check if you are choosing the correct symbolic function.\n",
      "r2 is 0.8616934418678284\n",
      "r2 is not very high, please double check if you are choosing the correct symbolic function.\n",
      "Best value at boundary.\n",
      "r2 is 0.7909009456634521\n",
      "r2 is not very high, please double check if you are choosing the correct symbolic function.\n"
     ]
    },
    {
     "name": "stderr",
     "output_type": "stream",
     "text": [
      "train loss: 2.14e-03 | test loss: 2.56e-03 | reg: 4.70e+01 : 100%|██| 50/50 [00:02<00:00, 24.43it/s]\n",
      "/Users/gal.yona/Documents/MSc/Thesis/ImplicitNeuralSurfaces/forked_pykan/pykan/kan/KAN.py:344: UserWarning:\n",
      "\n",
      "std(): degrees of freedom is <= 0. Correction should be strictly less than the reduction factor (input numel divided by output numel). (Triggered internally at /Users/runner/work/pytorch/pytorch/pytorch/aten/src/ATen/native/ReduceOps.cpp:1760.)\n",
      "\n"
     ]
    },
    {
     "name": "stdout",
     "output_type": "stream",
     "text": [
      "0.17 - 325404.73*(-x_1**4 - 0.03*(0.02 - x_2)**3)**2\n",
      "sampled_index 2 exp  0 signature  tensor([[ 9.0248e-01,  1.3875e-03, -2.1003e+00, -3.7106e+01, -7.5787e+00,\n",
      "         -5.7101e-02]], grad_fn=<StackBackward0>)\n"
     ]
    },
    {
     "name": "stderr",
     "output_type": "stream",
     "text": [
      "train loss: 2.15e-02 | test loss: 2.92e-02 | reg: 2.39e+00 : 100%|██| 20/20 [00:02<00:00,  9.79it/s]\n",
      "train loss: 1.58e-03 | test loss: 7.24e-03 | reg: 2.30e+00 : 100%|██| 50/50 [00:02<00:00, 18.72it/s]\n"
     ]
    },
    {
     "name": "stdout",
     "output_type": "stream",
     "text": [
      "Best value at boundary.\n",
      "r2 is 0.7833284735679626\n",
      "r2 is not very high, please double check if you are choosing the correct symbolic function.\n",
      "r2 is 0.8600763082504272\n",
      "r2 is not very high, please double check if you are choosing the correct symbolic function.\n",
      "Best value at boundary.\n",
      "r2 is 0.7883226275444031\n",
      "r2 is not very high, please double check if you are choosing the correct symbolic function.\n"
     ]
    },
    {
     "name": "stderr",
     "output_type": "stream",
     "text": [
      "train loss: 2.14e-03 | test loss: 2.57e-03 | reg: 9.90e+00 : 100%|██| 50/50 [00:01<00:00, 42.23it/s]\n",
      "/Users/gal.yona/Documents/MSc/Thesis/ImplicitNeuralSurfaces/forked_pykan/pykan/kan/KAN.py:344: UserWarning:\n",
      "\n",
      "std(): degrees of freedom is <= 0. Correction should be strictly less than the reduction factor (input numel divided by output numel). (Triggered internally at /Users/runner/work/pytorch/pytorch/pytorch/aten/src/ATen/native/ReduceOps.cpp:1760.)\n",
      "\n"
     ]
    },
    {
     "name": "stdout",
     "output_type": "stream",
     "text": [
      "0.1 - 553666.13*(-x_1**4 - 0.03*(0.02 - x_2)**3)**2\n",
      "sampled_index 2 exp  1 signature  tensor([[ 8.9910e-01,  3.1972e-03, -3.1803e+00, -3.6516e+01, -1.1426e+01,\n",
      "         -1.3020e-01]], grad_fn=<StackBackward0>)\n"
     ]
    },
    {
     "name": "stderr",
     "output_type": "stream",
     "text": [
      "train loss: 3.35e-02 | test loss: 4.33e-02 | reg: 2.65e+00 : 100%|██| 20/20 [00:02<00:00,  9.90it/s]\n",
      "train loss: 1.58e-03 | test loss: 1.29e-02 | reg: 2.29e+00 : 100%|██| 50/50 [00:02<00:00, 22.55it/s]\n"
     ]
    },
    {
     "name": "stdout",
     "output_type": "stream",
     "text": [
      "Best value at boundary.\n",
      "r2 is 0.7825115323066711\n",
      "r2 is not very high, please double check if you are choosing the correct symbolic function.\n",
      "r2 is 0.85654616355896\n",
      "r2 is not very high, please double check if you are choosing the correct symbolic function.\n",
      "Best value at boundary.\n",
      "r2 is 0.7802884578704834\n",
      "r2 is not very high, please double check if you are choosing the correct symbolic function.\n"
     ]
    },
    {
     "name": "stderr",
     "output_type": "stream",
     "text": [
      "train loss: 2.14e-03 | test loss: 2.57e-03 | reg: 3.39e+01 : 100%|██| 50/50 [00:01<00:00, 26.27it/s]\n",
      "/Users/gal.yona/Documents/MSc/Thesis/ImplicitNeuralSurfaces/forked_pykan/pykan/kan/KAN.py:344: UserWarning:\n",
      "\n",
      "std(): degrees of freedom is <= 0. Correction should be strictly less than the reduction factor (input numel divided by output numel). (Triggered internally at /Users/runner/work/pytorch/pytorch/pytorch/aten/src/ATen/native/ReduceOps.cpp:1760.)\n",
      "\n"
     ]
    },
    {
     "name": "stdout",
     "output_type": "stream",
     "text": [
      "0.13 - 419165.69*(-x_1**4 - 0.03*(0.02 - x_2)**3)**2\n",
      "sampled_index 2 exp  2 signature  tensor([[ 8.9148e-01,  1.3223e-03, -2.0604e+00, -3.9249e+01, -7.3442e+00,\n",
      "         -5.8293e-02]], grad_fn=<StackBackward0>)\n"
     ]
    },
    {
     "name": "stderr",
     "output_type": "stream",
     "text": [
      "train loss: 2.84e-02 | test loss: 3.74e-02 | reg: 2.61e+00 : 100%|██| 20/20 [00:02<00:00,  9.92it/s]\n",
      "train loss: 1.58e-03 | test loss: 3.66e-02 | reg: 2.34e+00 : 100%|██| 50/50 [00:02<00:00, 21.46it/s]\n"
     ]
    },
    {
     "name": "stdout",
     "output_type": "stream",
     "text": [
      "Best value at boundary.\n",
      "r2 is 0.7740017175674438\n",
      "r2 is not very high, please double check if you are choosing the correct symbolic function.\n",
      "r2 is 0.8561667203903198\n",
      "r2 is not very high, please double check if you are choosing the correct symbolic function.\n",
      "Best value at boundary.\n",
      "r2 is 0.7320020794868469\n",
      "r2 is not very high, please double check if you are choosing the correct symbolic function.\n"
     ]
    },
    {
     "name": "stderr",
     "output_type": "stream",
     "text": [
      "train loss: 2.69e-03 | test loss: 3.26e-03 | reg: 2.31e+00 : 100%|██| 50/50 [00:01<00:00, 40.99it/s]\n",
      "/Users/gal.yona/Documents/MSc/Thesis/ImplicitNeuralSurfaces/forked_pykan/pykan/kan/KAN.py:344: UserWarning:\n",
      "\n",
      "std(): degrees of freedom is <= 0. Correction should be strictly less than the reduction factor (input numel divided by output numel). (Triggered internally at /Users/runner/work/pytorch/pytorch/pytorch/aten/src/ATen/native/ReduceOps.cpp:1760.)\n",
      "\n"
     ]
    },
    {
     "name": "stdout",
     "output_type": "stream",
     "text": [
      "-19699830.88*(-x_1**4 + 0.01*(0.07 - x_2)**3)**2\n",
      "sampled_index 2 exp  3 signature  tensor([[ 4.5964e-01,  1.2145e-03,  6.2954e-01, -4.3423e+01,  1.1406e+00,\n",
      "          2.0332e-01]], grad_fn=<StackBackward0>)\n"
     ]
    },
    {
     "name": "stderr",
     "output_type": "stream",
     "text": [
      "train loss: 2.15e-02 | test loss: 2.92e-02 | reg: 2.32e+00 : 100%|██| 20/20 [00:02<00:00,  9.84it/s]\n",
      "train loss: 1.58e-03 | test loss: 4.60e-03 | reg: 2.04e+00 : 100%|██| 50/50 [00:02<00:00, 22.50it/s]\n"
     ]
    },
    {
     "name": "stdout",
     "output_type": "stream",
     "text": [
      "Best value at boundary.\n",
      "r2 is 0.7855676412582397\n",
      "r2 is not very high, please double check if you are choosing the correct symbolic function.\n",
      "r2 is 0.8576813340187073\n",
      "r2 is not very high, please double check if you are choosing the correct symbolic function.\n",
      "Best value at boundary.\n",
      "r2 is 0.9297548532485962\n"
     ]
    },
    {
     "name": "stderr",
     "output_type": "stream",
     "text": [
      "train loss: 2.14e-03 | test loss: 2.56e-03 | reg: 2.08e+01 : 100%|██| 50/50 [00:01<00:00, 31.25it/s]\n",
      "/Users/gal.yona/Documents/MSc/Thesis/ImplicitNeuralSurfaces/forked_pykan/pykan/kan/KAN.py:344: UserWarning:\n",
      "\n",
      "std(): degrees of freedom is <= 0. Correction should be strictly less than the reduction factor (input numel divided by output numel). (Triggered internally at /Users/runner/work/pytorch/pytorch/pytorch/aten/src/ATen/native/ReduceOps.cpp:1760.)\n",
      "\n"
     ]
    },
    {
     "name": "stdout",
     "output_type": "stream",
     "text": [
      "0.16 - 352534.22*(-x_1**4 - 0.03*(0.02 - x_2)**3)**2\n",
      "sampled_index 2 exp  4 signature  tensor([[ 8.9845e-01,  1.2011e-03, -1.9568e+00, -3.7772e+01, -7.0298e+00,\n",
      "         -5.0546e-02]], grad_fn=<StackBackward0>)\n"
     ]
    },
    {
     "name": "stderr",
     "output_type": "stream",
     "text": [
      "train loss: 2.97e-02 | test loss: 3.83e-02 | reg: 2.55e+00 : 100%|██| 20/20 [00:02<00:00,  9.81it/s]\n",
      "train loss: 1.58e-03 | test loss: 3.59e-02 | reg: 2.48e+00 : 100%|██| 50/50 [00:02<00:00, 20.19it/s]\n"
     ]
    },
    {
     "name": "stdout",
     "output_type": "stream",
     "text": [
      "Best value at boundary.\n",
      "r2 is 0.7704599499702454\n",
      "r2 is not very high, please double check if you are choosing the correct symbolic function.\n",
      "r2 is 0.8583068251609802\n",
      "r2 is not very high, please double check if you are choosing the correct symbolic function.\n",
      "Best value at boundary.\n",
      "r2 is 0.6966449022293091\n",
      "r2 is not very high, please double check if you are choosing the correct symbolic function.\n"
     ]
    },
    {
     "name": "stderr",
     "output_type": "stream",
     "text": [
      "train loss: 2.69e-03 | test loss: 3.26e-03 | reg: 2.51e+00 : 100%|██| 50/50 [00:01<00:00, 42.86it/s]\n",
      "/Users/gal.yona/Documents/MSc/Thesis/ImplicitNeuralSurfaces/forked_pykan/pykan/kan/KAN.py:344: UserWarning:\n",
      "\n",
      "std(): degrees of freedom is <= 0. Correction should be strictly less than the reduction factor (input numel divided by output numel). (Triggered internally at /Users/runner/work/pytorch/pytorch/pytorch/aten/src/ATen/native/ReduceOps.cpp:1760.)\n",
      "\n"
     ]
    },
    {
     "name": "stdout",
     "output_type": "stream",
     "text": [
      "-19683272.56*(-x_1**4 + 0.01*(0.07 - x_2)**3)**2\n",
      "sampled_index 2 exp  5 signature  tensor([[ 4.6033e-01,  1.2239e-03,  6.3131e-01, -4.3434e+01,  1.1455e+00,\n",
      "          2.0534e-01]], grad_fn=<StackBackward0>)\n"
     ]
    },
    {
     "name": "stderr",
     "output_type": "stream",
     "text": [
      "train loss: 3.14e-02 | test loss: 4.12e-02 | reg: 2.48e+00 : 100%|██| 20/20 [00:02<00:00,  9.80it/s]\n",
      "train loss: 1.58e-03 | test loss: 6.87e-03 | reg: 2.13e+00 : 100%|██| 50/50 [00:02<00:00, 16.82it/s]\n"
     ]
    },
    {
     "name": "stdout",
     "output_type": "stream",
     "text": [
      "Best value at boundary.\n",
      "r2 is 0.7824741005897522\n",
      "r2 is not very high, please double check if you are choosing the correct symbolic function.\n",
      "r2 is 0.860537588596344\n",
      "r2 is not very high, please double check if you are choosing the correct symbolic function.\n",
      "Best value at boundary.\n",
      "r2 is 0.8735325932502747\n",
      "r2 is not very high, please double check if you are choosing the correct symbolic function.\n"
     ]
    },
    {
     "name": "stderr",
     "output_type": "stream",
     "text": [
      "train loss: 2.14e-03 | test loss: 2.56e-03 | reg: 5.22e+01 : 100%|██| 50/50 [00:02<00:00, 23.89it/s]\n",
      "/Users/gal.yona/Documents/MSc/Thesis/ImplicitNeuralSurfaces/forked_pykan/pykan/kan/KAN.py:344: UserWarning:\n",
      "\n",
      "std(): degrees of freedom is <= 0. Correction should be strictly less than the reduction factor (input numel divided by output numel). (Triggered internally at /Users/runner/work/pytorch/pytorch/pytorch/aten/src/ATen/native/ReduceOps.cpp:1760.)\n",
      "\n"
     ]
    },
    {
     "name": "stdout",
     "output_type": "stream",
     "text": [
      "0.19 - 294858.63*(-x_1**4 - 0.03*(0.02 - x_2)**3)**2\n",
      "sampled_index 2 exp  6 signature  tensor([[ 9.0468e-01,  1.2430e-03, -1.9884e+00, -3.6801e+01, -7.1927e+00,\n",
      "         -5.0602e-02]], grad_fn=<StackBackward0>)\n"
     ]
    },
    {
     "name": "stderr",
     "output_type": "stream",
     "text": [
      "train loss: 3.65e-02 | test loss: 4.73e-02 | reg: 2.70e+00 : 100%|██| 20/20 [00:02<00:00,  9.80it/s]\n",
      "train loss: 1.58e-03 | test loss: 6.24e-03 | reg: 2.12e+00 : 100%|██| 50/50 [00:02<00:00, 22.73it/s]\n"
     ]
    },
    {
     "name": "stdout",
     "output_type": "stream",
     "text": [
      "Best value at boundary.\n",
      "r2 is 0.7855167388916016\n",
      "r2 is not very high, please double check if you are choosing the correct symbolic function.\n",
      "r2 is 0.8581464886665344\n",
      "r2 is not very high, please double check if you are choosing the correct symbolic function.\n",
      "Best value at boundary.\n",
      "r2 is 0.8500982522964478\n",
      "r2 is not very high, please double check if you are choosing the correct symbolic function.\n"
     ]
    },
    {
     "name": "stderr",
     "output_type": "stream",
     "text": [
      "train loss: 2.14e-03 | test loss: 2.56e-03 | reg: 3.10e+01 : 100%|██| 50/50 [00:02<00:00, 21.61it/s]\n",
      "/Users/gal.yona/Documents/MSc/Thesis/ImplicitNeuralSurfaces/forked_pykan/pykan/kan/KAN.py:344: UserWarning:\n",
      "\n",
      "std(): degrees of freedom is <= 0. Correction should be strictly less than the reduction factor (input numel divided by output numel). (Triggered internally at /Users/runner/work/pytorch/pytorch/pytorch/aten/src/ATen/native/ReduceOps.cpp:1760.)\n",
      "\n"
     ]
    },
    {
     "name": "stdout",
     "output_type": "stream",
     "text": [
      "0.21 - 269295.74*(-x_1**4 - 0.02*(0.03 - x_2)**3)**2\n",
      "sampled_index 2 exp  7 signature  tensor([[ 9.0763e-01,  1.4040e-03, -2.1126e+00, -3.5981e+01, -7.6666e+00,\n",
      "         -5.5699e-02]], grad_fn=<StackBackward0>)\n"
     ]
    },
    {
     "name": "stderr",
     "output_type": "stream",
     "text": [
      "train loss: 2.57e-02 | test loss: 3.39e-02 | reg: 2.44e+00 : 100%|██| 20/20 [00:02<00:00,  9.82it/s]\n",
      "train loss: 1.58e-03 | test loss: 2.68e-03 | reg: 2.06e+00 : 100%|██| 50/50 [00:02<00:00, 20.83it/s]\n"
     ]
    },
    {
     "name": "stdout",
     "output_type": "stream",
     "text": [
      "Best value at boundary.\n",
      "r2 is 0.7855554223060608\n",
      "r2 is not very high, please double check if you are choosing the correct symbolic function.\n",
      "r2 is 0.8640233278274536\n",
      "r2 is not very high, please double check if you are choosing the correct symbolic function.\n",
      "Best value at boundary.\n",
      "r2 is 0.9475151300430298\n"
     ]
    },
    {
     "name": "stderr",
     "output_type": "stream",
     "text": [
      "train loss: 2.15e-03 | test loss: 2.58e-03 | reg: 3.66e+00 : 100%|██| 50/50 [00:01<00:00, 38.68it/s]\n",
      "/Users/gal.yona/Documents/MSc/Thesis/ImplicitNeuralSurfaces/forked_pykan/pykan/kan/KAN.py:344: UserWarning:\n",
      "\n",
      "std(): degrees of freedom is <= 0. Correction should be strictly less than the reduction factor (input numel divided by output numel). (Triggered internally at /Users/runner/work/pytorch/pytorch/pytorch/aten/src/ATen/native/ReduceOps.cpp:1760.)\n",
      "\n"
     ]
    },
    {
     "name": "stdout",
     "output_type": "stream",
     "text": [
      "0.04 - 1170542.05*(-x_1**4 - 0.03*(0.02 - x_2)**3)**2\n",
      "sampled_index 2 exp  8 signature  tensor([[ 8.8497e-01,  1.4447e-03, -2.1336e+00, -3.7130e+01, -7.5493e+00,\n",
      "         -6.0921e-02]], grad_fn=<StackBackward0>)\n"
     ]
    },
    {
     "name": "stderr",
     "output_type": "stream",
     "text": [
      "train loss: 2.82e-02 | test loss: 3.77e-02 | reg: 2.59e+00 : 100%|██| 20/20 [00:02<00:00,  9.52it/s]\n",
      "train loss: 1.58e-03 | test loss: 6.88e-03 | reg: 2.09e+00 : 100%|██| 50/50 [00:02<00:00, 17.81it/s]\n"
     ]
    },
    {
     "name": "stdout",
     "output_type": "stream",
     "text": [
      "Best value at boundary.\n",
      "r2 is 0.784256100654602\n",
      "r2 is not very high, please double check if you are choosing the correct symbolic function.\n",
      "r2 is 0.8610362410545349\n",
      "r2 is not very high, please double check if you are choosing the correct symbolic function.\n",
      "Best value at boundary.\n",
      "r2 is 0.8285343647003174\n",
      "r2 is not very high, please double check if you are choosing the correct symbolic function.\n"
     ]
    },
    {
     "name": "stderr",
     "output_type": "stream",
     "text": [
      "train loss: 2.14e-03 | test loss: 2.56e-03 | reg: 1.75e+01 : 100%|██| 50/50 [00:01<00:00, 41.55it/s]\n",
      "/Users/gal.yona/Documents/MSc/Thesis/ImplicitNeuralSurfaces/forked_pykan/pykan/kan/KAN.py:344: UserWarning:\n",
      "\n",
      "std(): degrees of freedom is <= 0. Correction should be strictly less than the reduction factor (input numel divided by output numel). (Triggered internally at /Users/runner/work/pytorch/pytorch/pytorch/aten/src/ATen/native/ReduceOps.cpp:1760.)\n",
      "\n"
     ]
    },
    {
     "name": "stdout",
     "output_type": "stream",
     "text": [
      "0.07 - 807113.04*(-x_1**4 - 0.02*(0.03 - x_2)**3)**2\n",
      "sampled_index 2 exp  9 signature  tensor([[ 8.9678e-01,  1.4295e-04,  6.6925e-01, -3.3051e+01,  2.4006e+00,\n",
      "         -5.2882e-03]], grad_fn=<StackBackward0>)\n",
      "3\n",
      "Number of vertices: 106712\n",
      "torch.Size([125, 2]) torch.Size([125, 1])\n"
     ]
    },
    {
     "name": "stderr",
     "output_type": "stream",
     "text": [
      "train loss: 8.36e-02 | test loss: 9.68e-02 | reg: 4.38e+00 : 100%|██| 20/20 [00:02<00:00,  9.94it/s]\n",
      "train loss: 1.06e-03 | test loss: 1.79e-01 | reg: 4.51e+00 : 100%|██| 50/50 [00:02<00:00, 16.93it/s]\n"
     ]
    },
    {
     "name": "stdout",
     "output_type": "stream",
     "text": [
      "r2 is 0.9754530787467957\n",
      "r2 is 0.9681825041770935\n",
      "r2 is 0.9893696308135986\n"
     ]
    },
    {
     "name": "stderr",
     "output_type": "stream",
     "text": [
      "train loss: 2.90e-03 | test loss: 6.16e-03 | reg: 4.25e+01 : 100%|██| 50/50 [00:02<00:00, 17.56it/s]\n",
      "/Users/gal.yona/Documents/MSc/Thesis/ImplicitNeuralSurfaces/forked_pykan/pykan/kan/KAN.py:344: UserWarning:\n",
      "\n",
      "std(): degrees of freedom is <= 0. Correction should be strictly less than the reduction factor (input numel divided by output numel). (Triggered internally at /Users/runner/work/pytorch/pytorch/pytorch/aten/src/ATen/native/ReduceOps.cpp:1760.)\n",
      "\n"
     ]
    },
    {
     "name": "stdout",
     "output_type": "stream",
     "text": [
      "1.62 - 342371.34*(-0.06*(0.01 - x_2)**3 + (-x_1 - 0.01)**4)**2\n",
      "sampled_index 3 exp  0 signature  tensor([[ 1.7115e+00, -2.9109e+01,  2.6534e+02, -2.6407e+02,  3.9073e+03,\n",
      "          2.0671e+03]], grad_fn=<StackBackward0>)\n"
     ]
    },
    {
     "name": "stderr",
     "output_type": "stream",
     "text": [
      "train loss: 6.05e-02 | test loss: 7.76e-02 | reg: 4.10e+00 : 100%|██| 20/20 [00:01<00:00, 10.02it/s]\n",
      "train loss: 9.85e-04 | test loss: 8.07e-01 | reg: 4.41e+00 : 100%|██| 50/50 [00:02<00:00, 16.77it/s]\n"
     ]
    },
    {
     "name": "stdout",
     "output_type": "stream",
     "text": [
      "r2 is 0.9856697916984558\n",
      "r2 is 0.9883198738098145\n",
      "r2 is 0.06845948100090027\n",
      "r2 is not very high, please double check if you are choosing the correct symbolic function.\n"
     ]
    },
    {
     "name": "stderr",
     "output_type": "stream",
     "text": [
      "train loss: 1.28e-03 | test loss: 4.68e-02 | reg: 7.17e+00 : 100%|██| 50/50 [00:01<00:00, 33.43it/s]\n",
      "/Users/gal.yona/Documents/MSc/Thesis/ImplicitNeuralSurfaces/forked_pykan/pykan/kan/KAN.py:344: UserWarning:\n",
      "\n",
      "std(): degrees of freedom is <= 0. Correction should be strictly less than the reduction factor (input numel divided by output numel). (Triggered internally at /Users/runner/work/pytorch/pytorch/pytorch/aten/src/ATen/native/ReduceOps.cpp:1760.)\n",
      "\n"
     ]
    },
    {
     "name": "stdout",
     "output_type": "stream",
     "text": [
      "0.04 - 404028.75*(-0.6*(0.05 - x_2)**3 + (-x_1 - 0.1)**4)**2\n",
      "sampled_index 3 exp  1 signature  tensor([[    4.4662,  -242.2786,   -44.3578,   291.9044, -2134.0684, -4350.8330]],\n",
      "       grad_fn=<StackBackward0>)\n"
     ]
    },
    {
     "name": "stderr",
     "output_type": "stream",
     "text": [
      "train loss: 8.71e-02 | test loss: 9.86e-02 | reg: 4.31e+00 : 100%|██| 20/20 [00:01<00:00, 10.03it/s]\n",
      "train loss: 9.68e-04 | test loss: 1.18e-01 | reg: 4.07e+00 : 100%|██| 50/50 [00:03<00:00, 16.60it/s]\n"
     ]
    },
    {
     "name": "stdout",
     "output_type": "stream",
     "text": [
      "r2 is 0.9752285480499268\n",
      "r2 is 0.9786456227302551\n",
      "r2 is 0.9508662223815918\n"
     ]
    },
    {
     "name": "stderr",
     "output_type": "stream",
     "text": [
      "train loss: 3.45e-03 | test loss: 1.12e-01 | reg: 5.03e+00 : 100%|██| 50/50 [00:00<00:00, 62.68it/s]\n",
      "/Users/gal.yona/Documents/MSc/Thesis/ImplicitNeuralSurfaces/forked_pykan/pykan/kan/KAN.py:344: UserWarning:\n",
      "\n",
      "std(): degrees of freedom is <= 0. Correction should be strictly less than the reduction factor (input numel divided by output numel). (Triggered internally at /Users/runner/work/pytorch/pytorch/pytorch/aten/src/ATen/native/ReduceOps.cpp:1760.)\n",
      "\n"
     ]
    },
    {
     "name": "stdout",
     "output_type": "stream",
     "text": [
      "142252.75*(-0.42*(0.03 - x_2)**3 + (-x_1 - 0.06)**4 + 0.01)**2 - 9.06\n",
      "sampled_index 3 exp  2 signature  tensor([[ 2.0574e+00, -6.7633e+02, -1.9631e+02,  1.1211e+03, -2.7122e+03,\n",
      "         -5.0247e+04]], grad_fn=<StackBackward0>)\n"
     ]
    },
    {
     "name": "stderr",
     "output_type": "stream",
     "text": [
      "train loss: 7.75e-02 | test loss: 9.16e-02 | reg: 4.04e+00 : 100%|██| 20/20 [00:02<00:00,  9.39it/s]\n",
      "train loss: 1.06e-03 | test loss: 1.87e-01 | reg: 4.04e+00 : 100%|██| 50/50 [00:02<00:00, 16.92it/s]\n"
     ]
    },
    {
     "name": "stdout",
     "output_type": "stream",
     "text": [
      "r2 is 0.981550931930542\n",
      "r2 is 0.975717306137085\n",
      "r2 is 0.9258074164390564\n"
     ]
    },
    {
     "name": "stderr",
     "output_type": "stream",
     "text": [
      "train loss: 4.19e-03 | test loss: 1.16e-01 | reg: 5.25e+00 : 100%|██| 50/50 [00:00<00:00, 52.62it/s]\n",
      "/Users/gal.yona/Documents/MSc/Thesis/ImplicitNeuralSurfaces/forked_pykan/pykan/kan/KAN.py:344: UserWarning:\n",
      "\n",
      "std(): degrees of freedom is <= 0. Correction should be strictly less than the reduction factor (input numel divided by output numel). (Triggered internally at /Users/runner/work/pytorch/pytorch/pytorch/aten/src/ATen/native/ReduceOps.cpp:1760.)\n",
      "\n"
     ]
    },
    {
     "name": "stdout",
     "output_type": "stream",
     "text": [
      "483525.09*(-0.45*(0.02 - x_2)**3 + (-x_1 - 0.05)**4)**2 - 5.38\n",
      "sampled_index 3 exp  3 signature  tensor([[ 7.1186e+00, -1.1579e+03, -1.8537e+02,  1.9189e+03, -1.9958e+04,\n",
      "         -9.1624e+04]], grad_fn=<StackBackward0>)\n"
     ]
    },
    {
     "name": "stderr",
     "output_type": "stream",
     "text": [
      "train loss: 7.91e-02 | test loss: 9.23e-02 | reg: 4.00e+00 : 100%|██| 20/20 [00:02<00:00,  9.96it/s]\n",
      "train loss: 1.03e-03 | test loss: 1.68e-01 | reg: 4.04e+00 : 100%|██| 50/50 [00:02<00:00, 17.06it/s]\n"
     ]
    },
    {
     "name": "stdout",
     "output_type": "stream",
     "text": [
      "r2 is 0.9839829802513123\n",
      "r2 is 0.9861034154891968\n",
      "r2 is 0.8823081254959106\n",
      "r2 is not very high, please double check if you are choosing the correct symbolic function.\n"
     ]
    },
    {
     "name": "stderr",
     "output_type": "stream",
     "text": [
      "train loss: 5.25e-03 | test loss: 1.57e-01 | reg: 5.21e+00 : 100%|██| 50/50 [00:00<00:00, 73.82it/s]\n",
      "/Users/gal.yona/Documents/MSc/Thesis/ImplicitNeuralSurfaces/forked_pykan/pykan/kan/KAN.py:344: UserWarning:\n",
      "\n",
      "std(): degrees of freedom is <= 0. Correction should be strictly less than the reduction factor (input numel divided by output numel). (Triggered internally at /Users/runner/work/pytorch/pytorch/pytorch/aten/src/ATen/native/ReduceOps.cpp:1760.)\n",
      "\n"
     ]
    },
    {
     "name": "stdout",
     "output_type": "stream",
     "text": [
      "1998261.16*(-0.4*(0.03 - x_2)**3 + (-x_1 - 0.05)**4)**2 - 1.62\n",
      "sampled_index 3 exp  4 signature  tensor([[ 1.4372e+00, -7.6456e+02, -2.8623e+02,  1.3813e+03,  1.7161e+02,\n",
      "         -6.2357e+04]], grad_fn=<StackBackward0>)\n"
     ]
    },
    {
     "name": "stderr",
     "output_type": "stream",
     "text": [
      "train loss: 8.83e-02 | test loss: 1.00e-01 | reg: 4.34e+00 : 100%|██| 20/20 [00:02<00:00,  9.89it/s]\n",
      "train loss: 1.06e-03 | test loss: 1.19e-01 | reg: 4.21e+00 : 100%|██| 50/50 [00:03<00:00, 16.51it/s]\n"
     ]
    },
    {
     "name": "stdout",
     "output_type": "stream",
     "text": [
      "r2 is 0.9836278557777405\n",
      "r2 is 0.9847585558891296\n",
      "r2 is 0.9042119383811951\n"
     ]
    },
    {
     "name": "stderr",
     "output_type": "stream",
     "text": [
      "train loss: 1.38e-03 | test loss: 3.72e-02 | reg: 1.52e+01 : 100%|██| 50/50 [00:01<00:00, 36.89it/s]\n",
      "/Users/gal.yona/Documents/MSc/Thesis/ImplicitNeuralSurfaces/forked_pykan/pykan/kan/KAN.py:344: UserWarning:\n",
      "\n",
      "std(): degrees of freedom is <= 0. Correction should be strictly less than the reduction factor (input numel divided by output numel). (Triggered internally at /Users/runner/work/pytorch/pytorch/pytorch/aten/src/ATen/native/ReduceOps.cpp:1760.)\n",
      "\n"
     ]
    },
    {
     "name": "stdout",
     "output_type": "stream",
     "text": [
      "0.38 - 259997.08*(-0.47*(0.03 - x_2)**3 + (-x_1 - 0.06)**4)**2\n",
      "sampled_index 3 exp  5 signature  tensor([[ 5.0694e+00, -4.8801e+02,  8.0829e+01,  1.9131e+02, -1.6236e+03,\n",
      "         -1.4931e+04]], grad_fn=<StackBackward0>)\n"
     ]
    },
    {
     "name": "stderr",
     "output_type": "stream",
     "text": [
      "train loss: 7.99e-02 | test loss: 9.25e-02 | reg: 3.98e+00 : 100%|██| 20/20 [00:02<00:00,  9.83it/s]\n",
      "train loss: 1.06e-03 | test loss: 1.69e-01 | reg: 3.59e+00 : 100%|██| 50/50 [00:02<00:00, 17.48it/s]\n"
     ]
    },
    {
     "name": "stdout",
     "output_type": "stream",
     "text": [
      "r2 is 0.9795134663581848\n",
      "r2 is 0.9735131859779358\n",
      "r2 is 0.8886640071868896\n",
      "r2 is not very high, please double check if you are choosing the correct symbolic function.\n"
     ]
    },
    {
     "name": "stderr",
     "output_type": "stream",
     "text": [
      "train loss: 5.15e-03 | test loss: 1.60e-01 | reg: 4.28e+00 : 100%|██| 50/50 [00:00<00:00, 53.71it/s]\n",
      "/Users/gal.yona/Documents/MSc/Thesis/ImplicitNeuralSurfaces/forked_pykan/pykan/kan/KAN.py:344: UserWarning:\n",
      "\n",
      "std(): degrees of freedom is <= 0. Correction should be strictly less than the reduction factor (input numel divided by output numel). (Triggered internally at /Users/runner/work/pytorch/pytorch/pytorch/aten/src/ATen/native/ReduceOps.cpp:1760.)\n",
      "\n"
     ]
    },
    {
     "name": "stdout",
     "output_type": "stream",
     "text": [
      "2584348.71*(-0.42*(0.03 - x_2)**3 + (-x_1 - 0.06)**4)**2 - 0.96\n",
      "sampled_index 3 exp  6 signature  tensor([[ 1.1284e+00, -6.6344e+02, -2.6278e+02,  1.2064e+03,  8.0703e+02,\n",
      "         -4.9956e+04]], grad_fn=<StackBackward0>)\n"
     ]
    },
    {
     "name": "stderr",
     "output_type": "stream",
     "text": [
      "train loss: 8.27e-02 | test loss: 9.52e-02 | reg: 4.18e+00 : 100%|██| 20/20 [00:01<00:00, 10.08it/s]\n",
      "train loss: 9.62e-04 | test loss: 1.52e-01 | reg: 3.73e+00 : 100%|██| 50/50 [00:03<00:00, 16.03it/s]\n"
     ]
    },
    {
     "name": "stdout",
     "output_type": "stream",
     "text": [
      "r2 is 0.9792377352714539\n",
      "r2 is 0.9815318584442139\n",
      "r2 is 0.942370593547821\n"
     ]
    },
    {
     "name": "stderr",
     "output_type": "stream",
     "text": [
      "train loss: 1.28e-03 | test loss: 4.93e-02 | reg: 7.71e+00 : 100%|██| 50/50 [00:01<00:00, 28.47it/s]\n",
      "/Users/gal.yona/Documents/MSc/Thesis/ImplicitNeuralSurfaces/forked_pykan/pykan/kan/KAN.py:344: UserWarning:\n",
      "\n",
      "std(): degrees of freedom is <= 0. Correction should be strictly less than the reduction factor (input numel divided by output numel). (Triggered internally at /Users/runner/work/pytorch/pytorch/pytorch/aten/src/ATen/native/ReduceOps.cpp:1760.)\n",
      "\n"
     ]
    },
    {
     "name": "stdout",
     "output_type": "stream",
     "text": [
      "0.03 - 463463.02*(-0.61*(0.05 - x_2)**3 + (-x_1 - 0.1)**4)**2\n",
      "sampled_index 3 exp  7 signature  tensor([[    4.8685,  -243.5542,   -60.1941,   333.6314, -2095.4373, -4164.4233]],\n",
      "       grad_fn=<StackBackward0>)\n"
     ]
    },
    {
     "name": "stderr",
     "output_type": "stream",
     "text": [
      "train loss: 8.26e-02 | test loss: 9.45e-02 | reg: 4.06e+00 : 100%|██| 20/20 [00:02<00:00,  9.99it/s]\n",
      "train loss: 1.06e-03 | test loss: 1.68e-01 | reg: 4.17e+00 : 100%|██| 50/50 [00:02<00:00, 16.73it/s]\n"
     ]
    },
    {
     "name": "stdout",
     "output_type": "stream",
     "text": [
      "r2 is 0.9769395589828491\n",
      "r2 is 0.9680989384651184\n",
      "r2 is 0.8851639032363892\n",
      "r2 is not very high, please double check if you are choosing the correct symbolic function.\n"
     ]
    },
    {
     "name": "stderr",
     "output_type": "stream",
     "text": [
      "train loss: 1.47e-03 | test loss: 3.24e-02 | reg: 1.01e+01 : 100%|██| 50/50 [00:01<00:00, 27.72it/s]\n",
      "/Users/gal.yona/Documents/MSc/Thesis/ImplicitNeuralSurfaces/forked_pykan/pykan/kan/KAN.py:344: UserWarning:\n",
      "\n",
      "std(): degrees of freedom is <= 0. Correction should be strictly less than the reduction factor (input numel divided by output numel). (Triggered internally at /Users/runner/work/pytorch/pytorch/pytorch/aten/src/ATen/native/ReduceOps.cpp:1760.)\n",
      "\n"
     ]
    },
    {
     "name": "stdout",
     "output_type": "stream",
     "text": [
      "450381.51*(-0.41*(0.03 - x_2)**3 + (-x_1 - 0.06)**4)**2 - 0.29\n",
      "sampled_index 3 exp  8 signature  tensor([[ 4.9856e+00, -5.2513e+02,  1.6449e+02,  3.1806e+01,  3.6356e+03,\n",
      "         -1.2453e+04]], grad_fn=<StackBackward0>)\n"
     ]
    },
    {
     "name": "stderr",
     "output_type": "stream",
     "text": [
      "train loss: 8.19e-02 | test loss: 9.70e-02 | reg: 4.21e+00 : 100%|██| 20/20 [00:01<00:00, 10.07it/s]\n",
      "train loss: 1.06e-03 | test loss: 1.69e-01 | reg: 3.85e+00 : 100%|██| 50/50 [00:02<00:00, 18.94it/s]\n"
     ]
    },
    {
     "name": "stdout",
     "output_type": "stream",
     "text": [
      "r2 is 0.9775623679161072\n",
      "r2 is 0.9687968492507935\n",
      "r2 is 0.8747432231903076\n",
      "r2 is not very high, please double check if you are choosing the correct symbolic function.\n"
     ]
    },
    {
     "name": "stderr",
     "output_type": "stream",
     "text": [
      "train loss: 3.35e-03 | test loss: 9.23e-02 | reg: 3.58e+00 : 100%|██| 50/50 [00:00<00:00, 52.77it/s]\n",
      "/Users/gal.yona/Documents/MSc/Thesis/ImplicitNeuralSurfaces/forked_pykan/pykan/kan/KAN.py:344: UserWarning:\n",
      "\n",
      "std(): degrees of freedom is <= 0. Correction should be strictly less than the reduction factor (input numel divided by output numel). (Triggered internally at /Users/runner/work/pytorch/pytorch/pytorch/aten/src/ATen/native/ReduceOps.cpp:1760.)\n",
      "\n"
     ]
    },
    {
     "name": "stdout",
     "output_type": "stream",
     "text": [
      "1750979.18*(-0.46*(0.02 - x_2)**3 + (-x_1 - 0.05)**4)**2 - 0.88\n",
      "sampled_index 3 exp  9 signature  tensor([[ 7.8729e+00, -1.1128e+03, -1.0505e+02,  1.5540e+03, -2.1693e+04,\n",
      "         -8.1257e+04]], grad_fn=<StackBackward0>)\n",
      "4\n",
      "Number of vertices: 106712\n",
      "torch.Size([145, 2]) torch.Size([145, 1])\n"
     ]
    },
    {
     "name": "stderr",
     "output_type": "stream",
     "text": [
      "train loss: 3.95e-02 | test loss: 4.56e-02 | reg: 2.69e+00 : 100%|██| 20/20 [00:02<00:00,  9.59it/s]\n",
      "train loss: 1.80e-03 | test loss: 3.49e-03 | reg: 2.26e+00 : 100%|██| 50/50 [00:03<00:00, 16.10it/s]\n"
     ]
    },
    {
     "name": "stdout",
     "output_type": "stream",
     "text": [
      "Best value at boundary.\n",
      "r2 is 0.7459928393363953\n",
      "r2 is not very high, please double check if you are choosing the correct symbolic function.\n",
      "r2 is 0.969240665435791\n",
      "Best value at boundary.\n",
      "r2 is 0.7348490357398987\n",
      "r2 is not very high, please double check if you are choosing the correct symbolic function.\n"
     ]
    },
    {
     "name": "stderr",
     "output_type": "stream",
     "text": [
      "train loss: 2.75e-03 | test loss: 3.64e-03 | reg: 3.52e+00 : 100%|██| 50/50 [00:00<00:00, 65.95it/s]\n",
      "/Users/gal.yona/Documents/MSc/Thesis/ImplicitNeuralSurfaces/forked_pykan/pykan/kan/KAN.py:344: UserWarning:\n",
      "\n",
      "std(): degrees of freedom is <= 0. Correction should be strictly less than the reduction factor (input numel divided by output numel). (Triggered internally at /Users/runner/work/pytorch/pytorch/pytorch/aten/src/ATen/native/ReduceOps.cpp:1760.)\n",
      "\n"
     ]
    },
    {
     "name": "stdout",
     "output_type": "stream",
     "text": [
      "-36091295.73*x_1**8\n",
      "sampled_index 4 exp  0 signature  tensor([[2.0016e-01, 1.4298e-08, 8.1901e-03, 1.4123e+00, 6.5574e-03, 5.7434e-07]],\n",
      "       grad_fn=<StackBackward0>)\n"
     ]
    },
    {
     "name": "stderr",
     "output_type": "stream",
     "text": [
      "train loss: 2.85e-02 | test loss: 3.29e-02 | reg: 2.53e+00 : 100%|██| 20/20 [00:02<00:00,  9.84it/s]\n",
      "train loss: 1.78e-03 | test loss: 2.72e-03 | reg: 1.61e+00 : 100%|██| 50/50 [00:02<00:00, 21.32it/s]\n"
     ]
    },
    {
     "name": "stdout",
     "output_type": "stream",
     "text": [
      "Best value at boundary.\n",
      "r2 is 0.7451667189598083\n",
      "r2 is not very high, please double check if you are choosing the correct symbolic function.\n",
      "Best value at boundary.\n",
      "r2 is 0.9764038920402527\n",
      "Best value at boundary.\n",
      "r2 is 0.6709306836128235\n",
      "r2 is not very high, please double check if you are choosing the correct symbolic function.\n"
     ]
    },
    {
     "name": "stderr",
     "output_type": "stream",
     "text": [
      "train loss: 2.37e-03 | test loss: 3.14e-03 | reg: 3.45e+00 : 100%|██| 50/50 [00:01<00:00, 29.10it/s]\n",
      "/Users/gal.yona/Documents/MSc/Thesis/ImplicitNeuralSurfaces/forked_pykan/pykan/kan/KAN.py:344: UserWarning:\n",
      "\n",
      "std(): degrees of freedom is <= 0. Correction should be strictly less than the reduction factor (input numel divided by output numel). (Triggered internally at /Users/runner/work/pytorch/pytorch/pytorch/aten/src/ATen/native/ReduceOps.cpp:1760.)\n",
      "\n"
     ]
    },
    {
     "name": "stdout",
     "output_type": "stream",
     "text": [
      "0.04 - 2913000.83*x_1**8\n",
      "sampled_index 4 exp  1 signature  tensor([[ 5.1654e-02,  2.3541e-03, -3.3049e-02, -2.3532e+01, -4.6780e-03,\n",
      "         -1.5971e+00]], grad_fn=<StackBackward0>)\n"
     ]
    },
    {
     "name": "stderr",
     "output_type": "stream",
     "text": [
      "train loss: 2.85e-02 | test loss: 3.14e-02 | reg: 2.57e+00 : 100%|██| 20/20 [00:02<00:00,  9.83it/s]\n",
      "train loss: 1.80e-03 | test loss: 3.49e-03 | reg: 2.27e+00 : 100%|██| 50/50 [00:03<00:00, 16.57it/s]\n"
     ]
    },
    {
     "name": "stdout",
     "output_type": "stream",
     "text": [
      "Best value at boundary.\n",
      "r2 is 0.7510765790939331\n",
      "r2 is not very high, please double check if you are choosing the correct symbolic function.\n",
      "r2 is 0.9730205535888672\n",
      "Best value at boundary.\n",
      "r2 is 0.7132415771484375\n",
      "r2 is not very high, please double check if you are choosing the correct symbolic function.\n"
     ]
    },
    {
     "name": "stderr",
     "output_type": "stream",
     "text": [
      "train loss: 2.44e-03 | test loss: 3.25e-03 | reg: 3.86e+00 : 100%|██| 50/50 [00:01<00:00, 44.06it/s]\n",
      "/Users/gal.yona/Documents/MSc/Thesis/ImplicitNeuralSurfaces/forked_pykan/pykan/kan/KAN.py:344: UserWarning:\n",
      "\n",
      "std(): degrees of freedom is <= 0. Correction should be strictly less than the reduction factor (input numel divided by output numel). (Triggered internally at /Users/runner/work/pytorch/pytorch/pytorch/aten/src/ATen/native/ReduceOps.cpp:1760.)\n",
      "\n"
     ]
    },
    {
     "name": "stdout",
     "output_type": "stream",
     "text": [
      "-24725020.54*x_1**8\n",
      "sampled_index 4 exp  2 signature  tensor([[ 5.7179e-02,  3.1465e-03, -1.4300e+01,  3.5427e-01, -1.9524e+00,\n",
      "          4.3103e-02]], grad_fn=<StackBackward0>)\n"
     ]
    },
    {
     "name": "stderr",
     "output_type": "stream",
     "text": [
      "train loss: 3.29e-02 | test loss: 3.69e-02 | reg: 2.73e+00 : 100%|██| 20/20 [00:02<00:00,  9.75it/s]\n",
      "train loss: 1.83e-03 | test loss: 3.54e-03 | reg: 2.00e+00 : 100%|██| 50/50 [00:02<00:00, 16.82it/s]\n"
     ]
    },
    {
     "name": "stdout",
     "output_type": "stream",
     "text": [
      "Best value at boundary.\n",
      "r2 is 0.7439343929290771\n",
      "r2 is not very high, please double check if you are choosing the correct symbolic function.\n",
      "r2 is 0.9738131761550903\n",
      "Best value at boundary.\n",
      "r2 is 0.7555254101753235\n",
      "r2 is not very high, please double check if you are choosing the correct symbolic function.\n"
     ]
    },
    {
     "name": "stderr",
     "output_type": "stream",
     "text": [
      "train loss: 2.37e-03 | test loss: 3.13e-03 | reg: 1.43e+01 : 100%|██| 50/50 [00:01<00:00, 28.43it/s]\n",
      "/Users/gal.yona/Documents/MSc/Thesis/ImplicitNeuralSurfaces/forked_pykan/pykan/kan/KAN.py:344: UserWarning:\n",
      "\n",
      "std(): degrees of freedom is <= 0. Correction should be strictly less than the reduction factor (input numel divided by output numel). (Triggered internally at /Users/runner/work/pytorch/pytorch/pytorch/aten/src/ATen/native/ReduceOps.cpp:1760.)\n",
      "\n"
     ]
    },
    {
     "name": "stdout",
     "output_type": "stream",
     "text": [
      "0.09 - 1192872.43*x_1**8\n",
      "sampled_index 4 exp  3 signature  tensor([[ 5.1683e-02,  2.1256e-03, -2.3102e-02, -2.4778e+01, -3.4771e-03,\n",
      "         -1.4038e+00]], grad_fn=<StackBackward0>)\n"
     ]
    },
    {
     "name": "stderr",
     "output_type": "stream",
     "text": [
      "train loss: 3.01e-02 | test loss: 3.26e-02 | reg: 2.49e+00 : 100%|██| 20/20 [00:02<00:00,  9.76it/s]\n",
      "train loss: 1.81e-03 | test loss: 3.71e-03 | reg: 2.22e+00 : 100%|██| 50/50 [00:03<00:00, 16.27it/s]\n"
     ]
    },
    {
     "name": "stdout",
     "output_type": "stream",
     "text": [
      "Best value at boundary.\n",
      "r2 is 0.7652198672294617\n",
      "r2 is not very high, please double check if you are choosing the correct symbolic function.\n",
      "r2 is 0.9640370011329651\n",
      "Best value at boundary.\n",
      "r2 is 0.7133913636207581\n",
      "r2 is not very high, please double check if you are choosing the correct symbolic function.\n"
     ]
    },
    {
     "name": "stderr",
     "output_type": "stream",
     "text": [
      "train loss: 2.37e-03 | test loss: 3.13e-03 | reg: 7.25e+00 : 100%|██| 50/50 [00:02<00:00, 23.73it/s]\n",
      "/Users/gal.yona/Documents/MSc/Thesis/ImplicitNeuralSurfaces/forked_pykan/pykan/kan/KAN.py:344: UserWarning:\n",
      "\n",
      "std(): degrees of freedom is <= 0. Correction should be strictly less than the reduction factor (input numel divided by output numel). (Triggered internally at /Users/runner/work/pytorch/pytorch/pytorch/aten/src/ATen/native/ReduceOps.cpp:1760.)\n",
      "\n"
     ]
    },
    {
     "name": "stdout",
     "output_type": "stream",
     "text": [
      "0.11 - 1085616.53*x_1**8\n",
      "sampled_index 4 exp  4 signature  tensor([[ 4.5438e-02,  1.2198e-03, -8.6230e-03, -2.4747e+01, -1.2579e-03,\n",
      "         -8.1034e-01]], grad_fn=<StackBackward0>)\n"
     ]
    },
    {
     "name": "stderr",
     "output_type": "stream",
     "text": [
      "train loss: 2.51e-02 | test loss: 2.78e-02 | reg: 2.37e+00 : 100%|██| 20/20 [00:02<00:00,  9.75it/s]\n",
      "train loss: 1.81e-03 | test loss: 3.79e-03 | reg: 1.84e+00 : 100%|██| 50/50 [00:02<00:00, 16.72it/s]\n"
     ]
    },
    {
     "name": "stdout",
     "output_type": "stream",
     "text": [
      "Best value at boundary.\n",
      "r2 is 0.7574505805969238\n",
      "r2 is not very high, please double check if you are choosing the correct symbolic function.\n",
      "r2 is 0.9714689254760742\n",
      "Best value at boundary.\n",
      "r2 is 0.6437913775444031\n",
      "r2 is not very high, please double check if you are choosing the correct symbolic function.\n"
     ]
    },
    {
     "name": "stderr",
     "output_type": "stream",
     "text": [
      "train loss: 2.42e-03 | test loss: 3.23e-03 | reg: 3.41e+00 : 100%|██| 50/50 [00:01<00:00, 44.61it/s]\n",
      "/Users/gal.yona/Documents/MSc/Thesis/ImplicitNeuralSurfaces/forked_pykan/pykan/kan/KAN.py:344: UserWarning:\n",
      "\n",
      "std(): degrees of freedom is <= 0. Correction should be strictly less than the reduction factor (input numel divided by output numel). (Triggered internally at /Users/runner/work/pytorch/pytorch/pytorch/aten/src/ATen/native/ReduceOps.cpp:1760.)\n",
      "\n"
     ]
    },
    {
     "name": "stdout",
     "output_type": "stream",
     "text": [
      "-20270188.79*x_1**8\n",
      "sampled_index 4 exp  5 signature  tensor([[ 4.1500e-02,  1.7069e-03,  8.3245e-02, -1.5458e+01,  5.3714e-03,\n",
      "         -1.1620e+00]], grad_fn=<StackBackward0>)\n"
     ]
    },
    {
     "name": "stderr",
     "output_type": "stream",
     "text": [
      "train loss: 2.85e-02 | test loss: 3.13e-02 | reg: 2.42e+00 : 100%|██| 20/20 [00:02<00:00,  9.62it/s]\n",
      "train loss: 1.80e-03 | test loss: 3.26e-03 | reg: 1.80e+00 : 100%|██| 50/50 [00:03<00:00, 15.88it/s]\n"
     ]
    },
    {
     "name": "stdout",
     "output_type": "stream",
     "text": [
      "Best value at boundary.\n",
      "r2 is 0.7568028569221497\n",
      "r2 is not very high, please double check if you are choosing the correct symbolic function.\n",
      "r2 is 0.9623757600784302\n",
      "Best value at boundary.\n",
      "r2 is 0.7398947477340698\n",
      "r2 is not very high, please double check if you are choosing the correct symbolic function.\n"
     ]
    },
    {
     "name": "stderr",
     "output_type": "stream",
     "text": [
      "train loss: 2.43e-03 | test loss: 3.22e-03 | reg: 3.40e+00 : 100%|██| 50/50 [00:01<00:00, 33.32it/s]\n",
      "/Users/gal.yona/Documents/MSc/Thesis/ImplicitNeuralSurfaces/forked_pykan/pykan/kan/KAN.py:344: UserWarning:\n",
      "\n",
      "std(): degrees of freedom is <= 0. Correction should be strictly less than the reduction factor (input numel divided by output numel). (Triggered internally at /Users/runner/work/pytorch/pytorch/pytorch/aten/src/ATen/native/ReduceOps.cpp:1760.)\n",
      "\n"
     ]
    },
    {
     "name": "stdout",
     "output_type": "stream",
     "text": [
      "-20663222.16*x_1**8\n",
      "sampled_index 4 exp  6 signature  tensor([[ 5.8037e-02,  3.3359e-03,  1.6590e-01, -1.7726e+01,  1.5415e-02,\n",
      "         -1.8557e+00]], grad_fn=<StackBackward0>)\n"
     ]
    },
    {
     "name": "stderr",
     "output_type": "stream",
     "text": [
      "train loss: 2.69e-02 | test loss: 3.14e-02 | reg: 2.64e+00 : 100%|██| 20/20 [00:02<00:00,  9.90it/s]\n",
      "train loss: 1.80e-03 | test loss: 3.37e-03 | reg: 2.00e+00 : 100%|██| 50/50 [00:03<00:00, 16.49it/s]\n"
     ]
    },
    {
     "name": "stdout",
     "output_type": "stream",
     "text": [
      "Best value at boundary.\n",
      "r2 is 0.7523936033248901\n",
      "r2 is not very high, please double check if you are choosing the correct symbolic function.\n",
      "r2 is 0.9737740159034729\n",
      "Best value at boundary.\n",
      "r2 is 0.751497209072113\n",
      "r2 is not very high, please double check if you are choosing the correct symbolic function.\n"
     ]
    },
    {
     "name": "stderr",
     "output_type": "stream",
     "text": [
      "train loss: 2.75e-03 | test loss: 3.64e-03 | reg: 3.22e+00 : 100%|██| 50/50 [00:00<00:00, 58.04it/s]\n",
      "/Users/gal.yona/Documents/MSc/Thesis/ImplicitNeuralSurfaces/forked_pykan/pykan/kan/KAN.py:344: UserWarning:\n",
      "\n",
      "std(): degrees of freedom is <= 0. Correction should be strictly less than the reduction factor (input numel divided by output numel). (Triggered internally at /Users/runner/work/pytorch/pytorch/pytorch/aten/src/ATen/native/ReduceOps.cpp:1760.)\n",
      "\n"
     ]
    },
    {
     "name": "stdout",
     "output_type": "stream",
     "text": [
      "-34599375.47*x_1**8\n",
      "sampled_index 4 exp  7 signature  tensor([[2.0521e-01, 1.8694e-08, 9.9413e-03, 4.5397e-01, 8.1600e-03, 5.8524e-07]],\n",
      "       grad_fn=<StackBackward0>)\n"
     ]
    },
    {
     "name": "stderr",
     "output_type": "stream",
     "text": [
      "train loss: 2.64e-02 | test loss: 2.93e-02 | reg: 2.60e+00 : 100%|██| 20/20 [00:02<00:00,  9.78it/s]\n",
      "train loss: 5.36e-04 | test loss: 1.89e-03 | reg: 2.12e+00 : 100%|██| 50/50 [00:02<00:00, 17.38it/s]\n"
     ]
    },
    {
     "name": "stdout",
     "output_type": "stream",
     "text": [
      "r2 is 0.9710679054260254\n",
      "r2 is 0.9952707290649414\n",
      "Best value at boundary.\n",
      "r2 is 0.6167734265327454\n",
      "r2 is not very high, please double check if you are choosing the correct symbolic function.\n"
     ]
    },
    {
     "name": "stderr",
     "output_type": "stream",
     "text": [
      "train loss: 2.00e-03 | test loss: 2.01e-03 | reg: 2.43e+00 : 100%|██| 50/50 [00:00<00:00, 77.67it/s]\n",
      "/Users/gal.yona/Documents/MSc/Thesis/ImplicitNeuralSurfaces/forked_pykan/pykan/kan/KAN.py:344: UserWarning:\n",
      "\n",
      "std(): degrees of freedom is <= 0. Correction should be strictly less than the reduction factor (input numel divided by output numel). (Triggered internally at /Users/runner/work/pytorch/pytorch/pytorch/aten/src/ATen/native/ReduceOps.cpp:1760.)\n",
      "\n"
     ]
    },
    {
     "name": "stdout",
     "output_type": "stream",
     "text": [
      "-1.88*(-0.7*(1 - 0.3*x_1)**4 - (-x_2 - 0.45)**3 + 0.62)**2\n",
      "sampled_index 4 exp  8 signature  tensor([[  2.0776,   0.0896,  -6.4783,  -5.0413,  -0.0443, -24.5458]],\n",
      "       grad_fn=<StackBackward0>)\n"
     ]
    },
    {
     "name": "stderr",
     "output_type": "stream",
     "text": [
      "train loss: 3.50e-02 | test loss: 3.87e-02 | reg: 2.69e+00 : 100%|██| 20/20 [00:01<00:00, 10.01it/s]\n",
      "train loss: 1.81e-03 | test loss: 3.64e-03 | reg: 1.59e+00 : 100%|██| 50/50 [00:02<00:00, 16.90it/s]\n"
     ]
    },
    {
     "name": "stdout",
     "output_type": "stream",
     "text": [
      "Best value at boundary.\n",
      "r2 is 0.7513001561164856\n",
      "r2 is not very high, please double check if you are choosing the correct symbolic function.\n",
      "r2 is 0.9749033451080322\n",
      "Best value at boundary.\n",
      "r2 is 0.7122089266777039\n",
      "r2 is not very high, please double check if you are choosing the correct symbolic function.\n"
     ]
    },
    {
     "name": "stderr",
     "output_type": "stream",
     "text": [
      "train loss: 2.73e-03 | test loss: 3.57e-03 | reg: 3.06e+00 : 100%|██| 50/50 [00:00<00:00, 64.38it/s]\n",
      "/Users/gal.yona/Documents/MSc/Thesis/ImplicitNeuralSurfaces/forked_pykan/pykan/kan/KAN.py:344: UserWarning:\n",
      "\n",
      "std(): degrees of freedom is <= 0. Correction should be strictly less than the reduction factor (input numel divided by output numel). (Triggered internally at /Users/runner/work/pytorch/pytorch/pytorch/aten/src/ATen/native/ReduceOps.cpp:1760.)\n",
      "\n"
     ]
    },
    {
     "name": "stdout",
     "output_type": "stream",
     "text": [
      "-30165283.97*x_1**8\n",
      "sampled_index 4 exp  9 signature  tensor([[1.7131e-01, 2.6664e-08, 1.4340e-02, 5.9993e-01, 9.8261e-03, 6.2764e-07]],\n",
      "       grad_fn=<StackBackward0>)\n",
      "5\n",
      "Number of vertices: 106712\n",
      "torch.Size([148, 2]) torch.Size([148, 1])\n"
     ]
    },
    {
     "name": "stderr",
     "output_type": "stream",
     "text": [
      "train loss: 1.99e-02 | test loss: 2.04e-02 | reg: 2.47e+00 : 100%|██| 20/20 [00:02<00:00,  9.86it/s]\n",
      "train loss: 5.32e-03 | test loss: 6.20e-01 | reg: 3.35e+00 : 100%|██| 50/50 [00:02<00:00, 17.24it/s]\n"
     ]
    },
    {
     "name": "stdout",
     "output_type": "stream",
     "text": [
      "r2 is 0.9556350111961365\n",
      "r2 is 0.9759396910667419\n",
      "r2 is 0.7061682343482971\n",
      "r2 is not very high, please double check if you are choosing the correct symbolic function.\n"
     ]
    },
    {
     "name": "stderr",
     "output_type": "stream",
     "text": [
      "train loss: 7.21e-03 | test loss: 1.22e-02 | reg: 1.98e+01 : 100%|██| 50/50 [00:00<00:00, 68.47it/s]\n",
      "/Users/gal.yona/Documents/MSc/Thesis/ImplicitNeuralSurfaces/forked_pykan/pykan/kan/KAN.py:344: UserWarning:\n",
      "\n",
      "std(): degrees of freedom is <= 0. Correction should be strictly less than the reduction factor (input numel divided by output numel). (Triggered internally at /Users/runner/work/pytorch/pytorch/pytorch/aten/src/ATen/native/ReduceOps.cpp:1760.)\n",
      "\n"
     ]
    },
    {
     "name": "stdout",
     "output_type": "stream",
     "text": [
      "1091670.54*((0.07 - x_1)**4 + 0.01*(-x_2 - 0.17)**3)**2 - 0.e-2\n",
      "sampled_index 5 exp  0 signature  tensor([[-2.7201e+00, -2.4570e-01, -2.6267e+02,  1.0403e+02,  1.3970e+02,\n",
      "         -2.4864e-01]], grad_fn=<StackBackward0>)\n"
     ]
    },
    {
     "name": "stderr",
     "output_type": "stream",
     "text": [
      "train loss: 2.28e-02 | test loss: 2.02e-02 | reg: 2.56e+00 : 100%|██| 20/20 [00:02<00:00,  9.80it/s]\n",
      "train loss: 5.44e-03 | test loss: 8.42e-02 | reg: 3.86e+00 : 100%|██| 50/50 [00:03<00:00, 15.38it/s]\n"
     ]
    },
    {
     "name": "stdout",
     "output_type": "stream",
     "text": [
      "Best value at boundary.\n",
      "r2 is 0.7061278820037842\n",
      "r2 is not very high, please double check if you are choosing the correct symbolic function.\n",
      "Best value at boundary.\n",
      "r2 is 0.8160387873649597\n",
      "r2 is not very high, please double check if you are choosing the correct symbolic function.\n",
      "Best value at boundary.\n",
      "r2 is 0.42370760440826416\n",
      "r2 is not very high, please double check if you are choosing the correct symbolic function.\n"
     ]
    },
    {
     "name": "stderr",
     "output_type": "stream",
     "text": [
      "train loss: 6.88e-03 | test loss: 1.42e-02 | reg: 4.55e+01 : 100%|██| 50/50 [00:01<00:00, 30.29it/s]\n",
      "/Users/gal.yona/Documents/MSc/Thesis/ImplicitNeuralSurfaces/forked_pykan/pykan/kan/KAN.py:344: UserWarning:\n",
      "\n",
      "std(): degrees of freedom is <= 0. Correction should be strictly less than the reduction factor (input numel divided by output numel). (Triggered internally at /Users/runner/work/pytorch/pytorch/pytorch/aten/src/ATen/native/ReduceOps.cpp:1760.)\n",
      "\n"
     ]
    },
    {
     "name": "stdout",
     "output_type": "stream",
     "text": [
      "23940478.09*((0.01 - x_1)**4 + 0.01*(-x_2 - 0.01)**3)**2 - 0.27\n",
      "sampled_index 5 exp  1 signature  tensor([[ 1.2640e-01, -3.7130e+00, -3.3081e+02,  7.7938e+01, -1.3612e+03,\n",
      "         -2.8093e+02]], grad_fn=<StackBackward0>)\n"
     ]
    },
    {
     "name": "stderr",
     "output_type": "stream",
     "text": [
      "train loss: 2.17e-02 | test loss: 2.04e-02 | reg: 2.43e+00 : 100%|██| 20/20 [00:02<00:00,  9.48it/s]\n",
      "train loss: 5.38e-03 | test loss: 3.80e-01 | reg: 7.67e+00 : 100%|██| 50/50 [00:03<00:00, 16.49it/s]\n"
     ]
    },
    {
     "name": "stdout",
     "output_type": "stream",
     "text": [
      "r2 is 0.9481680393218994\n",
      "Best value at boundary.\n",
      "r2 is 0.9645771384239197\n",
      "Best value at boundary.\n",
      "r2 is 0.46786993741989136\n",
      "r2 is not very high, please double check if you are choosing the correct symbolic function.\n"
     ]
    },
    {
     "name": "stderr",
     "output_type": "stream",
     "text": [
      "train loss: 7.05e-03 | test loss: 1.79e-02 | reg: 2.30e+01 : 100%|██| 50/50 [00:01<00:00, 45.07it/s]\n",
      "/Users/gal.yona/Documents/MSc/Thesis/ImplicitNeuralSurfaces/forked_pykan/pykan/kan/KAN.py:344: UserWarning:\n",
      "\n",
      "std(): degrees of freedom is <= 0. Correction should be strictly less than the reduction factor (input numel divided by output numel). (Triggered internally at /Users/runner/work/pytorch/pytorch/pytorch/aten/src/ATen/native/ReduceOps.cpp:1760.)\n",
      "\n"
     ]
    },
    {
     "name": "stdout",
     "output_type": "stream",
     "text": [
      "582661.0*((0.07 - x_1)**4 - 0.e-2*(-x_2 - 0.24)**3)**2 - 0.03\n",
      "sampled_index 5 exp  2 signature  tensor([[  -7.6058,   33.8897, -186.1437,   20.8442,  939.6159, -357.9476]],\n",
      "       grad_fn=<StackBackward0>)\n"
     ]
    },
    {
     "name": "stderr",
     "output_type": "stream",
     "text": [
      "train loss: 2.08e-02 | test loss: 1.90e-02 | reg: 2.34e+00 : 100%|██| 20/20 [00:02<00:00,  9.04it/s]\n",
      "train loss: 5.43e-03 | test loss: 1.29e-01 | reg: 4.03e+00 : 100%|██| 50/50 [00:02<00:00, 17.19it/s]\n"
     ]
    },
    {
     "name": "stdout",
     "output_type": "stream",
     "text": [
      "Best value at boundary.\n",
      "r2 is 0.7167903184890747\n",
      "r2 is not very high, please double check if you are choosing the correct symbolic function.\n",
      "r2 is 0.808262825012207\n",
      "r2 is not very high, please double check if you are choosing the correct symbolic function.\n",
      "Best value at boundary.\n",
      "r2 is 0.45578843355178833\n",
      "r2 is not very high, please double check if you are choosing the correct symbolic function.\n"
     ]
    },
    {
     "name": "stderr",
     "output_type": "stream",
     "text": [
      "train loss: 6.87e-03 | test loss: 1.43e-02 | reg: 4.74e+01 : 100%|██| 50/50 [00:01<00:00, 37.08it/s]\n",
      "/Users/gal.yona/Documents/MSc/Thesis/ImplicitNeuralSurfaces/forked_pykan/pykan/kan/KAN.py:344: UserWarning:\n",
      "\n",
      "std(): degrees of freedom is <= 0. Correction should be strictly less than the reduction factor (input numel divided by output numel). (Triggered internally at /Users/runner/work/pytorch/pytorch/pytorch/aten/src/ATen/native/ReduceOps.cpp:1760.)\n",
      "\n"
     ]
    },
    {
     "name": "stdout",
     "output_type": "stream",
     "text": [
      "28010721.87*x_1**8 - 0.25\n",
      "sampled_index 5 exp  3 signature  tensor([[ 7.5796e-01, -4.3696e+00, -3.0404e+02,  6.8589e+01, -1.8130e+03,\n",
      "         -2.0002e+02]], grad_fn=<StackBackward0>)\n"
     ]
    },
    {
     "name": "stderr",
     "output_type": "stream",
     "text": [
      "train loss: 2.65e-02 | test loss: 2.21e-02 | reg: 2.58e+00 : 100%|██| 20/20 [00:02<00:00,  9.64it/s]\n",
      "train loss: 5.61e-03 | test loss: 5.35e-01 | reg: 4.46e+00 : 100%|██| 50/50 [00:02<00:00, 17.20it/s]\n"
     ]
    },
    {
     "name": "stdout",
     "output_type": "stream",
     "text": [
      "r2 is 0.9683675765991211\n",
      "r2 is 0.9773908853530884\n",
      "r2 is 0.7411766648292542\n",
      "r2 is not very high, please double check if you are choosing the correct symbolic function.\n"
     ]
    },
    {
     "name": "stderr",
     "output_type": "stream",
     "text": [
      "train loss: 6.83e-03 | test loss: 1.61e-02 | reg: 3.26e+01 : 100%|██| 50/50 [00:01<00:00, 33.55it/s]\n",
      "/Users/gal.yona/Documents/MSc/Thesis/ImplicitNeuralSurfaces/forked_pykan/pykan/kan/KAN.py:344: UserWarning:\n",
      "\n",
      "std(): degrees of freedom is <= 0. Correction should be strictly less than the reduction factor (input numel divided by output numel). (Triggered internally at /Users/runner/work/pytorch/pytorch/pytorch/aten/src/ATen/native/ReduceOps.cpp:1760.)\n",
      "\n"
     ]
    },
    {
     "name": "stdout",
     "output_type": "stream",
     "text": [
      "1475278.69*(0.04 - x_1)**8 - 0.12\n",
      "sampled_index 5 exp  4 signature  tensor([[  -6.8487,  -10.3812, -309.9600,   16.7656, -464.0565,   43.4541]],\n",
      "       grad_fn=<StackBackward0>)\n"
     ]
    },
    {
     "name": "stderr",
     "output_type": "stream",
     "text": [
      "train loss: 1.83e-02 | test loss: 1.93e-02 | reg: 2.67e+00 : 100%|██| 20/20 [00:01<00:00, 10.02it/s]\n",
      "train loss: 5.50e-03 | test loss: 5.18e-02 | reg: 3.23e+00 : 100%|██| 50/50 [00:03<00:00, 15.63it/s]\n"
     ]
    },
    {
     "name": "stdout",
     "output_type": "stream",
     "text": [
      "Best value at boundary.\n",
      "r2 is 0.7025864720344543\n",
      "r2 is not very high, please double check if you are choosing the correct symbolic function.\n",
      "r2 is 0.8048099279403687\n",
      "r2 is not very high, please double check if you are choosing the correct symbolic function.\n",
      "Best value at boundary.\n",
      "r2 is 0.40458419919013977\n",
      "r2 is not very high, please double check if you are choosing the correct symbolic function.\n"
     ]
    },
    {
     "name": "stderr",
     "output_type": "stream",
     "text": [
      "train loss: 6.86e-03 | test loss: 1.43e-02 | reg: 1.03e+02 : 100%|██| 50/50 [00:02<00:00, 24.20it/s]\n",
      "/Users/gal.yona/Documents/MSc/Thesis/ImplicitNeuralSurfaces/forked_pykan/pykan/kan/KAN.py:344: UserWarning:\n",
      "\n",
      "std(): degrees of freedom is <= 0. Correction should be strictly less than the reduction factor (input numel divided by output numel). (Triggered internally at /Users/runner/work/pytorch/pytorch/pytorch/aten/src/ATen/native/ReduceOps.cpp:1760.)\n",
      "\n"
     ]
    },
    {
     "name": "stdout",
     "output_type": "stream",
     "text": [
      "11387683.3*(0.01 - x_1)**8 - 0.61\n",
      "sampled_index 5 exp  5 signature  tensor([[ 4.1261e-01, -4.3583e+00, -3.2792e+02,  7.5385e+01, -1.6662e+03,\n",
      "         -2.5807e+02]], grad_fn=<StackBackward0>)\n"
     ]
    },
    {
     "name": "stderr",
     "output_type": "stream",
     "text": [
      "train loss: 1.91e-02 | test loss: 1.75e-02 | reg: 2.21e+00 : 100%|██| 20/20 [00:01<00:00, 10.12it/s]\n",
      "train loss: 5.30e-03 | test loss: 5.87e-01 | reg: 3.00e+00 : 100%|██| 50/50 [00:02<00:00, 17.11it/s]\n"
     ]
    },
    {
     "name": "stdout",
     "output_type": "stream",
     "text": [
      "r2 is 0.9537902474403381\n",
      "r2 is 0.9746926426887512\n",
      "Best value at boundary.\n",
      "r2 is 0.6408781409263611\n",
      "r2 is not very high, please double check if you are choosing the correct symbolic function.\n"
     ]
    },
    {
     "name": "stderr",
     "output_type": "stream",
     "text": [
      "train loss: 7.24e-03 | test loss: 1.23e-02 | reg: 1.74e+01 : 100%|██| 50/50 [00:00<00:00, 58.15it/s]\n",
      "/Users/gal.yona/Documents/MSc/Thesis/ImplicitNeuralSurfaces/forked_pykan/pykan/kan/KAN.py:344: UserWarning:\n",
      "\n",
      "std(): degrees of freedom is <= 0. Correction should be strictly less than the reduction factor (input numel divided by output numel). (Triggered internally at /Users/runner/work/pytorch/pytorch/pytorch/aten/src/ATen/native/ReduceOps.cpp:1760.)\n",
      "\n"
     ]
    },
    {
     "name": "stdout",
     "output_type": "stream",
     "text": [
      "1420568.9*((0.07 - x_1)**4 + 0.01*(-x_2 - 0.19)**3)**2 - 0.e-2\n",
      "sampled_index 5 exp  6 signature  tensor([[  -2.4846,   -0.3090, -245.6040,  104.8620,  163.0565,   -0.3224]],\n",
      "       grad_fn=<StackBackward0>)\n"
     ]
    },
    {
     "name": "stderr",
     "output_type": "stream",
     "text": [
      "train loss: 2.19e-02 | test loss: 2.06e-02 | reg: 2.57e+00 : 100%|██| 20/20 [00:01<00:00, 10.09it/s]\n",
      "train loss: 5.39e-03 | test loss: 1.60e-01 | reg: 4.23e+00 : 100%|██| 50/50 [00:02<00:00, 17.27it/s]\n"
     ]
    },
    {
     "name": "stdout",
     "output_type": "stream",
     "text": [
      "Best value at boundary.\n",
      "r2 is 0.7284852862358093\n",
      "r2 is not very high, please double check if you are choosing the correct symbolic function.\n",
      "r2 is 0.8035790324211121\n",
      "r2 is not very high, please double check if you are choosing the correct symbolic function.\n",
      "Best value at boundary.\n",
      "r2 is 0.31712257862091064\n",
      "r2 is not very high, please double check if you are choosing the correct symbolic function.\n"
     ]
    },
    {
     "name": "stderr",
     "output_type": "stream",
     "text": [
      "train loss: 6.86e-03 | test loss: 1.43e-02 | reg: 1.36e+02 : 100%|██| 50/50 [00:01<00:00, 25.96it/s]\n",
      "/Users/gal.yona/Documents/MSc/Thesis/ImplicitNeuralSurfaces/forked_pykan/pykan/kan/KAN.py:344: UserWarning:\n",
      "\n",
      "std(): degrees of freedom is <= 0. Correction should be strictly less than the reduction factor (input numel divided by output numel). (Triggered internally at /Users/runner/work/pytorch/pytorch/pytorch/aten/src/ATen/native/ReduceOps.cpp:1760.)\n",
      "\n"
     ]
    },
    {
     "name": "stdout",
     "output_type": "stream",
     "text": [
      "14121317.12*(0.01 - x_1)**8 - 0.5\n",
      "sampled_index 5 exp  7 signature  tensor([[ 5.3869e-01, -4.4329e+00, -3.2136e+02,  7.1518e+01, -1.7430e+03,\n",
      "         -2.3310e+02]], grad_fn=<StackBackward0>)\n"
     ]
    },
    {
     "name": "stderr",
     "output_type": "stream",
     "text": [
      "train loss: 2.30e-02 | test loss: 2.10e-02 | reg: 2.59e+00 : 100%|██| 20/20 [00:02<00:00,  9.87it/s]\n",
      "train loss: 5.31e-03 | test loss: 1.68e-01 | reg: 6.35e+00 : 100%|██| 50/50 [00:03<00:00, 16.60it/s]\n"
     ]
    },
    {
     "name": "stdout",
     "output_type": "stream",
     "text": [
      "r2 is 0.955073893070221\n",
      "r2 is 0.9695165157318115\n",
      "Best value at boundary.\n",
      "r2 is 0.4938880205154419\n",
      "r2 is not very high, please double check if you are choosing the correct symbolic function.\n"
     ]
    },
    {
     "name": "stderr",
     "output_type": "stream",
     "text": [
      "train loss: 7.26e-03 | test loss: 1.23e-02 | reg: 1.05e+01 : 100%|██| 50/50 [00:00<00:00, 55.19it/s]\n",
      "/Users/gal.yona/Documents/MSc/Thesis/ImplicitNeuralSurfaces/forked_pykan/pykan/kan/KAN.py:344: UserWarning:\n",
      "\n",
      "std(): degrees of freedom is <= 0. Correction should be strictly less than the reduction factor (input numel divided by output numel). (Triggered internally at /Users/runner/work/pytorch/pytorch/pytorch/aten/src/ATen/native/ReduceOps.cpp:1760.)\n",
      "\n"
     ]
    },
    {
     "name": "stdout",
     "output_type": "stream",
     "text": [
      "1524480.12*(0.07 - x_1)**8 - 0.e-2\n",
      "sampled_index 5 exp  8 signature  tensor([[  -2.3580,   -0.3806, -248.1493,  100.9408,  163.5196,   -0.6963]],\n",
      "       grad_fn=<StackBackward0>)\n"
     ]
    },
    {
     "name": "stderr",
     "output_type": "stream",
     "text": [
      "train loss: 2.19e-02 | test loss: 2.02e-02 | reg: 2.56e+00 : 100%|██| 20/20 [00:02<00:00,  9.96it/s]\n",
      "train loss: 5.32e-03 | test loss: 6.37e-01 | reg: 2.61e+00 : 100%|██| 50/50 [00:02<00:00, 17.20it/s]\n"
     ]
    },
    {
     "name": "stdout",
     "output_type": "stream",
     "text": [
      "r2 is 0.9588348269462585\n",
      "r2 is 0.9792921543121338\n",
      "r2 is 0.6789949536323547\n",
      "r2 is not very high, please double check if you are choosing the correct symbolic function.\n"
     ]
    },
    {
     "name": "stderr",
     "output_type": "stream",
     "text": [
      "train loss: 6.70e-03 | test loss: 1.54e-02 | reg: 1.20e+01 : 100%|██| 50/50 [00:02<00:00, 24.52it/s]\n",
      "/Users/gal.yona/Documents/MSc/Thesis/ImplicitNeuralSurfaces/forked_pykan/pykan/kan/KAN.py:344: UserWarning:\n",
      "\n",
      "std(): degrees of freedom is <= 0. Correction should be strictly less than the reduction factor (input numel divided by output numel). (Triggered internally at /Users/runner/work/pytorch/pytorch/pytorch/aten/src/ATen/native/ReduceOps.cpp:1760.)\n",
      "\n"
     ]
    },
    {
     "name": "stdout",
     "output_type": "stream",
     "text": [
      "76.46*((0.46 - x_1)**4 - 0.47*(-x_2 - 0.14)**3 - 0.04)**2 - 0.e-2\n",
      "sampled_index 5 exp  9 signature  tensor([[ -11.6487,    2.0211, -163.9610,   -7.8428,  561.5499,  -15.2497]],\n",
      "       grad_fn=<StackBackward0>)\n",
      "6\n",
      "Number of vertices: 106712\n",
      "torch.Size([129, 2]) torch.Size([129, 1])\n"
     ]
    },
    {
     "name": "stderr",
     "output_type": "stream",
     "text": [
      "train loss: 1.20e-02 | test loss: 1.46e-02 | reg: 2.68e+00 : 100%|██| 20/20 [00:01<00:00, 10.15it/s]\n",
      "train loss: 8.55e-04 | test loss: 1.82e-03 | reg: 2.25e+00 : 100%|██| 50/50 [00:02<00:00, 21.04it/s]\n"
     ]
    },
    {
     "name": "stdout",
     "output_type": "stream",
     "text": [
      "r2 is 0.9894612431526184\n",
      "Best value at boundary.\n",
      "r2 is 0.4295371174812317\n",
      "r2 is not very high, please double check if you are choosing the correct symbolic function.\n",
      "Best value at boundary.\n",
      "r2 is 0.8610749244689941\n",
      "r2 is not very high, please double check if you are choosing the correct symbolic function.\n"
     ]
    },
    {
     "name": "stderr",
     "output_type": "stream",
     "text": [
      "train loss: 1.43e-03 | test loss: 2.27e-03 | reg: 3.47e+00 : 100%|██| 50/50 [00:01<00:00, 32.69it/s]\n",
      "/Users/gal.yona/Documents/MSc/Thesis/ImplicitNeuralSurfaces/forked_pykan/pykan/kan/KAN.py:344: UserWarning:\n",
      "\n",
      "std(): degrees of freedom is <= 0. Correction should be strictly less than the reduction factor (input numel divided by output numel). (Triggered internally at /Users/runner/work/pytorch/pytorch/pytorch/aten/src/ATen/native/ReduceOps.cpp:1760.)\n",
      "\n"
     ]
    },
    {
     "name": "stdout",
     "output_type": "stream",
     "text": [
      "-13249.68*(-0.55*(0.03 - x_2)**3 - (0.18 - x_1)**4)**2\n",
      "sampled_index 6 exp  0 signature  tensor([[   7.4519,    4.4569,   -8.4903,  362.5667,  129.9364, 1231.6431]],\n",
      "       grad_fn=<StackBackward0>)\n"
     ]
    },
    {
     "name": "stderr",
     "output_type": "stream",
     "text": [
      "train loss: 4.29e-03 | test loss: 4.29e-03 | reg: 2.33e+00 : 100%|██| 20/20 [00:01<00:00, 10.20it/s]\n",
      "train loss: 1.12e-03 | test loss: 2.20e-03 | reg: 2.30e+00 : 100%|██| 50/50 [00:01<00:00, 32.91it/s]\n"
     ]
    },
    {
     "name": "stdout",
     "output_type": "stream",
     "text": [
      "Best value at boundary.\n",
      "r2 is 0.8672777414321899\n",
      "r2 is not very high, please double check if you are choosing the correct symbolic function.\n",
      "r2 is 0.30209338665008545\n",
      "r2 is not very high, please double check if you are choosing the correct symbolic function.\n",
      "Best value at boundary.\n",
      "r2 is 0.6989503502845764\n",
      "r2 is not very high, please double check if you are choosing the correct symbolic function.\n"
     ]
    },
    {
     "name": "stderr",
     "output_type": "stream",
     "text": [
      "train loss: 1.82e-03 | test loss: 2.11e-03 | reg: 1.60e+01 : 100%|██| 50/50 [00:01<00:00, 42.68it/s]\n",
      "/Users/gal.yona/Documents/MSc/Thesis/ImplicitNeuralSurfaces/forked_pykan/pykan/kan/KAN.py:344: UserWarning:\n",
      "\n",
      "std(): degrees of freedom is <= 0. Correction should be strictly less than the reduction factor (input numel divided by output numel). (Triggered internally at /Users/runner/work/pytorch/pytorch/pytorch/aten/src/ATen/native/ReduceOps.cpp:1760.)\n",
      "\n"
     ]
    },
    {
     "name": "stdout",
     "output_type": "stream",
     "text": [
      "2610089.77*(0.02 - x_1)**8 - 0.19\n",
      "sampled_index 6 exp  1 signature  tensor([[  5.5165,   6.6937,  11.3219, 398.3012, 229.7196, 505.8275]],\n",
      "       grad_fn=<StackBackward0>)\n"
     ]
    },
    {
     "name": "stderr",
     "output_type": "stream",
     "text": [
      "train loss: 8.92e-03 | test loss: 1.07e-02 | reg: 2.53e+00 : 100%|██| 20/20 [00:01<00:00, 10.14it/s]\n",
      "train loss: 8.44e-04 | test loss: 1.89e-03 | reg: 7.62e+00 : 100%|██| 50/50 [00:02<00:00, 17.11it/s]\n"
     ]
    },
    {
     "name": "stdout",
     "output_type": "stream",
     "text": [
      "r2 is 0.9908329844474792\n",
      "Best value at boundary.\n",
      "r2 is 0.3983924686908722\n",
      "r2 is not very high, please double check if you are choosing the correct symbolic function.\n",
      "Best value at boundary.\n",
      "r2 is 0.7946316599845886\n",
      "r2 is not very high, please double check if you are choosing the correct symbolic function.\n"
     ]
    },
    {
     "name": "stderr",
     "output_type": "stream",
     "text": [
      "train loss: 2.03e-03 | test loss: 2.22e-03 | reg: 1.11e+01 : 100%|██| 50/50 [00:00<00:00, 66.38it/s]\n",
      "/Users/gal.yona/Documents/MSc/Thesis/ImplicitNeuralSurfaces/forked_pykan/pykan/kan/KAN.py:344: UserWarning:\n",
      "\n",
      "std(): degrees of freedom is <= 0. Correction should be strictly less than the reduction factor (input numel divided by output numel). (Triggered internally at /Users/runner/work/pytorch/pytorch/pytorch/aten/src/ATen/native/ReduceOps.cpp:1760.)\n",
      "\n"
     ]
    },
    {
     "name": "stdout",
     "output_type": "stream",
     "text": [
      "0.47 - 6174.6*(-0.02*(0.04 - x_2)**3 - (0.07 - x_1)**4 - 0.e-2)**2\n",
      "sampled_index 6 exp  2 signature  tensor([[ 3.3090,  3.2570,  6.8264, 80.4254, 81.5960, 83.8350]],\n",
      "       grad_fn=<StackBackward0>)\n"
     ]
    },
    {
     "name": "stderr",
     "output_type": "stream",
     "text": [
      "train loss: 1.40e-02 | test loss: 1.62e-02 | reg: 2.75e+00 : 100%|██| 20/20 [00:01<00:00, 10.18it/s]\n",
      "train loss: 8.41e-04 | test loss: 1.79e-03 | reg: 3.79e+00 : 100%|██| 50/50 [00:02<00:00, 17.36it/s]\n"
     ]
    },
    {
     "name": "stdout",
     "output_type": "stream",
     "text": [
      "Best value at boundary.\n",
      "r2 is 0.991016685962677\n",
      "Best value at boundary.\n",
      "r2 is 0.3997699022293091\n",
      "r2 is not very high, please double check if you are choosing the correct symbolic function.\n",
      "Best value at boundary.\n",
      "r2 is 0.7932935953140259\n",
      "r2 is not very high, please double check if you are choosing the correct symbolic function.\n"
     ]
    },
    {
     "name": "stderr",
     "output_type": "stream",
     "text": [
      "train loss: 1.83e-03 | test loss: 2.12e-03 | reg: 9.05e+00 : 100%|██| 50/50 [00:00<00:00, 50.33it/s]\n",
      "/Users/gal.yona/Documents/MSc/Thesis/ImplicitNeuralSurfaces/forked_pykan/pykan/kan/KAN.py:344: UserWarning:\n",
      "\n",
      "std(): degrees of freedom is <= 0. Correction should be strictly less than the reduction factor (input numel divided by output numel). (Triggered internally at /Users/runner/work/pytorch/pytorch/pytorch/aten/src/ATen/native/ReduceOps.cpp:1760.)\n",
      "\n"
     ]
    },
    {
     "name": "stdout",
     "output_type": "stream",
     "text": [
      "0.17 - 2131619.93*(0.03 - x_1)**8\n",
      "sampled_index 6 exp  3 signature  tensor([[  5.4034,   6.3712,  12.9915, 373.5580, 259.0517, 463.4021]],\n",
      "       grad_fn=<StackBackward0>)\n"
     ]
    },
    {
     "name": "stderr",
     "output_type": "stream",
     "text": [
      "train loss: 9.03e-03 | test loss: 1.07e-02 | reg: 2.49e+00 : 100%|██| 20/20 [00:02<00:00,  9.56it/s]\n",
      "train loss: 8.55e-04 | test loss: 1.49e-03 | reg: 2.43e+00 : 100%|██| 50/50 [00:02<00:00, 20.92it/s]\n"
     ]
    },
    {
     "name": "stdout",
     "output_type": "stream",
     "text": [
      "r2 is 0.9891164898872375\n",
      "Best value at boundary.\n",
      "r2 is 0.4285905957221985\n",
      "r2 is not very high, please double check if you are choosing the correct symbolic function.\n",
      "Best value at boundary.\n",
      "r2 is 0.826779305934906\n",
      "r2 is not very high, please double check if you are choosing the correct symbolic function.\n"
     ]
    },
    {
     "name": "stderr",
     "output_type": "stream",
     "text": [
      "train loss: 1.43e-03 | test loss: 2.27e-03 | reg: 5.35e+01 : 100%|██| 50/50 [00:01<00:00, 34.34it/s]\n",
      "/Users/gal.yona/Documents/MSc/Thesis/ImplicitNeuralSurfaces/forked_pykan/pykan/kan/KAN.py:344: UserWarning:\n",
      "\n",
      "std(): degrees of freedom is <= 0. Correction should be strictly less than the reduction factor (input numel divided by output numel). (Triggered internally at /Users/runner/work/pytorch/pytorch/pytorch/aten/src/ATen/native/ReduceOps.cpp:1760.)\n",
      "\n"
     ]
    },
    {
     "name": "stdout",
     "output_type": "stream",
     "text": [
      "-13049.38*(-0.56*(0.03 - x_2)**3 - (0.18 - x_1)**4)**2\n",
      "sampled_index 6 exp  4 signature  tensor([[   7.4532,    4.4688,   -8.4275,  361.5797,  130.2343, 1230.3236]],\n",
      "       grad_fn=<StackBackward0>)\n"
     ]
    },
    {
     "name": "stderr",
     "output_type": "stream",
     "text": [
      "train loss: 8.93e-03 | test loss: 9.45e-03 | reg: 2.34e+00 : 100%|██| 20/20 [00:01<00:00, 10.38it/s]\n",
      "train loss: 8.62e-04 | test loss: 1.74e-03 | reg: 2.08e+00 : 100%|██| 50/50 [00:02<00:00, 19.88it/s]\n"
     ]
    },
    {
     "name": "stdout",
     "output_type": "stream",
     "text": [
      "r2 is 0.9897357225418091\n",
      "Best value at boundary.\n",
      "r2 is 0.41594821214675903\n",
      "r2 is not very high, please double check if you are choosing the correct symbolic function.\n",
      "Best value at boundary.\n",
      "r2 is 0.6624048352241516\n",
      "r2 is not very high, please double check if you are choosing the correct symbolic function.\n"
     ]
    },
    {
     "name": "stderr",
     "output_type": "stream",
     "text": [
      "train loss: 1.82e-03 | test loss: 2.13e-03 | reg: 4.29e+00 : 100%|██| 50/50 [00:00<00:00, 53.62it/s]\n",
      "/Users/gal.yona/Documents/MSc/Thesis/ImplicitNeuralSurfaces/forked_pykan/pykan/kan/KAN.py:344: UserWarning:\n",
      "\n",
      "std(): degrees of freedom is <= 0. Correction should be strictly less than the reduction factor (input numel divided by output numel). (Triggered internally at /Users/runner/work/pytorch/pytorch/pytorch/aten/src/ATen/native/ReduceOps.cpp:1760.)\n",
      "\n"
     ]
    },
    {
     "name": "stdout",
     "output_type": "stream",
     "text": [
      "0.04 - 8212884.95*(0.03 - x_1)**8\n",
      "sampled_index 6 exp  5 signature  tensor([[  5.2846,   6.4543,  11.2726, 369.8759, 214.8890, 482.6544]],\n",
      "       grad_fn=<StackBackward0>)\n"
     ]
    },
    {
     "name": "stderr",
     "output_type": "stream",
     "text": [
      "train loss: 4.14e-03 | test loss: 4.21e-03 | reg: 2.54e+00 : 100%|██| 20/20 [00:01<00:00, 10.41it/s]\n",
      "train loss: 1.12e-03 | test loss: 3.08e-03 | reg: 2.36e+00 : 100%|██| 50/50 [00:01<00:00, 27.07it/s]\n"
     ]
    },
    {
     "name": "stdout",
     "output_type": "stream",
     "text": [
      "Best value at boundary.\n",
      "r2 is 0.8654792904853821\n",
      "r2 is not very high, please double check if you are choosing the correct symbolic function.\n",
      "r2 is 0.2989968955516815\n",
      "r2 is not very high, please double check if you are choosing the correct symbolic function.\n",
      "Best value at boundary.\n",
      "r2 is 0.4221535623073578\n",
      "r2 is not very high, please double check if you are choosing the correct symbolic function.\n"
     ]
    },
    {
     "name": "stderr",
     "output_type": "stream",
     "text": [
      "train loss: 1.82e-03 | test loss: 2.11e-03 | reg: 8.21e+00 : 100%|██| 50/50 [00:00<00:00, 52.60it/s]\n",
      "/Users/gal.yona/Documents/MSc/Thesis/ImplicitNeuralSurfaces/forked_pykan/pykan/kan/KAN.py:344: UserWarning:\n",
      "\n",
      "std(): degrees of freedom is <= 0. Correction should be strictly less than the reduction factor (input numel divided by output numel). (Triggered internally at /Users/runner/work/pytorch/pytorch/pytorch/aten/src/ATen/native/ReduceOps.cpp:1760.)\n",
      "\n"
     ]
    },
    {
     "name": "stdout",
     "output_type": "stream",
     "text": [
      "5271348.87*(0.02 - x_1)**8 - 0.1\n",
      "sampled_index 6 exp  6 signature  tensor([[  5.5640,   6.7661,  11.2482, 406.0615, 230.7908, 515.3574]],\n",
      "       grad_fn=<StackBackward0>)\n"
     ]
    },
    {
     "name": "stderr",
     "output_type": "stream",
     "text": [
      "train loss: 1.70e-02 | test loss: 1.84e-02 | reg: 3.14e+00 : 100%|██| 20/20 [00:01<00:00, 10.53it/s]\n",
      "train loss: 8.55e-04 | test loss: 1.51e-03 | reg: 2.31e+00 : 100%|██| 50/50 [00:02<00:00, 21.29it/s]\n"
     ]
    },
    {
     "name": "stdout",
     "output_type": "stream",
     "text": [
      "r2 is 0.9889941811561584\n",
      "Best value at boundary.\n",
      "r2 is 0.4271511733531952\n",
      "r2 is not very high, please double check if you are choosing the correct symbolic function.\n",
      "Best value at boundary.\n",
      "r2 is 0.8322650790214539\n",
      "r2 is not very high, please double check if you are choosing the correct symbolic function.\n"
     ]
    },
    {
     "name": "stderr",
     "output_type": "stream",
     "text": [
      "train loss: 1.43e-03 | test loss: 2.27e-03 | reg: 2.60e+01 : 100%|██| 50/50 [00:01<00:00, 35.98it/s]\n",
      "/Users/gal.yona/Documents/MSc/Thesis/ImplicitNeuralSurfaces/forked_pykan/pykan/kan/KAN.py:344: UserWarning:\n",
      "\n",
      "std(): degrees of freedom is <= 0. Correction should be strictly less than the reduction factor (input numel divided by output numel). (Triggered internally at /Users/runner/work/pytorch/pytorch/pytorch/aten/src/ATen/native/ReduceOps.cpp:1760.)\n",
      "\n"
     ]
    },
    {
     "name": "stdout",
     "output_type": "stream",
     "text": [
      "-13125.62*(-0.56*(0.03 - x_2)**3 - (0.18 - x_1)**4)**2\n",
      "sampled_index 6 exp  7 signature  tensor([[   7.4560,    4.4623,   -8.4408,  362.0915,  130.1815, 1231.0188]],\n",
      "       grad_fn=<StackBackward0>)\n"
     ]
    },
    {
     "name": "stderr",
     "output_type": "stream",
     "text": [
      "train loss: 1.50e-02 | test loss: 1.67e-02 | reg: 3.20e+00 : 100%|██| 20/20 [00:01<00:00, 10.11it/s]\n",
      "train loss: 8.52e-04 | test loss: 4.51e-03 | reg: 2.41e+00 : 100%|██| 50/50 [00:02<00:00, 18.33it/s]\n"
     ]
    },
    {
     "name": "stdout",
     "output_type": "stream",
     "text": [
      "r2 is 0.989777684211731\n",
      "Best value at boundary.\n",
      "r2 is 0.42909806966781616\n",
      "r2 is not very high, please double check if you are choosing the correct symbolic function.\n",
      "Best value at boundary.\n",
      "r2 is 0.8168611526489258\n",
      "r2 is not very high, please double check if you are choosing the correct symbolic function.\n"
     ]
    },
    {
     "name": "stderr",
     "output_type": "stream",
     "text": [
      "train loss: 1.43e-03 | test loss: 2.27e-03 | reg: 3.37e+00 : 100%|██| 50/50 [00:01<00:00, 35.70it/s]\n",
      "/Users/gal.yona/Documents/MSc/Thesis/ImplicitNeuralSurfaces/forked_pykan/pykan/kan/KAN.py:344: UserWarning:\n",
      "\n",
      "std(): degrees of freedom is <= 0. Correction should be strictly less than the reduction factor (input numel divided by output numel). (Triggered internally at /Users/runner/work/pytorch/pytorch/pytorch/aten/src/ATen/native/ReduceOps.cpp:1760.)\n",
      "\n"
     ]
    },
    {
     "name": "stdout",
     "output_type": "stream",
     "text": [
      "-13201.29*(0.55*(0.03 - x_2)**3 + (0.18 - x_1)**4)**2\n",
      "sampled_index 6 exp  8 signature  tensor([[   7.4537,    4.4595,   -8.4712,  362.3936,  130.0516, 1231.5999]],\n",
      "       grad_fn=<StackBackward0>)\n"
     ]
    },
    {
     "name": "stderr",
     "output_type": "stream",
     "text": [
      "train loss: 8.46e-03 | test loss: 8.37e-03 | reg: 2.36e+00 : 100%|██| 20/20 [00:01<00:00, 10.49it/s]\n",
      "train loss: 8.44e-04 | test loss: 1.60e-03 | reg: 7.35e+00 : 100%|██| 50/50 [00:02<00:00, 19.04it/s]\n"
     ]
    },
    {
     "name": "stdout",
     "output_type": "stream",
     "text": [
      "r2 is 0.9901891350746155\n",
      "Best value at boundary.\n",
      "r2 is 0.39800411462783813\n",
      "r2 is not very high, please double check if you are choosing the correct symbolic function.\n",
      "Best value at boundary.\n",
      "r2 is 0.8022027015686035\n",
      "r2 is not very high, please double check if you are choosing the correct symbolic function.\n"
     ]
    },
    {
     "name": "stderr",
     "output_type": "stream",
     "text": [
      "train loss: 2.02e-03 | test loss: 2.22e-03 | reg: 8.49e+00 : 100%|██| 50/50 [00:00<00:00, 57.74it/s]\n",
      "/Users/gal.yona/Documents/MSc/Thesis/ImplicitNeuralSurfaces/forked_pykan/pykan/kan/KAN.py:344: UserWarning:\n",
      "\n",
      "std(): degrees of freedom is <= 0. Correction should be strictly less than the reduction factor (input numel divided by output numel). (Triggered internally at /Users/runner/work/pytorch/pytorch/pytorch/aten/src/ATen/native/ReduceOps.cpp:1760.)\n",
      "\n"
     ]
    },
    {
     "name": "stdout",
     "output_type": "stream",
     "text": [
      "0.44 - 7404.39*(-0.02*(0.04 - x_2)**3 - (0.07 - x_1)**4 - 0.e-2)**2\n",
      "sampled_index 6 exp  9 signature  tensor([[ 3.3604,  3.3318,  6.8766, 83.3120, 83.4819, 87.4524]],\n",
      "       grad_fn=<StackBackward0>)\n",
      "7\n",
      "Number of vertices: 106712\n",
      "torch.Size([137, 2]) torch.Size([137, 1])\n"
     ]
    },
    {
     "name": "stderr",
     "output_type": "stream",
     "text": [
      "train loss: 1.59e-02 | test loss: 1.70e-02 | reg: 2.52e+00 : 100%|██| 20/20 [00:01<00:00, 10.10it/s]\n",
      "train loss: 9.69e-04 | test loss: 3.22e-03 | reg: 2.24e+00 : 100%|██| 50/50 [00:02<00:00, 19.90it/s]\n"
     ]
    },
    {
     "name": "stdout",
     "output_type": "stream",
     "text": [
      "Best value at boundary.\n",
      "r2 is 0.7503172755241394\n",
      "r2 is not very high, please double check if you are choosing the correct symbolic function.\n",
      "r2 is 0.7483469843864441\n",
      "r2 is not very high, please double check if you are choosing the correct symbolic function.\n",
      "Best value at boundary.\n",
      "r2 is 0.9745040535926819\n"
     ]
    },
    {
     "name": "stderr",
     "output_type": "stream",
     "text": [
      "train loss: 1.37e-03 | test loss: 2.23e-03 | reg: 6.08e+00 : 100%|██| 50/50 [00:01<00:00, 27.84it/s]\n",
      "/Users/gal.yona/Documents/MSc/Thesis/ImplicitNeuralSurfaces/forked_pykan/pykan/kan/KAN.py:344: UserWarning:\n",
      "\n",
      "std(): degrees of freedom is <= 0. Correction should be strictly less than the reduction factor (input numel divided by output numel). (Triggered internally at /Users/runner/work/pytorch/pytorch/pytorch/aten/src/ATen/native/ReduceOps.cpp:1760.)\n",
      "\n"
     ]
    },
    {
     "name": "stdout",
     "output_type": "stream",
     "text": [
      "0.07 - 1770192.37*(-x_1**4 - 0.01*(0.03 - x_2)**3)**2\n",
      "sampled_index 7 exp  0 signature  tensor([[   0.8520,    0.2566,  -37.9780,  -29.7848, -116.7444,   -9.9725]],\n",
      "       grad_fn=<StackBackward0>)\n"
     ]
    },
    {
     "name": "stderr",
     "output_type": "stream",
     "text": [
      "train loss: 1.62e-02 | test loss: 1.79e-02 | reg: 2.28e+00 : 100%|██| 20/20 [00:01<00:00, 10.13it/s]\n",
      "train loss: 9.69e-04 | test loss: 2.36e-03 | reg: 2.21e+00 : 100%|██| 50/50 [00:02<00:00, 17.99it/s]\n"
     ]
    },
    {
     "name": "stdout",
     "output_type": "stream",
     "text": [
      "Best value at boundary.\n",
      "r2 is 0.7528651356697083\n",
      "r2 is not very high, please double check if you are choosing the correct symbolic function.\n",
      "r2 is 0.7521410584449768\n",
      "r2 is not very high, please double check if you are choosing the correct symbolic function.\n",
      "r2 is 0.5300473570823669\n",
      "r2 is not very high, please double check if you are choosing the correct symbolic function.\n"
     ]
    },
    {
     "name": "stderr",
     "output_type": "stream",
     "text": [
      "train loss: 1.36e-03 | test loss: 1.88e-03 | reg: 2.08e+01 : 100%|██| 50/50 [00:01<00:00, 33.91it/s]\n",
      "/Users/gal.yona/Documents/MSc/Thesis/ImplicitNeuralSurfaces/forked_pykan/pykan/kan/KAN.py:344: UserWarning:\n",
      "\n",
      "std(): degrees of freedom is <= 0. Correction should be strictly less than the reduction factor (input numel divided by output numel). (Triggered internally at /Users/runner/work/pytorch/pytorch/pytorch/aten/src/ATen/native/ReduceOps.cpp:1760.)\n",
      "\n"
     ]
    },
    {
     "name": "stdout",
     "output_type": "stream",
     "text": [
      "24195241.36*(-0.02*(0.02 - x_2)**3 - (-x_1 - 0.e-2)**4)**2 - 0.e-2\n",
      "sampled_index 7 exp  1 signature  tensor([[   1.1249,    0.6244,  -59.8609,  -37.9705, -230.5804,  -23.8405]],\n",
      "       grad_fn=<StackBackward0>)\n"
     ]
    },
    {
     "name": "stderr",
     "output_type": "stream",
     "text": [
      "train loss: 1.70e-02 | test loss: 1.82e-02 | reg: 2.66e+00 : 100%|██| 20/20 [00:01<00:00, 10.09it/s]\n",
      "train loss: 9.67e-04 | test loss: 3.45e-03 | reg: 1.83e+00 : 100%|██| 50/50 [00:02<00:00, 18.19it/s]\n"
     ]
    },
    {
     "name": "stdout",
     "output_type": "stream",
     "text": [
      "Best value at boundary.\n",
      "r2 is 0.7416247129440308\n",
      "r2 is not very high, please double check if you are choosing the correct symbolic function.\n",
      "r2 is 0.7421419024467468\n",
      "r2 is not very high, please double check if you are choosing the correct symbolic function.\n",
      "Best value at boundary.\n",
      "r2 is 0.9286463260650635\n"
     ]
    },
    {
     "name": "stderr",
     "output_type": "stream",
     "text": [
      "train loss: 1.37e-03 | test loss: 2.22e-03 | reg: 2.03e+01 : 100%|██| 50/50 [00:01<00:00, 28.12it/s]\n",
      "/Users/gal.yona/Documents/MSc/Thesis/ImplicitNeuralSurfaces/forked_pykan/pykan/kan/KAN.py:344: UserWarning:\n",
      "\n",
      "std(): degrees of freedom is <= 0. Correction should be strictly less than the reduction factor (input numel divided by output numel). (Triggered internally at /Users/runner/work/pytorch/pytorch/pytorch/aten/src/ATen/native/ReduceOps.cpp:1760.)\n",
      "\n"
     ]
    },
    {
     "name": "stdout",
     "output_type": "stream",
     "text": [
      "0.12 - 1123802.24*(-x_1**4 - 0.01*(0.02 - x_2)**3)**2\n",
      "sampled_index 7 exp  2 signature  tensor([[   0.8423,    0.2330,  -36.7392,  -30.9452, -112.6086,   -9.4215]],\n",
      "       grad_fn=<StackBackward0>)\n"
     ]
    },
    {
     "name": "stderr",
     "output_type": "stream",
     "text": [
      "train loss: 2.47e-02 | test loss: 2.75e-02 | reg: 2.72e+00 : 100%|██| 20/20 [00:01<00:00, 10.10it/s]\n",
      "train loss: 9.77e-04 | test loss: 2.03e-03 | reg: 2.41e+00 : 100%|██| 50/50 [00:02<00:00, 19.23it/s]\n"
     ]
    },
    {
     "name": "stdout",
     "output_type": "stream",
     "text": [
      "Best value at boundary.\n",
      "r2 is 0.7602471709251404\n",
      "r2 is not very high, please double check if you are choosing the correct symbolic function.\n",
      "r2 is 0.8431475758552551\n",
      "r2 is not very high, please double check if you are choosing the correct symbolic function.\n",
      "Best value at boundary.\n",
      "r2 is 0.6575895547866821\n",
      "r2 is not very high, please double check if you are choosing the correct symbolic function.\n"
     ]
    },
    {
     "name": "stderr",
     "output_type": "stream",
     "text": [
      "train loss: 1.36e-03 | test loss: 1.88e-03 | reg: 2.91e+00 : 100%|██| 50/50 [00:01<00:00, 42.93it/s]\n",
      "/Users/gal.yona/Documents/MSc/Thesis/ImplicitNeuralSurfaces/forked_pykan/pykan/kan/KAN.py:344: UserWarning:\n",
      "\n",
      "std(): degrees of freedom is <= 0. Correction should be strictly less than the reduction factor (input numel divided by output numel). (Triggered internally at /Users/runner/work/pytorch/pytorch/pytorch/aten/src/ATen/native/ReduceOps.cpp:1760.)\n",
      "\n"
     ]
    },
    {
     "name": "stdout",
     "output_type": "stream",
     "text": [
      "24310055.58*(-0.02*(0.02 - x_2)**3 - (-x_1 - 0.e-2)**4)**2 - 0.e-2\n",
      "sampled_index 7 exp  3 signature  tensor([[   1.1259,    0.6264,  -59.9786,  -37.9253, -231.1593,  -23.8712]],\n",
      "       grad_fn=<StackBackward0>)\n"
     ]
    },
    {
     "name": "stderr",
     "output_type": "stream",
     "text": [
      "train loss: 1.96e-02 | test loss: 2.04e-02 | reg: 2.59e+00 : 100%|██| 20/20 [00:01<00:00, 10.11it/s]\n",
      "train loss: 9.67e-04 | test loss: 3.52e-03 | reg: 2.19e+00 : 100%|██| 50/50 [00:03<00:00, 16.36it/s]\n"
     ]
    },
    {
     "name": "stdout",
     "output_type": "stream",
     "text": [
      "Best value at boundary.\n",
      "r2 is 0.7295154333114624\n",
      "r2 is not very high, please double check if you are choosing the correct symbolic function.\n",
      "r2 is 0.7456295490264893\n",
      "r2 is not very high, please double check if you are choosing the correct symbolic function.\n",
      "Best value at boundary.\n",
      "r2 is 0.8895312547683716\n",
      "r2 is not very high, please double check if you are choosing the correct symbolic function.\n"
     ]
    },
    {
     "name": "stderr",
     "output_type": "stream",
     "text": [
      "train loss: 1.37e-03 | test loss: 2.22e-03 | reg: 2.36e+01 : 100%|██| 50/50 [00:01<00:00, 27.47it/s]\n",
      "/Users/gal.yona/Documents/MSc/Thesis/ImplicitNeuralSurfaces/forked_pykan/pykan/kan/KAN.py:344: UserWarning:\n",
      "\n",
      "std(): degrees of freedom is <= 0. Correction should be strictly less than the reduction factor (input numel divided by output numel). (Triggered internally at /Users/runner/work/pytorch/pytorch/pytorch/aten/src/ATen/native/ReduceOps.cpp:1760.)\n",
      "\n"
     ]
    },
    {
     "name": "stdout",
     "output_type": "stream",
     "text": [
      "0.13 - 1024648.1*(-x_1**4 - 0.01*(0.02 - x_2)**3)**2\n",
      "sampled_index 7 exp  4 signature  tensor([[   0.8433,    0.2327,  -36.7226,  -30.7867, -112.7368,   -9.3451]],\n",
      "       grad_fn=<StackBackward0>)\n"
     ]
    },
    {
     "name": "stderr",
     "output_type": "stream",
     "text": [
      "train loss: 1.58e-02 | test loss: 1.80e-02 | reg: 2.64e+00 : 100%|██| 20/20 [00:01<00:00, 10.34it/s]\n",
      "train loss: 9.68e-04 | test loss: 3.45e-03 | reg: 2.46e+00 : 100%|██| 50/50 [00:02<00:00, 18.49it/s]\n"
     ]
    },
    {
     "name": "stdout",
     "output_type": "stream",
     "text": [
      "Best value at boundary.\n",
      "r2 is 0.7463611364364624\n",
      "r2 is not very high, please double check if you are choosing the correct symbolic function.\n",
      "r2 is 0.7483522891998291\n",
      "r2 is not very high, please double check if you are choosing the correct symbolic function.\n",
      "Best value at boundary.\n",
      "r2 is 0.9318495392799377\n"
     ]
    },
    {
     "name": "stderr",
     "output_type": "stream",
     "text": [
      "train loss: 1.37e-03 | test loss: 2.21e-03 | reg: 2.43e+01 : 100%|██| 50/50 [00:01<00:00, 27.86it/s]\n",
      "/Users/gal.yona/Documents/MSc/Thesis/ImplicitNeuralSurfaces/forked_pykan/pykan/kan/KAN.py:344: UserWarning:\n",
      "\n",
      "std(): degrees of freedom is <= 0. Correction should be strictly less than the reduction factor (input numel divided by output numel). (Triggered internally at /Users/runner/work/pytorch/pytorch/pytorch/aten/src/ATen/native/ReduceOps.cpp:1760.)\n",
      "\n"
     ]
    },
    {
     "name": "stdout",
     "output_type": "stream",
     "text": [
      "0.21 - 665196.72*(-x_1**4 - 0.01*(0.03 - x_2)**3)**2\n",
      "sampled_index 7 exp  5 signature  tensor([[   0.8487,    0.2376,  -37.0792,  -30.6361, -114.4657,   -9.4349]],\n",
      "       grad_fn=<StackBackward0>)\n"
     ]
    },
    {
     "name": "stderr",
     "output_type": "stream",
     "text": [
      "train loss: 1.81e-02 | test loss: 2.00e-02 | reg: 2.63e+00 : 100%|██| 20/20 [00:01<00:00, 10.46it/s]\n",
      "train loss: 9.67e-04 | test loss: 3.58e-03 | reg: 2.18e+00 : 100%|██| 50/50 [00:02<00:00, 18.00it/s]\n"
     ]
    },
    {
     "name": "stdout",
     "output_type": "stream",
     "text": [
      "Best value at boundary.\n",
      "r2 is 0.734275221824646\n",
      "r2 is not very high, please double check if you are choosing the correct symbolic function.\n",
      "r2 is 0.7421510815620422\n",
      "r2 is not very high, please double check if you are choosing the correct symbolic function.\n",
      "Best value at boundary.\n",
      "r2 is 0.9007018208503723\n"
     ]
    },
    {
     "name": "stderr",
     "output_type": "stream",
     "text": [
      "train loss: 1.37e-03 | test loss: 2.22e-03 | reg: 2.16e+01 : 100%|██| 50/50 [00:01<00:00, 26.00it/s]\n",
      "/Users/gal.yona/Documents/MSc/Thesis/ImplicitNeuralSurfaces/forked_pykan/pykan/kan/KAN.py:344: UserWarning:\n",
      "\n",
      "std(): degrees of freedom is <= 0. Correction should be strictly less than the reduction factor (input numel divided by output numel). (Triggered internally at /Users/runner/work/pytorch/pytorch/pytorch/aten/src/ATen/native/ReduceOps.cpp:1760.)\n",
      "\n"
     ]
    },
    {
     "name": "stdout",
     "output_type": "stream",
     "text": [
      "0.13 - 1089592.31*(-x_1**4 - 0.01*(0.02 - x_2)**3)**2\n",
      "sampled_index 7 exp  6 signature  tensor([[   0.8425,    0.2329,  -36.7328,  -31.0109, -112.6264,   -9.4311]],\n",
      "       grad_fn=<StackBackward0>)\n"
     ]
    },
    {
     "name": "stderr",
     "output_type": "stream",
     "text": [
      "train loss: 2.68e-02 | test loss: 3.01e-02 | reg: 2.83e+00 : 100%|██| 20/20 [00:01<00:00, 10.31it/s]\n",
      "train loss: 9.66e-04 | test loss: 3.23e-03 | reg: 2.08e+00 : 100%|██| 50/50 [00:02<00:00, 17.92it/s]\n"
     ]
    },
    {
     "name": "stdout",
     "output_type": "stream",
     "text": [
      "Best value at boundary.\n",
      "r2 is 0.7322219610214233\n",
      "r2 is not very high, please double check if you are choosing the correct symbolic function.\n",
      "r2 is 0.7429422736167908\n",
      "r2 is not very high, please double check if you are choosing the correct symbolic function.\n",
      "Best value at boundary.\n",
      "r2 is 0.9115593433380127\n"
     ]
    },
    {
     "name": "stderr",
     "output_type": "stream",
     "text": [
      "train loss: 1.37e-03 | test loss: 2.22e-03 | reg: 2.96e+01 : 100%|██| 50/50 [00:02<00:00, 24.42it/s]\n",
      "/Users/gal.yona/Documents/MSc/Thesis/ImplicitNeuralSurfaces/forked_pykan/pykan/kan/KAN.py:344: UserWarning:\n",
      "\n",
      "std(): degrees of freedom is <= 0. Correction should be strictly less than the reduction factor (input numel divided by output numel). (Triggered internally at /Users/runner/work/pytorch/pytorch/pytorch/aten/src/ATen/native/ReduceOps.cpp:1760.)\n",
      "\n"
     ]
    },
    {
     "name": "stdout",
     "output_type": "stream",
     "text": [
      "0.15 - 904763.91*(-x_1**4 - 0.01*(0.02 - x_2)**3)**2\n",
      "sampled_index 7 exp  7 signature  tensor([[   0.8448,    0.2329,  -36.7247,  -30.8904, -112.9837,   -9.3613]],\n",
      "       grad_fn=<StackBackward0>)\n"
     ]
    },
    {
     "name": "stderr",
     "output_type": "stream",
     "text": [
      "train loss: 2.24e-02 | test loss: 2.40e-02 | reg: 2.63e+00 : 100%|██| 20/20 [00:01<00:00, 10.36it/s]\n",
      "train loss: 9.68e-04 | test loss: 3.70e-03 | reg: 2.16e+00 : 100%|██| 50/50 [00:02<00:00, 18.01it/s]\n"
     ]
    },
    {
     "name": "stdout",
     "output_type": "stream",
     "text": [
      "Best value at boundary.\n",
      "r2 is 0.7463732957839966\n",
      "r2 is not very high, please double check if you are choosing the correct symbolic function.\n",
      "r2 is 0.74408358335495\n",
      "r2 is not very high, please double check if you are choosing the correct symbolic function.\n",
      "Best value at boundary.\n",
      "r2 is 0.9183779358863831\n"
     ]
    },
    {
     "name": "stderr",
     "output_type": "stream",
     "text": [
      "train loss: 1.37e-03 | test loss: 2.22e-03 | reg: 2.19e+01 : 100%|██| 50/50 [00:01<00:00, 33.31it/s]\n",
      "/Users/gal.yona/Documents/MSc/Thesis/ImplicitNeuralSurfaces/forked_pykan/pykan/kan/KAN.py:344: UserWarning:\n",
      "\n",
      "std(): degrees of freedom is <= 0. Correction should be strictly less than the reduction factor (input numel divided by output numel). (Triggered internally at /Users/runner/work/pytorch/pytorch/pytorch/aten/src/ATen/native/ReduceOps.cpp:1760.)\n",
      "\n"
     ]
    },
    {
     "name": "stdout",
     "output_type": "stream",
     "text": [
      "0.16 - 848374.21*(-x_1**4 - 0.01*(0.02 - x_2)**3)**2\n",
      "sampled_index 7 exp  8 signature  tensor([[   0.8443,    0.2336,  -36.8018,  -31.0838, -113.0890,   -9.4587]],\n",
      "       grad_fn=<StackBackward0>)\n"
     ]
    },
    {
     "name": "stderr",
     "output_type": "stream",
     "text": [
      "train loss: 1.91e-02 | test loss: 2.11e-02 | reg: 2.67e+00 : 100%|██| 20/20 [00:02<00:00,  9.70it/s]\n",
      "train loss: 9.67e-04 | test loss: 3.16e-03 | reg: 2.23e+00 : 100%|██| 50/50 [00:02<00:00, 21.10it/s]\n"
     ]
    },
    {
     "name": "stdout",
     "output_type": "stream",
     "text": [
      "Best value at boundary.\n",
      "r2 is 0.738314151763916\n",
      "r2 is not very high, please double check if you are choosing the correct symbolic function.\n",
      "r2 is 0.7467073202133179\n",
      "r2 is not very high, please double check if you are choosing the correct symbolic function.\n",
      "Best value at boundary.\n",
      "r2 is 0.9307445287704468\n"
     ]
    },
    {
     "name": "stderr",
     "output_type": "stream",
     "text": [
      "train loss: 1.37e-03 | test loss: 2.22e-03 | reg: 2.15e+01 : 100%|██| 50/50 [00:01<00:00, 28.02it/s]\n",
      "/Users/gal.yona/Documents/MSc/Thesis/ImplicitNeuralSurfaces/forked_pykan/pykan/kan/KAN.py:344: UserWarning:\n",
      "\n",
      "std(): degrees of freedom is <= 0. Correction should be strictly less than the reduction factor (input numel divided by output numel). (Triggered internally at /Users/runner/work/pytorch/pytorch/pytorch/aten/src/ATen/native/ReduceOps.cpp:1760.)\n",
      "\n"
     ]
    },
    {
     "name": "stdout",
     "output_type": "stream",
     "text": [
      "0.13 - 1047391.38*(-x_1**4 - 0.01*(0.02 - x_2)**3)**2\n",
      "sampled_index 7 exp  9 signature  tensor([[   0.8447,    0.2376,  -37.0111,  -30.8750, -113.5819,   -9.5733]],\n",
      "       grad_fn=<StackBackward0>)\n",
      "8\n",
      "Number of vertices: 106712\n",
      "torch.Size([133, 2]) torch.Size([133, 1])\n"
     ]
    },
    {
     "name": "stderr",
     "output_type": "stream",
     "text": [
      "train loss: 2.57e-02 | test loss: 3.25e-02 | reg: 2.45e+00 : 100%|██| 20/20 [00:01<00:00, 10.20it/s]\n",
      "train loss: 4.08e-04 | test loss: 2.33e-03 | reg: 2.26e+00 : 100%|██| 50/50 [00:01<00:00, 26.06it/s]\n"
     ]
    },
    {
     "name": "stdout",
     "output_type": "stream",
     "text": [
      "r2 is 0.9981914162635803\n",
      "r2 is 0.9753830432891846\n",
      "Best value at boundary.\n",
      "r2 is 0.802308976650238\n",
      "r2 is not very high, please double check if you are choosing the correct symbolic function.\n"
     ]
    },
    {
     "name": "stderr",
     "output_type": "stream",
     "text": [
      "train loss: 1.28e-03 | test loss: 1.60e-03 | reg: 2.53e+00 : 100%|██| 50/50 [00:00<00:00, 65.89it/s]\n",
      "/Users/gal.yona/Documents/MSc/Thesis/ImplicitNeuralSurfaces/forked_pykan/pykan/kan/KAN.py:344: UserWarning:\n",
      "\n",
      "std(): degrees of freedom is <= 0. Correction should be strictly less than the reduction factor (input numel divided by output numel). (Triggered internally at /Users/runner/work/pytorch/pytorch/pytorch/aten/src/ATen/native/ReduceOps.cpp:1760.)\n",
      "\n"
     ]
    },
    {
     "name": "stdout",
     "output_type": "stream",
     "text": [
      "2.61*(-(0.1 - x_2)**3 - 0.04*(-x_1 - 0.54)**4 + 0.46)**2 - 0.55\n",
      "sampled_index 8 exp  0 signature  tensor([[ 0.8565,  0.4879, -0.6146, -6.8003, -1.6988, -4.8472]],\n",
      "       grad_fn=<StackBackward0>)\n"
     ]
    },
    {
     "name": "stderr",
     "output_type": "stream",
     "text": [
      "train loss: 3.27e-02 | test loss: 3.45e-02 | reg: 2.68e+00 : 100%|██| 20/20 [00:01<00:00, 10.32it/s]\n",
      "train loss: 4.05e-04 | test loss: 2.61e-03 | reg: 2.17e+00 : 100%|██| 50/50 [00:02<00:00, 23.92it/s]\n"
     ]
    },
    {
     "name": "stdout",
     "output_type": "stream",
     "text": [
      "r2 is 0.9985548853874207\n",
      "Best value at boundary.\n",
      "r2 is 0.9733836650848389\n",
      "Best value at boundary.\n",
      "r2 is 0.8083807229995728\n",
      "r2 is not very high, please double check if you are choosing the correct symbolic function.\n"
     ]
    },
    {
     "name": "stderr",
     "output_type": "stream",
     "text": [
      "train loss: 1.31e-03 | test loss: 1.71e-03 | reg: 2.48e+00 : 100%|██| 50/50 [00:00<00:00, 58.45it/s]\n",
      "/Users/gal.yona/Documents/MSc/Thesis/ImplicitNeuralSurfaces/forked_pykan/pykan/kan/KAN.py:344: UserWarning:\n",
      "\n",
      "std(): degrees of freedom is <= 0. Correction should be strictly less than the reduction factor (input numel divided by output numel). (Triggered internally at /Users/runner/work/pytorch/pytorch/pytorch/aten/src/ATen/native/ReduceOps.cpp:1760.)\n",
      "\n"
     ]
    },
    {
     "name": "stdout",
     "output_type": "stream",
     "text": [
      "0.01 - 77.79*(-(0.1 - x_2)**3 - 0.03*(-x_1 - 0.61)**4 - 0.e-2)**2\n",
      "sampled_index 8 exp  1 signature  tensor([[  0.9165,   0.6194,  -1.3838, -10.7671,  -4.0132, -10.3107]],\n",
      "       grad_fn=<StackBackward0>)\n"
     ]
    },
    {
     "name": "stderr",
     "output_type": "stream",
     "text": [
      "train loss: 3.54e-02 | test loss: 4.37e-02 | reg: 2.70e+00 : 100%|██| 20/20 [00:01<00:00, 10.38it/s]\n",
      "train loss: 4.05e-04 | test loss: 2.67e-03 | reg: 2.15e+00 : 100%|██| 50/50 [00:01<00:00, 25.36it/s]\n"
     ]
    },
    {
     "name": "stdout",
     "output_type": "stream",
     "text": [
      "r2 is 0.998500406742096\n",
      "Best value at boundary.\n",
      "r2 is 0.9738638997077942\n",
      "Best value at boundary.\n",
      "r2 is 0.8015776872634888\n",
      "r2 is not very high, please double check if you are choosing the correct symbolic function.\n"
     ]
    },
    {
     "name": "stderr",
     "output_type": "stream",
     "text": [
      "train loss: 1.31e-03 | test loss: 1.70e-03 | reg: 2.44e+00 : 100%|██| 50/50 [00:00<00:00, 84.71it/s]\n",
      "/Users/gal.yona/Documents/MSc/Thesis/ImplicitNeuralSurfaces/forked_pykan/pykan/kan/KAN.py:344: UserWarning:\n",
      "\n",
      "std(): degrees of freedom is <= 0. Correction should be strictly less than the reduction factor (input numel divided by output numel). (Triggered internally at /Users/runner/work/pytorch/pytorch/pytorch/aten/src/ATen/native/ReduceOps.cpp:1760.)\n",
      "\n"
     ]
    },
    {
     "name": "stdout",
     "output_type": "stream",
     "text": [
      "0.02 - 74.76*(-(0.1 - x_2)**3 - 0.04*(-x_1 - 0.59)**4 - 0.e-2)**2\n",
      "sampled_index 8 exp  2 signature  tensor([[  0.9171,   0.6124,  -1.3908, -10.6356,  -3.9689, -10.0034]],\n",
      "       grad_fn=<StackBackward0>)\n"
     ]
    },
    {
     "name": "stderr",
     "output_type": "stream",
     "text": [
      "train loss: 2.98e-02 | test loss: 3.75e-02 | reg: 2.49e+00 : 100%|██| 20/20 [00:01<00:00, 10.33it/s]\n",
      "train loss: 4.05e-04 | test loss: 2.50e-03 | reg: 2.14e+00 : 100%|██| 50/50 [00:02<00:00, 21.79it/s]\n"
     ]
    },
    {
     "name": "stdout",
     "output_type": "stream",
     "text": [
      "r2 is 0.9985570907592773\n",
      "Best value at boundary.\n",
      "r2 is 0.9734714031219482\n",
      "Best value at boundary.\n",
      "r2 is 0.8131293058395386\n",
      "r2 is not very high, please double check if you are choosing the correct symbolic function.\n"
     ]
    },
    {
     "name": "stderr",
     "output_type": "stream",
     "text": [
      "train loss: 1.31e-03 | test loss: 1.70e-03 | reg: 2.49e+00 : 100%|██| 50/50 [00:00<00:00, 76.70it/s]\n",
      "/Users/gal.yona/Documents/MSc/Thesis/ImplicitNeuralSurfaces/forked_pykan/pykan/kan/KAN.py:344: UserWarning:\n",
      "\n",
      "std(): degrees of freedom is <= 0. Correction should be strictly less than the reduction factor (input numel divided by output numel). (Triggered internally at /Users/runner/work/pytorch/pytorch/pytorch/aten/src/ATen/native/ReduceOps.cpp:1760.)\n",
      "\n"
     ]
    },
    {
     "name": "stdout",
     "output_type": "stream",
     "text": [
      "0.02 - 68.94*(-(0.1 - x_2)**3 - 0.04*(-x_1 - 0.62)**4 - 0.e-2)**2\n",
      "sampled_index 8 exp  3 signature  tensor([[  0.9053,   0.6195,  -1.4015, -10.1875,  -3.9290,  -9.9591]],\n",
      "       grad_fn=<StackBackward0>)\n"
     ]
    },
    {
     "name": "stderr",
     "output_type": "stream",
     "text": [
      "train loss: 2.86e-02 | test loss: 3.18e-02 | reg: 2.47e+00 : 100%|██| 20/20 [00:02<00:00,  9.79it/s]\n",
      "train loss: 4.05e-04 | test loss: 2.61e-03 | reg: 2.18e+00 : 100%|██| 50/50 [00:02<00:00, 19.08it/s]\n"
     ]
    },
    {
     "name": "stdout",
     "output_type": "stream",
     "text": [
      "r2 is 0.9988011121749878\n",
      "Best value at boundary.\n",
      "r2 is 0.9737952351570129\n",
      "Best value at boundary.\n",
      "r2 is 0.8077406883239746\n",
      "r2 is not very high, please double check if you are choosing the correct symbolic function.\n"
     ]
    },
    {
     "name": "stderr",
     "output_type": "stream",
     "text": [
      "train loss: 1.31e-03 | test loss: 1.71e-03 | reg: 2.53e+00 : 100%|██| 50/50 [00:00<00:00, 84.73it/s]\n",
      "/Users/gal.yona/Documents/MSc/Thesis/ImplicitNeuralSurfaces/forked_pykan/pykan/kan/KAN.py:344: UserWarning:\n",
      "\n",
      "std(): degrees of freedom is <= 0. Correction should be strictly less than the reduction factor (input numel divided by output numel). (Triggered internally at /Users/runner/work/pytorch/pytorch/pytorch/aten/src/ATen/native/ReduceOps.cpp:1760.)\n",
      "\n"
     ]
    },
    {
     "name": "stdout",
     "output_type": "stream",
     "text": [
      "0.01 - 78.94*(-(0.1 - x_2)**3 - 0.04*(-x_1 - 0.6)**4 - 0.e-2)**2\n",
      "sampled_index 8 exp  4 signature  tensor([[  0.9207,   0.6164,  -1.3821, -10.8785,  -4.0161, -10.2646]],\n",
      "       grad_fn=<StackBackward0>)\n"
     ]
    },
    {
     "name": "stderr",
     "output_type": "stream",
     "text": [
      "train loss: 2.64e-02 | test loss: 3.40e-02 | reg: 2.48e+00 : 100%|██| 20/20 [00:01<00:00, 10.37it/s]\n",
      "train loss: 4.04e-04 | test loss: 2.47e-03 | reg: 2.14e+00 : 100%|██| 50/50 [00:02<00:00, 20.28it/s]\n"
     ]
    },
    {
     "name": "stdout",
     "output_type": "stream",
     "text": [
      "r2 is 0.9986875057220459\n",
      "Best value at boundary.\n",
      "r2 is 0.973624050617218\n",
      "r2 is 0.8155442476272583\n",
      "r2 is not very high, please double check if you are choosing the correct symbolic function.\n"
     ]
    },
    {
     "name": "stderr",
     "output_type": "stream",
     "text": [
      "train loss: 1.30e-03 | test loss: 1.70e-03 | reg: 2.52e+00 : 100%|██| 50/50 [00:00<00:00, 75.65it/s]\n",
      "/Users/gal.yona/Documents/MSc/Thesis/ImplicitNeuralSurfaces/forked_pykan/pykan/kan/KAN.py:344: UserWarning:\n",
      "\n",
      "std(): degrees of freedom is <= 0. Correction should be strictly less than the reduction factor (input numel divided by output numel). (Triggered internally at /Users/runner/work/pytorch/pytorch/pytorch/aten/src/ATen/native/ReduceOps.cpp:1760.)\n",
      "\n"
     ]
    },
    {
     "name": "stdout",
     "output_type": "stream",
     "text": [
      "0.02 - 72.24*(-(0.1 - x_2)**3 - 0.04*(-x_1 - 0.59)**4 - 0.e-2)**2\n",
      "sampled_index 8 exp  5 signature  tensor([[  0.9137,   0.6063,  -1.3809, -10.4847,  -3.8968,  -9.7774]],\n",
      "       grad_fn=<StackBackward0>)\n"
     ]
    },
    {
     "name": "stderr",
     "output_type": "stream",
     "text": [
      "train loss: 3.40e-02 | test loss: 4.21e-02 | reg: 2.51e+00 : 100%|██| 20/20 [00:01<00:00, 10.31it/s]\n",
      "train loss: 4.05e-04 | test loss: 2.53e-03 | reg: 2.15e+00 : 100%|██| 50/50 [00:02<00:00, 18.85it/s]\n"
     ]
    },
    {
     "name": "stdout",
     "output_type": "stream",
     "text": [
      "r2 is 0.9986879229545593\n",
      "Best value at boundary.\n",
      "r2 is 0.9735090732574463\n",
      "Best value at boundary.\n",
      "r2 is 0.8131687641143799\n",
      "r2 is not very high, please double check if you are choosing the correct symbolic function.\n"
     ]
    },
    {
     "name": "stderr",
     "output_type": "stream",
     "text": [
      "train loss: 1.31e-03 | test loss: 1.70e-03 | reg: 2.48e+00 : 100%|██| 50/50 [00:00<00:00, 82.05it/s]\n",
      "/Users/gal.yona/Documents/MSc/Thesis/ImplicitNeuralSurfaces/forked_pykan/pykan/kan/KAN.py:344: UserWarning:\n",
      "\n",
      "std(): degrees of freedom is <= 0. Correction should be strictly less than the reduction factor (input numel divided by output numel). (Triggered internally at /Users/runner/work/pytorch/pytorch/pytorch/aten/src/ATen/native/ReduceOps.cpp:1760.)\n",
      "\n"
     ]
    },
    {
     "name": "stdout",
     "output_type": "stream",
     "text": [
      "0.02 - 69.98*(-(0.1 - x_2)**3 - 0.04*(-x_1 - 0.61)**4 - 0.e-2)**2\n",
      "sampled_index 8 exp  6 signature  tensor([[  0.9091,   0.6257,  -1.4234, -10.2677,  -4.0119, -10.1193]],\n",
      "       grad_fn=<StackBackward0>)\n"
     ]
    },
    {
     "name": "stderr",
     "output_type": "stream",
     "text": [
      "train loss: 2.74e-02 | test loss: 2.89e-02 | reg: 2.63e+00 : 100%|██| 20/20 [00:01<00:00, 10.37it/s]\n",
      "train loss: 4.05e-04 | test loss: 2.56e-03 | reg: 2.17e+00 : 100%|██| 50/50 [00:02<00:00, 20.39it/s]\n"
     ]
    },
    {
     "name": "stdout",
     "output_type": "stream",
     "text": [
      "r2 is 0.9984488487243652\n",
      "Best value at boundary.\n",
      "r2 is 0.9739010334014893\n",
      "Best value at boundary.\n",
      "r2 is 0.8080239295959473\n",
      "r2 is not very high, please double check if you are choosing the correct symbolic function.\n"
     ]
    },
    {
     "name": "stderr",
     "output_type": "stream",
     "text": [
      "train loss: 1.30e-03 | test loss: 1.70e-03 | reg: 2.46e+00 : 100%|██| 50/50 [00:00<00:00, 64.80it/s]\n",
      "/Users/gal.yona/Documents/MSc/Thesis/ImplicitNeuralSurfaces/forked_pykan/pykan/kan/KAN.py:344: UserWarning:\n",
      "\n",
      "std(): degrees of freedom is <= 0. Correction should be strictly less than the reduction factor (input numel divided by output numel). (Triggered internally at /Users/runner/work/pytorch/pytorch/pytorch/aten/src/ATen/native/ReduceOps.cpp:1760.)\n",
      "\n"
     ]
    },
    {
     "name": "stdout",
     "output_type": "stream",
     "text": [
      "0.02 - 75.02*(-(0.1 - x_2)**3 - 0.03*(-x_1 - 0.62)**4 - 0.e-2)**2\n",
      "sampled_index 8 exp  7 signature  tensor([[  0.9117,   0.5974,  -1.3361, -10.6268,  -3.8005,  -9.7310]],\n",
      "       grad_fn=<StackBackward0>)\n"
     ]
    },
    {
     "name": "stderr",
     "output_type": "stream",
     "text": [
      "train loss: 3.29e-02 | test loss: 4.15e-02 | reg: 2.71e+00 : 100%|██| 20/20 [00:02<00:00,  9.69it/s]\n",
      "train loss: 4.04e-04 | test loss: 2.31e-03 | reg: 2.17e+00 : 100%|██| 50/50 [00:02<00:00, 20.68it/s]\n"
     ]
    },
    {
     "name": "stdout",
     "output_type": "stream",
     "text": [
      "r2 is 0.9987114667892456\n",
      "r2 is 0.9734460115432739\n",
      "r2 is 0.8231917023658752\n",
      "r2 is not very high, please double check if you are choosing the correct symbolic function.\n"
     ]
    },
    {
     "name": "stderr",
     "output_type": "stream",
     "text": [
      "train loss: 1.30e-03 | test loss: 1.67e-03 | reg: 2.46e+00 : 100%|██| 50/50 [00:00<00:00, 59.30it/s]\n",
      "/Users/gal.yona/Documents/MSc/Thesis/ImplicitNeuralSurfaces/forked_pykan/pykan/kan/KAN.py:344: UserWarning:\n",
      "\n",
      "std(): degrees of freedom is <= 0. Correction should be strictly less than the reduction factor (input numel divided by output numel). (Triggered internally at /Users/runner/work/pytorch/pytorch/pytorch/aten/src/ATen/native/ReduceOps.cpp:1760.)\n",
      "\n"
     ]
    },
    {
     "name": "stdout",
     "output_type": "stream",
     "text": [
      "0.02 - 57.48*(-(0.1 - x_2)**3 - 0.04*(-x_1 - 0.58)**4 - 0.01)**2\n",
      "sampled_index 8 exp  8 signature  tensor([[ 0.9024,  0.5826, -1.3269, -9.6380, -3.5380, -8.6093]],\n",
      "       grad_fn=<StackBackward0>)\n"
     ]
    },
    {
     "name": "stderr",
     "output_type": "stream",
     "text": [
      "train loss: 2.90e-02 | test loss: 3.25e-02 | reg: 2.54e+00 : 100%|██| 20/20 [00:01<00:00, 10.48it/s]\n",
      "train loss: 4.04e-04 | test loss: 2.56e-03 | reg: 2.17e+00 : 100%|██| 50/50 [00:02<00:00, 23.18it/s]\n"
     ]
    },
    {
     "name": "stdout",
     "output_type": "stream",
     "text": [
      "r2 is 0.9986886382102966\n",
      "Best value at boundary.\n",
      "r2 is 0.9735383987426758\n",
      "Best value at boundary.\n",
      "r2 is 0.8121559023857117\n",
      "r2 is not very high, please double check if you are choosing the correct symbolic function.\n"
     ]
    },
    {
     "name": "stderr",
     "output_type": "stream",
     "text": [
      "train loss: 1.31e-03 | test loss: 1.71e-03 | reg: 2.50e+00 : 100%|██| 50/50 [00:00<00:00, 74.37it/s]\n",
      "/Users/gal.yona/Documents/MSc/Thesis/ImplicitNeuralSurfaces/forked_pykan/pykan/kan/KAN.py:344: UserWarning:\n",
      "\n",
      "std(): degrees of freedom is <= 0. Correction should be strictly less than the reduction factor (input numel divided by output numel). (Triggered internally at /Users/runner/work/pytorch/pytorch/pytorch/aten/src/ATen/native/ReduceOps.cpp:1760.)\n",
      "\n"
     ]
    },
    {
     "name": "stdout",
     "output_type": "stream",
     "text": [
      "0.01 - 81.12*(-(0.1 - x_2)**3 - 0.03*(-x_1 - 0.61)**4 - 0.e-2)**2\n",
      "sampled_index 8 exp  9 signature  tensor([[  0.9215,   0.6229,  -1.3826, -10.9840,  -4.0683, -10.5080]],\n",
      "       grad_fn=<StackBackward0>)\n",
      "9\n",
      "Number of vertices: 106712\n",
      "torch.Size([138, 2]) torch.Size([138, 1])\n"
     ]
    },
    {
     "name": "stderr",
     "output_type": "stream",
     "text": [
      "train loss: 2.64e-02 | test loss: 2.90e-02 | reg: 2.53e+00 : 100%|██| 20/20 [00:01<00:00, 10.23it/s]\n",
      "train loss: 1.54e-03 | test loss: 1.10e-02 | reg: 3.36e+00 : 100%|██| 50/50 [00:02<00:00, 17.52it/s]\n"
     ]
    },
    {
     "name": "stdout",
     "output_type": "stream",
     "text": [
      "r2 is 0.9904847145080566\n",
      "r2 is 0.9954710006713867\n",
      "Best value at boundary.\n",
      "r2 is 0.7839599847793579\n",
      "r2 is not very high, please double check if you are choosing the correct symbolic function.\n"
     ]
    },
    {
     "name": "stderr",
     "output_type": "stream",
     "text": [
      "train loss: 2.64e-03 | test loss: 3.40e-03 | reg: 4.78e+01 : 100%|██| 50/50 [00:01<00:00, 32.12it/s]\n",
      "/Users/gal.yona/Documents/MSc/Thesis/ImplicitNeuralSurfaces/forked_pykan/pykan/kan/KAN.py:344: UserWarning:\n",
      "\n",
      "std(): degrees of freedom is <= 0. Correction should be strictly less than the reduction factor (input numel divided by output numel). (Triggered internally at /Users/runner/work/pytorch/pytorch/pytorch/aten/src/ATen/native/ReduceOps.cpp:1760.)\n",
      "\n"
     ]
    },
    {
     "name": "stdout",
     "output_type": "stream",
     "text": [
      "0.58 - 52701.82*(-(-x_1 - 0.e-2)**4 + 0.02*(-x_2 - 0.09)**3)**2\n",
      "sampled_index 9 exp  0 signature  tensor([[   2.0379,    1.1360,  -35.2548,   17.6634, -266.1618,   10.0851]],\n",
      "       grad_fn=<StackBackward0>)\n"
     ]
    },
    {
     "name": "stderr",
     "output_type": "stream",
     "text": [
      "train loss: 3.03e-02 | test loss: 3.24e-02 | reg: 2.49e+00 : 100%|██| 20/20 [00:01<00:00, 10.30it/s]\n",
      "train loss: 1.54e-03 | test loss: 1.05e-02 | reg: 3.71e+00 : 100%|██| 50/50 [00:02<00:00, 18.78it/s]\n"
     ]
    },
    {
     "name": "stdout",
     "output_type": "stream",
     "text": [
      "r2 is 0.9902797937393188\n",
      "r2 is 0.9954178333282471\n",
      "Best value at boundary.\n",
      "r2 is 0.7964048385620117\n",
      "r2 is not very high, please double check if you are choosing the correct symbolic function.\n"
     ]
    },
    {
     "name": "stderr",
     "output_type": "stream",
     "text": [
      "train loss: 2.58e-03 | test loss: 3.16e-03 | reg: 7.33e+01 : 100%|██| 50/50 [00:02<00:00, 20.21it/s]\n",
      "/Users/gal.yona/Documents/MSc/Thesis/ImplicitNeuralSurfaces/forked_pykan/pykan/kan/KAN.py:344: UserWarning:\n",
      "\n",
      "std(): degrees of freedom is <= 0. Correction should be strictly less than the reduction factor (input numel divided by output numel). (Triggered internally at /Users/runner/work/pytorch/pytorch/pytorch/aten/src/ATen/native/ReduceOps.cpp:1760.)\n",
      "\n"
     ]
    },
    {
     "name": "stdout",
     "output_type": "stream",
     "text": [
      "0.84 - 28134.57*(-(-x_1 - 0.e-2)**4 + 0.01*(-x_2 - 0.13)**3 - 0.e-2)**2\n",
      "sampled_index 9 exp  1 signature  tensor([[   1.5720,    0.9804,  -35.6179,    8.8472, -198.9619,    5.8505]],\n",
      "       grad_fn=<StackBackward0>)\n"
     ]
    },
    {
     "name": "stderr",
     "output_type": "stream",
     "text": [
      "train loss: 3.43e-02 | test loss: 3.96e-02 | reg: 2.60e+00 : 100%|██| 20/20 [00:01<00:00, 10.25it/s]\n",
      "train loss: 1.48e-03 | test loss: 1.01e-02 | reg: 2.44e+00 : 100%|██| 50/50 [00:02<00:00, 17.51it/s]\n"
     ]
    },
    {
     "name": "stdout",
     "output_type": "stream",
     "text": [
      "r2 is 0.9952348470687866\n",
      "r2 is 0.9921999573707581\n",
      "r2 is 0.7877678275108337\n",
      "r2 is not very high, please double check if you are choosing the correct symbolic function.\n"
     ]
    },
    {
     "name": "stderr",
     "output_type": "stream",
     "text": [
      "train loss: 2.64e-03 | test loss: 3.42e-03 | reg: 2.90e+01 : 100%|██| 50/50 [00:01<00:00, 42.89it/s]\n",
      "/Users/gal.yona/Documents/MSc/Thesis/ImplicitNeuralSurfaces/forked_pykan/pykan/kan/KAN.py:344: UserWarning:\n",
      "\n",
      "std(): degrees of freedom is <= 0. Correction should be strictly less than the reduction factor (input numel divided by output numel). (Triggered internally at /Users/runner/work/pytorch/pytorch/pytorch/aten/src/ATen/native/ReduceOps.cpp:1760.)\n",
      "\n"
     ]
    },
    {
     "name": "stdout",
     "output_type": "stream",
     "text": [
      "0.46 - 71277.9*(-(-x_1 - 0.e-2)**4 + 0.02*(-x_2 - 0.09)**3)**2\n",
      "sampled_index 9 exp  2 signature  tensor([[   2.0208,    1.0083,  -33.7724,   17.8263, -254.9481,    9.0741]],\n",
      "       grad_fn=<StackBackward0>)\n"
     ]
    },
    {
     "name": "stderr",
     "output_type": "stream",
     "text": [
      "train loss: 2.92e-02 | test loss: 3.05e-02 | reg: 2.99e+00 : 100%|██| 20/20 [00:01<00:00, 10.30it/s]\n",
      "train loss: 1.55e-03 | test loss: 1.25e-02 | reg: 2.73e+00 : 100%|██| 50/50 [00:02<00:00, 18.57it/s]\n"
     ]
    },
    {
     "name": "stdout",
     "output_type": "stream",
     "text": [
      "r2 is 0.9912397265434265\n",
      "r2 is 0.9960734844207764\n",
      "Best value at boundary.\n",
      "r2 is 0.7526054978370667\n",
      "r2 is not very high, please double check if you are choosing the correct symbolic function.\n"
     ]
    },
    {
     "name": "stderr",
     "output_type": "stream",
     "text": [
      "train loss: 2.64e-03 | test loss: 3.40e-03 | reg: 3.10e+01 : 100%|██| 50/50 [00:01<00:00, 41.91it/s]\n",
      "/Users/gal.yona/Documents/MSc/Thesis/ImplicitNeuralSurfaces/forked_pykan/pykan/kan/KAN.py:344: UserWarning:\n",
      "\n",
      "std(): degrees of freedom is <= 0. Correction should be strictly less than the reduction factor (input numel divided by output numel). (Triggered internally at /Users/runner/work/pytorch/pytorch/pytorch/aten/src/ATen/native/ReduceOps.cpp:1760.)\n",
      "\n"
     ]
    },
    {
     "name": "stdout",
     "output_type": "stream",
     "text": [
      "0.52 - 60112.67*(-(-x_1 - 0.e-2)**4 + 0.02*(-x_2 - 0.09)**3)**2\n",
      "sampled_index 9 exp  3 signature  tensor([[   2.0350,    1.1183,  -35.1521,   17.7258, -265.3076,    9.9878]],\n",
      "       grad_fn=<StackBackward0>)\n"
     ]
    },
    {
     "name": "stderr",
     "output_type": "stream",
     "text": [
      "train loss: 2.90e-02 | test loss: 3.15e-02 | reg: 2.47e+00 : 100%|██| 20/20 [00:01<00:00, 10.24it/s]\n",
      "train loss: 1.54e-03 | test loss: 7.22e-03 | reg: 4.11e+00 : 100%|██| 50/50 [00:02<00:00, 18.57it/s]\n"
     ]
    },
    {
     "name": "stdout",
     "output_type": "stream",
     "text": [
      "Best value at boundary.\n",
      "r2 is 0.9926605224609375\n",
      "r2 is 0.9969990253448486\n",
      "r2 is 0.846113920211792\n",
      "r2 is not very high, please double check if you are choosing the correct symbolic function.\n"
     ]
    },
    {
     "name": "stderr",
     "output_type": "stream",
     "text": [
      "train loss: 2.64e-03 | test loss: 2.94e-03 | reg: 2.50e+01 : 100%|██| 50/50 [00:02<00:00, 23.13it/s]\n",
      "/Users/gal.yona/Documents/MSc/Thesis/ImplicitNeuralSurfaces/forked_pykan/pykan/kan/KAN.py:344: UserWarning:\n",
      "\n",
      "std(): degrees of freedom is <= 0. Correction should be strictly less than the reduction factor (input numel divided by output numel). (Triggered internally at /Users/runner/work/pytorch/pytorch/pytorch/aten/src/ATen/native/ReduceOps.cpp:1760.)\n",
      "\n"
     ]
    },
    {
     "name": "stdout",
     "output_type": "stream",
     "text": [
      "0.56 - 3000.51*(-(-x_1 - 0.04)**4 + 0.04*(-x_2 - 0.15)**3 - 0.01)**2\n",
      "sampled_index 9 exp  4 signature  tensor([[   1.8468,    3.0260,  -34.4594,    6.8482, -170.0184,   16.2635]],\n",
      "       grad_fn=<StackBackward0>)\n"
     ]
    },
    {
     "name": "stderr",
     "output_type": "stream",
     "text": [
      "train loss: 2.42e-02 | test loss: 2.83e-02 | reg: 2.71e+00 : 100%|██| 20/20 [00:01<00:00, 10.17it/s]\n",
      "train loss: 1.54e-03 | test loss: 8.17e-03 | reg: 4.58e+00 : 100%|██| 50/50 [00:02<00:00, 20.24it/s]\n"
     ]
    },
    {
     "name": "stdout",
     "output_type": "stream",
     "text": [
      "r2 is 0.9906328320503235\n",
      "r2 is 0.9960975050926208\n",
      "Best value at boundary.\n",
      "r2 is 0.8374990820884705\n",
      "r2 is not very high, please double check if you are choosing the correct symbolic function.\n"
     ]
    },
    {
     "name": "stderr",
     "output_type": "stream",
     "text": [
      "train loss: 2.59e-03 | test loss: 3.08e-03 | reg: 9.73e+01 : 100%|██| 50/50 [00:02<00:00, 20.22it/s]\n",
      "/Users/gal.yona/Documents/MSc/Thesis/ImplicitNeuralSurfaces/forked_pykan/pykan/kan/KAN.py:344: UserWarning:\n",
      "\n",
      "std(): degrees of freedom is <= 0. Correction should be strictly less than the reduction factor (input numel divided by output numel). (Triggered internally at /Users/runner/work/pytorch/pytorch/pytorch/aten/src/ATen/native/ReduceOps.cpp:1760.)\n",
      "\n"
     ]
    },
    {
     "name": "stdout",
     "output_type": "stream",
     "text": [
      "0.9 - 20446.67*(-(-x_1 - 0.01)**4 + 0.01*(-x_2 - 0.16)**3 - 0.e-2)**2\n",
      "sampled_index 9 exp  5 signature  tensor([[   1.3616,    0.9559,  -36.4132,    5.8987, -168.1811,    4.6137]],\n",
      "       grad_fn=<StackBackward0>)\n"
     ]
    },
    {
     "name": "stderr",
     "output_type": "stream",
     "text": [
      "train loss: 3.88e-02 | test loss: 4.47e-02 | reg: 2.54e+00 : 100%|██| 20/20 [00:01<00:00, 10.21it/s]\n",
      "train loss: 1.54e-03 | test loss: 8.49e-03 | reg: 3.98e+00 : 100%|██| 50/50 [00:02<00:00, 17.74it/s]\n"
     ]
    },
    {
     "name": "stdout",
     "output_type": "stream",
     "text": [
      "r2 is 0.9909321069717407\n",
      "r2 is 0.99598228931427\n",
      "Best value at boundary.\n",
      "r2 is 0.8311376571655273\n",
      "r2 is not very high, please double check if you are choosing the correct symbolic function.\n"
     ]
    },
    {
     "name": "stderr",
     "output_type": "stream",
     "text": [
      "train loss: 2.66e-03 | test loss: 3.20e-03 | reg: 1.61e+02 : 100%|██| 50/50 [00:01<00:00, 30.62it/s]\n",
      "/Users/gal.yona/Documents/MSc/Thesis/ImplicitNeuralSurfaces/forked_pykan/pykan/kan/KAN.py:344: UserWarning:\n",
      "\n",
      "std(): degrees of freedom is <= 0. Correction should be strictly less than the reduction factor (input numel divided by output numel). (Triggered internally at /Users/runner/work/pytorch/pytorch/pytorch/aten/src/ATen/native/ReduceOps.cpp:1760.)\n",
      "\n"
     ]
    },
    {
     "name": "stdout",
     "output_type": "stream",
     "text": [
      "1.48 - 7977.21*(-(-x_1 - 0.02)**4 + 0.03*(-x_2 - 0.1)**3 - 0.01)**2\n",
      "sampled_index 9 exp  6 signature  tensor([[   2.1476,    2.5810,  -43.0718,   15.1902, -307.7846,   20.7082]],\n",
      "       grad_fn=<StackBackward0>)\n"
     ]
    },
    {
     "name": "stderr",
     "output_type": "stream",
     "text": [
      "train loss: 2.69e-02 | test loss: 3.11e-02 | reg: 2.51e+00 : 100%|██| 20/20 [00:01<00:00, 10.20it/s]\n",
      "train loss: 1.55e-03 | test loss: 1.07e-02 | reg: 2.97e+00 : 100%|██| 50/50 [00:02<00:00, 17.64it/s]\n"
     ]
    },
    {
     "name": "stdout",
     "output_type": "stream",
     "text": [
      "r2 is 0.9905145764350891\n",
      "r2 is 0.9962534308433533\n",
      "Best value at boundary.\n",
      "r2 is 0.7873563766479492\n",
      "r2 is not very high, please double check if you are choosing the correct symbolic function.\n"
     ]
    },
    {
     "name": "stderr",
     "output_type": "stream",
     "text": [
      "train loss: 2.60e-03 | test loss: 3.29e-03 | reg: 6.19e+01 : 100%|██| 50/50 [00:01<00:00, 29.15it/s]\n",
      "/Users/gal.yona/Documents/MSc/Thesis/ImplicitNeuralSurfaces/forked_pykan/pykan/kan/KAN.py:344: UserWarning:\n",
      "\n",
      "std(): degrees of freedom is <= 0. Correction should be strictly less than the reduction factor (input numel divided by output numel). (Triggered internally at /Users/runner/work/pytorch/pytorch/pytorch/aten/src/ATen/native/ReduceOps.cpp:1760.)\n",
      "\n"
     ]
    },
    {
     "name": "stdout",
     "output_type": "stream",
     "text": [
      "0.66 - 42555.69*(-(-x_1 - 0.e-2)**4 + 0.02*(-x_2 - 0.11)**3)**2\n",
      "sampled_index 9 exp  7 signature  tensor([[   1.8234,    1.0223,  -34.8426,   13.2412, -232.8039,    7.6585]],\n",
      "       grad_fn=<StackBackward0>)\n"
     ]
    },
    {
     "name": "stderr",
     "output_type": "stream",
     "text": [
      "train loss: 3.89e-02 | test loss: 4.05e-02 | reg: 2.61e+00 : 100%|██| 20/20 [00:02<00:00,  9.98it/s]\n",
      "train loss: 1.55e-03 | test loss: 9.51e-03 | reg: 3.18e+00 : 100%|██| 50/50 [00:02<00:00, 17.48it/s]\n"
     ]
    },
    {
     "name": "stdout",
     "output_type": "stream",
     "text": [
      "Best value at boundary.\n",
      "r2 is 0.9910960793495178\n",
      "r2 is 0.996759295463562\n",
      "Best value at boundary.\n",
      "r2 is 0.800922691822052\n",
      "r2 is not very high, please double check if you are choosing the correct symbolic function.\n"
     ]
    },
    {
     "name": "stderr",
     "output_type": "stream",
     "text": [
      "train loss: 2.64e-03 | test loss: 2.94e-03 | reg: 2.05e+02 : 100%|██| 50/50 [00:01<00:00, 32.72it/s]\n",
      "/Users/gal.yona/Documents/MSc/Thesis/ImplicitNeuralSurfaces/forked_pykan/pykan/kan/KAN.py:344: UserWarning:\n",
      "\n",
      "std(): degrees of freedom is <= 0. Correction should be strictly less than the reduction factor (input numel divided by output numel). (Triggered internally at /Users/runner/work/pytorch/pytorch/pytorch/aten/src/ATen/native/ReduceOps.cpp:1760.)\n",
      "\n"
     ]
    },
    {
     "name": "stdout",
     "output_type": "stream",
     "text": [
      "1.83 - 1135.74*(-(-x_1 - 0.03)**4 + 0.03*(-x_2 - 0.15)**3 - 0.04)**2\n",
      "sampled_index 9 exp  8 signature  tensor([[   1.8370,    2.9568,  -35.7400,    6.5525, -177.5191,   14.7787]],\n",
      "       grad_fn=<StackBackward0>)\n"
     ]
    },
    {
     "name": "stderr",
     "output_type": "stream",
     "text": [
      "train loss: 3.91e-02 | test loss: 4.52e-02 | reg: 2.58e+00 : 100%|██| 20/20 [00:01<00:00, 10.35it/s]\n",
      "train loss: 1.46e-03 | test loss: 3.76e-03 | reg: 3.07e+00 : 100%|██| 50/50 [00:02<00:00, 17.65it/s]\n"
     ]
    },
    {
     "name": "stdout",
     "output_type": "stream",
     "text": [
      "r2 is 0.9916370511054993\n",
      "r2 is 0.9989679455757141\n",
      "r2 is 0.8535221219062805\n",
      "r2 is not very high, please double check if you are choosing the correct symbolic function.\n"
     ]
    },
    {
     "name": "stderr",
     "output_type": "stream",
     "text": [
      "train loss: 2.58e-03 | test loss: 3.18e-03 | reg: 1.15e+01 : 100%|██| 50/50 [00:01<00:00, 41.25it/s]\n",
      "/Users/gal.yona/Documents/MSc/Thesis/ImplicitNeuralSurfaces/forked_pykan/pykan/kan/KAN.py:344: UserWarning:\n",
      "\n",
      "std(): degrees of freedom is <= 0. Correction should be strictly less than the reduction factor (input numel divided by output numel). (Triggered internally at /Users/runner/work/pytorch/pytorch/pytorch/aten/src/ATen/native/ReduceOps.cpp:1760.)\n",
      "\n"
     ]
    },
    {
     "name": "stdout",
     "output_type": "stream",
     "text": [
      "0.41 - 59373.89*(-(-x_1 - 0.e-2)**4 + 0.01*(-x_2 - 0.13)**3)**2\n",
      "sampled_index 9 exp  9 signature  tensor([[   1.5704,    0.9134,  -34.5930,    9.3697, -194.8654,    5.8357]],\n",
      "       grad_fn=<StackBackward0>)\n"
     ]
    }
   ],
   "source": [
    "\n",
    "training_num_per_sampled_surface = 10\n",
    "signatures = torch.zeros((len(sampled_indices), training_num_per_sampled_surface, 6))\n",
    "means = []\n",
    "stds = []\n",
    "\n",
    "grid_range = 1.0\n",
    "ball_radius = 0.07\n",
    "lr = 0.1\n",
    "for i,sampled_index in enumerate(sampled_indices):\n",
    "    print(i)\n",
    "    dataset = create_dataset_from_mesh(mesh_path=mesh_path,sampled_index=sampled_index, show_sample=False, ball_radius=ball_radius, seed=sampled_index, down_sampling_ratio=0.8)\n",
    "    print(dataset['train_input'].shape, dataset['train_label'].shape)\n",
    "    for j in range(training_num_per_sampled_surface):\n",
    "        model = KAN(width=[2,5,1], grid=3, k=5, grid_eps=1.0, seed=0, grid_range=[-grid_range,grid_range], noise_scale=0.1, noise_scale_base=1.0, base_fun=torch.nn.SiLU(), learn_rotation_mat=False)\n",
    "        model.train(dataset, opt=\"LBFGS\", steps=20,lr=lr, lamb=100.0, lamb_l1=1.0, lamb_entropy=1.0, lamb_coef=0.0, lamb_coefdiff=0.0, sglr_avoid=True)\n",
    "        model = model.prune(threshold=3e-3, mode='manual', active_neurons_id=[[0,1],[0]])\n",
    "        model.train(dataset, opt=\"LBFGS\", steps=50,lr=lr, sglr_avoid=True)\n",
    "         # manual mode\n",
    "        # fix all\n",
    "        model.fix_symbolic(0,0,0,'x^4')\n",
    "        model.fix_symbolic(0,1,0,'x^3')\n",
    "        model.fix_symbolic(1,0,0,'x^2')\n",
    "\n",
    "        model.train(dataset, opt=\"LBFGS\", steps=50, lr=lr,sglr_avoid=True, lamb_coef=1.0, lamb_coefdiff=1.0, loss_fn=gaussian_weighted_mse)\n",
    "\n",
    "        print(model.symbolic_formula()[0][0])\n",
    "        x = torch.tensor([[0.0], [0.0]], requires_grad=True).T\n",
    "\n",
    "        signature = calculate_signature(model, x) # only calc sig in the origin\n",
    "        print(\"sampled_index\", i, \"exp \", j, \"signature \", signature)\n",
    "        signatures[i,j,:] = signature\n",
    "\n"
   ],
   "metadata": {
    "collapsed": false
   }
  },
  {
   "cell_type": "code",
   "execution_count": 43,
   "outputs": [
    {
     "data": {
      "text/plain": "tensor([[[ 1.0037e+01,  1.3007e+01, -1.8796e+01, -5.4984e+02,  1.6200e+02,\n          -5.5609e+03],\n         [ 3.8382e+00,  1.4614e+01,  2.0539e+01, -4.4854e+01,  1.7621e+02,\n          -3.3437e+02],\n         [ 1.0021e+01,  1.4191e+01, -1.0828e+01, -5.2068e+02,  1.8097e+02,\n          -5.4963e+03],\n         [ 1.0024e+01,  1.2300e+01, -2.4200e+01, -5.6796e+02,  1.5074e+02,\n          -5.5828e+03],\n         [ 1.0431e+01,  1.3576e+01, -2.3924e+01, -5.5190e+02,  1.5017e+02,\n          -5.7430e+03],\n         [ 5.3322e+00,  2.7358e+01,  9.0555e+01, -6.0985e+01,  1.1465e+03,\n          -5.0014e+02],\n         [ 9.9956e+00,  1.1516e+01, -2.8937e+01, -5.8527e+02,  1.4024e+02,\n          -5.5977e+03],\n         [ 3.9680e+00,  1.5479e+01,  2.0423e+01, -5.2521e+01,  1.9046e+02,\n          -3.9689e+02],\n         [ 3.8454e+00,  1.4666e+01,  1.9731e+01, -4.6308e+01,  1.6972e+02,\n          -3.4674e+02],\n         [ 3.5477e+00,  1.2558e+01, -1.1199e+00, -4.1664e+01, -1.2418e+01,\n          -2.9261e+02]],\n\n        [[-6.5286e-03, -5.1239e+00, -1.5643e+02,  6.1290e+01, -7.0274e+02,\n          -2.9146e+02],\n         [-7.4338e-01, -1.1673e+00, -1.4446e+02,  7.9734e+01, -1.6355e+02,\n          -3.2795e+02],\n         [ 5.1302e-01, -1.7673e+00,  1.4331e+02,  5.0950e+01,  5.5541e+02,\n          -9.3300e+01],\n         [-7.4339e-01, -1.1670e+00, -1.4441e+02,  7.9732e+01, -1.6346e+02,\n          -3.2792e+02],\n         [-7.4369e-01, -1.1632e+00, -1.4443e+02,  7.9677e+01, -1.6303e+02,\n          -3.2754e+02],\n         [-7.4421e-01, -1.1662e+00, -1.4444e+02,  7.9710e+01, -1.6330e+02,\n          -3.2799e+02],\n         [-7.4360e-01, -1.1689e+00, -1.4444e+02,  7.9776e+01, -1.6368e+02,\n          -3.2827e+02],\n         [-7.5017e-01, -1.1751e+00, -1.4439e+02,  7.9695e+01, -1.6347e+02,\n          -3.2996e+02],\n         [-7.4377e-01, -1.1671e+00, -1.4446e+02,  7.9709e+01, -1.6348e+02,\n          -3.2793e+02],\n         [-7.4378e-01, -1.1659e+00, -1.4442e+02,  7.9704e+01, -1.6330e+02,\n          -3.2784e+02]],\n\n        [[ 9.0248e-01,  1.3875e-03, -2.1003e+00, -3.7106e+01, -7.5787e+00,\n          -5.7101e-02],\n         [ 8.9910e-01,  3.1972e-03, -3.1803e+00, -3.6516e+01, -1.1426e+01,\n          -1.3020e-01],\n         [ 8.9148e-01,  1.3223e-03, -2.0604e+00, -3.9249e+01, -7.3442e+00,\n          -5.8293e-02],\n         [ 4.5964e-01,  1.2145e-03,  6.2954e-01, -4.3423e+01,  1.1406e+00,\n           2.0332e-01],\n         [ 8.9845e-01,  1.2011e-03, -1.9568e+00, -3.7772e+01, -7.0298e+00,\n          -5.0546e-02],\n         [ 4.6033e-01,  1.2239e-03,  6.3131e-01, -4.3434e+01,  1.1455e+00,\n           2.0534e-01],\n         [ 9.0468e-01,  1.2430e-03, -1.9884e+00, -3.6801e+01, -7.1927e+00,\n          -5.0602e-02],\n         [ 9.0763e-01,  1.4040e-03, -2.1126e+00, -3.5981e+01, -7.6666e+00,\n          -5.5699e-02],\n         [ 8.8497e-01,  1.4447e-03, -2.1336e+00, -3.7130e+01, -7.5493e+00,\n          -6.0921e-02],\n         [ 8.9678e-01,  1.4295e-04,  6.6925e-01, -3.3051e+01,  2.4006e+00,\n          -5.2882e-03]],\n\n        [[ 1.7115e+00, -2.9109e+01,  2.6534e+02, -2.6407e+02,  3.9073e+03,\n           2.0671e+03],\n         [ 4.4662e+00, -2.4228e+02, -4.4358e+01,  2.9190e+02, -2.1341e+03,\n          -4.3508e+03],\n         [ 2.0574e+00, -6.7633e+02, -1.9631e+02,  1.1211e+03, -2.7122e+03,\n          -5.0247e+04],\n         [ 7.1186e+00, -1.1579e+03, -1.8537e+02,  1.9189e+03, -1.9958e+04,\n          -9.1624e+04],\n         [ 1.4372e+00, -7.6456e+02, -2.8623e+02,  1.3813e+03,  1.7161e+02,\n          -6.2357e+04],\n         [ 5.0694e+00, -4.8801e+02,  8.0829e+01,  1.9131e+02, -1.6236e+03,\n          -1.4931e+04],\n         [ 1.1284e+00, -6.6344e+02, -2.6278e+02,  1.2064e+03,  8.0703e+02,\n          -4.9956e+04],\n         [ 4.8685e+00, -2.4355e+02, -6.0194e+01,  3.3363e+02, -2.0954e+03,\n          -4.1644e+03],\n         [ 4.9856e+00, -5.2513e+02,  1.6449e+02,  3.1806e+01,  3.6356e+03,\n          -1.2453e+04],\n         [ 7.8729e+00, -1.1128e+03, -1.0505e+02,  1.5540e+03, -2.1693e+04,\n          -8.1257e+04]],\n\n        [[ 2.0016e-01,  1.4298e-08,  8.1901e-03,  1.4123e+00,  6.5574e-03,\n           5.7434e-07],\n         [ 5.1654e-02,  2.3541e-03, -3.3049e-02, -2.3532e+01, -4.6780e-03,\n          -1.5971e+00],\n         [ 5.7179e-02,  3.1465e-03, -1.4300e+01,  3.5427e-01, -1.9524e+00,\n           4.3103e-02],\n         [ 5.1683e-02,  2.1256e-03, -2.3102e-02, -2.4778e+01, -3.4771e-03,\n          -1.4038e+00],\n         [ 4.5438e-02,  1.2198e-03, -8.6230e-03, -2.4747e+01, -1.2579e-03,\n          -8.1034e-01],\n         [ 4.1500e-02,  1.7069e-03,  8.3245e-02, -1.5458e+01,  5.3714e-03,\n          -1.1620e+00],\n         [ 5.8037e-02,  3.3359e-03,  1.6590e-01, -1.7726e+01,  1.5415e-02,\n          -1.8557e+00],\n         [ 2.0521e-01,  1.8694e-08,  9.9413e-03,  4.5397e-01,  8.1600e-03,\n           5.8524e-07],\n         [ 2.0776e+00,  8.9628e-02, -6.4783e+00, -5.0413e+00, -4.4347e-02,\n          -2.4546e+01],\n         [ 1.7131e-01,  2.6664e-08,  1.4340e-02,  5.9993e-01,  9.8261e-03,\n           6.2764e-07]],\n\n        [[-2.7201e+00, -2.4570e-01, -2.6267e+02,  1.0403e+02,  1.3970e+02,\n          -2.4864e-01],\n         [ 1.2640e-01, -3.7130e+00, -3.3081e+02,  7.7938e+01, -1.3612e+03,\n          -2.8093e+02],\n         [-7.6058e+00,  3.3890e+01, -1.8614e+02,  2.0844e+01,  9.3962e+02,\n          -3.5795e+02],\n         [ 7.5796e-01, -4.3696e+00, -3.0404e+02,  6.8589e+01, -1.8130e+03,\n          -2.0002e+02],\n         [-6.8487e+00, -1.0381e+01, -3.0996e+02,  1.6766e+01, -4.6406e+02,\n           4.3454e+01],\n         [ 4.1261e-01, -4.3583e+00, -3.2792e+02,  7.5385e+01, -1.6662e+03,\n          -2.5807e+02],\n         [-2.4846e+00, -3.0896e-01, -2.4560e+02,  1.0486e+02,  1.6306e+02,\n          -3.2243e-01],\n         [ 5.3869e-01, -4.4329e+00, -3.2136e+02,  7.1518e+01, -1.7430e+03,\n          -2.3310e+02],\n         [-2.3580e+00, -3.8063e-01, -2.4815e+02,  1.0094e+02,  1.6352e+02,\n          -6.9628e-01],\n         [-1.1649e+01,  2.0211e+00, -1.6396e+02, -7.8428e+00,  5.6155e+02,\n          -1.5250e+01]],\n\n        [[ 7.4519e+00,  4.4569e+00, -8.4903e+00,  3.6257e+02,  1.2994e+02,\n           1.2316e+03],\n         [ 5.5165e+00,  6.6937e+00,  1.1322e+01,  3.9830e+02,  2.2972e+02,\n           5.0583e+02],\n         [ 3.3090e+00,  3.2570e+00,  6.8264e+00,  8.0425e+01,  8.1596e+01,\n           8.3835e+01],\n         [ 5.4034e+00,  6.3712e+00,  1.2992e+01,  3.7356e+02,  2.5905e+02,\n           4.6340e+02],\n         [ 7.4532e+00,  4.4688e+00, -8.4275e+00,  3.6158e+02,  1.3023e+02,\n           1.2303e+03],\n         [ 5.2846e+00,  6.4543e+00,  1.1273e+01,  3.6988e+02,  2.1489e+02,\n           4.8265e+02],\n         [ 5.5640e+00,  6.7661e+00,  1.1248e+01,  4.0606e+02,  2.3079e+02,\n           5.1536e+02],\n         [ 7.4560e+00,  4.4623e+00, -8.4408e+00,  3.6209e+02,  1.3018e+02,\n           1.2310e+03],\n         [ 7.4537e+00,  4.4595e+00, -8.4712e+00,  3.6239e+02,  1.3005e+02,\n           1.2316e+03],\n         [ 3.3604e+00,  3.3318e+00,  6.8766e+00,  8.3312e+01,  8.3482e+01,\n           8.7452e+01]],\n\n        [[ 8.5199e-01,  2.5662e-01, -3.7978e+01, -2.9785e+01, -1.1674e+02,\n          -9.9725e+00],\n         [ 1.1249e+00,  6.2440e-01, -5.9861e+01, -3.7970e+01, -2.3058e+02,\n          -2.3840e+01],\n         [ 8.4230e-01,  2.3302e-01, -3.6739e+01, -3.0945e+01, -1.1261e+02,\n          -9.4215e+00],\n         [ 1.1259e+00,  6.2641e-01, -5.9979e+01, -3.7925e+01, -2.3116e+02,\n          -2.3871e+01],\n         [ 8.4330e-01,  2.3272e-01, -3.6723e+01, -3.0787e+01, -1.1274e+02,\n          -9.3451e+00],\n         [ 8.4873e-01,  2.3757e-01, -3.7079e+01, -3.0636e+01, -1.1447e+02,\n          -9.4349e+00],\n         [ 8.4247e-01,  2.3285e-01, -3.6733e+01, -3.1011e+01, -1.1263e+02,\n          -9.4311e+00],\n         [ 8.4483e-01,  2.3289e-01, -3.6725e+01, -3.0890e+01, -1.1298e+02,\n          -9.3613e+00],\n         [ 8.4425e-01,  2.3360e-01, -3.6802e+01, -3.1084e+01, -1.1309e+02,\n          -9.4587e+00],\n         [ 8.4465e-01,  2.3763e-01, -3.7011e+01, -3.0875e+01, -1.1358e+02,\n          -9.5733e+00]],\n\n        [[ 8.5653e-01,  4.8791e-01, -6.1462e-01, -6.8003e+00, -1.6988e+00,\n          -4.8472e+00],\n         [ 9.1645e-01,  6.1939e-01, -1.3838e+00, -1.0767e+01, -4.0132e+00,\n          -1.0311e+01],\n         [ 9.1709e-01,  6.1236e-01, -1.3908e+00, -1.0636e+01, -3.9689e+00,\n          -1.0003e+01],\n         [ 9.0535e-01,  6.1953e-01, -1.4015e+00, -1.0188e+01, -3.9290e+00,\n          -9.9591e+00],\n         [ 9.2069e-01,  6.1645e-01, -1.3821e+00, -1.0879e+01, -4.0161e+00,\n          -1.0265e+01],\n         [ 9.1368e-01,  6.0629e-01, -1.3809e+00, -1.0485e+01, -3.8968e+00,\n          -9.7774e+00],\n         [ 9.0905e-01,  6.2568e-01, -1.4234e+00, -1.0268e+01, -4.0119e+00,\n          -1.0119e+01],\n         [ 9.1174e-01,  5.9742e-01, -1.3361e+00, -1.0627e+01, -3.8005e+00,\n          -9.7310e+00],\n         [ 9.0235e-01,  5.8262e-01, -1.3269e+00, -9.6380e+00, -3.5380e+00,\n          -8.6093e+00],\n         [ 9.2151e-01,  6.2286e-01, -1.3826e+00, -1.0984e+01, -4.0683e+00,\n          -1.0508e+01]],\n\n        [[ 2.0379e+00,  1.1360e+00, -3.5255e+01,  1.7663e+01, -2.6616e+02,\n           1.0085e+01],\n         [ 1.5720e+00,  9.8039e-01, -3.5618e+01,  8.8472e+00, -1.9896e+02,\n           5.8505e+00],\n         [ 2.0208e+00,  1.0083e+00, -3.3772e+01,  1.7826e+01, -2.5495e+02,\n           9.0741e+00],\n         [ 2.0350e+00,  1.1183e+00, -3.5152e+01,  1.7726e+01, -2.6531e+02,\n           9.9878e+00],\n         [ 1.8468e+00,  3.0260e+00, -3.4459e+01,  6.8482e+00, -1.7002e+02,\n           1.6264e+01],\n         [ 1.3616e+00,  9.5590e-01, -3.6413e+01,  5.8987e+00, -1.6818e+02,\n           4.6137e+00],\n         [ 2.1476e+00,  2.5810e+00, -4.3072e+01,  1.5190e+01, -3.0778e+02,\n           2.0708e+01],\n         [ 1.8234e+00,  1.0223e+00, -3.4843e+01,  1.3241e+01, -2.3280e+02,\n           7.6585e+00],\n         [ 1.8370e+00,  2.9568e+00, -3.5740e+01,  6.5525e+00, -1.7752e+02,\n           1.4779e+01],\n         [ 1.5704e+00,  9.1336e-01, -3.4593e+01,  9.3697e+00, -1.9487e+02,\n           5.8357e+00]]], grad_fn=<CopySlices>)"
     },
     "execution_count": 43,
     "metadata": {},
     "output_type": "execute_result"
    }
   ],
   "source": [
    "signatures"
   ],
   "metadata": {
    "collapsed": false
   }
  },
  {
   "cell_type": "code",
   "execution_count": 44,
   "outputs": [],
   "source": [
    "#  #discard all nan and 0\n",
    "# signatures = signatures[~torch.isnan(signatures).any(dim=2)]\n",
    "# signatures = signatures[~(signatures == 0).all(dim=2)]"
   ],
   "metadata": {
    "collapsed": false
   }
  },
  {
   "cell_type": "code",
   "execution_count": 45,
   "outputs": [
    {
     "name": "stdout",
     "output_type": "stream",
     "text": [
      "mean signature  tensor([[ 7.1040e+00,  1.4927e+01,  4.3443e+00, -3.0220e+02,  2.4546e+02,\n",
      "         -2.9852e+03],\n",
      "        [-5.4495e-01, -1.6232e+00, -1.1686e+02,  7.4998e+01, -1.4546e+02,\n",
      "         -3.0102e+02],\n",
      "        [ 8.1055e-01,  1.3781e-03, -1.3602e+00, -3.8046e+01, -5.1101e+00,\n",
      "         -5.9996e-03],\n",
      "        [ 4.0716e+00, -5.9031e+02, -6.2963e+01,  7.7663e+02, -4.1694e+03,\n",
      "         -3.6927e+04],\n",
      "        [ 2.9598e-01,  1.0352e-02, -2.0562e+00, -1.0846e+01, -1.9609e-01,\n",
      "         -3.1332e+00],\n",
      "        [-3.1830e+00,  7.7205e-01, -2.7006e+02,  6.3303e+01, -5.0801e+02,\n",
      "         -1.3031e+02],\n",
      "        [ 5.8253e+00,  5.0722e+00,  2.6707e+00,  3.1602e+02,  1.6199e+02,\n",
      "          7.0631e+02],\n",
      "        [ 9.0133e-01,  3.1477e-01, -4.1563e+01, -3.2191e+01, -1.3706e+02,\n",
      "         -1.2371e+01],\n",
      "        [ 9.0745e-01,  5.9905e-01, -1.3023e+00, -1.0127e+01, -3.6942e+00,\n",
      "         -9.4130e+00],\n",
      "        [ 1.8253e+00,  1.5698e+00, -3.5892e+01,  1.1916e+01, -2.2366e+02,\n",
      "          1.0486e+01]], grad_fn=<MeanBackward1>)\n",
      "std signature  tensor([[3.1967e+00, 4.5363e+00, 3.6066e+01, 2.6714e+02, 3.2183e+02, 2.7534e+03],\n",
      "        [4.3815e-01, 1.2444e+00, 9.1491e+01, 1.0244e+01, 2.9895e+02, 7.3894e+01],\n",
      "        [1.8488e-01, 7.4111e-04, 1.4263e+00, 3.2369e+00, 4.7854e+00, 1.1485e-01],\n",
      "        [2.3941e+00, 3.6656e+02, 1.8405e+02, 7.4458e+02, 9.0869e+03, 3.4462e+04],\n",
      "        [6.2961e-01, 2.7883e-02, 4.7635e+00, 1.1475e+01, 6.1734e-01, 7.5594e+00],\n",
      "        [4.2073e+00, 1.2139e+01, 5.9486e+01, 3.9844e+01, 1.0467e+03, 1.4918e+02],\n",
      "        [1.6210e+00, 1.3707e+00, 9.7709e+00, 1.2439e+02, 6.5179e+01, 4.7819e+02],\n",
      "        [1.1813e-01, 1.6388e-01, 9.6824e+00, 3.0561e+00, 4.9459e+01, 6.0557e+00],\n",
      "        [1.8944e-02, 4.1186e-02, 2.4327e-01, 1.2327e+00, 7.1765e-01, 1.6866e+00],\n",
      "        [2.5299e-01, 8.9625e-01, 2.6291e+00, 4.9526e+00, 4.8538e+01, 5.2100e+00]],\n",
      "       grad_fn=<StdBackward0>)\n"
     ]
    }
   ],
   "source": [
    "mean_signature = torch.mean(signatures, dim=1)\n",
    "std_signature = torch.std(signatures, dim=1)\n",
    "print(\"mean signature \", mean_signature)\n",
    "print(\"std signature \", std_signature)"
   ],
   "metadata": {
    "collapsed": false
   }
  },
  {
   "cell_type": "code",
   "execution_count": 46,
   "outputs": [
    {
     "name": "stdout",
     "output_type": "stream",
     "text": [
      "mean of means signature  tensor([ 1.8013e+00, -5.6867e+01, -5.2504e+01,  8.4945e+01, -4.7851e+02,\n",
      "        -3.9652e+03], grad_fn=<MeanBackward1>)\n",
      "mean of stds signature  tensor([1.3062e+00, 3.8698e+01, 3.9960e+01, 1.2102e+02, 1.0924e+03, 3.7937e+03],\n",
      "       grad_fn=<MeanBackward1>)\n"
     ]
    }
   ],
   "source": [
    "mean_of_means_signature = torch.mean(mean_signature, dim=0)\n",
    "mean_of_stds_signature = torch.mean(std_signature, dim=0)\n",
    "print(\"mean of means signature \", mean_of_means_signature)\n",
    "print(\"mean of stds signature \", mean_of_stds_signature)"
   ],
   "metadata": {
    "collapsed": false
   }
  },
  {
   "cell_type": "code",
   "execution_count": 47,
   "outputs": [
    {
     "name": "stdout",
     "output_type": "stream",
     "text": [
      "std/mean  tensor([0.7251, 0.6805, 0.7611, 1.4246, 2.2828, 0.9568],\n",
      "       grad_fn=<AbsBackward0>)\n"
     ]
    }
   ],
   "source": [
    "# calculate std/mean to see the variation of the signature\n",
    "std_over_mean = abs(mean_of_stds_signature/mean_of_means_signature)\n",
    "print(\"std/mean \", std_over_mean)"
   ],
   "metadata": {
    "collapsed": false
   }
  },
  {
   "cell_type": "code",
   "execution_count": 49,
   "outputs": [
    {
     "name": "stdout",
     "output_type": "stream",
     "text": [
      "mean signature  tensor([-9.9075e+02, -9.3022e+01, -7.9698e+00, -6.8315e+00, -1.8500e+04,\n",
      "        -4.3592e+00, -4.2534e+00, -3.7535e+02, -3.6346e+02,  1.8680e+02,\n",
      "         1.9596e+02, -5.8530e+01, -3.1480e+01, -3.9920e+00, -3.6045e+00,\n",
      "        -4.4932e+01, -3.5295e+01], grad_fn=<MeanBackward1>)\n",
      "std signature  tensor([2.2523e+03, 1.4806e+02, 1.5610e+01, 1.7931e+01, 3.6729e+04, 1.0019e+01,\n",
      "        1.0045e+01, 7.1817e+02, 6.5780e+02, 2.0605e+02, 2.2518e+02, 8.7735e+01,\n",
      "        4.2920e+01, 5.0191e+00, 4.5714e+00, 1.0948e+02, 7.9775e+01],\n",
      "       grad_fn=<StdBackward0>)\n",
      "torch.Size([17, 6])\n",
      "tensor([[ 1.0037e+01,  1.3007e+01, -1.8796e+01, -5.4984e+02,  1.6200e+02,\n",
      "         -5.5609e+03],\n",
      "        [-7.4338e-01, -1.1673e+00, -1.4446e+02,  7.9734e+01, -1.6355e+02,\n",
      "         -3.2795e+02],\n",
      "        [ 8.9148e-01,  1.3223e-03, -2.0604e+00, -3.9249e+01, -7.3442e+00,\n",
      "         -5.8293e-02],\n",
      "        [ 4.5964e-01,  1.2145e-03,  6.2954e-01, -4.3423e+01,  1.1406e+00,\n",
      "          2.0332e-01],\n",
      "        [ 7.1186e+00, -1.1579e+03, -1.8537e+02,  1.9189e+03, -1.9958e+04,\n",
      "         -9.1624e+04],\n",
      "        [ 5.1683e-02,  2.1256e-03, -2.3102e-02, -2.4778e+01, -3.4771e-03,\n",
      "         -1.4038e+00],\n",
      "        [ 4.5438e-02,  1.2198e-03, -8.6230e-03, -2.4747e+01, -1.2579e-03,\n",
      "         -8.1034e-01],\n",
      "        [ 7.5796e-01, -4.3696e+00, -3.0404e+02,  6.8589e+01, -1.8130e+03,\n",
      "         -2.0002e+02],\n",
      "        [ 4.1261e-01, -4.3583e+00, -3.2792e+02,  7.5385e+01, -1.6662e+03,\n",
      "         -2.5807e+02],\n",
      "        [ 5.4034e+00,  6.3712e+00,  1.2992e+01,  3.7356e+02,  2.5905e+02,\n",
      "          4.6340e+02],\n",
      "        [ 5.5640e+00,  6.7661e+00,  1.1248e+01,  4.0606e+02,  2.3079e+02,\n",
      "          5.1536e+02],\n",
      "        [ 1.1259e+00,  6.2641e-01, -5.9979e+01, -3.7925e+01, -2.3116e+02,\n",
      "         -2.3871e+01],\n",
      "        [ 8.4483e-01,  2.3289e-01, -3.6725e+01, -3.0890e+01, -1.1298e+02,\n",
      "         -9.3613e+00],\n",
      "        [ 9.0535e-01,  6.1953e-01, -1.4015e+00, -1.0188e+01, -3.9290e+00,\n",
      "         -9.9591e+00],\n",
      "        [ 9.0235e-01,  5.8262e-01, -1.3269e+00, -9.6380e+00, -3.5380e+00,\n",
      "         -8.6093e+00],\n",
      "        [ 2.0350e+00,  1.1183e+00, -3.5152e+01,  1.7726e+01, -2.6531e+02,\n",
      "          9.9878e+00],\n",
      "        [ 1.5704e+00,  9.1336e-01, -3.4593e+01,  9.3697e+00, -1.9487e+02,\n",
      "          5.8357e+00]], grad_fn=<IndexBackward0>)\n"
     ]
    }
   ],
   "source": [
    "outliers = torch.abs(signatures - mean_signature) > 2 * std_signature\n",
    "signatures_without_outliers = signatures[~outliers.any(dim=2)]\n",
    "mean_signature = torch.mean(signatures_without_outliers, dim=1)\n",
    "std_signature = torch.std(signatures_without_outliers, dim=1)\n",
    "print(\"mean signature \", mean_signature)\n",
    "print(\"std signature \", std_signature)\n",
    "print(signatures_without_outliers.shape)\n",
    "print(signatures_without_outliers)\n",
    "\n",
    "\n"
   ],
   "metadata": {
    "collapsed": false
   }
  },
  {
   "cell_type": "code",
   "execution_count": 50,
   "outputs": [
    {
     "name": "stdout",
     "output_type": "stream",
     "text": [
      "std/mean  tensor([2.2733, 1.5917, 1.9586, 2.6247, 1.9853, 2.2984, 2.3617, 1.9133, 1.8098,\n",
      "        1.1031, 1.1491, 1.4990, 1.3634, 1.2573, 1.2682, 2.4366, 2.2602],\n",
      "       grad_fn=<AbsBackward0>)\n"
     ]
    }
   ],
   "source": [
    "# calculate std/mean to see the variation of the signature\n",
    "std_over_mean = abs(std_signature/mean_signature)\n",
    "print(\"std/mean \", std_over_mean)"
   ],
   "metadata": {
    "collapsed": false
   }
  },
  {
   "cell_type": "code",
   "execution_count": null,
   "outputs": [],
   "source": [],
   "metadata": {
    "collapsed": false
   }
  }
 ],
 "metadata": {
  "kernelspec": {
   "display_name": "Python 3",
   "language": "python",
   "name": "python3"
  },
  "language_info": {
   "codemirror_mode": {
    "name": "ipython",
    "version": 2
   },
   "file_extension": ".py",
   "mimetype": "text/x-python",
   "name": "python",
   "nbconvert_exporter": "python",
   "pygments_lexer": "ipython2",
   "version": "2.7.6"
  }
 },
 "nbformat": 4,
 "nbformat_minor": 0
}
