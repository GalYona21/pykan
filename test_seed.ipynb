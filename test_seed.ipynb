{
 "cells": [
  {
   "cell_type": "code",
   "execution_count": 1,
   "metadata": {
    "collapsed": true
   },
   "outputs": [],
   "source": [
    "from kan import *\n",
    "from my_functions import calculate_signature, format_signature\n"
   ]
  },
  {
   "cell_type": "code",
   "execution_count": 91,
   "outputs": [
    {
     "data": {
      "text/plain": "(torch.Size([372, 2]), torch.Size([372, 1]))"
     },
     "execution_count": 91,
     "metadata": {},
     "output_type": "execute_result"
    }
   ],
   "source": [
    "mesh_path = \"data/bunny_curvs.ply\"\n",
    "dataset = create_dataset_from_mesh(mesh_path=mesh_path,sampled_index=1000, show_sample=False, ball_radius=0.1)\n",
    "x = torch.tensor([[0.0], [0.0]], requires_grad=True).T\n",
    "dataset['train_input'].shape, dataset['train_label'].shape\n"
   ],
   "metadata": {
    "collapsed": false
   }
  },
  {
   "cell_type": "code",
   "execution_count": 141,
   "outputs": [
    {
     "name": "stderr",
     "output_type": "stream",
     "text": [
      "train loss: 1.97e-02 | test loss: 2.10e-02 | reg: 3.58e+00 : 100%|██| 20/20 [00:02<00:00,  7.43it/s]\n",
      "train loss: 2.48e-03 | test loss: 5.35e-03 | reg: 3.39e+00 : 100%|██| 50/50 [00:02<00:00, 20.49it/s]\n"
     ]
    },
    {
     "name": "stdout",
     "output_type": "stream",
     "text": [
      "fixing (0,0,0) with x^2, r2=0.9682602286338806\n",
      "fixing (0,1,0) with x^3, r2=0.9993513822555542\n",
      "fixing (1,0,0) with x^2, r2=0.9964746832847595\n"
     ]
    },
    {
     "name": "stderr",
     "output_type": "stream",
     "text": [
      "train loss: 3.59e-03 | test loss: 6.81e-03 | reg: 3.26e+00 : 100%|██| 50/50 [00:00<00:00, 86.76it/s]\n",
      "/Users/gal.yona/Documents/MSc/Thesis/ImplicitNeuralSurfaces/pykan/kan/KAN.py:325: UserWarning: std(): degrees of freedom is <= 0. Correction should be strictly less than the reduction factor (input numel divided by output numel). (Triggered internally at /Users/runner/work/pytorch/pytorch/pytorch/aten/src/ATen/native/ReduceOps.cpp:1760.)\n",
      "  self.acts_scale_std.append(torch.std(postacts, dim=0))\n"
     ]
    },
    {
     "name": "stdout",
     "output_type": "stream",
     "text": [
      "331.82*(x_1**2 + 0.43*(-x_2 - 0.13)**3 + 0.01)**2 - 0.06\n",
      "seed  0 signature  tensor([[ -7.6602, -47.3480,  -8.0490,  21.4087, -48.8493,  47.7159]],\n",
      "       grad_fn=<StackBackward0>)\n"
     ]
    },
    {
     "name": "stderr",
     "output_type": "stream",
     "text": [
      "train loss: 2.05e-02 | test loss: 2.17e-02 | reg: 3.06e+00 : 100%|██| 20/20 [00:02<00:00,  8.26it/s]\n",
      "train loss: 2.48e-03 | test loss: 4.94e-03 | reg: 2.30e+00 : 100%|██| 50/50 [00:02<00:00, 22.52it/s]\n"
     ]
    },
    {
     "name": "stdout",
     "output_type": "stream",
     "text": [
      "fixing (0,0,0) with x^2, r2=0.9665479063987732\n",
      "fixing (0,1,0) with x^3, r2=0.9993736147880554\n",
      "fixing (1,0,0) with x^2, r2=0.9949849843978882\n"
     ]
    },
    {
     "name": "stderr",
     "output_type": "stream",
     "text": [
      "train loss: 3.59e-03 | test loss: 6.81e-03 | reg: 2.50e+00 : 100%|██| 50/50 [00:00<00:00, 68.16it/s]\n",
      "/Users/gal.yona/Documents/MSc/Thesis/ImplicitNeuralSurfaces/pykan/kan/KAN.py:325: UserWarning: std(): degrees of freedom is <= 0. Correction should be strictly less than the reduction factor (input numel divided by output numel). (Triggered internally at /Users/runner/work/pytorch/pytorch/pytorch/aten/src/ATen/native/ReduceOps.cpp:1760.)\n",
      "  self.acts_scale_std.append(torch.std(postacts, dim=0))\n"
     ]
    },
    {
     "name": "stdout",
     "output_type": "stream",
     "text": [
      "333.35*(x_1**2 + 0.44*(-x_2 - 0.13)**3 + 0.01)**2 - 0.06\n",
      "seed  1 signature  tensor([[ -7.6490, -47.5422,  -8.0060,  21.5123, -48.8006,  47.8311]],\n",
      "       grad_fn=<StackBackward0>)\n"
     ]
    },
    {
     "name": "stderr",
     "output_type": "stream",
     "text": [
      "train loss: 2.05e-02 | test loss: 2.15e-02 | reg: 3.15e+00 : 100%|██| 20/20 [00:02<00:00,  8.37it/s]\n",
      "train loss: 2.49e-03 | test loss: 6.20e-03 | reg: 4.45e+00 : 100%|██| 50/50 [00:02<00:00, 19.55it/s]\n"
     ]
    },
    {
     "name": "stdout",
     "output_type": "stream",
     "text": [
      "fixing (0,0,0) with x^2, r2=0.9672098159790039\n",
      "fixing (0,1,0) with x^3, r2=0.9991932511329651\n",
      "fixing (1,0,0) with x^2, r2=0.997234046459198\n"
     ]
    },
    {
     "name": "stderr",
     "output_type": "stream",
     "text": [
      "train loss: 3.59e-03 | test loss: 6.81e-03 | reg: 4.66e+00 : 100%|██| 50/50 [00:00<00:00, 63.12it/s]\n",
      "/Users/gal.yona/Documents/MSc/Thesis/ImplicitNeuralSurfaces/pykan/kan/KAN.py:325: UserWarning: std(): degrees of freedom is <= 0. Correction should be strictly less than the reduction factor (input numel divided by output numel). (Triggered internally at /Users/runner/work/pytorch/pytorch/pytorch/aten/src/ATen/native/ReduceOps.cpp:1760.)\n",
      "  self.acts_scale_std.append(torch.std(postacts, dim=0))\n"
     ]
    },
    {
     "name": "stdout",
     "output_type": "stream",
     "text": [
      "350.89*(-x_1**2 - 0.47*(-x_2 - 0.13)**3 - 0.01)**2 - 0.06\n",
      "seed  2 signature  tensor([[ -7.5523, -48.7489,  -7.5326,  22.4052, -46.8348,  55.4203]],\n",
      "       grad_fn=<StackBackward0>)\n"
     ]
    },
    {
     "name": "stderr",
     "output_type": "stream",
     "text": [
      "train loss: 2.06e-02 | test loss: 2.27e-02 | reg: 3.71e+00 : 100%|██| 20/20 [00:02<00:00,  8.51it/s]\n",
      "train loss: 2.47e-03 | test loss: 5.23e-03 | reg: 2.35e+00 : 100%|██| 50/50 [00:02<00:00, 17.40it/s]\n"
     ]
    },
    {
     "name": "stdout",
     "output_type": "stream",
     "text": [
      "fixing (0,0,0) with x^2, r2=0.9679015278816223\n",
      "fixing (0,1,0) with x^3, r2=0.9993370175361633\n",
      "fixing (1,0,0) with x^2, r2=0.9964369535446167\n"
     ]
    },
    {
     "name": "stderr",
     "output_type": "stream",
     "text": [
      "train loss: 3.59e-03 | test loss: 6.81e-03 | reg: 2.62e+00 : 100%|██| 50/50 [00:00<00:00, 66.61it/s]\n",
      "/Users/gal.yona/Documents/MSc/Thesis/ImplicitNeuralSurfaces/pykan/kan/KAN.py:325: UserWarning: std(): degrees of freedom is <= 0. Correction should be strictly less than the reduction factor (input numel divided by output numel). (Triggered internally at /Users/runner/work/pytorch/pytorch/pytorch/aten/src/ATen/native/ReduceOps.cpp:1760.)\n",
      "  self.acts_scale_std.append(torch.std(postacts, dim=0))\n"
     ]
    },
    {
     "name": "stdout",
     "output_type": "stream",
     "text": [
      "334.15*(-x_1**2 - 0.44*(-x_2 - 0.13)**3 - 0.01)**2 - 0.06\n",
      "seed  3 signature  tensor([[ -7.6433, -47.6519,  -7.9776,  21.5682, -48.7488,  47.7809]],\n",
      "       grad_fn=<StackBackward0>)\n"
     ]
    },
    {
     "name": "stderr",
     "output_type": "stream",
     "text": [
      "train loss: 1.92e-02 | test loss: 2.10e-02 | reg: 2.94e+00 : 100%|██| 20/20 [00:02<00:00,  8.12it/s]\n",
      "train loss: 2.48e-03 | test loss: 5.61e-03 | reg: 2.06e+00 : 100%|██| 50/50 [00:02<00:00, 19.60it/s]\n"
     ]
    },
    {
     "name": "stdout",
     "output_type": "stream",
     "text": [
      "fixing (0,0,0) with x^2, r2=0.9671437740325928\n",
      "fixing (0,1,0) with x^3, r2=0.999462366104126\n",
      "fixing (1,0,0) with x^4, r2=0.997017502784729\n"
     ]
    },
    {
     "name": "stderr",
     "output_type": "stream",
     "text": [
      "train loss: 3.60e-03 | test loss: 6.78e-03 | reg: 3.38e+00 : 100%|██| 50/50 [00:00<00:00, 65.81it/s]\n",
      "/Users/gal.yona/Documents/MSc/Thesis/ImplicitNeuralSurfaces/pykan/kan/KAN.py:325: UserWarning: std(): degrees of freedom is <= 0. Correction should be strictly less than the reduction factor (input numel divided by output numel). (Triggered internally at /Users/runner/work/pytorch/pytorch/pytorch/aten/src/ATen/native/ReduceOps.cpp:1760.)\n",
      "  self.acts_scale_std.append(torch.std(postacts, dim=0))\n"
     ]
    },
    {
     "name": "stdout",
     "output_type": "stream",
     "text": [
      "21355.9*(x_1**2 + 0.44*(-x_2 - 0.13)**3 + 0.05)**4 - 0.11\n",
      "seed  4 signature  tensor([[ -7.6833, -49.0080,  -8.8046,  20.8305, -58.1582,  -3.3882]],\n",
      "       grad_fn=<StackBackward0>)\n"
     ]
    },
    {
     "name": "stderr",
     "output_type": "stream",
     "text": [
      "train loss: 2.33e-02 | test loss: 2.66e-02 | reg: 3.02e+00 : 100%|██| 20/20 [00:02<00:00,  8.16it/s]\n",
      "train loss: 2.48e-03 | test loss: 5.29e-03 | reg: 2.81e+00 : 100%|██| 50/50 [00:02<00:00, 18.98it/s]\n"
     ]
    },
    {
     "name": "stdout",
     "output_type": "stream",
     "text": [
      "fixing (0,0,0) with x^2, r2=0.9675453305244446\n",
      "fixing (0,1,0) with x^3, r2=0.9994936585426331\n",
      "fixing (1,0,0) with x^2, r2=0.9969571828842163\n"
     ]
    },
    {
     "name": "stderr",
     "output_type": "stream",
     "text": [
      "train loss: 3.59e-03 | test loss: 6.81e-03 | reg: 2.89e+00 : 100%|██| 50/50 [00:00<00:00, 84.12it/s]\n",
      "/Users/gal.yona/Documents/MSc/Thesis/ImplicitNeuralSurfaces/pykan/kan/KAN.py:325: UserWarning: std(): degrees of freedom is <= 0. Correction should be strictly less than the reduction factor (input numel divided by output numel). (Triggered internally at /Users/runner/work/pytorch/pytorch/pytorch/aten/src/ATen/native/ReduceOps.cpp:1760.)\n",
      "  self.acts_scale_std.append(torch.std(postacts, dim=0))\n"
     ]
    },
    {
     "name": "stdout",
     "output_type": "stream",
     "text": [
      "332.5*(x_1**2 + 0.43*(-x_2 - 0.13)**3 + 0.01)**2 - 0.06\n",
      "seed  5 signature  tensor([[ -7.6552, -47.4346,  -8.0300,  21.4549, -48.8291,  47.7699]],\n",
      "       grad_fn=<StackBackward0>)\n"
     ]
    },
    {
     "name": "stderr",
     "output_type": "stream",
     "text": [
      "train loss: 1.95e-02 | test loss: 2.14e-02 | reg: 3.28e+00 : 100%|██| 20/20 [00:02<00:00,  7.16it/s]\n",
      "train loss: 2.47e-03 | test loss: 4.87e-03 | reg: 2.65e+00 : 100%|██| 50/50 [00:02<00:00, 19.60it/s]\n"
     ]
    },
    {
     "name": "stdout",
     "output_type": "stream",
     "text": [
      "fixing (0,0,0) with x^2, r2=0.9663770794868469\n",
      "fixing (0,1,0) with x^3, r2=0.9991899728775024\n",
      "fixing (1,0,0) with x^4, r2=0.991820752620697\n"
     ]
    },
    {
     "name": "stderr",
     "output_type": "stream",
     "text": [
      "train loss: 3.61e-03 | test loss: 6.89e-03 | reg: 2.67e+00 : 100%|██| 50/50 [00:00<00:00, 67.10it/s]\n",
      "/Users/gal.yona/Documents/MSc/Thesis/ImplicitNeuralSurfaces/pykan/kan/KAN.py:325: UserWarning: std(): degrees of freedom is <= 0. Correction should be strictly less than the reduction factor (input numel divided by output numel). (Triggered internally at /Users/runner/work/pytorch/pytorch/pytorch/aten/src/ATen/native/ReduceOps.cpp:1760.)\n",
      "  self.acts_scale_std.append(torch.std(postacts, dim=0))\n"
     ]
    },
    {
     "name": "stdout",
     "output_type": "stream",
     "text": [
      "30723.2*(-x_1**2 - 0.43*(-x_2 - 0.13)**3 - 0.04)**4 - 0.09\n",
      "seed  6 signature  tensor([[ -7.6035, -46.9915,  -7.9266,  21.3810, -49.2710,  37.4780]],\n",
      "       grad_fn=<StackBackward0>)\n"
     ]
    },
    {
     "name": "stderr",
     "output_type": "stream",
     "text": [
      "train loss: 1.84e-02 | test loss: 2.03e-02 | reg: 2.30e+00 : 100%|██| 20/20 [00:02<00:00,  7.87it/s]\n",
      "train loss: 2.52e-03 | test loss: 6.24e-03 | reg: 5.01e+00 : 100%|██| 50/50 [00:02<00:00, 19.07it/s]\n"
     ]
    },
    {
     "name": "stdout",
     "output_type": "stream",
     "text": [
      "fixing (0,0,0) with x^2, r2=0.9783002138137817\n",
      "fixing (0,1,0) with x^2, r2=0.9976629614830017\n",
      "fixing (1,0,0) with x^2, r2=0.9972606897354126\n"
     ]
    },
    {
     "name": "stderr",
     "output_type": "stream",
     "text": [
      "train loss: nan | test loss: nan | reg: nan : 100%|█████████████████| 50/50 [00:02<00:00, 20.80it/s]\n",
      "/Users/gal.yona/Documents/MSc/Thesis/ImplicitNeuralSurfaces/pykan/kan/KAN.py:325: UserWarning: std(): degrees of freedom is <= 0. Correction should be strictly less than the reduction factor (input numel divided by output numel). (Triggered internally at /Users/runner/work/pytorch/pytorch/pytorch/aten/src/ATen/native/ReduceOps.cpp:1760.)\n",
      "  self.acts_scale_std.append(torch.std(postacts, dim=0))\n"
     ]
    },
    {
     "name": "stdout",
     "output_type": "stream",
     "text": [
      "nan\n",
      "seed  7 signature  tensor([[nan, nan, nan, nan, nan, nan]], grad_fn=<StackBackward0>)\n"
     ]
    },
    {
     "name": "stderr",
     "output_type": "stream",
     "text": [
      "train loss: 2.11e-02 | test loss: 2.30e-02 | reg: 2.10e+00 : 100%|██| 20/20 [00:02<00:00,  8.20it/s]\n",
      "train loss: 2.49e-03 | test loss: 6.16e-03 | reg: 2.64e+00 : 100%|██| 50/50 [00:02<00:00, 18.14it/s]\n"
     ]
    },
    {
     "name": "stdout",
     "output_type": "stream",
     "text": [
      "fixing (0,0,0) with x^2, r2=0.9664689302444458\n",
      "fixing (0,1,0) with x^3, r2=0.9995372295379639\n",
      "fixing (1,0,0) with x^4, r2=0.9918340444564819\n"
     ]
    },
    {
     "name": "stderr",
     "output_type": "stream",
     "text": [
      "train loss: 3.61e-03 | test loss: 6.92e-03 | reg: 2.58e+00 : 100%|██| 50/50 [00:00<00:00, 79.68it/s]\n",
      "/Users/gal.yona/Documents/MSc/Thesis/ImplicitNeuralSurfaces/pykan/kan/KAN.py:325: UserWarning: std(): degrees of freedom is <= 0. Correction should be strictly less than the reduction factor (input numel divided by output numel). (Triggered internally at /Users/runner/work/pytorch/pytorch/pytorch/aten/src/ATen/native/ReduceOps.cpp:1760.)\n",
      "  self.acts_scale_std.append(torch.std(postacts, dim=0))\n"
     ]
    },
    {
     "name": "stdout",
     "output_type": "stream",
     "text": [
      "35615.71*(x_1**2 + 0.45*(-x_2 - 0.13)**3 + 0.04)**4 - 0.09\n",
      "seed  8 signature  tensor([[ -7.5327, -47.2733,  -7.5058,  21.9591, -46.7143,  47.9640]],\n",
      "       grad_fn=<StackBackward0>)\n"
     ]
    },
    {
     "name": "stderr",
     "output_type": "stream",
     "text": [
      "train loss: 2.08e-02 | test loss: 2.28e-02 | reg: 3.01e+00 : 100%|██| 20/20 [00:02<00:00,  8.18it/s]\n",
      "train loss: 2.48e-03 | test loss: 5.12e-03 | reg: 3.02e+00 : 100%|██| 50/50 [00:02<00:00, 19.20it/s]\n"
     ]
    },
    {
     "name": "stdout",
     "output_type": "stream",
     "text": [
      "fixing (0,0,0) with x^2, r2=0.9680885076522827\n",
      "fixing (0,1,0) with x^3, r2=0.9994486570358276\n",
      "fixing (1,0,0) with x^2, r2=0.9957850575447083\n"
     ]
    },
    {
     "name": "stderr",
     "output_type": "stream",
     "text": [
      "train loss: 3.59e-03 | test loss: 6.81e-03 | reg: 3.33e+00 : 100%|██| 50/50 [00:00<00:00, 80.11it/s]\n",
      "/Users/gal.yona/Documents/MSc/Thesis/ImplicitNeuralSurfaces/pykan/kan/KAN.py:325: UserWarning: std(): degrees of freedom is <= 0. Correction should be strictly less than the reduction factor (input numel divided by output numel). (Triggered internally at /Users/runner/work/pytorch/pytorch/pytorch/aten/src/ATen/native/ReduceOps.cpp:1760.)\n",
      "  self.acts_scale_std.append(torch.std(postacts, dim=0))\n"
     ]
    },
    {
     "name": "stdout",
     "output_type": "stream",
     "text": [
      "333.31*(x_1**2 + 0.44*(-x_2 - 0.13)**3 + 0.01)**2 - 0.06\n",
      "seed  9 signature  tensor([[ -7.6492, -47.5388,  -8.0073,  21.5101, -48.8052,  47.8220]],\n",
      "       grad_fn=<StackBackward0>)\n"
     ]
    }
   ],
   "source": [
    "seed_num = 10\n",
    "signatures = torch.zeros(seed_num, 6)\n",
    "for seed in range(seed_num):\n",
    "    model = KAN(width=[2,5,1], grid=3, k=5, grid_eps=0.5, seed=seed, grid_range=[-0.5,0.5])\n",
    "    model.train(dataset, opt=\"LBFGS\", steps=20, lamb=0.01, lamb_entropy=1., lamb_coef=0.1, sglr_avoid=True);\n",
    "    model = model.prune(threshold=5e-3)\n",
    "    model.train(dataset, opt=\"LBFGS\", steps=50, sglr_avoid=True)\n",
    "    lib = ['x','x^2','x^3','x^4','exp']\n",
    "    model.auto_symbolic(lib=lib)\n",
    "    model.train(dataset, opt=\"LBFGS\", steps=50, sglr_avoid=True)\n",
    "    print(model.symbolic_formula()[0][0])\n",
    "    signature = calculate_signature(model, x)\n",
    "    print(\"seed \", seed, \"signature \", signature)\n",
    "    signatures[seed] = signature\n"
   ],
   "metadata": {
    "collapsed": false
   }
  },
  {
   "cell_type": "code",
   "execution_count": 145,
   "outputs": [
    {
     "data": {
      "text/plain": "tensor([[ -7.6602, -47.3480,  -8.0490,  21.4087, -48.8493,  47.7159],\n        [ -7.6490, -47.5422,  -8.0060,  21.5123, -48.8006,  47.8311],\n        [ -7.5523, -48.7489,  -7.5326,  22.4052, -46.8348,  55.4203],\n        [ -7.6433, -47.6519,  -7.9776,  21.5682, -48.7488,  47.7809],\n        [ -7.6833, -49.0080,  -8.8046,  20.8305, -58.1582,  -3.3882],\n        [ -7.6552, -47.4346,  -8.0300,  21.4549, -48.8291,  47.7699],\n        [ -7.6035, -46.9915,  -7.9266,  21.3810, -49.2710,  37.4780],\n        [ -7.5327, -47.2733,  -7.5058,  21.9591, -46.7143,  47.9640],\n        [ -7.6492, -47.5388,  -8.0073,  21.5101, -48.8052,  47.8220]],\n       grad_fn=<IndexBackward0>)"
     },
     "execution_count": 145,
     "metadata": {},
     "output_type": "execute_result"
    }
   ],
   "source": [
    "signatures"
   ],
   "metadata": {
    "collapsed": false
   }
  },
  {
   "cell_type": "code",
   "execution_count": 143,
   "outputs": [],
   "source": [
    " #discard all nan and 0\n",
    "signatures = signatures[~torch.isnan(signatures).any(dim=1)]\n",
    "signatures = signatures[~(signatures == 0).all(dim=1)]"
   ],
   "metadata": {
    "collapsed": false
   }
  },
  {
   "cell_type": "code",
   "execution_count": 144,
   "outputs": [
    {
     "name": "stdout",
     "output_type": "stream",
     "text": [
      "mean signature  tensor([ -7.6254, -47.7264,  -7.9822,  21.5589, -49.4457,  41.8215],\n",
      "       grad_fn=<MeanBackward1>)\n",
      "std signature  tensor([ 0.0516,  0.6834,  0.3736,  0.4296,  3.3960, 17.5471],\n",
      "       grad_fn=<StdBackward0>)\n"
     ]
    }
   ],
   "source": [
    "mean_signature = torch.mean(signatures, dim=0)\n",
    "std_signature = torch.std(signatures, dim=0)\n",
    "print(\"mean signature \", mean_signature)\n",
    "print(\"std signature \", std_signature)\n"
   ],
   "metadata": {
    "collapsed": false
   }
  },
  {
   "cell_type": "code",
   "execution_count": 6,
   "outputs": [],
   "source": [],
   "metadata": {
    "collapsed": false
   }
  },
  {
   "cell_type": "code",
   "execution_count": 6,
   "outputs": [],
   "source": [],
   "metadata": {
    "collapsed": false
   }
  }
 ],
 "metadata": {
  "kernelspec": {
   "display_name": "Python 3",
   "language": "python",
   "name": "python3"
  },
  "language_info": {
   "codemirror_mode": {
    "name": "ipython",
    "version": 2
   },
   "file_extension": ".py",
   "mimetype": "text/x-python",
   "name": "python",
   "nbconvert_exporter": "python",
   "pygments_lexer": "ipython2",
   "version": "2.7.6"
  }
 },
 "nbformat": 4,
 "nbformat_minor": 0
}
