{
 "cells": [
  {
   "cell_type": "code",
   "execution_count": 203,
   "metadata": {
    "collapsed": true
   },
   "outputs": [],
   "source": [
    "import torch\n",
    "\n",
    "from kan import *\n",
    "from my_functions import calculate_signature, calculate_signature_over_all_surface, format_signature\n",
    "import fpsample"
   ]
  },
  {
   "cell_type": "code",
   "execution_count": 204,
   "outputs": [
    {
     "name": "stdout",
     "output_type": "stream",
     "text": [
      "[     0  46368   7436  69677  77678  20057  71103   2730  90036   5350\n",
      "   8864  41086  49709  19551  40434  91487  34667  10050  38565   9411\n",
      "  63468  16704  20490  80519  81576  63855  58124  48504  92706  51796\n",
      "  94371  38128  67960  53545   2501  87985  13974 100591  27348  19775\n",
      "  92222  15179  94009  32364   6487  36950  84664  73281  41608   7793\n",
      "  39094   8653  43588  73072  47477  29049  12696  82094  39807  23653\n",
      "  26506  52606  85780  95785  16527  90621  25345  68974  26272  81156\n",
      "  57206  74767   4669  62822  29884  72653  99577  60714  93578  96953\n",
      "  98719  59822   9775  91786  38402  97252  53458  76601  52339  44283\n",
      "  39255  55355  80176  86884  94588  98258  20251 104168 105316   2885\n",
      "  50300  72419  67875  54695   5852  62660    160  46469  60294  84359\n",
      "  36178   6288 103582  25578  71660 101508  18692  59109  19356  47171\n",
      "  75051  71377  45011   9492  20982  96639  38088  33418  21336  30260\n",
      " 104618  84753  13874  27010  45613  50695  88070  98646  92580  24228\n",
      "  72112  44904  17119  32917  47079  34537 105995  66240  12430   3044\n",
      "  59992   9855  75625  96802  46025 105383  73577  99708  13465 104971\n",
      " 102184  27616  29969  21576  55112   1716  64227  15167   9818  91173\n",
      "    348  94892  43693  11441 100379    754  90291  21049  78401  22715\n",
      "   1005  97859  28434   1081  50326  96265  15118  35105  16116  65439\n",
      "  85530  19999  92179  63046  63833  13289   1499  74334  37555   6699]\n"
     ]
    }
   ],
   "source": [
    "mesh_path = \"data/bunny_curvs.ply\"\n",
    "mesh = trimesh.load(mesh_path)\n",
    "vertices = np.array(mesh.vertices)\n",
    "sampled_indices = fpsample.fps_sampling(vertices, 200, start_idx=0) # the start index is for reproducibility\n",
    "print(sampled_indices)"
   ],
   "metadata": {
    "collapsed": false
   }
  },
  {
   "cell_type": "code",
   "execution_count": 205,
   "outputs": [
    {
     "name": "stdout",
     "output_type": "stream",
     "text": [
      "Number of vertices: 106712\n",
      "dataset full size: 269\n"
     ]
    },
    {
     "name": "stderr",
     "output_type": "stream",
     "text": [
      "train loss: 3.23e-02 | test loss: 4.95e-02 | reg: 3.90e+00 : 100%|██| 20/20 [00:02<00:00,  8.85it/s]\n",
      "train loss: 3.81e-03 | test loss: 1.88e+00 | reg: 1.20e+01 : 100%|██| 50/50 [00:01<00:00, 25.19it/s]\n"
     ]
    },
    {
     "name": "stdout",
     "output_type": "stream",
     "text": [
      "r2 is 0.9999845623970032\n",
      "Best value at boundary.\n",
      "r2 is 0.999687671661377\n",
      "r2 is 0.1332828402519226\n",
      "r2 is not very high, please double check if you are choosing the correct symbolic function.\n"
     ]
    },
    {
     "name": "stderr",
     "output_type": "stream",
     "text": [
      "train loss: nan | test loss: nan | reg: nan : 100%|█████████████████| 50/50 [00:03<00:00, 14.78it/s]\n",
      "/Users/gal.yona/Documents/MSc/Thesis/ImplicitNeuralSurfaces/forked_pykan/pykan/kan/KAN.py:344: UserWarning:\n",
      "\n",
      "std(): degrees of freedom is <= 0. Correction should be strictly less than the reduction factor (input numel divided by output numel). (Triggered internally at /Users/runner/work/pytorch/pytorch/pytorch/aten/src/ATen/native/ReduceOps.cpp:1760.)\n",
      "\n"
     ]
    },
    {
     "name": "stdout",
     "output_type": "stream",
     "text": [
      "nan\n",
      "Number of vertices: 106712\n",
      "dataset down sampled size: 216\n"
     ]
    },
    {
     "name": "stderr",
     "output_type": "stream",
     "text": [
      "train loss: 3.30e-02 | test loss: 5.00e-02 | reg: 3.89e+00 : 100%|██| 20/20 [00:02<00:00,  8.92it/s]\n",
      "train loss: nan | test loss: nan | reg: nan : 100%|█████████████████| 50/50 [00:03<00:00, 15.18it/s]\n"
     ]
    },
    {
     "name": "stdout",
     "output_type": "stream",
     "text": [
      "Best value at boundary.\n",
      "r2 is 0.0\n",
      "r2 is not very high, please double check if you are choosing the correct symbolic function.\n",
      "nan encountered\n",
      "Number of vertices: 106712\n",
      "dataset full size: 267\n"
     ]
    },
    {
     "name": "stderr",
     "output_type": "stream",
     "text": [
      "train loss: 7.90e-02 | test loss: 7.95e-02 | reg: 2.87e+00 : 100%|██| 20/20 [00:02<00:00,  8.85it/s]\n",
      "train loss: 8.43e-03 | test loss: 4.70e-02 | reg: 1.61e+02 : 100%|██| 50/50 [00:02<00:00, 19.67it/s]\n"
     ]
    },
    {
     "name": "stdout",
     "output_type": "stream",
     "text": [
      "r2 is 0.9964728355407715\n",
      "r2 is 0.9866048693656921\n",
      "Best value at boundary.\n",
      "r2 is 0.2994174659252167\n",
      "r2 is not very high, please double check if you are choosing the correct symbolic function.\n"
     ]
    },
    {
     "name": "stderr",
     "output_type": "stream",
     "text": [
      "train loss: nan | test loss: nan | reg: nan : 100%|█████████████████| 50/50 [00:03<00:00, 15.22it/s]\n",
      "/Users/gal.yona/Documents/MSc/Thesis/ImplicitNeuralSurfaces/forked_pykan/pykan/kan/KAN.py:344: UserWarning:\n",
      "\n",
      "std(): degrees of freedom is <= 0. Correction should be strictly less than the reduction factor (input numel divided by output numel). (Triggered internally at /Users/runner/work/pytorch/pytorch/pytorch/aten/src/ATen/native/ReduceOps.cpp:1760.)\n",
      "\n"
     ]
    },
    {
     "name": "stdout",
     "output_type": "stream",
     "text": [
      "nan\n",
      "Number of vertices: 106712\n",
      "dataset down sampled size: 214\n"
     ]
    },
    {
     "name": "stderr",
     "output_type": "stream",
     "text": [
      "train loss: 7.44e-02 | test loss: 7.46e-02 | reg: 2.78e+00 : 100%|██| 20/20 [00:02<00:00,  8.49it/s]\n",
      "train loss: nan | test loss: nan | reg: nan : 100%|█████████████████| 50/50 [00:03<00:00, 15.46it/s]\n"
     ]
    },
    {
     "name": "stdout",
     "output_type": "stream",
     "text": [
      "Best value at boundary.\n",
      "r2 is 0.0\n",
      "r2 is not very high, please double check if you are choosing the correct symbolic function.\n",
      "nan encountered\n",
      "Number of vertices: 106712\n",
      "dataset full size: 284\n"
     ]
    },
    {
     "name": "stderr",
     "output_type": "stream",
     "text": [
      "train loss: 2.91e-02 | test loss: 2.97e-02 | reg: 3.35e+00 : 100%|██| 20/20 [00:02<00:00,  8.87it/s]\n",
      "train loss: 2.59e-03 | test loss: 4.12e-03 | reg: 2.44e+00 : 100%|██| 50/50 [00:02<00:00, 22.26it/s]\n"
     ]
    },
    {
     "name": "stdout",
     "output_type": "stream",
     "text": [
      "Best value at boundary.\n",
      "r2 is 0.9083934426307678\n",
      "r2 is 0.987967848777771\n",
      "r2 is 0.6809406876564026\n",
      "r2 is not very high, please double check if you are choosing the correct symbolic function.\n"
     ]
    },
    {
     "name": "stderr",
     "output_type": "stream",
     "text": [
      "train loss: 3.76e-03 | test loss: 6.84e-03 | reg: 4.86e+00 : 100%|██| 50/50 [00:01<00:00, 49.70it/s]\n",
      "/Users/gal.yona/Documents/MSc/Thesis/ImplicitNeuralSurfaces/forked_pykan/pykan/kan/KAN.py:344: UserWarning:\n",
      "\n",
      "std(): degrees of freedom is <= 0. Correction should be strictly less than the reduction factor (input numel divided by output numel). (Triggered internally at /Users/runner/work/pytorch/pytorch/pytorch/aten/src/ATen/native/ReduceOps.cpp:1760.)\n",
      "\n"
     ]
    },
    {
     "name": "stdout",
     "output_type": "stream",
     "text": [
      "-1165637.14*(-x_1**4 + 0.04*(-x_2 - 0.e-2)**3)**2 - 0.e-2\n",
      "Number of vertices: 106712\n",
      "dataset down sampled size: 228\n"
     ]
    },
    {
     "name": "stderr",
     "output_type": "stream",
     "text": [
      "train loss: 3.40e-02 | test loss: 3.46e-02 | reg: 3.39e+00 : 100%|██| 20/20 [00:02<00:00,  9.28it/s]\n",
      "train loss: 3.81e-03 | test loss: 6.83e-03 | reg: 2.30e+00 : 100%|██| 50/50 [00:00<00:00, 67.12it/s]\n"
     ]
    },
    {
     "name": "stdout",
     "output_type": "stream",
     "text": [
      "Best value at boundary.\n",
      "r2 is 0.9942640662193298\n",
      "Best value at boundary.\n",
      "r2 is 0.9830530285835266\n",
      "r2 is 0.9998412728309631\n"
     ]
    },
    {
     "name": "stderr",
     "output_type": "stream",
     "text": [
      "train loss: 3.81e-03 | test loss: 6.83e-03 | reg: 4.56e+00 : 100%|██| 50/50 [00:00<00:00, 79.32it/s]\n",
      "/Users/gal.yona/Documents/MSc/Thesis/ImplicitNeuralSurfaces/forked_pykan/pykan/kan/KAN.py:344: UserWarning:\n",
      "\n",
      "std(): degrees of freedom is <= 0. Correction should be strictly less than the reduction factor (input numel divided by output numel). (Triggered internally at /Users/runner/work/pytorch/pytorch/pytorch/aten/src/ATen/native/ReduceOps.cpp:1760.)\n",
      "\n"
     ]
    },
    {
     "name": "stdout",
     "output_type": "stream",
     "text": [
      "-1104772.83*(-x_1**4 + 0.05*(-x_2 - 0.e-2)**3)**2 - 0.e-2\n",
      "sampled_index 2 signature  tensor([[4.9619e-02, 1.4906e-04, 8.3780e-01, 5.1199e+00, 1.6372e-01, 1.5732e-02]],\n",
      "       grad_fn=<StackBackward0>)\n",
      "sampled_index 2 signature  tensor([[4.6752e-02, 8.5009e-05, 6.6862e-01, 5.6241e+00, 1.2381e-01, 1.0372e-02]],\n",
      "       grad_fn=<StackBackward0>)\n",
      "Number of vertices: 106712\n",
      "dataset full size: 271\n"
     ]
    },
    {
     "name": "stderr",
     "output_type": "stream",
     "text": [
      "train loss: 1.08e-02 | test loss: 1.24e-02 | reg: 3.47e+00 : 100%|██| 20/20 [00:02<00:00,  8.89it/s]\n",
      "train loss: 3.93e-03 | test loss: 8.02e-03 | reg: 3.56e+00 : 100%|██| 50/50 [00:02<00:00, 21.48it/s]\n"
     ]
    },
    {
     "name": "stdout",
     "output_type": "stream",
     "text": [
      "Best value at boundary.\n",
      "r2 is 0.8823627829551697\n",
      "r2 is not very high, please double check if you are choosing the correct symbolic function.\n",
      "Best value at boundary.\n",
      "r2 is 0.9642066955566406\n",
      "r2 is 0.04965123534202576\n",
      "r2 is not very high, please double check if you are choosing the correct symbolic function.\n"
     ]
    },
    {
     "name": "stderr",
     "output_type": "stream",
     "text": [
      "train loss: 4.57e-03 | test loss: 7.13e-03 | reg: 1.72e+01 : 100%|██| 50/50 [00:00<00:00, 61.86it/s]\n",
      "/Users/gal.yona/Documents/MSc/Thesis/ImplicitNeuralSurfaces/forked_pykan/pykan/kan/KAN.py:344: UserWarning:\n",
      "\n",
      "std(): degrees of freedom is <= 0. Correction should be strictly less than the reduction factor (input numel divided by output numel). (Triggered internally at /Users/runner/work/pytorch/pytorch/pytorch/aten/src/ATen/native/ReduceOps.cpp:1760.)\n",
      "\n"
     ]
    },
    {
     "name": "stdout",
     "output_type": "stream",
     "text": [
      "-1814350.46*(-x_1**4 + 0.1*(0.01 - x_2)**3)**2 - 0.e-2\n",
      "Number of vertices: 106712\n",
      "dataset down sampled size: 217\n"
     ]
    },
    {
     "name": "stderr",
     "output_type": "stream",
     "text": [
      "train loss: 1.10e-02 | test loss: 1.22e-02 | reg: 3.41e+00 : 100%|██| 20/20 [00:02<00:00,  9.60it/s]\n",
      "train loss: 4.53e-03 | test loss: 7.30e-03 | reg: 3.08e+00 : 100%|██| 50/50 [00:00<00:00, 73.58it/s]\n"
     ]
    },
    {
     "name": "stdout",
     "output_type": "stream",
     "text": [
      "Best value at boundary.\n",
      "r2 is 0.9806941747665405\n",
      "Best value at boundary.\n",
      "r2 is 0.9732314944267273\n",
      "r2 is 0.9998759031295776\n"
     ]
    },
    {
     "name": "stderr",
     "output_type": "stream",
     "text": [
      "train loss: 4.53e-03 | test loss: 7.30e-03 | reg: 1.85e+01 : 100%|██| 50/50 [00:00<00:00, 63.12it/s]\n",
      "/Users/gal.yona/Documents/MSc/Thesis/ImplicitNeuralSurfaces/forked_pykan/pykan/kan/KAN.py:344: UserWarning:\n",
      "\n",
      "std(): degrees of freedom is <= 0. Correction should be strictly less than the reduction factor (input numel divided by output numel). (Triggered internally at /Users/runner/work/pytorch/pytorch/pytorch/aten/src/ATen/native/ReduceOps.cpp:1760.)\n",
      "\n"
     ]
    },
    {
     "name": "stdout",
     "output_type": "stream",
     "text": [
      "-1861376.33*(-x_1**4 + 0.1*(0.01 - x_2)**3)**2 - 0.e-2\n",
      "sampled_index 3 signature  tensor([[-7.5382e-02, -2.9064e-04,  6.2359e+00, -7.6168e-01,  2.2374e-02,\n",
      "          2.3269e-01]], grad_fn=<StackBackward0>)\n",
      "sampled_index 3 signature  tensor([[-8.6453e-02, -3.8999e-04,  6.9415e+00, -8.7325e-01,  2.9148e-02,\n",
      "          3.0603e-01]], grad_fn=<StackBackward0>)\n",
      "Number of vertices: 106712\n",
      "dataset full size: 300\n"
     ]
    },
    {
     "name": "stderr",
     "output_type": "stream",
     "text": [
      "train loss: 1.23e-02 | test loss: 1.39e-02 | reg: 2.51e+00 : 100%|██| 20/20 [00:02<00:00,  8.75it/s]\n",
      "train loss: 5.62e-03 | test loss: 2.24e-02 | reg: 4.70e+01 : 100%|██| 50/50 [00:01<00:00, 27.06it/s]\n"
     ]
    },
    {
     "name": "stdout",
     "output_type": "stream",
     "text": [
      "r2 is 0.8666340708732605\n",
      "r2 is not very high, please double check if you are choosing the correct symbolic function.\n",
      "Best value at boundary.\n",
      "r2 is 0.5564119815826416\n",
      "r2 is not very high, please double check if you are choosing the correct symbolic function.\n",
      "r2 is 0.7384318709373474\n",
      "r2 is not very high, please double check if you are choosing the correct symbolic function.\n"
     ]
    },
    {
     "name": "stderr",
     "output_type": "stream",
     "text": [
      "train loss: 5.81e-03 | test loss: 6.61e-03 | reg: 4.68e+01 : 100%|██| 50/50 [00:00<00:00, 51.67it/s]\n",
      "/Users/gal.yona/Documents/MSc/Thesis/ImplicitNeuralSurfaces/forked_pykan/pykan/kan/KAN.py:344: UserWarning:\n",
      "\n",
      "std(): degrees of freedom is <= 0. Correction should be strictly less than the reduction factor (input numel divided by output numel). (Triggered internally at /Users/runner/work/pytorch/pytorch/pytorch/aten/src/ATen/native/ReduceOps.cpp:1760.)\n",
      "\n"
     ]
    },
    {
     "name": "stdout",
     "output_type": "stream",
     "text": [
      "-3550272.42*(0.02*x_1**4 - (0.02 - x_2)**3)**2 - 0.e-2\n",
      "Number of vertices: 106712\n",
      "dataset down sampled size: 241\n"
     ]
    },
    {
     "name": "stderr",
     "output_type": "stream",
     "text": [
      "train loss: 1.13e-02 | test loss: 1.25e-02 | reg: 2.48e+00 : 100%|██| 20/20 [00:02<00:00,  9.44it/s]\n",
      "train loss: 5.86e-03 | test loss: 6.36e-03 | reg: 2.99e+01 : 100%|██| 50/50 [00:01<00:00, 44.97it/s]\n"
     ]
    },
    {
     "name": "stdout",
     "output_type": "stream",
     "text": [
      "r2 is 1.0000004768371582\n",
      "Best value at boundary.\n",
      "r2 is 0.9001837968826294\n",
      "r2 is 1.0000001192092896\n"
     ]
    },
    {
     "name": "stderr",
     "output_type": "stream",
     "text": [
      "train loss: 5.87e-03 | test loss: 6.36e-03 | reg: 4.44e+02 : 100%|██| 50/50 [00:01<00:00, 48.38it/s]\n",
      "/Users/gal.yona/Documents/MSc/Thesis/ImplicitNeuralSurfaces/forked_pykan/pykan/kan/KAN.py:344: UserWarning:\n",
      "\n",
      "std(): degrees of freedom is <= 0. Correction should be strictly less than the reduction factor (input numel divided by output numel). (Triggered internally at /Users/runner/work/pytorch/pytorch/pytorch/aten/src/ATen/native/ReduceOps.cpp:1760.)\n",
      "\n"
     ]
    },
    {
     "name": "stdout",
     "output_type": "stream",
     "text": [
      "-5199.15*(0.26*(0.06 - x_1)**4 - (-x_2 - 0.02)**3)**2\n",
      "sampled_index 4 signature  tensor([[ 9.6214e+00, -8.7366e-04,  3.6777e-02, -1.1808e+03,  1.4155e+00,\n",
      "          1.3548e-01]], grad_fn=<StackBackward0>)\n",
      "sampled_index 4 signature  tensor([[ -0.5045,   0.0692, -21.4272,  -1.2658,   3.0648,   2.4593]],\n",
      "       grad_fn=<StackBackward0>)\n",
      "Number of vertices: 106712\n",
      "dataset full size: 289\n"
     ]
    },
    {
     "name": "stderr",
     "output_type": "stream",
     "text": [
      "train loss: 9.27e-03 | test loss: 9.99e-03 | reg: 3.34e+00 : 100%|██| 20/20 [00:02<00:00,  9.18it/s]\n",
      "train loss: 3.35e-03 | test loss: 4.20e-03 | reg: 2.73e+00 : 100%|██| 50/50 [00:02<00:00, 22.18it/s]\n"
     ]
    },
    {
     "name": "stdout",
     "output_type": "stream",
     "text": [
      "r2 is 0.9986770153045654\n",
      "Best value at boundary.\n",
      "r2 is 0.9541642069816589\n",
      "r2 is 0.38522568345069885\n",
      "r2 is not very high, please double check if you are choosing the correct symbolic function.\n"
     ]
    },
    {
     "name": "stderr",
     "output_type": "stream",
     "text": [
      "train loss: 4.69e-03 | test loss: 5.91e-03 | reg: 4.99e+00 : 100%|██| 50/50 [00:02<00:00, 20.71it/s]\n",
      "/Users/gal.yona/Documents/MSc/Thesis/ImplicitNeuralSurfaces/forked_pykan/pykan/kan/KAN.py:344: UserWarning:\n",
      "\n",
      "std(): degrees of freedom is <= 0. Correction should be strictly less than the reduction factor (input numel divided by output numel). (Triggered internally at /Users/runner/work/pytorch/pytorch/pytorch/aten/src/ATen/native/ReduceOps.cpp:1760.)\n",
      "\n"
     ]
    },
    {
     "name": "stdout",
     "output_type": "stream",
     "text": [
      "-4.61*(-0.99*(-0.19*x_1 - 1)**4 + 0.35*(-x_2 - 0.3)**3 + 1)**2\n",
      "Number of vertices: 106712\n",
      "dataset down sampled size: 232\n"
     ]
    },
    {
     "name": "stderr",
     "output_type": "stream",
     "text": [
      "train loss: 1.48e-02 | test loss: 1.48e-02 | reg: 3.51e+00 : 100%|██| 20/20 [00:02<00:00,  9.20it/s]\n",
      "train loss: nan | test loss: nan | reg: nan : 100%|█████████████████| 50/50 [00:03<00:00, 15.05it/s]\n"
     ]
    },
    {
     "name": "stdout",
     "output_type": "stream",
     "text": [
      "Best value at boundary.\n",
      "r2 is 0.0\n",
      "r2 is not very high, please double check if you are choosing the correct symbolic function.\n",
      "nan encountered\n",
      "Number of vertices: 106712\n",
      "dataset full size: 282\n"
     ]
    },
    {
     "name": "stderr",
     "output_type": "stream",
     "text": [
      "train loss: 2.12e-02 | test loss: 2.26e-02 | reg: 3.10e+00 : 100%|██| 20/20 [00:02<00:00,  8.87it/s]\n",
      "train loss: 2.39e-03 | test loss: 3.10e-03 | reg: 3.89e+00 : 100%|██| 50/50 [00:02<00:00, 24.12it/s]\n"
     ]
    },
    {
     "name": "stdout",
     "output_type": "stream",
     "text": [
      "r2 is 0.9667075276374817\n",
      "r2 is 0.38178151845932007\n",
      "r2 is not very high, please double check if you are choosing the correct symbolic function.\n",
      "Best value at boundary.\n",
      "r2 is 0.9940046668052673\n"
     ]
    },
    {
     "name": "stderr",
     "output_type": "stream",
     "text": [
      "train loss: 3.25e-03 | test loss: 3.91e-03 | reg: 6.53e+02 : 100%|██| 50/50 [00:02<00:00, 16.73it/s]\n",
      "/Users/gal.yona/Documents/MSc/Thesis/ImplicitNeuralSurfaces/forked_pykan/pykan/kan/KAN.py:344: UserWarning:\n",
      "\n",
      "std(): degrees of freedom is <= 0. Correction should be strictly less than the reduction factor (input numel divided by output numel). (Triggered internally at /Users/runner/work/pytorch/pytorch/pytorch/aten/src/ATen/native/ReduceOps.cpp:1760.)\n",
      "\n"
     ]
    },
    {
     "name": "stdout",
     "output_type": "stream",
     "text": [
      "2.27*(-0.29*(-x_1 - 0.21)**4 + 0.36*(-x_2 - 0.04)**3 + 1)**2 - 2.27\n",
      "Number of vertices: 106712\n",
      "dataset down sampled size: 226\n"
     ]
    },
    {
     "name": "stderr",
     "output_type": "stream",
     "text": [
      "train loss: 2.41e-02 | test loss: 2.55e-02 | reg: 3.03e+00 : 100%|██| 20/20 [00:02<00:00,  9.23it/s]\n",
      "train loss: 3.10e-03 | test loss: 3.86e-03 | reg: 6.26e+02 : 100%|██| 50/50 [00:00<00:00, 59.49it/s]\n"
     ]
    },
    {
     "name": "stdout",
     "output_type": "stream",
     "text": [
      "r2 is 0.9999994039535522\n",
      "Best value at boundary.\n",
      "r2 is 0.9945570230484009\n",
      "Best value at boundary.\n",
      "r2 is 0.9997397065162659\n"
     ]
    },
    {
     "name": "stderr",
     "output_type": "stream",
     "text": [
      "train loss: 3.10e-03 | test loss: 3.86e-03 | reg: 6.26e+02 : 100%|██| 50/50 [00:00<00:00, 74.54it/s]\n",
      "/Users/gal.yona/Documents/MSc/Thesis/ImplicitNeuralSurfaces/forked_pykan/pykan/kan/KAN.py:344: UserWarning:\n",
      "\n",
      "std(): degrees of freedom is <= 0. Correction should be strictly less than the reduction factor (input numel divided by output numel). (Triggered internally at /Users/runner/work/pytorch/pytorch/pytorch/aten/src/ATen/native/ReduceOps.cpp:1760.)\n",
      "\n"
     ]
    },
    {
     "name": "stdout",
     "output_type": "stream",
     "text": [
      "8.94*(-0.08*(-x_1 - 0.21)**4 + 0.11*(-x_2 - 0.04)**3 + 1)**2 - 8.94\n",
      "sampled_index 6 signature  tensor([[ 0.5319,  0.2675, -4.8583, -3.1387, -6.3738, -2.5519]],\n",
      "       grad_fn=<StackBackward0>)\n",
      "sampled_index 6 signature  tensor([[ 0.5730,  0.3136, -5.6428, -3.3264, -7.8373, -2.9957]],\n",
      "       grad_fn=<StackBackward0>)\n",
      "Number of vertices: 106712\n",
      "dataset full size: 326\n"
     ]
    },
    {
     "name": "stderr",
     "output_type": "stream",
     "text": [
      "train loss: 9.81e-03 | test loss: 1.33e-02 | reg: 3.67e+00 : 100%|██| 20/20 [00:02<00:00,  8.66it/s]\n",
      "train loss: 2.04e-03 | test loss: 2.84e-03 | reg: 4.57e+00 : 100%|██| 50/50 [00:02<00:00, 17.94it/s]\n"
     ]
    },
    {
     "name": "stdout",
     "output_type": "stream",
     "text": [
      "r2 is 0.7630890011787415\n",
      "r2 is not very high, please double check if you are choosing the correct symbolic function.\n",
      "r2 is 0.8588272333145142\n",
      "r2 is not very high, please double check if you are choosing the correct symbolic function.\n",
      "r2 is 0.8387212157249451\n",
      "r2 is not very high, please double check if you are choosing the correct symbolic function.\n"
     ]
    },
    {
     "name": "stderr",
     "output_type": "stream",
     "text": [
      "train loss: 6.32e-03 | test loss: 7.01e-03 | reg: 5.98e+00 : 100%|██| 50/50 [00:01<00:00, 44.29it/s]\n",
      "/Users/gal.yona/Documents/MSc/Thesis/ImplicitNeuralSurfaces/forked_pykan/pykan/kan/KAN.py:344: UserWarning:\n",
      "\n",
      "std(): degrees of freedom is <= 0. Correction should be strictly less than the reduction factor (input numel divided by output numel). (Triggered internally at /Users/runner/work/pytorch/pytorch/pytorch/aten/src/ATen/native/ReduceOps.cpp:1760.)\n",
      "\n"
     ]
    },
    {
     "name": "stdout",
     "output_type": "stream",
     "text": [
      "126.82*(-0.01*(-0.26*x_1 - 1)**4 + (-x_2 - 0.09)**3 + 0.02)**2 - 0.02\n",
      "Number of vertices: 106712\n",
      "dataset down sampled size: 261\n"
     ]
    },
    {
     "name": "stderr",
     "output_type": "stream",
     "text": [
      "train loss: 1.01e-02 | test loss: 1.35e-02 | reg: 3.64e+00 : 100%|██| 20/20 [00:02<00:00,  9.12it/s]\n",
      "train loss: 6.38e-03 | test loss: 6.98e-03 | reg: 5.81e+00 : 100%|█| 50/50 [00:00<00:00, 113.61it/s]\n"
     ]
    },
    {
     "name": "stdout",
     "output_type": "stream",
     "text": [
      "r2 is 1.0000004768371582\n",
      "r2 is 1.0000003576278687\n",
      "r2 is 0.9984477162361145\n"
     ]
    },
    {
     "name": "stderr",
     "output_type": "stream",
     "text": [
      "train loss: 6.38e-03 | test loss: 6.97e-03 | reg: 5.97e+00 : 100%|██| 50/50 [00:00<00:00, 70.74it/s]\n",
      "/Users/gal.yona/Documents/MSc/Thesis/ImplicitNeuralSurfaces/forked_pykan/pykan/kan/KAN.py:344: UserWarning:\n",
      "\n",
      "std(): degrees of freedom is <= 0. Correction should be strictly less than the reduction factor (input numel divided by output numel). (Triggered internally at /Users/runner/work/pytorch/pytorch/pytorch/aten/src/ATen/native/ReduceOps.cpp:1760.)\n",
      "\n"
     ]
    },
    {
     "name": "stdout",
     "output_type": "stream",
     "text": [
      "126.93*(-0.01*(-0.25*x_1 - 1)**4 + (-x_2 - 0.09)**3 + 0.02)**2 - 0.02\n",
      "sampled_index 7 signature  tensor([[ 0.4973, -0.0222,  0.7001,  2.0540,  0.0806, -0.3401]],\n",
      "       grad_fn=<StackBackward0>)\n",
      "sampled_index 7 signature  tensor([[ 0.5031, -0.0216,  0.6885,  2.1350,  0.0796, -0.3355]],\n",
      "       grad_fn=<StackBackward0>)\n",
      "Number of vertices: 106712\n",
      "dataset full size: 328\n"
     ]
    },
    {
     "name": "stderr",
     "output_type": "stream",
     "text": [
      "train loss: 1.57e-02 | test loss: 1.97e-02 | reg: 4.05e+00 : 100%|██| 20/20 [00:02<00:00,  6.94it/s]\n",
      "train loss: 1.57e-03 | test loss: 3.83e-01 | reg: 2.95e+00 : 100%|██| 50/50 [00:01<00:00, 31.56it/s]\n"
     ]
    },
    {
     "name": "stdout",
     "output_type": "stream",
     "text": [
      "r2 is 0.9998536109924316\n",
      "r2 is 0.9999058246612549\n",
      "r2 is 0.8505327701568604\n",
      "r2 is not very high, please double check if you are choosing the correct symbolic function.\n"
     ]
    },
    {
     "name": "stderr",
     "output_type": "stream",
     "text": [
      "train loss: nan | test loss: nan | reg: nan : 100%|█████████████████| 50/50 [00:03<00:00, 14.34it/s]\n",
      "/Users/gal.yona/Documents/MSc/Thesis/ImplicitNeuralSurfaces/forked_pykan/pykan/kan/KAN.py:344: UserWarning:\n",
      "\n",
      "std(): degrees of freedom is <= 0. Correction should be strictly less than the reduction factor (input numel divided by output numel). (Triggered internally at /Users/runner/work/pytorch/pytorch/pytorch/aten/src/ATen/native/ReduceOps.cpp:1760.)\n",
      "\n"
     ]
    },
    {
     "name": "stdout",
     "output_type": "stream",
     "text": [
      "nan\n",
      "Number of vertices: 106712\n",
      "dataset down sampled size: 263\n"
     ]
    },
    {
     "name": "stderr",
     "output_type": "stream",
     "text": [
      "train loss: 1.60e-02 | test loss: 1.97e-02 | reg: 3.96e+00 : 100%|██| 20/20 [00:02<00:00,  9.09it/s]\n",
      "train loss: nan | test loss: nan | reg: nan : 100%|█████████████████| 50/50 [00:03<00:00, 15.21it/s]\n"
     ]
    },
    {
     "name": "stdout",
     "output_type": "stream",
     "text": [
      "Best value at boundary.\n",
      "r2 is 0.0\n",
      "r2 is not very high, please double check if you are choosing the correct symbolic function.\n",
      "nan encountered\n",
      "Number of vertices: 106712\n",
      "dataset full size: 294\n"
     ]
    },
    {
     "name": "stderr",
     "output_type": "stream",
     "text": [
      "train loss: 1.56e-02 | test loss: 1.61e-02 | reg: 2.77e+00 : 100%|██| 20/20 [00:02<00:00,  8.90it/s]\n",
      "train loss: 1.70e-03 | test loss: 8.06e-03 | reg: 2.91e+00 : 100%|██| 50/50 [00:02<00:00, 19.03it/s]\n"
     ]
    },
    {
     "name": "stdout",
     "output_type": "stream",
     "text": [
      "r2 is 0.9364745020866394\n",
      "r2 is 0.993705153465271\n",
      "r2 is 0.7803255319595337\n",
      "r2 is not very high, please double check if you are choosing the correct symbolic function.\n"
     ]
    },
    {
     "name": "stderr",
     "output_type": "stream",
     "text": [
      "train loss: 2.33e-03 | test loss: 2.24e-03 | reg: 1.73e+09 : 100%|██| 50/50 [00:02<00:00, 19.95it/s]\n",
      "/Users/gal.yona/Documents/MSc/Thesis/ImplicitNeuralSurfaces/forked_pykan/pykan/kan/KAN.py:344: UserWarning:\n",
      "\n",
      "std(): degrees of freedom is <= 0. Correction should be strictly less than the reduction factor (input numel divided by output numel). (Triggered internally at /Users/runner/work/pytorch/pytorch/pytorch/aten/src/ATen/native/ReduceOps.cpp:1760.)\n",
      "\n"
     ]
    },
    {
     "name": "stdout",
     "output_type": "stream",
     "text": [
      "0.02 - 0.08*(0.28*(1 - 0.74*x_2)**3 + (-x_1 - 0.61)**4 - 0.e-2)**2\n",
      "Number of vertices: 106712\n",
      "dataset down sampled size: 236\n"
     ]
    },
    {
     "name": "stderr",
     "output_type": "stream",
     "text": [
      "train loss: 2.03e-02 | test loss: 1.94e-02 | reg: 3.24e+00 : 100%|██| 20/20 [00:02<00:00,  9.54it/s]\n",
      "train loss: 2.34e-03 | test loss: 2.29e-03 | reg: 9.81e+01 : 100%|█| 50/50 [00:00<00:00, 112.19it/s]\n"
     ]
    },
    {
     "name": "stdout",
     "output_type": "stream",
     "text": [
      "r2 is 1.0000003576278687\n",
      "r2 is 1.0000004768371582\n",
      "r2 is 1.0000004768371582\n"
     ]
    },
    {
     "name": "stderr",
     "output_type": "stream",
     "text": [
      "train loss: 2.34e-03 | test loss: 2.29e-03 | reg: 1.66e+09 : 100%|█| 50/50 [00:00<00:00, 106.17it/s]\n",
      "/Users/gal.yona/Documents/MSc/Thesis/ImplicitNeuralSurfaces/forked_pykan/pykan/kan/KAN.py:344: UserWarning:\n",
      "\n",
      "std(): degrees of freedom is <= 0. Correction should be strictly less than the reduction factor (input numel divided by output numel). (Triggered internally at /Users/runner/work/pytorch/pytorch/pytorch/aten/src/ATen/native/ReduceOps.cpp:1760.)\n",
      "\n"
     ]
    },
    {
     "name": "stdout",
     "output_type": "stream",
     "text": [
      "0.02 - 0.08*(0.28*(1 - 0.74*x_2)**3 + (-x_1 - 0.61)**4 - 0.e-2)**2\n",
      "sampled_index 9 signature  tensor([[ 0.2531,  0.0373, -0.0308, -1.4356,  0.0614, -0.3061]],\n",
      "       grad_fn=<StackBackward0>)\n",
      "sampled_index 9 signature  tensor([[ 0.2521,  0.0371, -0.0305, -1.4284,  0.0609, -0.3034]],\n",
      "       grad_fn=<StackBackward0>)\n",
      "Number of vertices: 106712\n",
      "dataset full size: 276\n"
     ]
    },
    {
     "name": "stderr",
     "output_type": "stream",
     "text": [
      "train loss: 3.32e-02 | test loss: 3.44e-02 | reg: 3.08e+00 : 100%|██| 20/20 [00:02<00:00,  8.98it/s]\n",
      "train loss: 2.20e-03 | test loss: 1.26e-02 | reg: 3.23e+00 : 100%|██| 50/50 [00:01<00:00, 28.07it/s]\n"
     ]
    },
    {
     "name": "stdout",
     "output_type": "stream",
     "text": [
      "r2 is 0.9985078573226929\n",
      "r2 is 0.9936875700950623\n",
      "r2 is 0.7733808755874634\n",
      "r2 is not very high, please double check if you are choosing the correct symbolic function.\n"
     ]
    },
    {
     "name": "stderr",
     "output_type": "stream",
     "text": [
      "train loss: 2.70e-03 | test loss: 4.75e-03 | reg: 3.80e+00 : 100%|██| 50/50 [00:01<00:00, 42.59it/s]\n",
      "/Users/gal.yona/Documents/MSc/Thesis/ImplicitNeuralSurfaces/forked_pykan/pykan/kan/KAN.py:344: UserWarning:\n",
      "\n",
      "std(): degrees of freedom is <= 0. Correction should be strictly less than the reduction factor (input numel divided by output numel). (Triggered internally at /Users/runner/work/pytorch/pytorch/pytorch/aten/src/ATen/native/ReduceOps.cpp:1760.)\n",
      "\n"
     ]
    },
    {
     "name": "stdout",
     "output_type": "stream",
     "text": [
      "-4043.81*(-0.02*(-x_1 - 0.49)**4 + (-x_2 - 0.02)**3)**2\n",
      "Number of vertices: 106712\n",
      "dataset down sampled size: 221\n"
     ]
    },
    {
     "name": "stderr",
     "output_type": "stream",
     "text": [
      "train loss: 2.37e-02 | test loss: 2.49e-02 | reg: 2.92e+00 : 100%|██| 20/20 [00:02<00:00,  9.02it/s]\n",
      "train loss: 2.71e-03 | test loss: 4.71e-03 | reg: 3.56e+00 : 100%|██| 50/50 [00:00<00:00, 80.69it/s]\n"
     ]
    },
    {
     "name": "stdout",
     "output_type": "stream",
     "text": [
      "r2 is 1.0000003576278687\n",
      "Best value at boundary.\n",
      "r2 is 0.9963244199752808\n",
      "r2 is 0.9999202489852905\n"
     ]
    },
    {
     "name": "stderr",
     "output_type": "stream",
     "text": [
      "train loss: 2.71e-03 | test loss: 4.82e-03 | reg: 3.81e+00 : 100%|██| 50/50 [00:00<00:00, 87.59it/s]\n",
      "/Users/gal.yona/Documents/MSc/Thesis/ImplicitNeuralSurfaces/forked_pykan/pykan/kan/KAN.py:344: UserWarning:\n",
      "\n",
      "std(): degrees of freedom is <= 0. Correction should be strictly less than the reduction factor (input numel divided by output numel). (Triggered internally at /Users/runner/work/pytorch/pytorch/pytorch/aten/src/ATen/native/ReduceOps.cpp:1760.)\n",
      "\n"
     ]
    },
    {
     "name": "stdout",
     "output_type": "stream",
     "text": [
      "-3551.67*(-0.02*(-x_1 - 0.49)**4 + (-x_2 - 0.02)**3)**2\n",
      "sampled_index 10 signature  tensor([[ 0.1463, -0.1281,  7.1166, -8.8321,  7.9308, -0.3722]],\n",
      "       grad_fn=<StackBackward0>)\n",
      "sampled_index 10 signature  tensor([[ 0.1158, -0.1541,  6.5631, -9.2261,  7.5898, -0.1312]],\n",
      "       grad_fn=<StackBackward0>)\n",
      "Number of vertices: 106712\n",
      "dataset full size: 281\n"
     ]
    },
    {
     "name": "stderr",
     "output_type": "stream",
     "text": [
      "train loss: 4.17e-02 | test loss: 6.34e-02 | reg: 3.90e+00 : 100%|██| 20/20 [00:02<00:00,  8.78it/s]\n",
      "train loss: 9.37e-03 | test loss: 6.15e-01 | reg: 3.90e+01 : 100%|██| 50/50 [00:01<00:00, 28.81it/s]\n"
     ]
    },
    {
     "name": "stdout",
     "output_type": "stream",
     "text": [
      "r2 is 0.9995589852333069\n",
      "r2 is 0.9996844530105591\n",
      "r2 is 0.7014481425285339\n",
      "r2 is not very high, please double check if you are choosing the correct symbolic function.\n"
     ]
    },
    {
     "name": "stderr",
     "output_type": "stream",
     "text": [
      "train loss: nan | test loss: nan | reg: nan : 100%|█████████████████| 50/50 [00:03<00:00, 15.12it/s]\n",
      "/Users/gal.yona/Documents/MSc/Thesis/ImplicitNeuralSurfaces/forked_pykan/pykan/kan/KAN.py:344: UserWarning:\n",
      "\n",
      "std(): degrees of freedom is <= 0. Correction should be strictly less than the reduction factor (input numel divided by output numel). (Triggered internally at /Users/runner/work/pytorch/pytorch/pytorch/aten/src/ATen/native/ReduceOps.cpp:1760.)\n",
      "\n"
     ]
    },
    {
     "name": "stdout",
     "output_type": "stream",
     "text": [
      "nan\n",
      "Number of vertices: 106712\n",
      "dataset down sampled size: 225\n"
     ]
    },
    {
     "name": "stderr",
     "output_type": "stream",
     "text": [
      "train loss: 4.24e-02 | test loss: 6.43e-02 | reg: 3.93e+00 : 100%|██| 20/20 [00:02<00:00,  9.33it/s]\n",
      "train loss: nan | test loss: nan | reg: nan : 100%|█████████████████| 50/50 [00:03<00:00, 14.15it/s]\n"
     ]
    },
    {
     "name": "stdout",
     "output_type": "stream",
     "text": [
      "Best value at boundary.\n",
      "r2 is 0.0\n",
      "r2 is not very high, please double check if you are choosing the correct symbolic function.\n",
      "nan encountered\n",
      "Number of vertices: 106712\n",
      "dataset full size: 296\n"
     ]
    },
    {
     "name": "stderr",
     "output_type": "stream",
     "text": [
      "train loss: 1.74e-02 | test loss: 1.79e-02 | reg: 3.06e+00 : 100%|██| 20/20 [00:02<00:00,  8.78it/s]\n",
      "train loss: 5.56e-03 | test loss: 1.20e-02 | reg: 4.39e+00 : 100%|██| 50/50 [00:01<00:00, 29.98it/s]\n"
     ]
    },
    {
     "name": "stdout",
     "output_type": "stream",
     "text": [
      "r2 is 0.9333977699279785\n",
      "r2 is 0.9850775003433228\n",
      "r2 is 0.8586632609367371\n",
      "r2 is not very high, please double check if you are choosing the correct symbolic function.\n"
     ]
    },
    {
     "name": "stderr",
     "output_type": "stream",
     "text": [
      "train loss: 6.42e-03 | test loss: 1.13e-02 | reg: 5.09e+00 : 100%|██| 50/50 [00:01<00:00, 40.63it/s]\n",
      "/Users/gal.yona/Documents/MSc/Thesis/ImplicitNeuralSurfaces/forked_pykan/pykan/kan/KAN.py:344: UserWarning:\n",
      "\n",
      "std(): degrees of freedom is <= 0. Correction should be strictly less than the reduction factor (input numel divided by output numel). (Triggered internally at /Users/runner/work/pytorch/pytorch/pytorch/aten/src/ATen/native/ReduceOps.cpp:1760.)\n",
      "\n"
     ]
    },
    {
     "name": "stdout",
     "output_type": "stream",
     "text": [
      "-2997584.42*(-(0.02 - x_1)**4 + 0.01*(0.23 - x_2)**3)**2 - 0.e-2\n",
      "Number of vertices: 106712\n",
      "dataset down sampled size: 237\n"
     ]
    },
    {
     "name": "stderr",
     "output_type": "stream",
     "text": [
      "train loss: 1.75e-02 | test loss: 1.78e-02 | reg: 2.78e+00 : 100%|██| 20/20 [00:02<00:00,  9.31it/s]\n",
      "train loss: 6.79e-03 | test loss: 1.05e-02 | reg: 4.21e+00 : 100%|██| 50/50 [00:00<00:00, 61.79it/s]\n"
     ]
    },
    {
     "name": "stdout",
     "output_type": "stream",
     "text": [
      "r2 is 0.9999881386756897\n",
      "r2 is 1.0000003576278687\n",
      "r2 is 0.99998539686203\n"
     ]
    },
    {
     "name": "stderr",
     "output_type": "stream",
     "text": [
      "train loss: 6.79e-03 | test loss: 1.05e-02 | reg: 5.05e+00 : 100%|██| 50/50 [00:00<00:00, 61.71it/s]\n",
      "/Users/gal.yona/Documents/MSc/Thesis/ImplicitNeuralSurfaces/forked_pykan/pykan/kan/KAN.py:344: UserWarning:\n",
      "\n",
      "std(): degrees of freedom is <= 0. Correction should be strictly less than the reduction factor (input numel divided by output numel). (Triggered internally at /Users/runner/work/pytorch/pytorch/pytorch/aten/src/ATen/native/ReduceOps.cpp:1760.)\n",
      "\n"
     ]
    },
    {
     "name": "stdout",
     "output_type": "stream",
     "text": [
      "-3166663.93*(-(0.02 - x_1)**4 + 0.01*(0.23 - x_2)**3)**2 - 0.e-2\n",
      "sampled_index 12 signature  tensor([[   9.4757,    4.1729,   15.3628, -267.5079,  404.3147,  900.9514]],\n",
      "       grad_fn=<StackBackward0>)\n",
      "sampled_index 12 signature  tensor([[   9.3314,    4.0609,   15.2781, -262.7864,  400.9224,  871.4747]],\n",
      "       grad_fn=<StackBackward0>)\n",
      "Number of vertices: 106712\n",
      "dataset full size: 314\n"
     ]
    },
    {
     "name": "stderr",
     "output_type": "stream",
     "text": [
      "train loss: 9.38e-03 | test loss: 1.07e-02 | reg: 3.07e+00 : 100%|██| 20/20 [00:02<00:00,  8.56it/s]\n",
      "train loss: 2.35e-03 | test loss: 3.33e-03 | reg: 2.69e+00 : 100%|██| 50/50 [00:01<00:00, 26.45it/s]\n"
     ]
    },
    {
     "name": "stdout",
     "output_type": "stream",
     "text": [
      "r2 is 0.990350067615509\n",
      "r2 is 0.7463753819465637\n",
      "r2 is not very high, please double check if you are choosing the correct symbolic function.\n",
      "r2 is 0.8618495464324951\n",
      "r2 is not very high, please double check if you are choosing the correct symbolic function.\n"
     ]
    },
    {
     "name": "stderr",
     "output_type": "stream",
     "text": [
      "train loss: 3.49e-03 | test loss: 3.65e-03 | reg: 3.22e+00 : 100%|██| 50/50 [00:00<00:00, 71.38it/s]\n",
      "/Users/gal.yona/Documents/MSc/Thesis/ImplicitNeuralSurfaces/forked_pykan/pykan/kan/KAN.py:344: UserWarning:\n",
      "\n",
      "std(): degrees of freedom is <= 0. Correction should be strictly less than the reduction factor (input numel divided by output numel). (Triggered internally at /Users/runner/work/pytorch/pytorch/pytorch/aten/src/ATen/native/ReduceOps.cpp:1760.)\n",
      "\n"
     ]
    },
    {
     "name": "stdout",
     "output_type": "stream",
     "text": [
      "-1323.57*(-0.04*(-0.22*x_1 - 1)**4 - (-x_2 - 0.05)**3 + 0.04)**2 - 0.e-2\n",
      "Number of vertices: 106712\n",
      "dataset down sampled size: 252\n"
     ]
    },
    {
     "name": "stderr",
     "output_type": "stream",
     "text": [
      "train loss: 7.84e-03 | test loss: 8.49e-03 | reg: 3.35e+00 : 100%|██| 20/20 [00:02<00:00,  9.14it/s]\n",
      "train loss: 2.88e-03 | test loss: 4.44e-03 | reg: 2.93e+00 : 100%|██| 50/50 [00:00<00:00, 57.94it/s]\n"
     ]
    },
    {
     "name": "stdout",
     "output_type": "stream",
     "text": [
      "r2 is 1.0000004768371582\n",
      "r2 is 0.9999980926513672\n",
      "r2 is 0.999948263168335\n"
     ]
    },
    {
     "name": "stderr",
     "output_type": "stream",
     "text": [
      "train loss: 2.88e-03 | test loss: 4.44e-03 | reg: 3.40e+00 : 100%|██| 50/50 [00:00<00:00, 59.14it/s]\n",
      "/Users/gal.yona/Documents/MSc/Thesis/ImplicitNeuralSurfaces/forked_pykan/pykan/kan/KAN.py:344: UserWarning:\n",
      "\n",
      "std(): degrees of freedom is <= 0. Correction should be strictly less than the reduction factor (input numel divided by output numel). (Triggered internally at /Users/runner/work/pytorch/pytorch/pytorch/aten/src/ATen/native/ReduceOps.cpp:1760.)\n",
      "\n"
     ]
    },
    {
     "name": "stdout",
     "output_type": "stream",
     "text": [
      "-2845.02*(-0.03*(-0.22*x_1 - 1)**4 - (-x_2 - 0.05)**3 + 0.03)**2\n",
      "sampled_index 13 signature  tensor([[  1.7453,   1.3417,  -9.8910,  11.8746, -24.1376,  78.5753]],\n",
      "       grad_fn=<StackBackward0>)\n",
      "sampled_index 13 signature  tensor([[  2.4373,   1.6850, -15.4825,  22.2811, -28.6459, 199.1681]],\n",
      "       grad_fn=<StackBackward0>)\n",
      "Number of vertices: 106712\n",
      "dataset full size: 312\n"
     ]
    },
    {
     "name": "stderr",
     "output_type": "stream",
     "text": [
      "train loss: 1.81e-02 | test loss: 2.06e-02 | reg: 2.70e+00 : 100%|██| 20/20 [00:02<00:00,  8.83it/s]\n",
      "train loss: 2.10e-03 | test loss: 4.19e-03 | reg: 3.49e+00 : 100%|██| 50/50 [00:01<00:00, 30.97it/s]\n"
     ]
    },
    {
     "name": "stdout",
     "output_type": "stream",
     "text": [
      "Best value at boundary.\n",
      "r2 is 0.9285711646080017\n",
      "r2 is 0.9992193579673767\n",
      "Best value at boundary.\n",
      "r2 is 0.9961026310920715\n"
     ]
    },
    {
     "name": "stderr",
     "output_type": "stream",
     "text": [
      "train loss: 2.27e-03 | test loss: 5.87e-03 | reg: 3.28e+00 : 100%|██| 50/50 [00:01<00:00, 44.77it/s]\n",
      "/Users/gal.yona/Documents/MSc/Thesis/ImplicitNeuralSurfaces/forked_pykan/pykan/kan/KAN.py:344: UserWarning:\n",
      "\n",
      "std(): degrees of freedom is <= 0. Correction should be strictly less than the reduction factor (input numel divided by output numel). (Triggered internally at /Users/runner/work/pytorch/pytorch/pytorch/aten/src/ATen/native/ReduceOps.cpp:1760.)\n",
      "\n"
     ]
    },
    {
     "name": "stdout",
     "output_type": "stream",
     "text": [
      "0.02 - 269639036.71*(-x_1 - 0.e-2)**8\n",
      "Number of vertices: 106712\n",
      "dataset down sampled size: 250\n"
     ]
    },
    {
     "name": "stderr",
     "output_type": "stream",
     "text": [
      "train loss: 1.62e-02 | test loss: 2.04e-02 | reg: 2.82e+00 : 100%|██| 20/20 [00:02<00:00,  9.44it/s]\n",
      "train loss: 2.27e-03 | test loss: 5.95e-03 | reg: 3.26e+00 : 100%|██| 50/50 [00:00<00:00, 65.33it/s]\n"
     ]
    },
    {
     "name": "stdout",
     "output_type": "stream",
     "text": [
      "Best value at boundary.\n",
      "r2 is 0.9596811532974243\n",
      "r2 is 1.0000003576278687\n",
      "Best value at boundary.\n",
      "r2 is 0.9996389150619507\n"
     ]
    },
    {
     "name": "stderr",
     "output_type": "stream",
     "text": [
      "train loss: 2.27e-03 | test loss: 6.10e-03 | reg: 3.33e+00 : 100%|██| 50/50 [00:01<00:00, 37.65it/s]\n",
      "/Users/gal.yona/Documents/MSc/Thesis/ImplicitNeuralSurfaces/forked_pykan/pykan/kan/KAN.py:344: UserWarning:\n",
      "\n",
      "std(): degrees of freedom is <= 0. Correction should be strictly less than the reduction factor (input numel divided by output numel). (Triggered internally at /Users/runner/work/pytorch/pytorch/pytorch/aten/src/ATen/native/ReduceOps.cpp:1760.)\n",
      "\n"
     ]
    },
    {
     "name": "stdout",
     "output_type": "stream",
     "text": [
      "0.02 - 269871332.32*(-x_1 - 0.e-2)**8\n",
      "sampled_index 14 signature  tensor([[   2.2640,   -5.3175,   -6.1671, -590.6049,  -49.2747, 1144.4965]],\n",
      "       grad_fn=<StackBackward0>)\n",
      "sampled_index 14 signature  tensor([[   2.3689,   -5.6085,   -6.4104, -600.3966,  -53.0917, 1179.4319]],\n",
      "       grad_fn=<StackBackward0>)\n",
      "Number of vertices: 106712\n",
      "dataset full size: 283\n"
     ]
    },
    {
     "name": "stderr",
     "output_type": "stream",
     "text": [
      "train loss: 1.76e-02 | test loss: 1.69e-02 | reg: 3.29e+00 : 100%|██| 20/20 [00:02<00:00,  8.92it/s]\n",
      "train loss: 6.82e-03 | test loss: 1.13e-02 | reg: 4.39e+00 : 100%|██| 50/50 [00:01<00:00, 25.39it/s]\n"
     ]
    },
    {
     "name": "stdout",
     "output_type": "stream",
     "text": [
      "Best value at boundary.\n",
      "r2 is 0.8820909261703491\n",
      "r2 is not very high, please double check if you are choosing the correct symbolic function.\n",
      "r2 is 0.9914876222610474\n",
      "r2 is 0.23810172080993652\n",
      "r2 is not very high, please double check if you are choosing the correct symbolic function.\n"
     ]
    },
    {
     "name": "stderr",
     "output_type": "stream",
     "text": [
      "train loss: 3.16e-03 | test loss: 4.87e-03 | reg: 3.12e+02 : 100%|██| 50/50 [00:01<00:00, 32.31it/s]\n",
      "/Users/gal.yona/Documents/MSc/Thesis/ImplicitNeuralSurfaces/forked_pykan/pykan/kan/KAN.py:344: UserWarning:\n",
      "\n",
      "std(): degrees of freedom is <= 0. Correction should be strictly less than the reduction factor (input numel divided by output numel). (Triggered internally at /Users/runner/work/pytorch/pytorch/pytorch/aten/src/ATen/native/ReduceOps.cpp:1760.)\n",
      "\n"
     ]
    },
    {
     "name": "stdout",
     "output_type": "stream",
     "text": [
      "5132.27*((0.02 - x_2)**3 - 0.e-2*(0.44 - x_1)**4)**2 - 0.e-2\n",
      "Number of vertices: 106712\n",
      "dataset down sampled size: 227\n"
     ]
    },
    {
     "name": "stderr",
     "output_type": "stream",
     "text": [
      "train loss: 2.95e-02 | test loss: 2.87e-02 | reg: 3.40e+00 : 100%|██| 20/20 [00:02<00:00,  9.27it/s]\n",
      "train loss: 3.19e-03 | test loss: 5.05e-03 | reg: 6.90e+00 : 100%|██| 50/50 [00:00<00:00, 59.30it/s]\n"
     ]
    },
    {
     "name": "stdout",
     "output_type": "stream",
     "text": [
      "r2 is 1.0000003576278687\n",
      "r2 is 1.0000003576278687\n",
      "r2 is 1.0000003576278687\n"
     ]
    },
    {
     "name": "stderr",
     "output_type": "stream",
     "text": [
      "train loss: 3.19e-03 | test loss: 5.05e-03 | reg: 3.11e+02 : 100%|██| 50/50 [00:00<00:00, 63.86it/s]\n",
      "/Users/gal.yona/Documents/MSc/Thesis/ImplicitNeuralSurfaces/forked_pykan/pykan/kan/KAN.py:344: UserWarning:\n",
      "\n",
      "std(): degrees of freedom is <= 0. Correction should be strictly less than the reduction factor (input numel divided by output numel). (Triggered internally at /Users/runner/work/pytorch/pytorch/pytorch/aten/src/ATen/native/ReduceOps.cpp:1760.)\n",
      "\n"
     ]
    },
    {
     "name": "stdout",
     "output_type": "stream",
     "text": [
      "5151.9*((0.02 - x_2)**3 - 0.e-2*(0.44 - x_1)**4)**2 - 0.e-2\n",
      "sampled_index 15 signature  tensor([[-0.7506, -0.3263, 42.5068,  0.6428, 17.3114,  2.1864]],\n",
      "       grad_fn=<StackBackward0>)\n",
      "sampled_index 15 signature  tensor([[-0.7613, -0.3321, 43.0524,  0.6694, 17.5625,  1.9906]],\n",
      "       grad_fn=<StackBackward0>)\n",
      "Number of vertices: 106712\n",
      "dataset full size: 264\n"
     ]
    },
    {
     "name": "stderr",
     "output_type": "stream",
     "text": [
      "train loss: 3.88e-02 | test loss: 3.97e-02 | reg: 3.19e+00 : 100%|██| 20/20 [00:02<00:00,  7.80it/s]\n",
      "train loss: 1.73e-03 | test loss: 2.73e-03 | reg: 4.76e+00 : 100%|██| 50/50 [00:02<00:00, 22.98it/s]\n"
     ]
    },
    {
     "name": "stdout",
     "output_type": "stream",
     "text": [
      "r2 is 0.9605403542518616\n",
      "r2 is 0.9674441814422607\n",
      "r2 is 0.9407869577407837\n"
     ]
    },
    {
     "name": "stderr",
     "output_type": "stream",
     "text": [
      "train loss: 2.85e-03 | test loss: 4.05e-03 | reg: 4.89e+00 : 100%|██| 50/50 [00:00<00:00, 51.24it/s]\n",
      "/Users/gal.yona/Documents/MSc/Thesis/ImplicitNeuralSurfaces/forked_pykan/pykan/kan/KAN.py:344: UserWarning:\n",
      "\n",
      "std(): degrees of freedom is <= 0. Correction should be strictly less than the reduction factor (input numel divided by output numel). (Triggered internally at /Users/runner/work/pytorch/pytorch/pytorch/aten/src/ATen/native/ReduceOps.cpp:1760.)\n",
      "\n"
     ]
    },
    {
     "name": "stdout",
     "output_type": "stream",
     "text": [
      "66.98*(-(0.18 - x_2)**3 + 0.05*(0.57 - x_1)**4)**2\n",
      "Number of vertices: 106712\n",
      "dataset down sampled size: 212\n"
     ]
    },
    {
     "name": "stderr",
     "output_type": "stream",
     "text": [
      "train loss: 2.86e-02 | test loss: 3.01e-02 | reg: 2.70e+00 : 100%|██| 20/20 [00:02<00:00,  9.00it/s]\n",
      "train loss: 2.81e-03 | test loss: 3.93e-03 | reg: 4.68e+00 : 100%|██| 50/50 [00:00<00:00, 56.04it/s]\n"
     ]
    },
    {
     "name": "stdout",
     "output_type": "stream",
     "text": [
      "r2 is 1.0000003576278687\n",
      "r2 is 1.0000004768371582\n",
      "r2 is 0.9996989965438843\n"
     ]
    },
    {
     "name": "stderr",
     "output_type": "stream",
     "text": [
      "train loss: 2.81e-03 | test loss: 3.93e-03 | reg: 4.89e+00 : 100%|██| 50/50 [00:00<00:00, 77.90it/s]\n",
      "/Users/gal.yona/Documents/MSc/Thesis/ImplicitNeuralSurfaces/forked_pykan/pykan/kan/KAN.py:344: UserWarning:\n",
      "\n",
      "std(): degrees of freedom is <= 0. Correction should be strictly less than the reduction factor (input numel divided by output numel). (Triggered internally at /Users/runner/work/pytorch/pytorch/pytorch/aten/src/ATen/native/ReduceOps.cpp:1760.)\n",
      "\n"
     ]
    },
    {
     "name": "stdout",
     "output_type": "stream",
     "text": [
      "66.54*(-(0.18 - x_2)**3 + 0.05*(0.57 - x_1)**4)**2\n",
      "sampled_index 16 signature  tensor([[-7.4382e-01,  3.0956e-03,  2.0345e+01, -5.7526e+00,  6.2922e-01,\n",
      "          1.4729e-02]], grad_fn=<StackBackward0>)\n",
      "sampled_index 16 signature  tensor([[-7.6343e-01,  1.5133e-03,  2.0067e+01, -6.1116e+00,  6.9011e-01,\n",
      "          7.2583e-03]], grad_fn=<StackBackward0>)\n",
      "Number of vertices: 106712\n",
      "dataset full size: 320\n"
     ]
    },
    {
     "name": "stderr",
     "output_type": "stream",
     "text": [
      "train loss: 1.78e-02 | test loss: 1.91e-02 | reg: 3.49e+00 : 100%|██| 20/20 [00:02<00:00,  8.46it/s]\n",
      "train loss: 3.89e-03 | test loss: 2.06e-01 | reg: 9.25e+00 : 100%|██| 50/50 [00:02<00:00, 17.36it/s]\n"
     ]
    },
    {
     "name": "stdout",
     "output_type": "stream",
     "text": [
      "r2 is 0.9998801946640015\n",
      "r2 is 0.973082959651947\n",
      "r2 is 0.8620668649673462\n",
      "r2 is not very high, please double check if you are choosing the correct symbolic function.\n"
     ]
    },
    {
     "name": "stderr",
     "output_type": "stream",
     "text": [
      "train loss: nan | test loss: nan | reg: nan : 100%|█████████████████| 50/50 [00:03<00:00, 14.94it/s]\n",
      "/Users/gal.yona/Documents/MSc/Thesis/ImplicitNeuralSurfaces/forked_pykan/pykan/kan/KAN.py:344: UserWarning:\n",
      "\n",
      "std(): degrees of freedom is <= 0. Correction should be strictly less than the reduction factor (input numel divided by output numel). (Triggered internally at /Users/runner/work/pytorch/pytorch/pytorch/aten/src/ATen/native/ReduceOps.cpp:1760.)\n",
      "\n"
     ]
    },
    {
     "name": "stdout",
     "output_type": "stream",
     "text": [
      "nan\n",
      "Number of vertices: 106712\n",
      "dataset down sampled size: 257\n"
     ]
    },
    {
     "name": "stderr",
     "output_type": "stream",
     "text": [
      "train loss: 1.83e-02 | test loss: 1.88e-02 | reg: 3.41e+00 : 100%|██| 20/20 [00:02<00:00,  8.85it/s]\n",
      "train loss: nan | test loss: nan | reg: nan : 100%|█████████████████| 50/50 [00:03<00:00, 15.67it/s]\n"
     ]
    },
    {
     "name": "stdout",
     "output_type": "stream",
     "text": [
      "Best value at boundary.\n",
      "r2 is 0.0\n",
      "r2 is not very high, please double check if you are choosing the correct symbolic function.\n",
      "nan encountered\n",
      "Number of vertices: 106712\n",
      "dataset full size: 301\n"
     ]
    },
    {
     "name": "stderr",
     "output_type": "stream",
     "text": [
      "train loss: 3.47e-02 | test loss: 3.47e-02 | reg: 3.67e+00 : 100%|██| 20/20 [00:02<00:00,  8.53it/s]\n",
      "train loss: 1.40e-03 | test loss: 2.67e-02 | reg: 4.95e+00 : 100%|██| 50/50 [00:02<00:00, 21.40it/s]\n"
     ]
    },
    {
     "name": "stdout",
     "output_type": "stream",
     "text": [
      "r2 is 0.9258632063865662\n",
      "r2 is 0.9981052279472351\n",
      "r2 is 0.6141266822814941\n",
      "r2 is not very high, please double check if you are choosing the correct symbolic function.\n"
     ]
    },
    {
     "name": "stderr",
     "output_type": "stream",
     "text": [
      "train loss: 2.02e-03 | test loss: 8.85e-03 | reg: 9.50e+01 : 100%|██| 50/50 [00:02<00:00, 22.71it/s]\n",
      "/Users/gal.yona/Documents/MSc/Thesis/ImplicitNeuralSurfaces/forked_pykan/pykan/kan/KAN.py:344: UserWarning:\n",
      "\n",
      "std(): degrees of freedom is <= 0. Correction should be strictly less than the reduction factor (input numel divided by output numel). (Triggered internally at /Users/runner/work/pytorch/pytorch/pytorch/aten/src/ATen/native/ReduceOps.cpp:1760.)\n",
      "\n"
     ]
    },
    {
     "name": "stdout",
     "output_type": "stream",
     "text": [
      "0.73 - 5.7*(-(0.15 - x_1)**4 + 0.1*(0.27 - x_2)**3 - 0.36)**2\n",
      "Number of vertices: 106712\n",
      "dataset down sampled size: 241\n"
     ]
    },
    {
     "name": "stderr",
     "output_type": "stream",
     "text": [
      "train loss: 2.31e-02 | test loss: 2.03e-02 | reg: 3.43e+00 : 100%|██| 20/20 [00:02<00:00,  9.10it/s]\n",
      "train loss: 2.04e-03 | test loss: 9.05e-03 | reg: 9.37e+01 : 100%|██| 50/50 [00:00<00:00, 72.38it/s]\n"
     ]
    },
    {
     "name": "stdout",
     "output_type": "stream",
     "text": [
      "r2 is 0.9999987483024597\n",
      "r2 is 1.0000004768371582\n",
      "Best value at boundary.\n",
      "r2 is 0.9999876022338867\n"
     ]
    },
    {
     "name": "stderr",
     "output_type": "stream",
     "text": [
      "train loss: 2.03e-03 | test loss: 9.05e-03 | reg: 9.37e+01 : 100%|██| 50/50 [00:00<00:00, 52.33it/s]\n",
      "/Users/gal.yona/Documents/MSc/Thesis/ImplicitNeuralSurfaces/forked_pykan/pykan/kan/KAN.py:344: UserWarning:\n",
      "\n",
      "std(): degrees of freedom is <= 0. Correction should be strictly less than the reduction factor (input numel divided by output numel). (Triggered internally at /Users/runner/work/pytorch/pytorch/pytorch/aten/src/ATen/native/ReduceOps.cpp:1760.)\n",
      "\n"
     ]
    },
    {
     "name": "stdout",
     "output_type": "stream",
     "text": [
      "0.99 - 4.3*(-(0.15 - x_1)**4 + 0.1*(0.27 - x_2)**3 - 0.48)**2\n",
      "sampled_index 18 signature  tensor([[ 0.2163, -0.7493, -1.1959,  7.2886, -2.3650, -9.8317]],\n",
      "       grad_fn=<StackBackward0>)\n",
      "sampled_index 18 signature  tensor([[  0.2172,  -0.7706,  -1.2240,   7.3597,  -2.4647, -10.0806]],\n",
      "       grad_fn=<StackBackward0>)\n",
      "Number of vertices: 106712\n",
      "dataset full size: 270\n"
     ]
    },
    {
     "name": "stderr",
     "output_type": "stream",
     "text": [
      "train loss: 2.79e-02 | test loss: 2.85e-02 | reg: 2.82e+00 : 100%|██| 20/20 [00:02<00:00,  8.55it/s]\n",
      "train loss: 1.15e-03 | test loss: 2.95e-03 | reg: 4.98e+00 : 100%|██| 50/50 [00:02<00:00, 17.67it/s]\n"
     ]
    },
    {
     "name": "stdout",
     "output_type": "stream",
     "text": [
      "Best value at boundary.\n",
      "r2 is 0.898189902305603\n",
      "r2 is not very high, please double check if you are choosing the correct symbolic function.\n",
      "r2 is 0.9888721704483032\n",
      "r2 is 0.8903089165687561\n",
      "r2 is not very high, please double check if you are choosing the correct symbolic function.\n"
     ]
    },
    {
     "name": "stderr",
     "output_type": "stream",
     "text": [
      "train loss: 1.50e-03 | test loss: 2.31e-03 | reg: 5.44e+00 : 100%|██| 50/50 [00:01<00:00, 39.85it/s]\n",
      "/Users/gal.yona/Documents/MSc/Thesis/ImplicitNeuralSurfaces/forked_pykan/pykan/kan/KAN.py:344: UserWarning:\n",
      "\n",
      "std(): degrees of freedom is <= 0. Correction should be strictly less than the reduction factor (input numel divided by output numel). (Triggered internally at /Users/runner/work/pytorch/pytorch/pytorch/aten/src/ATen/native/ReduceOps.cpp:1760.)\n",
      "\n"
     ]
    },
    {
     "name": "stdout",
     "output_type": "stream",
     "text": [
      "-4461.54*((0.01 - x_1)**4 - 0.37*(-x_2 - 0.04)**3)**2\n",
      "Number of vertices: 106712\n",
      "dataset down sampled size: 217\n"
     ]
    },
    {
     "name": "stderr",
     "output_type": "stream",
     "text": [
      "train loss: 2.74e-02 | test loss: 2.79e-02 | reg: 2.94e+00 : 100%|██| 20/20 [00:02<00:00,  9.15it/s]\n",
      "train loss: 1.52e-03 | test loss: 2.31e-03 | reg: 4.75e+00 : 100%|██| 50/50 [00:00<00:00, 68.88it/s]\n"
     ]
    },
    {
     "name": "stdout",
     "output_type": "stream",
     "text": [
      "Best value at boundary.\n",
      "r2 is 0.9615128040313721\n",
      "r2 is 1.0000001192092896\n",
      "r2 is 0.9999712705612183\n"
     ]
    },
    {
     "name": "stderr",
     "output_type": "stream",
     "text": [
      "train loss: 1.52e-03 | test loss: 2.29e-03 | reg: 5.37e+00 : 100%|██| 50/50 [00:01<00:00, 48.59it/s]\n",
      "/Users/gal.yona/Documents/MSc/Thesis/ImplicitNeuralSurfaces/forked_pykan/pykan/kan/KAN.py:344: UserWarning:\n",
      "\n",
      "std(): degrees of freedom is <= 0. Correction should be strictly less than the reduction factor (input numel divided by output numel). (Triggered internally at /Users/runner/work/pytorch/pytorch/pytorch/aten/src/ATen/native/ReduceOps.cpp:1760.)\n",
      "\n"
     ]
    },
    {
     "name": "stdout",
     "output_type": "stream",
     "text": [
      "-4472.5*((0.01 - x_1)**4 - 0.37*(-x_2 - 0.04)**3)**2\n",
      "sampled_index 19 signature  tensor([[2.8457e-01, 4.6634e-03, 7.2845e-01, 8.7384e+00, 8.1619e-01, 1.6210e-01]],\n",
      "       grad_fn=<StackBackward0>)\n",
      "sampled_index 19 signature  tensor([[2.7739e-01, 4.8554e-03, 7.3336e-01, 8.6300e+00, 7.9967e-01, 1.7259e-01]],\n",
      "       grad_fn=<StackBackward0>)\n",
      "Number of vertices: 106712\n",
      "dataset full size: 286\n"
     ]
    },
    {
     "name": "stderr",
     "output_type": "stream",
     "text": [
      "train loss: 1.96e-02 | test loss: 2.00e-02 | reg: 3.36e+00 : 100%|██| 20/20 [00:02<00:00,  9.21it/s]\n",
      "train loss: 2.43e-03 | test loss: 3.68e-03 | reg: 3.69e+00 : 100%|██| 50/50 [00:01<00:00, 25.57it/s]\n"
     ]
    },
    {
     "name": "stdout",
     "output_type": "stream",
     "text": [
      "r2 is 0.9770519733428955\n",
      "r2 is 0.7927077412605286\n",
      "r2 is not very high, please double check if you are choosing the correct symbolic function.\n",
      "r2 is 0.9290322661399841\n"
     ]
    },
    {
     "name": "stderr",
     "output_type": "stream",
     "text": [
      "train loss: 4.28e-03 | test loss: 5.72e-03 | reg: 3.74e+00 : 100%|██| 50/50 [00:01<00:00, 46.93it/s]\n",
      "/Users/gal.yona/Documents/MSc/Thesis/ImplicitNeuralSurfaces/forked_pykan/pykan/kan/KAN.py:344: UserWarning:\n",
      "\n",
      "std(): degrees of freedom is <= 0. Correction should be strictly less than the reduction factor (input numel divided by output numel). (Triggered internally at /Users/runner/work/pytorch/pytorch/pytorch/aten/src/ATen/native/ReduceOps.cpp:1760.)\n",
      "\n"
     ]
    },
    {
     "name": "stdout",
     "output_type": "stream",
     "text": [
      "38.47*(-0.76*(-x_1 - 0.38)**4 + (-x_2 - 0.07)**3)**2\n",
      "Number of vertices: 106712\n",
      "dataset down sampled size: 229\n"
     ]
    },
    {
     "name": "stderr",
     "output_type": "stream",
     "text": [
      "train loss: 1.78e-02 | test loss: 1.84e-02 | reg: 3.36e+00 : 100%|██| 20/20 [00:02<00:00,  9.58it/s]\n",
      "train loss: 4.26e-03 | test loss: 5.59e-03 | reg: 3.50e+00 : 100%|██| 50/50 [00:00<00:00, 57.96it/s]\n"
     ]
    },
    {
     "name": "stdout",
     "output_type": "stream",
     "text": [
      "r2 is 1.0000003576278687\n",
      "r2 is 0.9999983906745911\n",
      "r2 is 0.9999969005584717\n"
     ]
    },
    {
     "name": "stderr",
     "output_type": "stream",
     "text": [
      "train loss: 4.26e-03 | test loss: 5.59e-03 | reg: 3.74e+00 : 100%|██| 50/50 [00:00<00:00, 53.96it/s]\n",
      "/Users/gal.yona/Documents/MSc/Thesis/ImplicitNeuralSurfaces/forked_pykan/pykan/kan/KAN.py:344: UserWarning:\n",
      "\n",
      "std(): degrees of freedom is <= 0. Correction should be strictly less than the reduction factor (input numel divided by output numel). (Triggered internally at /Users/runner/work/pytorch/pytorch/pytorch/aten/src/ATen/native/ReduceOps.cpp:1760.)\n",
      "\n"
     ]
    },
    {
     "name": "stdout",
     "output_type": "stream",
     "text": [
      "41.16*(-0.79*(-x_1 - 0.38)**4 + (-x_2 - 0.07)**3 + 0.01)**2\n",
      "sampled_index 20 signature  tensor([[ -1.7057,   1.0542,  26.9814,   2.1196, -32.3797, -16.3354]],\n",
      "       grad_fn=<StackBackward0>)\n",
      "sampled_index 20 signature  tensor([[ -1.8145,   1.0500,  30.3749,   1.7980, -36.0516, -16.2403]],\n",
      "       grad_fn=<StackBackward0>)\n",
      "Number of vertices: 106712\n",
      "dataset full size: 266\n"
     ]
    },
    {
     "name": "stderr",
     "output_type": "stream",
     "text": [
      "train loss: 6.61e-02 | test loss: 6.75e-02 | reg: 2.81e+00 : 100%|██| 20/20 [00:02<00:00,  9.05it/s]\n",
      "train loss: 2.84e-03 | test loss: 4.84e-03 | reg: 4.48e+00 : 100%|██| 50/50 [00:01<00:00, 27.44it/s]\n"
     ]
    },
    {
     "name": "stdout",
     "output_type": "stream",
     "text": [
      "r2 is 0.9943731427192688\n",
      "Best value at boundary.\n",
      "r2 is 0.5454680323600769\n",
      "r2 is not very high, please double check if you are choosing the correct symbolic function.\n",
      "r2 is 0.7188223600387573\n",
      "r2 is not very high, please double check if you are choosing the correct symbolic function.\n"
     ]
    },
    {
     "name": "stderr",
     "output_type": "stream",
     "text": [
      "train loss: 4.23e-03 | test loss: 9.51e-03 | reg: 5.24e+00 : 100%|██| 50/50 [00:01<00:00, 43.24it/s]\n",
      "/Users/gal.yona/Documents/MSc/Thesis/ImplicitNeuralSurfaces/forked_pykan/pykan/kan/KAN.py:344: UserWarning:\n",
      "\n",
      "std(): degrees of freedom is <= 0. Correction should be strictly less than the reduction factor (input numel divided by output numel). (Triggered internally at /Users/runner/work/pytorch/pytorch/pytorch/aten/src/ATen/native/ReduceOps.cpp:1760.)\n",
      "\n"
     ]
    },
    {
     "name": "stdout",
     "output_type": "stream",
     "text": [
      "-3157686.24*(0.02 - x_2)**6\n",
      "Number of vertices: 106712\n",
      "dataset down sampled size: 213\n"
     ]
    },
    {
     "name": "stderr",
     "output_type": "stream",
     "text": [
      "train loss: 6.46e-02 | test loss: 6.57e-02 | reg: 2.62e+00 : 100%|██| 20/20 [00:02<00:00,  9.37it/s]\n",
      "train loss: 3.75e-03 | test loss: 1.24e-02 | reg: 4.24e+02 : 100%|██| 50/50 [00:01<00:00, 25.36it/s]\n"
     ]
    },
    {
     "name": "stdout",
     "output_type": "stream",
     "text": [
      "r2 is 1.0000004768371582\n",
      "r2 is 1.0000003576278687\n",
      "r2 is 1.0000003576278687\n"
     ]
    },
    {
     "name": "stderr",
     "output_type": "stream",
     "text": [
      "train loss: 3.75e-03 | test loss: 1.24e-02 | reg: 2.61e+04 : 100%|██| 50/50 [00:00<00:00, 93.45it/s]\n",
      "/Users/gal.yona/Documents/MSc/Thesis/ImplicitNeuralSurfaces/forked_pykan/pykan/kan/KAN.py:344: UserWarning:\n",
      "\n",
      "std(): degrees of freedom is <= 0. Correction should be strictly less than the reduction factor (input numel divided by output numel). (Triggered internally at /Users/runner/work/pytorch/pytorch/pytorch/aten/src/ATen/native/ReduceOps.cpp:1760.)\n",
      "\n"
     ]
    },
    {
     "name": "stdout",
     "output_type": "stream",
     "text": [
      "-33.49*((0.54 - x_2)**3 + 0.1*(0.63 - x_1)**4 - 0.18)**2\n",
      "sampled_index 21 signature  tensor([[    1.4822,    -4.6786,  -632.6547, -1176.4956,   -11.8722,  -132.7796]],\n",
      "       grad_fn=<StackBackward0>)\n",
      "sampled_index 21 signature  tensor([[   25.1964,    -5.1456,   -18.8668,  -960.0389,   -16.5457, -1360.4808]],\n",
      "       grad_fn=<StackBackward0>)\n",
      "Number of vertices: 106712\n",
      "dataset full size: 343\n"
     ]
    },
    {
     "name": "stderr",
     "output_type": "stream",
     "text": [
      "train loss: 6.36e-02 | test loss: 6.39e-02 | reg: 2.68e+00 : 100%|██| 20/20 [00:02<00:00,  7.04it/s]\n",
      "train loss: 3.89e-03 | test loss: 5.60e-03 | reg: 4.96e+00 : 100%|██| 50/50 [00:02<00:00, 22.84it/s]\n"
     ]
    },
    {
     "name": "stdout",
     "output_type": "stream",
     "text": [
      "r2 is 0.9144325852394104\n",
      "r2 is 0.6388568878173828\n",
      "r2 is not very high, please double check if you are choosing the correct symbolic function.\n",
      "r2 is 0.9964199662208557\n"
     ]
    },
    {
     "name": "stderr",
     "output_type": "stream",
     "text": [
      "train loss: 6.59e-03 | test loss: 7.26e-03 | reg: 8.24e+01 : 100%|██| 50/50 [00:02<00:00, 20.25it/s]\n",
      "/Users/gal.yona/Documents/MSc/Thesis/ImplicitNeuralSurfaces/forked_pykan/pykan/kan/KAN.py:344: UserWarning:\n",
      "\n",
      "std(): degrees of freedom is <= 0. Correction should be strictly less than the reduction factor (input numel divided by output numel). (Triggered internally at /Users/runner/work/pytorch/pytorch/pytorch/aten/src/ATen/native/ReduceOps.cpp:1760.)\n",
      "\n"
     ]
    },
    {
     "name": "stdout",
     "output_type": "stream",
     "text": [
      "58.62*(0.2*(0.02 - x_1)**4 - (0.03 - x_2)**3 + 0.25)**2 - 3.56\n",
      "Number of vertices: 106712\n",
      "dataset down sampled size: 275\n"
     ]
    },
    {
     "name": "stderr",
     "output_type": "stream",
     "text": [
      "train loss: 6.41e-02 | test loss: 6.42e-02 | reg: 2.73e+00 : 100%|██| 20/20 [00:02<00:00,  8.90it/s]\n",
      "train loss: 6.66e-03 | test loss: 7.19e-03 | reg: 8.23e+01 : 100%|██| 50/50 [00:00<00:00, 64.27it/s]\n"
     ]
    },
    {
     "name": "stdout",
     "output_type": "stream",
     "text": [
      "r2 is 0.9999995231628418\n",
      "r2 is 0.999118447303772\n",
      "Best value at boundary.\n",
      "r2 is 1.0000003576278687\n"
     ]
    },
    {
     "name": "stderr",
     "output_type": "stream",
     "text": [
      "train loss: 6.66e-03 | test loss: 7.18e-03 | reg: 8.25e+01 : 100%|██| 50/50 [00:00<00:00, 69.41it/s]\n",
      "/Users/gal.yona/Documents/MSc/Thesis/ImplicitNeuralSurfaces/forked_pykan/pykan/kan/KAN.py:344: UserWarning:\n",
      "\n",
      "std(): degrees of freedom is <= 0. Correction should be strictly less than the reduction factor (input numel divided by output numel). (Triggered internally at /Users/runner/work/pytorch/pytorch/pytorch/aten/src/ATen/native/ReduceOps.cpp:1760.)\n",
      "\n"
     ]
    },
    {
     "name": "stdout",
     "output_type": "stream",
     "text": [
      "54.75*(0.21*(0.02 - x_1)**4 - (0.03 - x_2)**3 + 0.25)**2 - 3.53\n",
      "sampled_index 22 signature  tensor([[  2.3476,  -0.1672,  -1.5554, -83.7565, -14.7157,   5.8679]],\n",
      "       grad_fn=<StackBackward0>)\n",
      "sampled_index 22 signature  tensor([[  2.3414,  -0.1667,  -1.5550, -80.4579, -14.6737,   5.6312]],\n",
      "       grad_fn=<StackBackward0>)\n",
      "Number of vertices: 106712\n",
      "dataset full size: 290\n"
     ]
    },
    {
     "name": "stderr",
     "output_type": "stream",
     "text": [
      "train loss: 6.55e-02 | test loss: 7.03e-02 | reg: 3.57e+00 : 100%|██| 20/20 [00:02<00:00,  8.70it/s]\n",
      "train loss: 1.26e-03 | test loss: 5.23e-02 | reg: 2.83e+00 : 100%|██| 50/50 [00:01<00:00, 25.46it/s]\n"
     ]
    },
    {
     "name": "stdout",
     "output_type": "stream",
     "text": [
      "r2 is 0.9999268651008606\n",
      "r2 is 0.9990435242652893\n",
      "r2 is 0.863449215888977\n",
      "r2 is not very high, please double check if you are choosing the correct symbolic function.\n"
     ]
    },
    {
     "name": "stderr",
     "output_type": "stream",
     "text": [
      "train loss: 1.38e-03 | test loss: 1.76e-02 | reg: 3.16e+00 : 100%|██| 50/50 [00:00<00:00, 74.53it/s]\n",
      "/Users/gal.yona/Documents/MSc/Thesis/ImplicitNeuralSurfaces/forked_pykan/pykan/kan/KAN.py:344: UserWarning:\n",
      "\n",
      "std(): degrees of freedom is <= 0. Correction should be strictly less than the reduction factor (input numel divided by output numel). (Triggered internally at /Users/runner/work/pytorch/pytorch/pytorch/aten/src/ATen/native/ReduceOps.cpp:1760.)\n",
      "\n"
     ]
    },
    {
     "name": "stdout",
     "output_type": "stream",
     "text": [
      "-367.76*(-0.01*(-0.85*x_1 - 1)**4 - (-x_2 - 0.15)**3 + 0.01)**2\n",
      "Number of vertices: 106712\n",
      "dataset down sampled size: 233\n"
     ]
    },
    {
     "name": "stderr",
     "output_type": "stream",
     "text": [
      "train loss: 7.89e-02 | test loss: 8.22e-02 | reg: 2.88e+00 : 100%|██| 20/20 [00:02<00:00,  8.29it/s]\n",
      "train loss: 1.40e-03 | test loss: 1.73e-02 | reg: 3.02e+00 : 100%|█| 50/50 [00:00<00:00, 115.02it/s]\n"
     ]
    },
    {
     "name": "stdout",
     "output_type": "stream",
     "text": [
      "r2 is 1.0000003576278687\n",
      "r2 is 1.0000003576278687\n",
      "r2 is 0.9999995231628418\n"
     ]
    },
    {
     "name": "stderr",
     "output_type": "stream",
     "text": [
      "train loss: 1.40e-03 | test loss: 1.73e-02 | reg: 3.14e+00 : 100%|██| 50/50 [00:00<00:00, 80.88it/s]\n",
      "/Users/gal.yona/Documents/MSc/Thesis/ImplicitNeuralSurfaces/forked_pykan/pykan/kan/KAN.py:344: UserWarning:\n",
      "\n",
      "std(): degrees of freedom is <= 0. Correction should be strictly less than the reduction factor (input numel divided by output numel). (Triggered internally at /Users/runner/work/pytorch/pytorch/pytorch/aten/src/ATen/native/ReduceOps.cpp:1760.)\n",
      "\n"
     ]
    },
    {
     "name": "stdout",
     "output_type": "stream",
     "text": [
      "-367.33*(-0.01*(-0.85*x_1 - 1)**4 - (-x_2 - 0.15)**3 + 0.01)**2\n",
      "sampled_index 23 signature  tensor([[  2.0930,   0.1022, -22.2472,  56.5193,   0.1001,  30.5767]],\n",
      "       grad_fn=<StackBackward0>)\n",
      "sampled_index 23 signature  tensor([[  2.0908,   0.0980, -22.2938,  56.4650,   0.0975,  30.7648]],\n",
      "       grad_fn=<StackBackward0>)\n",
      "Number of vertices: 106712\n",
      "dataset full size: 304\n"
     ]
    },
    {
     "name": "stderr",
     "output_type": "stream",
     "text": [
      "train loss: 7.68e-02 | test loss: 8.11e-02 | reg: 2.88e+00 : 100%|██| 20/20 [00:02<00:00,  8.50it/s]\n",
      "train loss: 5.29e-04 | test loss: 3.23e-02 | reg: 3.49e+00 : 100%|██| 50/50 [00:02<00:00, 23.94it/s]\n"
     ]
    },
    {
     "name": "stdout",
     "output_type": "stream",
     "text": [
      "r2 is 0.9999763369560242\n",
      "r2 is 0.9999876618385315\n",
      "r2 is 0.9736716747283936\n"
     ]
    },
    {
     "name": "stderr",
     "output_type": "stream",
     "text": [
      "train loss: 1.30e-03 | test loss: 2.23e-02 | reg: 4.51e+00 : 100%|██| 50/50 [00:00<00:00, 75.95it/s]\n",
      "/Users/gal.yona/Documents/MSc/Thesis/ImplicitNeuralSurfaces/forked_pykan/pykan/kan/KAN.py:344: UserWarning:\n",
      "\n",
      "std(): degrees of freedom is <= 0. Correction should be strictly less than the reduction factor (input numel divided by output numel). (Triggered internally at /Users/runner/work/pytorch/pytorch/pytorch/aten/src/ATen/native/ReduceOps.cpp:1760.)\n",
      "\n"
     ]
    },
    {
     "name": "stdout",
     "output_type": "stream",
     "text": [
      "-70.3*(-(0.48 - x_2)**3 + 0.07*(1 - 0.36*x_1)**4 + 0.04)**2\n",
      "Number of vertices: 106712\n",
      "dataset down sampled size: 244\n"
     ]
    },
    {
     "name": "stderr",
     "output_type": "stream",
     "text": [
      "train loss: 7.23e-02 | test loss: 7.63e-02 | reg: 2.72e+00 : 100%|██| 20/20 [00:02<00:00,  9.32it/s]\n",
      "train loss: 1.32e-03 | test loss: 2.12e-02 | reg: 4.29e+00 : 100%|█| 50/50 [00:00<00:00, 110.34it/s]\n"
     ]
    },
    {
     "name": "stdout",
     "output_type": "stream",
     "text": [
      "Best value at boundary.\n",
      "r2 is 1.0\n",
      "Best value at boundary.\n",
      "r2 is 1.0000003576278687\n",
      "r2 is 1.000000238418579\n"
     ]
    },
    {
     "name": "stderr",
     "output_type": "stream",
     "text": [
      "train loss: 1.32e-03 | test loss: 2.12e-02 | reg: 4.51e+00 : 100%|█| 50/50 [00:00<00:00, 117.24it/s]\n",
      "/Users/gal.yona/Documents/MSc/Thesis/ImplicitNeuralSurfaces/forked_pykan/pykan/kan/KAN.py:344: UserWarning:\n",
      "\n",
      "std(): degrees of freedom is <= 0. Correction should be strictly less than the reduction factor (input numel divided by output numel). (Triggered internally at /Users/runner/work/pytorch/pytorch/pytorch/aten/src/ATen/native/ReduceOps.cpp:1760.)\n",
      "\n"
     ]
    },
    {
     "name": "stdout",
     "output_type": "stream",
     "text": [
      "-70.02*(-(0.48 - x_2)**3 + 0.07*(1 - 0.36*x_1)**4 + 0.04)**2\n",
      "sampled_index 24 signature  tensor([[ 3.3200e+01, -7.3597e-01,  3.9713e+01,  6.7289e+02, -4.6360e-01,\n",
      "          2.9205e+02]], grad_fn=<StackBackward0>)\n",
      "sampled_index 24 signature  tensor([[ 3.3204e+01, -7.2946e-01,  3.9677e+01,  6.7132e+02, -4.5834e-01,\n",
      "          2.9014e+02]], grad_fn=<StackBackward0>)\n",
      "Number of vertices: 106712\n",
      "dataset full size: 280\n"
     ]
    },
    {
     "name": "stderr",
     "output_type": "stream",
     "text": [
      "train loss: 1.56e-02 | test loss: 1.57e-02 | reg: 3.14e+00 : 100%|██| 20/20 [00:02<00:00,  8.33it/s]\n",
      "train loss: 1.28e-03 | test loss: 2.67e-03 | reg: 3.46e+00 : 100%|██| 50/50 [00:02<00:00, 22.60it/s]\n"
     ]
    },
    {
     "name": "stdout",
     "output_type": "stream",
     "text": [
      "r2 is 0.9683579802513123\n",
      "r2 is 0.6897866129875183\n",
      "r2 is not very high, please double check if you are choosing the correct symbolic function.\n",
      "r2 is 0.8413034081459045\n",
      "r2 is not very high, please double check if you are choosing the correct symbolic function.\n"
     ]
    },
    {
     "name": "stderr",
     "output_type": "stream",
     "text": [
      "train loss: 1.60e-03 | test loss: 2.18e-03 | reg: 3.92e+00 : 100%|██| 50/50 [00:00<00:00, 52.34it/s]\n",
      "/Users/gal.yona/Documents/MSc/Thesis/ImplicitNeuralSurfaces/forked_pykan/pykan/kan/KAN.py:344: UserWarning:\n",
      "\n",
      "std(): degrees of freedom is <= 0. Correction should be strictly less than the reduction factor (input numel divided by output numel). (Triggered internally at /Users/runner/work/pytorch/pytorch/pytorch/aten/src/ATen/native/ReduceOps.cpp:1760.)\n",
      "\n"
     ]
    },
    {
     "name": "stdout",
     "output_type": "stream",
     "text": [
      "-13.84*((0.42 - x_1)**4 + 0.9*(-x_2 - 0.12)**3 - 0.03)**2\n",
      "Number of vertices: 106712\n",
      "dataset down sampled size: 225\n"
     ]
    },
    {
     "name": "stderr",
     "output_type": "stream",
     "text": [
      "train loss: 1.27e-02 | test loss: 1.18e-02 | reg: 3.12e+00 : 100%|██| 20/20 [00:02<00:00,  9.31it/s]\n",
      "train loss: 1.65e-03 | test loss: 2.20e-03 | reg: 3.33e+00 : 100%|██| 50/50 [00:00<00:00, 63.97it/s]\n"
     ]
    },
    {
     "name": "stdout",
     "output_type": "stream",
     "text": [
      "Best value at boundary.\n",
      "r2 is 0.9999998807907104\n",
      "r2 is 1.0000003576278687\n",
      "r2 is 0.9969982504844666\n"
     ]
    },
    {
     "name": "stderr",
     "output_type": "stream",
     "text": [
      "train loss: 1.65e-03 | test loss: 2.20e-03 | reg: 3.91e+00 : 100%|██| 50/50 [00:00<00:00, 92.29it/s]\n",
      "/Users/gal.yona/Documents/MSc/Thesis/ImplicitNeuralSurfaces/forked_pykan/pykan/kan/KAN.py:344: UserWarning:\n",
      "\n",
      "std(): degrees of freedom is <= 0. Correction should be strictly less than the reduction factor (input numel divided by output numel). (Triggered internally at /Users/runner/work/pytorch/pytorch/pytorch/aten/src/ATen/native/ReduceOps.cpp:1760.)\n",
      "\n"
     ]
    },
    {
     "name": "stdout",
     "output_type": "stream",
     "text": [
      "-14.05*((0.42 - x_1)**4 + 0.85*(-x_2 - 0.12)**3 - 0.03)**2\n",
      "sampled_index 25 signature  tensor([[  1.1960,   0.0603,  -2.9746,  23.0855,  -0.4770, -10.0309]],\n",
      "       grad_fn=<StackBackward0>)\n",
      "sampled_index 25 signature  tensor([[ 1.2152,  0.0626, -2.8667, 23.6656, -0.4978, -9.8478]],\n",
      "       grad_fn=<StackBackward0>)\n",
      "Number of vertices: 106712\n",
      "dataset full size: 276\n"
     ]
    },
    {
     "name": "stderr",
     "output_type": "stream",
     "text": [
      "train loss: 9.42e-02 | test loss: 1.03e-01 | reg: 3.24e+00 : 100%|██| 20/20 [00:02<00:00,  8.78it/s]\n",
      "train loss: 4.81e-03 | test loss: 3.39e-01 | reg: 9.22e+00 : 100%|██| 50/50 [00:02<00:00, 23.28it/s]\n"
     ]
    },
    {
     "name": "stdout",
     "output_type": "stream",
     "text": [
      "r2 is 0.9933366179466248\n",
      "r2 is 0.9903297424316406\n",
      "r2 is 0.8485233783721924\n",
      "r2 is not very high, please double check if you are choosing the correct symbolic function.\n"
     ]
    },
    {
     "name": "stderr",
     "output_type": "stream",
     "text": [
      "train loss: 5.18e-03 | test loss: 1.07e-02 | reg: 4.94e+01 : 100%|██| 50/50 [00:00<00:00, 74.24it/s]\n",
      "/Users/gal.yona/Documents/MSc/Thesis/ImplicitNeuralSurfaces/forked_pykan/pykan/kan/KAN.py:344: UserWarning:\n",
      "\n",
      "std(): degrees of freedom is <= 0. Correction should be strictly less than the reduction factor (input numel divided by output numel). (Triggered internally at /Users/runner/work/pytorch/pytorch/pytorch/aten/src/ATen/native/ReduceOps.cpp:1760.)\n",
      "\n"
     ]
    },
    {
     "name": "stdout",
     "output_type": "stream",
     "text": [
      "0.14 - 0.15*(-0.1*(-x_1 - 0.73)**4 - 0.1*(-x_2 - 0.31)**3 + 1)**2\n",
      "Number of vertices: 106712\n",
      "dataset down sampled size: 221\n"
     ]
    },
    {
     "name": "stderr",
     "output_type": "stream",
     "text": [
      "train loss: 8.08e-02 | test loss: 8.86e-02 | reg: 3.01e+00 : 100%|██| 20/20 [00:02<00:00,  9.14it/s]\n",
      "train loss: 5.35e-03 | test loss: 1.05e-02 | reg: 5.04e+01 : 100%|█| 50/50 [00:00<00:00, 111.54it/s]\n"
     ]
    },
    {
     "name": "stdout",
     "output_type": "stream",
     "text": [
      "r2 is 1.0000005960464478\n",
      "r2 is 0.9999984502792358\n",
      "Best value at boundary.\n",
      "r2 is 0.9999426603317261\n"
     ]
    },
    {
     "name": "stderr",
     "output_type": "stream",
     "text": [
      "train loss: 5.35e-03 | test loss: 1.05e-02 | reg: 4.87e+01 : 100%|██| 50/50 [00:00<00:00, 54.99it/s]\n",
      "/Users/gal.yona/Documents/MSc/Thesis/ImplicitNeuralSurfaces/forked_pykan/pykan/kan/KAN.py:344: UserWarning:\n",
      "\n",
      "std(): degrees of freedom is <= 0. Correction should be strictly less than the reduction factor (input numel divided by output numel). (Triggered internally at /Users/runner/work/pytorch/pytorch/pytorch/aten/src/ATen/native/ReduceOps.cpp:1760.)\n",
      "\n"
     ]
    },
    {
     "name": "stdout",
     "output_type": "stream",
     "text": [
      "0.69 - 0.7*(-0.02*(-x_1 - 0.73)**4 - 0.02*(-x_2 - 0.31)**3 + 1)**2\n",
      "sampled_index 26 signature  tensor([[-0.0645, -0.0108,  0.2206, -0.0939,  0.0234,  0.0359]],\n",
      "       grad_fn=<StackBackward0>)\n",
      "sampled_index 26 signature  tensor([[-0.0705, -0.0103,  0.2563, -0.0859,  0.0267,  0.0334]],\n",
      "       grad_fn=<StackBackward0>)\n",
      "Number of vertices: 106712\n",
      "dataset full size: 310\n"
     ]
    },
    {
     "name": "stderr",
     "output_type": "stream",
     "text": [
      "train loss: 3.23e-02 | test loss: 3.34e-02 | reg: 3.18e+00 : 100%|██| 20/20 [00:02<00:00,  8.51it/s]\n",
      "train loss: 1.78e-03 | test loss: 7.92e-03 | reg: 3.89e+00 : 100%|██| 50/50 [00:01<00:00, 25.74it/s]\n"
     ]
    },
    {
     "name": "stdout",
     "output_type": "stream",
     "text": [
      "r2 is 0.9983211755752563\n",
      "r2 is 0.9812459945678711\n",
      "r2 is 0.9670230150222778\n"
     ]
    },
    {
     "name": "stderr",
     "output_type": "stream",
     "text": [
      "train loss: 3.39e-03 | test loss: 8.67e-03 | reg: 4.66e+00 : 100%|██| 50/50 [00:01<00:00, 38.50it/s]\n",
      "/Users/gal.yona/Documents/MSc/Thesis/ImplicitNeuralSurfaces/forked_pykan/pykan/kan/KAN.py:344: UserWarning:\n",
      "\n",
      "std(): degrees of freedom is <= 0. Correction should be strictly less than the reduction factor (input numel divided by output numel). (Triggered internally at /Users/runner/work/pytorch/pytorch/pytorch/aten/src/ATen/native/ReduceOps.cpp:1760.)\n",
      "\n"
     ]
    },
    {
     "name": "stdout",
     "output_type": "stream",
     "text": [
      "-267.29*(-(0.14 - x_2)**3 - 0.19*(-x_1 - 0.42)**4 + 0.01)**2\n",
      "Number of vertices: 106712\n",
      "dataset down sampled size: 249\n"
     ]
    },
    {
     "name": "stderr",
     "output_type": "stream",
     "text": [
      "train loss: 5.58e-02 | test loss: 5.63e-02 | reg: 3.17e+00 : 100%|██| 20/20 [00:02<00:00,  9.20it/s]\n",
      "train loss: 3.42e-03 | test loss: 8.84e-03 | reg: 3.72e+00 : 100%|██| 50/50 [00:00<00:00, 58.32it/s]\n"
     ]
    },
    {
     "name": "stdout",
     "output_type": "stream",
     "text": [
      "r2 is 1.0000004768371582\n",
      "r2 is 1.000000238418579\n",
      "r2 is 0.9999990463256836\n"
     ]
    },
    {
     "name": "stderr",
     "output_type": "stream",
     "text": [
      "train loss: 3.42e-03 | test loss: 8.84e-03 | reg: 4.67e+00 : 100%|██| 50/50 [00:00<00:00, 90.02it/s]\n",
      "/Users/gal.yona/Documents/MSc/Thesis/ImplicitNeuralSurfaces/forked_pykan/pykan/kan/KAN.py:344: UserWarning:\n",
      "\n",
      "std(): degrees of freedom is <= 0. Correction should be strictly less than the reduction factor (input numel divided by output numel). (Triggered internally at /Users/runner/work/pytorch/pytorch/pytorch/aten/src/ATen/native/ReduceOps.cpp:1760.)\n",
      "\n"
     ]
    },
    {
     "name": "stdout",
     "output_type": "stream",
     "text": [
      "-271.04*(-(0.14 - x_2)**3 - 0.19*(-x_1 - 0.42)**4 + 0.01)**2\n",
      "sampled_index 27 signature  tensor([[  0.7089,  -2.6598,  11.4049, -48.6334,  -7.5950,  14.6321]],\n",
      "       grad_fn=<StackBackward0>)\n",
      "sampled_index 27 signature  tensor([[  0.6989,  -2.7121,  11.6381, -48.9447,  -7.8375,  16.1726]],\n",
      "       grad_fn=<StackBackward0>)\n",
      "Number of vertices: 106712\n",
      "dataset full size: 286\n"
     ]
    },
    {
     "name": "stderr",
     "output_type": "stream",
     "text": [
      "train loss: 1.21e-02 | test loss: 1.30e-02 | reg: 3.40e+00 : 100%|██| 20/20 [00:02<00:00,  8.42it/s]\n",
      "train loss: 1.97e-03 | test loss: 3.06e-03 | reg: 2.80e+00 : 100%|██| 50/50 [00:01<00:00, 27.28it/s]\n"
     ]
    },
    {
     "name": "stdout",
     "output_type": "stream",
     "text": [
      "r2 is 0.844660222530365\n",
      "r2 is not very high, please double check if you are choosing the correct symbolic function.\n",
      "r2 is 0.47865551710128784\n",
      "r2 is not very high, please double check if you are choosing the correct symbolic function.\n",
      "Best value at boundary.\n",
      "r2 is 0.9876003265380859\n"
     ]
    },
    {
     "name": "stderr",
     "output_type": "stream",
     "text": [
      "train loss: 3.34e-03 | test loss: 4.30e-03 | reg: 2.96e+00 : 100%|█| 50/50 [00:00<00:00, 114.50it/s]\n",
      "/Users/gal.yona/Documents/MSc/Thesis/ImplicitNeuralSurfaces/forked_pykan/pykan/kan/KAN.py:344: UserWarning:\n",
      "\n",
      "std(): degrees of freedom is <= 0. Correction should be strictly less than the reduction factor (input numel divided by output numel). (Triggered internally at /Users/runner/work/pytorch/pytorch/pytorch/aten/src/ATen/native/ReduceOps.cpp:1760.)\n",
      "\n"
     ]
    },
    {
     "name": "stdout",
     "output_type": "stream",
     "text": [
      "226.06*(-0.e-2*(-x_1 - 0.58)**4 + (-x_2 - 0.04)**3 + 0.01)**2 - 0.02\n",
      "Number of vertices: 106712\n",
      "dataset down sampled size: 229\n"
     ]
    },
    {
     "name": "stderr",
     "output_type": "stream",
     "text": [
      "train loss: 1.18e-02 | test loss: 1.29e-02 | reg: 3.46e+00 : 100%|██| 20/20 [00:02<00:00,  9.34it/s]\n",
      "train loss: 3.48e-03 | test loss: 4.22e-03 | reg: 2.91e+00 : 100%|██| 50/50 [00:00<00:00, 76.46it/s]\n"
     ]
    },
    {
     "name": "stdout",
     "output_type": "stream",
     "text": [
      "r2 is 1.0000003576278687\n",
      "r2 is 0.9999914765357971\n",
      "Best value at boundary.\n",
      "r2 is 0.9991856217384338\n"
     ]
    },
    {
     "name": "stderr",
     "output_type": "stream",
     "text": [
      "train loss: 3.48e-03 | test loss: 4.23e-03 | reg: 2.97e+00 : 100%|██| 50/50 [00:00<00:00, 60.04it/s]\n",
      "/Users/gal.yona/Documents/MSc/Thesis/ImplicitNeuralSurfaces/forked_pykan/pykan/kan/KAN.py:344: UserWarning:\n",
      "\n",
      "std(): degrees of freedom is <= 0. Correction should be strictly less than the reduction factor (input numel divided by output numel). (Triggered internally at /Users/runner/work/pytorch/pytorch/pytorch/aten/src/ATen/native/ReduceOps.cpp:1760.)\n",
      "\n"
     ]
    },
    {
     "name": "stdout",
     "output_type": "stream",
     "text": [
      "133.44*(-0.e-2*(-x_1 - 0.58)**4 + (-x_2 - 0.04)**3 + 0.02)**2 - 0.03\n",
      "sampled_index 28 signature  tensor([[ 0.6111,  0.1040,  0.0294, 12.0090, -0.2052,  2.1328]],\n",
      "       grad_fn=<StackBackward0>)\n",
      "sampled_index 28 signature  tensor([[ 0.5683,  0.1007, -0.0416, 11.3348, -0.2434,  2.1508]],\n",
      "       grad_fn=<StackBackward0>)\n",
      "Number of vertices: 106712\n",
      "dataset full size: 266\n"
     ]
    },
    {
     "name": "stderr",
     "output_type": "stream",
     "text": [
      "train loss: 1.98e-02 | test loss: 2.09e-02 | reg: 3.09e+00 : 100%|██| 20/20 [00:02<00:00,  9.19it/s]\n",
      "train loss: 2.34e-03 | test loss: 1.38e-02 | reg: 3.62e+00 : 100%|██| 50/50 [00:01<00:00, 25.29it/s]\n"
     ]
    },
    {
     "name": "stdout",
     "output_type": "stream",
     "text": [
      "r2 is 0.9596775770187378\n",
      "r2 is 0.9550694227218628\n",
      "r2 is 0.17006859183311462\n",
      "r2 is not very high, please double check if you are choosing the correct symbolic function.\n"
     ]
    },
    {
     "name": "stderr",
     "output_type": "stream",
     "text": [
      "train loss: 4.53e-03 | test loss: 4.21e-03 | reg: 3.95e+01 : 100%|██| 50/50 [00:01<00:00, 26.20it/s]\n",
      "/Users/gal.yona/Documents/MSc/Thesis/ImplicitNeuralSurfaces/forked_pykan/pykan/kan/KAN.py:344: UserWarning:\n",
      "\n",
      "std(): degrees of freedom is <= 0. Correction should be strictly less than the reduction factor (input numel divided by output numel). (Triggered internally at /Users/runner/work/pytorch/pytorch/pytorch/aten/src/ATen/native/ReduceOps.cpp:1760.)\n",
      "\n"
     ]
    },
    {
     "name": "stdout",
     "output_type": "stream",
     "text": [
      "2.53*(0.02*(0.46 - x_1)**4 - (-x_2 - 0.07)**3 - 0.34)**2 - 0.3\n",
      "Number of vertices: 106712\n",
      "dataset down sampled size: 213\n"
     ]
    },
    {
     "name": "stderr",
     "output_type": "stream",
     "text": [
      "train loss: 1.68e-02 | test loss: 1.78e-02 | reg: 3.44e+00 : 100%|██| 20/20 [00:02<00:00,  8.92it/s]\n",
      "train loss: 4.66e-03 | test loss: 4.27e-03 | reg: 3.76e+01 : 100%|██| 50/50 [00:00<00:00, 52.12it/s]\n"
     ]
    },
    {
     "name": "stdout",
     "output_type": "stream",
     "text": [
      "r2 is 1.000000238418579\n",
      "r2 is 0.9999620318412781\n",
      "Best value at boundary.\n",
      "r2 is 0.9999063014984131\n"
     ]
    },
    {
     "name": "stderr",
     "output_type": "stream",
     "text": [
      "train loss: 4.65e-03 | test loss: 4.27e-03 | reg: 3.77e+01 : 100%|██| 50/50 [00:00<00:00, 75.20it/s]\n",
      "/Users/gal.yona/Documents/MSc/Thesis/ImplicitNeuralSurfaces/forked_pykan/pykan/kan/KAN.py:344: UserWarning:\n",
      "\n",
      "std(): degrees of freedom is <= 0. Correction should be strictly less than the reduction factor (input numel divided by output numel). (Triggered internally at /Users/runner/work/pytorch/pytorch/pytorch/aten/src/ATen/native/ReduceOps.cpp:1760.)\n",
      "\n"
     ]
    },
    {
     "name": "stdout",
     "output_type": "stream",
     "text": [
      "1.52*(0.01*(0.46 - x_1)**4 - 0.58*(-x_2 - 0.07)**3 - 1)**2 - 1.52\n",
      "sampled_index 29 signature  tensor([[0.3823, 0.0538, 0.1666, 5.0942, 0.2325, 0.7959]],\n",
      "       grad_fn=<StackBackward0>)\n",
      "sampled_index 29 signature  tensor([[0.3982, 0.0640, 0.1974, 5.2632, 0.2796, 0.9536]],\n",
      "       grad_fn=<StackBackward0>)\n",
      "Number of vertices: 106712\n",
      "dataset full size: 323\n"
     ]
    },
    {
     "name": "stderr",
     "output_type": "stream",
     "text": [
      "train loss: 8.70e-03 | test loss: 1.01e-02 | reg: 3.65e+00 : 100%|██| 20/20 [00:02<00:00,  8.01it/s]\n",
      "train loss: 2.14e-03 | test loss: 6.24e-03 | reg: 5.13e+00 : 100%|██| 50/50 [00:01<00:00, 25.55it/s]\n"
     ]
    },
    {
     "name": "stdout",
     "output_type": "stream",
     "text": [
      "r2 is 0.9776643514633179\n",
      "r2 is 0.9794511198997498\n",
      "r2 is 0.018469978123903275\n",
      "r2 is not very high, please double check if you are choosing the correct symbolic function.\n"
     ]
    },
    {
     "name": "stderr",
     "output_type": "stream",
     "text": [
      "train loss: 2.95e-03 | test loss: 3.48e-03 | reg: 1.23e+03 : 100%|██| 50/50 [00:01<00:00, 45.95it/s]\n",
      "/Users/gal.yona/Documents/MSc/Thesis/ImplicitNeuralSurfaces/forked_pykan/pykan/kan/KAN.py:344: UserWarning:\n",
      "\n",
      "std(): degrees of freedom is <= 0. Correction should be strictly less than the reduction factor (input numel divided by output numel). (Triggered internally at /Users/runner/work/pytorch/pytorch/pytorch/aten/src/ATen/native/ReduceOps.cpp:1760.)\n",
      "\n"
     ]
    },
    {
     "name": "stdout",
     "output_type": "stream",
     "text": [
      "-35.5*((0.09 - x_2)**3 + 0.21*(-x_1 - 0.39)**4)**2\n",
      "Number of vertices: 106712\n",
      "dataset down sampled size: 259\n"
     ]
    },
    {
     "name": "stderr",
     "output_type": "stream",
     "text": [
      "train loss: 8.67e-03 | test loss: 9.95e-03 | reg: 3.57e+00 : 100%|██| 20/20 [00:02<00:00,  9.15it/s]\n",
      "train loss: 2.92e-03 | test loss: 3.42e-03 | reg: 4.82e+00 : 100%|██| 50/50 [00:00<00:00, 70.91it/s]\n"
     ]
    },
    {
     "name": "stdout",
     "output_type": "stream",
     "text": [
      "r2 is 1.0000003576278687\n",
      "r2 is 1.0000003576278687\n",
      "r2 is 1.0000003576278687\n"
     ]
    },
    {
     "name": "stderr",
     "output_type": "stream",
     "text": [
      "train loss: 2.92e-03 | test loss: 3.42e-03 | reg: 1.41e+03 : 100%|█| 50/50 [00:00<00:00, 114.74it/s]\n",
      "/Users/gal.yona/Documents/MSc/Thesis/ImplicitNeuralSurfaces/forked_pykan/pykan/kan/KAN.py:344: UserWarning:\n",
      "\n",
      "std(): degrees of freedom is <= 0. Correction should be strictly less than the reduction factor (input numel divided by output numel). (Triggered internally at /Users/runner/work/pytorch/pytorch/pytorch/aten/src/ATen/native/ReduceOps.cpp:1760.)\n",
      "\n"
     ]
    },
    {
     "name": "stdout",
     "output_type": "stream",
     "text": [
      "-32.05*((0.09 - x_2)**3 + 0.23*(-x_1 - 0.39)**4)**2\n",
      "sampled_index 30 signature  tensor([[ 0.2312,  0.0437,  0.5290, -4.0638,  0.2544, -1.5939]],\n",
      "       grad_fn=<StackBackward0>)\n",
      "sampled_index 30 signature  tensor([[ 0.2351,  0.0449,  0.5526, -4.0286,  0.3055, -1.5938]],\n",
      "       grad_fn=<StackBackward0>)\n",
      "Number of vertices: 106712\n",
      "dataset full size: 269\n"
     ]
    },
    {
     "name": "stderr",
     "output_type": "stream",
     "text": [
      "train loss: 8.48e-02 | test loss: 8.62e-02 | reg: 2.66e+00 : 100%|██| 20/20 [00:02<00:00,  9.00it/s]\n",
      "train loss: 2.18e-03 | test loss: 3.26e-03 | reg: 2.98e+00 : 100%|██| 50/50 [00:01<00:00, 28.76it/s]\n"
     ]
    },
    {
     "name": "stdout",
     "output_type": "stream",
     "text": [
      "r2 is 0.999971866607666\n",
      "r2 is 0.5807081460952759\n",
      "r2 is not very high, please double check if you are choosing the correct symbolic function.\n",
      "r2 is 0.5691555738449097\n",
      "r2 is not very high, please double check if you are choosing the correct symbolic function.\n"
     ]
    },
    {
     "name": "stderr",
     "output_type": "stream",
     "text": [
      "train loss: 2.65e-03 | test loss: 3.68e-03 | reg: 7.45e+00 : 100%|██| 50/50 [00:01<00:00, 31.86it/s]\n",
      "/Users/gal.yona/Documents/MSc/Thesis/ImplicitNeuralSurfaces/forked_pykan/pykan/kan/KAN.py:344: UserWarning:\n",
      "\n",
      "std(): degrees of freedom is <= 0. Correction should be strictly less than the reduction factor (input numel divided by output numel). (Triggered internally at /Users/runner/work/pytorch/pytorch/pytorch/aten/src/ATen/native/ReduceOps.cpp:1760.)\n",
      "\n"
     ]
    },
    {
     "name": "stdout",
     "output_type": "stream",
     "text": [
      "-38.66*(0.02*(0.95 - x_2)**3 - (-0.02*x_1 - 1)**4 + 0.99)**2\n",
      "Number of vertices: 106712\n",
      "dataset down sampled size: 216\n"
     ]
    },
    {
     "name": "stderr",
     "output_type": "stream",
     "text": [
      "train loss: 8.77e-02 | test loss: 8.88e-02 | reg: 2.80e+00 : 100%|██| 20/20 [00:02<00:00,  9.28it/s]\n",
      "train loss: nan | test loss: nan | reg: nan : 100%|█████████████████| 50/50 [00:03<00:00, 15.36it/s]\n"
     ]
    },
    {
     "name": "stdout",
     "output_type": "stream",
     "text": [
      "Best value at boundary.\n",
      "r2 is 0.0\n",
      "r2 is not very high, please double check if you are choosing the correct symbolic function.\n",
      "nan encountered\n",
      "Number of vertices: 106712\n",
      "dataset full size: 311\n"
     ]
    },
    {
     "name": "stderr",
     "output_type": "stream",
     "text": [
      "train loss: 2.99e-02 | test loss: 2.88e-02 | reg: 3.51e+00 : 100%|██| 20/20 [00:02<00:00,  7.63it/s]\n",
      "train loss: 6.98e-03 | test loss: 8.04e-03 | reg: 2.38e+01 : 100%|██| 50/50 [00:02<00:00, 21.98it/s]\n"
     ]
    },
    {
     "name": "stdout",
     "output_type": "stream",
     "text": [
      "r2 is 0.9561776518821716\n",
      "r2 is 0.9583173394203186\n",
      "Best value at boundary.\n",
      "r2 is 0.9146921634674072\n"
     ]
    },
    {
     "name": "stderr",
     "output_type": "stream",
     "text": [
      "train loss: 8.15e-03 | test loss: 7.84e-03 | reg: 1.92e+01 : 100%|██| 50/50 [00:01<00:00, 42.04it/s]\n",
      "/Users/gal.yona/Documents/MSc/Thesis/ImplicitNeuralSurfaces/forked_pykan/pykan/kan/KAN.py:344: UserWarning:\n",
      "\n",
      "std(): degrees of freedom is <= 0. Correction should be strictly less than the reduction factor (input numel divided by output numel). (Triggered internally at /Users/runner/work/pytorch/pytorch/pytorch/aten/src/ATen/native/ReduceOps.cpp:1760.)\n",
      "\n"
     ]
    },
    {
     "name": "stdout",
     "output_type": "stream",
     "text": [
      "0.03 - 14038.85*(-(0.03 - x_2)**3 - 0.04*(0.28 - x_1)**4)**2\n",
      "Number of vertices: 106712\n",
      "dataset down sampled size: 249\n"
     ]
    },
    {
     "name": "stderr",
     "output_type": "stream",
     "text": [
      "train loss: 3.00e-02 | test loss: 2.81e-02 | reg: 3.36e+00 : 100%|██| 20/20 [00:02<00:00,  9.16it/s]\n",
      "train loss: 8.22e-03 | test loss: 7.74e-03 | reg: 1.83e+01 : 100%|██| 50/50 [00:00<00:00, 61.19it/s]\n"
     ]
    },
    {
     "name": "stdout",
     "output_type": "stream",
     "text": [
      "r2 is 1.0000004768371582\n",
      "r2 is 0.9999101161956787\n",
      "Best value at boundary.\n",
      "r2 is 0.9990219473838806\n"
     ]
    },
    {
     "name": "stderr",
     "output_type": "stream",
     "text": [
      "train loss: 8.22e-03 | test loss: 7.74e-03 | reg: 1.92e+01 : 100%|██| 50/50 [00:00<00:00, 67.53it/s]\n",
      "/Users/gal.yona/Documents/MSc/Thesis/ImplicitNeuralSurfaces/forked_pykan/pykan/kan/KAN.py:344: UserWarning:\n",
      "\n",
      "std(): degrees of freedom is <= 0. Correction should be strictly less than the reduction factor (input numel divided by output numel). (Triggered internally at /Users/runner/work/pytorch/pytorch/pytorch/aten/src/ATen/native/ReduceOps.cpp:1760.)\n",
      "\n"
     ]
    },
    {
     "name": "stdout",
     "output_type": "stream",
     "text": [
      "0.03 - 13964.35*((0.03 - x_2)**3 + 0.04*(0.28 - x_1)**4)**2\n",
      "sampled_index 32 signature  tensor([[  -4.0764,    8.8713,  104.4044,    4.3270, -247.1084,  -16.4861]],\n",
      "       grad_fn=<StackBackward0>)\n",
      "sampled_index 32 signature  tensor([[  -4.0839,    8.9664,  103.8199,    4.5205, -247.9537,  -18.5551]],\n",
      "       grad_fn=<StackBackward0>)\n",
      "Number of vertices: 106712\n",
      "dataset full size: 283\n"
     ]
    },
    {
     "name": "stderr",
     "output_type": "stream",
     "text": [
      "train loss: 1.17e-02 | test loss: 1.27e-02 | reg: 3.29e+00 : 100%|██| 20/20 [00:02<00:00,  9.02it/s]\n",
      "train loss: 3.24e-03 | test loss: 5.01e-03 | reg: 3.30e+00 : 100%|██| 50/50 [00:02<00:00, 24.52it/s]\n"
     ]
    },
    {
     "name": "stdout",
     "output_type": "stream",
     "text": [
      "r2 is 0.9996975064277649\n",
      "r2 is 0.38171932101249695\n",
      "r2 is not very high, please double check if you are choosing the correct symbolic function.\n",
      "r2 is 0.849004864692688\n",
      "r2 is not very high, please double check if you are choosing the correct symbolic function.\n"
     ]
    },
    {
     "name": "stderr",
     "output_type": "stream",
     "text": [
      "train loss: 4.03e-03 | test loss: 5.25e-03 | reg: 5.24e+01 : 100%|██| 50/50 [00:02<00:00, 24.56it/s]\n",
      "/Users/gal.yona/Documents/MSc/Thesis/ImplicitNeuralSurfaces/forked_pykan/pykan/kan/KAN.py:344: UserWarning:\n",
      "\n",
      "std(): degrees of freedom is <= 0. Correction should be strictly less than the reduction factor (input numel divided by output numel). (Triggered internally at /Users/runner/work/pytorch/pytorch/pytorch/aten/src/ATen/native/ReduceOps.cpp:1760.)\n",
      "\n"
     ]
    },
    {
     "name": "stdout",
     "output_type": "stream",
     "text": [
      "-1.68*(-0.e-2*(1 - 0.49*x_2)**3 - (-0.32*x_1 - 1)**4 + 0.99)**2\n",
      "Number of vertices: 106712\n",
      "dataset down sampled size: 227\n"
     ]
    },
    {
     "name": "stderr",
     "output_type": "stream",
     "text": [
      "train loss: 1.16e-02 | test loss: 1.24e-02 | reg: 3.27e+00 : 100%|██| 20/20 [00:02<00:00,  9.22it/s]\n",
      "train loss: nan | test loss: nan | reg: nan : 100%|█████████████████| 50/50 [00:03<00:00, 15.36it/s]\n"
     ]
    },
    {
     "name": "stdout",
     "output_type": "stream",
     "text": [
      "Best value at boundary.\n",
      "r2 is 0.0\n",
      "r2 is not very high, please double check if you are choosing the correct symbolic function.\n",
      "nan encountered\n",
      "Number of vertices: 106712\n",
      "dataset full size: 337\n"
     ]
    },
    {
     "name": "stderr",
     "output_type": "stream",
     "text": [
      "train loss: 6.25e-02 | test loss: 5.56e-02 | reg: 2.68e+00 : 100%|██| 20/20 [00:02<00:00,  6.99it/s]\n",
      "train loss: 1.59e-02 | test loss: 1.20e-02 | reg: 3.59e+00 : 100%|██| 50/50 [00:01<00:00, 29.56it/s]\n"
     ]
    },
    {
     "name": "stdout",
     "output_type": "stream",
     "text": [
      "Best value at boundary.\n",
      "r2 is 0.9318239688873291\n",
      "r2 is 0.9329676032066345\n",
      "Best value at boundary.\n",
      "r2 is 0.8546226620674133\n",
      "r2 is not very high, please double check if you are choosing the correct symbolic function.\n"
     ]
    },
    {
     "name": "stderr",
     "output_type": "stream",
     "text": [
      "train loss: 1.73e-02 | test loss: 1.25e-02 | reg: 4.23e+00 : 100%|██| 50/50 [00:01<00:00, 34.24it/s]\n",
      "/Users/gal.yona/Documents/MSc/Thesis/ImplicitNeuralSurfaces/forked_pykan/pykan/kan/KAN.py:344: UserWarning:\n",
      "\n",
      "std(): degrees of freedom is <= 0. Correction should be strictly less than the reduction factor (input numel divided by output numel). (Triggered internally at /Users/runner/work/pytorch/pytorch/pytorch/aten/src/ATen/native/ReduceOps.cpp:1760.)\n",
      "\n"
     ]
    },
    {
     "name": "stdout",
     "output_type": "stream",
     "text": [
      "-38.14*(0.18*(0.76 - x_2)**3 - (-x_1 - 0.28)**4 - 0.06)**2 - 0.e-2\n",
      "Number of vertices: 106712\n",
      "dataset down sampled size: 270\n"
     ]
    },
    {
     "name": "stderr",
     "output_type": "stream",
     "text": [
      "train loss: 6.92e-02 | test loss: 6.20e-02 | reg: 2.83e+00 : 100%|██| 20/20 [00:02<00:00,  9.05it/s]\n",
      "train loss: 1.73e-02 | test loss: 1.22e-02 | reg: 2.92e+00 : 100%|██| 50/50 [00:00<00:00, 63.53it/s]\n"
     ]
    },
    {
     "name": "stdout",
     "output_type": "stream",
     "text": [
      "r2 is 1.0000003576278687\n",
      "r2 is 1.0000004768371582\n",
      "r2 is 0.9999881982803345\n"
     ]
    },
    {
     "name": "stderr",
     "output_type": "stream",
     "text": [
      "train loss: 1.73e-02 | test loss: 1.22e-02 | reg: 4.22e+00 : 100%|██| 50/50 [00:00<00:00, 85.95it/s]\n",
      "/Users/gal.yona/Documents/MSc/Thesis/ImplicitNeuralSurfaces/forked_pykan/pykan/kan/KAN.py:344: UserWarning:\n",
      "\n",
      "std(): degrees of freedom is <= 0. Correction should be strictly less than the reduction factor (input numel divided by output numel). (Triggered internally at /Users/runner/work/pytorch/pytorch/pytorch/aten/src/ATen/native/ReduceOps.cpp:1760.)\n",
      "\n"
     ]
    },
    {
     "name": "stdout",
     "output_type": "stream",
     "text": [
      "-40.11*(0.18*(0.76 - x_2)**3 - (-x_1 - 0.27)**4 - 0.06)**2 - 0.01\n",
      "sampled_index 34 signature  tensor([[  3.5501,  -5.6465,  -6.2545,  12.0784,  34.3215, 133.3873]],\n",
      "       grad_fn=<StackBackward0>)\n",
      "sampled_index 34 signature  tensor([[  3.4328,  -5.3025,  -5.9590,   9.5911,  32.9669, 129.3797]],\n",
      "       grad_fn=<StackBackward0>)\n",
      "Number of vertices: 106712\n",
      "dataset full size: 284\n"
     ]
    },
    {
     "name": "stderr",
     "output_type": "stream",
     "text": [
      "train loss: 1.55e-02 | test loss: 1.51e-02 | reg: 3.51e+00 : 100%|██| 20/20 [00:02<00:00,  8.57it/s]\n",
      "train loss: 2.24e-03 | test loss: 4.39e-03 | reg: 3.96e+00 : 100%|██| 50/50 [00:01<00:00, 25.36it/s]\n"
     ]
    },
    {
     "name": "stdout",
     "output_type": "stream",
     "text": [
      "r2 is 0.9941943883895874\n",
      "Best value at boundary.\n",
      "r2 is 0.9850387573242188\n",
      "r2 is 0.7325983047485352\n",
      "r2 is not very high, please double check if you are choosing the correct symbolic function.\n"
     ]
    },
    {
     "name": "stderr",
     "output_type": "stream",
     "text": [
      "train loss: 2.72e-03 | test loss: 3.53e-03 | reg: 6.70e+00 : 100%|██| 50/50 [00:01<00:00, 49.97it/s]\n",
      "/Users/gal.yona/Documents/MSc/Thesis/ImplicitNeuralSurfaces/forked_pykan/pykan/kan/KAN.py:344: UserWarning:\n",
      "\n",
      "std(): degrees of freedom is <= 0. Correction should be strictly less than the reduction factor (input numel divided by output numel). (Triggered internally at /Users/runner/work/pytorch/pytorch/pytorch/aten/src/ATen/native/ReduceOps.cpp:1760.)\n",
      "\n"
     ]
    },
    {
     "name": "stdout",
     "output_type": "stream",
     "text": [
      "7795.24*((0.08 - x_1)**4 + 0.23*(-x_2 - 0.01)**3)**2 - 0.e-2\n",
      "Number of vertices: 106712\n",
      "dataset down sampled size: 228\n"
     ]
    },
    {
     "name": "stderr",
     "output_type": "stream",
     "text": [
      "train loss: 1.48e-02 | test loss: 1.41e-02 | reg: 3.54e+00 : 100%|██| 20/20 [00:02<00:00,  9.37it/s]\n",
      "train loss: 2.70e-03 | test loss: 3.47e-03 | reg: 3.75e+00 : 100%|██| 50/50 [00:00<00:00, 55.39it/s]\n"
     ]
    },
    {
     "name": "stdout",
     "output_type": "stream",
     "text": [
      "r2 is 1.0000003576278687\n",
      "Best value at boundary.\n",
      "r2 is 0.9849393367767334\n",
      "r2 is 0.9999975562095642\n"
     ]
    },
    {
     "name": "stderr",
     "output_type": "stream",
     "text": [
      "train loss: 2.70e-03 | test loss: 3.47e-03 | reg: 6.26e+00 : 100%|██| 50/50 [00:01<00:00, 40.26it/s]\n",
      "/Users/gal.yona/Documents/MSc/Thesis/ImplicitNeuralSurfaces/forked_pykan/pykan/kan/KAN.py:344: UserWarning:\n",
      "\n",
      "std(): degrees of freedom is <= 0. Correction should be strictly less than the reduction factor (input numel divided by output numel). (Triggered internally at /Users/runner/work/pytorch/pytorch/pytorch/aten/src/ATen/native/ReduceOps.cpp:1760.)\n",
      "\n"
     ]
    },
    {
     "name": "stdout",
     "output_type": "stream",
     "text": [
      "11239.18*((0.07 - x_1)**4 + 0.2*(-x_2 - 0.01)**3)**2 - 0.e-2\n",
      "sampled_index 35 signature  tensor([[ 0.4123, -0.3127, 10.9191, 11.6162, 24.2845, -5.8678]],\n",
      "       grad_fn=<StackBackward0>)\n",
      "sampled_index 35 signature  tensor([[ 0.4359, -0.3198, 11.3983, 13.4355, 26.3149, -6.8107]],\n",
      "       grad_fn=<StackBackward0>)\n",
      "Number of vertices: 106712\n",
      "dataset full size: 251\n"
     ]
    },
    {
     "name": "stderr",
     "output_type": "stream",
     "text": [
      "train loss: 1.40e-02 | test loss: 1.25e-02 | reg: 3.02e+00 : 100%|██| 20/20 [00:02<00:00,  9.04it/s]\n",
      "train loss: 9.51e-04 | test loss: 6.69e-03 | reg: 4.50e+00 : 100%|██| 50/50 [00:02<00:00, 23.74it/s]\n"
     ]
    },
    {
     "name": "stdout",
     "output_type": "stream",
     "text": [
      "r2 is 0.9995114207267761\n",
      "r2 is 0.9251144528388977\n",
      "r2 is 0.9729552865028381\n"
     ]
    },
    {
     "name": "stderr",
     "output_type": "stream",
     "text": [
      "train loss: 1.34e-03 | test loss: 7.26e-03 | reg: 8.30e+01 : 100%|██| 50/50 [00:00<00:00, 57.71it/s]\n",
      "/Users/gal.yona/Documents/MSc/Thesis/ImplicitNeuralSurfaces/forked_pykan/pykan/kan/KAN.py:344: UserWarning:\n",
      "\n",
      "std(): degrees of freedom is <= 0. Correction should be strictly less than the reduction factor (input numel divided by output numel). (Triggered internally at /Users/runner/work/pytorch/pytorch/pytorch/aten/src/ATen/native/ReduceOps.cpp:1760.)\n",
      "\n"
     ]
    },
    {
     "name": "stdout",
     "output_type": "stream",
     "text": [
      "-3897.17*(-0.05*(0.11 - x_2)**3 - (-x_1 - 0.19)**4)**2\n",
      "Number of vertices: 106712\n",
      "dataset down sampled size: 201\n"
     ]
    },
    {
     "name": "stderr",
     "output_type": "stream",
     "text": [
      "train loss: 1.43e-02 | test loss: 1.28e-02 | reg: 2.90e+00 : 100%|██| 20/20 [00:02<00:00,  9.67it/s]\n",
      "train loss: 1.34e-03 | test loss: 6.97e-03 | reg: 2.87e+00 : 100%|██| 50/50 [00:00<00:00, 67.65it/s]\n"
     ]
    },
    {
     "name": "stdout",
     "output_type": "stream",
     "text": [
      "r2 is 1.0000003576278687\n",
      "r2 is 1.0000003576278687\n",
      "r2 is 1.0000001192092896\n"
     ]
    },
    {
     "name": "stderr",
     "output_type": "stream",
     "text": [
      "train loss: 1.34e-03 | test loss: 6.97e-03 | reg: 8.31e+01 : 100%|██| 50/50 [00:00<00:00, 92.07it/s]\n",
      "/Users/gal.yona/Documents/MSc/Thesis/ImplicitNeuralSurfaces/forked_pykan/pykan/kan/KAN.py:344: UserWarning:\n",
      "\n",
      "std(): degrees of freedom is <= 0. Correction should be strictly less than the reduction factor (input numel divided by output numel). (Triggered internally at /Users/runner/work/pytorch/pytorch/pytorch/aten/src/ATen/native/ReduceOps.cpp:1760.)\n",
      "\n"
     ]
    },
    {
     "name": "stdout",
     "output_type": "stream",
     "text": [
      "-3838.92*(-0.05*(0.11 - x_2)**3 - (-x_1 - 0.19)**4)**2\n",
      "sampled_index 36 signature  tensor([[   2.9640,    0.3867,   -4.2526, -127.5905,    3.7269,  -56.2678]],\n",
      "       grad_fn=<StackBackward0>)\n",
      "sampled_index 36 signature  tensor([[   2.9368,    0.3816,   -4.0605, -125.8175,    3.6757,  -54.0386]],\n",
      "       grad_fn=<StackBackward0>)\n",
      "Number of vertices: 106712\n",
      "dataset full size: 286\n"
     ]
    },
    {
     "name": "stderr",
     "output_type": "stream",
     "text": [
      "train loss: 6.88e-02 | test loss: 6.94e-02 | reg: 2.99e+00 : 100%|██| 20/20 [00:02<00:00,  8.88it/s]\n",
      "train loss: 6.80e-04 | test loss: 9.67e-03 | reg: 2.76e+00 : 100%|██| 50/50 [00:01<00:00, 27.98it/s]\n"
     ]
    },
    {
     "name": "stdout",
     "output_type": "stream",
     "text": [
      "r2 is 0.95631343126297\n",
      "r2 is 0.5712219476699829\n",
      "r2 is not very high, please double check if you are choosing the correct symbolic function.\n",
      "r2 is 0.5174235105514526\n",
      "r2 is not very high, please double check if you are choosing the correct symbolic function.\n"
     ]
    },
    {
     "name": "stderr",
     "output_type": "stream",
     "text": [
      "train loss: 1.90e-03 | test loss: 2.33e-03 | reg: 3.66e+01 : 100%|██| 50/50 [00:01<00:00, 25.26it/s]\n",
      "/Users/gal.yona/Documents/MSc/Thesis/ImplicitNeuralSurfaces/forked_pykan/pykan/kan/KAN.py:344: UserWarning:\n",
      "\n",
      "std(): degrees of freedom is <= 0. Correction should be strictly less than the reduction factor (input numel divided by output numel). (Triggered internally at /Users/runner/work/pytorch/pytorch/pytorch/aten/src/ATen/native/ReduceOps.cpp:1760.)\n",
      "\n"
     ]
    },
    {
     "name": "stdout",
     "output_type": "stream",
     "text": [
      "5.93*(-(0.05 - x_2)**3 - 0.43*(-x_1 - 0.15)**4 + 0.27)**2 - 0.43\n",
      "Number of vertices: 106712\n",
      "dataset down sampled size: 229\n"
     ]
    },
    {
     "name": "stderr",
     "output_type": "stream",
     "text": [
      "train loss: 6.10e-02 | test loss: 6.17e-02 | reg: 2.93e+00 : 100%|██| 20/20 [00:02<00:00,  9.16it/s]\n",
      "train loss: 1.89e-03 | test loss: 2.29e-03 | reg: 3.70e+01 : 100%|██| 50/50 [00:00<00:00, 89.40it/s]\n"
     ]
    },
    {
     "name": "stdout",
     "output_type": "stream",
     "text": [
      "r2 is 0.9999985694885254\n",
      "r2 is 0.9998521208763123\n",
      "Best value at boundary.\n",
      "r2 is 0.9999765753746033\n"
     ]
    },
    {
     "name": "stderr",
     "output_type": "stream",
     "text": [
      "train loss: 1.88e-03 | test loss: 2.29e-03 | reg: 3.71e+01 : 100%|█| 50/50 [00:00<00:00, 116.44it/s]\n",
      "/Users/gal.yona/Documents/MSc/Thesis/ImplicitNeuralSurfaces/forked_pykan/pykan/kan/KAN.py:344: UserWarning:\n",
      "\n",
      "std(): degrees of freedom is <= 0. Correction should be strictly less than the reduction factor (input numel divided by output numel). (Triggered internally at /Users/runner/work/pytorch/pytorch/pytorch/aten/src/ATen/native/ReduceOps.cpp:1760.)\n",
      "\n"
     ]
    },
    {
     "name": "stdout",
     "output_type": "stream",
     "text": [
      "1.61*(-0.94*(0.05 - x_2)**3 - 0.42*(-x_1 - 0.15)**4 + 1)**2 - 1.62\n",
      "sampled_index 37 signature  tensor([[ 0.6105,  0.3080, -2.4015, -9.4421, -4.1559, -6.7158]],\n",
      "       grad_fn=<StackBackward0>)\n",
      "sampled_index 37 signature  tensor([[ 0.5929,  0.2925, -2.3679, -9.0992, -3.9594, -6.3623]],\n",
      "       grad_fn=<StackBackward0>)\n",
      "Number of vertices: 106712\n",
      "dataset full size: 320\n"
     ]
    },
    {
     "name": "stderr",
     "output_type": "stream",
     "text": [
      "train loss: 7.91e-03 | test loss: 1.40e-02 | reg: 3.80e+00 : 100%|██| 20/20 [00:02<00:00,  8.96it/s]\n",
      "train loss: 2.16e-03 | test loss: 8.77e-03 | reg: 3.33e+00 : 100%|██| 50/50 [00:02<00:00, 24.20it/s]\n"
     ]
    },
    {
     "name": "stdout",
     "output_type": "stream",
     "text": [
      "r2 is 0.9934727549552917\n",
      "r2 is 0.5467668175697327\n",
      "r2 is not very high, please double check if you are choosing the correct symbolic function.\n",
      "Best value at boundary.\n",
      "r2 is 0.548346996307373\n",
      "r2 is not very high, please double check if you are choosing the correct symbolic function.\n"
     ]
    },
    {
     "name": "stderr",
     "output_type": "stream",
     "text": [
      "train loss: 2.28e-03 | test loss: 1.21e-02 | reg: 3.68e+00 : 100%|██| 50/50 [00:00<00:00, 61.58it/s]\n",
      "/Users/gal.yona/Documents/MSc/Thesis/ImplicitNeuralSurfaces/forked_pykan/pykan/kan/KAN.py:344: UserWarning:\n",
      "\n",
      "std(): degrees of freedom is <= 0. Correction should be strictly less than the reduction factor (input numel divided by output numel). (Triggered internally at /Users/runner/work/pytorch/pytorch/pytorch/aten/src/ATen/native/ReduceOps.cpp:1760.)\n",
      "\n"
     ]
    },
    {
     "name": "stdout",
     "output_type": "stream",
     "text": [
      "-1117.59*(-0.04*(0.48 - x_1)**4 - (-x_2 - 0.06)**3)**2\n",
      "Number of vertices: 106712\n",
      "dataset down sampled size: 257\n"
     ]
    },
    {
     "name": "stderr",
     "output_type": "stream",
     "text": [
      "train loss: 9.24e-03 | test loss: 1.52e-02 | reg: 3.84e+00 : 100%|██| 20/20 [00:02<00:00,  9.11it/s]\n",
      "train loss: 2.32e-03 | test loss: 1.29e-02 | reg: 3.53e+00 : 100%|██| 50/50 [00:00<00:00, 51.70it/s]\n"
     ]
    },
    {
     "name": "stdout",
     "output_type": "stream",
     "text": [
      "Best value at boundary.\n",
      "r2 is 0.9999998807907104\n",
      "r2 is 1.0000003576278687\n",
      "Best value at boundary.\n",
      "r2 is 0.9999886751174927\n"
     ]
    },
    {
     "name": "stderr",
     "output_type": "stream",
     "text": [
      "train loss: 2.32e-03 | test loss: 1.29e-02 | reg: 3.65e+00 : 100%|██| 50/50 [00:00<00:00, 68.90it/s]\n",
      "/Users/gal.yona/Documents/MSc/Thesis/ImplicitNeuralSurfaces/forked_pykan/pykan/kan/KAN.py:344: UserWarning:\n",
      "\n",
      "std(): degrees of freedom is <= 0. Correction should be strictly less than the reduction factor (input numel divided by output numel). (Triggered internally at /Users/runner/work/pytorch/pytorch/pytorch/aten/src/ATen/native/ReduceOps.cpp:1760.)\n",
      "\n"
     ]
    },
    {
     "name": "stdout",
     "output_type": "stream",
     "text": [
      "-1072.62*(0.04*(0.48 - x_1)**4 + (-x_2 - 0.06)**3)**2\n",
      "sampled_index 38 signature  tensor([[ 0.6663,  0.2254,  6.5228, 15.7253,  3.6405,  0.7097]],\n",
      "       grad_fn=<StackBackward0>)\n",
      "sampled_index 38 signature  tensor([[ 0.7131,  0.2469,  7.5154, 16.5787,  3.5947,  0.8638]],\n",
      "       grad_fn=<StackBackward0>)\n",
      "Number of vertices: 106712\n",
      "dataset full size: 291\n"
     ]
    },
    {
     "name": "stderr",
     "output_type": "stream",
     "text": [
      "train loss: 1.33e-02 | test loss: 1.40e-02 | reg: 3.30e+00 : 100%|██| 20/20 [00:02<00:00,  8.95it/s]\n",
      "train loss: 3.67e-03 | test loss: 7.79e-03 | reg: 6.74e+00 : 100%|██| 50/50 [00:02<00:00, 22.29it/s]\n"
     ]
    },
    {
     "name": "stdout",
     "output_type": "stream",
     "text": [
      "r2 is 0.9988563656806946\n",
      "r2 is 0.9979120492935181\n",
      "r2 is 0.6685647368431091\n",
      "r2 is not very high, please double check if you are choosing the correct symbolic function.\n"
     ]
    },
    {
     "name": "stderr",
     "output_type": "stream",
     "text": [
      "train loss: 4.01e-03 | test loss: 4.41e-03 | reg: 8.69e+00 : 100%|██| 50/50 [00:00<00:00, 56.87it/s]\n",
      "/Users/gal.yona/Documents/MSc/Thesis/ImplicitNeuralSurfaces/forked_pykan/pykan/kan/KAN.py:344: UserWarning:\n",
      "\n",
      "std(): degrees of freedom is <= 0. Correction should be strictly less than the reduction factor (input numel divided by output numel). (Triggered internally at /Users/runner/work/pytorch/pytorch/pytorch/aten/src/ATen/native/ReduceOps.cpp:1760.)\n",
      "\n"
     ]
    },
    {
     "name": "stdout",
     "output_type": "stream",
     "text": [
      "15126.94*(-(-x_1 - 0.1)**4 + 0.57*(-x_2 - 0.04)**3)**2 - 0.02\n",
      "Number of vertices: 106712\n",
      "dataset down sampled size: 233\n"
     ]
    },
    {
     "name": "stderr",
     "output_type": "stream",
     "text": [
      "train loss: 1.27e-02 | test loss: 1.40e-02 | reg: 3.26e+00 : 100%|██| 20/20 [00:02<00:00,  9.46it/s]\n",
      "train loss: 3.98e-03 | test loss: 4.31e-03 | reg: 8.76e+00 : 100%|██| 50/50 [00:00<00:00, 58.20it/s]\n"
     ]
    },
    {
     "name": "stdout",
     "output_type": "stream",
     "text": [
      "r2 is 0.9999995827674866\n",
      "Best value at boundary.\n",
      "r2 is 0.9998208284378052\n",
      "r2 is 0.9954914450645447\n"
     ]
    },
    {
     "name": "stderr",
     "output_type": "stream",
     "text": [
      "train loss: 3.98e-03 | test loss: 4.25e-03 | reg: 8.97e+00 : 100%|██| 50/50 [00:00<00:00, 52.47it/s]\n",
      "/Users/gal.yona/Documents/MSc/Thesis/ImplicitNeuralSurfaces/forked_pykan/pykan/kan/KAN.py:344: UserWarning:\n",
      "\n",
      "std(): degrees of freedom is <= 0. Correction should be strictly less than the reduction factor (input numel divided by output numel). (Triggered internally at /Users/runner/work/pytorch/pytorch/pytorch/aten/src/ATen/native/ReduceOps.cpp:1760.)\n",
      "\n"
     ]
    },
    {
     "name": "stdout",
     "output_type": "stream",
     "text": [
      "6301.3*(-0.87*(-x_1 - 0.11)**4 + (-x_2 - 0.04)**3)**2 - 0.02\n",
      "sampled_index 39 signature  tensor([[  3.1893,   9.7581, -11.1278,  17.2835, -73.9460,  63.6273]],\n",
      "       grad_fn=<StackBackward0>)\n",
      "sampled_index 39 signature  tensor([[  2.9901,   8.1738,  -6.6598,  34.1908, -50.3002, 124.6805]],\n",
      "       grad_fn=<StackBackward0>)\n",
      "Number of vertices: 106712\n",
      "dataset full size: 311\n"
     ]
    },
    {
     "name": "stderr",
     "output_type": "stream",
     "text": [
      "train loss: 1.51e-02 | test loss: 1.50e-02 | reg: 3.38e+00 : 100%|██| 20/20 [00:02<00:00,  8.94it/s]\n",
      "train loss: 1.87e-03 | test loss: 4.42e-03 | reg: 2.95e+00 : 100%|██| 50/50 [00:02<00:00, 20.35it/s]\n"
     ]
    },
    {
     "name": "stdout",
     "output_type": "stream",
     "text": [
      "r2 is 0.9820012450218201\n",
      "r2 is 0.9921150803565979\n",
      "r2 is 0.6959254145622253\n",
      "r2 is not very high, please double check if you are choosing the correct symbolic function.\n"
     ]
    },
    {
     "name": "stderr",
     "output_type": "stream",
     "text": [
      "train loss: 2.30e-03 | test loss: 3.26e-03 | reg: 2.74e+00 : 100%|██| 50/50 [00:01<00:00, 34.46it/s]\n",
      "/Users/gal.yona/Documents/MSc/Thesis/ImplicitNeuralSurfaces/forked_pykan/pykan/kan/KAN.py:344: UserWarning:\n",
      "\n",
      "std(): degrees of freedom is <= 0. Correction should be strictly less than the reduction factor (input numel divided by output numel). (Triggered internally at /Users/runner/work/pytorch/pytorch/pytorch/aten/src/ATen/native/ReduceOps.cpp:1760.)\n",
      "\n"
     ]
    },
    {
     "name": "stdout",
     "output_type": "stream",
     "text": [
      "-0.68*(-(-x_1 - 0.41)**4 - 0.47*(-0.84*x_2 - 1)**3 - 0.45)**2\n",
      "Number of vertices: 106712\n",
      "dataset down sampled size: 249\n"
     ]
    },
    {
     "name": "stderr",
     "output_type": "stream",
     "text": [
      "train loss: 1.03e-02 | test loss: 1.15e-02 | reg: 3.28e+00 : 100%|██| 20/20 [00:02<00:00,  9.22it/s]\n",
      "train loss: 2.24e-03 | test loss: 3.36e-03 | reg: 2.53e+00 : 100%|██| 50/50 [00:00<00:00, 68.56it/s]\n"
     ]
    },
    {
     "name": "stdout",
     "output_type": "stream",
     "text": [
      "r2 is 1.0000003576278687\n",
      "r2 is 1.0000004768371582\n",
      "r2 is 0.9998106360435486\n"
     ]
    },
    {
     "name": "stderr",
     "output_type": "stream",
     "text": [
      "train loss: 2.24e-03 | test loss: 3.36e-03 | reg: 2.75e+00 : 100%|██| 50/50 [00:00<00:00, 69.02it/s]\n",
      "/Users/gal.yona/Documents/MSc/Thesis/ImplicitNeuralSurfaces/forked_pykan/pykan/kan/KAN.py:344: UserWarning:\n",
      "\n",
      "std(): degrees of freedom is <= 0. Correction should be strictly less than the reduction factor (input numel divided by output numel). (Triggered internally at /Users/runner/work/pytorch/pytorch/pytorch/aten/src/ATen/native/ReduceOps.cpp:1760.)\n",
      "\n"
     ]
    },
    {
     "name": "stdout",
     "output_type": "stream",
     "text": [
      "-0.86*(-(-x_1 - 0.41)**4 - 0.42*(-0.84*x_2 - 1)**3 - 0.4)**2\n",
      "sampled_index 40 signature  tensor([[ 0.9889,  0.0782, -1.5975,  2.9634, -0.3341, -5.3645]],\n",
      "       grad_fn=<StackBackward0>)\n",
      "sampled_index 40 signature  tensor([[ 1.0228,  0.0873, -1.9067,  2.7202, -0.3620, -6.2492]],\n",
      "       grad_fn=<StackBackward0>)\n",
      "Number of vertices: 106712\n",
      "dataset full size: 307\n"
     ]
    },
    {
     "name": "stderr",
     "output_type": "stream",
     "text": [
      "train loss: 5.70e-02 | test loss: 5.84e-02 | reg: 3.49e+00 : 100%|██| 20/20 [00:02<00:00,  8.56it/s]\n",
      "train loss: 1.57e-03 | test loss: 7.50e-01 | reg: 4.92e+00 : 100%|██| 50/50 [00:02<00:00, 21.30it/s]\n"
     ]
    },
    {
     "name": "stdout",
     "output_type": "stream",
     "text": [
      "r2 is 0.9999812841415405\n",
      "r2 is 0.9957085847854614\n",
      "r2 is 0.8486222624778748\n",
      "r2 is not very high, please double check if you are choosing the correct symbolic function.\n"
     ]
    },
    {
     "name": "stderr",
     "output_type": "stream",
     "text": [
      "train loss: nan | test loss: nan | reg: nan : 100%|█████████████████| 50/50 [00:03<00:00, 15.16it/s]\n",
      "/Users/gal.yona/Documents/MSc/Thesis/ImplicitNeuralSurfaces/forked_pykan/pykan/kan/KAN.py:344: UserWarning:\n",
      "\n",
      "std(): degrees of freedom is <= 0. Correction should be strictly less than the reduction factor (input numel divided by output numel). (Triggered internally at /Users/runner/work/pytorch/pytorch/pytorch/aten/src/ATen/native/ReduceOps.cpp:1760.)\n",
      "\n"
     ]
    },
    {
     "name": "stdout",
     "output_type": "stream",
     "text": [
      "nan\n",
      "Number of vertices: 106712\n",
      "dataset down sampled size: 246\n"
     ]
    },
    {
     "name": "stderr",
     "output_type": "stream",
     "text": [
      "train loss: 6.11e-02 | test loss: 6.22e-02 | reg: 3.27e+00 : 100%|██| 20/20 [00:02<00:00,  8.97it/s]\n",
      "train loss: nan | test loss: nan | reg: nan : 100%|█████████████████| 50/50 [00:03<00:00, 15.49it/s]\n"
     ]
    },
    {
     "name": "stdout",
     "output_type": "stream",
     "text": [
      "Best value at boundary.\n",
      "r2 is 0.0\n",
      "r2 is not very high, please double check if you are choosing the correct symbolic function.\n",
      "nan encountered\n",
      "Number of vertices: 106712\n",
      "dataset full size: 296\n"
     ]
    },
    {
     "name": "stderr",
     "output_type": "stream",
     "text": [
      "train loss: 1.00e-02 | test loss: 1.14e-02 | reg: 3.49e+00 : 100%|██| 20/20 [00:02<00:00,  9.18it/s]\n",
      "train loss: 1.53e-03 | test loss: 2.28e-03 | reg: 2.98e+00 : 100%|██| 50/50 [00:02<00:00, 22.44it/s]\n"
     ]
    },
    {
     "name": "stdout",
     "output_type": "stream",
     "text": [
      "r2 is 0.9998688697814941\n",
      "r2 is 0.9958893060684204\n",
      "r2 is 0.7496647834777832\n",
      "r2 is not very high, please double check if you are choosing the correct symbolic function.\n"
     ]
    },
    {
     "name": "stderr",
     "output_type": "stream",
     "text": [
      "train loss: 1.82e-03 | test loss: 2.40e-03 | reg: 3.85e+00 : 100%|██| 50/50 [00:01<00:00, 34.35it/s]\n",
      "/Users/gal.yona/Documents/MSc/Thesis/ImplicitNeuralSurfaces/forked_pykan/pykan/kan/KAN.py:344: UserWarning:\n",
      "\n",
      "std(): degrees of freedom is <= 0. Correction should be strictly less than the reduction factor (input numel divided by output numel). (Triggered internally at /Users/runner/work/pytorch/pytorch/pytorch/aten/src/ATen/native/ReduceOps.cpp:1760.)\n",
      "\n"
     ]
    },
    {
     "name": "stdout",
     "output_type": "stream",
     "text": [
      "-0.51*(-(0.29 - x_2)**3 + 0.32*(0.98 - x_1)**4 - 0.31)**2\n",
      "Number of vertices: 106712\n",
      "dataset down sampled size: 237\n"
     ]
    },
    {
     "name": "stderr",
     "output_type": "stream",
     "text": [
      "train loss: 1.03e-02 | test loss: 1.16e-02 | reg: 3.51e+00 : 100%|██| 20/20 [00:02<00:00,  9.30it/s]\n",
      "train loss: 1.78e-03 | test loss: 2.38e-03 | reg: 3.75e+00 : 100%|█| 50/50 [00:00<00:00, 114.49it/s]\n"
     ]
    },
    {
     "name": "stdout",
     "output_type": "stream",
     "text": [
      "Best value at boundary.\n",
      "r2 is 1.0\n",
      "r2 is 1.0000004768371582\n",
      "r2 is 0.9980955719947815\n"
     ]
    },
    {
     "name": "stderr",
     "output_type": "stream",
     "text": [
      "train loss: 1.78e-03 | test loss: 2.38e-03 | reg: 3.85e+00 : 100%|█| 50/50 [00:00<00:00, 115.51it/s]\n",
      "/Users/gal.yona/Documents/MSc/Thesis/ImplicitNeuralSurfaces/forked_pykan/pykan/kan/KAN.py:344: UserWarning:\n",
      "\n",
      "std(): degrees of freedom is <= 0. Correction should be strictly less than the reduction factor (input numel divided by output numel). (Triggered internally at /Users/runner/work/pytorch/pytorch/pytorch/aten/src/ATen/native/ReduceOps.cpp:1760.)\n",
      "\n"
     ]
    },
    {
     "name": "stdout",
     "output_type": "stream",
     "text": [
      "-0.51*(-(0.29 - x_2)**3 + 0.33*(0.98 - x_1)**4 - 0.31)**2\n",
      "sampled_index 42 signature  tensor([[ 0.7696,  0.0783,  1.6157,  5.7640,  0.2309, -2.0282]],\n",
      "       grad_fn=<StackBackward0>)\n",
      "sampled_index 42 signature  tensor([[ 0.7644,  0.0793,  1.6226,  5.7546,  0.2339, -1.9779]],\n",
      "       grad_fn=<StackBackward0>)\n",
      "Number of vertices: 106712\n",
      "dataset full size: 299\n"
     ]
    },
    {
     "name": "stderr",
     "output_type": "stream",
     "text": [
      "train loss: 3.75e-02 | test loss: 4.45e-02 | reg: 3.00e+00 : 100%|██| 20/20 [00:02<00:00,  8.84it/s]\n",
      "train loss: 4.00e-03 | test loss: 4.88e-02 | reg: 3.70e+00 : 100%|██| 50/50 [00:01<00:00, 28.90it/s]\n"
     ]
    },
    {
     "name": "stdout",
     "output_type": "stream",
     "text": [
      "r2 is 0.9766444563865662\n",
      "r2 is 0.9965696930885315\n",
      "r2 is 0.9098745584487915\n"
     ]
    },
    {
     "name": "stderr",
     "output_type": "stream",
     "text": [
      "train loss: 7.84e-03 | test loss: 1.65e-02 | reg: 4.98e+00 : 100%|██| 50/50 [00:00<00:00, 57.04it/s]\n",
      "/Users/gal.yona/Documents/MSc/Thesis/ImplicitNeuralSurfaces/forked_pykan/pykan/kan/KAN.py:344: UserWarning:\n",
      "\n",
      "std(): degrees of freedom is <= 0. Correction should be strictly less than the reduction factor (input numel divided by output numel). (Triggered internally at /Users/runner/work/pytorch/pytorch/pytorch/aten/src/ATen/native/ReduceOps.cpp:1760.)\n",
      "\n"
     ]
    },
    {
     "name": "stdout",
     "output_type": "stream",
     "text": [
      "1.52*((-x_1 - 0.64)**4 + 0.31*(-0.82*x_2 - 1)**3 + 0.19)**2 - 0.e-2\n",
      "Number of vertices: 106712\n",
      "dataset down sampled size: 240\n"
     ]
    },
    {
     "name": "stderr",
     "output_type": "stream",
     "text": [
      "train loss: 2.65e-02 | test loss: 3.21e-02 | reg: 2.79e+00 : 100%|██| 20/20 [00:02<00:00,  9.33it/s]\n",
      "train loss: 7.74e-03 | test loss: 1.58e-02 | reg: 4.52e+00 : 100%|█| 50/50 [00:00<00:00, 106.96it/s]\n"
     ]
    },
    {
     "name": "stdout",
     "output_type": "stream",
     "text": [
      "r2 is 1.0000004768371582\n",
      "Best value at boundary.\n",
      "r2 is 1.0000001192092896\n",
      "r2 is 0.9999995827674866\n"
     ]
    },
    {
     "name": "stderr",
     "output_type": "stream",
     "text": [
      "train loss: 7.74e-03 | test loss: 1.58e-02 | reg: 4.99e+00 : 100%|██| 50/50 [00:00<00:00, 92.68it/s]\n",
      "/Users/gal.yona/Documents/MSc/Thesis/ImplicitNeuralSurfaces/forked_pykan/pykan/kan/KAN.py:344: UserWarning:\n",
      "\n",
      "std(): degrees of freedom is <= 0. Correction should be strictly less than the reduction factor (input numel divided by output numel). (Triggered internally at /Users/runner/work/pytorch/pytorch/pytorch/aten/src/ATen/native/ReduceOps.cpp:1760.)\n",
      "\n"
     ]
    },
    {
     "name": "stdout",
     "output_type": "stream",
     "text": [
      "1.49*((-x_1 - 0.64)**4 + 0.31*(-0.82*x_2 - 1)**3 + 0.2)**2 - 0.e-2\n",
      "sampled_index 43 signature  tensor([[-2.7155,  0.5684, 10.1949,  9.9501, -2.9646, -1.3033]],\n",
      "       grad_fn=<StackBackward0>)\n",
      "sampled_index 43 signature  tensor([[-2.6782,  0.5569, 10.2755,  9.8693, -3.2276, -1.2586]],\n",
      "       grad_fn=<StackBackward0>)\n",
      "Number of vertices: 106712\n",
      "dataset full size: 328\n"
     ]
    },
    {
     "name": "stderr",
     "output_type": "stream",
     "text": [
      "train loss: 4.40e-02 | test loss: 4.57e-02 | reg: 2.74e+00 : 100%|██| 20/20 [00:03<00:00,  6.54it/s]\n",
      "train loss: 2.66e-03 | test loss: 1.59e-02 | reg: 3.16e+00 : 100%|██| 50/50 [00:02<00:00, 20.54it/s]\n"
     ]
    },
    {
     "name": "stdout",
     "output_type": "stream",
     "text": [
      "r2 is 0.9961127638816833\n",
      "r2 is 0.9999063014984131\n",
      "r2 is 0.8561100363731384\n",
      "r2 is not very high, please double check if you are choosing the correct symbolic function.\n"
     ]
    },
    {
     "name": "stderr",
     "output_type": "stream",
     "text": [
      "train loss: 5.20e-03 | test loss: 6.51e-03 | reg: 3.83e+00 : 100%|██| 50/50 [00:00<00:00, 61.71it/s]\n",
      "/Users/gal.yona/Documents/MSc/Thesis/ImplicitNeuralSurfaces/forked_pykan/pykan/kan/KAN.py:344: UserWarning:\n",
      "\n",
      "std(): degrees of freedom is <= 0. Correction should be strictly less than the reduction factor (input numel divided by output numel). (Triggered internally at /Users/runner/work/pytorch/pytorch/pytorch/aten/src/ATen/native/ReduceOps.cpp:1760.)\n",
      "\n"
     ]
    },
    {
     "name": "stdout",
     "output_type": "stream",
     "text": [
      "0.01 - 0.3*(0.78*(0.68 - x_1)**4 + 0.93*(0.88 - x_2)**3 - 1)**2\n",
      "Number of vertices: 106712\n",
      "dataset down sampled size: 263\n"
     ]
    },
    {
     "name": "stderr",
     "output_type": "stream",
     "text": [
      "train loss: 5.00e-02 | test loss: 5.13e-02 | reg: 3.08e+00 : 100%|██| 20/20 [00:02<00:00,  8.91it/s]\n",
      "train loss: 5.05e-03 | test loss: 6.49e-03 | reg: 3.42e+00 : 100%|██| 50/50 [00:00<00:00, 60.19it/s]\n"
     ]
    },
    {
     "name": "stdout",
     "output_type": "stream",
     "text": [
      "r2 is 1.0000003576278687\n",
      "r2 is 1.0000003576278687\n",
      "r2 is 0.9999998211860657\n"
     ]
    },
    {
     "name": "stderr",
     "output_type": "stream",
     "text": [
      "train loss: 5.05e-03 | test loss: 6.49e-03 | reg: 3.85e+00 : 100%|█| 50/50 [00:00<00:00, 117.05it/s]\n",
      "/Users/gal.yona/Documents/MSc/Thesis/ImplicitNeuralSurfaces/forked_pykan/pykan/kan/KAN.py:344: UserWarning:\n",
      "\n",
      "std(): degrees of freedom is <= 0. Correction should be strictly less than the reduction factor (input numel divided by output numel). (Triggered internally at /Users/runner/work/pytorch/pytorch/pytorch/aten/src/ATen/native/ReduceOps.cpp:1760.)\n",
      "\n"
     ]
    },
    {
     "name": "stdout",
     "output_type": "stream",
     "text": [
      "0.01 - 0.3*(0.77*(0.68 - x_1)**4 + 0.94*(0.88 - x_2)**3 - 1)**2\n",
      "sampled_index 44 signature  tensor([[  0.9370,  -1.2330,  -0.9013, -13.5945,  -2.5666,  -0.2343]],\n",
      "       grad_fn=<StackBackward0>)\n",
      "sampled_index 44 signature  tensor([[  0.9582,  -1.2629,  -0.9448, -13.9422,  -2.6420,  -0.2271]],\n",
      "       grad_fn=<StackBackward0>)\n",
      "Number of vertices: 106712\n",
      "dataset full size: 345\n"
     ]
    },
    {
     "name": "stderr",
     "output_type": "stream",
     "text": [
      "train loss: 1.85e-02 | test loss: 1.84e-02 | reg: 3.28e+00 : 100%|██| 20/20 [00:02<00:00,  7.28it/s]\n",
      "train loss: 1.68e-03 | test loss: 2.82e-03 | reg: 2.54e+00 : 100%|██| 50/50 [00:01<00:00, 28.30it/s]\n"
     ]
    },
    {
     "name": "stdout",
     "output_type": "stream",
     "text": [
      "r2 is 0.786111056804657\n",
      "r2 is not very high, please double check if you are choosing the correct symbolic function.\n",
      "r2 is 0.9999871253967285\n",
      "r2 is 0.9363074898719788\n"
     ]
    },
    {
     "name": "stderr",
     "output_type": "stream",
     "text": [
      "train loss: 4.29e-03 | test loss: 4.53e-03 | reg: 3.63e+00 : 100%|██| 50/50 [00:00<00:00, 51.17it/s]\n",
      "/Users/gal.yona/Documents/MSc/Thesis/ImplicitNeuralSurfaces/forked_pykan/pykan/kan/KAN.py:344: UserWarning:\n",
      "\n",
      "std(): degrees of freedom is <= 0. Correction should be strictly less than the reduction factor (input numel divided by output numel). (Triggered internally at /Users/runner/work/pytorch/pytorch/pytorch/aten/src/ATen/native/ReduceOps.cpp:1760.)\n",
      "\n"
     ]
    },
    {
     "name": "stdout",
     "output_type": "stream",
     "text": [
      "498297.14*x_1**8 - 0.e-2\n",
      "Number of vertices: 106712\n",
      "dataset down sampled size: 277\n"
     ]
    },
    {
     "name": "stderr",
     "output_type": "stream",
     "text": [
      "train loss: 1.51e-02 | test loss: 1.54e-02 | reg: 3.33e+00 : 100%|██| 20/20 [00:02<00:00,  9.16it/s]\n",
      "train loss: 4.26e-03 | test loss: 4.46e-03 | reg: 2.79e+00 : 100%|██| 50/50 [00:01<00:00, 40.40it/s]\n"
     ]
    },
    {
     "name": "stdout",
     "output_type": "stream",
     "text": [
      "Best value at boundary.\n",
      "r2 is 0.9862352609634399\n",
      "r2 is 1.0000004768371582\n",
      "r2 is 1.000000238418579\n"
     ]
    },
    {
     "name": "stderr",
     "output_type": "stream",
     "text": [
      "train loss: 4.26e-03 | test loss: 4.49e-03 | reg: 3.26e+01 : 100%|██| 50/50 [00:00<00:00, 89.76it/s]\n",
      "/Users/gal.yona/Documents/MSc/Thesis/ImplicitNeuralSurfaces/forked_pykan/pykan/kan/KAN.py:344: UserWarning:\n",
      "\n",
      "std(): degrees of freedom is <= 0. Correction should be strictly less than the reduction factor (input numel divided by output numel). (Triggered internally at /Users/runner/work/pytorch/pytorch/pytorch/aten/src/ATen/native/ReduceOps.cpp:1760.)\n",
      "\n"
     ]
    },
    {
     "name": "stdout",
     "output_type": "stream",
     "text": [
      "60619.59*(0.02 - x_1)**8 - 0.e-2\n",
      "sampled_index 45 signature  tensor([[-0.5125, -0.0093, -2.9948,  3.5850, -0.1215, -7.4135]],\n",
      "       grad_fn=<StackBackward0>)\n",
      "sampled_index 45 signature  tensor([[ -0.4047,  -0.2112,  -2.3420,  10.3520,  -2.5051, -21.1122]],\n",
      "       grad_fn=<StackBackward0>)\n",
      "Number of vertices: 106712\n",
      "dataset full size: 384\n"
     ]
    },
    {
     "name": "stderr",
     "output_type": "stream",
     "text": [
      "train loss: 2.87e-02 | test loss: 2.60e-02 | reg: 3.38e+00 : 100%|██| 20/20 [00:03<00:00,  6.46it/s]\n",
      "train loss: 1.70e-02 | test loss: 1.64e-02 | reg: 3.29e+00 : 100%|██| 50/50 [00:02<00:00, 20.74it/s]\n"
     ]
    },
    {
     "name": "stdout",
     "output_type": "stream",
     "text": [
      "r2 is 0.9641996622085571\n",
      "r2 is 0.8748413324356079\n",
      "r2 is not very high, please double check if you are choosing the correct symbolic function.\n",
      "r2 is 0.5096076130867004\n",
      "r2 is not very high, please double check if you are choosing the correct symbolic function.\n"
     ]
    },
    {
     "name": "stderr",
     "output_type": "stream",
     "text": [
      "train loss: 1.89e-02 | test loss: 3.09e-02 | reg: 4.62e+00 : 100%|██| 50/50 [00:00<00:00, 64.08it/s]\n",
      "/Users/gal.yona/Documents/MSc/Thesis/ImplicitNeuralSurfaces/forked_pykan/pykan/kan/KAN.py:344: UserWarning:\n",
      "\n",
      "std(): degrees of freedom is <= 0. Correction should be strictly less than the reduction factor (input numel divided by output numel). (Triggered internally at /Users/runner/work/pytorch/pytorch/pytorch/aten/src/ATen/native/ReduceOps.cpp:1760.)\n",
      "\n"
     ]
    },
    {
     "name": "stdout",
     "output_type": "stream",
     "text": [
      "5.57*(0.32*(1 - 0.47*x_1)**4 + (-x_2 - 0.5)**3 - 0.18)**2 - 0.02\n",
      "Number of vertices: 106712\n",
      "dataset down sampled size: 308\n"
     ]
    },
    {
     "name": "stderr",
     "output_type": "stream",
     "text": [
      "train loss: 2.85e-02 | test loss: 2.56e-02 | reg: 3.20e+00 : 100%|██| 20/20 [00:02<00:00,  8.22it/s]\n",
      "train loss: 1.89e-02 | test loss: 3.07e-02 | reg: 3.22e+00 : 100%|██| 50/50 [00:00<00:00, 51.05it/s]\n"
     ]
    },
    {
     "name": "stdout",
     "output_type": "stream",
     "text": [
      "r2 is 1.000000238418579\n",
      "r2 is 1.0000003576278687\n",
      "r2 is 1.000000238418579\n"
     ]
    },
    {
     "name": "stderr",
     "output_type": "stream",
     "text": [
      "train loss: 1.89e-02 | test loss: 3.07e-02 | reg: 5.81e+00 : 100%|██| 50/50 [00:00<00:00, 79.29it/s]\n",
      "/Users/gal.yona/Documents/MSc/Thesis/ImplicitNeuralSurfaces/forked_pykan/pykan/kan/KAN.py:344: UserWarning:\n",
      "\n",
      "std(): degrees of freedom is <= 0. Correction should be strictly less than the reduction factor (input numel divided by output numel). (Triggered internally at /Users/runner/work/pytorch/pytorch/pytorch/aten/src/ATen/native/ReduceOps.cpp:1760.)\n",
      "\n"
     ]
    },
    {
     "name": "stdout",
     "output_type": "stream",
     "text": [
      "1.28*(0.66*(1 - 0.46*x_1)**4 + (-x_2 - 0.73)**3 - 0.27)**2 - 0.02\n",
      "sampled_index 46 signature  tensor([[ -4.9514,  -0.5889, -40.5151, -19.9338,  72.6929,   0.3036]],\n",
      "       grad_fn=<StackBackward0>)\n",
      "sampled_index 46 signature  tensor([[ -5.1110,  -0.2111, -28.2449, -15.2413,  34.1898,   0.1248]],\n",
      "       grad_fn=<StackBackward0>)\n",
      "Number of vertices: 106712\n",
      "dataset full size: 316\n"
     ]
    },
    {
     "name": "stderr",
     "output_type": "stream",
     "text": [
      "train loss: 2.15e-02 | test loss: 2.09e-02 | reg: 2.84e+00 : 100%|██| 20/20 [00:02<00:00,  8.05it/s]\n",
      "train loss: 1.12e-03 | test loss: 2.76e-03 | reg: 3.41e+00 : 100%|██| 50/50 [00:02<00:00, 20.06it/s]\n"
     ]
    },
    {
     "name": "stdout",
     "output_type": "stream",
     "text": [
      "r2 is 0.9425505995750427\n",
      "Best value at boundary.\n",
      "r2 is 0.9755612015724182\n",
      "Best value at boundary.\n",
      "r2 is 0.8095768690109253\n",
      "r2 is not very high, please double check if you are choosing the correct symbolic function.\n"
     ]
    },
    {
     "name": "stderr",
     "output_type": "stream",
     "text": [
      "train loss: 1.51e-03 | test loss: 2.34e-03 | reg: 3.90e+00 : 100%|██| 50/50 [00:01<00:00, 46.77it/s]\n",
      "/Users/gal.yona/Documents/MSc/Thesis/ImplicitNeuralSurfaces/forked_pykan/pykan/kan/KAN.py:344: UserWarning:\n",
      "\n",
      "std(): degrees of freedom is <= 0. Correction should be strictly less than the reduction factor (input numel divided by output numel). (Triggered internally at /Users/runner/work/pytorch/pytorch/pytorch/aten/src/ATen/native/ReduceOps.cpp:1760.)\n",
      "\n"
     ]
    },
    {
     "name": "stdout",
     "output_type": "stream",
     "text": [
      "0.01 - 3.69*(-x_2**3 + 0.56*(0.54 - x_1)**4 - 0.09)**2\n",
      "Number of vertices: 106712\n",
      "dataset down sampled size: 253\n"
     ]
    },
    {
     "name": "stderr",
     "output_type": "stream",
     "text": [
      "train loss: 1.84e-02 | test loss: 1.82e-02 | reg: 2.85e+00 : 100%|██| 20/20 [00:02<00:00,  8.99it/s]\n",
      "train loss: 1.56e-03 | test loss: 2.41e-03 | reg: 3.05e+00 : 100%|██| 50/50 [00:00<00:00, 63.04it/s]\n"
     ]
    },
    {
     "name": "stdout",
     "output_type": "stream",
     "text": [
      "Best value at boundary.\n",
      "r2 is 1.0000001192092896\n",
      "r2 is 1.0000001192092896\n",
      "Best value at boundary.\n",
      "r2 is 0.999609649181366\n"
     ]
    },
    {
     "name": "stderr",
     "output_type": "stream",
     "text": [
      "train loss: 1.56e-03 | test loss: 2.41e-03 | reg: 3.90e+00 : 100%|█| 50/50 [00:00<00:00, 116.36it/s]\n",
      "/Users/gal.yona/Documents/MSc/Thesis/ImplicitNeuralSurfaces/forked_pykan/pykan/kan/KAN.py:344: UserWarning:\n",
      "\n",
      "std(): degrees of freedom is <= 0. Correction should be strictly less than the reduction factor (input numel divided by output numel). (Triggered internally at /Users/runner/work/pytorch/pytorch/pytorch/aten/src/ATen/native/ReduceOps.cpp:1760.)\n",
      "\n"
     ]
    },
    {
     "name": "stdout",
     "output_type": "stream",
     "text": [
      "0.01 - 3.65*(-x_2**3 + 0.57*(0.54 - x_1)**4 - 0.09)**2\n",
      "sampled_index 47 signature  tensor([[ 1.3830e-01,  5.4007e-04, -9.8807e-01,  6.4552e+00, -5.4263e-01,\n",
      "          2.1138e-02]], grad_fn=<StackBackward0>)\n",
      "sampled_index 47 signature  tensor([[ 1.4016e-01,  5.5607e-04, -9.8046e-01,  6.4877e+00, -5.4566e-01,\n",
      "          2.1531e-02]], grad_fn=<StackBackward0>)\n",
      "Number of vertices: 106712\n",
      "dataset full size: 298\n"
     ]
    },
    {
     "name": "stderr",
     "output_type": "stream",
     "text": [
      "train loss: 1.10e-02 | test loss: 2.12e-02 | reg: 3.92e+00 : 100%|██| 20/20 [00:02<00:00,  8.55it/s]\n",
      "train loss: 2.50e-03 | test loss: 9.76e-02 | reg: 3.33e+00 : 100%|██| 50/50 [00:02<00:00, 24.29it/s]\n"
     ]
    },
    {
     "name": "stdout",
     "output_type": "stream",
     "text": [
      "r2 is 0.997560977935791\n",
      "r2 is 0.9957150220870972\n",
      "r2 is 0.7302811741828918\n",
      "r2 is not very high, please double check if you are choosing the correct symbolic function.\n"
     ]
    },
    {
     "name": "stderr",
     "output_type": "stream",
     "text": [
      "train loss: 4.89e-03 | test loss: 1.25e-02 | reg: 4.57e+00 : 100%|██| 50/50 [00:01<00:00, 44.70it/s]\n",
      "/Users/gal.yona/Documents/MSc/Thesis/ImplicitNeuralSurfaces/forked_pykan/pykan/kan/KAN.py:344: UserWarning:\n",
      "\n",
      "std(): degrees of freedom is <= 0. Correction should be strictly less than the reduction factor (input numel divided by output numel). (Triggered internally at /Users/runner/work/pytorch/pytorch/pytorch/aten/src/ATen/native/ReduceOps.cpp:1760.)\n",
      "\n"
     ]
    },
    {
     "name": "stdout",
     "output_type": "stream",
     "text": [
      "0.05 - 0.24*(0.82*(0.5 - x_2)**3 + 0.41*(1 - 0.24*x_1)**4 - 1)**2\n",
      "Number of vertices: 106712\n",
      "dataset down sampled size: 239\n"
     ]
    },
    {
     "name": "stderr",
     "output_type": "stream",
     "text": [
      "train loss: 1.37e-02 | test loss: 2.20e-02 | reg: 3.98e+00 : 100%|██| 20/20 [00:02<00:00,  9.14it/s]\n",
      "train loss: 4.87e-03 | test loss: 1.25e-02 | reg: 7.80e+00 : 100%|█| 50/50 [00:00<00:00, 101.46it/s]\n"
     ]
    },
    {
     "name": "stdout",
     "output_type": "stream",
     "text": [
      "r2 is 1.0000004768371582\n",
      "r2 is 1.0000004768371582\n",
      "Best value at boundary.\n",
      "r2 is 0.9999369382858276\n"
     ]
    },
    {
     "name": "stderr",
     "output_type": "stream",
     "text": [
      "train loss: 4.88e-03 | test loss: 1.25e-02 | reg: 7.98e+00 : 100%|█| 50/50 [00:00<00:00, 112.46it/s]\n",
      "/Users/gal.yona/Documents/MSc/Thesis/ImplicitNeuralSurfaces/forked_pykan/pykan/kan/KAN.py:344: UserWarning:\n",
      "\n",
      "std(): degrees of freedom is <= 0. Correction should be strictly less than the reduction factor (input numel divided by output numel). (Triggered internally at /Users/runner/work/pytorch/pytorch/pytorch/aten/src/ATen/native/ReduceOps.cpp:1760.)\n",
      "\n"
     ]
    },
    {
     "name": "stdout",
     "output_type": "stream",
     "text": [
      "0.05 - 0.24*(-0.85*(0.5 - x_2)**3 - 0.43*(1 - 0.24*x_1)**4 + 1)**2\n",
      "sampled_index 48 signature  tensor([[-0.1871, -0.0154, -0.4682,  0.4118,  0.0977, -0.0898]],\n",
      "       grad_fn=<StackBackward0>)\n",
      "sampled_index 48 signature  tensor([[-0.1785, -0.0195, -0.5414,  0.4717,  0.1051, -0.0985]],\n",
      "       grad_fn=<StackBackward0>)\n",
      "Number of vertices: 106712\n",
      "dataset full size: 292\n"
     ]
    },
    {
     "name": "stderr",
     "output_type": "stream",
     "text": [
      "train loss: 7.54e-03 | test loss: 8.17e-03 | reg: 3.43e+00 : 100%|██| 20/20 [00:02<00:00,  9.07it/s]\n",
      "train loss: 2.46e-03 | test loss: 6.10e-03 | reg: 6.41e+00 : 100%|██| 50/50 [00:02<00:00, 20.94it/s]\n"
     ]
    },
    {
     "name": "stdout",
     "output_type": "stream",
     "text": [
      "r2 is 0.9884524941444397\n",
      "r2 is 0.9784201979637146\n",
      "r2 is 0.9968891739845276\n"
     ]
    },
    {
     "name": "stderr",
     "output_type": "stream",
     "text": [
      "train loss: 3.09e-03 | test loss: 5.15e-03 | reg: 8.03e+00 : 100%|██| 50/50 [00:00<00:00, 55.56it/s]\n",
      "/Users/gal.yona/Documents/MSc/Thesis/ImplicitNeuralSurfaces/forked_pykan/pykan/kan/KAN.py:344: UserWarning:\n",
      "\n",
      "std(): degrees of freedom is <= 0. Correction should be strictly less than the reduction factor (input numel divided by output numel). (Triggered internally at /Users/runner/work/pytorch/pytorch/pytorch/aten/src/ATen/native/ReduceOps.cpp:1760.)\n",
      "\n"
     ]
    },
    {
     "name": "stdout",
     "output_type": "stream",
     "text": [
      "0.03 - 4434.73*((0.02 - x_2)**3 + 0.34*(0.16 - x_1)**4)**2\n",
      "Number of vertices: 106712\n",
      "dataset down sampled size: 234\n"
     ]
    },
    {
     "name": "stderr",
     "output_type": "stream",
     "text": [
      "train loss: 7.40e-03 | test loss: 7.96e-03 | reg: 3.39e+00 : 100%|██| 20/20 [00:02<00:00,  9.24it/s]\n",
      "train loss: 3.05e-03 | test loss: 4.97e-03 | reg: 7.86e+00 : 100%|██| 50/50 [00:00<00:00, 73.40it/s]\n"
     ]
    },
    {
     "name": "stdout",
     "output_type": "stream",
     "text": [
      "r2 is 1.0000003576278687\n",
      "r2 is 0.9998887181282043\n",
      "Best value at boundary.\n",
      "r2 is 0.9995511174201965\n"
     ]
    },
    {
     "name": "stderr",
     "output_type": "stream",
     "text": [
      "train loss: 3.06e-03 | test loss: 4.79e-03 | reg: 8.16e+00 : 100%|██| 50/50 [00:00<00:00, 59.08it/s]\n",
      "/Users/gal.yona/Documents/MSc/Thesis/ImplicitNeuralSurfaces/forked_pykan/pykan/kan/KAN.py:344: UserWarning:\n",
      "\n",
      "std(): degrees of freedom is <= 0. Correction should be strictly less than the reduction factor (input numel divided by output numel). (Triggered internally at /Users/runner/work/pytorch/pytorch/pytorch/aten/src/ATen/native/ReduceOps.cpp:1760.)\n",
      "\n"
     ]
    },
    {
     "name": "stdout",
     "output_type": "stream",
     "text": [
      "0.04 - 3536.22*((0.02 - x_2)**3 + 0.34*(0.16 - x_1)**4)**2\n",
      "sampled_index 49 signature  tensor([[   3.2317,   10.4022,   13.9304,  -82.5571,  102.2615, -503.4355]],\n",
      "       grad_fn=<StackBackward0>)\n",
      "sampled_index 49 signature  tensor([[   3.2354,   10.4125,   15.9842,  -81.3779,  115.7249, -490.6244]],\n",
      "       grad_fn=<StackBackward0>)\n",
      "Number of vertices: 106712\n",
      "dataset full size: 279\n"
     ]
    },
    {
     "name": "stderr",
     "output_type": "stream",
     "text": [
      "train loss: 7.03e-03 | test loss: 8.95e-03 | reg: 3.79e+00 : 100%|██| 20/20 [00:02<00:00,  8.74it/s]\n",
      "train loss: 2.19e-03 | test loss: 6.74e-02 | reg: 6.23e+00 : 100%|██| 50/50 [00:01<00:00, 29.87it/s]\n"
     ]
    },
    {
     "name": "stdout",
     "output_type": "stream",
     "text": [
      "r2 is 0.9842929840087891\n",
      "r2 is 0.9814389944076538\n",
      "r2 is 0.880900502204895\n",
      "r2 is not very high, please double check if you are choosing the correct symbolic function.\n"
     ]
    },
    {
     "name": "stderr",
     "output_type": "stream",
     "text": [
      "train loss: 3.57e-03 | test loss: 2.14e-02 | reg: 2.59e+02 : 100%|██| 50/50 [00:02<00:00, 23.04it/s]\n",
      "/Users/gal.yona/Documents/MSc/Thesis/ImplicitNeuralSurfaces/forked_pykan/pykan/kan/KAN.py:344: UserWarning:\n",
      "\n",
      "std(): degrees of freedom is <= 0. Correction should be strictly less than the reduction factor (input numel divided by output numel). (Triggered internally at /Users/runner/work/pytorch/pytorch/pytorch/aten/src/ATen/native/ReduceOps.cpp:1760.)\n",
      "\n"
     ]
    },
    {
     "name": "stdout",
     "output_type": "stream",
     "text": [
      "2.92*(0.24*(0.2 - x_2)**3 - (-x_1 - 0.26)**4 - 0.69)**2 - 1.42\n",
      "Number of vertices: 106712\n",
      "dataset down sampled size: 224\n"
     ]
    },
    {
     "name": "stderr",
     "output_type": "stream",
     "text": [
      "train loss: 7.12e-03 | test loss: 8.77e-03 | reg: 3.80e+00 : 100%|██| 20/20 [00:02<00:00,  9.56it/s]\n",
      "train loss: 3.65e-03 | test loss: 2.12e-02 | reg: 2.61e+02 : 100%|██| 50/50 [00:00<00:00, 71.92it/s]\n"
     ]
    },
    {
     "name": "stdout",
     "output_type": "stream",
     "text": [
      "Best value at boundary.\n",
      "r2 is 0.999999463558197\n",
      "Best value at boundary.\n",
      "r2 is 0.9999961853027344\n",
      "Best value at boundary.\n",
      "r2 is 0.9999760985374451\n"
     ]
    },
    {
     "name": "stderr",
     "output_type": "stream",
     "text": [
      "train loss: 3.65e-03 | test loss: 2.12e-02 | reg: 2.62e+02 : 100%|██| 50/50 [00:00<00:00, 73.60it/s]\n",
      "/Users/gal.yona/Documents/MSc/Thesis/ImplicitNeuralSurfaces/forked_pykan/pykan/kan/KAN.py:344: UserWarning:\n",
      "\n",
      "std(): degrees of freedom is <= 0. Correction should be strictly less than the reduction factor (input numel divided by output numel). (Triggered internally at /Users/runner/work/pytorch/pytorch/pytorch/aten/src/ATen/native/ReduceOps.cpp:1760.)\n",
      "\n"
     ]
    },
    {
     "name": "stdout",
     "output_type": "stream",
     "text": [
      "2.75*(0.18*(0.2 - x_2)**3 - 0.73*(-x_1 - 0.26)**4 - 1)**2 - 2.77\n",
      "sampled_index 50 signature  tensor([[ -0.9119,  -3.2541,   8.2179,   2.9059,  15.4501, -14.0674]],\n",
      "       grad_fn=<StackBackward0>)\n",
      "sampled_index 50 signature  tensor([[ -0.9009,  -3.1995,   8.0134,   2.8734,  14.7845, -13.9245]],\n",
      "       grad_fn=<StackBackward0>)\n",
      "Number of vertices: 106712\n",
      "dataset full size: 286\n"
     ]
    },
    {
     "name": "stderr",
     "output_type": "stream",
     "text": [
      "train loss: 5.64e-02 | test loss: 5.65e-02 | reg: 3.39e+00 : 100%|██| 20/20 [00:02<00:00,  8.85it/s]\n",
      "train loss: 9.90e-04 | test loss: 2.56e-03 | reg: 2.79e+00 : 100%|██| 50/50 [00:01<00:00, 28.79it/s]\n"
     ]
    },
    {
     "name": "stdout",
     "output_type": "stream",
     "text": [
      "r2 is 0.9999443888664246\n",
      "r2 is 0.9998738169670105\n",
      "Best value at boundary.\n",
      "r2 is 0.7170675992965698\n",
      "r2 is not very high, please double check if you are choosing the correct symbolic function.\n"
     ]
    },
    {
     "name": "stderr",
     "output_type": "stream",
     "text": [
      "train loss: 2.11e-03 | test loss: 3.21e-03 | reg: 9.48e+00 : 100%|██| 50/50 [00:02<00:00, 20.50it/s]\n",
      "/Users/gal.yona/Documents/MSc/Thesis/ImplicitNeuralSurfaces/forked_pykan/pykan/kan/KAN.py:344: UserWarning:\n",
      "\n",
      "std(): degrees of freedom is <= 0. Correction should be strictly less than the reduction factor (input numel divided by output numel). (Triggered internally at /Users/runner/work/pytorch/pytorch/pytorch/aten/src/ATen/native/ReduceOps.cpp:1760.)\n",
      "\n"
     ]
    },
    {
     "name": "stdout",
     "output_type": "stream",
     "text": [
      "-45.42*(-0.93*(-0.03*x_1 - 1)**4 + 0.07*(-0.61*x_2 - 1)**3 + 1)**2\n",
      "Number of vertices: 106712\n",
      "dataset down sampled size: 229\n"
     ]
    },
    {
     "name": "stderr",
     "output_type": "stream",
     "text": [
      "train loss: 2.00e-02 | test loss: 2.10e-02 | reg: 3.55e+00 : 100%|██| 20/20 [00:02<00:00,  9.43it/s]\n",
      "train loss: nan | test loss: nan | reg: nan : 100%|█████████████████| 50/50 [00:03<00:00, 15.27it/s]\n"
     ]
    },
    {
     "name": "stdout",
     "output_type": "stream",
     "text": [
      "Best value at boundary.\n",
      "r2 is 0.0\n",
      "r2 is not very high, please double check if you are choosing the correct symbolic function.\n",
      "nan encountered\n",
      "Number of vertices: 106712\n",
      "dataset full size: 276\n"
     ]
    },
    {
     "name": "stderr",
     "output_type": "stream",
     "text": [
      "train loss: 1.27e-02 | test loss: 1.11e-02 | reg: 3.29e+00 : 100%|██| 20/20 [00:02<00:00,  9.22it/s]\n",
      "train loss: 3.05e-03 | test loss: 1.45e-01 | reg: 3.15e+00 : 100%|██| 50/50 [00:01<00:00, 26.13it/s]\n"
     ]
    },
    {
     "name": "stdout",
     "output_type": "stream",
     "text": [
      "r2 is 0.9978897571563721\n",
      "r2 is 0.9978898167610168\n",
      "r2 is 0.8835319876670837\n",
      "r2 is not very high, please double check if you are choosing the correct symbolic function.\n"
     ]
    },
    {
     "name": "stderr",
     "output_type": "stream",
     "text": [
      "train loss: 5.12e-03 | test loss: 1.53e-02 | reg: 8.05e+00 : 100%|██| 50/50 [00:00<00:00, 64.56it/s]\n",
      "/Users/gal.yona/Documents/MSc/Thesis/ImplicitNeuralSurfaces/forked_pykan/pykan/kan/KAN.py:344: UserWarning:\n",
      "\n",
      "std(): degrees of freedom is <= 0. Correction should be strictly less than the reduction factor (input numel divided by output numel). (Triggered internally at /Users/runner/work/pytorch/pytorch/pytorch/aten/src/ATen/native/ReduceOps.cpp:1760.)\n",
      "\n"
     ]
    },
    {
     "name": "stdout",
     "output_type": "stream",
     "text": [
      "0.03 - 6114.86*(-x_1 - 0.17)**8\n",
      "Number of vertices: 106712\n",
      "dataset down sampled size: 221\n"
     ]
    },
    {
     "name": "stderr",
     "output_type": "stream",
     "text": [
      "train loss: 1.58e-02 | test loss: 1.35e-02 | reg: 2.93e+00 : 100%|██| 20/20 [00:02<00:00,  9.43it/s]\n",
      "train loss: 5.10e-03 | test loss: 1.52e-02 | reg: 7.90e+00 : 100%|█| 50/50 [00:00<00:00, 114.42it/s]\n"
     ]
    },
    {
     "name": "stdout",
     "output_type": "stream",
     "text": [
      "r2 is 1.0000003576278687\n",
      "r2 is 1.0000004768371582\n",
      "r2 is 0.99988853931427\n"
     ]
    },
    {
     "name": "stderr",
     "output_type": "stream",
     "text": [
      "train loss: 5.09e-03 | test loss: 1.63e-02 | reg: 7.87e+00 : 100%|██| 50/50 [00:00<00:00, 79.43it/s]\n",
      "/Users/gal.yona/Documents/MSc/Thesis/ImplicitNeuralSurfaces/forked_pykan/pykan/kan/KAN.py:344: UserWarning:\n",
      "\n",
      "std(): degrees of freedom is <= 0. Correction should be strictly less than the reduction factor (input numel divided by output numel). (Triggered internally at /Users/runner/work/pytorch/pytorch/pytorch/aten/src/ATen/native/ReduceOps.cpp:1760.)\n",
      "\n"
     ]
    },
    {
     "name": "stdout",
     "output_type": "stream",
     "text": [
      "0.03 - 6813.01*(-x_1 - 0.17)**8\n",
      "sampled_index 52 signature  tensor([[ -1.5602,  -1.0119, -54.7913, -12.1376, -19.0787,  -7.1253]],\n",
      "       grad_fn=<StackBackward0>)\n",
      "sampled_index 52 signature  tensor([[ -1.4840,  -1.1625, -59.6177, -14.9570, -22.2809,  -8.9718]],\n",
      "       grad_fn=<StackBackward0>)\n",
      "Number of vertices: 106712\n",
      "dataset full size: 268\n"
     ]
    },
    {
     "name": "stderr",
     "output_type": "stream",
     "text": [
      "train loss: 8.29e-03 | test loss: 1.13e-02 | reg: 3.93e+00 : 100%|██| 20/20 [00:02<00:00,  8.42it/s]\n",
      "train loss: 1.44e-03 | test loss: 8.48e-02 | reg: 5.61e+00 : 100%|██| 50/50 [00:02<00:00, 19.72it/s]\n"
     ]
    },
    {
     "name": "stdout",
     "output_type": "stream",
     "text": [
      "r2 is 0.9097397327423096\n",
      "r2 is 0.706073522567749\n",
      "r2 is not very high, please double check if you are choosing the correct symbolic function.\n",
      "r2 is 0.8629394769668579\n",
      "r2 is not very high, please double check if you are choosing the correct symbolic function.\n"
     ]
    },
    {
     "name": "stderr",
     "output_type": "stream",
     "text": [
      "train loss: 2.48e-03 | test loss: 4.21e-03 | reg: 6.32e+00 : 100%|██| 50/50 [00:00<00:00, 51.28it/s]\n",
      "/Users/gal.yona/Documents/MSc/Thesis/ImplicitNeuralSurfaces/forked_pykan/pykan/kan/KAN.py:344: UserWarning:\n",
      "\n",
      "std(): degrees of freedom is <= 0. Correction should be strictly less than the reduction factor (input numel divided by output numel). (Triggered internally at /Users/runner/work/pytorch/pytorch/pytorch/aten/src/ATen/native/ReduceOps.cpp:1760.)\n",
      "\n"
     ]
    },
    {
     "name": "stdout",
     "output_type": "stream",
     "text": [
      "0.01 - 7290.04*(-(x_1 + 0.01)**4 - 0.13*(-x_2 - 0.08)**3)**2\n",
      "Number of vertices: 106712\n",
      "dataset down sampled size: 215\n"
     ]
    },
    {
     "name": "stderr",
     "output_type": "stream",
     "text": [
      "train loss: 6.75e-03 | test loss: 9.96e-03 | reg: 3.88e+00 : 100%|██| 20/20 [00:02<00:00,  8.96it/s]\n",
      "train loss: 2.42e-03 | test loss: 4.13e-03 | reg: 6.06e+00 : 100%|██| 50/50 [00:00<00:00, 58.52it/s]\n"
     ]
    },
    {
     "name": "stdout",
     "output_type": "stream",
     "text": [
      "Best value at boundary.\n",
      "r2 is 0.9584415555000305\n",
      "r2 is 0.9999979734420776\n",
      "r2 is 0.9933599233627319\n"
     ]
    },
    {
     "name": "stderr",
     "output_type": "stream",
     "text": [
      "train loss: 2.41e-03 | test loss: 4.74e-03 | reg: 6.32e+00 : 100%|██| 50/50 [00:01<00:00, 46.47it/s]\n",
      "/Users/gal.yona/Documents/MSc/Thesis/ImplicitNeuralSurfaces/forked_pykan/pykan/kan/KAN.py:344: UserWarning:\n",
      "\n",
      "std(): degrees of freedom is <= 0. Correction should be strictly less than the reduction factor (input numel divided by output numel). (Triggered internally at /Users/runner/work/pytorch/pytorch/pytorch/aten/src/ATen/native/ReduceOps.cpp:1760.)\n",
      "\n"
     ]
    },
    {
     "name": "stdout",
     "output_type": "stream",
     "text": [
      "0.01 - 9252.98*(-x_1**4 - 0.12*(-x_2 - 0.08)**3)**2\n",
      "sampled_index 53 signature  tensor([[ 0.3844, -0.0148,  1.6591,  7.4755,  2.6120, -0.3199]],\n",
      "       grad_fn=<StackBackward0>)\n",
      "sampled_index 53 signature  tensor([[ 4.5740e-01, -8.0190e-04,  3.6371e-01,  9.2024e+00,  6.6608e-01,\n",
      "         -1.9203e-02]], grad_fn=<StackBackward0>)\n",
      "Number of vertices: 106712\n",
      "dataset full size: 303\n"
     ]
    },
    {
     "name": "stderr",
     "output_type": "stream",
     "text": [
      "train loss: 2.81e-02 | test loss: 3.03e-02 | reg: 2.55e+00 : 100%|██| 20/20 [00:02<00:00,  8.52it/s]\n",
      "train loss: 9.08e-03 | test loss: 6.62e-01 | reg: 4.92e+00 : 100%|██| 50/50 [00:02<00:00, 20.85it/s]\n"
     ]
    },
    {
     "name": "stdout",
     "output_type": "stream",
     "text": [
      "r2 is 0.9954925179481506\n",
      "r2 is 0.9994590878486633\n",
      "r2 is 0.6818826794624329\n",
      "r2 is not very high, please double check if you are choosing the correct symbolic function.\n"
     ]
    },
    {
     "name": "stderr",
     "output_type": "stream",
     "text": [
      "train loss: 1.05e-02 | test loss: 7.79e-02 | reg: 1.16e+01 : 100%|██| 50/50 [00:00<00:00, 52.07it/s]\n",
      "/Users/gal.yona/Documents/MSc/Thesis/ImplicitNeuralSurfaces/forked_pykan/pykan/kan/KAN.py:344: UserWarning:\n",
      "\n",
      "std(): degrees of freedom is <= 0. Correction should be strictly less than the reduction factor (input numel divided by output numel). (Triggered internally at /Users/runner/work/pytorch/pytorch/pytorch/aten/src/ATen/native/ReduceOps.cpp:1760.)\n",
      "\n"
     ]
    },
    {
     "name": "stdout",
     "output_type": "stream",
     "text": [
      "-73.19*(0.15*(-0.41*x_1 - 1)**4 + (-x_2 - 0.47)**3 - 0.04)**2\n",
      "Number of vertices: 106712\n",
      "dataset down sampled size: 243\n"
     ]
    },
    {
     "name": "stderr",
     "output_type": "stream",
     "text": [
      "train loss: 2.94e-02 | test loss: 3.20e-02 | reg: 2.75e+00 : 100%|██| 20/20 [00:02<00:00,  9.19it/s]\n",
      "train loss: 1.01e-02 | test loss: 7.55e-02 | reg: 1.14e+01 : 100%|██| 50/50 [00:00<00:00, 83.08it/s]\n"
     ]
    },
    {
     "name": "stdout",
     "output_type": "stream",
     "text": [
      "r2 is 1.0000004768371582\n",
      "r2 is 1.0000004768371582\n",
      "r2 is 1.0000001192092896\n"
     ]
    },
    {
     "name": "stderr",
     "output_type": "stream",
     "text": [
      "train loss: 1.01e-02 | test loss: 7.55e-02 | reg: 1.17e+01 : 100%|█| 50/50 [00:00<00:00, 109.48it/s]\n",
      "/Users/gal.yona/Documents/MSc/Thesis/ImplicitNeuralSurfaces/forked_pykan/pykan/kan/KAN.py:344: UserWarning:\n",
      "\n",
      "std(): degrees of freedom is <= 0. Correction should be strictly less than the reduction factor (input numel divided by output numel). (Triggered internally at /Users/runner/work/pytorch/pytorch/pytorch/aten/src/ATen/native/ReduceOps.cpp:1760.)\n",
      "\n"
     ]
    },
    {
     "name": "stdout",
     "output_type": "stream",
     "text": [
      "-73.02*(0.15*(-0.41*x_1 - 1)**4 + (-x_2 - 0.47)**3 - 0.04)**2\n",
      "sampled_index 54 signature  tensor([[ 3.3350e+01, -1.3281e+00, -9.8775e+01,  2.0878e+03, -3.0334e+00,\n",
      "          4.9521e+02]], grad_fn=<StackBackward0>)\n",
      "sampled_index 54 signature  tensor([[ 3.3079e+01, -1.3372e+00, -9.8244e+01,  2.0482e+03, -3.0016e+00,\n",
      "          4.9353e+02]], grad_fn=<StackBackward0>)\n",
      "Number of vertices: 106712\n",
      "dataset full size: 305\n"
     ]
    },
    {
     "name": "stderr",
     "output_type": "stream",
     "text": [
      "train loss: 1.37e-02 | test loss: 1.49e-02 | reg: 2.85e+00 : 100%|██| 20/20 [00:02<00:00,  8.46it/s]\n",
      "train loss: 2.59e-03 | test loss: 6.64e-01 | reg: 5.01e+00 : 100%|██| 50/50 [00:01<00:00, 25.02it/s]\n"
     ]
    },
    {
     "name": "stdout",
     "output_type": "stream",
     "text": [
      "r2 is 0.9937678575515747\n",
      "r2 is 0.9938927292823792\n",
      "r2 is 0.9375417232513428\n"
     ]
    },
    {
     "name": "stderr",
     "output_type": "stream",
     "text": [
      "train loss: 3.18e-03 | test loss: 8.63e-02 | reg: 9.46e+00 : 100%|██| 50/50 [00:01<00:00, 49.16it/s]\n",
      "/Users/gal.yona/Documents/MSc/Thesis/ImplicitNeuralSurfaces/forked_pykan/pykan/kan/KAN.py:344: UserWarning:\n",
      "\n",
      "std(): degrees of freedom is <= 0. Correction should be strictly less than the reduction factor (input numel divided by output numel). (Triggered internally at /Users/runner/work/pytorch/pytorch/pytorch/aten/src/ATen/native/ReduceOps.cpp:1760.)\n",
      "\n"
     ]
    },
    {
     "name": "stdout",
     "output_type": "stream",
     "text": [
      "-96843.74*((0.17 - x_1)**4 - 0.e-2*(1 - 0.25*x_2)**3 + 0.01)**2\n",
      "Number of vertices: 106712\n",
      "dataset down sampled size: 245\n"
     ]
    },
    {
     "name": "stderr",
     "output_type": "stream",
     "text": [
      "train loss: 1.02e-02 | test loss: 1.31e-02 | reg: 2.85e+00 : 100%|██| 20/20 [00:02<00:00,  8.99it/s]\n",
      "train loss: 3.06e-03 | test loss: 8.43e-02 | reg: 9.16e+00 : 100%|██| 50/50 [00:00<00:00, 82.83it/s]\n"
     ]
    },
    {
     "name": "stdout",
     "output_type": "stream",
     "text": [
      "r2 is 1.0000003576278687\n",
      "r2 is 1.0000003576278687\n",
      "r2 is 1.0000003576278687\n"
     ]
    },
    {
     "name": "stderr",
     "output_type": "stream",
     "text": [
      "train loss: 3.06e-03 | test loss: 8.43e-02 | reg: 9.42e+00 : 100%|██| 50/50 [00:00<00:00, 55.51it/s]\n",
      "/Users/gal.yona/Documents/MSc/Thesis/ImplicitNeuralSurfaces/forked_pykan/pykan/kan/KAN.py:344: UserWarning:\n",
      "\n",
      "std(): degrees of freedom is <= 0. Correction should be strictly less than the reduction factor (input numel divided by output numel). (Triggered internally at /Users/runner/work/pytorch/pytorch/pytorch/aten/src/ATen/native/ReduceOps.cpp:1760.)\n",
      "\n"
     ]
    },
    {
     "name": "stdout",
     "output_type": "stream",
     "text": [
      "-96997.99*((0.17 - x_1)**4 - 0.e-2*(1 - 0.25*x_2)**3)**2\n",
      "sampled_index 55 signature  tensor([[   37.8649,    16.2439,   238.1696, -1137.8702,    -5.5470,  2173.9387]],\n",
      "       grad_fn=<StackBackward0>)\n",
      "sampled_index 55 signature  tensor([[   37.4986,    16.5143,   235.7921, -1172.1053,    -5.2724,  2066.7908]],\n",
      "       grad_fn=<StackBackward0>)\n",
      "Number of vertices: 106712\n",
      "dataset full size: 296\n"
     ]
    },
    {
     "name": "stderr",
     "output_type": "stream",
     "text": [
      "train loss: 1.35e-02 | test loss: 1.54e-02 | reg: 3.50e+00 : 100%|██| 20/20 [00:02<00:00,  8.72it/s]\n",
      "train loss: 1.36e-03 | test loss: 6.57e-02 | reg: 4.12e+00 : 100%|██| 50/50 [00:02<00:00, 22.23it/s]\n"
     ]
    },
    {
     "name": "stdout",
     "output_type": "stream",
     "text": [
      "r2 is 0.9908393025398254\n",
      "r2 is 0.9873259663581848\n",
      "r2 is 0.9801256060600281\n"
     ]
    },
    {
     "name": "stderr",
     "output_type": "stream",
     "text": [
      "train loss: 2.71e-03 | test loss: 3.30e-02 | reg: 4.78e+00 : 100%|██| 50/50 [00:00<00:00, 62.86it/s]\n",
      "/Users/gal.yona/Documents/MSc/Thesis/ImplicitNeuralSurfaces/forked_pykan/pykan/kan/KAN.py:344: UserWarning:\n",
      "\n",
      "std(): degrees of freedom is <= 0. Correction should be strictly less than the reduction factor (input numel divided by output numel). (Triggered internally at /Users/runner/work/pytorch/pytorch/pytorch/aten/src/ATen/native/ReduceOps.cpp:1760.)\n",
      "\n"
     ]
    },
    {
     "name": "stdout",
     "output_type": "stream",
     "text": [
      "-36.49*(0.11*(1 - 0.62*x_2)**3 + (-x_1 - 0.38)**4 - 0.13)**2\n",
      "Number of vertices: 106712\n",
      "dataset down sampled size: 237\n"
     ]
    },
    {
     "name": "stderr",
     "output_type": "stream",
     "text": [
      "train loss: 1.70e-02 | test loss: 1.53e-02 | reg: 3.58e+00 : 100%|██| 20/20 [00:02<00:00,  9.58it/s]\n",
      "train loss: 2.75e-03 | test loss: 3.17e-02 | reg: 4.32e+00 : 100%|██| 50/50 [00:00<00:00, 68.18it/s]\n"
     ]
    },
    {
     "name": "stdout",
     "output_type": "stream",
     "text": [
      "r2 is 1.0000003576278687\n",
      "r2 is 1.0000004768371582\n",
      "r2 is 1.000000238418579\n"
     ]
    },
    {
     "name": "stderr",
     "output_type": "stream",
     "text": [
      "train loss: 2.75e-03 | test loss: 3.17e-02 | reg: 4.80e+00 : 100%|██| 50/50 [00:00<00:00, 88.52it/s]\n",
      "/Users/gal.yona/Documents/MSc/Thesis/ImplicitNeuralSurfaces/forked_pykan/pykan/kan/KAN.py:344: UserWarning:\n",
      "\n",
      "std(): degrees of freedom is <= 0. Correction should be strictly less than the reduction factor (input numel divided by output numel). (Triggered internally at /Users/runner/work/pytorch/pytorch/pytorch/aten/src/ATen/native/ReduceOps.cpp:1760.)\n",
      "\n"
     ]
    },
    {
     "name": "stdout",
     "output_type": "stream",
     "text": [
      "-37.52*(0.11*(1 - 0.62*x_2)**3 + (-x_1 - 0.38)**4 - 0.13)**2\n",
      "sampled_index 56 signature  tensor([[ 3.3898e+00,  6.2696e-01, -1.6339e+01, -4.5130e+01, -1.0444e-01,\n",
      "         -1.3370e+02]], grad_fn=<StackBackward0>)\n",
      "sampled_index 56 signature  tensor([[ 3.4790e+00,  6.2528e-01, -1.6818e+01, -4.6438e+01, -1.0232e-01,\n",
      "         -1.4081e+02]], grad_fn=<StackBackward0>)\n",
      "Number of vertices: 106712\n",
      "dataset full size: 359\n"
     ]
    },
    {
     "name": "stderr",
     "output_type": "stream",
     "text": [
      "train loss: 1.45e-02 | test loss: 1.48e-02 | reg: 3.09e+00 : 100%|██| 20/20 [00:02<00:00,  7.05it/s]\n",
      "train loss: 1.36e-03 | test loss: 4.19e-03 | reg: 3.67e+00 : 100%|██| 50/50 [00:01<00:00, 29.74it/s]\n"
     ]
    },
    {
     "name": "stdout",
     "output_type": "stream",
     "text": [
      "Best value at boundary.\n",
      "r2 is 0.996785581111908\n",
      "r2 is 0.9997668862342834\n",
      "Best value at boundary.\n",
      "r2 is 0.7608180046081543\n",
      "r2 is not very high, please double check if you are choosing the correct symbolic function.\n"
     ]
    },
    {
     "name": "stderr",
     "output_type": "stream",
     "text": [
      "train loss: 5.82e-03 | test loss: 7.03e-03 | reg: 4.49e+00 : 100%|██| 50/50 [00:00<00:00, 51.87it/s]\n",
      "/Users/gal.yona/Documents/MSc/Thesis/ImplicitNeuralSurfaces/forked_pykan/pykan/kan/KAN.py:344: UserWarning:\n",
      "\n",
      "std(): degrees of freedom is <= 0. Correction should be strictly less than the reduction factor (input numel divided by output numel). (Triggered internally at /Users/runner/work/pytorch/pytorch/pytorch/aten/src/ATen/native/ReduceOps.cpp:1760.)\n",
      "\n"
     ]
    },
    {
     "name": "stdout",
     "output_type": "stream",
     "text": [
      "-61.26*(0.02*(1 - 0.55*x_2)**3 - (-x_1 - 0.34)**4)**2\n",
      "Number of vertices: 106712\n",
      "dataset down sampled size: 288\n"
     ]
    },
    {
     "name": "stderr",
     "output_type": "stream",
     "text": [
      "train loss: 1.32e-02 | test loss: 1.52e-02 | reg: 3.38e+00 : 100%|██| 20/20 [00:02<00:00,  9.16it/s]\n",
      "train loss: 5.71e-03 | test loss: 7.30e-03 | reg: 3.73e+00 : 100%|██| 50/50 [00:00<00:00, 85.70it/s]\n"
     ]
    },
    {
     "name": "stdout",
     "output_type": "stream",
     "text": [
      "Best value at boundary.\n",
      "r2 is 1.0000003576278687\n",
      "r2 is 1.0000004768371582\n",
      "Best value at boundary.\n",
      "r2 is 0.9999964237213135\n"
     ]
    },
    {
     "name": "stderr",
     "output_type": "stream",
     "text": [
      "train loss: 5.64e-03 | test loss: 7.43e-03 | reg: 4.20e+00 : 100%|██| 50/50 [00:00<00:00, 64.32it/s]\n",
      "/Users/gal.yona/Documents/MSc/Thesis/ImplicitNeuralSurfaces/forked_pykan/pykan/kan/KAN.py:344: UserWarning:\n",
      "\n",
      "std(): degrees of freedom is <= 0. Correction should be strictly less than the reduction factor (input numel divided by output numel). (Triggered internally at /Users/runner/work/pytorch/pytorch/pytorch/aten/src/ATen/native/ReduceOps.cpp:1760.)\n",
      "\n"
     ]
    },
    {
     "name": "stdout",
     "output_type": "stream",
     "text": [
      "-60.5*(0.03*(1 - 0.55*x_2)**3 - (-x_1 - 0.34)**4 - 0.e-2)**2\n",
      "sampled_index 57 signature  tensor([[  1.0517,  -0.0711,   7.9313, -35.9778,   0.1356,  -2.9456]],\n",
      "       grad_fn=<StackBackward0>)\n",
      "sampled_index 57 signature  tensor([[  1.1378,  -0.1535,  10.2120, -35.4588,   0.2305,  -5.4265]],\n",
      "       grad_fn=<StackBackward0>)\n",
      "Number of vertices: 106712\n",
      "dataset full size: 281\n"
     ]
    },
    {
     "name": "stderr",
     "output_type": "stream",
     "text": [
      "train loss: 1.11e-02 | test loss: 2.14e-02 | reg: 3.79e+00 : 100%|██| 20/20 [00:02<00:00,  9.21it/s]\n",
      "train loss: 1.88e-03 | test loss: 5.62e-02 | reg: 3.09e+00 : 100%|██| 50/50 [00:02<00:00, 21.50it/s]\n"
     ]
    },
    {
     "name": "stdout",
     "output_type": "stream",
     "text": [
      "r2 is 0.9999809861183167\n",
      "Best value at boundary.\n",
      "r2 is 0.9956983923912048\n",
      "r2 is 0.7116888761520386\n",
      "r2 is not very high, please double check if you are choosing the correct symbolic function.\n"
     ]
    },
    {
     "name": "stderr",
     "output_type": "stream",
     "text": [
      "train loss: 4.19e-03 | test loss: 5.93e-03 | reg: 6.17e+01 : 100%|██| 50/50 [00:01<00:00, 25.54it/s]\n",
      "/Users/gal.yona/Documents/MSc/Thesis/ImplicitNeuralSurfaces/forked_pykan/pykan/kan/KAN.py:344: UserWarning:\n",
      "\n",
      "std(): degrees of freedom is <= 0. Correction should be strictly less than the reduction factor (input numel divided by output numel). (Triggered internally at /Users/runner/work/pytorch/pytorch/pytorch/aten/src/ATen/native/ReduceOps.cpp:1760.)\n",
      "\n"
     ]
    },
    {
     "name": "stdout",
     "output_type": "stream",
     "text": [
      "0.71*(-0.03*(0.61 - x_1)**4 - 0.12*(-x_2 - 0.34)**3 - 1)**2 - 0.71\n",
      "Number of vertices: 106712\n",
      "dataset down sampled size: 225\n"
     ]
    },
    {
     "name": "stderr",
     "output_type": "stream",
     "text": [
      "train loss: 1.07e-02 | test loss: 2.08e-02 | reg: 3.93e+00 : 100%|██| 20/20 [00:02<00:00,  9.34it/s]\n",
      "train loss: 4.09e-03 | test loss: 5.76e-03 | reg: 6.31e+01 : 100%|██| 50/50 [00:00<00:00, 62.49it/s]\n"
     ]
    },
    {
     "name": "stdout",
     "output_type": "stream",
     "text": [
      "r2 is 1.000000238418579\n",
      "Best value at boundary.\n",
      "r2 is 1.0000001192092896\n",
      "Best value at boundary.\n",
      "r2 is 0.999984085559845\n"
     ]
    },
    {
     "name": "stderr",
     "output_type": "stream",
     "text": [
      "train loss: 4.09e-03 | test loss: 5.75e-03 | reg: 6.32e+01 : 100%|█| 50/50 [00:00<00:00, 115.74it/s]\n",
      "/Users/gal.yona/Documents/MSc/Thesis/ImplicitNeuralSurfaces/forked_pykan/pykan/kan/KAN.py:344: UserWarning:\n",
      "\n",
      "std(): degrees of freedom is <= 0. Correction should be strictly less than the reduction factor (input numel divided by output numel). (Triggered internally at /Users/runner/work/pytorch/pytorch/pytorch/aten/src/ATen/native/ReduceOps.cpp:1760.)\n",
      "\n"
     ]
    },
    {
     "name": "stdout",
     "output_type": "stream",
     "text": [
      "3.46*(-0.e-2*(0.61 - x_1)**4 - 0.02*(-x_2 - 0.34)**3 - 1)**2 - 3.47\n",
      "sampled_index 58 signature  tensor([[ 0.0775, -0.0694, -0.3257,  0.4933, -0.2322, -0.1884]],\n",
      "       grad_fn=<StackBackward0>)\n",
      "sampled_index 58 signature  tensor([[ 0.0796, -0.0649, -0.3072,  0.4978, -0.2126, -0.1834]],\n",
      "       grad_fn=<StackBackward0>)\n",
      "Number of vertices: 106712\n",
      "dataset full size: 307\n"
     ]
    },
    {
     "name": "stderr",
     "output_type": "stream",
     "text": [
      "train loss: 1.86e-02 | test loss: 1.52e-02 | reg: 3.71e+00 : 100%|██| 20/20 [00:02<00:00,  8.45it/s]\n",
      "train loss: 1.49e-03 | test loss: 1.30e-01 | reg: 3.41e+00 : 100%|██| 50/50 [00:02<00:00, 21.44it/s]\n"
     ]
    },
    {
     "name": "stdout",
     "output_type": "stream",
     "text": [
      "r2 is 0.9981579780578613\n",
      "r2 is 0.9986873865127563\n",
      "r2 is 0.6779853105545044\n",
      "r2 is not very high, please double check if you are choosing the correct symbolic function.\n"
     ]
    },
    {
     "name": "stderr",
     "output_type": "stream",
     "text": [
      "train loss: 1.12e-02 | test loss: 1.47e-02 | reg: 4.68e+01 : 100%|██| 50/50 [00:01<00:00, 30.61it/s]\n",
      "/Users/gal.yona/Documents/MSc/Thesis/ImplicitNeuralSurfaces/forked_pykan/pykan/kan/KAN.py:344: UserWarning:\n",
      "\n",
      "std(): degrees of freedom is <= 0. Correction should be strictly less than the reduction factor (input numel divided by output numel). (Triggered internally at /Users/runner/work/pytorch/pytorch/pytorch/aten/src/ATen/native/ReduceOps.cpp:1760.)\n",
      "\n"
     ]
    },
    {
     "name": "stdout",
     "output_type": "stream",
     "text": [
      "0.75*(-0.06*(0.63 - x_2)**3 + 0.05*(1 - 0.47*x_1)**4 - 1)**2 - 0.71\n",
      "Number of vertices: 106712\n",
      "dataset down sampled size: 246\n"
     ]
    },
    {
     "name": "stderr",
     "output_type": "stream",
     "text": [
      "train loss: 6.86e-02 | test loss: 7.03e-02 | reg: 3.51e+00 : 100%|██| 20/20 [00:02<00:00,  9.02it/s]\n",
      "train loss: 1.13e-02 | test loss: 1.43e-02 | reg: 4.60e+01 : 100%|██| 50/50 [00:00<00:00, 89.23it/s]\n"
     ]
    },
    {
     "name": "stdout",
     "output_type": "stream",
     "text": [
      "r2 is 1.0000003576278687\n",
      "r2 is 1.0000004768371582\n",
      "r2 is 1.0\n"
     ]
    },
    {
     "name": "stderr",
     "output_type": "stream",
     "text": [
      "train loss: 1.13e-02 | test loss: 1.43e-02 | reg: 4.64e+01 : 100%|██| 50/50 [00:01<00:00, 44.00it/s]\n",
      "/Users/gal.yona/Documents/MSc/Thesis/ImplicitNeuralSurfaces/forked_pykan/pykan/kan/KAN.py:344: UserWarning:\n",
      "\n",
      "std(): degrees of freedom is <= 0. Correction should be strictly less than the reduction factor (input numel divided by output numel). (Triggered internally at /Users/runner/work/pytorch/pytorch/pytorch/aten/src/ATen/native/ReduceOps.cpp:1760.)\n",
      "\n"
     ]
    },
    {
     "name": "stdout",
     "output_type": "stream",
     "text": [
      "0.77*(-0.06*(0.63 - x_2)**3 + 0.05*(1 - 0.47*x_1)**4 - 1)**2 - 0.73\n",
      "sampled_index 59 signature  tensor([[-0.0819, -0.0560,  0.2732,  0.0650,  0.0952, -0.0314]],\n",
      "       grad_fn=<StackBackward0>)\n",
      "sampled_index 59 signature  tensor([[-0.0816, -0.0564,  0.2734,  0.0656,  0.0956, -0.0319]],\n",
      "       grad_fn=<StackBackward0>)\n",
      "Number of vertices: 106712\n",
      "dataset full size: 298\n"
     ]
    },
    {
     "name": "stderr",
     "output_type": "stream",
     "text": [
      "train loss: 5.16e-02 | test loss: 5.15e-02 | reg: 2.90e+00 : 100%|██| 20/20 [00:02<00:00,  7.56it/s]\n",
      "train loss: 1.45e-04 | test loss: 2.66e-04 | reg: 3.58e+00 : 100%|██| 50/50 [00:02<00:00, 24.81it/s]\n"
     ]
    },
    {
     "name": "stdout",
     "output_type": "stream",
     "text": [
      "r2 is 0.9670302867889404\n",
      "r2 is 0.9984848499298096\n",
      "r2 is 0.8389052152633667\n",
      "r2 is not very high, please double check if you are choosing the correct symbolic function.\n"
     ]
    },
    {
     "name": "stderr",
     "output_type": "stream",
     "text": [
      "train loss: 2.23e-04 | test loss: 2.78e-04 | reg: 4.24e+00 : 100%|██| 50/50 [00:00<00:00, 54.66it/s]\n",
      "/Users/gal.yona/Documents/MSc/Thesis/ImplicitNeuralSurfaces/forked_pykan/pykan/kan/KAN.py:344: UserWarning:\n",
      "\n",
      "std(): degrees of freedom is <= 0. Correction should be strictly less than the reduction factor (input numel divided by output numel). (Triggered internally at /Users/runner/work/pytorch/pytorch/pytorch/aten/src/ATen/native/ReduceOps.cpp:1760.)\n",
      "\n"
     ]
    },
    {
     "name": "stdout",
     "output_type": "stream",
     "text": [
      "4.58*((0.18 - x_1)**4 - 0.29*(0.27 - x_2)**3 - 0.e-2)**2\n",
      "Number of vertices: 106712\n",
      "dataset down sampled size: 239\n"
     ]
    },
    {
     "name": "stderr",
     "output_type": "stream",
     "text": [
      "train loss: 5.28e-02 | test loss: 5.28e-02 | reg: 3.05e+00 : 100%|██| 20/20 [00:02<00:00,  8.84it/s]\n",
      "train loss: 2.26e-04 | test loss: 2.87e-04 | reg: 3.27e+00 : 100%|██| 50/50 [00:00<00:00, 67.71it/s]\n"
     ]
    },
    {
     "name": "stdout",
     "output_type": "stream",
     "text": [
      "r2 is 1.000000238418579\n",
      "r2 is 1.000000238418579\n",
      "r2 is 0.9999478459358215\n"
     ]
    },
    {
     "name": "stderr",
     "output_type": "stream",
     "text": [
      "train loss: 2.27e-04 | test loss: 2.87e-04 | reg: 4.48e+00 : 100%|██| 50/50 [00:00<00:00, 65.64it/s]\n",
      "/Users/gal.yona/Documents/MSc/Thesis/ImplicitNeuralSurfaces/forked_pykan/pykan/kan/KAN.py:344: UserWarning:\n",
      "\n",
      "std(): degrees of freedom is <= 0. Correction should be strictly less than the reduction factor (input numel divided by output numel). (Triggered internally at /Users/runner/work/pytorch/pytorch/pytorch/aten/src/ATen/native/ReduceOps.cpp:1760.)\n",
      "\n"
     ]
    },
    {
     "name": "stdout",
     "output_type": "stream",
     "text": [
      "5.11*((0.18 - x_1)**4 - 0.29*(0.27 - x_2)**3 - 0.e-2)**2\n",
      "sampled_index 60 signature  tensor([[-0.0255, -0.0034,  0.4045,  0.1251,  0.0551, -0.0285]],\n",
      "       grad_fn=<StackBackward0>)\n",
      "sampled_index 60 signature  tensor([[-0.0291, -0.0039,  0.4564,  0.1205,  0.0664, -0.0325]],\n",
      "       grad_fn=<StackBackward0>)\n",
      "Number of vertices: 106712\n",
      "dataset full size: 266\n"
     ]
    },
    {
     "name": "stderr",
     "output_type": "stream",
     "text": [
      "train loss: 9.87e-03 | test loss: 1.23e-02 | reg: 3.59e+00 : 100%|██| 20/20 [00:02<00:00,  9.29it/s]\n",
      "train loss: 1.80e-03 | test loss: 2.76e-03 | reg: 3.07e+00 : 100%|██| 50/50 [00:02<00:00, 24.33it/s]\n"
     ]
    },
    {
     "name": "stdout",
     "output_type": "stream",
     "text": [
      "Best value at boundary.\n",
      "r2 is 0.9405957460403442\n",
      "r2 is 0.9268907308578491\n",
      "r2 is 0.9959933757781982\n"
     ]
    },
    {
     "name": "stderr",
     "output_type": "stream",
     "text": [
      "train loss: 2.42e-03 | test loss: 3.10e-03 | reg: 3.40e+00 : 100%|██| 50/50 [00:01<00:00, 32.52it/s]\n",
      "/Users/gal.yona/Documents/MSc/Thesis/ImplicitNeuralSurfaces/forked_pykan/pykan/kan/KAN.py:344: UserWarning:\n",
      "\n",
      "std(): degrees of freedom is <= 0. Correction should be strictly less than the reduction factor (input numel divided by output numel). (Triggered internally at /Users/runner/work/pytorch/pytorch/pytorch/aten/src/ATen/native/ReduceOps.cpp:1760.)\n",
      "\n"
     ]
    },
    {
     "name": "stdout",
     "output_type": "stream",
     "text": [
      "29952.15*((0.02 - x_1)**4 - 0.06*(-x_2 - 0.05)**3)**2 - 0.05\n",
      "Number of vertices: 106712\n",
      "dataset down sampled size: 213\n"
     ]
    },
    {
     "name": "stderr",
     "output_type": "stream",
     "text": [
      "train loss: 1.21e-02 | test loss: 1.41e-02 | reg: 3.53e+00 : 100%|██| 20/20 [00:02<00:00,  9.77it/s]\n",
      "train loss: 2.49e-03 | test loss: 3.05e-03 | reg: 3.63e+00 : 100%|██| 50/50 [00:00<00:00, 56.64it/s]\n"
     ]
    },
    {
     "name": "stdout",
     "output_type": "stream",
     "text": [
      "Best value at boundary.\n",
      "r2 is 0.9932429194450378\n",
      "r2 is 0.9999916553497314\n",
      "Best value at boundary.\n",
      "r2 is 0.9998604655265808\n"
     ]
    },
    {
     "name": "stderr",
     "output_type": "stream",
     "text": [
      "train loss: 2.49e-03 | test loss: 3.07e-03 | reg: 3.81e+00 : 100%|██| 50/50 [00:00<00:00, 56.56it/s]\n",
      "/Users/gal.yona/Documents/MSc/Thesis/ImplicitNeuralSurfaces/forked_pykan/pykan/kan/KAN.py:344: UserWarning:\n",
      "\n",
      "std(): degrees of freedom is <= 0. Correction should be strictly less than the reduction factor (input numel divided by output numel). (Triggered internally at /Users/runner/work/pytorch/pytorch/pytorch/aten/src/ATen/native/ReduceOps.cpp:1760.)\n",
      "\n"
     ]
    },
    {
     "name": "stdout",
     "output_type": "stream",
     "text": [
      "15013.4*((0.02 - x_1)**4 - 0.06*(-x_2 - 0.05)**3)**2 - 0.08\n",
      "sampled_index 61 signature  tensor([[ 0.7348,  0.2696, 13.6734, 11.6265, 34.3227,  4.8938]],\n",
      "       grad_fn=<StackBackward0>)\n",
      "sampled_index 61 signature  tensor([[ 0.7198,  0.2770, 13.7620, 11.4281, 33.3308,  5.1692]],\n",
      "       grad_fn=<StackBackward0>)\n",
      "Number of vertices: 106712\n",
      "dataset full size: 290\n"
     ]
    },
    {
     "name": "stderr",
     "output_type": "stream",
     "text": [
      "train loss: 4.98e-02 | test loss: 5.00e-02 | reg: 2.79e+00 : 100%|██| 20/20 [00:02<00:00,  8.76it/s]\n",
      "train loss: 1.50e-03 | test loss: 2.94e-03 | reg: 4.65e+00 : 100%|██| 50/50 [00:02<00:00, 19.72it/s]\n"
     ]
    },
    {
     "name": "stdout",
     "output_type": "stream",
     "text": [
      "r2 is 0.8128913044929504\n",
      "r2 is not very high, please double check if you are choosing the correct symbolic function.\n",
      "r2 is 0.9131895899772644\n",
      "r2 is 0.890296995639801\n",
      "r2 is not very high, please double check if you are choosing the correct symbolic function.\n"
     ]
    },
    {
     "name": "stderr",
     "output_type": "stream",
     "text": [
      "train loss: 3.61e-03 | test loss: 3.91e-03 | reg: 6.40e+00 : 100%|██| 50/50 [00:01<00:00, 45.46it/s]\n",
      "/Users/gal.yona/Documents/MSc/Thesis/ImplicitNeuralSurfaces/forked_pykan/pykan/kan/KAN.py:344: UserWarning:\n",
      "\n",
      "std(): degrees of freedom is <= 0. Correction should be strictly less than the reduction factor (input numel divided by output numel). (Triggered internally at /Users/runner/work/pytorch/pytorch/pytorch/aten/src/ATen/native/ReduceOps.cpp:1760.)\n",
      "\n"
     ]
    },
    {
     "name": "stdout",
     "output_type": "stream",
     "text": [
      "-511.87*(-0.33*(-x_1 - 0.23)**4 - (-x_2 - 0.1)**3)**2\n",
      "Number of vertices: 106712\n",
      "dataset down sampled size: 233\n"
     ]
    },
    {
     "name": "stderr",
     "output_type": "stream",
     "text": [
      "train loss: 6.08e-02 | test loss: 6.08e-02 | reg: 2.67e+00 : 100%|██| 20/20 [00:02<00:00,  8.96it/s]\n",
      "train loss: 3.68e-03 | test loss: 3.86e-03 | reg: 4.43e+00 : 100%|██| 50/50 [00:01<00:00, 45.85it/s]\n"
     ]
    },
    {
     "name": "stdout",
     "output_type": "stream",
     "text": [
      "r2 is 1.000000238418579\n",
      "r2 is 1.000000238418579\n",
      "r2 is 0.999999463558197\n"
     ]
    },
    {
     "name": "stderr",
     "output_type": "stream",
     "text": [
      "train loss: 3.68e-03 | test loss: 3.86e-03 | reg: 5.86e+00 : 100%|██| 50/50 [00:00<00:00, 92.99it/s]\n",
      "/Users/gal.yona/Documents/MSc/Thesis/ImplicitNeuralSurfaces/forked_pykan/pykan/kan/KAN.py:344: UserWarning:\n",
      "\n",
      "std(): degrees of freedom is <= 0. Correction should be strictly less than the reduction factor (input numel divided by output numel). (Triggered internally at /Users/runner/work/pytorch/pytorch/pytorch/aten/src/ATen/native/ReduceOps.cpp:1760.)\n",
      "\n"
     ]
    },
    {
     "name": "stdout",
     "output_type": "stream",
     "text": [
      "-584.85*(-0.37*(-x_1 - 0.21)**4 - (-x_2 - 0.1)**3)**2\n",
      "sampled_index 62 signature  tensor([[  0.2241,  -0.4178, -17.7977,   5.5467, -12.8891,  24.0328]],\n",
      "       grad_fn=<StackBackward0>)\n",
      "sampled_index 62 signature  tensor([[  0.1520,  -0.4774, -18.1579,   4.3533, -15.8126,  25.1699]],\n",
      "       grad_fn=<StackBackward0>)\n",
      "Number of vertices: 106712\n",
      "dataset full size: 271\n"
     ]
    },
    {
     "name": "stderr",
     "output_type": "stream",
     "text": [
      "train loss: 1.09e-02 | test loss: 1.09e-02 | reg: 3.45e+00 : 100%|██| 20/20 [00:02<00:00,  9.32it/s]\n",
      "train loss: 1.87e-03 | test loss: 4.04e-03 | reg: 3.44e+00 : 100%|██| 50/50 [00:01<00:00, 26.81it/s]\n"
     ]
    },
    {
     "name": "stdout",
     "output_type": "stream",
     "text": [
      "r2 is 0.9966678023338318\n",
      "r2 is 0.9924333095550537\n",
      "r2 is 0.867478609085083\n",
      "r2 is not very high, please double check if you are choosing the correct symbolic function.\n"
     ]
    },
    {
     "name": "stderr",
     "output_type": "stream",
     "text": [
      "train loss: 2.39e-03 | test loss: 3.78e-03 | reg: 8.23e+00 : 100%|██| 50/50 [00:02<00:00, 23.07it/s]\n",
      "/Users/gal.yona/Documents/MSc/Thesis/ImplicitNeuralSurfaces/forked_pykan/pykan/kan/KAN.py:344: UserWarning:\n",
      "\n",
      "std(): degrees of freedom is <= 0. Correction should be strictly less than the reduction factor (input numel divided by output numel). (Triggered internally at /Users/runner/work/pytorch/pytorch/pytorch/aten/src/ATen/native/ReduceOps.cpp:1760.)\n",
      "\n"
     ]
    },
    {
     "name": "stdout",
     "output_type": "stream",
     "text": [
      "-22.38*(0.13*(0.5 - x_1)**4 - (1 - 0.11*x_2)**3 + 0.99)**2\n",
      "Number of vertices: 106712\n",
      "dataset down sampled size: 217\n"
     ]
    },
    {
     "name": "stderr",
     "output_type": "stream",
     "text": [
      "train loss: 1.39e-02 | test loss: 1.33e-02 | reg: 2.91e+00 : 100%|██| 20/20 [00:02<00:00,  9.40it/s]\n",
      "train loss: 2.48e-03 | test loss: 3.75e-03 | reg: 8.12e+00 : 100%|██| 50/50 [00:00<00:00, 84.97it/s]\n"
     ]
    },
    {
     "name": "stdout",
     "output_type": "stream",
     "text": [
      "Best value at boundary.\n",
      "r2 is 0.9999995827674866\n",
      "r2 is 1.0000003576278687\n",
      "r2 is 0.9967325925827026\n"
     ]
    },
    {
     "name": "stderr",
     "output_type": "stream",
     "text": [
      "train loss: 2.48e-03 | test loss: 3.75e-03 | reg: 8.24e+00 : 100%|█| 50/50 [00:00<00:00, 116.22it/s]\n",
      "/Users/gal.yona/Documents/MSc/Thesis/ImplicitNeuralSurfaces/forked_pykan/pykan/kan/KAN.py:344: UserWarning:\n",
      "\n",
      "std(): degrees of freedom is <= 0. Correction should be strictly less than the reduction factor (input numel divided by output numel). (Triggered internally at /Users/runner/work/pytorch/pytorch/pytorch/aten/src/ATen/native/ReduceOps.cpp:1760.)\n",
      "\n"
     ]
    },
    {
     "name": "stdout",
     "output_type": "stream",
     "text": [
      "-24.77*(0.11*(0.5 - x_1)**4 - (1 - 0.1*x_2)**3 + 1.0)**2\n",
      "sampled_index 63 signature  tensor([[ 2.4652,  0.1944,  1.3806,  0.3092,  0.7120, 26.6731]],\n",
      "       grad_fn=<StackBackward0>)\n",
      "sampled_index 63 signature  tensor([[ 2.4397,  0.1704,  1.1300,  0.0800,  0.6375, 23.8472]],\n",
      "       grad_fn=<StackBackward0>)\n",
      "Number of vertices: 106712\n",
      "dataset full size: 328\n"
     ]
    },
    {
     "name": "stderr",
     "output_type": "stream",
     "text": [
      "train loss: 2.39e-02 | test loss: 2.10e-02 | reg: 3.04e+00 : 100%|██| 20/20 [00:03<00:00,  6.45it/s]\n",
      "train loss: 1.85e-02 | test loss: 1.46e-02 | reg: 4.09e+00 : 100%|██| 50/50 [00:01<00:00, 29.18it/s]\n"
     ]
    },
    {
     "name": "stdout",
     "output_type": "stream",
     "text": [
      "r2 is 0.662667453289032\n",
      "r2 is not very high, please double check if you are choosing the correct symbolic function.\n",
      "r2 is 0.9912893176078796\n",
      "r2 is 0.8371597528457642\n",
      "r2 is not very high, please double check if you are choosing the correct symbolic function.\n"
     ]
    },
    {
     "name": "stderr",
     "output_type": "stream",
     "text": [
      "train loss: 1.94e-02 | test loss: 1.52e-02 | reg: 5.32e+00 : 100%|██| 50/50 [00:00<00:00, 64.25it/s]\n",
      "/Users/gal.yona/Documents/MSc/Thesis/ImplicitNeuralSurfaces/forked_pykan/pykan/kan/KAN.py:344: UserWarning:\n",
      "\n",
      "std(): degrees of freedom is <= 0. Correction should be strictly less than the reduction factor (input numel divided by output numel). (Triggered internally at /Users/runner/work/pytorch/pytorch/pytorch/aten/src/ATen/native/ReduceOps.cpp:1760.)\n",
      "\n"
     ]
    },
    {
     "name": "stdout",
     "output_type": "stream",
     "text": [
      "442.78*(0.06*(1 - 0.15*x_1)**4 + (-x_2 - 0.09)**3 - 0.06)**2 - 0.03\n",
      "Number of vertices: 106712\n",
      "dataset down sampled size: 263\n"
     ]
    },
    {
     "name": "stderr",
     "output_type": "stream",
     "text": [
      "train loss: 2.67e-02 | test loss: 2.22e-02 | reg: 3.01e+00 : 100%|██| 20/20 [00:02<00:00,  9.28it/s]\n",
      "train loss: 2.01e-02 | test loss: 1.56e-02 | reg: 4.88e+00 : 100%|██| 50/50 [00:00<00:00, 69.24it/s]\n"
     ]
    },
    {
     "name": "stdout",
     "output_type": "stream",
     "text": [
      "r2 is 1.0000004768371582\n",
      "r2 is 1.0000003576278687\n",
      "r2 is 0.9999010562896729\n"
     ]
    },
    {
     "name": "stderr",
     "output_type": "stream",
     "text": [
      "train loss: 2.01e-02 | test loss: 1.56e-02 | reg: 5.31e+00 : 100%|██| 50/50 [00:00<00:00, 73.05it/s]\n",
      "/Users/gal.yona/Documents/MSc/Thesis/ImplicitNeuralSurfaces/forked_pykan/pykan/kan/KAN.py:344: UserWarning:\n",
      "\n",
      "std(): degrees of freedom is <= 0. Correction should be strictly less than the reduction factor (input numel divided by output numel). (Triggered internally at /Users/runner/work/pytorch/pytorch/pytorch/aten/src/ATen/native/ReduceOps.cpp:1760.)\n",
      "\n"
     ]
    },
    {
     "name": "stdout",
     "output_type": "stream",
     "text": [
      "479.74*(0.06*(1 - 0.15*x_1)**4 + (-x_2 - 0.09)**3 - 0.05)**2 - 0.03\n",
      "sampled_index 64 signature  tensor([[ -0.3044,  -1.0145,  12.4523,   9.2640, -17.3011,   4.5760]],\n",
      "       grad_fn=<StackBackward0>)\n",
      "sampled_index 64 signature  tensor([[ -0.2872,  -1.2501,  13.2557,   9.9140, -19.6585,   5.6422]],\n",
      "       grad_fn=<StackBackward0>)\n",
      "Number of vertices: 106712\n",
      "dataset full size: 283\n"
     ]
    },
    {
     "name": "stderr",
     "output_type": "stream",
     "text": [
      "train loss: 4.66e-02 | test loss: 4.65e-02 | reg: 3.00e+00 : 100%|██| 20/20 [00:02<00:00,  8.98it/s]\n",
      "train loss: 1.63e-04 | test loss: 2.85e-04 | reg: 2.37e+00 : 100%|██| 50/50 [00:01<00:00, 29.08it/s]\n"
     ]
    },
    {
     "name": "stdout",
     "output_type": "stream",
     "text": [
      "r2 is 0.9944243431091309\n",
      "r2 is 0.9979602098464966\n",
      "r2 is 0.9567902088165283\n"
     ]
    },
    {
     "name": "stderr",
     "output_type": "stream",
     "text": [
      "train loss: 1.62e-04 | test loss: 2.96e-04 | reg: 2.43e+00 : 100%|██| 50/50 [00:01<00:00, 48.13it/s]\n",
      "/Users/gal.yona/Documents/MSc/Thesis/ImplicitNeuralSurfaces/forked_pykan/pykan/kan/KAN.py:344: UserWarning:\n",
      "\n",
      "std(): degrees of freedom is <= 0. Correction should be strictly less than the reduction factor (input numel divided by output numel). (Triggered internally at /Users/runner/work/pytorch/pytorch/pytorch/aten/src/ATen/native/ReduceOps.cpp:1760.)\n",
      "\n"
     ]
    },
    {
     "name": "stdout",
     "output_type": "stream",
     "text": [
      "-21.01*(-(1 - 0.03*x_2)**3 - 0.1*(-x_1 - 0.29)**4 + 1.0)**2\n",
      "Number of vertices: 106712\n",
      "dataset down sampled size: 227\n"
     ]
    },
    {
     "name": "stderr",
     "output_type": "stream",
     "text": [
      "train loss: 3.64e-02 | test loss: 3.64e-02 | reg: 2.96e+00 : 100%|██| 20/20 [00:02<00:00,  9.11it/s]\n",
      "train loss: 1.59e-04 | test loss: 2.89e-04 | reg: 2.36e+00 : 100%|██| 50/50 [00:00<00:00, 60.11it/s]\n"
     ]
    },
    {
     "name": "stdout",
     "output_type": "stream",
     "text": [
      "r2 is 1.0000003576278687\n",
      "r2 is 1.0000003576278687\n",
      "r2 is 0.9659749865531921\n"
     ]
    },
    {
     "name": "stderr",
     "output_type": "stream",
     "text": [
      "train loss: 1.59e-04 | test loss: 2.88e-04 | reg: 2.42e+00 : 100%|██| 50/50 [00:00<00:00, 89.75it/s]\n",
      "/Users/gal.yona/Documents/MSc/Thesis/ImplicitNeuralSurfaces/forked_pykan/pykan/kan/KAN.py:344: UserWarning:\n",
      "\n",
      "std(): degrees of freedom is <= 0. Correction should be strictly less than the reduction factor (input numel divided by output numel). (Triggered internally at /Users/runner/work/pytorch/pytorch/pytorch/aten/src/ATen/native/ReduceOps.cpp:1760.)\n",
      "\n"
     ]
    },
    {
     "name": "stdout",
     "output_type": "stream",
     "text": [
      "-15.03*(-(1 - 0.03*x_2)**3 - 0.11*(-x_1 - 0.29)**4 + 1.0)**2\n",
      "sampled_index 65 signature  tensor([[ 0.1435,  0.0009, -0.0511, -0.2041, -0.0061, -0.0988]],\n",
      "       grad_fn=<StackBackward0>)\n",
      "sampled_index 65 signature  tensor([[ 0.1428,  0.0009, -0.0475, -0.2010, -0.0057, -0.0949]],\n",
      "       grad_fn=<StackBackward0>)\n",
      "Number of vertices: 106712\n",
      "dataset full size: 276\n"
     ]
    },
    {
     "name": "stderr",
     "output_type": "stream",
     "text": [
      "train loss: 1.10e-02 | test loss: 1.24e-02 | reg: 3.52e+00 : 100%|██| 20/20 [00:02<00:00,  9.17it/s]\n",
      "train loss: 3.40e-03 | test loss: 7.91e-03 | reg: 2.60e+00 : 100%|██| 50/50 [00:02<00:00, 22.37it/s]\n"
     ]
    },
    {
     "name": "stdout",
     "output_type": "stream",
     "text": [
      "r2 is 0.9990823268890381\n",
      "r2 is 0.9837511777877808\n",
      "r2 is 0.5257697701454163\n",
      "r2 is not very high, please double check if you are choosing the correct symbolic function.\n"
     ]
    },
    {
     "name": "stderr",
     "output_type": "stream",
     "text": [
      "train loss: 4.23e-03 | test loss: 5.33e-03 | reg: 2.53e+01 : 100%|██| 50/50 [00:01<00:00, 46.45it/s]\n",
      "/Users/gal.yona/Documents/MSc/Thesis/ImplicitNeuralSurfaces/forked_pykan/pykan/kan/KAN.py:344: UserWarning:\n",
      "\n",
      "std(): degrees of freedom is <= 0. Correction should be strictly less than the reduction factor (input numel divided by output numel). (Triggered internally at /Users/runner/work/pytorch/pytorch/pytorch/aten/src/ATen/native/ReduceOps.cpp:1760.)\n",
      "\n"
     ]
    },
    {
     "name": "stdout",
     "output_type": "stream",
     "text": [
      "0.01 - 91.44*(-0.08*(0.36 - x_2)**3 - (-x_1 - 0.26)**4 + 0.02)**2\n",
      "Number of vertices: 106712\n",
      "dataset down sampled size: 221\n"
     ]
    },
    {
     "name": "stderr",
     "output_type": "stream",
     "text": [
      "train loss: 1.01e-02 | test loss: 1.09e-02 | reg: 3.56e+00 : 100%|██| 20/20 [00:02<00:00,  8.75it/s]\n",
      "train loss: 4.26e-03 | test loss: 5.20e-03 | reg: 3.29e+00 : 100%|██| 50/50 [00:00<00:00, 58.14it/s]\n"
     ]
    },
    {
     "name": "stdout",
     "output_type": "stream",
     "text": [
      "r2 is 1.000000238418579\n",
      "r2 is 1.0000004768371582\n",
      "r2 is 1.000000238418579\n"
     ]
    },
    {
     "name": "stderr",
     "output_type": "stream",
     "text": [
      "train loss: 4.26e-03 | test loss: 5.20e-03 | reg: 2.25e+01 : 100%|██| 50/50 [00:00<00:00, 93.02it/s]\n",
      "/Users/gal.yona/Documents/MSc/Thesis/ImplicitNeuralSurfaces/forked_pykan/pykan/kan/KAN.py:344: UserWarning:\n",
      "\n",
      "std(): degrees of freedom is <= 0. Correction should be strictly less than the reduction factor (input numel divided by output numel). (Triggered internally at /Users/runner/work/pytorch/pytorch/pytorch/aten/src/ATen/native/ReduceOps.cpp:1760.)\n",
      "\n"
     ]
    },
    {
     "name": "stdout",
     "output_type": "stream",
     "text": [
      "0.01 - 254.97*(-0.02*(0.53 - x_2)**3 - (-x_1 - 0.22)**4 + 0.01)**2\n",
      "sampled_index 66 signature  tensor([[-0.2940, -0.1233, -8.0627,  9.6173,  4.3914, -7.3271]],\n",
      "       grad_fn=<StackBackward0>)\n",
      "sampled_index 66 signature  tensor([[-0.4239, -0.1133, -9.2760,  7.3745,  4.5281, -4.5927]],\n",
      "       grad_fn=<StackBackward0>)\n",
      "Number of vertices: 106712\n",
      "dataset full size: 288\n"
     ]
    },
    {
     "name": "stderr",
     "output_type": "stream",
     "text": [
      "train loss: 1.82e-02 | test loss: 2.05e-02 | reg: 3.32e+00 : 100%|██| 20/20 [00:02<00:00,  9.35it/s]\n",
      "train loss: 1.02e-02 | test loss: 1.80e-02 | reg: 3.08e+00 : 100%|██| 50/50 [00:02<00:00, 22.36it/s]\n"
     ]
    },
    {
     "name": "stdout",
     "output_type": "stream",
     "text": [
      "r2 is 0.2034524530172348\n",
      "r2 is not very high, please double check if you are choosing the correct symbolic function.\n",
      "r2 is 0.9743203520774841\n",
      "r2 is 0.031219933182001114\n",
      "r2 is not very high, please double check if you are choosing the correct symbolic function.\n"
     ]
    },
    {
     "name": "stderr",
     "output_type": "stream",
     "text": [
      "train loss: 1.24e-02 | test loss: 2.02e-02 | reg: 5.48e+00 : 100%|██| 50/50 [00:00<00:00, 56.57it/s]\n",
      "/Users/gal.yona/Documents/MSc/Thesis/ImplicitNeuralSurfaces/forked_pykan/pykan/kan/KAN.py:344: UserWarning:\n",
      "\n",
      "std(): degrees of freedom is <= 0. Correction should be strictly less than the reduction factor (input numel divided by output numel). (Triggered internally at /Users/runner/work/pytorch/pytorch/pytorch/aten/src/ATen/native/ReduceOps.cpp:1760.)\n",
      "\n"
     ]
    },
    {
     "name": "stdout",
     "output_type": "stream",
     "text": [
      "637.23*(-(0.03 - x_1)**4 + 0.02*(0.91 - x_2)**3 - 0.01)**2 - 0.02\n",
      "Number of vertices: 106712\n",
      "dataset down sampled size: 231\n"
     ]
    },
    {
     "name": "stderr",
     "output_type": "stream",
     "text": [
      "train loss: 2.04e-02 | test loss: 1.97e-02 | reg: 3.64e+00 : 100%|██| 20/20 [00:02<00:00,  9.51it/s]\n",
      "train loss: 1.19e-02 | test loss: 1.91e-02 | reg: 3.09e+00 : 100%|██| 50/50 [00:00<00:00, 61.60it/s]\n"
     ]
    },
    {
     "name": "stdout",
     "output_type": "stream",
     "text": [
      "r2 is 0.999901533126831\n",
      "r2 is 1.000000238418579\n",
      "r2 is 0.9999890923500061\n"
     ]
    },
    {
     "name": "stderr",
     "output_type": "stream",
     "text": [
      "train loss: 1.19e-02 | test loss: 1.91e-02 | reg: 5.43e+00 : 100%|██| 50/50 [00:00<00:00, 77.47it/s]\n",
      "/Users/gal.yona/Documents/MSc/Thesis/ImplicitNeuralSurfaces/forked_pykan/pykan/kan/KAN.py:344: UserWarning:\n",
      "\n",
      "std(): degrees of freedom is <= 0. Correction should be strictly less than the reduction factor (input numel divided by output numel). (Triggered internally at /Users/runner/work/pytorch/pytorch/pytorch/aten/src/ATen/native/ReduceOps.cpp:1760.)\n",
      "\n"
     ]
    },
    {
     "name": "stdout",
     "output_type": "stream",
     "text": [
      "441.21*(-(0.04 - x_1)**4 + 0.02*(0.91 - x_2)**3 - 0.01)**2 - 0.02\n",
      "sampled_index 67 signature  tensor([[-9.8705e-01,  2.0782e-03,  6.2046e+00, -4.9734e-02,  1.2344e+00,\n",
      "          1.2832e-01]], grad_fn=<StackBackward0>)\n",
      "sampled_index 67 signature  tensor([[-1.0414e+00,  3.3892e-03,  6.5689e+00, -6.5418e-02,  1.3582e+00,\n",
      "          1.8900e-01]], grad_fn=<StackBackward0>)\n",
      "Number of vertices: 106712\n",
      "dataset full size: 304\n"
     ]
    },
    {
     "name": "stderr",
     "output_type": "stream",
     "text": [
      "train loss: 1.64e-02 | test loss: 1.77e-02 | reg: 3.19e+00 : 100%|██| 20/20 [00:02<00:00,  8.05it/s]\n",
      "train loss: 2.04e-03 | test loss: 9.43e-03 | reg: 3.36e+00 : 100%|██| 50/50 [00:02<00:00, 20.48it/s]\n"
     ]
    },
    {
     "name": "stdout",
     "output_type": "stream",
     "text": [
      "r2 is 0.998684823513031\n",
      "Best value at boundary.\n",
      "r2 is 0.9766592383384705\n",
      "r2 is 0.8624672293663025\n",
      "r2 is not very high, please double check if you are choosing the correct symbolic function.\n"
     ]
    },
    {
     "name": "stderr",
     "output_type": "stream",
     "text": [
      "train loss: 5.32e-03 | test loss: 5.48e-03 | reg: 3.89e+00 : 100%|██| 50/50 [00:00<00:00, 69.99it/s]\n",
      "/Users/gal.yona/Documents/MSc/Thesis/ImplicitNeuralSurfaces/forked_pykan/pykan/kan/KAN.py:344: UserWarning:\n",
      "\n",
      "std(): degrees of freedom is <= 0. Correction should be strictly less than the reduction factor (input numel divided by output numel). (Triggered internally at /Users/runner/work/pytorch/pytorch/pytorch/aten/src/ATen/native/ReduceOps.cpp:1760.)\n",
      "\n"
     ]
    },
    {
     "name": "stdout",
     "output_type": "stream",
     "text": [
      "144.79*(0.02*(1 - 0.94*x_1)**4 - (-x_2 - 0.16)**3 - 0.03)**2 - 0.e-2\n",
      "Number of vertices: 106712\n",
      "dataset down sampled size: 244\n"
     ]
    },
    {
     "name": "stderr",
     "output_type": "stream",
     "text": [
      "train loss: 1.88e-02 | test loss: 1.96e-02 | reg: 3.26e+00 : 100%|██| 20/20 [00:02<00:00,  9.48it/s]\n",
      "train loss: 5.23e-03 | test loss: 5.34e-03 | reg: 3.48e+00 : 100%|█| 50/50 [00:00<00:00, 114.45it/s]\n"
     ]
    },
    {
     "name": "stdout",
     "output_type": "stream",
     "text": [
      "r2 is 1.0000003576278687\n",
      "Best value at boundary.\n",
      "r2 is 0.9999998807907104\n",
      "r2 is 0.9999995827674866\n"
     ]
    },
    {
     "name": "stderr",
     "output_type": "stream",
     "text": [
      "train loss: 5.23e-03 | test loss: 5.34e-03 | reg: 3.90e+00 : 100%|██| 50/50 [00:00<00:00, 54.38it/s]\n",
      "/Users/gal.yona/Documents/MSc/Thesis/ImplicitNeuralSurfaces/forked_pykan/pykan/kan/KAN.py:344: UserWarning:\n",
      "\n",
      "std(): degrees of freedom is <= 0. Correction should be strictly less than the reduction factor (input numel divided by output numel). (Triggered internally at /Users/runner/work/pytorch/pytorch/pytorch/aten/src/ATen/native/ReduceOps.cpp:1760.)\n",
      "\n"
     ]
    },
    {
     "name": "stdout",
     "output_type": "stream",
     "text": [
      "144.77*(0.02*(1 - 0.94*x_1)**4 - (-x_2 - 0.16)**3 - 0.03)**2 - 0.e-2\n",
      "sampled_index 68 signature  tensor([[  0.2632,  -1.7089, -20.7211, -15.1721, -16.1339,  -9.8967]],\n",
      "       grad_fn=<StackBackward0>)\n",
      "sampled_index 68 signature  tensor([[  0.2608,  -1.7115, -20.7452, -15.1633, -16.1087,  -9.8820]],\n",
      "       grad_fn=<StackBackward0>)\n",
      "Number of vertices: 106712\n",
      "dataset full size: 264\n"
     ]
    },
    {
     "name": "stderr",
     "output_type": "stream",
     "text": [
      "train loss: 1.43e-02 | test loss: 1.84e-02 | reg: 3.52e+00 : 100%|██| 20/20 [00:02<00:00,  9.10it/s]\n",
      "train loss: 2.88e-03 | test loss: 9.46e-03 | reg: 2.32e+00 : 100%|██| 50/50 [00:02<00:00, 17.59it/s]\n"
     ]
    },
    {
     "name": "stdout",
     "output_type": "stream",
     "text": [
      "r2 is 0.42638400197029114\n",
      "r2 is not very high, please double check if you are choosing the correct symbolic function.\n",
      "r2 is 0.9991259574890137\n",
      "r2 is 0.7719566226005554\n",
      "r2 is not very high, please double check if you are choosing the correct symbolic function.\n"
     ]
    },
    {
     "name": "stderr",
     "output_type": "stream",
     "text": [
      "train loss: 3.52e-03 | test loss: 5.84e-03 | reg: 1.16e+01 : 100%|██| 50/50 [00:01<00:00, 29.13it/s]\n",
      "/Users/gal.yona/Documents/MSc/Thesis/ImplicitNeuralSurfaces/forked_pykan/pykan/kan/KAN.py:344: UserWarning:\n",
      "\n",
      "std(): degrees of freedom is <= 0. Correction should be strictly less than the reduction factor (input numel divided by output numel). (Triggered internally at /Users/runner/work/pytorch/pytorch/pytorch/aten/src/ATen/native/ReduceOps.cpp:1760.)\n",
      "\n"
     ]
    },
    {
     "name": "stdout",
     "output_type": "stream",
     "text": [
      "0.25*(-0.26*(0.37 - x_2)**3 - 0.02*(-x_1 - 0.59)**4 - 1)**2 - 0.26\n",
      "Number of vertices: 106712\n",
      "dataset down sampled size: 212\n"
     ]
    },
    {
     "name": "stderr",
     "output_type": "stream",
     "text": [
      "train loss: 1.90e-02 | test loss: 2.29e-02 | reg: 3.49e+00 : 100%|██| 20/20 [00:02<00:00,  9.38it/s]\n",
      "train loss: 3.45e-03 | test loss: 5.62e-03 | reg: 1.09e+01 : 100%|██| 50/50 [00:00<00:00, 85.41it/s]\n"
     ]
    },
    {
     "name": "stdout",
     "output_type": "stream",
     "text": [
      "r2 is 1.0000004768371582\n",
      "r2 is 1.000000238418579\n",
      "Best value at boundary.\n",
      "r2 is 0.9999625086784363\n"
     ]
    },
    {
     "name": "stderr",
     "output_type": "stream",
     "text": [
      "train loss: 3.45e-03 | test loss: 5.62e-03 | reg: 1.16e+01 : 100%|█| 50/50 [00:00<00:00, 119.19it/s]\n",
      "/Users/gal.yona/Documents/MSc/Thesis/ImplicitNeuralSurfaces/forked_pykan/pykan/kan/KAN.py:344: UserWarning:\n",
      "\n",
      "std(): degrees of freedom is <= 0. Correction should be strictly less than the reduction factor (input numel divided by output numel). (Triggered internally at /Users/runner/work/pytorch/pytorch/pytorch/aten/src/ATen/native/ReduceOps.cpp:1760.)\n",
      "\n"
     ]
    },
    {
     "name": "stdout",
     "output_type": "stream",
     "text": [
      "0.7*(-0.09*(0.37 - x_2)**3 - 0.e-2*(-x_1 - 0.59)**4 - 1)**2 - 0.71\n",
      "sampled_index 69 signature  tensor([[-0.1648,  0.0110,  0.4288,  0.0651, -0.0331, -0.0376]],\n",
      "       grad_fn=<StackBackward0>)\n",
      "sampled_index 69 signature  tensor([[-0.1588,  0.0140,  0.3670,  0.0905, -0.0391, -0.0478]],\n",
      "       grad_fn=<StackBackward0>)\n",
      "Number of vertices: 106712\n",
      "dataset full size: 364\n"
     ]
    },
    {
     "name": "stderr",
     "output_type": "stream",
     "text": [
      "train loss: 6.09e-02 | test loss: 5.96e-02 | reg: 2.84e+00 : 100%|██| 20/20 [00:02<00:00,  6.98it/s]\n",
      "train loss: 3.21e-03 | test loss: 3.77e-02 | reg: 2.36e+00 : 100%|██| 50/50 [00:01<00:00, 25.42it/s]\n"
     ]
    },
    {
     "name": "stdout",
     "output_type": "stream",
     "text": [
      "r2 is 0.9999719858169556\n",
      "r2 is 0.986235499382019\n",
      "r2 is 0.8176374435424805\n",
      "r2 is not very high, please double check if you are choosing the correct symbolic function.\n"
     ]
    },
    {
     "name": "stderr",
     "output_type": "stream",
     "text": [
      "train loss: 5.41e-03 | test loss: 8.14e-03 | reg: 3.56e+00 : 100%|██| 50/50 [00:01<00:00, 43.70it/s]\n",
      "/Users/gal.yona/Documents/MSc/Thesis/ImplicitNeuralSurfaces/forked_pykan/pykan/kan/KAN.py:344: UserWarning:\n",
      "\n",
      "std(): degrees of freedom is <= 0. Correction should be strictly less than the reduction factor (input numel divided by output numel). (Triggered internally at /Users/runner/work/pytorch/pytorch/pytorch/aten/src/ATen/native/ReduceOps.cpp:1760.)\n",
      "\n"
     ]
    },
    {
     "name": "stdout",
     "output_type": "stream",
     "text": [
      "-198.67*(-0.04*(-0.19*x_1 - 1)**4 + (-x_2 - 0.24)**3 + 0.05)**2\n",
      "Number of vertices: 106712\n",
      "dataset down sampled size: 292\n"
     ]
    },
    {
     "name": "stderr",
     "output_type": "stream",
     "text": [
      "train loss: 5.42e-02 | test loss: 5.33e-02 | reg: 2.94e+00 : 100%|██| 20/20 [00:02<00:00,  8.66it/s]\n",
      "train loss: 5.08e-03 | test loss: 8.00e-03 | reg: 2.61e+00 : 100%|█| 50/50 [00:00<00:00, 114.53it/s]\n"
     ]
    },
    {
     "name": "stdout",
     "output_type": "stream",
     "text": [
      "r2 is 1.0000003576278687\n",
      "r2 is 1.0000004768371582\n",
      "r2 is 0.9999998211860657\n"
     ]
    },
    {
     "name": "stderr",
     "output_type": "stream",
     "text": [
      "train loss: 5.08e-03 | test loss: 8.00e-03 | reg: 3.58e+00 : 100%|██| 50/50 [00:00<00:00, 91.38it/s]\n",
      "/Users/gal.yona/Documents/MSc/Thesis/ImplicitNeuralSurfaces/forked_pykan/pykan/kan/KAN.py:344: UserWarning:\n",
      "\n",
      "std(): degrees of freedom is <= 0. Correction should be strictly less than the reduction factor (input numel divided by output numel). (Triggered internally at /Users/runner/work/pytorch/pytorch/pytorch/aten/src/ATen/native/ReduceOps.cpp:1760.)\n",
      "\n"
     ]
    },
    {
     "name": "stdout",
     "output_type": "stream",
     "text": [
      "-198.04*(-0.04*(-0.19*x_1 - 1)**4 + (-x_2 - 0.24)**3 + 0.05)**2\n",
      "sampled_index 70 signature  tensor([[ 5.8595e+00, -7.7545e-02,  1.7060e+01,  1.4828e+02,  7.5988e-02,\n",
      "          4.8919e+01]], grad_fn=<StackBackward0>)\n",
      "sampled_index 70 signature  tensor([[ 5.8301e+00, -1.0349e-01,  1.7091e+01,  1.4925e+02,  1.0122e-01,\n",
      "          4.8351e+01]], grad_fn=<StackBackward0>)\n",
      "Number of vertices: 106712\n",
      "dataset full size: 286\n"
     ]
    },
    {
     "name": "stderr",
     "output_type": "stream",
     "text": [
      "train loss: 4.29e-02 | test loss: 4.39e-02 | reg: 3.53e+00 : 100%|██| 20/20 [00:02<00:00,  8.94it/s]\n",
      "train loss: 1.43e-03 | test loss: 2.95e-01 | reg: 5.43e+00 : 100%|██| 50/50 [00:02<00:00, 18.02it/s]\n"
     ]
    },
    {
     "name": "stdout",
     "output_type": "stream",
     "text": [
      "r2 is 0.9885293841362\n",
      "r2 is 0.9956233501434326\n",
      "Best value at boundary.\n",
      "r2 is 0.46372148394584656\n",
      "r2 is not very high, please double check if you are choosing the correct symbolic function.\n"
     ]
    },
    {
     "name": "stderr",
     "output_type": "stream",
     "text": [
      "train loss: 2.49e-03 | test loss: 9.23e-03 | reg: 1.03e+01 : 100%|██| 50/50 [00:00<00:00, 67.58it/s]\n",
      "/Users/gal.yona/Documents/MSc/Thesis/ImplicitNeuralSurfaces/forked_pykan/pykan/kan/KAN.py:344: UserWarning:\n",
      "\n",
      "std(): degrees of freedom is <= 0. Correction should be strictly less than the reduction factor (input numel divided by output numel). (Triggered internally at /Users/runner/work/pytorch/pytorch/pytorch/aten/src/ATen/native/ReduceOps.cpp:1760.)\n",
      "\n"
     ]
    },
    {
     "name": "stdout",
     "output_type": "stream",
     "text": [
      "0.95*(-(0.23 - x_2)**3 + 0.06*(1 - 0.55*x_1)**4 + 0.29)**2 - 0.1\n",
      "Number of vertices: 106712\n",
      "dataset down sampled size: 229\n"
     ]
    },
    {
     "name": "stderr",
     "output_type": "stream",
     "text": [
      "train loss: 3.40e-02 | test loss: 3.55e-02 | reg: 3.45e+00 : 100%|██| 20/20 [00:02<00:00,  8.45it/s]\n",
      "train loss: 2.53e-03 | test loss: 9.15e-03 | reg: 9.17e+00 : 100%|█| 50/50 [00:00<00:00, 111.69it/s]\n"
     ]
    },
    {
     "name": "stdout",
     "output_type": "stream",
     "text": [
      "r2 is 1.0000003576278687\n",
      "r2 is 1.0000004768371582\n",
      "Best value at boundary.\n",
      "r2 is 1.000000238418579\n"
     ]
    },
    {
     "name": "stderr",
     "output_type": "stream",
     "text": [
      "train loss: 2.53e-03 | test loss: 9.12e-03 | reg: 1.03e+01 : 100%|██| 50/50 [00:00<00:00, 87.18it/s]\n",
      "/Users/gal.yona/Documents/MSc/Thesis/ImplicitNeuralSurfaces/forked_pykan/pykan/kan/KAN.py:344: UserWarning:\n",
      "\n",
      "std(): degrees of freedom is <= 0. Correction should be strictly less than the reduction factor (input numel divided by output numel). (Triggered internally at /Users/runner/work/pytorch/pytorch/pytorch/aten/src/ATen/native/ReduceOps.cpp:1760.)\n",
      "\n"
     ]
    },
    {
     "name": "stdout",
     "output_type": "stream",
     "text": [
      "0.96*(-(0.23 - x_2)**3 + 0.06*(1 - 0.54*x_1)**4 + 0.29)**2 - 0.1\n",
      "sampled_index 71 signature  tensor([[ 0.3253, -0.1328, -0.0322, -1.2021, -0.2753,  0.3490]],\n",
      "       grad_fn=<StackBackward0>)\n",
      "sampled_index 71 signature  tensor([[ 0.3270, -0.1325, -0.0315, -1.2068, -0.2741,  0.3483]],\n",
      "       grad_fn=<StackBackward0>)\n",
      "Number of vertices: 106712\n",
      "dataset full size: 265\n"
     ]
    },
    {
     "name": "stderr",
     "output_type": "stream",
     "text": [
      "train loss: 2.04e-02 | test loss: 2.39e-02 | reg: 3.25e+00 : 100%|██| 20/20 [00:02<00:00,  9.38it/s]\n",
      "train loss: 7.30e-03 | test loss: 1.61e-02 | reg: 1.48e+01 : 100%|██| 50/50 [00:02<00:00, 21.71it/s]\n"
     ]
    },
    {
     "name": "stdout",
     "output_type": "stream",
     "text": [
      "r2 is 0.7520154714584351\n",
      "r2 is not very high, please double check if you are choosing the correct symbolic function.\n",
      "r2 is 0.9975899457931519\n",
      "r2 is 0.6223211288452148\n",
      "r2 is not very high, please double check if you are choosing the correct symbolic function.\n"
     ]
    },
    {
     "name": "stderr",
     "output_type": "stream",
     "text": [
      "train loss: 9.94e-03 | test loss: 1.25e-02 | reg: 1.76e+01 : 100%|██| 50/50 [00:00<00:00, 56.78it/s]\n",
      "/Users/gal.yona/Documents/MSc/Thesis/ImplicitNeuralSurfaces/forked_pykan/pykan/kan/KAN.py:344: UserWarning:\n",
      "\n",
      "std(): degrees of freedom is <= 0. Correction should be strictly less than the reduction factor (input numel divided by output numel). (Triggered internally at /Users/runner/work/pytorch/pytorch/pytorch/aten/src/ATen/native/ReduceOps.cpp:1760.)\n",
      "\n"
     ]
    },
    {
     "name": "stdout",
     "output_type": "stream",
     "text": [
      "35789.38*((0.09 - x_1)**4 + 0.46*(-x_2 - 0.02)**3)**2 + 0.02\n",
      "Number of vertices: 106712\n",
      "dataset down sampled size: 213\n"
     ]
    },
    {
     "name": "stderr",
     "output_type": "stream",
     "text": [
      "train loss: 3.58e-02 | test loss: 3.87e-02 | reg: 3.53e+00 : 100%|██| 20/20 [00:02<00:00,  9.49it/s]\n",
      "train loss: 9.87e-03 | test loss: 1.22e-02 | reg: 1.62e+01 : 100%|██| 50/50 [00:01<00:00, 44.59it/s]\n"
     ]
    },
    {
     "name": "stdout",
     "output_type": "stream",
     "text": [
      "r2 is 1.0000001192092896\n",
      "Best value at boundary.\n",
      "r2 is 0.9989371299743652\n",
      "r2 is 0.9999212026596069\n"
     ]
    },
    {
     "name": "stderr",
     "output_type": "stream",
     "text": [
      "train loss: 9.86e-03 | test loss: 1.22e-02 | reg: 1.75e+01 : 100%|██| 50/50 [00:00<00:00, 60.53it/s]\n",
      "/Users/gal.yona/Documents/MSc/Thesis/ImplicitNeuralSurfaces/forked_pykan/pykan/kan/KAN.py:344: UserWarning:\n",
      "\n",
      "std(): degrees of freedom is <= 0. Correction should be strictly less than the reduction factor (input numel divided by output numel). (Triggered internally at /Users/runner/work/pytorch/pytorch/pytorch/aten/src/ATen/native/ReduceOps.cpp:1760.)\n",
      "\n"
     ]
    },
    {
     "name": "stdout",
     "output_type": "stream",
     "text": [
      "29970.59*((0.09 - x_1)**4 + 0.51*(-x_2 - 0.02)**3)**2 + 0.02\n",
      "sampled_index 72 signature  tensor([[ -0.5409,  -0.5430, -35.4388, -10.4717, -41.2293,  32.8870]],\n",
      "       grad_fn=<StackBackward0>)\n",
      "sampled_index 72 signature  tensor([[ -0.5116,  -0.7703, -33.6790, -12.2802, -51.8434,  39.9699]],\n",
      "       grad_fn=<StackBackward0>)\n",
      "Number of vertices: 106712\n",
      "dataset full size: 282\n"
     ]
    },
    {
     "name": "stderr",
     "output_type": "stream",
     "text": [
      "train loss: 9.92e-03 | test loss: 1.03e-02 | reg: 3.47e+00 : 100%|██| 20/20 [00:02<00:00,  8.79it/s]\n",
      "train loss: 1.52e-03 | test loss: 7.88e-03 | reg: 4.51e+00 : 100%|██| 50/50 [00:02<00:00, 23.51it/s]\n"
     ]
    },
    {
     "name": "stdout",
     "output_type": "stream",
     "text": [
      "r2 is 0.9981384873390198\n",
      "r2 is 0.9944788217544556\n",
      "r2 is 0.6670417785644531\n",
      "r2 is not very high, please double check if you are choosing the correct symbolic function.\n"
     ]
    },
    {
     "name": "stderr",
     "output_type": "stream",
     "text": [
      "train loss: 1.86e-03 | test loss: 2.06e-03 | reg: 5.82e+00 : 100%|██| 50/50 [00:00<00:00, 52.65it/s]\n",
      "/Users/gal.yona/Documents/MSc/Thesis/ImplicitNeuralSurfaces/forked_pykan/pykan/kan/KAN.py:344: UserWarning:\n",
      "\n",
      "std(): degrees of freedom is <= 0. Correction should be strictly less than the reduction factor (input numel divided by output numel). (Triggered internally at /Users/runner/work/pytorch/pytorch/pytorch/aten/src/ATen/native/ReduceOps.cpp:1760.)\n",
      "\n"
     ]
    },
    {
     "name": "stdout",
     "output_type": "stream",
     "text": [
      "30800.06*((0.06 - x_1)**4 + 0.02*(0.21 - x_2)**3)**2 - 0.e-2\n",
      "Number of vertices: 106712\n",
      "dataset down sampled size: 226\n"
     ]
    },
    {
     "name": "stderr",
     "output_type": "stream",
     "text": [
      "train loss: 5.82e-03 | test loss: 6.39e-03 | reg: 3.44e+00 : 100%|██| 20/20 [00:02<00:00,  9.29it/s]\n",
      "train loss: 1.82e-03 | test loss: 2.04e-03 | reg: 5.64e+00 : 100%|██| 50/50 [00:00<00:00, 58.44it/s]\n"
     ]
    },
    {
     "name": "stdout",
     "output_type": "stream",
     "text": [
      "r2 is 1.000000238418579\n",
      "r2 is 1.0000003576278687\n",
      "Best value at boundary.\n",
      "r2 is 0.9960578083992004\n"
     ]
    },
    {
     "name": "stderr",
     "output_type": "stream",
     "text": [
      "train loss: 1.82e-03 | test loss: 2.04e-03 | reg: 5.70e+00 : 100%|██| 50/50 [00:01<00:00, 48.55it/s]\n",
      "/Users/gal.yona/Documents/MSc/Thesis/ImplicitNeuralSurfaces/forked_pykan/pykan/kan/KAN.py:344: UserWarning:\n",
      "\n",
      "std(): degrees of freedom is <= 0. Correction should be strictly less than the reduction factor (input numel divided by output numel). (Triggered internally at /Users/runner/work/pytorch/pytorch/pytorch/aten/src/ATen/native/ReduceOps.cpp:1760.)\n",
      "\n"
     ]
    },
    {
     "name": "stdout",
     "output_type": "stream",
     "text": [
      "30761.12*((0.06 - x_1)**4 + 0.02*(0.21 - x_2)**3)**2 - 0.e-2\n",
      "sampled_index 73 signature  tensor([[ 0.7609,  0.3517, -4.1419, 17.1318, -9.1947,  8.4494]],\n",
      "       grad_fn=<StackBackward0>)\n",
      "sampled_index 73 signature  tensor([[ 0.7703,  0.3632, -4.0262, 17.2796, -9.0265,  8.7402]],\n",
      "       grad_fn=<StackBackward0>)\n",
      "Number of vertices: 106712\n",
      "dataset full size: 309\n"
     ]
    },
    {
     "name": "stderr",
     "output_type": "stream",
     "text": [
      "train loss: 2.41e-02 | test loss: 2.17e-02 | reg: 3.46e+00 : 100%|██| 20/20 [00:02<00:00,  8.51it/s]\n",
      "train loss: 2.35e-03 | test loss: 1.53e-02 | reg: 4.13e+00 : 100%|██| 50/50 [00:01<00:00, 25.13it/s]\n"
     ]
    },
    {
     "name": "stdout",
     "output_type": "stream",
     "text": [
      "r2 is 0.998931884765625\n",
      "r2 is 0.9947640299797058\n",
      "r2 is 0.8468503355979919\n",
      "r2 is not very high, please double check if you are choosing the correct symbolic function.\n"
     ]
    },
    {
     "name": "stderr",
     "output_type": "stream",
     "text": [
      "train loss: 4.77e-03 | test loss: 8.70e-03 | reg: 5.23e+00 : 100%|██| 50/50 [00:00<00:00, 55.73it/s]\n",
      "/Users/gal.yona/Documents/MSc/Thesis/ImplicitNeuralSurfaces/forked_pykan/pykan/kan/KAN.py:344: UserWarning:\n",
      "\n",
      "std(): degrees of freedom is <= 0. Correction should be strictly less than the reduction factor (input numel divided by output numel). (Triggered internally at /Users/runner/work/pytorch/pytorch/pytorch/aten/src/ATen/native/ReduceOps.cpp:1760.)\n",
      "\n"
     ]
    },
    {
     "name": "stdout",
     "output_type": "stream",
     "text": [
      "13105.01*((0.02 - x_2)**3 - 0.13*(-x_1 - 0.25)**4)**2 - 0.e-2\n",
      "Number of vertices: 106712\n",
      "dataset down sampled size: 248\n"
     ]
    },
    {
     "name": "stderr",
     "output_type": "stream",
     "text": [
      "train loss: 2.55e-02 | test loss: 2.31e-02 | reg: 3.41e+00 : 100%|██| 20/20 [00:02<00:00,  9.36it/s]\n",
      "train loss: 4.60e-03 | test loss: 7.85e-03 | reg: 4.82e+00 : 100%|██| 50/50 [00:00<00:00, 53.54it/s]\n"
     ]
    },
    {
     "name": "stdout",
     "output_type": "stream",
     "text": [
      "r2 is 1.0000003576278687\n",
      "r2 is 0.9999984502792358\n",
      "r2 is 0.9999809861183167\n"
     ]
    },
    {
     "name": "stderr",
     "output_type": "stream",
     "text": [
      "train loss: 4.60e-03 | test loss: 7.85e-03 | reg: 5.23e+00 : 100%|██| 50/50 [00:00<00:00, 87.74it/s]\n",
      "/Users/gal.yona/Documents/MSc/Thesis/ImplicitNeuralSurfaces/forked_pykan/pykan/kan/KAN.py:344: UserWarning:\n",
      "\n",
      "std(): degrees of freedom is <= 0. Correction should be strictly less than the reduction factor (input numel divided by output numel). (Triggered internally at /Users/runner/work/pytorch/pytorch/pytorch/aten/src/ATen/native/ReduceOps.cpp:1760.)\n",
      "\n"
     ]
    },
    {
     "name": "stdout",
     "output_type": "stream",
     "text": [
      "13162.92*((0.02 - x_2)**3 - 0.12*(-x_1 - 0.25)**4)**2 - 0.e-2\n",
      "sampled_index 74 signature  tensor([[ -1.0773,   0.6421,  38.0770,  18.6262,   3.6025, -64.1627]],\n",
      "       grad_fn=<StackBackward0>)\n",
      "sampled_index 74 signature  tensor([[ -1.0870,   0.6702,  37.3496,  18.3856,   4.1455, -60.5733]],\n",
      "       grad_fn=<StackBackward0>)\n",
      "Number of vertices: 106712\n",
      "dataset full size: 267\n"
     ]
    },
    {
     "name": "stderr",
     "output_type": "stream",
     "text": [
      "train loss: 1.02e-02 | test loss: 1.17e-02 | reg: 3.38e+00 : 100%|██| 20/20 [00:02<00:00,  8.27it/s]\n",
      "train loss: 8.18e-04 | test loss: 2.80e-03 | reg: 3.64e+00 : 100%|██| 50/50 [00:02<00:00, 24.15it/s]\n"
     ]
    },
    {
     "name": "stdout",
     "output_type": "stream",
     "text": [
      "Best value at boundary.\n",
      "r2 is 0.9315609931945801\n",
      "r2 is 0.9989510178565979\n",
      "r2 is 0.6628077626228333\n",
      "r2 is not very high, please double check if you are choosing the correct symbolic function.\n"
     ]
    },
    {
     "name": "stderr",
     "output_type": "stream",
     "text": [
      "train loss: 1.06e-03 | test loss: 3.12e-03 | reg: 5.86e+00 : 100%|██| 50/50 [00:01<00:00, 42.17it/s]\n",
      "/Users/gal.yona/Documents/MSc/Thesis/ImplicitNeuralSurfaces/forked_pykan/pykan/kan/KAN.py:344: UserWarning:\n",
      "\n",
      "std(): degrees of freedom is <= 0. Correction should be strictly less than the reduction factor (input numel divided by output numel). (Triggered internally at /Users/runner/work/pytorch/pytorch/pytorch/aten/src/ATen/native/ReduceOps.cpp:1760.)\n",
      "\n"
     ]
    },
    {
     "name": "stdout",
     "output_type": "stream",
     "text": [
      "56699.61*(0.02 - x_1)**8 - 0.08\n",
      "Number of vertices: 106712\n",
      "dataset down sampled size: 214\n"
     ]
    },
    {
     "name": "stderr",
     "output_type": "stream",
     "text": [
      "train loss: 8.95e-03 | test loss: 1.05e-02 | reg: 3.25e+00 : 100%|██| 20/20 [00:02<00:00,  9.28it/s]\n",
      "train loss: 1.06e-03 | test loss: 2.86e-03 | reg: 6.09e+00 : 100%|██| 50/50 [00:00<00:00, 51.68it/s]\n"
     ]
    },
    {
     "name": "stdout",
     "output_type": "stream",
     "text": [
      "Best value at boundary.\n",
      "r2 is 0.999272346496582\n",
      "r2 is 0.9999675154685974\n",
      "Best value at boundary.\n",
      "r2 is 0.9999083876609802\n"
     ]
    },
    {
     "name": "stderr",
     "output_type": "stream",
     "text": [
      "train loss: 1.06e-03 | test loss: 2.85e-03 | reg: 6.14e+00 : 100%|█| 50/50 [00:00<00:00, 117.25it/s]\n",
      "/Users/gal.yona/Documents/MSc/Thesis/ImplicitNeuralSurfaces/forked_pykan/pykan/kan/KAN.py:344: UserWarning:\n",
      "\n",
      "std(): degrees of freedom is <= 0. Correction should be strictly less than the reduction factor (input numel divided by output numel). (Triggered internally at /Users/runner/work/pytorch/pytorch/pytorch/aten/src/ATen/native/ReduceOps.cpp:1760.)\n",
      "\n"
     ]
    },
    {
     "name": "stdout",
     "output_type": "stream",
     "text": [
      "21278.46*(0.02 - x_1)**8 - 0.25\n",
      "sampled_index 75 signature  tensor([[ -0.4002,   0.0887, -32.6868,  -1.7889,   8.6910,   2.3867]],\n",
      "       grad_fn=<StackBackward0>)\n",
      "sampled_index 75 signature  tensor([[ -0.4160,   0.0913, -35.1064,  -1.7473,   9.1304,   2.4525]],\n",
      "       grad_fn=<StackBackward0>)\n",
      "Number of vertices: 106712\n",
      "dataset full size: 291\n"
     ]
    },
    {
     "name": "stderr",
     "output_type": "stream",
     "text": [
      "train loss: 2.55e-02 | test loss: 2.57e-02 | reg: 3.51e+00 : 100%|██| 20/20 [00:02<00:00,  8.97it/s]\n",
      "train loss: 2.03e-03 | test loss: 2.32e-03 | reg: 2.91e+00 : 100%|██| 50/50 [00:01<00:00, 26.94it/s]\n"
     ]
    },
    {
     "name": "stdout",
     "output_type": "stream",
     "text": [
      "r2 is 0.9935571551322937\n",
      "r2 is 0.7144717574119568\n",
      "r2 is not very high, please double check if you are choosing the correct symbolic function.\n",
      "r2 is 0.8397283554077148\n",
      "r2 is not very high, please double check if you are choosing the correct symbolic function.\n"
     ]
    },
    {
     "name": "stderr",
     "output_type": "stream",
     "text": [
      "train loss: 2.70e-03 | test loss: 2.89e-03 | reg: 3.54e+00 : 100%|██| 50/50 [00:00<00:00, 81.19it/s]\n",
      "/Users/gal.yona/Documents/MSc/Thesis/ImplicitNeuralSurfaces/forked_pykan/pykan/kan/KAN.py:344: UserWarning:\n",
      "\n",
      "std(): degrees of freedom is <= 0. Correction should be strictly less than the reduction factor (input numel divided by output numel). (Triggered internally at /Users/runner/work/pytorch/pytorch/pytorch/aten/src/ATen/native/ReduceOps.cpp:1760.)\n",
      "\n"
     ]
    },
    {
     "name": "stdout",
     "output_type": "stream",
     "text": [
      "3.11*(-0.16*(-0.76*x_1 - 1)**4 - (-x_2 - 0.14)**3 + 0.14)**2\n",
      "Number of vertices: 106712\n",
      "dataset down sampled size: 233\n"
     ]
    },
    {
     "name": "stderr",
     "output_type": "stream",
     "text": [
      "train loss: 1.46e-02 | test loss: 1.48e-02 | reg: 3.14e+00 : 100%|██| 20/20 [00:02<00:00,  9.06it/s]\n",
      "train loss: 2.67e-03 | test loss: 2.90e-03 | reg: 2.88e+00 : 100%|██| 50/50 [00:00<00:00, 69.23it/s]\n"
     ]
    },
    {
     "name": "stdout",
     "output_type": "stream",
     "text": [
      "r2 is 1.0000003576278687\n",
      "r2 is 0.9999983906745911\n",
      "r2 is 0.9999844431877136\n"
     ]
    },
    {
     "name": "stderr",
     "output_type": "stream",
     "text": [
      "train loss: 2.67e-03 | test loss: 2.90e-03 | reg: 3.44e+00 : 100%|█| 50/50 [00:00<00:00, 101.08it/s]\n",
      "/Users/gal.yona/Documents/MSc/Thesis/ImplicitNeuralSurfaces/forked_pykan/pykan/kan/KAN.py:344: UserWarning:\n",
      "\n",
      "std(): degrees of freedom is <= 0. Correction should be strictly less than the reduction factor (input numel divided by output numel). (Triggered internally at /Users/runner/work/pytorch/pytorch/pytorch/aten/src/ATen/native/ReduceOps.cpp:1760.)\n",
      "\n"
     ]
    },
    {
     "name": "stdout",
     "output_type": "stream",
     "text": [
      "1.24*(-0.28*(-0.76*x_1 - 1)**4 - (-x_2 - 0.14)**3 + 0.25)**2\n",
      "sampled_index 76 signature  tensor([[-0.7557, -0.1580,  3.6215,  0.2742,  4.8000,  1.0763]],\n",
      "       grad_fn=<StackBackward0>)\n",
      "sampled_index 76 signature  tensor([[-0.9325, -0.1016,  5.0466,  0.1728,  3.8926,  0.7161]],\n",
      "       grad_fn=<StackBackward0>)\n",
      "Number of vertices: 106712\n",
      "dataset full size: 297\n"
     ]
    },
    {
     "name": "stderr",
     "output_type": "stream",
     "text": [
      "train loss: 7.61e-03 | test loss: 1.35e-02 | reg: 3.69e+00 : 100%|██| 20/20 [00:02<00:00,  9.17it/s]\n",
      "train loss: 7.57e-04 | test loss: 1.94e-02 | reg: 4.64e+00 : 100%|██| 50/50 [00:02<00:00, 21.22it/s]\n"
     ]
    },
    {
     "name": "stdout",
     "output_type": "stream",
     "text": [
      "r2 is 0.9936807751655579\n",
      "r2 is 0.9913403391838074\n",
      "r2 is 0.9181784987449646\n"
     ]
    },
    {
     "name": "stderr",
     "output_type": "stream",
     "text": [
      "train loss: 1.34e-03 | test loss: 9.92e-03 | reg: 5.74e+00 : 100%|██| 50/50 [00:00<00:00, 58.43it/s]\n",
      "/Users/gal.yona/Documents/MSc/Thesis/ImplicitNeuralSurfaces/forked_pykan/pykan/kan/KAN.py:344: UserWarning:\n",
      "\n",
      "std(): degrees of freedom is <= 0. Correction should be strictly less than the reduction factor (input numel divided by output numel). (Triggered internally at /Users/runner/work/pytorch/pytorch/pytorch/aten/src/ATen/native/ReduceOps.cpp:1760.)\n",
      "\n"
     ]
    },
    {
     "name": "stdout",
     "output_type": "stream",
     "text": [
      "-2.48*((0.37 - x_2)**3 + 0.24*(1 - 0.64*x_1)**4 - 0.3)**2\n",
      "Number of vertices: 106712\n",
      "dataset down sampled size: 238\n"
     ]
    },
    {
     "name": "stderr",
     "output_type": "stream",
     "text": [
      "train loss: 9.09e-03 | test loss: 1.38e-02 | reg: 3.71e+00 : 100%|██| 20/20 [00:02<00:00,  9.43it/s]\n",
      "train loss: 1.36e-03 | test loss: 9.28e-03 | reg: 5.64e+00 : 100%|██| 50/50 [00:00<00:00, 68.67it/s]\n"
     ]
    },
    {
     "name": "stdout",
     "output_type": "stream",
     "text": [
      "r2 is 1.0000003576278687\n",
      "r2 is 1.0000004768371582\n",
      "r2 is 0.9964301586151123\n"
     ]
    },
    {
     "name": "stderr",
     "output_type": "stream",
     "text": [
      "train loss: 1.36e-03 | test loss: 9.28e-03 | reg: 5.73e+00 : 100%|█| 50/50 [00:00<00:00, 108.74it/s]\n",
      "/Users/gal.yona/Documents/MSc/Thesis/ImplicitNeuralSurfaces/forked_pykan/pykan/kan/KAN.py:344: UserWarning:\n",
      "\n",
      "std(): degrees of freedom is <= 0. Correction should be strictly less than the reduction factor (input numel divided by output numel). (Triggered internally at /Users/runner/work/pytorch/pytorch/pytorch/aten/src/ATen/native/ReduceOps.cpp:1760.)\n",
      "\n"
     ]
    },
    {
     "name": "stdout",
     "output_type": "stream",
     "text": [
      "-2.45*((0.37 - x_2)**3 + 0.24*(1 - 0.64*x_1)**4 - 0.31)**2\n",
      "sampled_index 77 signature  tensor([[ 1.1951, -0.3618,  1.6849, 11.7614, -0.4317, 14.5778]],\n",
      "       grad_fn=<StackBackward0>)\n",
      "sampled_index 77 signature  tensor([[ 1.2066, -0.3619,  1.6467, 11.7954, -0.4422, 14.7961]],\n",
      "       grad_fn=<StackBackward0>)\n",
      "Number of vertices: 106712\n",
      "dataset full size: 294\n"
     ]
    },
    {
     "name": "stderr",
     "output_type": "stream",
     "text": [
      "train loss: 9.61e-03 | test loss: 1.12e-02 | reg: 3.26e+00 : 100%|██| 20/20 [00:02<00:00,  9.00it/s]\n",
      "train loss: 1.17e-03 | test loss: 4.06e-03 | reg: 2.91e+00 : 100%|██| 50/50 [00:02<00:00, 22.25it/s]\n"
     ]
    },
    {
     "name": "stdout",
     "output_type": "stream",
     "text": [
      "Best value at boundary.\n",
      "r2 is 0.7952873706817627\n",
      "r2 is not very high, please double check if you are choosing the correct symbolic function.\n",
      "r2 is 0.9905816316604614\n",
      "r2 is 0.5838151574134827\n",
      "r2 is not very high, please double check if you are choosing the correct symbolic function.\n"
     ]
    },
    {
     "name": "stderr",
     "output_type": "stream",
     "text": [
      "train loss: 1.57e-03 | test loss: 2.12e-03 | reg: 1.13e+01 : 100%|██| 50/50 [00:01<00:00, 25.35it/s]\n",
      "/Users/gal.yona/Documents/MSc/Thesis/ImplicitNeuralSurfaces/forked_pykan/pykan/kan/KAN.py:344: UserWarning:\n",
      "\n",
      "std(): degrees of freedom is <= 0. Correction should be strictly less than the reduction factor (input numel divided by output numel). (Triggered internally at /Users/runner/work/pytorch/pytorch/pytorch/aten/src/ATen/native/ReduceOps.cpp:1760.)\n",
      "\n"
     ]
    },
    {
     "name": "stdout",
     "output_type": "stream",
     "text": [
      "49869.1*x_1**8 - 0.36\n",
      "Number of vertices: 106712\n",
      "dataset down sampled size: 236\n"
     ]
    },
    {
     "name": "stderr",
     "output_type": "stream",
     "text": [
      "train loss: 1.70e-02 | test loss: 1.75e-02 | reg: 3.33e+00 : 100%|██| 20/20 [00:02<00:00,  8.52it/s]\n",
      "train loss: 1.59e-03 | test loss: 2.15e-03 | reg: 1.11e+01 : 100%|██| 50/50 [00:00<00:00, 69.30it/s]\n"
     ]
    },
    {
     "name": "stdout",
     "output_type": "stream",
     "text": [
      "Best value at boundary.\n",
      "r2 is 0.9436734318733215\n",
      "r2 is 0.9999997019767761\n",
      "Best value at boundary.\n",
      "r2 is 0.9999919533729553\n"
     ]
    },
    {
     "name": "stderr",
     "output_type": "stream",
     "text": [
      "train loss: 1.66e-03 | test loss: 2.10e-03 | reg: 1.12e+01 : 100%|██| 50/50 [00:00<00:00, 68.53it/s]\n",
      "/Users/gal.yona/Documents/MSc/Thesis/ImplicitNeuralSurfaces/forked_pykan/pykan/kan/KAN.py:344: UserWarning:\n",
      "\n",
      "std(): degrees of freedom is <= 0. Correction should be strictly less than the reduction factor (input numel divided by output numel). (Triggered internally at /Users/runner/work/pytorch/pytorch/pytorch/aten/src/ATen/native/ReduceOps.cpp:1760.)\n",
      "\n"
     ]
    },
    {
     "name": "stdout",
     "output_type": "stream",
     "text": [
      "20763.1*(0.01 - x_1**4)**2 - 0.86\n",
      "sampled_index 78 signature  tensor([[1.6547e-01, 9.4683e-03, 1.0082e+01, 1.0996e+00, 6.0353e+00, 6.9260e-02]],\n",
      "       grad_fn=<StackBackward0>)\n",
      "sampled_index 78 signature  tensor([[ 1.5165e-01,  6.8893e-13, -8.5386e-05,  1.1221e+00, -5.1794e-05,\n",
      "          5.0853e-12]], grad_fn=<StackBackward0>)\n",
      "Number of vertices: 106712\n",
      "dataset full size: 292\n"
     ]
    },
    {
     "name": "stderr",
     "output_type": "stream",
     "text": [
      "train loss: 1.18e-02 | test loss: 1.23e-02 | reg: 3.34e+00 : 100%|██| 20/20 [00:02<00:00,  7.75it/s]\n",
      "train loss: 4.12e-03 | test loss: 4.42e-03 | reg: 3.50e+00 : 100%|██| 50/50 [00:01<00:00, 26.51it/s]\n"
     ]
    },
    {
     "name": "stdout",
     "output_type": "stream",
     "text": [
      "Best value at boundary.\n",
      "r2 is 0.867546021938324\n",
      "r2 is not very high, please double check if you are choosing the correct symbolic function.\n",
      "r2 is 0.9991119503974915\n",
      "r2 is 0.7782586216926575\n",
      "r2 is not very high, please double check if you are choosing the correct symbolic function.\n"
     ]
    },
    {
     "name": "stderr",
     "output_type": "stream",
     "text": [
      "train loss: 5.07e-03 | test loss: 5.94e-03 | reg: 4.34e+00 : 100%|██| 50/50 [00:00<00:00, 50.21it/s]\n",
      "/Users/gal.yona/Documents/MSc/Thesis/ImplicitNeuralSurfaces/forked_pykan/pykan/kan/KAN.py:344: UserWarning:\n",
      "\n",
      "std(): degrees of freedom is <= 0. Correction should be strictly less than the reduction factor (input numel divided by output numel). (Triggered internally at /Users/runner/work/pytorch/pytorch/pytorch/aten/src/ATen/native/ReduceOps.cpp:1760.)\n",
      "\n"
     ]
    },
    {
     "name": "stdout",
     "output_type": "stream",
     "text": [
      "-49.47*((0.15 - x_2)**3 - 0.13*(-0.18*x_1 - 1)**4 + 0.12)**2\n",
      "Number of vertices: 106712\n",
      "dataset down sampled size: 234\n"
     ]
    },
    {
     "name": "stderr",
     "output_type": "stream",
     "text": [
      "train loss: 1.46e-02 | test loss: 1.46e-02 | reg: 3.39e+00 : 100%|██| 20/20 [00:02<00:00,  9.26it/s]\n",
      "train loss: 5.19e-03 | test loss: 5.91e-03 | reg: 4.10e+00 : 100%|██| 50/50 [00:00<00:00, 62.42it/s]\n"
     ]
    },
    {
     "name": "stdout",
     "output_type": "stream",
     "text": [
      "r2 is 1.0000004768371582\n",
      "r2 is 1.0000003576278687\n",
      "r2 is 0.9997447729110718\n"
     ]
    },
    {
     "name": "stderr",
     "output_type": "stream",
     "text": [
      "train loss: 5.19e-03 | test loss: 5.91e-03 | reg: 4.35e+00 : 100%|██| 50/50 [00:00<00:00, 85.87it/s]\n",
      "/Users/gal.yona/Documents/MSc/Thesis/ImplicitNeuralSurfaces/forked_pykan/pykan/kan/KAN.py:344: UserWarning:\n",
      "\n",
      "std(): degrees of freedom is <= 0. Correction should be strictly less than the reduction factor (input numel divided by output numel). (Triggered internally at /Users/runner/work/pytorch/pytorch/pytorch/aten/src/ATen/native/ReduceOps.cpp:1760.)\n",
      "\n"
     ]
    },
    {
     "name": "stdout",
     "output_type": "stream",
     "text": [
      "-48.54*((0.15 - x_2)**3 - 0.13*(-0.18*x_1 - 1)**4 + 0.12)**2\n",
      "sampled_index 79 signature  tensor([[ 0.4928, -0.2815,  4.6385,  6.3342, -0.7436,  8.2128]],\n",
      "       grad_fn=<StackBackward0>)\n",
      "sampled_index 79 signature  tensor([[ 0.4916, -0.2760,  4.5610,  6.2113, -0.7390,  8.1179]],\n",
      "       grad_fn=<StackBackward0>)\n",
      "Number of vertices: 106712\n",
      "dataset full size: 282\n"
     ]
    },
    {
     "name": "stderr",
     "output_type": "stream",
     "text": [
      "train loss: 1.15e-02 | test loss: 1.22e-02 | reg: 3.63e+00 : 100%|██| 20/20 [00:02<00:00,  8.94it/s]\n",
      "train loss: 1.75e-03 | test loss: 2.43e-03 | reg: 2.45e+00 : 100%|██| 50/50 [00:02<00:00, 24.18it/s]\n"
     ]
    },
    {
     "name": "stdout",
     "output_type": "stream",
     "text": [
      "Best value at boundary.\n",
      "r2 is 0.902601420879364\n",
      "r2 is 0.9992356300354004\n",
      "r2 is 0.9105050563812256\n"
     ]
    },
    {
     "name": "stderr",
     "output_type": "stream",
     "text": [
      "train loss: 2.33e-03 | test loss: 2.50e-03 | reg: 3.77e+05 : 100%|██| 50/50 [00:01<00:00, 35.33it/s]\n",
      "/Users/gal.yona/Documents/MSc/Thesis/ImplicitNeuralSurfaces/forked_pykan/pykan/kan/KAN.py:344: UserWarning:\n",
      "\n",
      "std(): degrees of freedom is <= 0. Correction should be strictly less than the reduction factor (input numel divided by output numel). (Triggered internally at /Users/runner/work/pytorch/pytorch/pytorch/aten/src/ATen/native/ReduceOps.cpp:1760.)\n",
      "\n"
     ]
    },
    {
     "name": "stdout",
     "output_type": "stream",
     "text": [
      "18.01*(-0.6*(0.26 - x_1)**4 + (-x_2 - 0.19)**3)**2\n",
      "Number of vertices: 106712\n",
      "dataset down sampled size: 226\n"
     ]
    },
    {
     "name": "stderr",
     "output_type": "stream",
     "text": [
      "train loss: 1.86e-02 | test loss: 1.83e-02 | reg: 3.26e+00 : 100%|██| 20/20 [00:02<00:00,  9.35it/s]\n",
      "train loss: 2.33e-03 | test loss: 2.46e-03 | reg: 1.54e+01 : 100%|██| 50/50 [00:00<00:00, 65.13it/s]\n"
     ]
    },
    {
     "name": "stdout",
     "output_type": "stream",
     "text": [
      "r2 is 1.0000004768371582\n",
      "r2 is 1.0000004768371582\n",
      "r2 is 1.0000004768371582\n"
     ]
    },
    {
     "name": "stderr",
     "output_type": "stream",
     "text": [
      "train loss: 2.33e-03 | test loss: 2.46e-03 | reg: 3.77e+05 : 100%|█| 50/50 [00:00<00:00, 113.02it/s]\n",
      "/Users/gal.yona/Documents/MSc/Thesis/ImplicitNeuralSurfaces/forked_pykan/pykan/kan/KAN.py:344: UserWarning:\n",
      "\n",
      "std(): degrees of freedom is <= 0. Correction should be strictly less than the reduction factor (input numel divided by output numel). (Triggered internally at /Users/runner/work/pytorch/pytorch/pytorch/aten/src/ATen/native/ReduceOps.cpp:1760.)\n",
      "\n"
     ]
    },
    {
     "name": "stdout",
     "output_type": "stream",
     "text": [
      "17.88*(-0.61*(0.26 - x_1)**4 + (-x_2 - 0.19)**3)**2\n",
      "sampled_index 80 signature  tensor([[-0.4069,  0.0729, -8.7818,  0.2284,  3.3132,  0.5928]],\n",
      "       grad_fn=<StackBackward0>)\n",
      "sampled_index 80 signature  tensor([[-0.4038,  0.0717, -8.7211,  0.2278,  3.2643,  0.5834]],\n",
      "       grad_fn=<StackBackward0>)\n",
      "Number of vertices: 106712\n",
      "dataset full size: 271\n"
     ]
    },
    {
     "name": "stderr",
     "output_type": "stream",
     "text": [
      "train loss: 5.82e-03 | test loss: 6.44e-03 | reg: 3.47e+00 : 100%|██| 20/20 [00:02<00:00,  8.18it/s]\n",
      "train loss: 1.38e-03 | test loss: 2.28e-03 | reg: 3.87e+00 : 100%|██| 50/50 [00:02<00:00, 18.79it/s]\n"
     ]
    },
    {
     "name": "stdout",
     "output_type": "stream",
     "text": [
      "r2 is 0.9793936610221863\n",
      "r2 is 0.6865456700325012\n",
      "r2 is not very high, please double check if you are choosing the correct symbolic function.\n",
      "Best value at boundary.\n",
      "r2 is 0.7413501739501953\n",
      "r2 is not very high, please double check if you are choosing the correct symbolic function.\n"
     ]
    },
    {
     "name": "stderr",
     "output_type": "stream",
     "text": [
      "train loss: 1.97e-03 | test loss: 3.43e-03 | reg: 4.21e+00 : 100%|██| 50/50 [00:00<00:00, 51.74it/s]\n",
      "/Users/gal.yona/Documents/MSc/Thesis/ImplicitNeuralSurfaces/forked_pykan/pykan/kan/KAN.py:344: UserWarning:\n",
      "\n",
      "std(): degrees of freedom is <= 0. Correction should be strictly less than the reduction factor (input numel divided by output numel). (Triggered internally at /Users/runner/work/pytorch/pytorch/pytorch/aten/src/ATen/native/ReduceOps.cpp:1760.)\n",
      "\n"
     ]
    },
    {
     "name": "stdout",
     "output_type": "stream",
     "text": [
      "-173.21*((0.06 - x_2)**3 + 0.13*(1 - 0.16*x_1)**4 - 0.13)**2\n",
      "Number of vertices: 106712\n",
      "dataset down sampled size: 217\n"
     ]
    },
    {
     "name": "stderr",
     "output_type": "stream",
     "text": [
      "train loss: 3.30e-02 | test loss: 3.36e-02 | reg: 3.17e+00 : 100%|██| 20/20 [00:02<00:00,  9.13it/s]\n",
      "train loss: 1.88e-03 | test loss: 3.24e-03 | reg: 3.85e+00 : 100%|██| 50/50 [00:00<00:00, 66.51it/s]\n"
     ]
    },
    {
     "name": "stdout",
     "output_type": "stream",
     "text": [
      "r2 is 1.0000004768371582\n",
      "r2 is 0.9999982118606567\n",
      "Best value at boundary.\n",
      "r2 is 0.9994329214096069\n"
     ]
    },
    {
     "name": "stderr",
     "output_type": "stream",
     "text": [
      "train loss: 1.89e-03 | test loss: 3.22e-03 | reg: 4.21e+00 : 100%|█| 50/50 [00:00<00:00, 112.85it/s]\n",
      "/Users/gal.yona/Documents/MSc/Thesis/ImplicitNeuralSurfaces/forked_pykan/pykan/kan/KAN.py:344: UserWarning:\n",
      "\n",
      "std(): degrees of freedom is <= 0. Correction should be strictly less than the reduction factor (input numel divided by output numel). (Triggered internally at /Users/runner/work/pytorch/pytorch/pytorch/aten/src/ATen/native/ReduceOps.cpp:1760.)\n",
      "\n"
     ]
    },
    {
     "name": "stdout",
     "output_type": "stream",
     "text": [
      "-169.76*((0.06 - x_2)**3 + 0.13*(1 - 0.16*x_1)**4 - 0.13)**2\n",
      "sampled_index 81 signature  tensor([[ 1.3310,  0.6363,  3.3970,  7.2151,  9.4102, 27.8091]],\n",
      "       grad_fn=<StackBackward0>)\n",
      "sampled_index 81 signature  tensor([[ 1.3215,  0.6332,  3.3741,  7.1089,  9.3818, 27.1938]],\n",
      "       grad_fn=<StackBackward0>)\n",
      "Number of vertices: 106712\n",
      "dataset full size: 273\n"
     ]
    },
    {
     "name": "stderr",
     "output_type": "stream",
     "text": [
      "train loss: 4.23e-02 | test loss: 4.28e-02 | reg: 3.26e+00 : 100%|██| 20/20 [00:02<00:00,  8.36it/s]\n",
      "train loss: 9.85e-04 | test loss: 1.97e-03 | reg: 4.28e+00 : 100%|██| 50/50 [00:02<00:00, 19.74it/s]\n"
     ]
    },
    {
     "name": "stdout",
     "output_type": "stream",
     "text": [
      "r2 is 0.9554892778396606\n",
      "Best value at boundary.\n",
      "r2 is 0.9985913038253784\n",
      "r2 is 0.49577033519744873\n",
      "r2 is not very high, please double check if you are choosing the correct symbolic function.\n"
     ]
    },
    {
     "name": "stderr",
     "output_type": "stream",
     "text": [
      "train loss: 1.77e-03 | test loss: 2.08e-03 | reg: 4.75e+00 : 100%|██| 50/50 [00:00<00:00, 85.04it/s]\n",
      "/Users/gal.yona/Documents/MSc/Thesis/ImplicitNeuralSurfaces/forked_pykan/pykan/kan/KAN.py:344: UserWarning:\n",
      "\n",
      "std(): degrees of freedom is <= 0. Correction should be strictly less than the reduction factor (input numel divided by output numel). (Triggered internally at /Users/runner/work/pytorch/pytorch/pytorch/aten/src/ATen/native/ReduceOps.cpp:1760.)\n",
      "\n"
     ]
    },
    {
     "name": "stdout",
     "output_type": "stream",
     "text": [
      "-6369.66*(x_2**3 + 0.01*(1 - 0.1*x_1)**4 - 0.e-2)**2\n",
      "Number of vertices: 106712\n",
      "dataset down sampled size: 219\n"
     ]
    },
    {
     "name": "stderr",
     "output_type": "stream",
     "text": [
      "train loss: 3.02e-02 | test loss: 3.08e-02 | reg: 3.03e+00 : 100%|██| 20/20 [00:02<00:00,  8.89it/s]\n",
      "train loss: 1.72e-03 | test loss: 2.04e-03 | reg: 4.42e+00 : 100%|██| 50/50 [00:00<00:00, 87.23it/s]\n"
     ]
    },
    {
     "name": "stdout",
     "output_type": "stream",
     "text": [
      "r2 is 1.0000003576278687\n",
      "Best value at boundary.\n",
      "r2 is 0.9999741911888123\n",
      "r2 is 0.8882754445075989\n",
      "r2 is not very high, please double check if you are choosing the correct symbolic function.\n"
     ]
    },
    {
     "name": "stderr",
     "output_type": "stream",
     "text": [
      "train loss: 1.73e-03 | test loss: 2.04e-03 | reg: 4.74e+00 : 100%|██| 50/50 [00:00<00:00, 85.53it/s]\n",
      "/Users/gal.yona/Documents/MSc/Thesis/ImplicitNeuralSurfaces/forked_pykan/pykan/kan/KAN.py:344: UserWarning:\n",
      "\n",
      "std(): degrees of freedom is <= 0. Correction should be strictly less than the reduction factor (input numel divided by output numel). (Triggered internally at /Users/runner/work/pytorch/pytorch/pytorch/aten/src/ATen/native/ReduceOps.cpp:1760.)\n",
      "\n"
     ]
    },
    {
     "name": "stdout",
     "output_type": "stream",
     "text": [
      "-6355.65*(x_2**3 + 0.01*(1 - 0.11*x_1)**4 - 0.e-2)**2\n",
      "sampled_index 82 signature  tensor([[ 9.5183e-02, -6.0608e-09,  1.0682e+00, -8.8330e-02,  4.0670e-01,\n",
      "          8.4291e-07]], grad_fn=<StackBackward0>)\n",
      "sampled_index 82 signature  tensor([[ 9.5144e-02,  8.3321e-09,  1.4693e+00, -9.0658e-02,  5.5918e-01,\n",
      "         -8.4330e-07]], grad_fn=<StackBackward0>)\n",
      "Number of vertices: 106712\n",
      "dataset full size: 278\n"
     ]
    },
    {
     "name": "stderr",
     "output_type": "stream",
     "text": [
      "train loss: 2.34e-02 | test loss: 2.65e-02 | reg: 2.95e+00 : 100%|██| 20/20 [00:02<00:00,  8.00it/s]\n",
      "train loss: 2.24e-03 | test loss: 1.20e-01 | reg: 1.01e+01 : 100%|██| 50/50 [00:01<00:00, 27.28it/s]\n"
     ]
    },
    {
     "name": "stdout",
     "output_type": "stream",
     "text": [
      "Best value at boundary.\n",
      "r2 is 0.9868020415306091\n",
      "r2 is 0.9857315421104431\n",
      "r2 is 0.9789105653762817\n"
     ]
    },
    {
     "name": "stderr",
     "output_type": "stream",
     "text": [
      "train loss: 2.77e-03 | test loss: 1.02e-01 | reg: 1.05e+01 : 100%|██| 50/50 [00:01<00:00, 48.93it/s]\n",
      "/Users/gal.yona/Documents/MSc/Thesis/ImplicitNeuralSurfaces/forked_pykan/pykan/kan/KAN.py:344: UserWarning:\n",
      "\n",
      "std(): degrees of freedom is <= 0. Correction should be strictly less than the reduction factor (input numel divided by output numel). (Triggered internally at /Users/runner/work/pytorch/pytorch/pytorch/aten/src/ATen/native/ReduceOps.cpp:1760.)\n",
      "\n"
     ]
    },
    {
     "name": "stdout",
     "output_type": "stream",
     "text": [
      "-7456.88*((-x_1 - 0.22)**4 + 0.01*(-0.71*x_2 - 1)**3 + 0.01)**2\n",
      "Number of vertices: 106712\n",
      "dataset down sampled size: 223\n"
     ]
    },
    {
     "name": "stderr",
     "output_type": "stream",
     "text": [
      "train loss: 1.50e-02 | test loss: 1.12e-02 | reg: 3.08e+00 : 100%|██| 20/20 [00:02<00:00,  8.94it/s]\n",
      "train loss: 2.83e-03 | test loss: 1.04e-01 | reg: 1.07e+01 : 100%|██| 50/50 [00:00<00:00, 67.78it/s]\n"
     ]
    },
    {
     "name": "stdout",
     "output_type": "stream",
     "text": [
      "Best value at boundary.\n",
      "r2 is 1.0\n",
      "r2 is 1.0000003576278687\n",
      "r2 is 1.0\n"
     ]
    },
    {
     "name": "stderr",
     "output_type": "stream",
     "text": [
      "train loss: 2.83e-03 | test loss: 1.04e-01 | reg: 1.09e+01 : 100%|██| 50/50 [00:00<00:00, 60.45it/s]\n",
      "/Users/gal.yona/Documents/MSc/Thesis/ImplicitNeuralSurfaces/forked_pykan/pykan/kan/KAN.py:344: UserWarning:\n",
      "\n",
      "std(): degrees of freedom is <= 0. Correction should be strictly less than the reduction factor (input numel divided by output numel). (Triggered internally at /Users/runner/work/pytorch/pytorch/pytorch/aten/src/ATen/native/ReduceOps.cpp:1760.)\n",
      "\n"
     ]
    },
    {
     "name": "stdout",
     "output_type": "stream",
     "text": [
      "-7695.43*((-x_1 - 0.22)**4 + 0.01*(-0.71*x_2 - 1)**3 + 0.01)**2\n",
      "sampled_index 83 signature  tensor([[ 1.6351e+01,  4.6172e+00, -1.4360e+02, -3.6647e+02, -8.6060e-03,\n",
      "         -1.3724e+03]], grad_fn=<StackBackward0>)\n",
      "sampled_index 83 signature  tensor([[ 1.6800e+01,  4.6415e+00, -1.4687e+02, -3.7500e+02,  1.6083e-02,\n",
      "         -1.4231e+03]], grad_fn=<StackBackward0>)\n",
      "Number of vertices: 106712\n",
      "dataset full size: 286\n"
     ]
    },
    {
     "name": "stderr",
     "output_type": "stream",
     "text": [
      "train loss: 1.74e-02 | test loss: 2.02e-02 | reg: 3.18e+00 : 100%|██| 20/20 [00:02<00:00,  8.96it/s]\n",
      "train loss: 1.92e-03 | test loss: 4.37e-03 | reg: 4.48e+00 : 100%|██| 50/50 [00:02<00:00, 21.01it/s]\n"
     ]
    },
    {
     "name": "stdout",
     "output_type": "stream",
     "text": [
      "Best value at boundary.\n",
      "r2 is 0.7839772701263428\n",
      "r2 is not very high, please double check if you are choosing the correct symbolic function.\n",
      "r2 is 0.9998360872268677\n",
      "r2 is 0.9067553877830505\n"
     ]
    },
    {
     "name": "stderr",
     "output_type": "stream",
     "text": [
      "train loss: 2.86e-03 | test loss: 4.82e-03 | reg: 6.29e+00 : 100%|██| 50/50 [00:00<00:00, 69.06it/s]\n",
      "/Users/gal.yona/Documents/MSc/Thesis/ImplicitNeuralSurfaces/forked_pykan/pykan/kan/KAN.py:344: UserWarning:\n",
      "\n",
      "std(): degrees of freedom is <= 0. Correction should be strictly less than the reduction factor (input numel divided by output numel). (Triggered internally at /Users/runner/work/pytorch/pytorch/pytorch/aten/src/ATen/native/ReduceOps.cpp:1760.)\n",
      "\n"
     ]
    },
    {
     "name": "stdout",
     "output_type": "stream",
     "text": [
      "17603.19*(0.02 - x_1)**8 - 0.05\n",
      "Number of vertices: 106712\n",
      "dataset down sampled size: 229\n"
     ]
    },
    {
     "name": "stderr",
     "output_type": "stream",
     "text": [
      "train loss: 1.77e-02 | test loss: 2.11e-02 | reg: 3.18e+00 : 100%|██| 20/20 [00:02<00:00,  9.18it/s]\n",
      "train loss: 2.84e-03 | test loss: 4.75e-03 | reg: 4.93e+00 : 100%|██| 50/50 [00:00<00:00, 57.41it/s]\n"
     ]
    },
    {
     "name": "stdout",
     "output_type": "stream",
     "text": [
      "Best value at boundary.\n",
      "r2 is 0.9999973773956299\n",
      "r2 is 1.0000004768371582\n",
      "r2 is 1.0000003576278687\n"
     ]
    },
    {
     "name": "stderr",
     "output_type": "stream",
     "text": [
      "train loss: 2.83e-03 | test loss: 4.70e-03 | reg: 5.75e+00 : 100%|██| 50/50 [00:01<00:00, 45.02it/s]\n",
      "/Users/gal.yona/Documents/MSc/Thesis/ImplicitNeuralSurfaces/forked_pykan/pykan/kan/KAN.py:344: UserWarning:\n",
      "\n",
      "std(): degrees of freedom is <= 0. Correction should be strictly less than the reduction factor (input numel divided by output numel). (Triggered internally at /Users/runner/work/pytorch/pytorch/pytorch/aten/src/ATen/native/ReduceOps.cpp:1760.)\n",
      "\n"
     ]
    },
    {
     "name": "stdout",
     "output_type": "stream",
     "text": [
      "17395.35*(0.02 - x_1)**8 - 0.06\n",
      "sampled_index 84 signature  tensor([[ -0.0867,  -0.0336, -14.4282,   0.0890,  -3.3479,  -0.0312]],\n",
      "       grad_fn=<StackBackward0>)\n",
      "sampled_index 84 signature  tensor([[ -0.0811,  -0.0342, -14.7354,   0.0949,  -3.5602,  -0.0356]],\n",
      "       grad_fn=<StackBackward0>)\n",
      "Number of vertices: 106712\n",
      "dataset full size: 307\n"
     ]
    },
    {
     "name": "stderr",
     "output_type": "stream",
     "text": [
      "train loss: 2.13e-02 | test loss: 2.30e-02 | reg: 2.90e+00 : 100%|██| 20/20 [00:02<00:00,  8.22it/s]\n",
      "train loss: 1.73e-03 | test loss: 3.46e-03 | reg: 3.34e+00 : 100%|██| 50/50 [00:02<00:00, 24.23it/s]\n"
     ]
    },
    {
     "name": "stdout",
     "output_type": "stream",
     "text": [
      "r2 is 0.9810331463813782\n",
      "r2 is 0.9996837377548218\n",
      "Best value at boundary.\n",
      "r2 is 0.8691654801368713\n",
      "r2 is not very high, please double check if you are choosing the correct symbolic function.\n"
     ]
    },
    {
     "name": "stderr",
     "output_type": "stream",
     "text": [
      "train loss: 2.86e-03 | test loss: 5.69e-03 | reg: 4.05e+00 : 100%|██| 50/50 [00:01<00:00, 25.69it/s]\n",
      "/Users/gal.yona/Documents/MSc/Thesis/ImplicitNeuralSurfaces/forked_pykan/pykan/kan/KAN.py:344: UserWarning:\n",
      "\n",
      "std(): degrees of freedom is <= 0. Correction should be strictly less than the reduction factor (input numel divided by output numel). (Triggered internally at /Users/runner/work/pytorch/pytorch/pytorch/aten/src/ATen/native/ReduceOps.cpp:1760.)\n",
      "\n"
     ]
    },
    {
     "name": "stdout",
     "output_type": "stream",
     "text": [
      "-192.89*(0.04*(0.85 - x_2)**3 + (-x_1 - 0.2)**4 - 0.03)**2\n",
      "Number of vertices: 106712\n",
      "dataset down sampled size: 246\n"
     ]
    },
    {
     "name": "stderr",
     "output_type": "stream",
     "text": [
      "train loss: 2.77e-02 | test loss: 2.92e-02 | reg: 3.11e+00 : 100%|██| 20/20 [00:02<00:00,  9.11it/s]\n",
      "train loss: 2.92e-03 | test loss: 5.63e-03 | reg: 3.18e+00 : 100%|██| 50/50 [00:01<00:00, 41.62it/s]\n"
     ]
    },
    {
     "name": "stdout",
     "output_type": "stream",
     "text": [
      "Best value at boundary.\n",
      "r2 is 0.9999998211860657\n",
      "r2 is 1.0000003576278687\n",
      "r2 is 0.9999943971633911\n"
     ]
    },
    {
     "name": "stderr",
     "output_type": "stream",
     "text": [
      "train loss: 2.92e-03 | test loss: 5.63e-03 | reg: 3.92e+00 : 100%|██| 50/50 [00:00<00:00, 91.76it/s]\n",
      "/Users/gal.yona/Documents/MSc/Thesis/ImplicitNeuralSurfaces/forked_pykan/pykan/kan/KAN.py:344: UserWarning:\n",
      "\n",
      "std(): degrees of freedom is <= 0. Correction should be strictly less than the reduction factor (input numel divided by output numel). (Triggered internally at /Users/runner/work/pytorch/pytorch/pytorch/aten/src/ATen/native/ReduceOps.cpp:1760.)\n",
      "\n"
     ]
    },
    {
     "name": "stdout",
     "output_type": "stream",
     "text": [
      "-52.78*(0.09*(0.85 - x_2)**3 + (-x_1 - 0.26)**4 - 0.06)**2\n",
      "sampled_index 85 signature  tensor([[  2.0955,   0.2729,  -3.3388, -24.0704,  -2.2225, -78.1125]],\n",
      "       grad_fn=<StackBackward0>)\n",
      "sampled_index 85 signature  tensor([[  2.1600,   0.3405,  -2.8120, -22.9089,  -2.0446, -71.2900]],\n",
      "       grad_fn=<StackBackward0>)\n",
      "Number of vertices: 106712\n",
      "dataset full size: 285\n"
     ]
    },
    {
     "name": "stderr",
     "output_type": "stream",
     "text": [
      "train loss: 2.97e-02 | test loss: 3.06e-02 | reg: 3.34e+00 : 100%|██| 20/20 [00:02<00:00,  8.72it/s]\n",
      "train loss: 9.83e-04 | test loss: 1.71e-03 | reg: 2.42e+00 : 100%|██| 50/50 [00:02<00:00, 19.58it/s]\n"
     ]
    },
    {
     "name": "stdout",
     "output_type": "stream",
     "text": [
      "r2 is 0.9674994349479675\n",
      "r2 is 0.980656087398529\n",
      "r2 is 0.7309956550598145\n",
      "r2 is not very high, please double check if you are choosing the correct symbolic function.\n"
     ]
    },
    {
     "name": "stderr",
     "output_type": "stream",
     "text": [
      "train loss: 1.25e-03 | test loss: 2.35e-03 | reg: 2.70e+00 : 100%|██| 50/50 [00:00<00:00, 57.72it/s]\n",
      "/Users/gal.yona/Documents/MSc/Thesis/ImplicitNeuralSurfaces/forked_pykan/pykan/kan/KAN.py:344: UserWarning:\n",
      "\n",
      "std(): degrees of freedom is <= 0. Correction should be strictly less than the reduction factor (input numel divided by output numel). (Triggered internally at /Users/runner/work/pytorch/pytorch/pytorch/aten/src/ATen/native/ReduceOps.cpp:1760.)\n",
      "\n"
     ]
    },
    {
     "name": "stdout",
     "output_type": "stream",
     "text": [
      "-1402.44*((0.1 - x_1)**4 + 0.02*(-0.47*x_2 - 1)**3 + 0.02)**2\n",
      "Number of vertices: 106712\n",
      "dataset down sampled size: 229\n"
     ]
    },
    {
     "name": "stderr",
     "output_type": "stream",
     "text": [
      "train loss: 3.93e-02 | test loss: 4.02e-02 | reg: 3.38e+00 : 100%|██| 20/20 [00:02<00:00,  9.13it/s]\n",
      "train loss: 1.27e-03 | test loss: 2.34e-03 | reg: 2.49e+00 : 100%|██| 50/50 [00:00<00:00, 60.44it/s]\n"
     ]
    },
    {
     "name": "stdout",
     "output_type": "stream",
     "text": [
      "r2 is 1.0000003576278687\n",
      "r2 is 1.0000004768371582\n",
      "r2 is 0.9994902014732361\n"
     ]
    },
    {
     "name": "stderr",
     "output_type": "stream",
     "text": [
      "train loss: 1.27e-03 | test loss: 2.34e-03 | reg: 2.73e+00 : 100%|█| 50/50 [00:00<00:00, 115.85it/s]\n",
      "/Users/gal.yona/Documents/MSc/Thesis/ImplicitNeuralSurfaces/forked_pykan/pykan/kan/KAN.py:344: UserWarning:\n",
      "\n",
      "std(): degrees of freedom is <= 0. Correction should be strictly less than the reduction factor (input numel divided by output numel). (Triggered internally at /Users/runner/work/pytorch/pytorch/pytorch/aten/src/ATen/native/ReduceOps.cpp:1760.)\n",
      "\n"
     ]
    },
    {
     "name": "stdout",
     "output_type": "stream",
     "text": [
      "-1359.84*((0.1 - x_1)**4 + 0.02*(-0.48*x_2 - 1)**3 + 0.02)**2\n",
      "sampled_index 86 signature  tensor([[  0.8464,   0.2038,   2.9815,  -2.4671,   3.7080, -12.6099]],\n",
      "       grad_fn=<StackBackward0>)\n",
      "sampled_index 86 signature  tensor([[  0.8550,   0.2030,   2.9182,  -2.3522,   3.7060, -12.6433]],\n",
      "       grad_fn=<StackBackward0>)\n",
      "Number of vertices: 106712\n",
      "dataset full size: 284\n"
     ]
    },
    {
     "name": "stderr",
     "output_type": "stream",
     "text": [
      "train loss: 2.00e-02 | test loss: 1.68e-02 | reg: 2.91e+00 : 100%|██| 20/20 [00:02<00:00,  9.05it/s]\n",
      "train loss: 5.86e-03 | test loss: 1.10e-02 | reg: 2.86e+00 : 100%|██| 50/50 [00:01<00:00, 32.19it/s]\n"
     ]
    },
    {
     "name": "stdout",
     "output_type": "stream",
     "text": [
      "r2 is 0.9982646703720093\n",
      "r2 is 0.9740476608276367\n",
      "r2 is 0.7970138788223267\n",
      "r2 is not very high, please double check if you are choosing the correct symbolic function.\n"
     ]
    },
    {
     "name": "stderr",
     "output_type": "stream",
     "text": [
      "train loss: 5.94e-03 | test loss: 2.66e-02 | reg: 3.95e+00 : 100%|██| 50/50 [00:02<00:00, 21.44it/s]\n",
      "/Users/gal.yona/Documents/MSc/Thesis/ImplicitNeuralSurfaces/forked_pykan/pykan/kan/KAN.py:344: UserWarning:\n",
      "\n",
      "std(): degrees of freedom is <= 0. Correction should be strictly less than the reduction factor (input numel divided by output numel). (Triggered internally at /Users/runner/work/pytorch/pytorch/pytorch/aten/src/ATen/native/ReduceOps.cpp:1760.)\n",
      "\n"
     ]
    },
    {
     "name": "stdout",
     "output_type": "stream",
     "text": [
      "3.09*(0.85*(1 - 0.41*x_1)**4 - 0.14*(-0.63*x_2 - 1)**3 - 1)**2\n",
      "Number of vertices: 106712\n",
      "dataset down sampled size: 228\n"
     ]
    },
    {
     "name": "stderr",
     "output_type": "stream",
     "text": [
      "train loss: 3.19e-02 | test loss: 3.37e-02 | reg: 2.89e+00 : 100%|██| 20/20 [00:02<00:00,  8.83it/s]\n",
      "train loss: nan | test loss: nan | reg: nan : 100%|█████████████████| 50/50 [00:03<00:00, 15.18it/s]\n"
     ]
    },
    {
     "name": "stdout",
     "output_type": "stream",
     "text": [
      "Best value at boundary.\n",
      "r2 is 0.0\n",
      "r2 is not very high, please double check if you are choosing the correct symbolic function.\n",
      "nan encountered\n",
      "Number of vertices: 106712\n",
      "dataset full size: 296\n"
     ]
    },
    {
     "name": "stderr",
     "output_type": "stream",
     "text": [
      "train loss: 2.17e-02 | test loss: 2.14e-02 | reg: 3.72e+00 : 100%|██| 20/20 [00:02<00:00,  8.43it/s]\n",
      "train loss: 9.92e-03 | test loss: 9.54e-02 | reg: 2.85e+00 : 100%|██| 50/50 [00:02<00:00, 20.51it/s]\n"
     ]
    },
    {
     "name": "stdout",
     "output_type": "stream",
     "text": [
      "r2 is 0.894567608833313\n",
      "r2 is not very high, please double check if you are choosing the correct symbolic function.\n",
      "r2 is 0.9962544441223145\n",
      "r2 is 0.5132113695144653\n",
      "r2 is not very high, please double check if you are choosing the correct symbolic function.\n"
     ]
    },
    {
     "name": "stderr",
     "output_type": "stream",
     "text": [
      "train loss: 6.56e-03 | test loss: 7.80e-03 | reg: 2.41e+11 : 100%|██| 50/50 [00:02<00:00, 18.35it/s]\n",
      "/Users/gal.yona/Documents/MSc/Thesis/ImplicitNeuralSurfaces/forked_pykan/pykan/kan/KAN.py:344: UserWarning:\n",
      "\n",
      "std(): degrees of freedom is <= 0. Correction should be strictly less than the reduction factor (input numel divided by output numel). (Triggered internally at /Users/runner/work/pytorch/pytorch/pytorch/aten/src/ATen/native/ReduceOps.cpp:1760.)\n",
      "\n"
     ]
    },
    {
     "name": "stdout",
     "output_type": "stream",
     "text": [
      "0.32*(0.64*(-0.36*x_1 - 1)**4 + (-x_2 - 0.82)**3)**2\n",
      "Number of vertices: 106712\n",
      "dataset down sampled size: 237\n"
     ]
    },
    {
     "name": "stderr",
     "output_type": "stream",
     "text": [
      "train loss: 2.22e-02 | test loss: 2.14e-02 | reg: 3.71e+00 : 100%|██| 20/20 [00:02<00:00,  9.05it/s]\n",
      "train loss: 6.65e-03 | test loss: 7.71e-03 | reg: 1.45e+03 : 100%|██| 50/50 [00:00<00:00, 79.19it/s]\n"
     ]
    },
    {
     "name": "stdout",
     "output_type": "stream",
     "text": [
      "r2 is 1.0000004768371582\n",
      "r2 is 1.0000004768371582\n",
      "r2 is 1.0000003576278687\n"
     ]
    },
    {
     "name": "stderr",
     "output_type": "stream",
     "text": [
      "train loss: 6.65e-03 | test loss: 7.72e-03 | reg: 2.42e+11 : 100%|██| 50/50 [00:00<00:00, 62.94it/s]\n",
      "/Users/gal.yona/Documents/MSc/Thesis/ImplicitNeuralSurfaces/forked_pykan/pykan/kan/KAN.py:344: UserWarning:\n",
      "\n",
      "std(): degrees of freedom is <= 0. Correction should be strictly less than the reduction factor (input numel divided by output numel). (Triggered internally at /Users/runner/work/pytorch/pytorch/pytorch/aten/src/ATen/native/ReduceOps.cpp:1760.)\n",
      "\n"
     ]
    },
    {
     "name": "stdout",
     "output_type": "stream",
     "text": [
      "0.31*(0.64*(-0.36*x_1 - 1)**4 + (-x_2 - 0.82)**3)**2\n",
      "sampled_index 88 signature  tensor([[-1.4571, -0.0174, -9.6474,  3.4516,  1.4422, -0.0711]],\n",
      "       grad_fn=<StackBackward0>)\n",
      "sampled_index 88 signature  tensor([[-1.4110, -0.0169, -9.2433,  3.3454,  1.3679, -0.0672]],\n",
      "       grad_fn=<StackBackward0>)\n",
      "Number of vertices: 106712\n",
      "dataset full size: 360\n"
     ]
    },
    {
     "name": "stderr",
     "output_type": "stream",
     "text": [
      "train loss: 4.18e-02 | test loss: 4.29e-02 | reg: 3.14e+00 : 100%|██| 20/20 [00:02<00:00,  6.92it/s]\n",
      "train loss: 1.23e-02 | test loss: 1.33e-01 | reg: 2.51e+00 : 100%|██| 50/50 [00:01<00:00, 29.14it/s]\n"
     ]
    },
    {
     "name": "stdout",
     "output_type": "stream",
     "text": [
      "r2 is 0.9999862909317017\n",
      "r2 is 0.9999926686286926\n",
      "r2 is 0.5933010578155518\n",
      "r2 is not very high, please double check if you are choosing the correct symbolic function.\n"
     ]
    },
    {
     "name": "stderr",
     "output_type": "stream",
     "text": [
      "train loss: 2.03e-02 | test loss: 2.06e-02 | reg: 1.09e+01 : 100%|██| 50/50 [00:01<00:00, 29.35it/s]\n",
      "/Users/gal.yona/Documents/MSc/Thesis/ImplicitNeuralSurfaces/forked_pykan/pykan/kan/KAN.py:344: UserWarning:\n",
      "\n",
      "std(): degrees of freedom is <= 0. Correction should be strictly less than the reduction factor (input numel divided by output numel). (Triggered internally at /Users/runner/work/pytorch/pytorch/pytorch/aten/src/ATen/native/ReduceOps.cpp:1760.)\n",
      "\n"
     ]
    },
    {
     "name": "stdout",
     "output_type": "stream",
     "text": [
      "19.21*(-0.98*(1 - 0.07*x_1)**4 + 0.77*(-x_2 - 0.22)**3 + 1)**2 - 0.04\n",
      "Number of vertices: 106712\n",
      "dataset down sampled size: 289\n"
     ]
    },
    {
     "name": "stderr",
     "output_type": "stream",
     "text": [
      "train loss: 3.08e-02 | test loss: 3.20e-02 | reg: 3.45e+00 : 100%|██| 20/20 [00:02<00:00,  7.94it/s]\n",
      "train loss: nan | test loss: nan | reg: nan : 100%|█████████████████| 50/50 [00:03<00:00, 15.05it/s]\n"
     ]
    },
    {
     "name": "stdout",
     "output_type": "stream",
     "text": [
      "Best value at boundary.\n",
      "r2 is 0.0\n",
      "r2 is not very high, please double check if you are choosing the correct symbolic function.\n",
      "nan encountered\n",
      "Number of vertices: 106712\n",
      "dataset full size: 283\n"
     ]
    },
    {
     "name": "stderr",
     "output_type": "stream",
     "text": [
      "train loss: 9.93e-03 | test loss: 1.08e-02 | reg: 2.67e+00 : 100%|██| 20/20 [00:02<00:00,  8.44it/s]\n",
      "train loss: 1.32e-03 | test loss: 4.53e-03 | reg: 3.79e+00 : 100%|██| 50/50 [00:02<00:00, 24.88it/s]\n"
     ]
    },
    {
     "name": "stdout",
     "output_type": "stream",
     "text": [
      "r2 is 0.9983033537864685\n",
      "r2 is 0.9801914691925049\n",
      "r2 is 0.033425893634557724\n",
      "r2 is not very high, please double check if you are choosing the correct symbolic function.\n"
     ]
    },
    {
     "name": "stderr",
     "output_type": "stream",
     "text": [
      "train loss: 1.90e-03 | test loss: 3.32e-03 | reg: 4.35e+00 : 100%|██| 50/50 [00:00<00:00, 67.37it/s]\n",
      "/Users/gal.yona/Documents/MSc/Thesis/ImplicitNeuralSurfaces/forked_pykan/pykan/kan/KAN.py:344: UserWarning:\n",
      "\n",
      "std(): degrees of freedom is <= 0. Correction should be strictly less than the reduction factor (input numel divided by output numel). (Triggered internally at /Users/runner/work/pytorch/pytorch/pytorch/aten/src/ATen/native/ReduceOps.cpp:1760.)\n",
      "\n"
     ]
    },
    {
     "name": "stdout",
     "output_type": "stream",
     "text": [
      "-790711.21*(-x_1 - 0.09)**8\n",
      "Number of vertices: 106712\n",
      "dataset down sampled size: 227\n"
     ]
    },
    {
     "name": "stderr",
     "output_type": "stream",
     "text": [
      "train loss: 1.89e-02 | test loss: 1.93e-02 | reg: 2.70e+00 : 100%|██| 20/20 [00:02<00:00,  8.98it/s]\n",
      "train loss: 1.99e-03 | test loss: 3.35e-03 | reg: 3.69e+00 : 100%|██| 50/50 [00:00<00:00, 56.86it/s]\n"
     ]
    },
    {
     "name": "stdout",
     "output_type": "stream",
     "text": [
      "r2 is 0.9999996423721313\n",
      "r2 is 1.0000004768371582\n",
      "r2 is 0.999984085559845\n"
     ]
    },
    {
     "name": "stderr",
     "output_type": "stream",
     "text": [
      "train loss: 1.99e-03 | test loss: 3.35e-03 | reg: 4.32e+00 : 100%|██| 50/50 [00:00<00:00, 66.87it/s]\n",
      "/Users/gal.yona/Documents/MSc/Thesis/ImplicitNeuralSurfaces/forked_pykan/pykan/kan/KAN.py:344: UserWarning:\n",
      "\n",
      "std(): degrees of freedom is <= 0. Correction should be strictly less than the reduction factor (input numel divided by output numel). (Triggered internally at /Users/runner/work/pytorch/pytorch/pytorch/aten/src/ATen/native/ReduceOps.cpp:1760.)\n",
      "\n"
     ]
    },
    {
     "name": "stdout",
     "output_type": "stream",
     "text": [
      "-800337.74*(-x_1 - 0.09)**8\n",
      "sampled_index 90 signature  tensor([[ 6.4175e+00, -1.6849e-01, -5.3057e+01, -6.6898e+02, -3.0407e-01,\n",
      "         -8.9682e+01]], grad_fn=<StackBackward0>)\n",
      "sampled_index 90 signature  tensor([[ 6.6605e+00, -1.3251e-01, -5.1641e+01, -6.8596e+02, -2.3482e-01,\n",
      "         -8.9740e+01]], grad_fn=<StackBackward0>)\n",
      "Number of vertices: 106712\n",
      "dataset full size: 330\n"
     ]
    },
    {
     "name": "stderr",
     "output_type": "stream",
     "text": [
      "train loss: 1.61e-02 | test loss: 1.42e-02 | reg: 3.09e+00 : 100%|██| 20/20 [00:03<00:00,  6.58it/s]\n",
      "train loss: 6.42e-03 | test loss: 9.21e-03 | reg: 1.16e+01 : 100%|██| 50/50 [00:02<00:00, 17.14it/s]\n"
     ]
    },
    {
     "name": "stdout",
     "output_type": "stream",
     "text": [
      "r2 is 0.9083719849586487\n",
      "Best value at boundary.\n",
      "r2 is 0.969352126121521\n",
      "r2 is 0.8564242124557495\n",
      "r2 is not very high, please double check if you are choosing the correct symbolic function.\n"
     ]
    },
    {
     "name": "stderr",
     "output_type": "stream",
     "text": [
      "train loss: 6.64e-03 | test loss: 1.04e-02 | reg: 1.55e+01 : 100%|██| 50/50 [00:01<00:00, 48.52it/s]\n",
      "/Users/gal.yona/Documents/MSc/Thesis/ImplicitNeuralSurfaces/forked_pykan/pykan/kan/KAN.py:344: UserWarning:\n",
      "\n",
      "std(): degrees of freedom is <= 0. Correction should be strictly less than the reduction factor (input numel divided by output numel). (Triggered internally at /Users/runner/work/pytorch/pytorch/pytorch/aten/src/ATen/native/ReduceOps.cpp:1760.)\n",
      "\n"
     ]
    },
    {
     "name": "stdout",
     "output_type": "stream",
     "text": [
      "-2209440.15*((-x_1 - 0.e-2)**4 - 0.2*(x_2 - 0.02)**3)**2 - 0.e-2\n",
      "Number of vertices: 106712\n",
      "dataset down sampled size: 265\n"
     ]
    },
    {
     "name": "stderr",
     "output_type": "stream",
     "text": [
      "train loss: 1.58e-02 | test loss: 1.45e-02 | reg: 3.27e+00 : 100%|██| 20/20 [00:02<00:00,  8.75it/s]\n",
      "train loss: 6.49e-03 | test loss: 1.04e-02 | reg: 1.26e+01 : 100%|██| 50/50 [00:01<00:00, 40.58it/s]\n"
     ]
    },
    {
     "name": "stdout",
     "output_type": "stream",
     "text": [
      "Best value at boundary.\n",
      "r2 is 0.8530598282814026\n",
      "r2 is not very high, please double check if you are choosing the correct symbolic function.\n",
      "r2 is 0.9999908804893494\n",
      "r2 is 0.9999332427978516\n"
     ]
    },
    {
     "name": "stderr",
     "output_type": "stream",
     "text": [
      "train loss: 6.49e-03 | test loss: 1.04e-02 | reg: 1.54e+01 : 100%|██| 50/50 [00:00<00:00, 58.17it/s]\n",
      "/Users/gal.yona/Documents/MSc/Thesis/ImplicitNeuralSurfaces/forked_pykan/pykan/kan/KAN.py:344: UserWarning:\n",
      "\n",
      "std(): degrees of freedom is <= 0. Correction should be strictly less than the reduction factor (input numel divided by output numel). (Triggered internally at /Users/runner/work/pytorch/pytorch/pytorch/aten/src/ATen/native/ReduceOps.cpp:1760.)\n",
      "\n"
     ]
    },
    {
     "name": "stdout",
     "output_type": "stream",
     "text": [
      "-2242444.93*(0.2*(0.02 - x_2)**3 + (-x_1 - 0.e-2)**4)**2 - 0.e-2\n",
      "sampled_index 91 signature  tensor([[ -0.5710,   0.0409, -26.5114,   4.8294,   2.9948, -11.0040]],\n",
      "       grad_fn=<StackBackward0>)\n",
      "sampled_index 91 signature  tensor([[ -0.5461,   0.0392, -26.3903,   4.7509,   2.9708, -10.3614]],\n",
      "       grad_fn=<StackBackward0>)\n",
      "Number of vertices: 106712\n",
      "dataset full size: 267\n"
     ]
    },
    {
     "name": "stderr",
     "output_type": "stream",
     "text": [
      "train loss: 3.65e-02 | test loss: 3.95e-02 | reg: 2.77e+00 : 100%|██| 20/20 [00:02<00:00,  8.44it/s]\n",
      "train loss: 3.69e-03 | test loss: 6.05e-03 | reg: 5.26e+00 : 100%|██| 50/50 [00:02<00:00, 18.17it/s]\n"
     ]
    },
    {
     "name": "stdout",
     "output_type": "stream",
     "text": [
      "r2 is 0.9862050414085388\n",
      "r2 is 0.9071819186210632\n",
      "r2 is 0.8090952634811401\n",
      "r2 is not very high, please double check if you are choosing the correct symbolic function.\n"
     ]
    },
    {
     "name": "stderr",
     "output_type": "stream",
     "text": [
      "train loss: 3.81e-03 | test loss: 5.57e-03 | reg: 5.08e+00 : 100%|██| 50/50 [00:00<00:00, 56.48it/s]\n",
      "/Users/gal.yona/Documents/MSc/Thesis/ImplicitNeuralSurfaces/forked_pykan/pykan/kan/KAN.py:344: UserWarning:\n",
      "\n",
      "std(): degrees of freedom is <= 0. Correction should be strictly less than the reduction factor (input numel divided by output numel). (Triggered internally at /Users/runner/work/pytorch/pytorch/pytorch/aten/src/ATen/native/ReduceOps.cpp:1760.)\n",
      "\n"
     ]
    },
    {
     "name": "stdout",
     "output_type": "stream",
     "text": [
      "7.74*(-0.1*(-0.78*x_1 - 1)**4 + (-x_2 - 0.07)**3 + 0.11)**2\n",
      "Number of vertices: 106712\n",
      "dataset down sampled size: 214\n"
     ]
    },
    {
     "name": "stderr",
     "output_type": "stream",
     "text": [
      "train loss: 3.71e-02 | test loss: 4.03e-02 | reg: 2.73e+00 : 100%|██| 20/20 [00:02<00:00,  8.75it/s]\n",
      "train loss: 3.88e-03 | test loss: 5.55e-03 | reg: 4.82e+00 : 100%|█| 50/50 [00:00<00:00, 113.68it/s]\n"
     ]
    },
    {
     "name": "stdout",
     "output_type": "stream",
     "text": [
      "r2 is 1.0000003576278687\n",
      "r2 is 1.0000003576278687\n",
      "r2 is 0.9698882699012756\n"
     ]
    },
    {
     "name": "stderr",
     "output_type": "stream",
     "text": [
      "train loss: 3.88e-03 | test loss: 5.51e-03 | reg: 5.00e+00 : 100%|██| 50/50 [00:00<00:00, 57.14it/s]\n",
      "/Users/gal.yona/Documents/MSc/Thesis/ImplicitNeuralSurfaces/forked_pykan/pykan/kan/KAN.py:344: UserWarning:\n",
      "\n",
      "std(): degrees of freedom is <= 0. Correction should be strictly less than the reduction factor (input numel divided by output numel). (Triggered internally at /Users/runner/work/pytorch/pytorch/pytorch/aten/src/ATen/native/ReduceOps.cpp:1760.)\n",
      "\n"
     ]
    },
    {
     "name": "stdout",
     "output_type": "stream",
     "text": [
      "9.5*(-0.09*(-0.78*x_1 - 1)**4 + (-x_2 - 0.07)**3 + 0.1)**2\n",
      "sampled_index 92 signature  tensor([[-0.6442, -0.0845,  6.1224, -0.5148, -2.0112,  1.1950]],\n",
      "       grad_fn=<StackBackward0>)\n",
      "sampled_index 92 signature  tensor([[-0.6304, -0.0968,  6.1739, -0.5804, -2.1377,  1.3691]],\n",
      "       grad_fn=<StackBackward0>)\n",
      "Number of vertices: 106712\n",
      "dataset full size: 276\n"
     ]
    },
    {
     "name": "stderr",
     "output_type": "stream",
     "text": [
      "train loss: 7.20e-03 | test loss: 8.24e-03 | reg: 3.68e+00 : 100%|██| 20/20 [00:02<00:00,  8.16it/s]\n",
      "train loss: 7.19e-04 | test loss: 5.88e-03 | reg: 3.16e+00 : 100%|██| 50/50 [00:02<00:00, 24.34it/s]\n"
     ]
    },
    {
     "name": "stdout",
     "output_type": "stream",
     "text": [
      "r2 is 0.9998748898506165\n",
      "r2 is 0.9886451959609985\n",
      "r2 is 0.8426054120063782\n",
      "r2 is not very high, please double check if you are choosing the correct symbolic function.\n"
     ]
    },
    {
     "name": "stderr",
     "output_type": "stream",
     "text": [
      "train loss: 1.20e-03 | test loss: 1.37e-02 | reg: 3.21e+00 : 100%|██| 50/50 [00:01<00:00, 39.12it/s]\n",
      "/Users/gal.yona/Documents/MSc/Thesis/ImplicitNeuralSurfaces/forked_pykan/pykan/kan/KAN.py:344: UserWarning:\n",
      "\n",
      "std(): degrees of freedom is <= 0. Correction should be strictly less than the reduction factor (input numel divided by output numel). (Triggered internally at /Users/runner/work/pytorch/pytorch/pytorch/aten/src/ATen/native/ReduceOps.cpp:1760.)\n",
      "\n"
     ]
    },
    {
     "name": "stdout",
     "output_type": "stream",
     "text": [
      "-22.43*((0.35 - x_1)**4 + 0.32*(0.44 - x_2)**3 - 0.04)**2\n",
      "Number of vertices: 106712\n",
      "dataset down sampled size: 221\n"
     ]
    },
    {
     "name": "stderr",
     "output_type": "stream",
     "text": [
      "train loss: 1.18e-02 | test loss: 1.10e-02 | reg: 3.78e+00 : 100%|██| 20/20 [00:02<00:00,  9.25it/s]\n",
      "train loss: 1.15e-03 | test loss: 1.25e-02 | reg: 2.96e+00 : 100%|██| 50/50 [00:00<00:00, 84.99it/s]\n"
     ]
    },
    {
     "name": "stdout",
     "output_type": "stream",
     "text": [
      "r2 is 1.0000003576278687\n",
      "Best value at boundary.\n",
      "r2 is 1.0000001192092896\n",
      "r2 is 0.999998152256012\n"
     ]
    },
    {
     "name": "stderr",
     "output_type": "stream",
     "text": [
      "train loss: 1.15e-03 | test loss: 1.25e-02 | reg: 3.21e+00 : 100%|██| 50/50 [00:00<00:00, 81.45it/s]\n",
      "/Users/gal.yona/Documents/MSc/Thesis/ImplicitNeuralSurfaces/forked_pykan/pykan/kan/KAN.py:344: UserWarning:\n",
      "\n",
      "std(): degrees of freedom is <= 0. Correction should be strictly less than the reduction factor (input numel divided by output numel). (Triggered internally at /Users/runner/work/pytorch/pytorch/pytorch/aten/src/ATen/native/ReduceOps.cpp:1760.)\n",
      "\n"
     ]
    },
    {
     "name": "stdout",
     "output_type": "stream",
     "text": [
      "-22.11*((0.35 - x_1)**4 + 0.32*(0.44 - x_2)**3 - 0.04)**2\n",
      "sampled_index 93 signature  tensor([[  1.5645,   0.5084,   3.2988, -25.3459,   0.5027, -46.2501]],\n",
      "       grad_fn=<StackBackward0>)\n",
      "sampled_index 93 signature  tensor([[  1.5592,   0.5035,   3.2422, -25.1961,   0.5225, -45.9252]],\n",
      "       grad_fn=<StackBackward0>)\n",
      "Number of vertices: 106712\n",
      "dataset full size: 261\n"
     ]
    },
    {
     "name": "stderr",
     "output_type": "stream",
     "text": [
      "train loss: 7.34e-03 | test loss: 7.93e-03 | reg: 3.53e+00 : 100%|██| 20/20 [00:02<00:00,  9.03it/s]\n",
      "train loss: 1.12e-03 | test loss: 2.07e-03 | reg: 1.19e+01 : 100%|██| 50/50 [00:02<00:00, 18.02it/s]\n"
     ]
    },
    {
     "name": "stdout",
     "output_type": "stream",
     "text": [
      "r2 is 0.9933280348777771\n",
      "r2 is 0.514018714427948\n",
      "r2 is not very high, please double check if you are choosing the correct symbolic function.\n",
      "Best value at boundary.\n",
      "r2 is 0.9576768279075623\n"
     ]
    },
    {
     "name": "stderr",
     "output_type": "stream",
     "text": [
      "train loss: 2.64e-03 | test loss: 3.15e-03 | reg: 1.84e+01 : 100%|██| 50/50 [00:01<00:00, 41.42it/s]\n",
      "/Users/gal.yona/Documents/MSc/Thesis/ImplicitNeuralSurfaces/forked_pykan/pykan/kan/KAN.py:344: UserWarning:\n",
      "\n",
      "std(): degrees of freedom is <= 0. Correction should be strictly less than the reduction factor (input numel divided by output numel). (Triggered internally at /Users/runner/work/pytorch/pytorch/pytorch/aten/src/ATen/native/ReduceOps.cpp:1760.)\n",
      "\n"
     ]
    },
    {
     "name": "stdout",
     "output_type": "stream",
     "text": [
      "912.26*((0.07 - x_1)**4 - 0.09*(-x_2 - 0.05)**3 - 0.02)**2 - 0.25\n",
      "Number of vertices: 106712\n",
      "dataset down sampled size: 209\n"
     ]
    },
    {
     "name": "stderr",
     "output_type": "stream",
     "text": [
      "train loss: 7.73e-03 | test loss: 8.99e-03 | reg: 3.35e+00 : 100%|██| 20/20 [00:02<00:00,  9.38it/s]\n",
      "train loss: 2.69e-03 | test loss: 3.12e-03 | reg: 1.84e+01 : 100%|██| 50/50 [00:00<00:00, 50.51it/s]\n"
     ]
    },
    {
     "name": "stdout",
     "output_type": "stream",
     "text": [
      "r2 is 0.9999903440475464\n",
      "r2 is 0.9997876882553101\n",
      "Best value at boundary.\n",
      "r2 is 0.9999383687973022\n"
     ]
    },
    {
     "name": "stderr",
     "output_type": "stream",
     "text": [
      "train loss: 2.69e-03 | test loss: 3.13e-03 | reg: 1.85e+01 : 100%|██| 50/50 [00:00<00:00, 59.96it/s]\n",
      "/Users/gal.yona/Documents/MSc/Thesis/ImplicitNeuralSurfaces/forked_pykan/pykan/kan/KAN.py:344: UserWarning:\n",
      "\n",
      "std(): degrees of freedom is <= 0. Correction should be strictly less than the reduction factor (input numel divided by output numel). (Triggered internally at /Users/runner/work/pytorch/pytorch/pytorch/aten/src/ATen/native/ReduceOps.cpp:1760.)\n",
      "\n"
     ]
    },
    {
     "name": "stdout",
     "output_type": "stream",
     "text": [
      "257.97*((0.07 - x_1)**4 - 0.08*(-x_2 - 0.05)**3 - 0.06)**2 - 0.81\n",
      "sampled_index 94 signature  tensor([[  1.3594,   1.5181,  -7.6233,  25.5835, -29.4114,  39.9366]],\n",
      "       grad_fn=<StackBackward0>)\n",
      "sampled_index 94 signature  tensor([[  1.3125,   1.3936,  -7.1720,  25.1636, -26.9957,  37.0560]],\n",
      "       grad_fn=<StackBackward0>)\n",
      "Number of vertices: 106712\n",
      "dataset full size: 283\n"
     ]
    },
    {
     "name": "stderr",
     "output_type": "stream",
     "text": [
      "train loss: 5.43e-02 | test loss: 5.52e-02 | reg: 2.86e+00 : 100%|██| 20/20 [00:02<00:00,  8.64it/s]\n",
      "train loss: 1.70e-03 | test loss: 2.09e-03 | reg: 4.14e+00 : 100%|██| 50/50 [00:01<00:00, 27.98it/s]\n"
     ]
    },
    {
     "name": "stdout",
     "output_type": "stream",
     "text": [
      "r2 is 0.9930463433265686\n",
      "r2 is 0.4063641130924225\n",
      "r2 is not very high, please double check if you are choosing the correct symbolic function.\n",
      "r2 is 0.4469553530216217\n",
      "r2 is not very high, please double check if you are choosing the correct symbolic function.\n"
     ]
    },
    {
     "name": "stderr",
     "output_type": "stream",
     "text": [
      "train loss: 2.00e-03 | test loss: 2.36e-03 | reg: 4.65e+00 : 100%|██| 50/50 [00:00<00:00, 81.62it/s]\n",
      "/Users/gal.yona/Documents/MSc/Thesis/ImplicitNeuralSurfaces/forked_pykan/pykan/kan/KAN.py:344: UserWarning:\n",
      "\n",
      "std(): degrees of freedom is <= 0. Correction should be strictly less than the reduction factor (input numel divided by output numel). (Triggered internally at /Users/runner/work/pytorch/pytorch/pytorch/aten/src/ATen/native/ReduceOps.cpp:1760.)\n",
      "\n"
     ]
    },
    {
     "name": "stdout",
     "output_type": "stream",
     "text": [
      "403.55*(-0.52*(-x_1 - 0.12)**4 + (-x_2 - 0.05)**3)**2\n",
      "Number of vertices: 106712\n",
      "dataset down sampled size: 227\n"
     ]
    },
    {
     "name": "stderr",
     "output_type": "stream",
     "text": [
      "train loss: 6.89e-02 | test loss: 6.98e-02 | reg: 3.12e+00 : 100%|██| 20/20 [00:02<00:00,  8.28it/s]\n",
      "train loss: 1.96e-03 | test loss: 2.29e-03 | reg: 4.52e+00 : 100%|██| 50/50 [00:01<00:00, 48.17it/s]\n"
     ]
    },
    {
     "name": "stdout",
     "output_type": "stream",
     "text": [
      "r2 is 1.0000004768371582\n",
      "r2 is 0.9999693632125854\n",
      "r2 is 0.624060869216919\n",
      "r2 is not very high, please double check if you are choosing the correct symbolic function.\n"
     ]
    },
    {
     "name": "stderr",
     "output_type": "stream",
     "text": [
      "train loss: 1.96e-03 | test loss: 2.29e-03 | reg: 4.54e+00 : 100%|██| 50/50 [00:00<00:00, 78.07it/s]\n",
      "/Users/gal.yona/Documents/MSc/Thesis/ImplicitNeuralSurfaces/forked_pykan/pykan/kan/KAN.py:344: UserWarning:\n",
      "\n",
      "std(): degrees of freedom is <= 0. Correction should be strictly less than the reduction factor (input numel divided by output numel). (Triggered internally at /Users/runner/work/pytorch/pytorch/pytorch/aten/src/ATen/native/ReduceOps.cpp:1760.)\n",
      "\n"
     ]
    },
    {
     "name": "stdout",
     "output_type": "stream",
     "text": [
      "372.57*(-0.88*(-x_1 - 0.08)**4 + (-x_2 - 0.06)**3)**2\n",
      "sampled_index 95 signature  tensor([[ 0.3105,  0.0651, -0.5336,  1.1950, -0.7202,  0.0262]],\n",
      "       grad_fn=<StackBackward0>)\n",
      "sampled_index 95 signature  tensor([[ 0.3043,  0.0572, -1.0606,  0.9059, -1.1839, -0.0383]],\n",
      "       grad_fn=<StackBackward0>)\n",
      "Number of vertices: 106712\n",
      "dataset full size: 299\n"
     ]
    },
    {
     "name": "stderr",
     "output_type": "stream",
     "text": [
      "train loss: 6.52e-02 | test loss: 6.77e-02 | reg: 2.89e+00 : 100%|██| 20/20 [00:02<00:00,  8.02it/s]\n",
      "train loss: 1.17e-03 | test loss: 1.16e-02 | reg: 3.36e+00 : 100%|██| 50/50 [00:02<00:00, 22.18it/s]\n"
     ]
    },
    {
     "name": "stdout",
     "output_type": "stream",
     "text": [
      "r2 is 0.9650283455848694\n",
      "r2 is 0.9974549412727356\n",
      "r2 is 0.8904339075088501\n",
      "r2 is not very high, please double check if you are choosing the correct symbolic function.\n"
     ]
    },
    {
     "name": "stderr",
     "output_type": "stream",
     "text": [
      "train loss: 3.19e-03 | test loss: 9.43e-03 | reg: 5.64e+00 : 100%|██| 50/50 [00:00<00:00, 69.94it/s]\n",
      "/Users/gal.yona/Documents/MSc/Thesis/ImplicitNeuralSurfaces/forked_pykan/pykan/kan/KAN.py:344: UserWarning:\n",
      "\n",
      "std(): degrees of freedom is <= 0. Correction should be strictly less than the reduction factor (input numel divided by output numel). (Triggered internally at /Users/runner/work/pytorch/pytorch/pytorch/aten/src/ATen/native/ReduceOps.cpp:1760.)\n",
      "\n"
     ]
    },
    {
     "name": "stdout",
     "output_type": "stream",
     "text": [
      "-4.09*(-0.11*(-0.87*x_1 - 1)**4 - (-0.3*x_2 - 1)**3 - 0.88)**2\n",
      "Number of vertices: 106712\n",
      "dataset down sampled size: 240\n"
     ]
    },
    {
     "name": "stderr",
     "output_type": "stream",
     "text": [
      "train loss: 6.65e-02 | test loss: 6.87e-02 | reg: 3.03e+00 : 100%|██| 20/20 [00:02<00:00,  8.12it/s]\n",
      "train loss: 3.25e-03 | test loss: 9.35e-03 | reg: 3.41e+00 : 100%|██| 50/50 [00:00<00:00, 57.56it/s]\n"
     ]
    },
    {
     "name": "stdout",
     "output_type": "stream",
     "text": [
      "r2 is 1.0000004768371582\n",
      "r2 is 1.000000238418579\n",
      "r2 is 1.000000238418579\n"
     ]
    },
    {
     "name": "stderr",
     "output_type": "stream",
     "text": [
      "train loss: 3.25e-03 | test loss: 9.34e-03 | reg: 5.53e+00 : 100%|██| 50/50 [00:00<00:00, 81.30it/s]\n",
      "/Users/gal.yona/Documents/MSc/Thesis/ImplicitNeuralSurfaces/forked_pykan/pykan/kan/KAN.py:344: UserWarning:\n",
      "\n",
      "std(): degrees of freedom is <= 0. Correction should be strictly less than the reduction factor (input numel divided by output numel). (Triggered internally at /Users/runner/work/pytorch/pytorch/pytorch/aten/src/ATen/native/ReduceOps.cpp:1760.)\n",
      "\n"
     ]
    },
    {
     "name": "stdout",
     "output_type": "stream",
     "text": [
      "-3.9*(-0.11*(-0.87*x_1 - 1)**4 - (-0.31*x_2 - 1)**3 - 0.88)**2\n",
      "sampled_index 96 signature  tensor([[  3.9451,  -0.1163,  -4.6370,  -1.4052,   0.1366, -49.7038]],\n",
      "       grad_fn=<StackBackward0>)\n",
      "sampled_index 96 signature  tensor([[  3.9999,  -0.1113,  -4.6395,  -0.9787,   0.1324, -50.4240]],\n",
      "       grad_fn=<StackBackward0>)\n",
      "Number of vertices: 106712\n",
      "dataset full size: 270\n"
     ]
    },
    {
     "name": "stderr",
     "output_type": "stream",
     "text": [
      "train loss: 5.05e-02 | test loss: 5.13e-02 | reg: 3.04e+00 : 100%|██| 20/20 [00:02<00:00,  8.67it/s]\n",
      "train loss: 1.10e-03 | test loss: 2.03e-03 | reg: 2.79e+00 : 100%|██| 50/50 [00:02<00:00, 20.35it/s]\n"
     ]
    },
    {
     "name": "stdout",
     "output_type": "stream",
     "text": [
      "r2 is 0.8424825668334961\n",
      "r2 is not very high, please double check if you are choosing the correct symbolic function.\n",
      "r2 is 0.6694029569625854\n",
      "r2 is not very high, please double check if you are choosing the correct symbolic function.\n",
      "Best value at boundary.\n",
      "r2 is 0.9957288503646851\n"
     ]
    },
    {
     "name": "stderr",
     "output_type": "stream",
     "text": [
      "train loss: 2.57e-03 | test loss: 2.97e-03 | reg: 1.84e+01 : 100%|██| 50/50 [00:01<00:00, 31.89it/s]\n",
      "/Users/gal.yona/Documents/MSc/Thesis/ImplicitNeuralSurfaces/forked_pykan/pykan/kan/KAN.py:344: UserWarning:\n",
      "\n",
      "std(): degrees of freedom is <= 0. Correction should be strictly less than the reduction factor (input numel divided by output numel). (Triggered internally at /Users/runner/work/pytorch/pytorch/pytorch/aten/src/ATen/native/ReduceOps.cpp:1760.)\n",
      "\n"
     ]
    },
    {
     "name": "stdout",
     "output_type": "stream",
     "text": [
      "38.79*((0.05 - x_1)**4 - 0.49*(0.05 - x_2)**3 + 0.09)**2 - 0.31\n",
      "Number of vertices: 106712\n",
      "dataset down sampled size: 217\n"
     ]
    },
    {
     "name": "stderr",
     "output_type": "stream",
     "text": [
      "train loss: 3.13e-02 | test loss: 3.27e-02 | reg: 3.49e+00 : 100%|██| 20/20 [00:02<00:00,  9.28it/s]\n",
      "train loss: 2.46e-03 | test loss: 2.96e-03 | reg: 1.93e+01 : 100%|██| 50/50 [00:00<00:00, 88.85it/s]\n"
     ]
    },
    {
     "name": "stdout",
     "output_type": "stream",
     "text": [
      "r2 is 0.9998483061790466\n",
      "r2 is 0.9998779892921448\n",
      "Best value at boundary.\n",
      "r2 is 0.999924898147583\n"
     ]
    },
    {
     "name": "stderr",
     "output_type": "stream",
     "text": [
      "train loss: 2.46e-03 | test loss: 2.96e-03 | reg: 1.94e+01 : 100%|██| 50/50 [00:00<00:00, 71.65it/s]\n",
      "/Users/gal.yona/Documents/MSc/Thesis/ImplicitNeuralSurfaces/forked_pykan/pykan/kan/KAN.py:344: UserWarning:\n",
      "\n",
      "std(): degrees of freedom is <= 0. Correction should be strictly less than the reduction factor (input numel divided by output numel). (Triggered internally at /Users/runner/work/pytorch/pytorch/pytorch/aten/src/ATen/native/ReduceOps.cpp:1760.)\n",
      "\n"
     ]
    },
    {
     "name": "stdout",
     "output_type": "stream",
     "text": [
      "7.51*((0.05 - x_1)**4 - 0.51*(0.05 - x_2)**3 + 0.46)**2 - 1.6\n",
      "sampled_index 97 signature  tensor([[ 0.3727, -0.1721, -3.9118, -9.9727, -7.2807,  3.6783]],\n",
      "       grad_fn=<StackBackward0>)\n",
      "sampled_index 97 signature  tensor([[  0.3986,  -0.1826,  -3.9306, -10.4924,  -7.7275,   3.8928]],\n",
      "       grad_fn=<StackBackward0>)\n",
      "Number of vertices: 106712\n",
      "dataset full size: 285\n"
     ]
    },
    {
     "name": "stderr",
     "output_type": "stream",
     "text": [
      "train loss: 4.94e-02 | test loss: 4.94e-02 | reg: 2.76e+00 : 100%|██| 20/20 [00:02<00:00,  8.63it/s]\n",
      "train loss: 4.89e-04 | test loss: 1.26e-03 | reg: 2.63e+00 : 100%|██| 50/50 [00:01<00:00, 28.68it/s]\n"
     ]
    },
    {
     "name": "stdout",
     "output_type": "stream",
     "text": [
      "r2 is 0.7818437814712524\n",
      "r2 is not very high, please double check if you are choosing the correct symbolic function.\n",
      "r2 is 0.9981662034988403\n",
      "Best value at boundary.\n",
      "r2 is 0.7094878554344177\n",
      "r2 is not very high, please double check if you are choosing the correct symbolic function.\n"
     ]
    },
    {
     "name": "stderr",
     "output_type": "stream",
     "text": [
      "train loss: 8.79e-04 | test loss: 1.06e-03 | reg: 2.11e+08 : 100%|██| 50/50 [00:02<00:00, 22.56it/s]\n",
      "/Users/gal.yona/Documents/MSc/Thesis/ImplicitNeuralSurfaces/forked_pykan/pykan/kan/KAN.py:344: UserWarning:\n",
      "\n",
      "std(): degrees of freedom is <= 0. Correction should be strictly less than the reduction factor (input numel divided by output numel). (Triggered internally at /Users/runner/work/pytorch/pytorch/pytorch/aten/src/ATen/native/ReduceOps.cpp:1760.)\n",
      "\n"
     ]
    },
    {
     "name": "stdout",
     "output_type": "stream",
     "text": [
      "-0.98*(-0.01*(-0.23*x_1 - 1)**4 - (-x_2 - 0.34)**3)**2\n",
      "Number of vertices: 106712\n",
      "dataset down sampled size: 229\n"
     ]
    },
    {
     "name": "stderr",
     "output_type": "stream",
     "text": [
      "train loss: 5.48e-02 | test loss: 5.45e-02 | reg: 3.01e+00 : 100%|██| 20/20 [00:02<00:00,  8.83it/s]\n",
      "train loss: 8.09e-04 | test loss: 9.72e-04 | reg: 3.35e+02 : 100%|█| 50/50 [00:00<00:00, 108.77it/s]\n"
     ]
    },
    {
     "name": "stdout",
     "output_type": "stream",
     "text": [
      "r2 is 1.0000003576278687\n",
      "r2 is 1.0000003576278687\n",
      "r2 is 1.0000004768371582\n"
     ]
    },
    {
     "name": "stderr",
     "output_type": "stream",
     "text": [
      "train loss: 8.09e-04 | test loss: 9.72e-04 | reg: 2.09e+08 : 100%|█| 50/50 [00:00<00:00, 114.77it/s]\n",
      "/Users/gal.yona/Documents/MSc/Thesis/ImplicitNeuralSurfaces/forked_pykan/pykan/kan/KAN.py:344: UserWarning:\n",
      "\n",
      "std(): degrees of freedom is <= 0. Correction should be strictly less than the reduction factor (input numel divided by output numel). (Triggered internally at /Users/runner/work/pytorch/pytorch/pytorch/aten/src/ATen/native/ReduceOps.cpp:1760.)\n",
      "\n"
     ]
    },
    {
     "name": "stdout",
     "output_type": "stream",
     "text": [
      "-0.94*(-0.01*(-0.23*x_1 - 1)**4 - (-x_2 - 0.34)**3)**2\n",
      "sampled_index 98 signature  tensor([[ 1.7821e-01, -1.3239e-04, -3.3101e-02,  2.3081e+00,  3.5285e-05,\n",
      "         -3.8417e-03]], grad_fn=<StackBackward0>)\n",
      "sampled_index 98 signature  tensor([[ 1.7102e-01, -1.2287e-04, -3.1756e-02,  2.2152e+00,  3.3095e-05,\n",
      "         -3.5624e-03]], grad_fn=<StackBackward0>)\n",
      "Number of vertices: 106712\n",
      "dataset full size: 336\n"
     ]
    },
    {
     "name": "stderr",
     "output_type": "stream",
     "text": [
      "train loss: 1.04e-02 | test loss: 1.15e-02 | reg: 3.16e+00 : 100%|██| 20/20 [00:02<00:00,  6.90it/s]\n",
      "train loss: 7.17e-04 | test loss: 4.09e-03 | reg: 3.04e+00 : 100%|██| 50/50 [00:01<00:00, 30.32it/s]\n"
     ]
    },
    {
     "name": "stdout",
     "output_type": "stream",
     "text": [
      "r2 is 0.9961554408073425\n",
      "r2 is 0.9957120418548584\n",
      "r2 is 0.9972866773605347\n"
     ]
    },
    {
     "name": "stderr",
     "output_type": "stream",
     "text": [
      "train loss: 1.21e-03 | test loss: 3.07e-03 | reg: 3.18e+00 : 100%|██| 50/50 [00:00<00:00, 75.91it/s]\n",
      "/Users/gal.yona/Documents/MSc/Thesis/ImplicitNeuralSurfaces/forked_pykan/pykan/kan/KAN.py:344: UserWarning:\n",
      "\n",
      "std(): degrees of freedom is <= 0. Correction should be strictly less than the reduction factor (input numel divided by output numel). (Triggered internally at /Users/runner/work/pytorch/pytorch/pytorch/aten/src/ATen/native/ReduceOps.cpp:1760.)\n",
      "\n"
     ]
    },
    {
     "name": "stdout",
     "output_type": "stream",
     "text": [
      "-7.92*(0.04*(-x_1 - 0.99)**4 + (-0.11*x_2 - 1)**3 + 0.97)**2\n",
      "Number of vertices: 106712\n",
      "dataset down sampled size: 269\n"
     ]
    },
    {
     "name": "stderr",
     "output_type": "stream",
     "text": [
      "train loss: 1.02e-02 | test loss: 1.20e-02 | reg: 3.32e+00 : 100%|██| 20/20 [00:02<00:00,  8.94it/s]\n",
      "train loss: 1.20e-03 | test loss: 3.16e-03 | reg: 3.09e+00 : 100%|██| 50/50 [00:00<00:00, 84.35it/s]\n"
     ]
    },
    {
     "name": "stdout",
     "output_type": "stream",
     "text": [
      "r2 is 1.0000003576278687\n",
      "r2 is 1.0000003576278687\n",
      "r2 is 0.9996641874313354\n"
     ]
    },
    {
     "name": "stderr",
     "output_type": "stream",
     "text": [
      "train loss: 1.20e-03 | test loss: 3.16e-03 | reg: 3.17e+00 : 100%|██| 50/50 [00:01<00:00, 43.82it/s]\n",
      "/Users/gal.yona/Documents/MSc/Thesis/ImplicitNeuralSurfaces/forked_pykan/pykan/kan/KAN.py:344: UserWarning:\n",
      "\n",
      "std(): degrees of freedom is <= 0. Correction should be strictly less than the reduction factor (input numel divided by output numel). (Triggered internally at /Users/runner/work/pytorch/pytorch/pytorch/aten/src/ATen/native/ReduceOps.cpp:1760.)\n",
      "\n"
     ]
    },
    {
     "name": "stdout",
     "output_type": "stream",
     "text": [
      "-7.97*(0.04*(-x_1 - 0.99)**4 + (-0.11*x_2 - 1)**3 + 0.97)**2\n",
      "sampled_index 99 signature  tensor([[ 1.0078,  0.0423, -1.1868, -1.1913, -0.0542, -4.0715]],\n",
      "       grad_fn=<StackBackward0>)\n",
      "sampled_index 99 signature  tensor([[ 1.0087,  0.0432, -1.1902, -1.1960, -0.0552, -4.0801]],\n",
      "       grad_fn=<StackBackward0>)\n",
      "Number of vertices: 106712\n",
      "dataset full size: 301\n"
     ]
    },
    {
     "name": "stderr",
     "output_type": "stream",
     "text": [
      "train loss: 5.88e-02 | test loss: 6.31e-02 | reg: 2.60e+00 : 100%|██| 20/20 [00:02<00:00,  8.17it/s]\n",
      "train loss: 4.42e-03 | test loss: 7.26e-03 | reg: 3.02e+00 : 100%|██| 50/50 [00:01<00:00, 30.01it/s]\n"
     ]
    },
    {
     "name": "stdout",
     "output_type": "stream",
     "text": [
      "r2 is 0.997627317905426\n",
      "r2 is 0.9969338774681091\n",
      "r2 is 0.5952557921409607\n",
      "r2 is not very high, please double check if you are choosing the correct symbolic function.\n"
     ]
    },
    {
     "name": "stderr",
     "output_type": "stream",
     "text": [
      "train loss: nan | test loss: nan | reg: nan : 100%|█████████████████| 50/50 [00:03<00:00, 16.47it/s]\n",
      "/Users/gal.yona/Documents/MSc/Thesis/ImplicitNeuralSurfaces/forked_pykan/pykan/kan/KAN.py:344: UserWarning:\n",
      "\n",
      "std(): degrees of freedom is <= 0. Correction should be strictly less than the reduction factor (input numel divided by output numel). (Triggered internally at /Users/runner/work/pytorch/pytorch/pytorch/aten/src/ATen/native/ReduceOps.cpp:1760.)\n",
      "\n"
     ]
    },
    {
     "name": "stdout",
     "output_type": "stream",
     "text": [
      "nan\n",
      "Number of vertices: 106712\n",
      "dataset down sampled size: 241\n"
     ]
    },
    {
     "name": "stderr",
     "output_type": "stream",
     "text": [
      "train loss: 5.80e-02 | test loss: 6.23e-02 | reg: 2.75e+00 : 100%|██| 20/20 [00:02<00:00,  9.03it/s]\n",
      "train loss: nan | test loss: nan | reg: nan : 100%|█████████████████| 50/50 [00:03<00:00, 14.54it/s]\n"
     ]
    },
    {
     "name": "stdout",
     "output_type": "stream",
     "text": [
      "Best value at boundary.\n",
      "r2 is 0.0\n",
      "r2 is not very high, please double check if you are choosing the correct symbolic function.\n",
      "nan encountered\n",
      "Number of vertices: 106712\n",
      "dataset full size: 318\n"
     ]
    },
    {
     "name": "stderr",
     "output_type": "stream",
     "text": [
      "train loss: 1.50e-02 | test loss: 1.45e-02 | reg: 3.06e+00 : 100%|██| 20/20 [00:02<00:00,  8.27it/s]\n",
      "train loss: 4.07e-03 | test loss: 9.71e-03 | reg: 2.09e+00 : 100%|██| 50/50 [00:01<00:00, 25.93it/s]\n"
     ]
    },
    {
     "name": "stdout",
     "output_type": "stream",
     "text": [
      "r2 is 0.7792626023292542\n",
      "r2 is not very high, please double check if you are choosing the correct symbolic function.\n",
      "r2 is 0.9885270595550537\n",
      "r2 is 0.8646475076675415\n",
      "r2 is not very high, please double check if you are choosing the correct symbolic function.\n"
     ]
    },
    {
     "name": "stderr",
     "output_type": "stream",
     "text": [
      "train loss: 5.49e-03 | test loss: 1.12e-02 | reg: 4.12e+00 : 100%|██| 50/50 [00:00<00:00, 52.26it/s]\n",
      "/Users/gal.yona/Documents/MSc/Thesis/ImplicitNeuralSurfaces/forked_pykan/pykan/kan/KAN.py:344: UserWarning:\n",
      "\n",
      "std(): degrees of freedom is <= 0. Correction should be strictly less than the reduction factor (input numel divided by output numel). (Triggered internally at /Users/runner/work/pytorch/pytorch/pytorch/aten/src/ATen/native/ReduceOps.cpp:1760.)\n",
      "\n"
     ]
    },
    {
     "name": "stdout",
     "output_type": "stream",
     "text": [
      "546197.11*(0.03 - x_1)**8 - 0.e-2\n",
      "Number of vertices: 106712\n",
      "dataset down sampled size: 255\n"
     ]
    },
    {
     "name": "stderr",
     "output_type": "stream",
     "text": [
      "train loss: 2.17e-02 | test loss: 2.04e-02 | reg: 3.34e+00 : 100%|██| 20/20 [00:02<00:00,  9.02it/s]\n",
      "train loss: 5.43e-03 | test loss: 1.05e-02 | reg: 2.45e+00 : 100%|██| 50/50 [00:00<00:00, 61.68it/s]\n"
     ]
    },
    {
     "name": "stdout",
     "output_type": "stream",
     "text": [
      "Best value at boundary.\n",
      "r2 is 0.9977672100067139\n",
      "r2 is 1.0000004768371582\n",
      "r2 is 0.999938428401947\n"
     ]
    },
    {
     "name": "stderr",
     "output_type": "stream",
     "text": [
      "train loss: 5.44e-03 | test loss: 1.08e-02 | reg: 4.10e+00 : 100%|██| 50/50 [00:00<00:00, 64.41it/s]\n",
      "/Users/gal.yona/Documents/MSc/Thesis/ImplicitNeuralSurfaces/forked_pykan/pykan/kan/KAN.py:344: UserWarning:\n",
      "\n",
      "std(): degrees of freedom is <= 0. Correction should be strictly less than the reduction factor (input numel divided by output numel). (Triggered internally at /Users/runner/work/pytorch/pytorch/pytorch/aten/src/ATen/native/ReduceOps.cpp:1760.)\n",
      "\n"
     ]
    },
    {
     "name": "stdout",
     "output_type": "stream",
     "text": [
      "309990.17*(0.04 - x_1)**8 - 0.e-2\n",
      "sampled_index 101 signature  tensor([[  -1.4684,   -2.9083,    8.3358,   22.2850,  -83.7996, -179.3011]],\n",
      "       grad_fn=<StackBackward0>)\n",
      "sampled_index 101 signature  tensor([[  -1.4212,   -3.4583,   10.1841,   19.5881,  -97.1072, -169.9019]],\n",
      "       grad_fn=<StackBackward0>)\n",
      "Number of vertices: 106712\n",
      "dataset full size: 255\n"
     ]
    },
    {
     "name": "stderr",
     "output_type": "stream",
     "text": [
      "train loss: 2.01e-02 | test loss: 2.15e-02 | reg: 3.41e+00 : 100%|██| 20/20 [00:02<00:00,  9.26it/s]\n",
      "train loss: 1.95e-03 | test loss: 4.05e-03 | reg: 2.03e+00 : 100%|██| 50/50 [00:01<00:00, 27.73it/s]\n"
     ]
    },
    {
     "name": "stdout",
     "output_type": "stream",
     "text": [
      "r2 is 0.9460297226905823\n",
      "r2 is 0.3776806890964508\n",
      "r2 is not very high, please double check if you are choosing the correct symbolic function.\n",
      "Best value at boundary.\n",
      "r2 is 0.3185526430606842\n",
      "r2 is not very high, please double check if you are choosing the correct symbolic function.\n"
     ]
    },
    {
     "name": "stderr",
     "output_type": "stream",
     "text": [
      "train loss: 3.16e-03 | test loss: 3.38e-03 | reg: 5.27e+02 : 100%|██| 50/50 [00:03<00:00, 16.31it/s]\n",
      "/Users/gal.yona/Documents/MSc/Thesis/ImplicitNeuralSurfaces/forked_pykan/pykan/kan/KAN.py:344: UserWarning:\n",
      "\n",
      "std(): degrees of freedom is <= 0. Correction should be strictly less than the reduction factor (input numel divided by output numel). (Triggered internally at /Users/runner/work/pytorch/pytorch/pytorch/aten/src/ATen/native/ReduceOps.cpp:1760.)\n",
      "\n"
     ]
    },
    {
     "name": "stdout",
     "output_type": "stream",
     "text": [
      "3.82*(0.24*(0.04 - x_2)**3 + 0.99*(-x_1 - 0.08)**4 - 1)**2 - 3.83\n",
      "Number of vertices: 106712\n",
      "dataset down sampled size: 205\n"
     ]
    },
    {
     "name": "stderr",
     "output_type": "stream",
     "text": [
      "train loss: 1.53e-02 | test loss: 1.66e-02 | reg: 3.23e+00 : 100%|██| 20/20 [00:02<00:00,  9.37it/s]\n",
      "train loss: 3.15e-03 | test loss: 3.36e-03 | reg: 5.50e+02 : 100%|██| 50/50 [00:00<00:00, 73.91it/s]\n"
     ]
    },
    {
     "name": "stdout",
     "output_type": "stream",
     "text": [
      "r2 is 0.9999841451644897\n",
      "Best value at boundary.\n",
      "r2 is 0.9998000860214233\n",
      "Best value at boundary.\n",
      "r2 is 0.999975323677063\n"
     ]
    },
    {
     "name": "stderr",
     "output_type": "stream",
     "text": [
      "train loss: 3.15e-03 | test loss: 3.37e-03 | reg: 5.49e+02 : 100%|██| 50/50 [00:00<00:00, 75.69it/s]\n",
      "/Users/gal.yona/Documents/MSc/Thesis/ImplicitNeuralSurfaces/forked_pykan/pykan/kan/KAN.py:344: UserWarning:\n",
      "\n",
      "std(): degrees of freedom is <= 0. Correction should be strictly less than the reduction factor (input numel divided by output numel). (Triggered internally at /Users/runner/work/pytorch/pytorch/pytorch/aten/src/ATen/native/ReduceOps.cpp:1760.)\n",
      "\n"
     ]
    },
    {
     "name": "stdout",
     "output_type": "stream",
     "text": [
      "5.7*(-0.17*(0.04 - x_2)**3 - 0.62*(-x_1 - 0.08)**4 + 1)**2 - 5.71\n",
      "sampled_index 102 signature  tensor([[ 0.5233,  0.2681,  5.5031, -7.3756,  6.5950, -6.5966]],\n",
      "       grad_fn=<StackBackward0>)\n",
      "sampled_index 102 signature  tensor([[ 0.5188,  0.2672,  5.9374, -6.9144,  6.6822, -6.5646]],\n",
      "       grad_fn=<StackBackward0>)\n",
      "Number of vertices: 106712\n",
      "dataset full size: 301\n"
     ]
    },
    {
     "name": "stderr",
     "output_type": "stream",
     "text": [
      "train loss: 1.51e-02 | test loss: 1.56e-02 | reg: 3.49e+00 : 100%|██| 20/20 [00:02<00:00,  8.48it/s]\n",
      "train loss: 2.39e-03 | test loss: 2.79e-03 | reg: 1.79e+00 : 100%|██| 50/50 [00:01<00:00, 27.55it/s]\n"
     ]
    },
    {
     "name": "stdout",
     "output_type": "stream",
     "text": [
      "r2 is 0.991155743598938\n",
      "r2 is 0.8178338408470154\n",
      "r2 is not very high, please double check if you are choosing the correct symbolic function.\n",
      "r2 is 0.6262909770011902\n",
      "r2 is not very high, please double check if you are choosing the correct symbolic function.\n"
     ]
    },
    {
     "name": "stderr",
     "output_type": "stream",
     "text": [
      "train loss: 3.00e-03 | test loss: 3.21e-03 | reg: 5.38e+00 : 100%|██| 50/50 [00:01<00:00, 29.11it/s]\n",
      "/Users/gal.yona/Documents/MSc/Thesis/ImplicitNeuralSurfaces/forked_pykan/pykan/kan/KAN.py:344: UserWarning:\n",
      "\n",
      "std(): degrees of freedom is <= 0. Correction should be strictly less than the reduction factor (input numel divided by output numel). (Triggered internally at /Users/runner/work/pytorch/pytorch/pytorch/aten/src/ATen/native/ReduceOps.cpp:1760.)\n",
      "\n"
     ]
    },
    {
     "name": "stdout",
     "output_type": "stream",
     "text": [
      "476.97*(-(0.07 - x_2)**3 - 0.02*(-x_1 - 0.76)**4 + 0.01)**2\n",
      "Number of vertices: 106712\n",
      "dataset down sampled size: 241\n"
     ]
    },
    {
     "name": "stderr",
     "output_type": "stream",
     "text": [
      "train loss: 1.57e-02 | test loss: 1.60e-02 | reg: 2.88e+00 : 100%|██| 20/20 [00:02<00:00,  9.03it/s]\n",
      "train loss: 3.01e-03 | test loss: 3.21e-03 | reg: 5.28e+00 : 100%|█| 50/50 [00:00<00:00, 112.05it/s]\n"
     ]
    },
    {
     "name": "stdout",
     "output_type": "stream",
     "text": [
      "r2 is 1.0000003576278687\n",
      "r2 is 0.999967634677887\n",
      "Best value at boundary.\n",
      "r2 is 0.6939212679862976\n",
      "r2 is not very high, please double check if you are choosing the correct symbolic function.\n"
     ]
    },
    {
     "name": "stderr",
     "output_type": "stream",
     "text": [
      "train loss: 3.13e-03 | test loss: 3.21e-03 | reg: 4.73e+00 : 100%|██| 50/50 [00:00<00:00, 70.84it/s]\n",
      "/Users/gal.yona/Documents/MSc/Thesis/ImplicitNeuralSurfaces/forked_pykan/pykan/kan/KAN.py:344: UserWarning:\n",
      "\n",
      "std(): degrees of freedom is <= 0. Correction should be strictly less than the reduction factor (input numel divided by output numel). (Triggered internally at /Users/runner/work/pytorch/pytorch/pytorch/aten/src/ATen/native/ReduceOps.cpp:1760.)\n",
      "\n"
     ]
    },
    {
     "name": "stdout",
     "output_type": "stream",
     "text": [
      "266.73*(-(0.07 - x_2)**3 - 0.01*(-x_1 - 0.76)**4 + 0.01)**2 - 0.e-2\n",
      "sampled_index 103 signature  tensor([[ 0.1429, -0.6671, 10.6537, -2.0267,  5.5301,  9.6498]],\n",
      "       grad_fn=<StackBackward0>)\n",
      "sampled_index 103 signature  tensor([[ 0.4974, -0.0496,  3.0670, -4.1796,  2.9825,  1.9342]],\n",
      "       grad_fn=<StackBackward0>)\n",
      "Number of vertices: 106712\n",
      "dataset full size: 330\n"
     ]
    },
    {
     "name": "stderr",
     "output_type": "stream",
     "text": [
      "train loss: 2.81e-02 | test loss: 3.06e-02 | reg: 3.40e+00 : 100%|██| 20/20 [00:03<00:00,  6.52it/s]\n",
      "train loss: 1.77e-03 | test loss: 5.57e-03 | reg: 2.36e+00 : 100%|██| 50/50 [00:01<00:00, 29.67it/s]\n"
     ]
    },
    {
     "name": "stdout",
     "output_type": "stream",
     "text": [
      "r2 is 0.9985015392303467\n",
      "r2 is 0.989612877368927\n",
      "r2 is 0.9403788447380066\n"
     ]
    },
    {
     "name": "stderr",
     "output_type": "stream",
     "text": [
      "train loss: 4.55e-03 | test loss: 1.01e-02 | reg: 4.22e+00 : 100%|██| 50/50 [00:00<00:00, 63.80it/s]\n",
      "/Users/gal.yona/Documents/MSc/Thesis/ImplicitNeuralSurfaces/forked_pykan/pykan/kan/KAN.py:344: UserWarning:\n",
      "\n",
      "std(): degrees of freedom is <= 0. Correction should be strictly less than the reduction factor (input numel divided by output numel). (Triggered internally at /Users/runner/work/pytorch/pytorch/pytorch/aten/src/ATen/native/ReduceOps.cpp:1760.)\n",
      "\n"
     ]
    },
    {
     "name": "stdout",
     "output_type": "stream",
     "text": [
      "21.34*(-0.2*(-0.73*x_1 - 1)**4 + 0.79*(-0.06*x_2 - 1)**3 + 1)**2\n",
      "Number of vertices: 106712\n",
      "dataset down sampled size: 265\n"
     ]
    },
    {
     "name": "stderr",
     "output_type": "stream",
     "text": [
      "train loss: 3.13e-02 | test loss: 3.30e-02 | reg: 3.27e+00 : 100%|██| 20/20 [00:02<00:00,  8.95it/s]\n",
      "train loss: 4.41e-03 | test loss: 8.56e-03 | reg: 2.73e+00 : 100%|██| 50/50 [00:00<00:00, 64.57it/s]\n"
     ]
    },
    {
     "name": "stdout",
     "output_type": "stream",
     "text": [
      "r2 is 1.0000004768371582\n",
      "r2 is 1.0000004768371582\n",
      "r2 is 0.9999980330467224\n"
     ]
    },
    {
     "name": "stderr",
     "output_type": "stream",
     "text": [
      "train loss: 4.41e-03 | test loss: 8.56e-03 | reg: 4.19e+00 : 100%|█| 50/50 [00:00<00:00, 116.33it/s]\n",
      "/Users/gal.yona/Documents/MSc/Thesis/ImplicitNeuralSurfaces/forked_pykan/pykan/kan/KAN.py:344: UserWarning:\n",
      "\n",
      "std(): degrees of freedom is <= 0. Correction should be strictly less than the reduction factor (input numel divided by output numel). (Triggered internally at /Users/runner/work/pytorch/pytorch/pytorch/aten/src/ATen/native/ReduceOps.cpp:1760.)\n",
      "\n"
     ]
    },
    {
     "name": "stdout",
     "output_type": "stream",
     "text": [
      "20.87*(-0.21*(-0.73*x_1 - 1)**4 + 0.79*(-0.06*x_2 - 1)**3 + 1)**2\n",
      "sampled_index 104 signature  tensor([[ -6.9762,  -0.5160, 108.3175,  -7.6334, -28.2066,   0.1094]],\n",
      "       grad_fn=<StackBackward0>)\n",
      "sampled_index 104 signature  tensor([[-7.2556e+00, -5.0213e-01,  1.1324e+02, -7.7417e+00, -2.9663e+01,\n",
      "          1.0651e-01]], grad_fn=<StackBackward0>)\n",
      "Number of vertices: 106712\n",
      "dataset full size: 271\n"
     ]
    },
    {
     "name": "stderr",
     "output_type": "stream",
     "text": [
      "train loss: 8.27e-03 | test loss: 8.71e-03 | reg: 3.63e+00 : 100%|██| 20/20 [00:02<00:00,  8.19it/s]\n",
      "train loss: 1.98e-03 | test loss: 3.92e-03 | reg: 5.20e+00 : 100%|██| 50/50 [00:01<00:00, 29.92it/s]\n"
     ]
    },
    {
     "name": "stdout",
     "output_type": "stream",
     "text": [
      "r2 is 0.9931453466415405\n",
      "r2 is 0.4497053325176239\n",
      "r2 is not very high, please double check if you are choosing the correct symbolic function.\n",
      "r2 is 0.7728695869445801\n",
      "r2 is not very high, please double check if you are choosing the correct symbolic function.\n"
     ]
    },
    {
     "name": "stderr",
     "output_type": "stream",
     "text": [
      "train loss: 4.76e-03 | test loss: 4.83e-03 | reg: 2.05e+01 : 100%|██| 50/50 [00:01<00:00, 42.82it/s]\n",
      "/Users/gal.yona/Documents/MSc/Thesis/ImplicitNeuralSurfaces/forked_pykan/pykan/kan/KAN.py:344: UserWarning:\n",
      "\n",
      "std(): degrees of freedom is <= 0. Correction should be strictly less than the reduction factor (input numel divided by output numel). (Triggered internally at /Users/runner/work/pytorch/pytorch/pytorch/aten/src/ATen/native/ReduceOps.cpp:1760.)\n",
      "\n"
     ]
    },
    {
     "name": "stdout",
     "output_type": "stream",
     "text": [
      "6.74*(0.14*(0.38 - x_1)**4 - (-x_2 - 0.04)**3 - 0.41)**2 - 1.13\n",
      "Number of vertices: 106712\n",
      "dataset down sampled size: 217\n"
     ]
    },
    {
     "name": "stderr",
     "output_type": "stream",
     "text": [
      "train loss: 2.53e-02 | test loss: 2.68e-02 | reg: 3.10e+00 : 100%|██| 20/20 [00:02<00:00,  9.25it/s]\n",
      "train loss: 4.72e-03 | test loss: 4.81e-03 | reg: 2.02e+01 : 100%|██| 50/50 [00:00<00:00, 58.26it/s]\n"
     ]
    },
    {
     "name": "stdout",
     "output_type": "stream",
     "text": [
      "r2 is 1.0000004768371582\n",
      "r2 is 0.9998522400856018\n",
      "Best value at boundary.\n",
      "r2 is 0.9999976754188538\n"
     ]
    },
    {
     "name": "stderr",
     "output_type": "stream",
     "text": [
      "train loss: 4.72e-03 | test loss: 4.81e-03 | reg: 2.04e+01 : 100%|██| 50/50 [00:00<00:00, 73.10it/s]\n",
      "/Users/gal.yona/Documents/MSc/Thesis/ImplicitNeuralSurfaces/forked_pykan/pykan/kan/KAN.py:344: UserWarning:\n",
      "\n",
      "std(): degrees of freedom is <= 0. Correction should be strictly less than the reduction factor (input numel divided by output numel). (Triggered internally at /Users/runner/work/pytorch/pytorch/pytorch/aten/src/ATen/native/ReduceOps.cpp:1760.)\n",
      "\n"
     ]
    },
    {
     "name": "stdout",
     "output_type": "stream",
     "text": [
      "6.78*(0.13*(0.38 - x_1)**4 - (-x_2 - 0.04)**3 - 0.46)**2 - 1.42\n",
      "sampled_index 105 signature  tensor([[ 1.3077,  1.7077,  4.0147, 15.8541, 10.6527, 39.9166]],\n",
      "       grad_fn=<StackBackward0>)\n",
      "sampled_index 105 signature  tensor([[ 1.3975,  1.9331,  3.2097, 18.0584,  9.6785, 45.2881]],\n",
      "       grad_fn=<StackBackward0>)\n",
      "Number of vertices: 106712\n",
      "dataset full size: 329\n"
     ]
    },
    {
     "name": "stderr",
     "output_type": "stream",
     "text": [
      "train loss: 3.12e-02 | test loss: 2.95e-02 | reg: 3.50e+00 : 100%|██| 20/20 [00:02<00:00,  6.87it/s]\n",
      "train loss: 4.06e-03 | test loss: 1.75e-02 | reg: 2.68e+00 : 100%|██| 50/50 [00:02<00:00, 20.56it/s]\n"
     ]
    },
    {
     "name": "stdout",
     "output_type": "stream",
     "text": [
      "r2 is 0.9978788495063782\n",
      "r2 is 0.8660664558410645\n",
      "r2 is not very high, please double check if you are choosing the correct symbolic function.\n",
      "r2 is 0.4280918538570404\n",
      "r2 is not very high, please double check if you are choosing the correct symbolic function.\n"
     ]
    },
    {
     "name": "stderr",
     "output_type": "stream",
     "text": [
      "train loss: nan | test loss: nan | reg: nan : 100%|█████████████████| 50/50 [00:03<00:00, 14.87it/s]\n",
      "/Users/gal.yona/Documents/MSc/Thesis/ImplicitNeuralSurfaces/forked_pykan/pykan/kan/KAN.py:344: UserWarning:\n",
      "\n",
      "std(): degrees of freedom is <= 0. Correction should be strictly less than the reduction factor (input numel divided by output numel). (Triggered internally at /Users/runner/work/pytorch/pytorch/pytorch/aten/src/ATen/native/ReduceOps.cpp:1760.)\n",
      "\n"
     ]
    },
    {
     "name": "stdout",
     "output_type": "stream",
     "text": [
      "nan\n",
      "Number of vertices: 106712\n",
      "dataset down sampled size: 264\n"
     ]
    },
    {
     "name": "stderr",
     "output_type": "stream",
     "text": [
      "train loss: 3.34e-02 | test loss: 3.13e-02 | reg: 3.59e+00 : 100%|██| 20/20 [00:02<00:00,  9.07it/s]\n",
      "train loss: nan | test loss: nan | reg: nan : 100%|█████████████████| 50/50 [00:03<00:00, 15.32it/s]\n"
     ]
    },
    {
     "name": "stdout",
     "output_type": "stream",
     "text": [
      "Best value at boundary.\n",
      "r2 is 0.0\n",
      "r2 is not very high, please double check if you are choosing the correct symbolic function.\n",
      "nan encountered\n",
      "Number of vertices: 106712\n",
      "dataset full size: 284\n"
     ]
    },
    {
     "name": "stderr",
     "output_type": "stream",
     "text": [
      "train loss: 5.78e-02 | test loss: 6.23e-02 | reg: 3.40e+00 : 100%|██| 20/20 [00:02<00:00,  8.82it/s]\n",
      "train loss: 1.94e-03 | test loss: 4.85e-01 | reg: 1.84e+01 : 100%|██| 50/50 [00:03<00:00, 16.65it/s]\n"
     ]
    },
    {
     "name": "stdout",
     "output_type": "stream",
     "text": [
      "r2 is 0.9999555349349976\n",
      "r2 is 0.9999642968177795\n",
      "r2 is 0.1324610561132431\n",
      "r2 is not very high, please double check if you are choosing the correct symbolic function.\n"
     ]
    },
    {
     "name": "stderr",
     "output_type": "stream",
     "text": [
      "train loss: 3.40e-03 | test loss: 1.61e-01 | reg: 1.65e+01 : 100%|██| 50/50 [00:00<00:00, 52.98it/s]\n",
      "/Users/gal.yona/Documents/MSc/Thesis/ImplicitNeuralSurfaces/forked_pykan/pykan/kan/KAN.py:344: UserWarning:\n",
      "\n",
      "std(): degrees of freedom is <= 0. Correction should be strictly less than the reduction factor (input numel divided by output numel). (Triggered internally at /Users/runner/work/pytorch/pytorch/pytorch/aten/src/ATen/native/ReduceOps.cpp:1760.)\n",
      "\n"
     ]
    },
    {
     "name": "stdout",
     "output_type": "stream",
     "text": [
      "0.26 - 127.79*(-(0.37 - x_2)**3 + 0.09*(1 - 0.2*x_1)**4 - 0.09)**2\n",
      "Number of vertices: 106712\n",
      "dataset down sampled size: 228\n"
     ]
    },
    {
     "name": "stderr",
     "output_type": "stream",
     "text": [
      "train loss: 6.07e-02 | test loss: 6.47e-02 | reg: 3.30e+00 : 100%|██| 20/20 [00:02<00:00,  9.28it/s]\n",
      "train loss: 3.35e-03 | test loss: 1.62e-01 | reg: 1.59e+01 : 100%|██| 50/50 [00:00<00:00, 89.17it/s]\n"
     ]
    },
    {
     "name": "stdout",
     "output_type": "stream",
     "text": [
      "r2 is 1.0000004768371582\n",
      "r2 is 1.0000004768371582\n",
      "r2 is 1.0000003576278687\n"
     ]
    },
    {
     "name": "stderr",
     "output_type": "stream",
     "text": [
      "train loss: 3.35e-03 | test loss: 1.62e-01 | reg: 1.65e+01 : 100%|█| 50/50 [00:00<00:00, 113.17it/s]\n",
      "/Users/gal.yona/Documents/MSc/Thesis/ImplicitNeuralSurfaces/forked_pykan/pykan/kan/KAN.py:344: UserWarning:\n",
      "\n",
      "std(): degrees of freedom is <= 0. Correction should be strictly less than the reduction factor (input numel divided by output numel). (Triggered internally at /Users/runner/work/pytorch/pytorch/pytorch/aten/src/ATen/native/ReduceOps.cpp:1760.)\n",
      "\n"
     ]
    },
    {
     "name": "stdout",
     "output_type": "stream",
     "text": [
      "0.26 - 128.28*(-(0.37 - x_2)**3 + 0.09*(1 - 0.2*x_1)**4 - 0.09)**2\n",
      "sampled_index 107 signature  tensor([[ 0.3203, -0.0756,  0.3184,  9.4772, -0.0655, -1.6947]],\n",
      "       grad_fn=<StackBackward0>)\n",
      "sampled_index 107 signature  tensor([[ 0.3202, -0.0763,  0.3185,  9.4845, -0.0659, -1.7158]],\n",
      "       grad_fn=<StackBackward0>)\n",
      "Number of vertices: 106712\n",
      "dataset full size: 286\n"
     ]
    },
    {
     "name": "stderr",
     "output_type": "stream",
     "text": [
      "train loss: 1.96e-02 | test loss: 2.02e-02 | reg: 3.27e+00 : 100%|██| 20/20 [00:02<00:00,  8.03it/s]\n",
      "train loss: 8.94e-03 | test loss: 1.01e-02 | reg: 3.33e+00 : 100%|██| 50/50 [00:01<00:00, 25.26it/s]\n"
     ]
    },
    {
     "name": "stdout",
     "output_type": "stream",
     "text": [
      "r2 is 0.9978876709938049\n",
      "Best value at boundary.\n",
      "r2 is 0.19616422057151794\n",
      "r2 is not very high, please double check if you are choosing the correct symbolic function.\n",
      "Best value at boundary.\n",
      "r2 is 0.5112956762313843\n",
      "r2 is not very high, please double check if you are choosing the correct symbolic function.\n"
     ]
    },
    {
     "name": "stderr",
     "output_type": "stream",
     "text": [
      "train loss: 9.46e-03 | test loss: 8.99e-03 | reg: 1.36e+02 : 100%|██| 50/50 [00:01<00:00, 39.27it/s]\n",
      "/Users/gal.yona/Documents/MSc/Thesis/ImplicitNeuralSurfaces/forked_pykan/pykan/kan/KAN.py:344: UserWarning:\n",
      "\n",
      "std(): degrees of freedom is <= 0. Correction should be strictly less than the reduction factor (input numel divided by output numel). (Triggered internally at /Users/runner/work/pytorch/pytorch/pytorch/aten/src/ATen/native/ReduceOps.cpp:1760.)\n",
      "\n"
     ]
    },
    {
     "name": "stdout",
     "output_type": "stream",
     "text": [
      "0.01 - 333.04*(-(-x_1 - 0.26)**4 + 0.33*(x_2 - 0.02)**3 + 0.01)**2\n",
      "Number of vertices: 106712\n",
      "dataset down sampled size: 229\n"
     ]
    },
    {
     "name": "stderr",
     "output_type": "stream",
     "text": [
      "train loss: 1.61e-02 | test loss: 1.30e-02 | reg: 3.51e+00 : 100%|██| 20/20 [00:02<00:00,  9.25it/s]\n",
      "train loss: 9.24e-03 | test loss: 9.09e-03 | reg: 3.30e+00 : 100%|██| 50/50 [00:01<00:00, 48.89it/s]\n"
     ]
    },
    {
     "name": "stdout",
     "output_type": "stream",
     "text": [
      "r2 is 1.0000003576278687\n",
      "r2 is 1.000000238418579\n",
      "Best value at boundary.\n",
      "r2 is 0.9999998807907104\n"
     ]
    },
    {
     "name": "stderr",
     "output_type": "stream",
     "text": [
      "train loss: 9.24e-03 | test loss: 9.09e-03 | reg: 1.78e+02 : 100%|██| 50/50 [00:00<00:00, 55.53it/s]\n",
      "/Users/gal.yona/Documents/MSc/Thesis/ImplicitNeuralSurfaces/forked_pykan/pykan/kan/KAN.py:344: UserWarning:\n",
      "\n",
      "std(): degrees of freedom is <= 0. Correction should be strictly less than the reduction factor (input numel divided by output numel). (Triggered internally at /Users/runner/work/pytorch/pytorch/pytorch/aten/src/ATen/native/ReduceOps.cpp:1760.)\n",
      "\n"
     ]
    },
    {
     "name": "stdout",
     "output_type": "stream",
     "text": [
      "0.01 - 850.5*(-0.23*(0.03 - x_2)**3 - (-x_1 - 0.22)**4 + 0.01)**2\n",
      "sampled_index 108 signature  tensor([[  0.4218,  -0.0977,  -3.3135, -46.5270,  -5.0563,   7.8953]],\n",
      "       grad_fn=<StackBackward0>)\n",
      "sampled_index 108 signature  tensor([[-3.1453e-02, -1.7904e-02,  8.0152e+00, -4.4802e+01, -7.1932e-01,\n",
      "          1.4434e+01]], grad_fn=<StackBackward0>)\n",
      "Number of vertices: 106712\n",
      "dataset full size: 281\n"
     ]
    },
    {
     "name": "stderr",
     "output_type": "stream",
     "text": [
      "train loss: 1.23e-02 | test loss: 1.17e-02 | reg: 3.28e+00 : 100%|██| 20/20 [00:02<00:00,  9.04it/s]\n",
      "train loss: 3.73e-03 | test loss: 1.02e-02 | reg: 4.22e+00 : 100%|██| 50/50 [00:02<00:00, 23.78it/s]\n"
     ]
    },
    {
     "name": "stdout",
     "output_type": "stream",
     "text": [
      "r2 is 0.9667069315910339\n",
      "r2 is 0.9681570529937744\n",
      "r2 is 0.6128111481666565\n",
      "r2 is not very high, please double check if you are choosing the correct symbolic function.\n"
     ]
    },
    {
     "name": "stderr",
     "output_type": "stream",
     "text": [
      "train loss: 5.69e-03 | test loss: 8.50e-03 | reg: 1.24e+01 : 100%|██| 50/50 [00:01<00:00, 42.24it/s]\n",
      "/Users/gal.yona/Documents/MSc/Thesis/ImplicitNeuralSurfaces/forked_pykan/pykan/kan/KAN.py:344: UserWarning:\n",
      "\n",
      "std(): degrees of freedom is <= 0. Correction should be strictly less than the reduction factor (input numel divided by output numel). (Triggered internally at /Users/runner/work/pytorch/pytorch/pytorch/aten/src/ATen/native/ReduceOps.cpp:1760.)\n",
      "\n"
     ]
    },
    {
     "name": "stdout",
     "output_type": "stream",
     "text": [
      "-1.41*(-(0.62 - x_2)**3 + 0.18*(1 - 0.73*x_1)**4 + 0.07)**2 - 0.e-2\n",
      "Number of vertices: 106712\n",
      "dataset down sampled size: 225\n"
     ]
    },
    {
     "name": "stderr",
     "output_type": "stream",
     "text": [
      "train loss: 1.20e-02 | test loss: 1.15e-02 | reg: 3.33e+00 : 100%|██| 20/20 [00:02<00:00,  8.48it/s]\n",
      "train loss: 5.77e-03 | test loss: 8.31e-03 | reg: 2.42e+00 : 100%|██| 50/50 [00:00<00:00, 67.06it/s]\n"
     ]
    },
    {
     "name": "stdout",
     "output_type": "stream",
     "text": [
      "r2 is 1.0000004768371582\n",
      "r2 is 1.0000005960464478\n",
      "r2 is 0.9999995827674866\n"
     ]
    },
    {
     "name": "stderr",
     "output_type": "stream",
     "text": [
      "train loss: 5.77e-03 | test loss: 8.31e-03 | reg: 5.78e+00 : 100%|██| 50/50 [00:00<00:00, 83.98it/s]\n",
      "/Users/gal.yona/Documents/MSc/Thesis/ImplicitNeuralSurfaces/forked_pykan/pykan/kan/KAN.py:344: UserWarning:\n",
      "\n",
      "std(): degrees of freedom is <= 0. Correction should be strictly less than the reduction factor (input numel divided by output numel). (Triggered internally at /Users/runner/work/pytorch/pytorch/pytorch/aten/src/ATen/native/ReduceOps.cpp:1760.)\n",
      "\n"
     ]
    },
    {
     "name": "stdout",
     "output_type": "stream",
     "text": [
      "-1.47*(-(0.62 - x_2)**3 + 0.16*(1 - 0.74*x_1)**4 + 0.09)**2 - 0.e-2\n",
      "sampled_index 109 signature  tensor([[  2.1186,   0.0666,   6.8966, -16.0420,   0.1618,   1.1782]],\n",
      "       grad_fn=<StackBackward0>)\n",
      "sampled_index 109 signature  tensor([[  2.1265,   0.0806,   6.3898, -17.2223,   0.1527,   2.2939]],\n",
      "       grad_fn=<StackBackward0>)\n",
      "Number of vertices: 106712\n",
      "dataset full size: 272\n"
     ]
    },
    {
     "name": "stderr",
     "output_type": "stream",
     "text": [
      "train loss: 8.51e-02 | test loss: 8.40e-02 | reg: 3.17e+00 : 100%|██| 20/20 [00:02<00:00,  8.23it/s]\n",
      "train loss: 1.78e-03 | test loss: 2.03e-03 | reg: 2.51e+00 : 100%|██| 50/50 [00:02<00:00, 20.78it/s]\n"
     ]
    },
    {
     "name": "stdout",
     "output_type": "stream",
     "text": [
      "r2 is 0.9866347908973694\n",
      "r2 is 0.9893441200256348\n",
      "r2 is 0.8115206956863403\n",
      "r2 is not very high, please double check if you are choosing the correct symbolic function.\n"
     ]
    },
    {
     "name": "stderr",
     "output_type": "stream",
     "text": [
      "train loss: 2.36e-03 | test loss: 2.57e-03 | reg: 2.71e+00 : 100%|██| 50/50 [00:00<00:00, 64.92it/s]\n",
      "/Users/gal.yona/Documents/MSc/Thesis/ImplicitNeuralSurfaces/forked_pykan/pykan/kan/KAN.py:344: UserWarning:\n",
      "\n",
      "std(): degrees of freedom is <= 0. Correction should be strictly less than the reduction factor (input numel divided by output numel). (Triggered internally at /Users/runner/work/pytorch/pytorch/pytorch/aten/src/ATen/native/ReduceOps.cpp:1760.)\n",
      "\n"
     ]
    },
    {
     "name": "stdout",
     "output_type": "stream",
     "text": [
      "-0.19*((0.53 - x_2)**3 - 0.22*(-0.46*x_1 - 1)**4 - 0.06)**2\n",
      "Number of vertices: 106712\n",
      "dataset down sampled size: 218\n"
     ]
    },
    {
     "name": "stderr",
     "output_type": "stream",
     "text": [
      "train loss: 7.88e-02 | test loss: 7.79e-02 | reg: 2.73e+00 : 100%|██| 20/20 [00:02<00:00,  8.49it/s]\n",
      "train loss: 2.33e-03 | test loss: 2.55e-03 | reg: 2.42e+00 : 100%|██| 50/50 [00:00<00:00, 84.63it/s]\n"
     ]
    },
    {
     "name": "stdout",
     "output_type": "stream",
     "text": [
      "Best value at boundary.\n",
      "r2 is 1.0000001192092896\n",
      "r2 is 1.0000003576278687\n",
      "r2 is 0.9999437928199768\n"
     ]
    },
    {
     "name": "stderr",
     "output_type": "stream",
     "text": [
      "train loss: 2.33e-03 | test loss: 2.55e-03 | reg: 2.71e+00 : 100%|██| 50/50 [00:00<00:00, 56.52it/s]\n",
      "/Users/gal.yona/Documents/MSc/Thesis/ImplicitNeuralSurfaces/forked_pykan/pykan/kan/KAN.py:344: UserWarning:\n",
      "\n",
      "std(): degrees of freedom is <= 0. Correction should be strictly less than the reduction factor (input numel divided by output numel). (Triggered internally at /Users/runner/work/pytorch/pytorch/pytorch/aten/src/ATen/native/ReduceOps.cpp:1760.)\n",
      "\n"
     ]
    },
    {
     "name": "stdout",
     "output_type": "stream",
     "text": [
      "-0.19*((0.53 - x_2)**3 - 0.21*(-0.46*x_1 - 1)**4 - 0.06)**2\n",
      "sampled_index 110 signature  tensor([[ 0.1029, -0.0059, -0.7822, -1.0636, -0.0230, -0.1068]],\n",
      "       grad_fn=<StackBackward0>)\n",
      "sampled_index 110 signature  tensor([[ 0.1029, -0.0057, -0.7798, -1.0681, -0.0226, -0.1055]],\n",
      "       grad_fn=<StackBackward0>)\n",
      "Number of vertices: 106712\n",
      "dataset full size: 274\n"
     ]
    },
    {
     "name": "stderr",
     "output_type": "stream",
     "text": [
      "train loss: 1.25e-02 | test loss: 1.29e-02 | reg: 3.52e+00 : 100%|██| 20/20 [00:02<00:00,  8.29it/s]\n",
      "train loss: 2.74e-03 | test loss: 1.04e-02 | reg: 4.37e+00 : 100%|██| 50/50 [00:02<00:00, 23.03it/s]\n"
     ]
    },
    {
     "name": "stdout",
     "output_type": "stream",
     "text": [
      "r2 is 0.9865366816520691\n",
      "r2 is 0.993281900882721\n",
      "r2 is 0.7755978107452393\n",
      "r2 is not very high, please double check if you are choosing the correct symbolic function.\n"
     ]
    },
    {
     "name": "stderr",
     "output_type": "stream",
     "text": [
      "train loss: nan | test loss: nan | reg: nan : 100%|█████████████████| 50/50 [00:03<00:00, 14.64it/s]\n",
      "/Users/gal.yona/Documents/MSc/Thesis/ImplicitNeuralSurfaces/forked_pykan/pykan/kan/KAN.py:344: UserWarning:\n",
      "\n",
      "std(): degrees of freedom is <= 0. Correction should be strictly less than the reduction factor (input numel divided by output numel). (Triggered internally at /Users/runner/work/pytorch/pytorch/pytorch/aten/src/ATen/native/ReduceOps.cpp:1760.)\n",
      "\n"
     ]
    },
    {
     "name": "stdout",
     "output_type": "stream",
     "text": [
      "nan\n",
      "Number of vertices: 106712\n",
      "dataset down sampled size: 220\n"
     ]
    },
    {
     "name": "stderr",
     "output_type": "stream",
     "text": [
      "train loss: 1.12e-02 | test loss: 1.18e-02 | reg: 3.42e+00 : 100%|██| 20/20 [00:02<00:00,  8.46it/s]\n",
      "train loss: nan | test loss: nan | reg: nan : 100%|█████████████████| 50/50 [00:03<00:00, 14.69it/s]\n"
     ]
    },
    {
     "name": "stdout",
     "output_type": "stream",
     "text": [
      "Best value at boundary.\n",
      "r2 is 0.0\n",
      "r2 is not very high, please double check if you are choosing the correct symbolic function.\n",
      "nan encountered\n",
      "Number of vertices: 106712\n",
      "dataset full size: 351\n"
     ]
    },
    {
     "name": "stderr",
     "output_type": "stream",
     "text": [
      "train loss: 2.37e-02 | test loss: 2.56e-02 | reg: 3.17e+00 : 100%|██| 20/20 [00:03<00:00,  6.66it/s]\n",
      "train loss: 1.95e-03 | test loss: 6.41e-03 | reg: 2.70e+00 : 100%|██| 50/50 [00:02<00:00, 18.25it/s]\n"
     ]
    },
    {
     "name": "stdout",
     "output_type": "stream",
     "text": [
      "r2 is 0.9995217323303223\n",
      "r2 is 0.9992879033088684\n",
      "r2 is 0.8107225894927979\n",
      "r2 is not very high, please double check if you are choosing the correct symbolic function.\n"
     ]
    },
    {
     "name": "stderr",
     "output_type": "stream",
     "text": [
      "train loss: 6.38e-03 | test loss: 6.68e-03 | reg: 4.01e+00 : 100%|██| 50/50 [00:00<00:00, 55.12it/s]\n",
      "/Users/gal.yona/Documents/MSc/Thesis/ImplicitNeuralSurfaces/forked_pykan/pykan/kan/KAN.py:344: UserWarning:\n",
      "\n",
      "std(): degrees of freedom is <= 0. Correction should be strictly less than the reduction factor (input numel divided by output numel). (Triggered internally at /Users/runner/work/pytorch/pytorch/pytorch/aten/src/ATen/native/ReduceOps.cpp:1760.)\n",
      "\n"
     ]
    },
    {
     "name": "stdout",
     "output_type": "stream",
     "text": [
      "0.23*(0.43*(1 - 0.95*x_2)**3 + 0.12*(-0.46*x_1 - 1)**4 - 1)**2 - 0.05\n",
      "Number of vertices: 106712\n",
      "dataset down sampled size: 281\n"
     ]
    },
    {
     "name": "stderr",
     "output_type": "stream",
     "text": [
      "train loss: 2.87e-02 | test loss: 3.02e-02 | reg: 3.42e+00 : 100%|██| 20/20 [00:02<00:00,  8.02it/s]\n",
      "train loss: 6.47e-03 | test loss: 6.65e-03 | reg: 3.16e+00 : 100%|██| 50/50 [00:00<00:00, 57.52it/s]\n"
     ]
    },
    {
     "name": "stdout",
     "output_type": "stream",
     "text": [
      "r2 is 1.0000004768371582\n",
      "r2 is 1.0000003576278687\n",
      "r2 is 1.0000003576278687\n"
     ]
    },
    {
     "name": "stderr",
     "output_type": "stream",
     "text": [
      "train loss: 6.46e-03 | test loss: 6.67e-03 | reg: 4.30e+00 : 100%|██| 50/50 [00:00<00:00, 65.44it/s]\n",
      "/Users/gal.yona/Documents/MSc/Thesis/ImplicitNeuralSurfaces/forked_pykan/pykan/kan/KAN.py:344: UserWarning:\n",
      "\n",
      "std(): degrees of freedom is <= 0. Correction should be strictly less than the reduction factor (input numel divided by output numel). (Triggered internally at /Users/runner/work/pytorch/pytorch/pytorch/aten/src/ATen/native/ReduceOps.cpp:1760.)\n",
      "\n"
     ]
    },
    {
     "name": "stdout",
     "output_type": "stream",
     "text": [
      "0.25*(0.48*(1 - 0.95*x_2)**3 + 0.15*(-0.46*x_1 - 1)**4 - 1)**2 - 0.04\n",
      "sampled_index 112 signature  tensor([[-0.0731, -0.0210,  1.5816, -0.5198,  0.1523, -0.0184]],\n",
      "       grad_fn=<StackBackward0>)\n",
      "sampled_index 112 signature  tensor([[-0.1855, -0.0419,  2.3381, -0.5574,  0.1822,  0.0054]],\n",
      "       grad_fn=<StackBackward0>)\n",
      "Number of vertices: 106712\n",
      "dataset full size: 263\n"
     ]
    },
    {
     "name": "stderr",
     "output_type": "stream",
     "text": [
      "train loss: 1.03e-02 | test loss: 1.03e-02 | reg: 3.47e+00 : 100%|██| 20/20 [00:02<00:00,  8.15it/s]\n",
      "train loss: 3.47e-03 | test loss: 1.29e-02 | reg: 3.47e+00 : 100%|██| 50/50 [00:02<00:00, 18.15it/s]\n"
     ]
    },
    {
     "name": "stdout",
     "output_type": "stream",
     "text": [
      "r2 is 0.8939839601516724\n",
      "r2 is not very high, please double check if you are choosing the correct symbolic function.\n",
      "r2 is 0.9917256832122803\n",
      "Best value at boundary.\n",
      "r2 is 0.048824723809957504\n",
      "r2 is not very high, please double check if you are choosing the correct symbolic function.\n"
     ]
    },
    {
     "name": "stderr",
     "output_type": "stream",
     "text": [
      "train loss: 6.69e-03 | test loss: 6.83e-03 | reg: 5.99e+01 : 100%|██| 50/50 [00:02<00:00, 23.73it/s]\n",
      "/Users/gal.yona/Documents/MSc/Thesis/ImplicitNeuralSurfaces/forked_pykan/pykan/kan/KAN.py:344: UserWarning:\n",
      "\n",
      "std(): degrees of freedom is <= 0. Correction should be strictly less than the reduction factor (input numel divided by output numel). (Triggered internally at /Users/runner/work/pytorch/pytorch/pytorch/aten/src/ATen/native/ReduceOps.cpp:1760.)\n",
      "\n"
     ]
    },
    {
     "name": "stdout",
     "output_type": "stream",
     "text": [
      "19.25*((0.03 - x_2)**3 + 0.01*(0.61 - x_1)**4 - 0.21)**2 - 0.88\n",
      "Number of vertices: 106712\n",
      "dataset down sampled size: 211\n"
     ]
    },
    {
     "name": "stderr",
     "output_type": "stream",
     "text": [
      "train loss: 1.06e-02 | test loss: 1.04e-02 | reg: 3.55e+00 : 100%|██| 20/20 [00:02<00:00,  9.03it/s]\n",
      "train loss: 6.73e-03 | test loss: 6.76e-03 | reg: 5.99e+01 : 100%|██| 50/50 [00:00<00:00, 75.75it/s]\n"
     ]
    },
    {
     "name": "stdout",
     "output_type": "stream",
     "text": [
      "r2 is 1.000000238418579\n",
      "r2 is 0.9989543557167053\n",
      "Best value at boundary.\n",
      "r2 is 0.9999638795852661\n"
     ]
    },
    {
     "name": "stderr",
     "output_type": "stream",
     "text": [
      "train loss: 6.73e-03 | test loss: 6.76e-03 | reg: 6.01e+01 : 100%|█| 50/50 [00:00<00:00, 115.77it/s]\n",
      "/Users/gal.yona/Documents/MSc/Thesis/ImplicitNeuralSurfaces/forked_pykan/pykan/kan/KAN.py:344: UserWarning:\n",
      "\n",
      "std(): degrees of freedom is <= 0. Correction should be strictly less than the reduction factor (input numel divided by output numel). (Triggered internally at /Users/runner/work/pytorch/pytorch/pytorch/aten/src/ATen/native/ReduceOps.cpp:1760.)\n",
      "\n"
     ]
    },
    {
     "name": "stdout",
     "output_type": "stream",
     "text": [
      "4.51*((0.03 - x_2)**3 + 0.01*(0.61 - x_1)**4 - 0.9)**2 - 3.66\n",
      "sampled_index 113 signature  tensor([[  0.7795,   0.2893,   0.3335, -24.4275,   0.9176, -10.5117]],\n",
      "       grad_fn=<StackBackward0>)\n",
      "sampled_index 113 signature  tensor([[  0.7781,   0.2819,   0.3349, -24.2598,   0.9114, -10.1502]],\n",
      "       grad_fn=<StackBackward0>)\n",
      "Number of vertices: 106712\n",
      "dataset full size: 303\n"
     ]
    },
    {
     "name": "stderr",
     "output_type": "stream",
     "text": [
      "train loss: 1.21e-02 | test loss: 1.80e-02 | reg: 3.88e+00 : 100%|██| 20/20 [00:02<00:00,  8.91it/s]\n",
      "train loss: 7.74e-03 | test loss: 2.35e-02 | reg: 3.82e+00 : 100%|██| 50/50 [00:01<00:00, 34.96it/s]\n"
     ]
    },
    {
     "name": "stdout",
     "output_type": "stream",
     "text": [
      "r2 is 0.9985060691833496\n",
      "r2 is 0.4027232825756073\n",
      "r2 is not very high, please double check if you are choosing the correct symbolic function.\n",
      "r2 is 0.19774878025054932\n",
      "r2 is not very high, please double check if you are choosing the correct symbolic function.\n"
     ]
    },
    {
     "name": "stderr",
     "output_type": "stream",
     "text": [
      "train loss: 8.40e-03 | test loss: 2.53e-02 | reg: 5.64e+00 : 100%|██| 50/50 [00:02<00:00, 20.69it/s]\n",
      "/Users/gal.yona/Documents/MSc/Thesis/ImplicitNeuralSurfaces/forked_pykan/pykan/kan/KAN.py:344: UserWarning:\n",
      "\n",
      "std(): degrees of freedom is <= 0. Correction should be strictly less than the reduction factor (input numel divided by output numel). (Triggered internally at /Users/runner/work/pytorch/pytorch/pytorch/aten/src/ATen/native/ReduceOps.cpp:1760.)\n",
      "\n"
     ]
    },
    {
     "name": "stdout",
     "output_type": "stream",
     "text": [
      "0.01 - 106.08*((0.08 - x_2)**3 - 0.22*(-0.11*x_1 - 1)**4 + 0.21)**2\n",
      "Number of vertices: 106712\n",
      "dataset down sampled size: 243\n"
     ]
    },
    {
     "name": "stderr",
     "output_type": "stream",
     "text": [
      "train loss: 1.23e-02 | test loss: 1.78e-02 | reg: 3.88e+00 : 100%|██| 20/20 [00:03<00:00,  5.73it/s]\n",
      "train loss: 8.71e-03 | test loss: 2.50e-02 | reg: 5.14e+00 : 100%|██| 50/50 [00:00<00:00, 57.30it/s]\n"
     ]
    },
    {
     "name": "stdout",
     "output_type": "stream",
     "text": [
      "r2 is 1.0000003576278687\n",
      "r2 is 1.0000004768371582\n",
      "r2 is 0.9999964237213135\n"
     ]
    },
    {
     "name": "stderr",
     "output_type": "stream",
     "text": [
      "train loss: 8.71e-03 | test loss: 2.50e-02 | reg: 5.65e+00 : 100%|██| 50/50 [00:00<00:00, 90.83it/s]\n",
      "/Users/gal.yona/Documents/MSc/Thesis/ImplicitNeuralSurfaces/forked_pykan/pykan/kan/KAN.py:344: UserWarning:\n",
      "\n",
      "std(): degrees of freedom is <= 0. Correction should be strictly less than the reduction factor (input numel divided by output numel). (Triggered internally at /Users/runner/work/pytorch/pytorch/pytorch/aten/src/ATen/native/ReduceOps.cpp:1760.)\n",
      "\n"
     ]
    },
    {
     "name": "stdout",
     "output_type": "stream",
     "text": [
      "0.01 - 103.82*((0.08 - x_2)**3 - 0.22*(-0.11*x_1 - 1)**4 + 0.21)**2\n",
      "sampled_index 114 signature  tensor([[ 0.8819, -0.4105,  1.0429,  4.5479, -4.4575, 18.4508]],\n",
      "       grad_fn=<StackBackward0>)\n",
      "sampled_index 114 signature  tensor([[ 0.8848, -0.4054,  1.0099,  4.4773, -4.4148, 18.3152]],\n",
      "       grad_fn=<StackBackward0>)\n",
      "Number of vertices: 106712\n",
      "dataset full size: 268\n"
     ]
    },
    {
     "name": "stderr",
     "output_type": "stream",
     "text": [
      "train loss: 1.44e-02 | test loss: 1.44e-02 | reg: 3.10e+00 : 100%|██| 20/20 [00:02<00:00,  8.31it/s]\n",
      "train loss: 9.09e-04 | test loss: 8.15e-03 | reg: 3.32e+00 : 100%|██| 50/50 [00:01<00:00, 28.02it/s]\n"
     ]
    },
    {
     "name": "stdout",
     "output_type": "stream",
     "text": [
      "r2 is 0.9539546966552734\n",
      "r2 is 0.9875485897064209\n",
      "r2 is 0.8247277736663818\n",
      "r2 is not very high, please double check if you are choosing the correct symbolic function.\n"
     ]
    },
    {
     "name": "stderr",
     "output_type": "stream",
     "text": [
      "train loss: 1.63e-03 | test loss: 2.62e-03 | reg: 3.42e+00 : 100%|██| 50/50 [00:01<00:00, 45.92it/s]\n",
      "/Users/gal.yona/Documents/MSc/Thesis/ImplicitNeuralSurfaces/forked_pykan/pykan/kan/KAN.py:344: UserWarning:\n",
      "\n",
      "std(): degrees of freedom is <= 0. Correction should be strictly less than the reduction factor (input numel divided by output numel). (Triggered internally at /Users/runner/work/pytorch/pytorch/pytorch/aten/src/ATen/native/ReduceOps.cpp:1760.)\n",
      "\n"
     ]
    },
    {
     "name": "stdout",
     "output_type": "stream",
     "text": [
      "0.01 - 1917.31*(-(-x_1 - 0.07)**4 + 0.31*(-x_2 - 0.06)**3)**2\n",
      "Number of vertices: 106712\n",
      "dataset down sampled size: 215\n"
     ]
    },
    {
     "name": "stderr",
     "output_type": "stream",
     "text": [
      "train loss: 1.13e-02 | test loss: 1.19e-02 | reg: 3.27e+00 : 100%|██| 20/20 [00:02<00:00,  8.65it/s]\n",
      "train loss: 1.66e-03 | test loss: 2.85e-03 | reg: 2.88e+00 : 100%|██| 50/50 [00:00<00:00, 50.27it/s]\n"
     ]
    },
    {
     "name": "stdout",
     "output_type": "stream",
     "text": [
      "Best value at boundary.\n",
      "r2 is 0.9999998211860657\n",
      "r2 is 0.9999997019767761\n",
      "r2 is 0.999998927116394\n"
     ]
    },
    {
     "name": "stderr",
     "output_type": "stream",
     "text": [
      "train loss: 1.66e-03 | test loss: 2.85e-03 | reg: 4.03e+00 : 100%|██| 50/50 [00:00<00:00, 83.14it/s]\n",
      "/Users/gal.yona/Documents/MSc/Thesis/ImplicitNeuralSurfaces/forked_pykan/pykan/kan/KAN.py:344: UserWarning:\n",
      "\n",
      "std(): degrees of freedom is <= 0. Correction should be strictly less than the reduction factor (input numel divided by output numel). (Triggered internally at /Users/runner/work/pytorch/pytorch/pytorch/aten/src/ATen/native/ReduceOps.cpp:1760.)\n",
      "\n"
     ]
    },
    {
     "name": "stdout",
     "output_type": "stream",
     "text": [
      "-2708.1*(-(-x_1 - 0.08)**4 + 0.35*(-x_2 - 0.06)**3)**2\n",
      "sampled_index 115 signature  tensor([[  0.8281,   0.6531,  -8.9348,  11.2423, -18.1287,  15.1392]],\n",
      "       grad_fn=<StackBackward0>)\n",
      "sampled_index 115 signature  tensor([[  0.7569,   0.5403,  -7.6300,  12.5028, -14.4952,  15.5048]],\n",
      "       grad_fn=<StackBackward0>)\n",
      "Number of vertices: 106712\n",
      "dataset full size: 280\n"
     ]
    },
    {
     "name": "stderr",
     "output_type": "stream",
     "text": [
      "train loss: 9.18e-03 | test loss: 1.15e-02 | reg: 3.57e+00 : 100%|██| 20/20 [00:02<00:00,  9.13it/s]\n",
      "train loss: 2.78e-03 | test loss: 5.54e-03 | reg: 3.84e+00 : 100%|██| 50/50 [00:02<00:00, 18.26it/s]\n"
     ]
    },
    {
     "name": "stdout",
     "output_type": "stream",
     "text": [
      "Best value at boundary.\n",
      "r2 is 0.8560881614685059\n",
      "r2 is not very high, please double check if you are choosing the correct symbolic function.\n",
      "r2 is 0.9922237396240234\n",
      "r2 is 0.6266129016876221\n",
      "r2 is not very high, please double check if you are choosing the correct symbolic function.\n"
     ]
    },
    {
     "name": "stderr",
     "output_type": "stream",
     "text": [
      "train loss: 3.20e-03 | test loss: 3.84e-03 | reg: 8.74e+01 : 100%|██| 50/50 [00:01<00:00, 37.60it/s]\n",
      "/Users/gal.yona/Documents/MSc/Thesis/ImplicitNeuralSurfaces/forked_pykan/pykan/kan/KAN.py:344: UserWarning:\n",
      "\n",
      "std(): degrees of freedom is <= 0. Correction should be strictly less than the reduction factor (input numel divided by output numel). (Triggered internally at /Users/runner/work/pytorch/pytorch/pytorch/aten/src/ATen/native/ReduceOps.cpp:1760.)\n",
      "\n"
     ]
    },
    {
     "name": "stdout",
     "output_type": "stream",
     "text": [
      "-59840.62*(0.04 - x_1)**8 - 0.e-2\n",
      "Number of vertices: 106712\n",
      "dataset down sampled size: 225\n"
     ]
    },
    {
     "name": "stderr",
     "output_type": "stream",
     "text": [
      "train loss: 1.10e-02 | test loss: 1.34e-02 | reg: 3.48e+00 : 100%|██| 20/20 [00:02<00:00,  9.35it/s]\n",
      "train loss: 3.23e-03 | test loss: 3.81e-03 | reg: 6.40e+00 : 100%|██| 50/50 [00:00<00:00, 65.98it/s]\n"
     ]
    },
    {
     "name": "stdout",
     "output_type": "stream",
     "text": [
      "r2 is 0.9999973177909851\n",
      "r2 is 1.0000004768371582\n",
      "r2 is 1.0000001192092896\n"
     ]
    },
    {
     "name": "stderr",
     "output_type": "stream",
     "text": [
      "train loss: 3.23e-03 | test loss: 3.81e-03 | reg: 8.64e+01 : 100%|██| 50/50 [00:00<00:00, 85.52it/s]\n",
      "/Users/gal.yona/Documents/MSc/Thesis/ImplicitNeuralSurfaces/forked_pykan/pykan/kan/KAN.py:344: UserWarning:\n",
      "\n",
      "std(): degrees of freedom is <= 0. Correction should be strictly less than the reduction factor (input numel divided by output numel). (Triggered internally at /Users/runner/work/pytorch/pytorch/pytorch/aten/src/ATen/native/ReduceOps.cpp:1760.)\n",
      "\n"
     ]
    },
    {
     "name": "stdout",
     "output_type": "stream",
     "text": [
      "-59222.04*(0.04 - x_1)**8 - 0.e-2\n",
      "sampled_index 116 signature  tensor([[ 0.6160, -0.0698, -1.0904,  0.5500, -3.8734,  7.7326]],\n",
      "       grad_fn=<StackBackward0>)\n",
      "sampled_index 116 signature  tensor([[ 0.6126, -0.0593, -0.8747,  0.5590, -3.2851,  7.5940]],\n",
      "       grad_fn=<StackBackward0>)\n",
      "Number of vertices: 106712\n",
      "dataset full size: 270\n"
     ]
    },
    {
     "name": "stderr",
     "output_type": "stream",
     "text": [
      "train loss: 1.11e-02 | test loss: 1.28e-02 | reg: 3.46e+00 : 100%|██| 20/20 [00:02<00:00,  9.29it/s]\n",
      "train loss: 2.02e-03 | test loss: 1.01e-02 | reg: 3.55e+00 : 100%|██| 50/50 [00:02<00:00, 23.34it/s]\n"
     ]
    },
    {
     "name": "stdout",
     "output_type": "stream",
     "text": [
      "r2 is 0.9814968109130859\n",
      "r2 is 0.9962819814682007\n",
      "Best value at boundary.\n",
      "r2 is 0.9230791926383972\n"
     ]
    },
    {
     "name": "stderr",
     "output_type": "stream",
     "text": [
      "train loss: 3.63e-03 | test loss: 7.21e-03 | reg: 3.97e+00 : 100%|██| 50/50 [00:00<00:00, 53.26it/s]\n",
      "/Users/gal.yona/Documents/MSc/Thesis/ImplicitNeuralSurfaces/forked_pykan/pykan/kan/KAN.py:344: UserWarning:\n",
      "\n",
      "std(): degrees of freedom is <= 0. Correction should be strictly less than the reduction factor (input numel divided by output numel). (Triggered internally at /Users/runner/work/pytorch/pytorch/pytorch/aten/src/ATen/native/ReduceOps.cpp:1760.)\n",
      "\n"
     ]
    },
    {
     "name": "stdout",
     "output_type": "stream",
     "text": [
      "-39.74*(-0.33*(0.45 - x_2)**3 - (-x_1 - 0.37)**4 + 0.05)**2\n",
      "Number of vertices: 106712\n",
      "dataset down sampled size: 217\n"
     ]
    },
    {
     "name": "stderr",
     "output_type": "stream",
     "text": [
      "train loss: 1.14e-02 | test loss: 1.29e-02 | reg: 3.42e+00 : 100%|██| 20/20 [00:02<00:00,  9.59it/s]\n",
      "train loss: 3.60e-03 | test loss: 7.05e-03 | reg: 3.60e+00 : 100%|██| 50/50 [00:00<00:00, 92.98it/s]\n"
     ]
    },
    {
     "name": "stdout",
     "output_type": "stream",
     "text": [
      "r2 is 1.0000003576278687\n",
      "r2 is 1.0000004768371582\n",
      "Best value at boundary.\n",
      "r2 is 0.9999747276306152\n"
     ]
    },
    {
     "name": "stderr",
     "output_type": "stream",
     "text": [
      "train loss: 3.60e-03 | test loss: 7.06e-03 | reg: 3.97e+00 : 100%|█| 50/50 [00:00<00:00, 100.66it/s]\n",
      "/Users/gal.yona/Documents/MSc/Thesis/ImplicitNeuralSurfaces/forked_pykan/pykan/kan/KAN.py:344: UserWarning:\n",
      "\n",
      "std(): degrees of freedom is <= 0. Correction should be strictly less than the reduction factor (input numel divided by output numel). (Triggered internally at /Users/runner/work/pytorch/pytorch/pytorch/aten/src/ATen/native/ReduceOps.cpp:1760.)\n",
      "\n"
     ]
    },
    {
     "name": "stdout",
     "output_type": "stream",
     "text": [
      "-38.89*(-0.33*(0.45 - x_2)**3 - (-x_1 - 0.37)**4 + 0.06)**2\n",
      "sampled_index 117 signature  tensor([[   2.6908,   -3.1802,   -8.8021,  -61.5986,    3.0108, -112.2653]],\n",
      "       grad_fn=<StackBackward0>)\n",
      "sampled_index 117 signature  tensor([[   2.6554,   -3.1414,   -8.5498,  -60.6512,    3.1053, -109.3318]],\n",
      "       grad_fn=<StackBackward0>)\n",
      "Number of vertices: 106712\n",
      "dataset full size: 298\n"
     ]
    },
    {
     "name": "stderr",
     "output_type": "stream",
     "text": [
      "train loss: 6.92e-03 | test loss: 7.12e-03 | reg: 3.24e+00 : 100%|██| 20/20 [00:02<00:00,  8.77it/s]\n",
      "train loss: 3.30e-03 | test loss: 3.99e-03 | reg: 3.14e+00 : 100%|██| 50/50 [00:01<00:00, 30.06it/s]\n"
     ]
    },
    {
     "name": "stdout",
     "output_type": "stream",
     "text": [
      "r2 is 0.993487536907196\n",
      "r2 is 0.9596315026283264\n",
      "r2 is 0.982304573059082\n"
     ]
    },
    {
     "name": "stderr",
     "output_type": "stream",
     "text": [
      "train loss: 3.45e-03 | test loss: 4.11e-03 | reg: 6.14e+00 : 100%|██| 50/50 [00:01<00:00, 25.40it/s]\n",
      "/Users/gal.yona/Documents/MSc/Thesis/ImplicitNeuralSurfaces/forked_pykan/pykan/kan/KAN.py:344: UserWarning:\n",
      "\n",
      "std(): degrees of freedom is <= 0. Correction should be strictly less than the reduction factor (input numel divided by output numel). (Triggered internally at /Users/runner/work/pytorch/pytorch/pytorch/aten/src/ATen/native/ReduceOps.cpp:1760.)\n",
      "\n"
     ]
    },
    {
     "name": "stdout",
     "output_type": "stream",
     "text": [
      "-19.43*((0.25 - x_2)**3 + 0.38*(1 - 0.14*x_1)**4 - 0.39)**2\n",
      "Number of vertices: 106712\n",
      "dataset down sampled size: 239\n"
     ]
    },
    {
     "name": "stderr",
     "output_type": "stream",
     "text": [
      "train loss: 7.08e-03 | test loss: 7.39e-03 | reg: 3.34e+00 : 100%|██| 20/20 [00:02<00:00,  9.73it/s]\n",
      "train loss: 3.34e-03 | test loss: 4.15e-03 | reg: 6.01e+00 : 100%|██| 50/50 [00:00<00:00, 75.27it/s]\n"
     ]
    },
    {
     "name": "stdout",
     "output_type": "stream",
     "text": [
      "r2 is 1.0000004768371582\n",
      "r2 is 1.0000003576278687\n",
      "r2 is 0.9993247985839844\n"
     ]
    },
    {
     "name": "stderr",
     "output_type": "stream",
     "text": [
      "train loss: 3.34e-03 | test loss: 4.15e-03 | reg: 6.14e+00 : 100%|█| 50/50 [00:00<00:00, 130.53it/s]\n",
      "/Users/gal.yona/Documents/MSc/Thesis/ImplicitNeuralSurfaces/forked_pykan/pykan/kan/KAN.py:344: UserWarning:\n",
      "\n",
      "std(): degrees of freedom is <= 0. Correction should be strictly less than the reduction factor (input numel divided by output numel). (Triggered internally at /Users/runner/work/pytorch/pytorch/pytorch/aten/src/ATen/native/ReduceOps.cpp:1760.)\n",
      "\n"
     ]
    },
    {
     "name": "stdout",
     "output_type": "stream",
     "text": [
      "-19.4*((0.25 - x_2)**3 + 0.37*(1 - 0.14*x_1)**4 - 0.38)**2\n",
      "sampled_index 118 signature  tensor([[ 1.6993,  0.6683,  7.0378, 15.7258,  0.1084, 31.3377]],\n",
      "       grad_fn=<StackBackward0>)\n",
      "sampled_index 118 signature  tensor([[ 1.6987,  0.6782,  7.0054, 15.6696,  0.1124, 31.3017]],\n",
      "       grad_fn=<StackBackward0>)\n",
      "Number of vertices: 106712\n",
      "dataset full size: 294\n"
     ]
    },
    {
     "name": "stderr",
     "output_type": "stream",
     "text": [
      "train loss: 2.46e-02 | test loss: 2.56e-02 | reg: 2.80e+00 : 100%|██| 20/20 [00:02<00:00,  9.01it/s]\n",
      "train loss: 1.71e-02 | test loss: 3.56e+00 | reg: 1.50e+01 : 100%|██| 50/50 [00:02<00:00, 24.18it/s]\n"
     ]
    },
    {
     "name": "stdout",
     "output_type": "stream",
     "text": [
      "r2 is 0.999096691608429\n",
      "r2 is 0.999357283115387\n",
      "r2 is 0.09185223281383514\n",
      "r2 is not very high, please double check if you are choosing the correct symbolic function.\n"
     ]
    },
    {
     "name": "stderr",
     "output_type": "stream",
     "text": [
      "train loss: 2.12e-02 | test loss: 2.13e-02 | reg: 2.88e+01 : 100%|██| 50/50 [00:01<00:00, 41.90it/s]\n",
      "/Users/gal.yona/Documents/MSc/Thesis/ImplicitNeuralSurfaces/forked_pykan/pykan/kan/KAN.py:344: UserWarning:\n",
      "\n",
      "std(): degrees of freedom is <= 0. Correction should be strictly less than the reduction factor (input numel divided by output numel). (Triggered internally at /Users/runner/work/pytorch/pytorch/pytorch/aten/src/ATen/native/ReduceOps.cpp:1760.)\n",
      "\n"
     ]
    },
    {
     "name": "stdout",
     "output_type": "stream",
     "text": [
      "0.05 - 2.08*(-0.e-2*(-x_1 - 0.85)**4 - (-x_2 - 0.e-2)**3 - 0.19)**2\n",
      "Number of vertices: 106712\n",
      "dataset down sampled size: 236\n"
     ]
    },
    {
     "name": "stderr",
     "output_type": "stream",
     "text": [
      "train loss: 2.31e-02 | test loss: 2.24e-02 | reg: 2.94e+00 : 100%|██| 20/20 [00:02<00:00,  9.63it/s]\n",
      "train loss: 2.07e-02 | test loss: 2.06e-02 | reg: 3.13e+01 : 100%|██| 50/50 [00:00<00:00, 97.16it/s]\n"
     ]
    },
    {
     "name": "stdout",
     "output_type": "stream",
     "text": [
      "r2 is 1.0000004768371582\n",
      "Best value at boundary.\n",
      "r2 is 0.9859723448753357\n",
      "Best value at boundary.\n",
      "r2 is 1.000000238418579\n"
     ]
    },
    {
     "name": "stderr",
     "output_type": "stream",
     "text": [
      "train loss: 2.07e-02 | test loss: 2.06e-02 | reg: 3.10e+01 : 100%|█| 50/50 [00:00<00:00, 123.64it/s]\n",
      "/Users/gal.yona/Documents/MSc/Thesis/ImplicitNeuralSurfaces/forked_pykan/pykan/kan/KAN.py:344: UserWarning:\n",
      "\n",
      "std(): degrees of freedom is <= 0. Correction should be strictly less than the reduction factor (input numel divided by output numel). (Triggered internally at /Users/runner/work/pytorch/pytorch/pytorch/aten/src/ATen/native/ReduceOps.cpp:1760.)\n",
      "\n"
     ]
    },
    {
     "name": "stdout",
     "output_type": "stream",
     "text": [
      "0.05 - 1.65*(x_2**3 - 0.e-2*(-x_1 - 0.85)**4 - 0.22)**2\n",
      "sampled_index 119 signature  tensor([[ 1.8646e-02, -2.0057e-03,  2.4049e+00, -8.6750e-02,  3.2302e-01,\n",
      "          5.4694e-03]], grad_fn=<StackBackward0>)\n",
      "sampled_index 119 signature  tensor([[ 2.6637e-02, -3.4864e-09, -2.1959e+00,  6.8366e-02, -2.3397e-01,\n",
      "         -9.2598e-09]], grad_fn=<StackBackward0>)\n",
      "Number of vertices: 106712\n",
      "dataset full size: 294\n"
     ]
    },
    {
     "name": "stderr",
     "output_type": "stream",
     "text": [
      "train loss: 4.79e-02 | test loss: 3.65e-02 | reg: 3.53e+00 : 100%|██| 20/20 [00:02<00:00,  9.18it/s]\n",
      "train loss: 1.11e-02 | test loss: 1.71e-02 | reg: 3.67e+00 : 100%|██| 50/50 [00:01<00:00, 42.80it/s]\n"
     ]
    },
    {
     "name": "stdout",
     "output_type": "stream",
     "text": [
      "r2 is 0.9916113018989563\n",
      "r2 is 0.9902578592300415\n",
      "Best value at boundary.\n",
      "r2 is 0.9378899335861206\n"
     ]
    },
    {
     "name": "stderr",
     "output_type": "stream",
     "text": [
      "train loss: 1.12e-02 | test loss: 1.67e-02 | reg: 3.73e+00 : 100%|██| 50/50 [00:01<00:00, 41.16it/s]\n",
      "/Users/gal.yona/Documents/MSc/Thesis/ImplicitNeuralSurfaces/forked_pykan/pykan/kan/KAN.py:344: UserWarning:\n",
      "\n",
      "std(): degrees of freedom is <= 0. Correction should be strictly less than the reduction factor (input numel divided by output numel). (Triggered internally at /Users/runner/work/pytorch/pytorch/pytorch/aten/src/ATen/native/ReduceOps.cpp:1760.)\n",
      "\n"
     ]
    },
    {
     "name": "stdout",
     "output_type": "stream",
     "text": [
      "0.02 - 1887.1*((0.1 - x_2)**3 - 0.03*(-x_1 - 0.31)**4)**2\n",
      "Number of vertices: 106712\n",
      "dataset down sampled size: 236\n"
     ]
    },
    {
     "name": "stderr",
     "output_type": "stream",
     "text": [
      "train loss: 5.05e-02 | test loss: 3.92e-02 | reg: 3.39e+00 : 100%|██| 20/20 [00:02<00:00,  9.20it/s]\n",
      "train loss: 1.12e-02 | test loss: 1.62e-02 | reg: 3.66e+00 : 100%|██| 50/50 [00:00<00:00, 63.75it/s]\n"
     ]
    },
    {
     "name": "stdout",
     "output_type": "stream",
     "text": [
      "r2 is 1.0000003576278687\n",
      "r2 is 1.000000238418579\n",
      "Best value at boundary.\n",
      "r2 is 0.9998429417610168\n"
     ]
    },
    {
     "name": "stderr",
     "output_type": "stream",
     "text": [
      "train loss: 1.12e-02 | test loss: 1.61e-02 | reg: 3.75e+00 : 100%|██| 50/50 [00:00<00:00, 55.57it/s]\n",
      "/Users/gal.yona/Documents/MSc/Thesis/ImplicitNeuralSurfaces/forked_pykan/pykan/kan/KAN.py:344: UserWarning:\n",
      "\n",
      "std(): degrees of freedom is <= 0. Correction should be strictly less than the reduction factor (input numel divided by output numel). (Triggered internally at /Users/runner/work/pytorch/pytorch/pytorch/aten/src/ATen/native/ReduceOps.cpp:1760.)\n",
      "\n"
     ]
    },
    {
     "name": "stdout",
     "output_type": "stream",
     "text": [
      "0.02 - 1927.49*((0.1 - x_2)**3 - 0.03*(-x_1 - 0.31)**4)**2\n",
      "sampled_index 120 signature  tensor([[   2.7519,   -0.4552,   -6.3905, -115.3964,    1.9485,   44.6424]],\n",
      "       grad_fn=<StackBackward0>)\n",
      "sampled_index 120 signature  tensor([[   2.7634,   -0.4189,   -6.3800, -117.7999,    1.8525,   42.7271]],\n",
      "       grad_fn=<StackBackward0>)\n",
      "Number of vertices: 106712\n",
      "dataset full size: 276\n"
     ]
    },
    {
     "name": "stderr",
     "output_type": "stream",
     "text": [
      "train loss: 1.33e-02 | test loss: 1.41e-02 | reg: 3.71e+00 : 100%|██| 20/20 [00:02<00:00,  8.75it/s]\n",
      "train loss: 1.40e-03 | test loss: 1.38e-02 | reg: 4.29e+00 : 100%|██| 50/50 [00:02<00:00, 20.83it/s]\n"
     ]
    },
    {
     "name": "stdout",
     "output_type": "stream",
     "text": [
      "r2 is 0.9928998947143555\n",
      "r2 is 0.9947529435157776\n",
      "r2 is 0.7663204073905945\n",
      "r2 is not very high, please double check if you are choosing the correct symbolic function.\n"
     ]
    },
    {
     "name": "stderr",
     "output_type": "stream",
     "text": [
      "train loss: 1.74e-03 | test loss: 3.86e-03 | reg: 5.18e+00 : 100%|██| 50/50 [00:00<00:00, 53.88it/s]\n",
      "/Users/gal.yona/Documents/MSc/Thesis/ImplicitNeuralSurfaces/forked_pykan/pykan/kan/KAN.py:344: UserWarning:\n",
      "\n",
      "std(): degrees of freedom is <= 0. Correction should be strictly less than the reduction factor (input numel divided by output numel). (Triggered internally at /Users/runner/work/pytorch/pytorch/pytorch/aten/src/ATen/native/ReduceOps.cpp:1760.)\n",
      "\n"
     ]
    },
    {
     "name": "stdout",
     "output_type": "stream",
     "text": [
      "-71.73*((0.22 - x_1)**4 + 0.27*(-x_2 - 0.3)**3 + 0.01)**2\n",
      "Number of vertices: 106712\n",
      "dataset down sampled size: 221\n"
     ]
    },
    {
     "name": "stderr",
     "output_type": "stream",
     "text": [
      "train loss: 6.07e-03 | test loss: 8.92e-03 | reg: 3.69e+00 : 100%|██| 20/20 [00:02<00:00,  8.99it/s]\n",
      "train loss: 1.69e-03 | test loss: 3.80e-03 | reg: 5.04e+00 : 100%|██| 50/50 [00:00<00:00, 51.60it/s]\n"
     ]
    },
    {
     "name": "stdout",
     "output_type": "stream",
     "text": [
      "r2 is 1.0000004768371582\n",
      "r2 is 1.0000003576278687\n",
      "r2 is 0.999241292476654\n"
     ]
    },
    {
     "name": "stderr",
     "output_type": "stream",
     "text": [
      "train loss: 1.69e-03 | test loss: 3.80e-03 | reg: 5.19e+00 : 100%|██| 50/50 [00:00<00:00, 60.16it/s]\n",
      "/Users/gal.yona/Documents/MSc/Thesis/ImplicitNeuralSurfaces/forked_pykan/pykan/kan/KAN.py:344: UserWarning:\n",
      "\n",
      "std(): degrees of freedom is <= 0. Correction should be strictly less than the reduction factor (input numel divided by output numel). (Triggered internally at /Users/runner/work/pytorch/pytorch/pytorch/aten/src/ATen/native/ReduceOps.cpp:1760.)\n",
      "\n"
     ]
    },
    {
     "name": "stdout",
     "output_type": "stream",
     "text": [
      "-71.31*((0.22 - x_1)**4 + 0.27*(-x_2 - 0.3)**3 + 0.01)**2\n",
      "sampled_index 121 signature  tensor([[ 0.4987,  0.0777,  6.1621, -0.0338,  1.0494,  0.7458]],\n",
      "       grad_fn=<StackBackward0>)\n",
      "sampled_index 121 signature  tensor([[ 0.4945,  0.0772,  6.1261, -0.1516,  1.0958,  0.8971]],\n",
      "       grad_fn=<StackBackward0>)\n",
      "Number of vertices: 106712\n",
      "dataset full size: 299\n"
     ]
    },
    {
     "name": "stderr",
     "output_type": "stream",
     "text": [
      "train loss: 2.25e-02 | test loss: 2.43e-02 | reg: 3.24e+00 : 100%|██| 20/20 [00:02<00:00,  7.64it/s]\n",
      "train loss: 5.70e-03 | test loss: 6.90e-03 | reg: 2.16e+00 : 100%|██| 50/50 [00:02<00:00, 23.95it/s]\n"
     ]
    },
    {
     "name": "stdout",
     "output_type": "stream",
     "text": [
      "r2 is 0.8904212713241577\n",
      "r2 is not very high, please double check if you are choosing the correct symbolic function.\n",
      "r2 is 0.74964439868927\n",
      "r2 is not very high, please double check if you are choosing the correct symbolic function.\n",
      "r2 is 0.8812100887298584\n",
      "r2 is not very high, please double check if you are choosing the correct symbolic function.\n"
     ]
    },
    {
     "name": "stderr",
     "output_type": "stream",
     "text": [
      "train loss: 7.07e-03 | test loss: 8.26e-03 | reg: 2.98e+00 : 100%|██| 50/50 [00:01<00:00, 43.98it/s]\n",
      "/Users/gal.yona/Documents/MSc/Thesis/ImplicitNeuralSurfaces/forked_pykan/pykan/kan/KAN.py:344: UserWarning:\n",
      "\n",
      "std(): degrees of freedom is <= 0. Correction should be strictly less than the reduction factor (input numel divided by output numel). (Triggered internally at /Users/runner/work/pytorch/pytorch/pytorch/aten/src/ATen/native/ReduceOps.cpp:1760.)\n",
      "\n"
     ]
    },
    {
     "name": "stdout",
     "output_type": "stream",
     "text": [
      "1.34*(-0.24*(-0.8*x_1 - 1)**4 + 0.75*(-0.17*x_2 - 1)**3 + 1)**2 - 0.e-2\n",
      "Number of vertices: 106712\n",
      "dataset down sampled size: 240\n"
     ]
    },
    {
     "name": "stderr",
     "output_type": "stream",
     "text": [
      "train loss: 2.64e-02 | test loss: 2.76e-02 | reg: 3.26e+00 : 100%|██| 20/20 [00:02<00:00,  9.17it/s]\n",
      "train loss: 7.11e-03 | test loss: 8.20e-03 | reg: 2.53e+00 : 100%|██| 50/50 [00:00<00:00, 75.40it/s]\n"
     ]
    },
    {
     "name": "stdout",
     "output_type": "stream",
     "text": [
      "r2 is 1.0000003576278687\n",
      "r2 is 1.0000003576278687\n",
      "r2 is 0.9993617534637451\n"
     ]
    },
    {
     "name": "stderr",
     "output_type": "stream",
     "text": [
      "train loss: 7.11e-03 | test loss: 8.20e-03 | reg: 3.07e+00 : 100%|██| 50/50 [00:00<00:00, 64.01it/s]\n",
      "/Users/gal.yona/Documents/MSc/Thesis/ImplicitNeuralSurfaces/forked_pykan/pykan/kan/KAN.py:344: UserWarning:\n",
      "\n",
      "std(): degrees of freedom is <= 0. Correction should be strictly less than the reduction factor (input numel divided by output numel). (Triggered internally at /Users/runner/work/pytorch/pytorch/pytorch/aten/src/ATen/native/ReduceOps.cpp:1760.)\n",
      "\n"
     ]
    },
    {
     "name": "stdout",
     "output_type": "stream",
     "text": [
      "1.34*(-0.23*(-0.8*x_1 - 1)**4 + 0.76*(-0.17*x_2 - 1)**3 + 1)**2 - 0.e-2\n",
      "sampled_index 122 signature  tensor([[-9.9337e-01, -1.3114e-02,  5.8360e+00, -1.6147e+00, -2.1984e+00,\n",
      "          3.4765e-03]], grad_fn=<StackBackward0>)\n",
      "sampled_index 122 signature  tensor([[-9.3446e-01, -1.9264e-02,  5.4127e+00, -1.5631e+00, -2.0950e+00,\n",
      "          4.5952e-03]], grad_fn=<StackBackward0>)\n",
      "Number of vertices: 106712\n",
      "dataset full size: 305\n"
     ]
    },
    {
     "name": "stderr",
     "output_type": "stream",
     "text": [
      "train loss: 1.71e-02 | test loss: 1.92e-02 | reg: 3.20e+00 : 100%|██| 20/20 [00:02<00:00,  7.86it/s]\n",
      "train loss: 2.35e-03 | test loss: 1.53e-02 | reg: 2.55e+00 : 100%|██| 50/50 [00:02<00:00, 16.70it/s]\n"
     ]
    },
    {
     "name": "stdout",
     "output_type": "stream",
     "text": [
      "r2 is 0.9986727833747864\n",
      "r2 is 0.9991434216499329\n",
      "r2 is 0.830924391746521\n",
      "r2 is not very high, please double check if you are choosing the correct symbolic function.\n"
     ]
    },
    {
     "name": "stderr",
     "output_type": "stream",
     "text": [
      "train loss: nan | test loss: nan | reg: nan : 100%|█████████████████| 50/50 [00:03<00:00, 14.99it/s]\n",
      "/Users/gal.yona/Documents/MSc/Thesis/ImplicitNeuralSurfaces/forked_pykan/pykan/kan/KAN.py:344: UserWarning:\n",
      "\n",
      "std(): degrees of freedom is <= 0. Correction should be strictly less than the reduction factor (input numel divided by output numel). (Triggered internally at /Users/runner/work/pytorch/pytorch/pytorch/aten/src/ATen/native/ReduceOps.cpp:1760.)\n",
      "\n"
     ]
    },
    {
     "name": "stdout",
     "output_type": "stream",
     "text": [
      "nan\n",
      "Number of vertices: 106712\n",
      "dataset down sampled size: 245\n"
     ]
    },
    {
     "name": "stderr",
     "output_type": "stream",
     "text": [
      "train loss: 1.70e-02 | test loss: 1.94e-02 | reg: 3.31e+00 : 100%|██| 20/20 [00:02<00:00,  8.29it/s]\n",
      "train loss: nan | test loss: nan | reg: nan : 100%|█████████████████| 50/50 [00:03<00:00, 15.02it/s]\n"
     ]
    },
    {
     "name": "stdout",
     "output_type": "stream",
     "text": [
      "Best value at boundary.\n",
      "r2 is 0.0\n",
      "r2 is not very high, please double check if you are choosing the correct symbolic function.\n",
      "nan encountered\n",
      "Number of vertices: 106712\n",
      "dataset full size: 261\n"
     ]
    },
    {
     "name": "stderr",
     "output_type": "stream",
     "text": [
      "train loss: 5.76e-02 | test loss: 5.84e-02 | reg: 2.81e+00 : 100%|██| 20/20 [00:02<00:00,  7.69it/s]\n",
      "train loss: 1.40e-03 | test loss: 4.58e-03 | reg: 2.95e+00 : 100%|██| 50/50 [00:02<00:00, 21.28it/s]\n"
     ]
    },
    {
     "name": "stdout",
     "output_type": "stream",
     "text": [
      "r2 is 0.816942036151886\n",
      "r2 is not very high, please double check if you are choosing the correct symbolic function.\n",
      "r2 is 0.9917715787887573\n",
      "r2 is 0.9661722779273987\n"
     ]
    },
    {
     "name": "stderr",
     "output_type": "stream",
     "text": [
      "train loss: 1.88e-03 | test loss: 2.77e-03 | reg: 3.11e+00 : 100%|██| 50/50 [00:00<00:00, 75.56it/s]\n",
      "/Users/gal.yona/Documents/MSc/Thesis/ImplicitNeuralSurfaces/forked_pykan/pykan/kan/KAN.py:344: UserWarning:\n",
      "\n",
      "std(): degrees of freedom is <= 0. Correction should be strictly less than the reduction factor (input numel divided by output numel). (Triggered internally at /Users/runner/work/pytorch/pytorch/pytorch/aten/src/ATen/native/ReduceOps.cpp:1760.)\n",
      "\n"
     ]
    },
    {
     "name": "stdout",
     "output_type": "stream",
     "text": [
      "-29.03*((-x_1 - 0.18)**4 + 0.09*(-x_2 - 0.69)**3 + 0.04)**2\n",
      "Number of vertices: 106712\n",
      "dataset down sampled size: 209\n"
     ]
    },
    {
     "name": "stderr",
     "output_type": "stream",
     "text": [
      "train loss: 6.00e-02 | test loss: 6.07e-02 | reg: 2.84e+00 : 100%|██| 20/20 [00:02<00:00,  8.92it/s]\n",
      "train loss: 1.91e-03 | test loss: 2.77e-03 | reg: 3.03e+00 : 100%|██| 50/50 [00:00<00:00, 53.92it/s]\n"
     ]
    },
    {
     "name": "stdout",
     "output_type": "stream",
     "text": [
      "r2 is 1.0000004768371582\n",
      "r2 is 1.0000004768371582\n",
      "r2 is 0.9977162480354309\n"
     ]
    },
    {
     "name": "stderr",
     "output_type": "stream",
     "text": [
      "train loss: 1.91e-03 | test loss: 2.77e-03 | reg: 3.10e+00 : 100%|██| 50/50 [00:01<00:00, 49.47it/s]\n",
      "/Users/gal.yona/Documents/MSc/Thesis/ImplicitNeuralSurfaces/forked_pykan/pykan/kan/KAN.py:344: UserWarning:\n",
      "\n",
      "std(): degrees of freedom is <= 0. Correction should be strictly less than the reduction factor (input numel divided by output numel). (Triggered internally at /Users/runner/work/pytorch/pytorch/pytorch/aten/src/ATen/native/ReduceOps.cpp:1760.)\n",
      "\n"
     ]
    },
    {
     "name": "stdout",
     "output_type": "stream",
     "text": [
      "-27.3*((-x_1 - 0.18)**4 + 0.1*(-x_2 - 0.69)**3 + 0.04)**2\n",
      "sampled_index 124 signature  tensor([[ 0.5346,  0.1416, -2.1955,  2.3546, -1.4500, -1.5233]],\n",
      "       grad_fn=<StackBackward0>)\n",
      "sampled_index 124 signature  tensor([[ 0.5306,  0.1413, -2.1569,  2.4238, -1.4562, -1.4055]],\n",
      "       grad_fn=<StackBackward0>)\n",
      "Number of vertices: 106712\n",
      "dataset full size: 314\n"
     ]
    },
    {
     "name": "stderr",
     "output_type": "stream",
     "text": [
      "train loss: 3.56e-02 | test loss: 3.48e-02 | reg: 3.17e+00 : 100%|██| 20/20 [00:02<00:00,  8.04it/s]\n",
      "train loss: 4.33e-03 | test loss: 7.31e-03 | reg: 3.88e+00 : 100%|██| 50/50 [00:01<00:00, 30.79it/s]\n"
     ]
    },
    {
     "name": "stdout",
     "output_type": "stream",
     "text": [
      "r2 is 0.9970394968986511\n",
      "r2 is 0.8070648312568665\n",
      "r2 is not very high, please double check if you are choosing the correct symbolic function.\n",
      "Best value at boundary.\n",
      "r2 is 0.7299727201461792\n",
      "r2 is not very high, please double check if you are choosing the correct symbolic function.\n"
     ]
    },
    {
     "name": "stderr",
     "output_type": "stream",
     "text": [
      "train loss: 8.68e-03 | test loss: 1.05e-02 | reg: 4.98e+00 : 100%|██| 50/50 [00:00<00:00, 62.40it/s]\n",
      "/Users/gal.yona/Documents/MSc/Thesis/ImplicitNeuralSurfaces/forked_pykan/pykan/kan/KAN.py:344: UserWarning:\n",
      "\n",
      "std(): degrees of freedom is <= 0. Correction should be strictly less than the reduction factor (input numel divided by output numel). (Triggered internally at /Users/runner/work/pytorch/pytorch/pytorch/aten/src/ATen/native/ReduceOps.cpp:1760.)\n",
      "\n"
     ]
    },
    {
     "name": "stdout",
     "output_type": "stream",
     "text": [
      "-73.38*(-0.35*(0.11 - x_2)**3 - (-x_1 - 0.34)**4 + 0.02)**2\n",
      "Number of vertices: 106712\n",
      "dataset down sampled size: 252\n"
     ]
    },
    {
     "name": "stderr",
     "output_type": "stream",
     "text": [
      "train loss: 2.98e-02 | test loss: 2.81e-02 | reg: 3.17e+00 : 100%|██| 20/20 [00:02<00:00,  8.33it/s]\n",
      "train loss: nan | test loss: nan | reg: nan : 100%|█████████████████| 50/50 [00:02<00:00, 18.40it/s]\n"
     ]
    },
    {
     "name": "stdout",
     "output_type": "stream",
     "text": [
      "Best value at boundary.\n",
      "r2 is 0.0\n",
      "r2 is not very high, please double check if you are choosing the correct symbolic function.\n",
      "nan encountered\n",
      "Number of vertices: 106712\n",
      "dataset full size: 264\n"
     ]
    },
    {
     "name": "stderr",
     "output_type": "stream",
     "text": [
      "train loss: 4.28e-02 | test loss: 3.82e-02 | reg: 3.50e+00 : 100%|██| 20/20 [00:02<00:00,  8.68it/s]\n",
      "train loss: 1.35e-03 | test loss: 5.18e-02 | reg: 4.25e+00 : 100%|██| 50/50 [00:02<00:00, 22.41it/s]\n"
     ]
    },
    {
     "name": "stdout",
     "output_type": "stream",
     "text": [
      "Best value at boundary.\n",
      "r2 is 0.9996757507324219\n",
      "r2 is 0.9999745488166809\n",
      "r2 is 0.8930913209915161\n",
      "r2 is not very high, please double check if you are choosing the correct symbolic function.\n"
     ]
    },
    {
     "name": "stderr",
     "output_type": "stream",
     "text": [
      "train loss: 2.25e-03 | test loss: 6.55e-03 | reg: 5.30e+00 : 100%|██| 50/50 [00:00<00:00, 68.05it/s]\n",
      "/Users/gal.yona/Documents/MSc/Thesis/ImplicitNeuralSurfaces/forked_pykan/pykan/kan/KAN.py:344: UserWarning:\n",
      "\n",
      "std(): degrees of freedom is <= 0. Correction should be strictly less than the reduction factor (input numel divided by output numel). (Triggered internally at /Users/runner/work/pytorch/pytorch/pytorch/aten/src/ATen/native/ReduceOps.cpp:1760.)\n",
      "\n"
     ]
    },
    {
     "name": "stdout",
     "output_type": "stream",
     "text": [
      "0.01 - 1.67*((0.39 - x_2)**3 - 0.48*(0.42 - x_1)**4 - 0.13)**2\n",
      "Number of vertices: 106712\n",
      "dataset down sampled size: 212\n"
     ]
    },
    {
     "name": "stderr",
     "output_type": "stream",
     "text": [
      "train loss: 4.82e-02 | test loss: 4.40e-02 | reg: 3.32e+00 : 100%|██| 20/20 [00:02<00:00,  9.06it/s]\n",
      "train loss: 2.21e-03 | test loss: 6.70e-03 | reg: 4.85e+00 : 100%|██| 50/50 [00:00<00:00, 76.10it/s]\n"
     ]
    },
    {
     "name": "stdout",
     "output_type": "stream",
     "text": [
      "Best value at boundary.\n",
      "r2 is 1.000000238418579\n",
      "r2 is 1.0000003576278687\n",
      "r2 is 1.0000001192092896\n"
     ]
    },
    {
     "name": "stderr",
     "output_type": "stream",
     "text": [
      "train loss: 2.21e-03 | test loss: 6.70e-03 | reg: 5.31e+00 : 100%|██| 50/50 [00:00<00:00, 77.26it/s]\n",
      "/Users/gal.yona/Documents/MSc/Thesis/ImplicitNeuralSurfaces/forked_pykan/pykan/kan/KAN.py:344: UserWarning:\n",
      "\n",
      "std(): degrees of freedom is <= 0. Correction should be strictly less than the reduction factor (input numel divided by output numel). (Triggered internally at /Users/runner/work/pytorch/pytorch/pytorch/aten/src/ATen/native/ReduceOps.cpp:1760.)\n",
      "\n"
     ]
    },
    {
     "name": "stdout",
     "output_type": "stream",
     "text": [
      "0.01 - 1.67*((0.39 - x_2)**3 - 0.49*(0.42 - x_1)**4 - 0.13)**2\n",
      "sampled_index 126 signature  tensor([[ 0.2096, -0.0189,  3.6672, -1.1653,  1.7497, -1.9325]],\n",
      "       grad_fn=<StackBackward0>)\n",
      "sampled_index 126 signature  tensor([[ 0.2093, -0.0211,  3.6675, -1.1129,  1.7851, -1.9633]],\n",
      "       grad_fn=<StackBackward0>)\n",
      "Number of vertices: 106712\n",
      "dataset full size: 271\n"
     ]
    },
    {
     "name": "stderr",
     "output_type": "stream",
     "text": [
      "train loss: 5.83e-03 | test loss: 1.38e-02 | reg: 3.79e+00 : 100%|██| 20/20 [00:02<00:00,  8.20it/s]\n",
      "train loss: 1.45e-03 | test loss: 2.55e+00 | reg: 8.99e+00 : 100%|██| 50/50 [00:03<00:00, 16.64it/s]\n"
     ]
    },
    {
     "name": "stdout",
     "output_type": "stream",
     "text": [
      "r2 is 0.9888073801994324\n",
      "r2 is 0.9830164909362793\n",
      "r2 is 0.2521268129348755\n",
      "r2 is not very high, please double check if you are choosing the correct symbolic function.\n"
     ]
    },
    {
     "name": "stderr",
     "output_type": "stream",
     "text": [
      "train loss: 3.50e-03 | test loss: 7.22e-02 | reg: 6.78e+01 : 100%|██| 50/50 [00:00<00:00, 54.64it/s]\n",
      "/Users/gal.yona/Documents/MSc/Thesis/ImplicitNeuralSurfaces/forked_pykan/pykan/kan/KAN.py:344: UserWarning:\n",
      "\n",
      "std(): degrees of freedom is <= 0. Correction should be strictly less than the reduction factor (input numel divided by output numel). (Triggered internally at /Users/runner/work/pytorch/pytorch/pytorch/aten/src/ATen/native/ReduceOps.cpp:1760.)\n",
      "\n"
     ]
    },
    {
     "name": "stdout",
     "output_type": "stream",
     "text": [
      "24.74*(0.04*(0.25 - x_2)**3 - 0.67*(-x_1 - 0.18)**4 - 1)**2 - 24.75\n",
      "Number of vertices: 106712\n",
      "dataset down sampled size: 217\n"
     ]
    },
    {
     "name": "stderr",
     "output_type": "stream",
     "text": [
      "train loss: 5.74e-03 | test loss: 1.23e-02 | reg: 3.79e+00 : 100%|██| 20/20 [00:02<00:00,  8.48it/s]\n",
      "train loss: 3.52e-03 | test loss: 7.17e-02 | reg: 6.85e+01 : 100%|██| 50/50 [00:00<00:00, 86.88it/s]\n"
     ]
    },
    {
     "name": "stdout",
     "output_type": "stream",
     "text": [
      "r2 is 1.0000003576278687\n",
      "r2 is 1.0000004768371582\n",
      "r2 is 1.000000238418579\n"
     ]
    },
    {
     "name": "stderr",
     "output_type": "stream",
     "text": [
      "train loss: 3.52e-03 | test loss: 7.17e-02 | reg: 6.88e+01 : 100%|██| 50/50 [00:00<00:00, 63.04it/s]\n",
      "/Users/gal.yona/Documents/MSc/Thesis/ImplicitNeuralSurfaces/forked_pykan/pykan/kan/KAN.py:344: UserWarning:\n",
      "\n",
      "std(): degrees of freedom is <= 0. Correction should be strictly less than the reduction factor (input numel divided by output numel). (Triggered internally at /Users/runner/work/pytorch/pytorch/pytorch/aten/src/ATen/native/ReduceOps.cpp:1760.)\n",
      "\n"
     ]
    },
    {
     "name": "stdout",
     "output_type": "stream",
     "text": [
      "21.14*(0.04*(0.25 - x_2)**3 - 0.79*(-x_1 - 0.18)**4 - 1)**2 - 21.15\n",
      "sampled_index 127 signature  tensor([[  -2.1928,  -14.9330,  -17.1559,   -1.0413, -116.2747,  -62.3394]],\n",
      "       grad_fn=<StackBackward0>)\n",
      "sampled_index 127 signature  tensor([[  -2.1906,  -14.9231,  -17.1336,   -1.0447, -116.0587,  -62.1900]],\n",
      "       grad_fn=<StackBackward0>)\n",
      "Number of vertices: 106712\n",
      "dataset full size: 300\n"
     ]
    },
    {
     "name": "stderr",
     "output_type": "stream",
     "text": [
      "train loss: 3.11e-02 | test loss: 3.45e-02 | reg: 3.53e+00 : 100%|██| 20/20 [00:02<00:00,  8.44it/s]\n",
      "train loss: 2.27e-03 | test loss: 7.02e-02 | reg: 4.63e+00 : 100%|██| 50/50 [00:02<00:00, 22.19it/s]\n"
     ]
    },
    {
     "name": "stdout",
     "output_type": "stream",
     "text": [
      "r2 is 0.9904618263244629\n",
      "r2 is 0.9999058842658997\n",
      "r2 is 0.8392364978790283\n",
      "r2 is not very high, please double check if you are choosing the correct symbolic function.\n"
     ]
    },
    {
     "name": "stderr",
     "output_type": "stream",
     "text": [
      "train loss: 7.82e-03 | test loss: 1.53e-02 | reg: 7.36e+00 : 100%|██| 50/50 [00:01<00:00, 35.44it/s]\n",
      "/Users/gal.yona/Documents/MSc/Thesis/ImplicitNeuralSurfaces/forked_pykan/pykan/kan/KAN.py:344: UserWarning:\n",
      "\n",
      "std(): degrees of freedom is <= 0. Correction should be strictly less than the reduction factor (input numel divided by output numel). (Triggered internally at /Users/runner/work/pytorch/pytorch/pytorch/aten/src/ATen/native/ReduceOps.cpp:1760.)\n",
      "\n"
     ]
    },
    {
     "name": "stdout",
     "output_type": "stream",
     "text": [
      "8.31*(-0.32*(-x_1 - 0.8)**4 - (-x_2 - 0.38)**3 + 0.04)**2 - 0.e-2\n",
      "Number of vertices: 106712\n",
      "dataset down sampled size: 241\n"
     ]
    },
    {
     "name": "stderr",
     "output_type": "stream",
     "text": [
      "train loss: 2.70e-02 | test loss: 3.14e-02 | reg: 3.37e+00 : 100%|██| 20/20 [00:02<00:00,  9.37it/s]\n",
      "train loss: 7.87e-03 | test loss: 1.52e-02 | reg: 7.15e+00 : 100%|██| 50/50 [00:00<00:00, 60.51it/s]\n"
     ]
    },
    {
     "name": "stdout",
     "output_type": "stream",
     "text": [
      "r2 is 1.0000003576278687\n",
      "r2 is 1.0000003576278687\n",
      "r2 is 0.9999908208847046\n"
     ]
    },
    {
     "name": "stderr",
     "output_type": "stream",
     "text": [
      "train loss: 7.87e-03 | test loss: 1.52e-02 | reg: 7.38e+00 : 100%|█| 50/50 [00:00<00:00, 103.57it/s]\n",
      "/Users/gal.yona/Documents/MSc/Thesis/ImplicitNeuralSurfaces/forked_pykan/pykan/kan/KAN.py:344: UserWarning:\n",
      "\n",
      "std(): degrees of freedom is <= 0. Correction should be strictly less than the reduction factor (input numel divided by output numel). (Triggered internally at /Users/runner/work/pytorch/pytorch/pytorch/aten/src/ATen/native/ReduceOps.cpp:1760.)\n",
      "\n"
     ]
    },
    {
     "name": "stdout",
     "output_type": "stream",
     "text": [
      "8.32*(-0.31*(-x_1 - 0.8)**4 - (-x_2 - 0.38)**3 + 0.04)**2 - 0.e-2\n",
      "sampled_index 128 signature  tensor([[ -4.2111,  -3.4095, -30.1668,  22.4411, 125.1309,  -8.2794]],\n",
      "       grad_fn=<StackBackward0>)\n",
      "sampled_index 128 signature  tensor([[ -4.2183,  -3.3639, -29.8604,  22.5455, 125.2402,  -8.1320]],\n",
      "       grad_fn=<StackBackward0>)\n",
      "Number of vertices: 106712\n",
      "dataset full size: 265\n"
     ]
    },
    {
     "name": "stderr",
     "output_type": "stream",
     "text": [
      "train loss: 1.97e-02 | test loss: 1.85e-02 | reg: 3.51e+00 : 100%|██| 20/20 [00:02<00:00,  8.44it/s]\n",
      "train loss: 2.67e-03 | test loss: 3.88e-03 | reg: 3.38e+00 : 100%|██| 50/50 [00:01<00:00, 29.27it/s]\n"
     ]
    },
    {
     "name": "stdout",
     "output_type": "stream",
     "text": [
      "r2 is 0.9866558313369751\n",
      "Best value at boundary.\n",
      "r2 is 0.9652053117752075\n",
      "Best value at boundary.\n",
      "r2 is 0.4622496962547302\n",
      "r2 is not very high, please double check if you are choosing the correct symbolic function.\n"
     ]
    },
    {
     "name": "stderr",
     "output_type": "stream",
     "text": [
      "train loss: 3.06e-03 | test loss: 4.40e-03 | reg: 3.43e+00 : 100%|██| 50/50 [00:00<00:00, 54.48it/s]\n",
      "/Users/gal.yona/Documents/MSc/Thesis/ImplicitNeuralSurfaces/forked_pykan/pykan/kan/KAN.py:344: UserWarning:\n",
      "\n",
      "std(): degrees of freedom is <= 0. Correction should be strictly less than the reduction factor (input numel divided by output numel). (Triggered internally at /Users/runner/work/pytorch/pytorch/pytorch/aten/src/ATen/native/ReduceOps.cpp:1760.)\n",
      "\n"
     ]
    },
    {
     "name": "stdout",
     "output_type": "stream",
     "text": [
      "-736.36*(0.33*(0.24 - x_1)**4 + (-x_2 - 0.01)**3)**2\n",
      "Number of vertices: 106712\n",
      "dataset down sampled size: 213\n"
     ]
    },
    {
     "name": "stderr",
     "output_type": "stream",
     "text": [
      "train loss: 1.04e-02 | test loss: 1.01e-02 | reg: 3.49e+00 : 100%|██| 20/20 [00:02<00:00,  8.45it/s]\n",
      "train loss: 2.91e-03 | test loss: 4.22e-03 | reg: 2.98e+00 : 100%|██| 50/50 [00:00<00:00, 52.49it/s]\n"
     ]
    },
    {
     "name": "stdout",
     "output_type": "stream",
     "text": [
      "r2 is 1.000000238418579\n",
      "r2 is 1.0000001192092896\n",
      "Best value at boundary.\n",
      "r2 is 0.9995219707489014\n"
     ]
    },
    {
     "name": "stderr",
     "output_type": "stream",
     "text": [
      "train loss: 2.91e-03 | test loss: 4.22e-03 | reg: 3.42e+00 : 100%|██| 50/50 [00:00<00:00, 68.66it/s]\n",
      "/Users/gal.yona/Documents/MSc/Thesis/ImplicitNeuralSurfaces/forked_pykan/pykan/kan/KAN.py:344: UserWarning:\n",
      "\n",
      "std(): degrees of freedom is <= 0. Correction should be strictly less than the reduction factor (input numel divided by output numel). (Triggered internally at /Users/runner/work/pytorch/pytorch/pytorch/aten/src/ATen/native/ReduceOps.cpp:1760.)\n",
      "\n"
     ]
    },
    {
     "name": "stdout",
     "output_type": "stream",
     "text": [
      "-750.16*(0.32*(0.24 - x_1)**4 + (-x_2 - 0.e-2)**3)**2\n",
      "sampled_index 129 signature  tensor([[ 0.2998, -0.0243,  1.6985,  9.0447,  2.2997, -1.8149]],\n",
      "       grad_fn=<StackBackward0>)\n",
      "sampled_index 129 signature  tensor([[ 0.2945, -0.0176,  1.6237,  8.9548,  2.0871, -1.3810]],\n",
      "       grad_fn=<StackBackward0>)\n",
      "Number of vertices: 106712\n",
      "dataset full size: 276\n"
     ]
    },
    {
     "name": "stderr",
     "output_type": "stream",
     "text": [
      "train loss: 1.87e-02 | test loss: 1.76e-02 | reg: 2.87e+00 : 100%|██| 20/20 [00:02<00:00,  9.06it/s]\n",
      "train loss: 1.21e-03 | test loss: 7.22e-03 | reg: 4.31e+00 : 100%|██| 50/50 [00:02<00:00, 19.38it/s]\n"
     ]
    },
    {
     "name": "stdout",
     "output_type": "stream",
     "text": [
      "Best value at boundary.\n",
      "r2 is 0.8623960018157959\n",
      "r2 is not very high, please double check if you are choosing the correct symbolic function.\n",
      "r2 is 0.9757093191146851\n",
      "Best value at boundary.\n",
      "r2 is 0.9174813628196716\n"
     ]
    },
    {
     "name": "stderr",
     "output_type": "stream",
     "text": [
      "train loss: 1.63e-03 | test loss: 3.20e-03 | reg: 6.13e+01 : 100%|██| 50/50 [00:02<00:00, 19.93it/s]\n",
      "/Users/gal.yona/Documents/MSc/Thesis/ImplicitNeuralSurfaces/forked_pykan/pykan/kan/KAN.py:344: UserWarning:\n",
      "\n",
      "std(): degrees of freedom is <= 0. Correction should be strictly less than the reduction factor (input numel divided by output numel). (Triggered internally at /Users/runner/work/pytorch/pytorch/pytorch/aten/src/ATen/native/ReduceOps.cpp:1760.)\n",
      "\n"
     ]
    },
    {
     "name": "stdout",
     "output_type": "stream",
     "text": [
      "1.26 - 156740.52*x_1**8\n",
      "Number of vertices: 106712\n",
      "dataset down sampled size: 221\n"
     ]
    },
    {
     "name": "stderr",
     "output_type": "stream",
     "text": [
      "train loss: 1.82e-02 | test loss: 1.71e-02 | reg: 3.05e+00 : 100%|██| 20/20 [00:02<00:00,  9.23it/s]\n",
      "train loss: 1.60e-03 | test loss: 3.20e-03 | reg: 7.10e+01 : 100%|██| 50/50 [00:00<00:00, 91.10it/s]\n"
     ]
    },
    {
     "name": "stdout",
     "output_type": "stream",
     "text": [
      "Best value at boundary.\n",
      "r2 is 0.8752042651176453\n",
      "r2 is not very high, please double check if you are choosing the correct symbolic function.\n",
      "r2 is 1.000000238418579\n",
      "Best value at boundary.\n",
      "r2 is 0.9999950528144836\n"
     ]
    },
    {
     "name": "stderr",
     "output_type": "stream",
     "text": [
      "train loss: 1.70e-03 | test loss: 3.28e-03 | reg: 7.75e+01 : 100%|██| 50/50 [00:00<00:00, 71.20it/s]\n",
      "/Users/gal.yona/Documents/MSc/Thesis/ImplicitNeuralSurfaces/forked_pykan/pykan/kan/KAN.py:344: UserWarning:\n",
      "\n",
      "std(): degrees of freedom is <= 0. Correction should be strictly less than the reduction factor (input numel divided by output numel). (Triggered internally at /Users/runner/work/pytorch/pytorch/pytorch/aten/src/ATen/native/ReduceOps.cpp:1760.)\n",
      "\n"
     ]
    },
    {
     "name": "stdout",
     "output_type": "stream",
     "text": [
      "2.48 - 71828.76*(-x_1**4 - 0.e-2)**2\n",
      "sampled_index 130 signature  tensor([[-4.1656e-02, -2.4358e-02,  5.3845e-01, -3.5787e+01,  1.2871e-01,\n",
      "          1.4543e+01]], grad_fn=<StackBackward0>)\n",
      "sampled_index 130 signature  tensor([[-1.1937e-01, -6.3910e-13,  6.3247e-01,  1.6466e-04,  3.3799e-12,\n",
      "         -7.8620e-05]], grad_fn=<StackBackward0>)\n",
      "Number of vertices: 106712\n",
      "dataset full size: 299\n"
     ]
    },
    {
     "name": "stderr",
     "output_type": "stream",
     "text": [
      "train loss: 6.38e-02 | test loss: 6.48e-02 | reg: 2.95e+00 : 100%|██| 20/20 [00:02<00:00,  8.13it/s]\n",
      "train loss: 1.02e-03 | test loss: 3.93e-03 | reg: 1.71e+00 : 100%|██| 50/50 [00:02<00:00, 21.51it/s]\n"
     ]
    },
    {
     "name": "stdout",
     "output_type": "stream",
     "text": [
      "r2 is 0.9793068766593933\n",
      "r2 is 0.9746094942092896\n",
      "r2 is 0.17972050607204437\n",
      "r2 is not very high, please double check if you are choosing the correct symbolic function.\n"
     ]
    },
    {
     "name": "stderr",
     "output_type": "stream",
     "text": [
      "train loss: 1.95e-03 | test loss: 4.23e-03 | reg: 2.54e+00 : 100%|██| 50/50 [00:00<00:00, 54.97it/s]\n",
      "/Users/gal.yona/Documents/MSc/Thesis/ImplicitNeuralSurfaces/forked_pykan/pykan/kan/KAN.py:344: UserWarning:\n",
      "\n",
      "std(): degrees of freedom is <= 0. Correction should be strictly less than the reduction factor (input numel divided by output numel). (Triggered internally at /Users/runner/work/pytorch/pytorch/pytorch/aten/src/ATen/native/ReduceOps.cpp:1760.)\n",
      "\n"
     ]
    },
    {
     "name": "stdout",
     "output_type": "stream",
     "text": [
      "-0.59*(-(0.61 - x_2)**3 - 0.33*(-0.61*x_1 - 1)**4 + 0.58)**2\n",
      "Number of vertices: 106712\n",
      "dataset down sampled size: 240\n"
     ]
    },
    {
     "name": "stderr",
     "output_type": "stream",
     "text": [
      "train loss: 5.97e-02 | test loss: 6.07e-02 | reg: 2.66e+00 : 100%|██| 20/20 [00:02<00:00,  8.81it/s]\n",
      "train loss: 1.93e-03 | test loss: 4.06e-03 | reg: 2.05e+00 : 100%|██| 50/50 [00:00<00:00, 60.10it/s]\n"
     ]
    },
    {
     "name": "stdout",
     "output_type": "stream",
     "text": [
      "r2 is 1.0000003576278687\n",
      "r2 is 1.0000003576278687\n",
      "r2 is 0.9999433755874634\n"
     ]
    },
    {
     "name": "stderr",
     "output_type": "stream",
     "text": [
      "train loss: 1.93e-03 | test loss: 4.02e-03 | reg: 2.57e+00 : 100%|██| 50/50 [00:00<00:00, 73.22it/s]\n",
      "/Users/gal.yona/Documents/MSc/Thesis/ImplicitNeuralSurfaces/forked_pykan/pykan/kan/KAN.py:344: UserWarning:\n",
      "\n",
      "std(): degrees of freedom is <= 0. Correction should be strictly less than the reduction factor (input numel divided by output numel). (Triggered internally at /Users/runner/work/pytorch/pytorch/pytorch/aten/src/ATen/native/ReduceOps.cpp:1760.)\n",
      "\n"
     ]
    },
    {
     "name": "stdout",
     "output_type": "stream",
     "text": [
      "-0.55*(-(0.61 - x_2)**3 - 0.35*(-0.61*x_1 - 1)**4 + 0.59)**2\n",
      "sampled_index 131 signature  tensor([[ 1.0645, -0.0902,  1.7419, -8.9596,  0.0537, -7.1853]],\n",
      "       grad_fn=<StackBackward0>)\n",
      "sampled_index 131 signature  tensor([[ 1.0377, -0.0841,  1.6293, -8.5827,  0.0445, -6.9977]],\n",
      "       grad_fn=<StackBackward0>)\n",
      "Number of vertices: 106712\n",
      "dataset full size: 233\n"
     ]
    },
    {
     "name": "stderr",
     "output_type": "stream",
     "text": [
      "train loss: 6.34e-03 | test loss: 1.39e-02 | reg: 3.93e+00 : 100%|██| 20/20 [00:02<00:00,  8.97it/s]\n",
      "train loss: 2.52e-03 | test loss: 5.45e-03 | reg: 2.62e+00 : 100%|██| 50/50 [00:01<00:00, 25.42it/s]\n"
     ]
    },
    {
     "name": "stdout",
     "output_type": "stream",
     "text": [
      "r2 is 0.9946320056915283\n",
      "r2 is 0.7157235145568848\n",
      "r2 is not very high, please double check if you are choosing the correct symbolic function.\n",
      "r2 is 0.5775042772293091\n",
      "r2 is not very high, please double check if you are choosing the correct symbolic function.\n"
     ]
    },
    {
     "name": "stderr",
     "output_type": "stream",
     "text": [
      "train loss: 2.99e-03 | test loss: 7.33e-03 | reg: 4.40e+02 : 100%|██| 50/50 [00:01<00:00, 27.43it/s]\n",
      "/Users/gal.yona/Documents/MSc/Thesis/ImplicitNeuralSurfaces/forked_pykan/pykan/kan/KAN.py:344: UserWarning:\n",
      "\n",
      "std(): degrees of freedom is <= 0. Correction should be strictly less than the reduction factor (input numel divided by output numel). (Triggered internally at /Users/runner/work/pytorch/pytorch/pytorch/aten/src/ATen/native/ReduceOps.cpp:1760.)\n",
      "\n"
     ]
    },
    {
     "name": "stdout",
     "output_type": "stream",
     "text": [
      "1.79 - 1.79*(-0.54*(-x_2 - 0.06)**3 - 1)**2\n",
      "Number of vertices: 106712\n",
      "dataset down sampled size: 187\n"
     ]
    },
    {
     "name": "stderr",
     "output_type": "stream",
     "text": [
      "train loss: 7.73e-03 | test loss: 1.51e-02 | reg: 3.97e+00 : 100%|██| 20/20 [00:02<00:00,  9.71it/s]\n",
      "train loss: 2.95e-03 | test loss: 7.25e-03 | reg: 4.41e+02 : 100%|██| 50/50 [00:00<00:00, 87.77it/s]\n"
     ]
    },
    {
     "name": "stdout",
     "output_type": "stream",
     "text": [
      "r2 is 1.0000003576278687\n",
      "r2 is 0.9998119473457336\n",
      "Best value at boundary.\n",
      "r2 is 0.9987524747848511\n"
     ]
    },
    {
     "name": "stderr",
     "output_type": "stream",
     "text": [
      "train loss: 2.95e-03 | test loss: 7.25e-03 | reg: 4.41e+02 : 100%|█| 50/50 [00:00<00:00, 114.03it/s]\n",
      "/Users/gal.yona/Documents/MSc/Thesis/ImplicitNeuralSurfaces/forked_pykan/pykan/kan/KAN.py:344: UserWarning:\n",
      "\n",
      "std(): degrees of freedom is <= 0. Correction should be strictly less than the reduction factor (input numel divided by output numel). (Triggered internally at /Users/runner/work/pytorch/pytorch/pytorch/aten/src/ATen/native/ReduceOps.cpp:1760.)\n",
      "\n"
     ]
    },
    {
     "name": "stdout",
     "output_type": "stream",
     "text": [
      "6.46 - 6.46*(0.15*(-x_2 - 0.06)**3 + 1)**2\n",
      "sampled_index 132 signature  tensor([[-0.3470, -0.0171, -5.7339, -0.0364, -0.2731,  0.0527]],\n",
      "       grad_fn=<StackBackward0>)\n",
      "sampled_index 132 signature  tensor([[-0.3472, -0.0165, -5.6929, -0.0354, -0.2621,  0.0508]],\n",
      "       grad_fn=<StackBackward0>)\n",
      "Number of vertices: 106712\n",
      "dataset full size: 253\n"
     ]
    },
    {
     "name": "stderr",
     "output_type": "stream",
     "text": [
      "train loss: 1.18e-02 | test loss: 2.05e-02 | reg: 3.95e+00 : 100%|██| 20/20 [00:02<00:00,  9.11it/s]\n",
      "train loss: 1.46e-03 | test loss: 3.29e-02 | reg: 3.11e+00 : 100%|██| 50/50 [00:02<00:00, 23.69it/s]\n"
     ]
    },
    {
     "name": "stdout",
     "output_type": "stream",
     "text": [
      "Best value at boundary.\n",
      "r2 is 0.9985281825065613\n",
      "r2 is 0.9987353086471558\n",
      "r2 is 0.9749723076820374\n"
     ]
    },
    {
     "name": "stderr",
     "output_type": "stream",
     "text": [
      "train loss: 1.66e-03 | test loss: 2.91e-02 | reg: 3.41e+00 : 100%|██| 50/50 [00:00<00:00, 63.36it/s]\n",
      "/Users/gal.yona/Documents/MSc/Thesis/ImplicitNeuralSurfaces/forked_pykan/pykan/kan/KAN.py:344: UserWarning:\n",
      "\n",
      "std(): degrees of freedom is <= 0. Correction should be strictly less than the reduction factor (input numel divided by output numel). (Triggered internally at /Users/runner/work/pytorch/pytorch/pytorch/aten/src/ATen/native/ReduceOps.cpp:1760.)\n",
      "\n"
     ]
    },
    {
     "name": "stdout",
     "output_type": "stream",
     "text": [
      "-202.6*(0.24*(1 - 0.07*x_2)**3 - (-0.02*x_1 - 1)**4 + 0.76)**2\n",
      "Number of vertices: 106712\n",
      "dataset down sampled size: 203\n"
     ]
    },
    {
     "name": "stderr",
     "output_type": "stream",
     "text": [
      "train loss: 1.13e-02 | test loss: 1.99e-02 | reg: 3.95e+00 : 100%|██| 20/20 [00:02<00:00,  9.23it/s]\n",
      "train loss: 1.69e-03 | test loss: 2.92e-02 | reg: 3.32e+00 : 100%|██| 50/50 [00:00<00:00, 87.76it/s]\n"
     ]
    },
    {
     "name": "stdout",
     "output_type": "stream",
     "text": [
      "r2 is 1.0000004768371582\n",
      "r2 is 1.0000004768371582\n",
      "r2 is 0.999998927116394\n"
     ]
    },
    {
     "name": "stderr",
     "output_type": "stream",
     "text": [
      "train loss: 1.69e-03 | test loss: 2.92e-02 | reg: 3.42e+00 : 100%|██| 50/50 [00:00<00:00, 88.02it/s]\n",
      "/Users/gal.yona/Documents/MSc/Thesis/ImplicitNeuralSurfaces/forked_pykan/pykan/kan/KAN.py:344: UserWarning:\n",
      "\n",
      "std(): degrees of freedom is <= 0. Correction should be strictly less than the reduction factor (input numel divided by output numel). (Triggered internally at /Users/runner/work/pytorch/pytorch/pytorch/aten/src/ATen/native/ReduceOps.cpp:1760.)\n",
      "\n"
     ]
    },
    {
     "name": "stdout",
     "output_type": "stream",
     "text": [
      "-194.04*(0.24*(1 - 0.07*x_2)**3 - (-0.02*x_1 - 1)**4 + 0.75)**2\n",
      "sampled_index 133 signature  tensor([[ 1.8652e+00, -7.3964e-03,  2.2649e-01,  1.0310e+00, -1.0887e-04,\n",
      "          5.7231e-01]], grad_fn=<StackBackward0>)\n",
      "sampled_index 133 signature  tensor([[ 1.8649e+00, -7.6426e-03,  2.2941e-01,  1.0591e+00, -1.1176e-04,\n",
      "          5.7343e-01]], grad_fn=<StackBackward0>)\n",
      "Number of vertices: 106712\n",
      "dataset full size: 360\n"
     ]
    },
    {
     "name": "stderr",
     "output_type": "stream",
     "text": [
      "train loss: 2.95e-02 | test loss: 2.26e-02 | reg: 3.20e+00 : 100%|██| 20/20 [00:02<00:00,  6.74it/s]\n",
      "train loss: 2.37e-02 | test loss: 1.46e-01 | reg: 2.85e+00 : 100%|██| 50/50 [00:01<00:00, 28.79it/s]\n"
     ]
    },
    {
     "name": "stdout",
     "output_type": "stream",
     "text": [
      "r2 is 0.9948713779449463\n",
      "r2 is 0.9959505200386047\n",
      "r2 is 0.672231912612915\n",
      "r2 is not very high, please double check if you are choosing the correct symbolic function.\n"
     ]
    },
    {
     "name": "stderr",
     "output_type": "stream",
     "text": [
      "train loss: 2.39e-02 | test loss: 3.25e-02 | reg: 4.61e+00 : 100%|██| 50/50 [00:00<00:00, 53.23it/s]\n",
      "/Users/gal.yona/Documents/MSc/Thesis/ImplicitNeuralSurfaces/forked_pykan/pykan/kan/KAN.py:344: UserWarning:\n",
      "\n",
      "std(): degrees of freedom is <= 0. Correction should be strictly less than the reduction factor (input numel divided by output numel). (Triggered internally at /Users/runner/work/pytorch/pytorch/pytorch/aten/src/ATen/native/ReduceOps.cpp:1760.)\n",
      "\n"
     ]
    },
    {
     "name": "stdout",
     "output_type": "stream",
     "text": [
      "25.98*(-(1 - 0.12*x_1)**4 - 0.22*(-x_2 - 0.44)**3 + 0.98)**2 - 0.03\n",
      "Number of vertices: 106712\n",
      "dataset down sampled size: 289\n"
     ]
    },
    {
     "name": "stderr",
     "output_type": "stream",
     "text": [
      "train loss: 3.01e-02 | test loss: 2.27e-02 | reg: 3.12e+00 : 100%|██| 20/20 [00:02<00:00,  9.18it/s]\n",
      "train loss: 2.43e-02 | test loss: 3.17e-02 | reg: 3.27e+00 : 100%|██| 50/50 [00:00<00:00, 69.55it/s]\n"
     ]
    },
    {
     "name": "stdout",
     "output_type": "stream",
     "text": [
      "r2 is 1.0000003576278687\n",
      "r2 is 1.0000003576278687\n",
      "Best value at boundary.\n",
      "r2 is 0.9992738962173462\n"
     ]
    },
    {
     "name": "stderr",
     "output_type": "stream",
     "text": [
      "train loss: 2.43e-02 | test loss: 3.15e-02 | reg: 4.50e+00 : 100%|██| 50/50 [00:00<00:00, 81.60it/s]\n",
      "/Users/gal.yona/Documents/MSc/Thesis/ImplicitNeuralSurfaces/forked_pykan/pykan/kan/KAN.py:344: UserWarning:\n",
      "\n",
      "std(): degrees of freedom is <= 0. Correction should be strictly less than the reduction factor (input numel divided by output numel). (Triggered internally at /Users/runner/work/pytorch/pytorch/pytorch/aten/src/ATen/native/ReduceOps.cpp:1760.)\n",
      "\n"
     ]
    },
    {
     "name": "stdout",
     "output_type": "stream",
     "text": [
      "26.15*(-(1 - 0.12*x_1)**4 - 0.21*(-x_2 - 0.44)**3 + 0.98)**2 - 0.03\n",
      "sampled_index 134 signature  tensor([[  -6.5500,   -1.9438,   39.2109,    4.6419, -173.6459,    3.6565]],\n",
      "       grad_fn=<StackBackward0>)\n",
      "sampled_index 134 signature  tensor([[  -6.5012,   -1.6645,   33.9923,    4.3501, -167.8638,    3.1718]],\n",
      "       grad_fn=<StackBackward0>)\n",
      "Number of vertices: 106712\n",
      "dataset full size: 280\n"
     ]
    },
    {
     "name": "stderr",
     "output_type": "stream",
     "text": [
      "train loss: 1.49e-02 | test loss: 1.58e-02 | reg: 3.32e+00 : 100%|██| 20/20 [00:02<00:00,  8.89it/s]\n",
      "train loss: 3.07e-03 | test loss: 4.29e-03 | reg: 3.73e+00 : 100%|██| 50/50 [00:01<00:00, 32.01it/s]\n"
     ]
    },
    {
     "name": "stdout",
     "output_type": "stream",
     "text": [
      "r2 is 0.6202598214149475\n",
      "r2 is not very high, please double check if you are choosing the correct symbolic function.\n",
      "r2 is 0.9946057796478271\n",
      "r2 is 0.9758082628250122\n"
     ]
    },
    {
     "name": "stderr",
     "output_type": "stream",
     "text": [
      "train loss: 4.15e-03 | test loss: 6.34e-03 | reg: 3.74e+00 : 100%|██| 50/50 [00:00<00:00, 68.49it/s]\n",
      "/Users/gal.yona/Documents/MSc/Thesis/ImplicitNeuralSurfaces/forked_pykan/pykan/kan/KAN.py:344: UserWarning:\n",
      "\n",
      "std(): degrees of freedom is <= 0. Correction should be strictly less than the reduction factor (input numel divided by output numel). (Triggered internally at /Users/runner/work/pytorch/pytorch/pytorch/aten/src/ATen/native/ReduceOps.cpp:1760.)\n",
      "\n"
     ]
    },
    {
     "name": "stdout",
     "output_type": "stream",
     "text": [
      "50.28*(0.45*(0.38 - x_1)**4 + (-x_2 - 0.26)**3 + 0.01)**2\n",
      "Number of vertices: 106712\n",
      "dataset down sampled size: 225\n"
     ]
    },
    {
     "name": "stderr",
     "output_type": "stream",
     "text": [
      "train loss: 1.48e-02 | test loss: 1.53e-02 | reg: 3.34e+00 : 100%|██| 20/20 [00:02<00:00,  8.46it/s]\n",
      "train loss: 4.00e-03 | test loss: 6.21e-03 | reg: 3.60e+00 : 100%|██| 50/50 [00:00<00:00, 69.08it/s]\n"
     ]
    },
    {
     "name": "stdout",
     "output_type": "stream",
     "text": [
      "r2 is 1.0000003576278687\n",
      "r2 is 1.0000001192092896\n",
      "r2 is 0.9996305704116821\n"
     ]
    },
    {
     "name": "stderr",
     "output_type": "stream",
     "text": [
      "train loss: 4.00e-03 | test loss: 6.21e-03 | reg: 3.76e+00 : 100%|██| 50/50 [00:00<00:00, 81.83it/s]\n",
      "/Users/gal.yona/Documents/MSc/Thesis/ImplicitNeuralSurfaces/forked_pykan/pykan/kan/KAN.py:344: UserWarning:\n",
      "\n",
      "std(): degrees of freedom is <= 0. Correction should be strictly less than the reduction factor (input numel divided by output numel). (Triggered internally at /Users/runner/work/pytorch/pytorch/pytorch/aten/src/ATen/native/ReduceOps.cpp:1760.)\n",
      "\n"
     ]
    },
    {
     "name": "stdout",
     "output_type": "stream",
     "text": [
      "52.11*(0.42*(0.38 - x_1)**4 + (-x_2 - 0.26)**3 + 0.01)**2\n",
      "sampled_index 135 signature  tensor([[ -2.4479,   0.1717, -34.2641, -20.7674, -27.1033,   0.7389]],\n",
      "       grad_fn=<StackBackward0>)\n",
      "sampled_index 135 signature  tensor([[ -2.4649,   0.2327, -37.0702, -20.1924, -25.9941,   1.0538]],\n",
      "       grad_fn=<StackBackward0>)\n",
      "Number of vertices: 106712\n",
      "dataset full size: 268\n"
     ]
    },
    {
     "name": "stderr",
     "output_type": "stream",
     "text": [
      "train loss: 1.57e-02 | test loss: 1.72e-02 | reg: 3.27e+00 : 100%|██| 20/20 [00:02<00:00,  8.99it/s]\n",
      "train loss: 1.02e-03 | test loss: 2.13e-03 | reg: 2.68e+00 : 100%|██| 50/50 [00:02<00:00, 18.73it/s]\n"
     ]
    },
    {
     "name": "stdout",
     "output_type": "stream",
     "text": [
      "r2 is 0.9968321323394775\n",
      "r2 is 0.9974015951156616\n",
      "r2 is 0.890202522277832\n",
      "r2 is not very high, please double check if you are choosing the correct symbolic function.\n"
     ]
    },
    {
     "name": "stderr",
     "output_type": "stream",
     "text": [
      "train loss: 1.72e-03 | test loss: 2.43e-03 | reg: 2.91e+02 : 100%|██| 50/50 [00:00<00:00, 58.12it/s]\n",
      "/Users/gal.yona/Documents/MSc/Thesis/ImplicitNeuralSurfaces/forked_pykan/pykan/kan/KAN.py:344: UserWarning:\n",
      "\n",
      "std(): degrees of freedom is <= 0. Correction should be strictly less than the reduction factor (input numel divided by output numel). (Triggered internally at /Users/runner/work/pytorch/pytorch/pytorch/aten/src/ATen/native/ReduceOps.cpp:1760.)\n",
      "\n"
     ]
    },
    {
     "name": "stdout",
     "output_type": "stream",
     "text": [
      "5.83*(-0.25*(0.11 - x_2)**3 - (-x_1 - 0.12)**4 + 0.6)**2 - 2.08\n",
      "Number of vertices: 106712\n",
      "dataset down sampled size: 215\n"
     ]
    },
    {
     "name": "stderr",
     "output_type": "stream",
     "text": [
      "train loss: 1.46e-02 | test loss: 1.56e-02 | reg: 3.48e+00 : 100%|██| 20/20 [00:02<00:00,  9.04it/s]\n",
      "train loss: 1.74e-03 | test loss: 2.36e-03 | reg: 2.92e+02 : 100%|██| 50/50 [00:00<00:00, 86.55it/s]\n"
     ]
    },
    {
     "name": "stdout",
     "output_type": "stream",
     "text": [
      "Best value at boundary.\n",
      "r2 is 0.9999961853027344\n",
      "r2 is 0.999971866607666\n",
      "Best value at boundary.\n",
      "r2 is 0.9999587535858154\n"
     ]
    },
    {
     "name": "stderr",
     "output_type": "stream",
     "text": [
      "train loss: 1.74e-03 | test loss: 2.36e-03 | reg: 2.92e+02 : 100%|██| 50/50 [00:00<00:00, 62.41it/s]\n",
      "/Users/gal.yona/Documents/MSc/Thesis/ImplicitNeuralSurfaces/forked_pykan/pykan/kan/KAN.py:344: UserWarning:\n",
      "\n",
      "std(): degrees of freedom is <= 0. Correction should be strictly less than the reduction factor (input numel divided by output numel). (Triggered internally at /Users/runner/work/pytorch/pytorch/pytorch/aten/src/ATen/native/ReduceOps.cpp:1760.)\n",
      "\n"
     ]
    },
    {
     "name": "stdout",
     "output_type": "stream",
     "text": [
      "3.43*(-0.25*(0.11 - x_2)**3 - (-x_1 - 0.12)**4 + 1.0)**2 - 3.39\n",
      "sampled_index 136 signature  tensor([[  1.1469,   1.3135,   5.3831,  -9.5439,  12.7402, -21.0194]],\n",
      "       grad_fn=<StackBackward0>)\n",
      "sampled_index 136 signature  tensor([[  1.1382,   1.2944,   5.4648,  -9.3393,  12.7425, -20.5883]],\n",
      "       grad_fn=<StackBackward0>)\n",
      "Number of vertices: 106712\n",
      "dataset full size: 308\n"
     ]
    },
    {
     "name": "stderr",
     "output_type": "stream",
     "text": [
      "train loss: 1.30e-02 | test loss: 1.49e-02 | reg: 3.38e+00 : 100%|██| 20/20 [00:02<00:00,  8.38it/s]\n",
      "train loss: 7.30e-03 | test loss: 8.81e-03 | reg: 6.12e+00 : 100%|██| 50/50 [00:02<00:00, 20.20it/s]\n"
     ]
    },
    {
     "name": "stdout",
     "output_type": "stream",
     "text": [
      "r2 is 0.9581839442253113\n",
      "r2 is 0.4648955464363098\n",
      "r2 is not very high, please double check if you are choosing the correct symbolic function.\n",
      "r2 is 0.9868090152740479\n"
     ]
    },
    {
     "name": "stderr",
     "output_type": "stream",
     "text": [
      "train loss: 2.61e-03 | test loss: 6.47e-03 | reg: 9.11e+14 : 100%|██| 50/50 [00:02<00:00, 19.20it/s]\n",
      "/Users/gal.yona/Documents/MSc/Thesis/ImplicitNeuralSurfaces/forked_pykan/pykan/kan/KAN.py:344: UserWarning:\n",
      "\n",
      "std(): degrees of freedom is <= 0. Correction should be strictly less than the reduction factor (input numel divided by output numel). (Triggered internally at /Users/runner/work/pytorch/pytorch/pytorch/aten/src/ATen/native/ReduceOps.cpp:1760.)\n",
      "\n"
     ]
    },
    {
     "name": "stdout",
     "output_type": "stream",
     "text": [
      "0\n",
      "Number of vertices: 106712\n",
      "dataset down sampled size: 247\n"
     ]
    },
    {
     "name": "stderr",
     "output_type": "stream",
     "text": [
      "train loss: 1.39e-02 | test loss: 1.59e-02 | reg: 3.21e+00 : 100%|██| 20/20 [00:02<00:00,  9.04it/s]\n",
      "train loss: nan | test loss: nan | reg: nan : 100%|█████████████████| 50/50 [00:03<00:00, 14.17it/s]\n"
     ]
    },
    {
     "name": "stdout",
     "output_type": "stream",
     "text": [
      "Best value at boundary.\n",
      "r2 is 0.0\n",
      "r2 is not very high, please double check if you are choosing the correct symbolic function.\n",
      "nan encountered\n",
      "Number of vertices: 106712\n",
      "dataset full size: 259\n"
     ]
    },
    {
     "name": "stderr",
     "output_type": "stream",
     "text": [
      "train loss: 1.95e-02 | test loss: 1.98e-02 | reg: 3.46e+00 : 100%|██| 20/20 [00:02<00:00,  9.09it/s]\n",
      "train loss: 1.27e-03 | test loss: 2.86e-03 | reg: 8.36e+00 : 100%|██| 50/50 [00:03<00:00, 16.46it/s]\n"
     ]
    },
    {
     "name": "stdout",
     "output_type": "stream",
     "text": [
      "r2 is 0.9810906648635864\n",
      "Best value at boundary.\n",
      "r2 is 0.9581127762794495\n",
      "Best value at boundary.\n",
      "r2 is 0.9780226945877075\n"
     ]
    },
    {
     "name": "stderr",
     "output_type": "stream",
     "text": [
      "train loss: 2.05e-03 | test loss: 2.36e-03 | reg: 9.68e+00 : 100%|██| 50/50 [00:00<00:00, 51.65it/s]\n",
      "/Users/gal.yona/Documents/MSc/Thesis/ImplicitNeuralSurfaces/forked_pykan/pykan/kan/KAN.py:344: UserWarning:\n",
      "\n",
      "std(): degrees of freedom is <= 0. Correction should be strictly less than the reduction factor (input numel divided by output numel). (Triggered internally at /Users/runner/work/pytorch/pytorch/pytorch/aten/src/ATen/native/ReduceOps.cpp:1760.)\n",
      "\n"
     ]
    },
    {
     "name": "stdout",
     "output_type": "stream",
     "text": [
      "0.02 - 4174.81*(-(0.11 - x_1)**4 - 0.33*(-x_2 - 0.04)**3)**2\n",
      "Number of vertices: 106712\n",
      "dataset down sampled size: 208\n"
     ]
    },
    {
     "name": "stderr",
     "output_type": "stream",
     "text": [
      "train loss: 1.67e-02 | test loss: 1.72e-02 | reg: 3.37e+00 : 100%|██| 20/20 [00:02<00:00,  9.55it/s]\n",
      "train loss: 2.00e-03 | test loss: 2.45e-03 | reg: 1.04e+01 : 100%|██| 50/50 [00:00<00:00, 55.35it/s]\n"
     ]
    },
    {
     "name": "stdout",
     "output_type": "stream",
     "text": [
      "r2 is 0.9999992251396179\n",
      "r2 is 0.9982380867004395\n",
      "Best value at boundary.\n",
      "r2 is 0.9831960201263428\n"
     ]
    },
    {
     "name": "stderr",
     "output_type": "stream",
     "text": [
      "train loss: 2.00e-03 | test loss: 2.45e-03 | reg: 7.65e+00 : 100%|██| 50/50 [00:00<00:00, 57.39it/s]\n",
      "/Users/gal.yona/Documents/MSc/Thesis/ImplicitNeuralSurfaces/forked_pykan/pykan/kan/KAN.py:344: UserWarning:\n",
      "\n",
      "std(): degrees of freedom is <= 0. Correction should be strictly less than the reduction factor (input numel divided by output numel). (Triggered internally at /Users/runner/work/pytorch/pytorch/pytorch/aten/src/ATen/native/ReduceOps.cpp:1760.)\n",
      "\n"
     ]
    },
    {
     "name": "stdout",
     "output_type": "stream",
     "text": [
      "0.02 - 3001.36*((0.12 - x_1)**4 + 0.44*(-x_2 - 0.03)**3)**2\n",
      "sampled_index 138 signature  tensor([[ -0.5060,  -3.4613, -13.9191, -18.3096, -27.2277,  94.7382]],\n",
      "       grad_fn=<StackBackward0>)\n",
      "sampled_index 138 signature  tensor([[ -0.4826,  -3.1377, -12.9951, -21.1923, -24.5370, 101.9241]],\n",
      "       grad_fn=<StackBackward0>)\n",
      "Number of vertices: 106712\n",
      "dataset full size: 249\n"
     ]
    },
    {
     "name": "stderr",
     "output_type": "stream",
     "text": [
      "train loss: 1.49e-02 | test loss: 1.55e-02 | reg: 3.40e+00 : 100%|██| 20/20 [00:02<00:00,  8.26it/s]\n",
      "train loss: 1.32e-03 | test loss: 3.54e-03 | reg: 2.88e+00 : 100%|██| 50/50 [00:01<00:00, 25.57it/s]\n"
     ]
    },
    {
     "name": "stdout",
     "output_type": "stream",
     "text": [
      "r2 is 0.9972423315048218\n",
      "r2 is 0.43590685725212097\n",
      "r2 is not very high, please double check if you are choosing the correct symbolic function.\n",
      "Best value at boundary.\n",
      "r2 is 0.9346595406532288\n"
     ]
    },
    {
     "name": "stderr",
     "output_type": "stream",
     "text": [
      "train loss: 1.96e-03 | test loss: 2.48e-03 | reg: 1.86e+00 : 100%|██| 50/50 [00:01<00:00, 47.34it/s]\n",
      "/Users/gal.yona/Documents/MSc/Thesis/ImplicitNeuralSurfaces/forked_pykan/pykan/kan/KAN.py:344: UserWarning:\n",
      "\n",
      "std(): degrees of freedom is <= 0. Correction should be strictly less than the reduction factor (input numel divided by output numel). (Triggered internally at /Users/runner/work/pytorch/pytorch/pytorch/aten/src/ATen/native/ReduceOps.cpp:1760.)\n",
      "\n"
     ]
    },
    {
     "name": "stdout",
     "output_type": "stream",
     "text": [
      "-92.02*(0.09*(1 - 0.31*x_1)**4 + (-x_2 - 0.03)**3 - 0.1)**2\n",
      "Number of vertices: 106712\n",
      "dataset down sampled size: 200\n"
     ]
    },
    {
     "name": "stderr",
     "output_type": "stream",
     "text": [
      "train loss: 1.23e-02 | test loss: 1.31e-02 | reg: 3.48e+00 : 100%|██| 20/20 [00:02<00:00,  8.86it/s]\n",
      "train loss: 1.96e-03 | test loss: 2.38e-03 | reg: 1.79e+00 : 100%|██| 50/50 [00:00<00:00, 63.58it/s]\n"
     ]
    },
    {
     "name": "stdout",
     "output_type": "stream",
     "text": [
      "r2 is 1.0000003576278687\n",
      "r2 is 0.9997841119766235\n",
      "r2 is 0.9981583952903748\n"
     ]
    },
    {
     "name": "stderr",
     "output_type": "stream",
     "text": [
      "train loss: 1.96e-03 | test loss: 2.38e-03 | reg: 1.87e+00 : 100%|██| 50/50 [00:00<00:00, 57.18it/s]\n",
      "/Users/gal.yona/Documents/MSc/Thesis/ImplicitNeuralSurfaces/forked_pykan/pykan/kan/KAN.py:344: UserWarning:\n",
      "\n",
      "std(): degrees of freedom is <= 0. Correction should be strictly less than the reduction factor (input numel divided by output numel). (Triggered internally at /Users/runner/work/pytorch/pytorch/pytorch/aten/src/ATen/native/ReduceOps.cpp:1760.)\n",
      "\n"
     ]
    },
    {
     "name": "stdout",
     "output_type": "stream",
     "text": [
      "-79.86*(0.1*(1 - 0.32*x_1)**4 + (-x_2 - 0.03)**3 - 0.1)**2\n",
      "sampled_index 139 signature  tensor([[ 1.2805,  0.1686, -1.3760,  2.2975, -6.3165, -8.1780]],\n",
      "       grad_fn=<StackBackward0>)\n",
      "sampled_index 139 signature  tensor([[ 1.2564,  0.1572, -1.3005,  2.3753, -5.8909, -7.3963]],\n",
      "       grad_fn=<StackBackward0>)\n",
      "Number of vertices: 106712\n",
      "dataset full size: 387\n"
     ]
    },
    {
     "name": "stderr",
     "output_type": "stream",
     "text": [
      "train loss: 6.47e-02 | test loss: 6.41e-02 | reg: 2.73e+00 : 100%|██| 20/20 [00:03<00:00,  5.43it/s]\n",
      "train loss: 2.04e-03 | test loss: 2.09e-02 | reg: 2.60e+00 : 100%|██| 50/50 [00:03<00:00, 14.67it/s]\n"
     ]
    },
    {
     "name": "stdout",
     "output_type": "stream",
     "text": [
      "r2 is 0.9958590865135193\n",
      "r2 is 0.9998846054077148\n",
      "r2 is 0.8697744607925415\n",
      "r2 is not very high, please double check if you are choosing the correct symbolic function.\n"
     ]
    },
    {
     "name": "stderr",
     "output_type": "stream",
     "text": [
      "train loss: 4.49e-03 | test loss: 1.02e-02 | reg: 4.14e+00 : 100%|██| 50/50 [00:00<00:00, 54.44it/s]\n",
      "/Users/gal.yona/Documents/MSc/Thesis/ImplicitNeuralSurfaces/forked_pykan/pykan/kan/KAN.py:344: UserWarning:\n",
      "\n",
      "std(): degrees of freedom is <= 0. Correction should be strictly less than the reduction factor (input numel divided by output numel). (Triggered internally at /Users/runner/work/pytorch/pytorch/pytorch/aten/src/ATen/native/ReduceOps.cpp:1760.)\n",
      "\n"
     ]
    },
    {
     "name": "stdout",
     "output_type": "stream",
     "text": [
      "-3.06*(0.3*(1 - 0.2*x_1)**4 - 0.69*(-0.86*x_2 - 1)**3 - 1)**2\n",
      "Number of vertices: 106712\n",
      "dataset down sampled size: 310\n"
     ]
    },
    {
     "name": "stderr",
     "output_type": "stream",
     "text": [
      "train loss: 7.15e-02 | test loss: 7.09e-02 | reg: 3.03e+00 : 100%|██| 20/20 [00:02<00:00,  7.26it/s]\n",
      "train loss: 4.46e-03 | test loss: 1.03e-02 | reg: 2.76e+00 : 100%|██| 50/50 [00:00<00:00, 80.55it/s]\n"
     ]
    },
    {
     "name": "stdout",
     "output_type": "stream",
     "text": [
      "r2 is 1.0000004768371582\n",
      "Best value at boundary.\n",
      "r2 is 1.000000238418579\n",
      "r2 is 0.999998927116394\n"
     ]
    },
    {
     "name": "stderr",
     "output_type": "stream",
     "text": [
      "train loss: 4.46e-03 | test loss: 1.03e-02 | reg: 4.16e+00 : 100%|██| 50/50 [00:01<00:00, 38.58it/s]\n",
      "/Users/gal.yona/Documents/MSc/Thesis/ImplicitNeuralSurfaces/forked_pykan/pykan/kan/KAN.py:344: UserWarning:\n",
      "\n",
      "std(): degrees of freedom is <= 0. Correction should be strictly less than the reduction factor (input numel divided by output numel). (Triggered internally at /Users/runner/work/pytorch/pytorch/pytorch/aten/src/ATen/native/ReduceOps.cpp:1760.)\n",
      "\n"
     ]
    },
    {
     "name": "stdout",
     "output_type": "stream",
     "text": [
      "-3.04*(0.3*(1 - 0.2*x_1)**4 - 0.69*(-0.86*x_2 - 1)**3 - 1)**2\n",
      "sampled_index 140 signature  tensor([[  9.4037,  -0.2797,  -4.2475, 118.8556,  -0.1327,  37.9684]],\n",
      "       grad_fn=<StackBackward0>)\n",
      "sampled_index 140 signature  tensor([[  9.3568,  -0.2837,  -4.2651, 118.5448,  -0.1352,  38.0104]],\n",
      "       grad_fn=<StackBackward0>)\n",
      "Number of vertices: 106712\n",
      "dataset full size: 376\n"
     ]
    },
    {
     "name": "stderr",
     "output_type": "stream",
     "text": [
      "train loss: 1.31e-02 | test loss: 1.40e-02 | reg: 3.38e+00 : 100%|██| 20/20 [00:03<00:00,  6.03it/s]\n",
      "train loss: 7.01e-04 | test loss: 3.02e-03 | reg: 3.40e+00 : 100%|██| 50/50 [00:02<00:00, 23.07it/s]\n"
     ]
    },
    {
     "name": "stdout",
     "output_type": "stream",
     "text": [
      "r2 is 0.9958926439285278\n",
      "r2 is 0.9998877644538879\n",
      "r2 is 0.9885167479515076\n"
     ]
    },
    {
     "name": "stderr",
     "output_type": "stream",
     "text": [
      "train loss: 1.48e-03 | test loss: 2.81e-03 | reg: 3.82e+00 : 100%|██| 50/50 [00:00<00:00, 75.22it/s]\n",
      "/Users/gal.yona/Documents/MSc/Thesis/ImplicitNeuralSurfaces/forked_pykan/pykan/kan/KAN.py:344: UserWarning:\n",
      "\n",
      "std(): degrees of freedom is <= 0. Correction should be strictly less than the reduction factor (input numel divided by output numel). (Triggered internally at /Users/runner/work/pytorch/pytorch/pytorch/aten/src/ATen/native/ReduceOps.cpp:1760.)\n",
      "\n"
     ]
    },
    {
     "name": "stdout",
     "output_type": "stream",
     "text": [
      "-0.3*((0.84 - x_1)**4 - 0.35*(-0.83*x_2 - 1)**3 - 0.85)**2\n",
      "Number of vertices: 106712\n",
      "dataset down sampled size: 301\n"
     ]
    },
    {
     "name": "stderr",
     "output_type": "stream",
     "text": [
      "train loss: 2.87e-02 | test loss: 2.71e-02 | reg: 2.96e+00 : 100%|██| 20/20 [00:02<00:00,  7.39it/s]\n",
      "train loss: 1.45e-03 | test loss: 2.84e-03 | reg: 3.67e+00 : 100%|██| 50/50 [00:00<00:00, 76.83it/s]\n"
     ]
    },
    {
     "name": "stdout",
     "output_type": "stream",
     "text": [
      "r2 is 1.0000004768371582\n",
      "r2 is 1.0000004768371582\n",
      "r2 is 0.9995819926261902\n"
     ]
    },
    {
     "name": "stderr",
     "output_type": "stream",
     "text": [
      "train loss: 1.45e-03 | test loss: 2.84e-03 | reg: 3.81e+00 : 100%|█| 50/50 [00:00<00:00, 102.48it/s]\n",
      "/Users/gal.yona/Documents/MSc/Thesis/ImplicitNeuralSurfaces/forked_pykan/pykan/kan/KAN.py:344: UserWarning:\n",
      "\n",
      "std(): degrees of freedom is <= 0. Correction should be strictly less than the reduction factor (input numel divided by output numel). (Triggered internally at /Users/runner/work/pytorch/pytorch/pytorch/aten/src/ATen/native/ReduceOps.cpp:1760.)\n",
      "\n"
     ]
    },
    {
     "name": "stdout",
     "output_type": "stream",
     "text": [
      "-0.29*((0.85 - x_1)**4 - 0.35*(-0.83*x_2 - 1)**3 - 0.86)**2\n",
      "sampled_index 141 signature  tensor([[ 1.9698,  0.0490,  3.3926, 19.0531, -0.0487, 13.6949]],\n",
      "       grad_fn=<StackBackward0>)\n",
      "sampled_index 141 signature  tensor([[ 1.9571,  0.0520,  3.3843, 18.8500, -0.0514, 13.7489]],\n",
      "       grad_fn=<StackBackward0>)\n",
      "Number of vertices: 106712\n",
      "dataset full size: 329\n"
     ]
    },
    {
     "name": "stderr",
     "output_type": "stream",
     "text": [
      "train loss: 3.03e-02 | test loss: 2.82e-02 | reg: 3.46e+00 : 100%|██| 20/20 [00:03<00:00,  6.00it/s]\n",
      "train loss: 4.86e-03 | test loss: 1.11e-02 | reg: 3.10e+00 : 100%|██| 50/50 [00:02<00:00, 24.30it/s]\n"
     ]
    },
    {
     "name": "stdout",
     "output_type": "stream",
     "text": [
      "Best value at boundary.\n",
      "r2 is 0.9986653923988342\n",
      "r2 is 0.9993192553520203\n",
      "r2 is 0.7620645761489868\n",
      "r2 is not very high, please double check if you are choosing the correct symbolic function.\n"
     ]
    },
    {
     "name": "stderr",
     "output_type": "stream",
     "text": [
      "train loss: 7.42e-03 | test loss: 8.35e-03 | reg: 6.72e+00 : 100%|██| 50/50 [00:01<00:00, 47.79it/s]\n",
      "/Users/gal.yona/Documents/MSc/Thesis/ImplicitNeuralSurfaces/forked_pykan/pykan/kan/KAN.py:344: UserWarning:\n",
      "\n",
      "std(): degrees of freedom is <= 0. Correction should be strictly less than the reduction factor (input numel divided by output numel). (Triggered internally at /Users/runner/work/pytorch/pytorch/pytorch/aten/src/ATen/native/ReduceOps.cpp:1760.)\n",
      "\n"
     ]
    },
    {
     "name": "stdout",
     "output_type": "stream",
     "text": [
      "-20.08*((0.41 - x_2)**3 + 0.06*(-x_1 - 0.76)**4 - 0.08)**2\n",
      "Number of vertices: 106712\n",
      "dataset down sampled size: 264\n"
     ]
    },
    {
     "name": "stderr",
     "output_type": "stream",
     "text": [
      "train loss: 2.50e-02 | test loss: 2.24e-02 | reg: 3.43e+00 : 100%|██| 20/20 [00:02<00:00,  9.02it/s]\n",
      "train loss: 7.43e-03 | test loss: 8.43e-03 | reg: 3.04e+00 : 100%|██| 50/50 [00:00<00:00, 57.14it/s]\n"
     ]
    },
    {
     "name": "stdout",
     "output_type": "stream",
     "text": [
      "Best value at boundary.\n",
      "r2 is 1.000000238418579\n",
      "r2 is 1.0000003576278687\n",
      "r2 is 0.9999995231628418\n"
     ]
    },
    {
     "name": "stderr",
     "output_type": "stream",
     "text": [
      "train loss: 7.42e-03 | test loss: 8.47e-03 | reg: 6.60e+00 : 100%|██| 50/50 [00:00<00:00, 53.74it/s]\n",
      "/Users/gal.yona/Documents/MSc/Thesis/ImplicitNeuralSurfaces/forked_pykan/pykan/kan/KAN.py:344: UserWarning:\n",
      "\n",
      "std(): degrees of freedom is <= 0. Correction should be strictly less than the reduction factor (input numel divided by output numel). (Triggered internally at /Users/runner/work/pytorch/pytorch/pytorch/aten/src/ATen/native/ReduceOps.cpp:1760.)\n",
      "\n"
     ]
    },
    {
     "name": "stdout",
     "output_type": "stream",
     "text": [
      "-20.4*((0.41 - x_2)**3 + 0.05*(x_1 + 0.76)**4 - 0.08)**2\n",
      "sampled_index 142 signature  tensor([[   5.3041,    0.9569,    7.1648,  -58.8492,   -2.6992, -104.1228]],\n",
      "       grad_fn=<StackBackward0>)\n",
      "sampled_index 142 signature  tensor([[   5.3780,    0.9739,    7.1720,  -59.0394,   -2.7486, -105.0448]],\n",
      "       grad_fn=<StackBackward0>)\n",
      "Number of vertices: 106712\n",
      "dataset full size: 290\n"
     ]
    },
    {
     "name": "stderr",
     "output_type": "stream",
     "text": [
      "train loss: 5.12e-02 | test loss: 4.90e-02 | reg: 3.05e+00 : 100%|██| 20/20 [00:02<00:00,  7.70it/s]\n",
      "train loss: 3.53e-03 | test loss: 7.91e-03 | reg: 4.41e+00 : 100%|██| 50/50 [00:02<00:00, 21.25it/s]\n"
     ]
    },
    {
     "name": "stdout",
     "output_type": "stream",
     "text": [
      "r2 is 0.9675759673118591\n",
      "r2 is 0.6220322847366333\n",
      "r2 is not very high, please double check if you are choosing the correct symbolic function.\n",
      "r2 is 0.7077611088752747\n",
      "r2 is not very high, please double check if you are choosing the correct symbolic function.\n"
     ]
    },
    {
     "name": "stderr",
     "output_type": "stream",
     "text": [
      "train loss: 5.33e-03 | test loss: 1.76e-02 | reg: 4.70e+00 : 100%|██| 50/50 [00:01<00:00, 37.09it/s]\n",
      "/Users/gal.yona/Documents/MSc/Thesis/ImplicitNeuralSurfaces/forked_pykan/pykan/kan/KAN.py:344: UserWarning:\n",
      "\n",
      "std(): degrees of freedom is <= 0. Correction should be strictly less than the reduction factor (input numel divided by output numel). (Triggered internally at /Users/runner/work/pytorch/pytorch/pytorch/aten/src/ATen/native/ReduceOps.cpp:1760.)\n",
      "\n"
     ]
    },
    {
     "name": "stdout",
     "output_type": "stream",
     "text": [
      "1307.65*(-0.01*(-x_1 - 0.88)**4 - (-x_2 - 0.09)**3 + 0.01)**2 + 0.01\n",
      "Number of vertices: 106712\n",
      "dataset down sampled size: 233\n"
     ]
    },
    {
     "name": "stderr",
     "output_type": "stream",
     "text": [
      "train loss: 5.91e-02 | test loss: 5.68e-02 | reg: 3.09e+00 : 100%|██| 20/20 [00:02<00:00,  8.61it/s]\n",
      "train loss: 5.45e-03 | test loss: 1.74e-02 | reg: 3.86e+00 : 100%|██| 50/50 [00:01<00:00, 48.96it/s]\n"
     ]
    },
    {
     "name": "stdout",
     "output_type": "stream",
     "text": [
      "r2 is 1.0000003576278687\n",
      "r2 is 1.000000238418579\n",
      "r2 is 1.0\n"
     ]
    },
    {
     "name": "stderr",
     "output_type": "stream",
     "text": [
      "train loss: 5.45e-03 | test loss: 1.74e-02 | reg: 4.71e+00 : 100%|██| 50/50 [00:00<00:00, 63.41it/s]\n",
      "/Users/gal.yona/Documents/MSc/Thesis/ImplicitNeuralSurfaces/forked_pykan/pykan/kan/KAN.py:344: UserWarning:\n",
      "\n",
      "std(): degrees of freedom is <= 0. Correction should be strictly less than the reduction factor (input numel divided by output numel). (Triggered internally at /Users/runner/work/pytorch/pytorch/pytorch/aten/src/ATen/native/ReduceOps.cpp:1760.)\n",
      "\n"
     ]
    },
    {
     "name": "stdout",
     "output_type": "stream",
     "text": [
      "1277.45*(-0.01*(-x_1 - 0.88)**4 - (-x_2 - 0.09)**3 + 0.01)**2 + 0.01\n",
      "sampled_index 143 signature  tensor([[ -1.5841,  -0.9621, -28.3890,  28.2432, 109.8997,   2.1997]],\n",
      "       grad_fn=<StackBackward0>)\n",
      "sampled_index 143 signature  tensor([[ -1.5945,  -0.8648, -27.7223,  27.7509, 108.1643,   2.0997]],\n",
      "       grad_fn=<StackBackward0>)\n",
      "Number of vertices: 106712\n",
      "dataset full size: 259\n"
     ]
    },
    {
     "name": "stderr",
     "output_type": "stream",
     "text": [
      "train loss: 5.57e-02 | test loss: 5.63e-02 | reg: 2.89e+00 : 100%|██| 20/20 [00:02<00:00,  7.92it/s]\n",
      "train loss: 3.90e-03 | test loss: 9.00e-03 | reg: 1.00e+01 : 100%|██| 50/50 [00:02<00:00, 23.35it/s]\n"
     ]
    },
    {
     "name": "stdout",
     "output_type": "stream",
     "text": [
      "r2 is 0.898481547832489\n",
      "r2 is not very high, please double check if you are choosing the correct symbolic function.\n",
      "Best value at boundary.\n",
      "r2 is 0.7316920161247253\n",
      "r2 is not very high, please double check if you are choosing the correct symbolic function.\n",
      "r2 is 0.02900518663227558\n",
      "r2 is not very high, please double check if you are choosing the correct symbolic function.\n"
     ]
    },
    {
     "name": "stderr",
     "output_type": "stream",
     "text": [
      "train loss: 4.82e-03 | test loss: 8.00e-03 | reg: 5.15e+01 : 100%|██| 50/50 [00:01<00:00, 45.00it/s]\n",
      "/Users/gal.yona/Documents/MSc/Thesis/ImplicitNeuralSurfaces/forked_pykan/pykan/kan/KAN.py:344: UserWarning:\n",
      "\n",
      "std(): degrees of freedom is <= 0. Correction should be strictly less than the reduction factor (input numel divided by output numel). (Triggered internally at /Users/runner/work/pytorch/pytorch/pytorch/aten/src/ATen/native/ReduceOps.cpp:1760.)\n",
      "\n"
     ]
    },
    {
     "name": "stdout",
     "output_type": "stream",
     "text": [
      "-72393.58*(-0.16*x_1**4 - (-x_2 - 0.05)**3)**2\n",
      "Number of vertices: 106712\n",
      "dataset down sampled size: 208\n"
     ]
    },
    {
     "name": "stderr",
     "output_type": "stream",
     "text": [
      "train loss: 5.72e-02 | test loss: 5.79e-02 | reg: 2.93e+00 : 100%|██| 20/20 [00:02<00:00,  8.98it/s]\n",
      "train loss: 4.86e-03 | test loss: 8.20e-03 | reg: 9.11e+00 : 100%|██| 50/50 [00:00<00:00, 62.57it/s]\n"
     ]
    },
    {
     "name": "stdout",
     "output_type": "stream",
     "text": [
      "r2 is 1.000000238418579\n",
      "r2 is 1.000000238418579\n",
      "r2 is 1.000000238418579\n"
     ]
    },
    {
     "name": "stderr",
     "output_type": "stream",
     "text": [
      "train loss: 4.86e-03 | test loss: 8.20e-03 | reg: 2.38e+01 : 100%|██| 50/50 [00:00<00:00, 59.11it/s]\n",
      "/Users/gal.yona/Documents/MSc/Thesis/ImplicitNeuralSurfaces/forked_pykan/pykan/kan/KAN.py:344: UserWarning:\n",
      "\n",
      "std(): degrees of freedom is <= 0. Correction should be strictly less than the reduction factor (input numel divided by output numel). (Triggered internally at /Users/runner/work/pytorch/pytorch/pytorch/aten/src/ATen/native/ReduceOps.cpp:1760.)\n",
      "\n"
     ]
    },
    {
     "name": "stdout",
     "output_type": "stream",
     "text": [
      "-121330.6*(-0.14*x_1**4 - (-x_2 - 0.05)**3)**2\n",
      "sampled_index 144 signature  tensor([[ 4.4922e+00,  1.9214e-04, -1.1925e-02,  5.6424e+02, -2.1055e-01,\n",
      "         -4.6245e-02]], grad_fn=<StackBackward0>)\n",
      "sampled_index 144 signature  tensor([[ 3.8811e+00,  1.8390e-05,  4.8055e-03,  6.0285e+02,  7.4517e-02,\n",
      "         -1.8545e-03]], grad_fn=<StackBackward0>)\n",
      "Number of vertices: 106712\n",
      "dataset full size: 266\n"
     ]
    },
    {
     "name": "stderr",
     "output_type": "stream",
     "text": [
      "train loss: 1.41e-02 | test loss: 1.87e-02 | reg: 3.88e+00 : 100%|██| 20/20 [00:02<00:00,  8.89it/s]\n",
      "train loss: 1.81e-03 | test loss: 6.13e-02 | reg: 2.44e+00 : 100%|██| 50/50 [00:02<00:00, 23.91it/s]\n"
     ]
    },
    {
     "name": "stdout",
     "output_type": "stream",
     "text": [
      "r2 is 0.991181492805481\n",
      "r2 is 0.9965561032295227\n",
      "r2 is 0.9726654887199402\n"
     ]
    },
    {
     "name": "stderr",
     "output_type": "stream",
     "text": [
      "train loss: 2.52e-03 | test loss: 1.32e-02 | reg: 2.90e+00 : 100%|██| 50/50 [00:00<00:00, 55.13it/s]\n",
      "/Users/gal.yona/Documents/MSc/Thesis/ImplicitNeuralSurfaces/forked_pykan/pykan/kan/KAN.py:344: UserWarning:\n",
      "\n",
      "std(): degrees of freedom is <= 0. Correction should be strictly less than the reduction factor (input numel divided by output numel). (Triggered internally at /Users/runner/work/pytorch/pytorch/pytorch/aten/src/ATen/native/ReduceOps.cpp:1760.)\n",
      "\n"
     ]
    },
    {
     "name": "stdout",
     "output_type": "stream",
     "text": [
      "-15.79*((0.22 - x_2)**3 - 0.12*(-0.28*x_1 - 1)**4 + 0.12)**2\n",
      "Number of vertices: 106712\n",
      "dataset down sampled size: 213\n"
     ]
    },
    {
     "name": "stderr",
     "output_type": "stream",
     "text": [
      "train loss: 1.30e-02 | test loss: 1.79e-02 | reg: 3.85e+00 : 100%|██| 20/20 [00:02<00:00,  9.07it/s]\n",
      "train loss: 2.54e-03 | test loss: 1.27e-02 | reg: 2.65e+00 : 100%|██| 50/50 [00:00<00:00, 71.22it/s]\n"
     ]
    },
    {
     "name": "stdout",
     "output_type": "stream",
     "text": [
      "r2 is 1.0000004768371582\n",
      "r2 is 1.0000003576278687\n",
      "r2 is 1.0000001192092896\n"
     ]
    },
    {
     "name": "stderr",
     "output_type": "stream",
     "text": [
      "train loss: 2.54e-03 | test loss: 1.27e-02 | reg: 2.90e+00 : 100%|██| 50/50 [00:00<00:00, 74.00it/s]\n",
      "/Users/gal.yona/Documents/MSc/Thesis/ImplicitNeuralSurfaces/forked_pykan/pykan/kan/KAN.py:344: UserWarning:\n",
      "\n",
      "std(): degrees of freedom is <= 0. Correction should be strictly less than the reduction factor (input numel divided by output numel). (Triggered internally at /Users/runner/work/pytorch/pytorch/pytorch/aten/src/ATen/native/ReduceOps.cpp:1760.)\n",
      "\n"
     ]
    },
    {
     "name": "stdout",
     "output_type": "stream",
     "text": [
      "-15.75*((0.22 - x_2)**3 - 0.12*(-0.28*x_1 - 1)**4 + 0.12)**2\n",
      "sampled_index 145 signature  tensor([[ 0.8687,  0.2632, -2.9867, -9.3904, -0.0661, -3.2816]],\n",
      "       grad_fn=<StackBackward0>)\n",
      "sampled_index 145 signature  tensor([[ 0.8663,  0.2620, -2.9864, -9.3609, -0.0662, -3.2754]],\n",
      "       grad_fn=<StackBackward0>)\n",
      "Number of vertices: 106712\n",
      "dataset full size: 276\n"
     ]
    },
    {
     "name": "stderr",
     "output_type": "stream",
     "text": [
      "train loss: 1.99e-02 | test loss: 1.92e-02 | reg: 3.50e+00 : 100%|██| 20/20 [00:02<00:00,  8.25it/s]\n",
      "train loss: 2.56e-03 | test loss: 5.62e-03 | reg: 3.71e+00 : 100%|██| 50/50 [00:02<00:00, 23.29it/s]\n"
     ]
    },
    {
     "name": "stdout",
     "output_type": "stream",
     "text": [
      "r2 is 0.8941088914871216\n",
      "r2 is not very high, please double check if you are choosing the correct symbolic function.\n",
      "r2 is 0.9926641583442688\n",
      "r2 is 0.8949177861213684\n",
      "r2 is not very high, please double check if you are choosing the correct symbolic function.\n"
     ]
    },
    {
     "name": "stderr",
     "output_type": "stream",
     "text": [
      "train loss: nan | test loss: nan | reg: nan : 100%|█████████████████| 50/50 [00:03<00:00, 15.66it/s]\n",
      "/Users/gal.yona/Documents/MSc/Thesis/ImplicitNeuralSurfaces/forked_pykan/pykan/kan/KAN.py:344: UserWarning:\n",
      "\n",
      "std(): degrees of freedom is <= 0. Correction should be strictly less than the reduction factor (input numel divided by output numel). (Triggered internally at /Users/runner/work/pytorch/pytorch/pytorch/aten/src/ATen/native/ReduceOps.cpp:1760.)\n",
      "\n"
     ]
    },
    {
     "name": "stdout",
     "output_type": "stream",
     "text": [
      "nan\n",
      "Number of vertices: 106712\n",
      "dataset down sampled size: 221\n"
     ]
    },
    {
     "name": "stderr",
     "output_type": "stream",
     "text": [
      "train loss: 1.86e-02 | test loss: 1.77e-02 | reg: 3.37e+00 : 100%|██| 20/20 [00:02<00:00,  9.09it/s]\n",
      "train loss: nan | test loss: nan | reg: nan : 100%|█████████████████| 50/50 [00:03<00:00, 15.41it/s]\n"
     ]
    },
    {
     "name": "stdout",
     "output_type": "stream",
     "text": [
      "Best value at boundary.\n",
      "r2 is 0.0\n",
      "r2 is not very high, please double check if you are choosing the correct symbolic function.\n",
      "nan encountered\n",
      "Number of vertices: 106712\n",
      "dataset full size: 306\n"
     ]
    },
    {
     "name": "stderr",
     "output_type": "stream",
     "text": [
      "train loss: 1.68e-02 | test loss: 1.57e-02 | reg: 3.81e+00 : 100%|██| 20/20 [00:02<00:00,  7.58it/s]\n",
      "train loss: 2.19e-03 | test loss: 4.17e-03 | reg: 2.48e+00 : 100%|██| 50/50 [00:02<00:00, 21.72it/s]\n"
     ]
    },
    {
     "name": "stdout",
     "output_type": "stream",
     "text": [
      "r2 is 0.9864389896392822\n",
      "r2 is 0.9896749258041382\n",
      "r2 is 0.9286971092224121\n"
     ]
    },
    {
     "name": "stderr",
     "output_type": "stream",
     "text": [
      "train loss: 2.92e-03 | test loss: 4.90e-03 | reg: 4.12e+00 : 100%|██| 50/50 [00:00<00:00, 78.70it/s]\n",
      "/Users/gal.yona/Documents/MSc/Thesis/ImplicitNeuralSurfaces/forked_pykan/pykan/kan/KAN.py:344: UserWarning:\n",
      "\n",
      "std(): degrees of freedom is <= 0. Correction should be strictly less than the reduction factor (input numel divided by output numel). (Triggered internally at /Users/runner/work/pytorch/pytorch/pytorch/aten/src/ATen/native/ReduceOps.cpp:1760.)\n",
      "\n"
     ]
    },
    {
     "name": "stdout",
     "output_type": "stream",
     "text": [
      "0.24*(-0.55*(-x_1 - 0.89)**4 - (-0.44*x_2 - 1)**3 - 0.69)**2\n",
      "Number of vertices: 106712\n",
      "dataset down sampled size: 245\n"
     ]
    },
    {
     "name": "stderr",
     "output_type": "stream",
     "text": [
      "train loss: 1.61e-02 | test loss: 1.57e-02 | reg: 3.86e+00 : 100%|██| 20/20 [00:02<00:00,  8.41it/s]\n",
      "train loss: 2.85e-03 | test loss: 5.05e-03 | reg: 2.45e+00 : 100%|██| 50/50 [00:00<00:00, 83.22it/s]\n"
     ]
    },
    {
     "name": "stdout",
     "output_type": "stream",
     "text": [
      "r2 is 1.0000004768371582\n",
      "r2 is 1.0000004768371582\n",
      "r2 is 0.9999896287918091\n"
     ]
    },
    {
     "name": "stderr",
     "output_type": "stream",
     "text": [
      "train loss: 2.85e-03 | test loss: 5.05e-03 | reg: 4.05e+00 : 100%|██| 50/50 [00:00<00:00, 98.48it/s]\n",
      "/Users/gal.yona/Documents/MSc/Thesis/ImplicitNeuralSurfaces/forked_pykan/pykan/kan/KAN.py:344: UserWarning:\n",
      "\n",
      "std(): degrees of freedom is <= 0. Correction should be strictly less than the reduction factor (input numel divided by output numel). (Triggered internally at /Users/runner/work/pytorch/pytorch/pytorch/aten/src/ATen/native/ReduceOps.cpp:1760.)\n",
      "\n"
     ]
    },
    {
     "name": "stdout",
     "output_type": "stream",
     "text": [
      "0.24*(-0.55*(-x_1 - 0.9)**4 - (-0.44*x_2 - 1)**3 - 0.69)**2\n",
      "sampled_index 147 signature  tensor([[-1.0712,  0.0640,  4.5842,  3.0898, -2.6749, -0.0349]],\n",
      "       grad_fn=<StackBackward0>)\n",
      "sampled_index 147 signature  tensor([[-1.0624,  0.0632,  4.5235,  3.0648, -2.6373, -0.0347]],\n",
      "       grad_fn=<StackBackward0>)\n",
      "Number of vertices: 106712\n",
      "dataset full size: 318\n"
     ]
    },
    {
     "name": "stderr",
     "output_type": "stream",
     "text": [
      "train loss: 2.42e-02 | test loss: 2.71e-02 | reg: 3.01e+00 : 100%|██| 20/20 [00:02<00:00,  7.87it/s]\n",
      "train loss: 6.99e-03 | test loss: 8.56e-03 | reg: 4.26e+00 : 100%|██| 50/50 [00:01<00:00, 25.47it/s]\n"
     ]
    },
    {
     "name": "stdout",
     "output_type": "stream",
     "text": [
      "r2 is 0.9212965965270996\n",
      "r2 is 0.9986985921859741\n",
      "r2 is 0.87656569480896\n",
      "r2 is not very high, please double check if you are choosing the correct symbolic function.\n"
     ]
    },
    {
     "name": "stderr",
     "output_type": "stream",
     "text": [
      "train loss: nan | test loss: nan | reg: nan : 100%|█████████████████| 50/50 [00:02<00:00, 18.12it/s]\n",
      "/Users/gal.yona/Documents/MSc/Thesis/ImplicitNeuralSurfaces/forked_pykan/pykan/kan/KAN.py:344: UserWarning:\n",
      "\n",
      "std(): degrees of freedom is <= 0. Correction should be strictly less than the reduction factor (input numel divided by output numel). (Triggered internally at /Users/runner/work/pytorch/pytorch/pytorch/aten/src/ATen/native/ReduceOps.cpp:1760.)\n",
      "\n"
     ]
    },
    {
     "name": "stdout",
     "output_type": "stream",
     "text": [
      "nan\n",
      "Number of vertices: 106712\n",
      "dataset down sampled size: 255\n"
     ]
    },
    {
     "name": "stderr",
     "output_type": "stream",
     "text": [
      "train loss: 2.38e-02 | test loss: 2.61e-02 | reg: 3.04e+00 : 100%|██| 20/20 [00:02<00:00,  8.13it/s]\n",
      "train loss: nan | test loss: nan | reg: nan : 100%|█████████████████| 50/50 [00:03<00:00, 15.28it/s]\n"
     ]
    },
    {
     "name": "stdout",
     "output_type": "stream",
     "text": [
      "Best value at boundary.\n",
      "r2 is 0.0\n",
      "r2 is not very high, please double check if you are choosing the correct symbolic function.\n",
      "nan encountered\n",
      "Number of vertices: 106712\n",
      "dataset full size: 259\n"
     ]
    },
    {
     "name": "stderr",
     "output_type": "stream",
     "text": [
      "train loss: 9.53e-03 | test loss: 1.08e-02 | reg: 2.51e+00 : 100%|██| 20/20 [00:02<00:00,  8.29it/s]\n",
      "train loss: 1.72e-03 | test loss: 2.74e-02 | reg: 9.81e+00 : 100%|██| 50/50 [00:01<00:00, 26.57it/s]\n"
     ]
    },
    {
     "name": "stdout",
     "output_type": "stream",
     "text": [
      "r2 is 0.9996911287307739\n",
      "Best value at boundary.\n",
      "r2 is 0.9939287900924683\n",
      "r2 is 0.8428947329521179\n",
      "r2 is not very high, please double check if you are choosing the correct symbolic function.\n"
     ]
    },
    {
     "name": "stderr",
     "output_type": "stream",
     "text": [
      "train loss: 2.72e-03 | test loss: 4.56e-03 | reg: 1.06e+01 : 100%|██| 50/50 [00:00<00:00, 52.42it/s]\n",
      "/Users/gal.yona/Documents/MSc/Thesis/ImplicitNeuralSurfaces/forked_pykan/pykan/kan/KAN.py:344: UserWarning:\n",
      "\n",
      "std(): degrees of freedom is <= 0. Correction should be strictly less than the reduction factor (input numel divided by output numel). (Triggered internally at /Users/runner/work/pytorch/pytorch/pytorch/aten/src/ATen/native/ReduceOps.cpp:1760.)\n",
      "\n"
     ]
    },
    {
     "name": "stdout",
     "output_type": "stream",
     "text": [
      "-39347315.47*(0.02 - x_2)**6\n",
      "Number of vertices: 106712\n",
      "dataset down sampled size: 208\n"
     ]
    },
    {
     "name": "stderr",
     "output_type": "stream",
     "text": [
      "train loss: 1.04e-02 | test loss: 1.13e-02 | reg: 2.46e+00 : 100%|██| 20/20 [00:02<00:00,  8.42it/s]\n",
      "train loss: 2.69e-03 | test loss: 4.85e-03 | reg: 1.52e+01 : 100%|██| 50/50 [00:01<00:00, 46.20it/s]\n"
     ]
    },
    {
     "name": "stdout",
     "output_type": "stream",
     "text": [
      "r2 is 1.0000004768371582\n",
      "Best value at boundary.\n",
      "r2 is 0.9828586578369141\n",
      "r2 is 0.9999943375587463\n"
     ]
    },
    {
     "name": "stderr",
     "output_type": "stream",
     "text": [
      "train loss: 2.70e-03 | test loss: 4.79e-03 | reg: 1.53e+01 : 100%|██| 50/50 [00:00<00:00, 72.59it/s]\n",
      "/Users/gal.yona/Documents/MSc/Thesis/ImplicitNeuralSurfaces/forked_pykan/pykan/kan/KAN.py:344: UserWarning:\n",
      "\n",
      "std(): degrees of freedom is <= 0. Correction should be strictly less than the reduction factor (input numel divided by output numel). (Triggered internally at /Users/runner/work/pytorch/pytorch/pytorch/aten/src/ATen/native/ReduceOps.cpp:1760.)\n",
      "\n"
     ]
    },
    {
     "name": "stdout",
     "output_type": "stream",
     "text": [
      "-29185497.45*(0.02 - x_2)**6\n",
      "sampled_index 149 signature  tensor([[  30.0879,   -8.2223,  -37.8289, 4151.4150,   -5.1815, -753.3438]],\n",
      "       grad_fn=<StackBackward0>)\n",
      "sampled_index 149 signature  tensor([[ 2.8404e+01, -7.8747e+00, -3.9235e+01,  3.9277e+03, -2.5805e+00,\n",
      "         -7.4594e+02]], grad_fn=<StackBackward0>)\n",
      "Number of vertices: 106712\n",
      "dataset full size: 287\n"
     ]
    },
    {
     "name": "stderr",
     "output_type": "stream",
     "text": [
      "train loss: 6.12e-02 | test loss: 6.43e-02 | reg: 3.37e+00 : 100%|██| 20/20 [00:02<00:00,  7.80it/s]\n",
      "train loss: 3.86e-03 | test loss: 3.44e-01 | reg: 1.01e+01 : 100%|██| 50/50 [00:02<00:00, 23.75it/s]\n"
     ]
    },
    {
     "name": "stdout",
     "output_type": "stream",
     "text": [
      "r2 is 0.996744692325592\n",
      "r2 is 0.9984794855117798\n",
      "r2 is 0.8063303232192993\n",
      "r2 is not very high, please double check if you are choosing the correct symbolic function.\n"
     ]
    },
    {
     "name": "stderr",
     "output_type": "stream",
     "text": [
      "train loss: 4.09e-03 | test loss: 6.78e-01 | reg: 9.53e+00 : 100%|██| 50/50 [00:00<00:00, 58.86it/s]\n",
      "/Users/gal.yona/Documents/MSc/Thesis/ImplicitNeuralSurfaces/forked_pykan/pykan/kan/KAN.py:344: UserWarning:\n",
      "\n",
      "std(): degrees of freedom is <= 0. Correction should be strictly less than the reduction factor (input numel divided by output numel). (Triggered internally at /Users/runner/work/pytorch/pytorch/pytorch/aten/src/ATen/native/ReduceOps.cpp:1760.)\n",
      "\n"
     ]
    },
    {
     "name": "stdout",
     "output_type": "stream",
     "text": [
      "-758200.25*(-x_2 - 0.09)**6\n",
      "Number of vertices: 106712\n",
      "dataset down sampled size: 230\n"
     ]
    },
    {
     "name": "stderr",
     "output_type": "stream",
     "text": [
      "train loss: 5.95e-02 | test loss: 6.27e-02 | reg: 3.30e+00 : 100%|██| 20/20 [00:02<00:00,  7.56it/s]\n",
      "train loss: 4.11e-03 | test loss: 6.44e-01 | reg: 9.28e+00 : 100%|██| 50/50 [00:00<00:00, 73.63it/s]\n"
     ]
    },
    {
     "name": "stdout",
     "output_type": "stream",
     "text": [
      "r2 is 1.0000003576278687\n",
      "r2 is 1.0000001192092896\n",
      "r2 is 1.000000238418579\n"
     ]
    },
    {
     "name": "stderr",
     "output_type": "stream",
     "text": [
      "train loss: 4.11e-03 | test loss: 6.44e-01 | reg: 9.52e+00 : 100%|██| 50/50 [00:00<00:00, 55.11it/s]\n",
      "/Users/gal.yona/Documents/MSc/Thesis/ImplicitNeuralSurfaces/forked_pykan/pykan/kan/KAN.py:344: UserWarning:\n",
      "\n",
      "std(): degrees of freedom is <= 0. Correction should be strictly less than the reduction factor (input numel divided by output numel). (Triggered internally at /Users/runner/work/pytorch/pytorch/pytorch/aten/src/ATen/native/ReduceOps.cpp:1760.)\n",
      "\n"
     ]
    },
    {
     "name": "stdout",
     "output_type": "stream",
     "text": [
      "-759311.19*(-x_2 - 0.09)**6\n",
      "sampled_index 150 signature  tensor([[ 4.1089e+02,  1.2411e+02,  2.1954e+03,  4.9437e+05,  4.7352e+02,\n",
      "         -7.5480e+04]], grad_fn=<StackBackward0>)\n",
      "sampled_index 150 signature  tensor([[ 4.0147e+02,  1.2742e+02,  2.1434e+03,  4.9741e+05,  4.9214e+02,\n",
      "         -5.6796e+04]], grad_fn=<StackBackward0>)\n",
      "Number of vertices: 106712\n",
      "dataset full size: 279\n"
     ]
    },
    {
     "name": "stderr",
     "output_type": "stream",
     "text": [
      "train loss: 1.26e-02 | test loss: 1.37e-02 | reg: 3.34e+00 : 100%|██| 20/20 [00:02<00:00,  7.96it/s]\n",
      "train loss: 1.30e-03 | test loss: 2.24e-03 | reg: 2.85e+00 : 100%|██| 50/50 [00:01<00:00, 29.11it/s]\n"
     ]
    },
    {
     "name": "stdout",
     "output_type": "stream",
     "text": [
      "r2 is 0.9695462584495544\n",
      "r2 is 0.9816051125526428\n",
      "r2 is 0.7351536750793457\n",
      "r2 is not very high, please double check if you are choosing the correct symbolic function.\n"
     ]
    },
    {
     "name": "stderr",
     "output_type": "stream",
     "text": [
      "train loss: 1.47e-03 | test loss: 4.08e-03 | reg: 1.55e+02 : 100%|██| 50/50 [00:01<00:00, 35.67it/s]\n",
      "/Users/gal.yona/Documents/MSc/Thesis/ImplicitNeuralSurfaces/forked_pykan/pykan/kan/KAN.py:344: UserWarning:\n",
      "\n",
      "std(): degrees of freedom is <= 0. Correction should be strictly less than the reduction factor (input numel divided by output numel). (Triggered internally at /Users/runner/work/pytorch/pytorch/pytorch/aten/src/ATen/native/ReduceOps.cpp:1760.)\n",
      "\n"
     ]
    },
    {
     "name": "stdout",
     "output_type": "stream",
     "text": [
      "-4039.4*(-(-x_1 - 0.07)**4 + 0.02*(-x_2 - 0.52)**3)**2\n",
      "Number of vertices: 106712\n",
      "dataset down sampled size: 224\n"
     ]
    },
    {
     "name": "stderr",
     "output_type": "stream",
     "text": [
      "train loss: 1.44e-02 | test loss: 1.48e-02 | reg: 3.40e+00 : 100%|██| 20/20 [00:02<00:00,  8.14it/s]\n",
      "train loss: 1.54e-03 | test loss: 4.03e-03 | reg: 3.05e+00 : 100%|██| 50/50 [00:01<00:00, 42.37it/s]\n"
     ]
    },
    {
     "name": "stdout",
     "output_type": "stream",
     "text": [
      "r2 is 1.0000004768371582\n",
      "r2 is 1.0000004768371582\n",
      "r2 is 0.999998152256012\n"
     ]
    },
    {
     "name": "stderr",
     "output_type": "stream",
     "text": [
      "train loss: 1.54e-03 | test loss: 4.03e-03 | reg: 1.59e+02 : 100%|██| 50/50 [00:01<00:00, 44.28it/s]\n",
      "/Users/gal.yona/Documents/MSc/Thesis/ImplicitNeuralSurfaces/forked_pykan/pykan/kan/KAN.py:344: UserWarning:\n",
      "\n",
      "std(): degrees of freedom is <= 0. Correction should be strictly less than the reduction factor (input numel divided by output numel). (Triggered internally at /Users/runner/work/pytorch/pytorch/pytorch/aten/src/ATen/native/ReduceOps.cpp:1760.)\n",
      "\n"
     ]
    },
    {
     "name": "stdout",
     "output_type": "stream",
     "text": [
      "-3837.76*(-(-x_1 - 0.07)**4 + 0.02*(-x_2 - 0.52)**3)**2\n",
      "sampled_index 151 signature  tensor([[ 0.8756,  0.0963, -0.8488, 12.9798, -2.6910, 12.9754]],\n",
      "       grad_fn=<StackBackward0>)\n",
      "sampled_index 151 signature  tensor([[ 0.8624,  0.0998, -0.8810, 12.6688, -2.7890, 12.4147]],\n",
      "       grad_fn=<StackBackward0>)\n",
      "Number of vertices: 106712\n",
      "dataset full size: 275\n"
     ]
    },
    {
     "name": "stderr",
     "output_type": "stream",
     "text": [
      "train loss: 8.24e-02 | test loss: 8.27e-02 | reg: 2.95e+00 : 100%|██| 20/20 [00:02<00:00,  7.55it/s]\n",
      "train loss: 1.82e-03 | test loss: 7.92e-02 | reg: 3.98e+00 : 100%|██| 50/50 [00:02<00:00, 19.66it/s]\n"
     ]
    },
    {
     "name": "stdout",
     "output_type": "stream",
     "text": [
      "r2 is 0.9608737230300903\n",
      "r2 is 0.9946988821029663\n",
      "r2 is 0.8149415254592896\n",
      "r2 is not very high, please double check if you are choosing the correct symbolic function.\n"
     ]
    },
    {
     "name": "stderr",
     "output_type": "stream",
     "text": [
      "train loss: 2.80e-03 | test loss: 1.38e-02 | reg: 9.67e+00 : 100%|██| 50/50 [00:01<00:00, 43.78it/s]\n",
      "/Users/gal.yona/Documents/MSc/Thesis/ImplicitNeuralSurfaces/forked_pykan/pykan/kan/KAN.py:344: UserWarning:\n",
      "\n",
      "std(): degrees of freedom is <= 0. Correction should be strictly less than the reduction factor (input numel divided by output numel). (Triggered internally at /Users/runner/work/pytorch/pytorch/pytorch/aten/src/ATen/native/ReduceOps.cpp:1760.)\n",
      "\n"
     ]
    },
    {
     "name": "stdout",
     "output_type": "stream",
     "text": [
      "0.29*(-0.41*(0.65 - x_1)**4 + 0.82*(-x_2 - 0.92)**3 + 1)**2 - 0.03\n",
      "Number of vertices: 106712\n",
      "dataset down sampled size: 221\n"
     ]
    },
    {
     "name": "stderr",
     "output_type": "stream",
     "text": [
      "train loss: 7.71e-02 | test loss: 7.73e-02 | reg: 2.89e+00 : 100%|██| 20/20 [00:02<00:00,  8.05it/s]\n",
      "train loss: 2.84e-03 | test loss: 1.26e-02 | reg: 9.57e+00 : 100%|██| 50/50 [00:00<00:00, 82.47it/s]\n"
     ]
    },
    {
     "name": "stdout",
     "output_type": "stream",
     "text": [
      "r2 is 1.0000003576278687\n",
      "r2 is 1.0000004768371582\n",
      "r2 is 0.9999903440475464\n"
     ]
    },
    {
     "name": "stderr",
     "output_type": "stream",
     "text": [
      "train loss: 2.84e-03 | test loss: 1.26e-02 | reg: 9.72e+00 : 100%|██| 50/50 [00:00<00:00, 72.03it/s]\n",
      "/Users/gal.yona/Documents/MSc/Thesis/ImplicitNeuralSurfaces/forked_pykan/pykan/kan/KAN.py:344: UserWarning:\n",
      "\n",
      "std(): degrees of freedom is <= 0. Correction should be strictly less than the reduction factor (input numel divided by output numel). (Triggered internally at /Users/runner/work/pytorch/pytorch/pytorch/aten/src/ATen/native/ReduceOps.cpp:1760.)\n",
      "\n"
     ]
    },
    {
     "name": "stdout",
     "output_type": "stream",
     "text": [
      "0.29*(-0.41*(0.65 - x_1)**4 + 0.82*(-x_2 - 0.92)**3 + 1)**2 - 0.03\n",
      "sampled_index 152 signature  tensor([[-0.5953, -0.5556, -8.8667,  1.2421, -2.2464, -1.4478]],\n",
      "       grad_fn=<StackBackward0>)\n",
      "sampled_index 152 signature  tensor([[-0.5900, -0.5592, -8.8444,  1.2466, -2.2811, -1.4533]],\n",
      "       grad_fn=<StackBackward0>)\n",
      "Number of vertices: 106712\n",
      "dataset full size: 272\n"
     ]
    },
    {
     "name": "stderr",
     "output_type": "stream",
     "text": [
      "train loss: 4.30e-02 | test loss: 4.34e-02 | reg: 2.92e+00 : 100%|██| 20/20 [00:02<00:00,  7.68it/s]\n",
      "train loss: 1.25e-03 | test loss: 1.96e-03 | reg: 6.86e+00 : 100%|██| 50/50 [00:02<00:00, 18.79it/s]\n"
     ]
    },
    {
     "name": "stdout",
     "output_type": "stream",
     "text": [
      "r2 is 0.8751509785652161\n",
      "r2 is not very high, please double check if you are choosing the correct symbolic function.\n",
      "r2 is 0.9559773802757263\n",
      "r2 is 0.4029039740562439\n",
      "r2 is not very high, please double check if you are choosing the correct symbolic function.\n"
     ]
    },
    {
     "name": "stderr",
     "output_type": "stream",
     "text": [
      "train loss: 1.57e-03 | test loss: 2.09e-03 | reg: 6.65e+00 : 100%|██| 50/50 [00:00<00:00, 66.79it/s]\n",
      "/Users/gal.yona/Documents/MSc/Thesis/ImplicitNeuralSurfaces/forked_pykan/pykan/kan/KAN.py:344: UserWarning:\n",
      "\n",
      "std(): degrees of freedom is <= 0. Correction should be strictly less than the reduction factor (input numel divided by output numel). (Triggered internally at /Users/runner/work/pytorch/pytorch/pytorch/aten/src/ATen/native/ReduceOps.cpp:1760.)\n",
      "\n"
     ]
    },
    {
     "name": "stdout",
     "output_type": "stream",
     "text": [
      "-152.39*((0.11 - x_1)**4 + 0.28*(0.25 - x_2)**3 - 0.e-2)**2\n",
      "Number of vertices: 106712\n",
      "dataset down sampled size: 218\n"
     ]
    },
    {
     "name": "stderr",
     "output_type": "stream",
     "text": [
      "train loss: 5.06e-02 | test loss: 5.11e-02 | reg: 3.32e+00 : 100%|██| 20/20 [00:02<00:00,  7.68it/s]\n",
      "train loss: 1.52e-03 | test loss: 2.01e-03 | reg: 6.56e+00 : 100%|██| 50/50 [00:00<00:00, 62.31it/s]\n"
     ]
    },
    {
     "name": "stdout",
     "output_type": "stream",
     "text": [
      "r2 is 1.0\n",
      "r2 is 1.0000003576278687\n",
      "r2 is 0.7782047390937805\n",
      "r2 is not very high, please double check if you are choosing the correct symbolic function.\n"
     ]
    },
    {
     "name": "stderr",
     "output_type": "stream",
     "text": [
      "train loss: 1.52e-03 | test loss: 2.01e-03 | reg: 6.49e+00 : 100%|██| 50/50 [00:01<00:00, 49.87it/s]\n",
      "/Users/gal.yona/Documents/MSc/Thesis/ImplicitNeuralSurfaces/forked_pykan/pykan/kan/KAN.py:344: UserWarning:\n",
      "\n",
      "std(): degrees of freedom is <= 0. Correction should be strictly less than the reduction factor (input numel divided by output numel). (Triggered internally at /Users/runner/work/pytorch/pytorch/pytorch/aten/src/ATen/native/ReduceOps.cpp:1760.)\n",
      "\n"
     ]
    },
    {
     "name": "stdout",
     "output_type": "stream",
     "text": [
      "-153.0*((0.11 - x_1)**4 + 0.28*(0.25 - x_2)**3 - 0.e-2)**2\n",
      "sampled_index 153 signature  tensor([[  0.3595,  -0.0383,  -0.9918, -11.6360,  -0.7144,  -0.6376]],\n",
      "       grad_fn=<StackBackward0>)\n",
      "sampled_index 153 signature  tensor([[  0.3483,  -0.0371,  -0.9829, -11.3420,  -0.6914,  -0.6000]],\n",
      "       grad_fn=<StackBackward0>)\n",
      "Number of vertices: 106712\n",
      "dataset full size: 328\n"
     ]
    },
    {
     "name": "stderr",
     "output_type": "stream",
     "text": [
      "train loss: 2.43e-02 | test loss: 2.12e-02 | reg: 3.06e+00 : 100%|██| 20/20 [00:03<00:00,  5.65it/s]\n",
      "train loss: 1.21e-02 | test loss: 1.64e-02 | reg: 2.39e+00 : 100%|██| 50/50 [00:02<00:00, 18.96it/s]\n"
     ]
    },
    {
     "name": "stdout",
     "output_type": "stream",
     "text": [
      "r2 is 0.976439893245697\n",
      "r2 is 0.9991445541381836\n",
      "r2 is 0.798785924911499\n",
      "r2 is not very high, please double check if you are choosing the correct symbolic function.\n"
     ]
    },
    {
     "name": "stderr",
     "output_type": "stream",
     "text": [
      "train loss: 1.43e-02 | test loss: 2.15e-02 | reg: 5.75e+00 : 100%|██| 50/50 [00:00<00:00, 50.57it/s]\n",
      "/Users/gal.yona/Documents/MSc/Thesis/ImplicitNeuralSurfaces/forked_pykan/pykan/kan/KAN.py:344: UserWarning:\n",
      "\n",
      "std(): degrees of freedom is <= 0. Correction should be strictly less than the reduction factor (input numel divided by output numel). (Triggered internally at /Users/runner/work/pytorch/pytorch/pytorch/aten/src/ATen/native/ReduceOps.cpp:1760.)\n",
      "\n"
     ]
    },
    {
     "name": "stdout",
     "output_type": "stream",
     "text": [
      "-2.99*(0.41*(1 - 0.4*x_1)**4 - (-x_2 - 0.79)**3 - 0.94)**2 - 0.e-2\n",
      "Number of vertices: 106712\n",
      "dataset down sampled size: 263\n"
     ]
    },
    {
     "name": "stderr",
     "output_type": "stream",
     "text": [
      "train loss: 2.21e-02 | test loss: 1.90e-02 | reg: 3.06e+00 : 100%|██| 20/20 [00:02<00:00,  7.92it/s]\n",
      "train loss: 1.46e-02 | test loss: 2.06e-02 | reg: 2.32e+00 : 100%|██| 50/50 [00:00<00:00, 63.15it/s]\n"
     ]
    },
    {
     "name": "stdout",
     "output_type": "stream",
     "text": [
      "r2 is 1.0000003576278687\n",
      "r2 is 1.0000005960464478\n",
      "r2 is 0.9999992847442627\n"
     ]
    },
    {
     "name": "stderr",
     "output_type": "stream",
     "text": [
      "train loss: 1.46e-02 | test loss: 2.06e-02 | reg: 6.03e+00 : 100%|██| 50/50 [00:00<00:00, 63.81it/s]\n",
      "/Users/gal.yona/Documents/MSc/Thesis/ImplicitNeuralSurfaces/forked_pykan/pykan/kan/KAN.py:344: UserWarning:\n",
      "\n",
      "std(): degrees of freedom is <= 0. Correction should be strictly less than the reduction factor (input numel divided by output numel). (Triggered internally at /Users/runner/work/pytorch/pytorch/pytorch/aten/src/ATen/native/ReduceOps.cpp:1760.)\n",
      "\n"
     ]
    },
    {
     "name": "stdout",
     "output_type": "stream",
     "text": [
      "-3.15*(0.39*(1 - 0.4*x_1)**4 - (-x_2 - 0.79)**3 - 0.92)**2 - 0.e-2\n",
      "sampled_index 154 signature  tensor([[  7.3963,  -4.0926, -10.7903, 263.2528,  -3.5481,  15.2822]],\n",
      "       grad_fn=<StackBackward0>)\n",
      "sampled_index 154 signature  tensor([[  7.7567,  -4.0774, -10.8651, 290.5971,  -3.5919,  12.2206]],\n",
      "       grad_fn=<StackBackward0>)\n",
      "Number of vertices: 106712\n",
      "dataset full size: 289\n"
     ]
    },
    {
     "name": "stderr",
     "output_type": "stream",
     "text": [
      "train loss: 5.06e-02 | test loss: 5.05e-02 | reg: 2.57e+00 : 100%|██| 20/20 [00:02<00:00,  7.99it/s]\n",
      "train loss: 2.31e-04 | test loss: 5.88e-04 | reg: 2.87e+00 : 100%|██| 50/50 [00:02<00:00, 23.83it/s]\n"
     ]
    },
    {
     "name": "stdout",
     "output_type": "stream",
     "text": [
      "r2 is 0.9997361302375793\n",
      "r2 is 0.9929222464561462\n",
      "r2 is 0.5808362364768982\n",
      "r2 is not very high, please double check if you are choosing the correct symbolic function.\n"
     ]
    },
    {
     "name": "stderr",
     "output_type": "stream",
     "text": [
      "train loss: 4.59e-04 | test loss: 6.82e-04 | reg: 3.10e+00 : 100%|██| 50/50 [00:00<00:00, 60.09it/s]\n",
      "/Users/gal.yona/Documents/MSc/Thesis/ImplicitNeuralSurfaces/forked_pykan/pykan/kan/KAN.py:344: UserWarning:\n",
      "\n",
      "std(): degrees of freedom is <= 0. Correction should be strictly less than the reduction factor (input numel divided by output numel). (Triggered internally at /Users/runner/work/pytorch/pytorch/pytorch/aten/src/ATen/native/ReduceOps.cpp:1760.)\n",
      "\n"
     ]
    },
    {
     "name": "stdout",
     "output_type": "stream",
     "text": [
      "2.2*(-(0.24 - x_2)**3 - 0.38*(-0.1*x_1 - 1)**4 + 0.39)**2\n",
      "Number of vertices: 106712\n",
      "dataset down sampled size: 232\n"
     ]
    },
    {
     "name": "stderr",
     "output_type": "stream",
     "text": [
      "train loss: 5.87e-02 | test loss: 5.85e-02 | reg: 2.75e+00 : 100%|██| 20/20 [00:02<00:00,  7.63it/s]\n",
      "train loss: 4.72e-04 | test loss: 6.67e-04 | reg: 2.88e+00 : 100%|██| 50/50 [00:00<00:00, 88.77it/s]\n"
     ]
    },
    {
     "name": "stdout",
     "output_type": "stream",
     "text": [
      "Best value at boundary.\n",
      "r2 is 1.0000001192092896\n",
      "r2 is 1.0000004768371582\n",
      "r2 is 0.9955645799636841\n"
     ]
    },
    {
     "name": "stderr",
     "output_type": "stream",
     "text": [
      "train loss: 4.72e-04 | test loss: 6.67e-04 | reg: 3.10e+00 : 100%|██| 50/50 [00:00<00:00, 68.90it/s]\n",
      "/Users/gal.yona/Documents/MSc/Thesis/ImplicitNeuralSurfaces/forked_pykan/pykan/kan/KAN.py:344: UserWarning:\n",
      "\n",
      "std(): degrees of freedom is <= 0. Correction should be strictly less than the reduction factor (input numel divided by output numel). (Triggered internally at /Users/runner/work/pytorch/pytorch/pytorch/aten/src/ATen/native/ReduceOps.cpp:1760.)\n",
      "\n"
     ]
    },
    {
     "name": "stdout",
     "output_type": "stream",
     "text": [
      "2.19*(-(0.24 - x_2)**3 - 0.37*(-0.1*x_1 - 1)**4 + 0.39)**2\n",
      "sampled_index 155 signature  tensor([[-8.9659e-02, -3.7528e-03,  1.3941e+00, -7.3441e-01, -1.2090e-01,\n",
      "          9.8679e-05]], grad_fn=<StackBackward0>)\n",
      "sampled_index 155 signature  tensor([[-8.8660e-02, -3.9146e-03,  1.3873e+00, -7.3537e-01, -1.1963e-01,\n",
      "          4.3660e-05]], grad_fn=<StackBackward0>)\n",
      "Number of vertices: 106712\n",
      "dataset full size: 298\n"
     ]
    },
    {
     "name": "stderr",
     "output_type": "stream",
     "text": [
      "train loss: 3.40e-02 | test loss: 3.40e-02 | reg: 3.62e+00 : 100%|██| 20/20 [00:02<00:00,  8.65it/s]\n",
      "train loss: 9.06e-04 | test loss: 4.42e-01 | reg: 3.51e+00 : 100%|██| 50/50 [00:02<00:00, 22.51it/s]\n"
     ]
    },
    {
     "name": "stdout",
     "output_type": "stream",
     "text": [
      "r2 is 0.9982262253761292\n",
      "r2 is 0.9991875886917114\n",
      "r2 is 0.6788296103477478\n",
      "r2 is not very high, please double check if you are choosing the correct symbolic function.\n"
     ]
    },
    {
     "name": "stderr",
     "output_type": "stream",
     "text": [
      "train loss: 9.21e-04 | test loss: 5.92e-03 | reg: 8.25e+00 : 100%|██| 50/50 [00:00<00:00, 96.83it/s]\n",
      "/Users/gal.yona/Documents/MSc/Thesis/ImplicitNeuralSurfaces/forked_pykan/pykan/kan/KAN.py:344: UserWarning:\n",
      "\n",
      "std(): degrees of freedom is <= 0. Correction should be strictly less than the reduction factor (input numel divided by output numel). (Triggered internally at /Users/runner/work/pytorch/pytorch/pytorch/aten/src/ATen/native/ReduceOps.cpp:1760.)\n",
      "\n"
     ]
    },
    {
     "name": "stdout",
     "output_type": "stream",
     "text": [
      "0.38 - 0.38*(-0.05*(-x_1 - 0.76)**4 - 0.05*(-x_2 - 0.71)**3 + 1)**2\n",
      "Number of vertices: 106712\n",
      "dataset down sampled size: 239\n"
     ]
    },
    {
     "name": "stderr",
     "output_type": "stream",
     "text": [
      "train loss: 3.70e-02 | test loss: 3.73e-02 | reg: 3.06e+00 : 100%|██| 20/20 [00:02<00:00,  9.20it/s]\n",
      "train loss: 9.73e-04 | test loss: 6.05e-03 | reg: 8.03e+00 : 100%|█| 50/50 [00:00<00:00, 109.94it/s]\n"
     ]
    },
    {
     "name": "stdout",
     "output_type": "stream",
     "text": [
      "r2 is 1.0000004768371582\n",
      "r2 is 1.0000004768371582\n",
      "Best value at boundary.\n",
      "r2 is 0.9999968409538269\n"
     ]
    },
    {
     "name": "stderr",
     "output_type": "stream",
     "text": [
      "train loss: 9.73e-04 | test loss: 6.05e-03 | reg: 8.22e+00 : 100%|██| 50/50 [00:00<00:00, 74.83it/s]\n",
      "/Users/gal.yona/Documents/MSc/Thesis/ImplicitNeuralSurfaces/forked_pykan/pykan/kan/KAN.py:344: UserWarning:\n",
      "\n",
      "std(): degrees of freedom is <= 0. Correction should be strictly less than the reduction factor (input numel divided by output numel). (Triggered internally at /Users/runner/work/pytorch/pytorch/pytorch/aten/src/ATen/native/ReduceOps.cpp:1760.)\n",
      "\n"
     ]
    },
    {
     "name": "stdout",
     "output_type": "stream",
     "text": [
      "0.39 - 0.39*(-0.05*(-x_1 - 0.76)**4 - 0.05*(-x_2 - 0.71)**3 + 1)**2\n",
      "sampled_index 156 signature  tensor([[-0.0468, -0.0428,  0.3113, -0.1248,  0.0974,  0.0684]],\n",
      "       grad_fn=<StackBackward0>)\n",
      "sampled_index 156 signature  tensor([[-0.0475, -0.0440,  0.3160, -0.1265,  0.1003,  0.0702]],\n",
      "       grad_fn=<StackBackward0>)\n",
      "Number of vertices: 106712\n",
      "dataset full size: 292\n"
     ]
    },
    {
     "name": "stderr",
     "output_type": "stream",
     "text": [
      "train loss: 1.33e-02 | test loss: 1.35e-02 | reg: 3.50e+00 : 100%|██| 20/20 [00:02<00:00,  8.77it/s]\n",
      "train loss: 1.67e-03 | test loss: 3.28e-03 | reg: 2.95e+00 : 100%|██| 50/50 [00:02<00:00, 22.87it/s]\n"
     ]
    },
    {
     "name": "stdout",
     "output_type": "stream",
     "text": [
      "r2 is 0.9966738820075989\n",
      "r2 is 0.862659752368927\n",
      "r2 is not very high, please double check if you are choosing the correct symbolic function.\n",
      "r2 is 0.8618497848510742\n",
      "r2 is not very high, please double check if you are choosing the correct symbolic function.\n"
     ]
    },
    {
     "name": "stderr",
     "output_type": "stream",
     "text": [
      "train loss: 3.02e-03 | test loss: 4.98e-03 | reg: 2.52e+01 : 100%|██| 50/50 [00:01<00:00, 49.60it/s]\n",
      "/Users/gal.yona/Documents/MSc/Thesis/ImplicitNeuralSurfaces/forked_pykan/pykan/kan/KAN.py:344: UserWarning:\n",
      "\n",
      "std(): degrees of freedom is <= 0. Correction should be strictly less than the reduction factor (input numel divided by output numel). (Triggered internally at /Users/runner/work/pytorch/pytorch/pytorch/aten/src/ATen/native/ReduceOps.cpp:1760.)\n",
      "\n"
     ]
    },
    {
     "name": "stdout",
     "output_type": "stream",
     "text": [
      "-37.81*(0.07*(0.6 - x_2)**3 - (-x_1 - 0.35)**4)**2\n",
      "Number of vertices: 106712\n",
      "dataset down sampled size: 234\n"
     ]
    },
    {
     "name": "stderr",
     "output_type": "stream",
     "text": [
      "train loss: 1.41e-02 | test loss: 1.40e-02 | reg: 3.55e+00 : 100%|██| 20/20 [00:02<00:00,  8.80it/s]\n",
      "train loss: 2.99e-03 | test loss: 4.81e-03 | reg: 3.31e+00 : 100%|██| 50/50 [00:01<00:00, 43.28it/s]\n"
     ]
    },
    {
     "name": "stdout",
     "output_type": "stream",
     "text": [
      "r2 is 1.0000004768371582\n",
      "r2 is 1.0000003576278687\n",
      "r2 is 1.000000238418579\n"
     ]
    },
    {
     "name": "stderr",
     "output_type": "stream",
     "text": [
      "train loss: 2.90e-03 | test loss: 4.25e-03 | reg: 3.59e+00 : 100%|██| 50/50 [00:01<00:00, 38.07it/s]\n",
      "/Users/gal.yona/Documents/MSc/Thesis/ImplicitNeuralSurfaces/forked_pykan/pykan/kan/KAN.py:344: UserWarning:\n",
      "\n",
      "std(): degrees of freedom is <= 0. Correction should be strictly less than the reduction factor (input numel divided by output numel). (Triggered internally at /Users/runner/work/pytorch/pytorch/pytorch/aten/src/ATen/native/ReduceOps.cpp:1760.)\n",
      "\n"
     ]
    },
    {
     "name": "stdout",
     "output_type": "stream",
     "text": [
      "-24.68*(0.68*(0.2 - x_2)**3 - (-x_1 - 0.38)**4 + 0.01)**2\n",
      "sampled_index 157 signature  tensor([[ 1.3988e+00,  2.5355e-03,  8.6335e+00, -2.6333e+01,  4.6855e-02,\n",
      "          5.7864e-01]], grad_fn=<StackBackward0>)\n",
      "sampled_index 157 signature  tensor([[  1.3266,  -0.2043,   8.5616, -20.7021,  -0.2711,  21.8459]],\n",
      "       grad_fn=<StackBackward0>)\n",
      "Number of vertices: 106712\n",
      "dataset full size: 308\n"
     ]
    },
    {
     "name": "stderr",
     "output_type": "stream",
     "text": [
      "train loss: 4.58e-02 | test loss: 4.60e-02 | reg: 2.82e+00 : 100%|██| 20/20 [00:02<00:00,  7.21it/s]\n",
      "train loss: 1.71e-03 | test loss: 8.72e-02 | reg: 2.91e+00 : 100%|██| 50/50 [00:01<00:00, 25.29it/s]\n"
     ]
    },
    {
     "name": "stdout",
     "output_type": "stream",
     "text": [
      "r2 is 0.9960229992866516\n",
      "r2 is 0.9966366291046143\n",
      "r2 is 0.9008978605270386\n"
     ]
    },
    {
     "name": "stderr",
     "output_type": "stream",
     "text": [
      "train loss: 4.09e-03 | test loss: 1.87e-02 | reg: 5.73e+00 : 100%|██| 50/50 [00:00<00:00, 60.65it/s]\n",
      "/Users/gal.yona/Documents/MSc/Thesis/ImplicitNeuralSurfaces/forked_pykan/pykan/kan/KAN.py:344: UserWarning:\n",
      "\n",
      "std(): degrees of freedom is <= 0. Correction should be strictly less than the reduction factor (input numel divided by output numel). (Triggered internally at /Users/runner/work/pytorch/pytorch/pytorch/aten/src/ATen/native/ReduceOps.cpp:1760.)\n",
      "\n"
     ]
    },
    {
     "name": "stdout",
     "output_type": "stream",
     "text": [
      "48.71*((0.35 - x_2)**3 - 0.04*(-0.54*x_1 - 1)**4 + 0.01)**2 - 0.e-2\n",
      "Number of vertices: 106712\n",
      "dataset down sampled size: 247\n"
     ]
    },
    {
     "name": "stderr",
     "output_type": "stream",
     "text": [
      "train loss: 4.41e-02 | test loss: 4.44e-02 | reg: 2.80e+00 : 100%|██| 20/20 [00:02<00:00,  8.12it/s]\n",
      "train loss: 4.14e-03 | test loss: 1.89e-02 | reg: 5.54e+00 : 100%|█| 50/50 [00:00<00:00, 110.13it/s]\n"
     ]
    },
    {
     "name": "stdout",
     "output_type": "stream",
     "text": [
      "r2 is 1.0000003576278687\n",
      "r2 is 1.0000004768371582\n",
      "r2 is 0.999998152256012\n"
     ]
    },
    {
     "name": "stderr",
     "output_type": "stream",
     "text": [
      "train loss: 4.14e-03 | test loss: 1.89e-02 | reg: 5.74e+00 : 100%|██| 50/50 [00:00<00:00, 66.83it/s]\n",
      "/Users/gal.yona/Documents/MSc/Thesis/ImplicitNeuralSurfaces/forked_pykan/pykan/kan/KAN.py:344: UserWarning:\n",
      "\n",
      "std(): degrees of freedom is <= 0. Correction should be strictly less than the reduction factor (input numel divided by output numel). (Triggered internally at /Users/runner/work/pytorch/pytorch/pytorch/aten/src/ATen/native/ReduceOps.cpp:1760.)\n",
      "\n"
     ]
    },
    {
     "name": "stdout",
     "output_type": "stream",
     "text": [
      "49.03*((0.35 - x_2)**3 - 0.04*(-0.54*x_1 - 1)**4 + 0.01)**2 - 0.e-2\n",
      "sampled_index 158 signature  tensor([[ -6.4701,  -0.7747, -30.1899,  11.7102,  25.7420,   0.4024]],\n",
      "       grad_fn=<StackBackward0>)\n",
      "sampled_index 158 signature  tensor([[ -6.4321,  -0.7922, -31.5368,  11.5412,  25.3582,   0.4130]],\n",
      "       grad_fn=<StackBackward0>)\n",
      "Number of vertices: 106712\n",
      "dataset full size: 261\n"
     ]
    },
    {
     "name": "stderr",
     "output_type": "stream",
     "text": [
      "train loss: 1.59e-02 | test loss: 1.57e-02 | reg: 2.67e+00 : 100%|██| 20/20 [00:02<00:00,  9.11it/s]\n",
      "train loss: 1.08e-03 | test loss: 4.22e-03 | reg: 2.49e+00 : 100%|██| 50/50 [00:02<00:00, 17.76it/s]\n"
     ]
    },
    {
     "name": "stdout",
     "output_type": "stream",
     "text": [
      "r2 is 0.949070155620575\n",
      "r2 is 0.6516104340553284\n",
      "r2 is not very high, please double check if you are choosing the correct symbolic function.\n",
      "Best value at boundary.\n",
      "r2 is 0.47324132919311523\n",
      "r2 is not very high, please double check if you are choosing the correct symbolic function.\n"
     ]
    },
    {
     "name": "stderr",
     "output_type": "stream",
     "text": [
      "train loss: 3.08e-03 | test loss: 3.96e-03 | reg: 3.35e+01 : 100%|██| 50/50 [00:01<00:00, 26.16it/s]\n",
      "/Users/gal.yona/Documents/MSc/Thesis/ImplicitNeuralSurfaces/forked_pykan/pykan/kan/KAN.py:344: UserWarning:\n",
      "\n",
      "std(): degrees of freedom is <= 0. Correction should be strictly less than the reduction factor (input numel divided by output numel). (Triggered internally at /Users/runner/work/pytorch/pytorch/pytorch/aten/src/ATen/native/ReduceOps.cpp:1760.)\n",
      "\n"
     ]
    },
    {
     "name": "stdout",
     "output_type": "stream",
     "text": [
      "0.91*(-0.18*(0.09 - x_2)**3 + 0.03*(0.9 - x_1)**4 + 1)**2 - 0.95\n",
      "Number of vertices: 106712\n",
      "dataset down sampled size: 209\n"
     ]
    },
    {
     "name": "stderr",
     "output_type": "stream",
     "text": [
      "train loss: 1.29e-02 | test loss: 1.22e-02 | reg: 2.80e+00 : 100%|██| 20/20 [00:02<00:00,  8.34it/s]\n",
      "train loss: 3.06e-03 | test loss: 3.98e-03 | reg: 3.39e+01 : 100%|█| 50/50 [00:00<00:00, 113.68it/s]\n"
     ]
    },
    {
     "name": "stdout",
     "output_type": "stream",
     "text": [
      "r2 is 1.000000238418579\n",
      "r2 is 1.0000001192092896\n",
      "Best value at boundary.\n",
      "r2 is 1.000000238418579\n"
     ]
    },
    {
     "name": "stderr",
     "output_type": "stream",
     "text": [
      "train loss: 3.06e-03 | test loss: 4.04e-03 | reg: 3.36e+01 : 100%|██| 50/50 [00:00<00:00, 55.79it/s]\n",
      "/Users/gal.yona/Documents/MSc/Thesis/ImplicitNeuralSurfaces/forked_pykan/pykan/kan/KAN.py:344: UserWarning:\n",
      "\n",
      "std(): degrees of freedom is <= 0. Correction should be strictly less than the reduction factor (input numel divided by output numel). (Triggered internally at /Users/runner/work/pytorch/pytorch/pytorch/aten/src/ATen/native/ReduceOps.cpp:1760.)\n",
      "\n"
     ]
    },
    {
     "name": "stdout",
     "output_type": "stream",
     "text": [
      "0.8*(-0.2*(0.09 - x_2)**3 + 0.04*(0.9 - x_1)**4 + 1)**2 - 0.85\n",
      "sampled_index 159 signature  tensor([[-0.2044, -0.1085, -0.6298,  0.9887, -0.2292, -1.1680]],\n",
      "       grad_fn=<StackBackward0>)\n",
      "sampled_index 159 signature  tensor([[-0.2152, -0.1122, -0.6534,  0.9869, -0.2383, -1.2074]],\n",
      "       grad_fn=<StackBackward0>)\n",
      "Number of vertices: 106712\n",
      "dataset full size: 282\n"
     ]
    },
    {
     "name": "stderr",
     "output_type": "stream",
     "text": [
      "train loss: 8.67e-02 | test loss: 9.06e-02 | reg: 3.13e+00 : 100%|██| 20/20 [00:02<00:00,  8.63it/s]\n",
      "train loss: 1.67e-03 | test loss: 1.19e-02 | reg: 2.85e+00 : 100%|██| 50/50 [00:01<00:00, 31.70it/s]\n"
     ]
    },
    {
     "name": "stdout",
     "output_type": "stream",
     "text": [
      "r2 is 0.9992800354957581\n",
      "r2 is 0.9999561905860901\n",
      "r2 is 0.5674196481704712\n",
      "r2 is not very high, please double check if you are choosing the correct symbolic function.\n"
     ]
    },
    {
     "name": "stderr",
     "output_type": "stream",
     "text": [
      "train loss: 4.70e-03 | test loss: 7.31e-03 | reg: 3.34e+02 : 100%|██| 50/50 [00:01<00:00, 25.31it/s]\n",
      "/Users/gal.yona/Documents/MSc/Thesis/ImplicitNeuralSurfaces/forked_pykan/pykan/kan/KAN.py:344: UserWarning:\n",
      "\n",
      "std(): degrees of freedom is <= 0. Correction should be strictly less than the reduction factor (input numel divided by output numel). (Triggered internally at /Users/runner/work/pytorch/pytorch/pytorch/aten/src/ATen/native/ReduceOps.cpp:1760.)\n",
      "\n"
     ]
    },
    {
     "name": "stdout",
     "output_type": "stream",
     "text": [
      "2.78*(0.01*(0.9 - x_1)**4 - 0.06*(-x_2 - 0.41)**3 - 1)**2 - 2.74\n",
      "Number of vertices: 106712\n",
      "dataset down sampled size: 226\n"
     ]
    },
    {
     "name": "stderr",
     "output_type": "stream",
     "text": [
      "train loss: 7.72e-02 | test loss: 8.08e-02 | reg: 2.91e+00 : 100%|██| 20/20 [00:02<00:00,  8.56it/s]\n",
      "train loss: 4.63e-03 | test loss: 7.18e-03 | reg: 3.39e+02 : 100%|██| 50/50 [00:00<00:00, 84.48it/s]\n"
     ]
    },
    {
     "name": "stdout",
     "output_type": "stream",
     "text": [
      "r2 is 1.0000003576278687\n",
      "r2 is 1.0000001192092896\n",
      "Best value at boundary.\n",
      "r2 is 0.9999970197677612\n"
     ]
    },
    {
     "name": "stderr",
     "output_type": "stream",
     "text": [
      "train loss: 4.63e-03 | test loss: 7.18e-03 | reg: 3.40e+02 : 100%|██| 50/50 [00:01<00:00, 30.26it/s]\n",
      "/Users/gal.yona/Documents/MSc/Thesis/ImplicitNeuralSurfaces/forked_pykan/pykan/kan/KAN.py:344: UserWarning:\n",
      "\n",
      "std(): degrees of freedom is <= 0. Correction should be strictly less than the reduction factor (input numel divided by output numel). (Triggered internally at /Users/runner/work/pytorch/pytorch/pytorch/aten/src/ATen/native/ReduceOps.cpp:1760.)\n",
      "\n"
     ]
    },
    {
     "name": "stdout",
     "output_type": "stream",
     "text": [
      "6.05*(0.03*(-x_2 - 0.41)**3 + 1)**2 - 6.01\n",
      "sampled_index 160 signature  tensor([[0.5508, 0.2536, 0.3368, 0.7434, 0.5241, 0.4581]],\n",
      "       grad_fn=<StackBackward0>)\n",
      "sampled_index 160 signature  tensor([[0.5539, 0.2536, 0.3372, 0.7698, 0.5318, 0.4711]],\n",
      "       grad_fn=<StackBackward0>)\n",
      "Number of vertices: 106712\n",
      "dataset full size: 332\n"
     ]
    },
    {
     "name": "stderr",
     "output_type": "stream",
     "text": [
      "train loss: 4.14e-02 | test loss: 4.14e-02 | reg: 2.98e+00 : 100%|██| 20/20 [00:03<00:00,  6.15it/s]\n",
      "train loss: 8.24e-04 | test loss: 2.79e-03 | reg: 2.40e+00 : 100%|██| 50/50 [00:01<00:00, 26.30it/s]\n"
     ]
    },
    {
     "name": "stdout",
     "output_type": "stream",
     "text": [
      "r2 is 0.9975541234016418\n",
      "r2 is 0.9997789859771729\n",
      "r2 is 0.884038507938385\n",
      "r2 is not very high, please double check if you are choosing the correct symbolic function.\n"
     ]
    },
    {
     "name": "stderr",
     "output_type": "stream",
     "text": [
      "train loss: 2.91e-03 | test loss: 4.41e-03 | reg: 7.59e+00 : 100%|██| 50/50 [00:01<00:00, 40.10it/s]\n",
      "/Users/gal.yona/Documents/MSc/Thesis/ImplicitNeuralSurfaces/forked_pykan/pykan/kan/KAN.py:344: UserWarning:\n",
      "\n",
      "std(): degrees of freedom is <= 0. Correction should be strictly less than the reduction factor (input numel divided by output numel). (Triggered internally at /Users/runner/work/pytorch/pytorch/pytorch/aten/src/ATen/native/ReduceOps.cpp:1760.)\n",
      "\n"
     ]
    },
    {
     "name": "stdout",
     "output_type": "stream",
     "text": [
      "0.99*((1 - 0.23*x_1)**4 + 0.33*(-x_2 - 0.86)**3 - 0.74)**2\n",
      "Number of vertices: 106712\n",
      "dataset down sampled size: 266\n"
     ]
    },
    {
     "name": "stderr",
     "output_type": "stream",
     "text": [
      "train loss: 3.26e-02 | test loss: 3.30e-02 | reg: 2.53e+00 : 100%|██| 20/20 [00:02<00:00,  8.13it/s]\n",
      "train loss: 2.83e-03 | test loss: 4.77e-03 | reg: 2.48e+00 : 100%|██| 50/50 [00:00<00:00, 79.74it/s]\n"
     ]
    },
    {
     "name": "stdout",
     "output_type": "stream",
     "text": [
      "r2 is 1.0000003576278687\n",
      "r2 is 1.0000003576278687\n",
      "r2 is 0.9999991655349731\n"
     ]
    },
    {
     "name": "stderr",
     "output_type": "stream",
     "text": [
      "train loss: 2.83e-03 | test loss: 4.77e-03 | reg: 6.13e+00 : 100%|█| 50/50 [00:00<00:00, 111.07it/s]\n",
      "/Users/gal.yona/Documents/MSc/Thesis/ImplicitNeuralSurfaces/forked_pykan/pykan/kan/KAN.py:344: UserWarning:\n",
      "\n",
      "std(): degrees of freedom is <= 0. Correction should be strictly less than the reduction factor (input numel divided by output numel). (Triggered internally at /Users/runner/work/pytorch/pytorch/pytorch/aten/src/ATen/native/ReduceOps.cpp:1760.)\n",
      "\n"
     ]
    },
    {
     "name": "stdout",
     "output_type": "stream",
     "text": [
      "1.06*((1 - 0.23*x_1)**4 + 0.32*(-x_2 - 0.86)**3 - 0.75)**2\n",
      "sampled_index 161 signature  tensor([[-1.2771e+00, -2.1536e-01,  3.0298e+00,  2.6180e+00, -5.2968e+00,\n",
      "          2.7893e-03]], grad_fn=<StackBackward0>)\n",
      "sampled_index 161 signature  tensor([[-1.3334, -0.2285,  2.8745,  2.6228, -5.8522,  0.0180]],\n",
      "       grad_fn=<StackBackward0>)\n",
      "Number of vertices: 106712\n",
      "dataset full size: 299\n"
     ]
    },
    {
     "name": "stderr",
     "output_type": "stream",
     "text": [
      "train loss: 1.35e-02 | test loss: 1.45e-02 | reg: 3.37e+00 : 100%|██| 20/20 [00:02<00:00,  7.28it/s]\n",
      "train loss: 9.91e-04 | test loss: 2.70e-03 | reg: 6.62e+00 : 100%|██| 50/50 [00:02<00:00, 16.70it/s]\n"
     ]
    },
    {
     "name": "stdout",
     "output_type": "stream",
     "text": [
      "r2 is 0.996868371963501\n",
      "Best value at boundary.\n",
      "r2 is 0.8358141779899597\n",
      "r2 is not very high, please double check if you are choosing the correct symbolic function.\n",
      "Best value at boundary.\n",
      "r2 is 0.7219102382659912\n",
      "r2 is not very high, please double check if you are choosing the correct symbolic function.\n"
     ]
    },
    {
     "name": "stderr",
     "output_type": "stream",
     "text": [
      "train loss: 2.40e-03 | test loss: 2.42e-03 | reg: 7.16e+00 : 100%|██| 50/50 [00:00<00:00, 62.50it/s]\n",
      "/Users/gal.yona/Documents/MSc/Thesis/ImplicitNeuralSurfaces/forked_pykan/pykan/kan/KAN.py:344: UserWarning:\n",
      "\n",
      "std(): degrees of freedom is <= 0. Correction should be strictly less than the reduction factor (input numel divided by output numel). (Triggered internally at /Users/runner/work/pytorch/pytorch/pytorch/aten/src/ATen/native/ReduceOps.cpp:1760.)\n",
      "\n"
     ]
    },
    {
     "name": "stdout",
     "output_type": "stream",
     "text": [
      "-130.51*(-(0.06 - x_2)**3 - 0.01*(-x_1 - 0.89)**4)**2\n",
      "Number of vertices: 106712\n",
      "dataset down sampled size: 240\n"
     ]
    },
    {
     "name": "stderr",
     "output_type": "stream",
     "text": [
      "train loss: 1.69e-02 | test loss: 1.71e-02 | reg: 3.02e+00 : 100%|██| 20/20 [00:02<00:00,  8.90it/s]\n",
      "train loss: 2.24e-03 | test loss: 2.35e-03 | reg: 6.64e+00 : 100%|██| 50/50 [00:00<00:00, 74.33it/s]\n"
     ]
    },
    {
     "name": "stdout",
     "output_type": "stream",
     "text": [
      "r2 is 1.0000003576278687\n",
      "Best value at boundary.\n",
      "r2 is 0.9999994039535522\n",
      "Best value at boundary.\n",
      "r2 is 0.9999759793281555\n"
     ]
    },
    {
     "name": "stderr",
     "output_type": "stream",
     "text": [
      "train loss: 2.24e-03 | test loss: 2.35e-03 | reg: 7.28e+00 : 100%|█| 50/50 [00:00<00:00, 112.41it/s]\n",
      "/Users/gal.yona/Documents/MSc/Thesis/ImplicitNeuralSurfaces/forked_pykan/pykan/kan/KAN.py:344: UserWarning:\n",
      "\n",
      "std(): degrees of freedom is <= 0. Correction should be strictly less than the reduction factor (input numel divided by output numel). (Triggered internally at /Users/runner/work/pytorch/pytorch/pytorch/aten/src/ATen/native/ReduceOps.cpp:1760.)\n",
      "\n"
     ]
    },
    {
     "name": "stdout",
     "output_type": "stream",
     "text": [
      "-217.76*(-(0.06 - x_2)**3 - 0.01*(-x_1 - 0.89)**4)**2\n",
      "sampled_index 162 signature  tensor([[ 0.5970,  0.3421,  0.1544, -7.7576, -0.5004, -7.8803]],\n",
      "       grad_fn=<StackBackward0>)\n",
      "sampled_index 162 signature  tensor([[  0.7430,   0.5066,  -0.7149, -10.6779,  -2.3061, -11.7337]],\n",
      "       grad_fn=<StackBackward0>)\n",
      "Number of vertices: 106712\n",
      "dataset full size: 313\n"
     ]
    },
    {
     "name": "stderr",
     "output_type": "stream",
     "text": [
      "train loss: 2.95e-02 | test loss: 3.24e-02 | reg: 3.16e+00 : 100%|██| 20/20 [00:02<00:00,  7.51it/s]\n",
      "train loss: 3.61e-03 | test loss: 5.34e-03 | reg: 3.58e+00 : 100%|██| 50/50 [00:01<00:00, 26.10it/s]\n"
     ]
    },
    {
     "name": "stdout",
     "output_type": "stream",
     "text": [
      "r2 is 0.9932096600532532\n",
      "r2 is 0.5101042985916138\n",
      "r2 is not very high, please double check if you are choosing the correct symbolic function.\n",
      "r2 is 0.9475453495979309\n"
     ]
    },
    {
     "name": "stderr",
     "output_type": "stream",
     "text": [
      "train loss: 9.44e-03 | test loss: 9.97e-03 | reg: 1.78e+01 : 100%|██| 50/50 [00:01<00:00, 38.18it/s]\n",
      "/Users/gal.yona/Documents/MSc/Thesis/ImplicitNeuralSurfaces/forked_pykan/pykan/kan/KAN.py:344: UserWarning:\n",
      "\n",
      "std(): degrees of freedom is <= 0. Correction should be strictly less than the reduction factor (input numel divided by output numel). (Triggered internally at /Users/runner/work/pytorch/pytorch/pytorch/aten/src/ATen/native/ReduceOps.cpp:1760.)\n",
      "\n"
     ]
    },
    {
     "name": "stdout",
     "output_type": "stream",
     "text": [
      "0.48 - 88.09*(-0.12*(-x_1 - 0.2)**4 - (-x_2 - 0.04)**3 - 0.07)**2\n",
      "Number of vertices: 106712\n",
      "dataset down sampled size: 251\n"
     ]
    },
    {
     "name": "stderr",
     "output_type": "stream",
     "text": [
      "train loss: 2.89e-02 | test loss: 3.11e-02 | reg: 3.16e+00 : 100%|██| 20/20 [00:02<00:00,  8.98it/s]\n",
      "train loss: 9.37e-03 | test loss: 9.49e-03 | reg: 1.79e+01 : 100%|██| 50/50 [00:00<00:00, 61.21it/s]\n"
     ]
    },
    {
     "name": "stdout",
     "output_type": "stream",
     "text": [
      "Best value at boundary.\n",
      "r2 is 0.9999909996986389\n",
      "Best value at boundary.\n",
      "r2 is 0.9999699592590332\n",
      "Best value at boundary.\n",
      "r2 is 0.9999874830245972\n"
     ]
    },
    {
     "name": "stderr",
     "output_type": "stream",
     "text": [
      "train loss: 9.36e-03 | test loss: 9.48e-03 | reg: 1.81e+01 : 100%|██| 50/50 [00:00<00:00, 59.40it/s]\n",
      "/Users/gal.yona/Documents/MSc/Thesis/ImplicitNeuralSurfaces/forked_pykan/pykan/kan/KAN.py:344: UserWarning:\n",
      "\n",
      "std(): degrees of freedom is <= 0. Correction should be strictly less than the reduction factor (input numel divided by output numel). (Triggered internally at /Users/runner/work/pytorch/pytorch/pytorch/aten/src/ATen/native/ReduceOps.cpp:1760.)\n",
      "\n"
     ]
    },
    {
     "name": "stdout",
     "output_type": "stream",
     "text": [
      "0.69 - 55.13*(-0.14*(-x_1 - 0.2)**4 - (-x_2 - 0.04)**3 - 0.11)**2\n",
      "sampled_index 163 signature  tensor([[ -1.1334,  -2.2605, -37.3492,  -3.7779, -55.3030,  22.8972]],\n",
      "       grad_fn=<StackBackward0>)\n",
      "sampled_index 163 signature  tensor([[ -1.0529,  -2.3619, -35.6278,  -4.0377, -57.0702,  23.5202]],\n",
      "       grad_fn=<StackBackward0>)\n",
      "Number of vertices: 106712\n",
      "dataset full size: 308\n"
     ]
    },
    {
     "name": "stderr",
     "output_type": "stream",
     "text": [
      "train loss: 1.59e-02 | test loss: 1.65e-02 | reg: 3.47e+00 : 100%|██| 20/20 [00:02<00:00,  8.46it/s]\n",
      "train loss: 1.27e-03 | test loss: 4.04e-03 | reg: 4.98e+00 : 100%|██| 50/50 [00:01<00:00, 26.43it/s]\n"
     ]
    },
    {
     "name": "stdout",
     "output_type": "stream",
     "text": [
      "r2 is 0.9816939830780029\n",
      "r2 is 0.8745905756950378\n",
      "r2 is not very high, please double check if you are choosing the correct symbolic function.\n",
      "r2 is 0.8574219942092896\n",
      "r2 is not very high, please double check if you are choosing the correct symbolic function.\n"
     ]
    },
    {
     "name": "stderr",
     "output_type": "stream",
     "text": [
      "train loss: 2.20e-03 | test loss: 2.48e-03 | reg: 5.99e+00 : 100%|██| 50/50 [00:01<00:00, 40.39it/s]\n",
      "/Users/gal.yona/Documents/MSc/Thesis/ImplicitNeuralSurfaces/forked_pykan/pykan/kan/KAN.py:344: UserWarning:\n",
      "\n",
      "std(): degrees of freedom is <= 0. Correction should be strictly less than the reduction factor (input numel divided by output numel). (Triggered internally at /Users/runner/work/pytorch/pytorch/pytorch/aten/src/ATen/native/ReduceOps.cpp:1760.)\n",
      "\n"
     ]
    },
    {
     "name": "stdout",
     "output_type": "stream",
     "text": [
      "-8287.27*(-0.29*(0.05 - x_2)**3 + (0.1 - x_1)**4)**2\n",
      "Number of vertices: 106712\n",
      "dataset down sampled size: 247\n"
     ]
    },
    {
     "name": "stderr",
     "output_type": "stream",
     "text": [
      "train loss: 1.62e-02 | test loss: 1.71e-02 | reg: 3.40e+00 : 100%|██| 20/20 [00:02<00:00,  8.55it/s]\n",
      "train loss: 2.19e-03 | test loss: 2.47e-03 | reg: 5.77e+00 : 100%|██| 50/50 [00:01<00:00, 38.94it/s]\n"
     ]
    },
    {
     "name": "stdout",
     "output_type": "stream",
     "text": [
      "r2 is 0.9999997019767761\n",
      "r2 is 0.999998152256012\n",
      "Best value at boundary.\n",
      "r2 is 0.9820137619972229\n"
     ]
    },
    {
     "name": "stderr",
     "output_type": "stream",
     "text": [
      "train loss: 2.18e-03 | test loss: 2.55e-03 | reg: 5.72e+00 : 100%|██| 50/50 [00:00<00:00, 51.49it/s]\n",
      "/Users/gal.yona/Documents/MSc/Thesis/ImplicitNeuralSurfaces/forked_pykan/pykan/kan/KAN.py:344: UserWarning:\n",
      "\n",
      "std(): degrees of freedom is <= 0. Correction should be strictly less than the reduction factor (input numel divided by output numel). (Triggered internally at /Users/runner/work/pytorch/pytorch/pytorch/aten/src/ATen/native/ReduceOps.cpp:1760.)\n",
      "\n"
     ]
    },
    {
     "name": "stdout",
     "output_type": "stream",
     "text": [
      "-3470.74*(-0.43*(0.06 - x_2)**3 + (0.12 - x_1)**4)**2\n",
      "sampled_index 164 signature  tensor([[ 3.5890e-02, -1.6009e+00, -5.5620e+00, -1.4755e+01, -6.3533e+00,\n",
      "          4.9020e+01]], grad_fn=<StackBackward0>)\n",
      "sampled_index 164 signature  tensor([[  0.1619,  -1.2582,  -0.9867, -14.1894,   3.9270,  41.8472]],\n",
      "       grad_fn=<StackBackward0>)\n",
      "Number of vertices: 106712\n",
      "dataset full size: 311\n"
     ]
    },
    {
     "name": "stderr",
     "output_type": "stream",
     "text": [
      "train loss: 8.00e-02 | test loss: 8.06e-02 | reg: 2.83e+00 : 100%|██| 20/20 [00:02<00:00,  7.12it/s]\n",
      "train loss: 3.08e-03 | test loss: 3.89e-02 | reg: 4.50e+00 : 100%|██| 50/50 [00:02<00:00, 21.87it/s]\n"
     ]
    },
    {
     "name": "stdout",
     "output_type": "stream",
     "text": [
      "r2 is 0.9980063438415527\n",
      "r2 is 0.9989283680915833\n",
      "r2 is 0.6969078779220581\n",
      "r2 is not very high, please double check if you are choosing the correct symbolic function.\n"
     ]
    },
    {
     "name": "stderr",
     "output_type": "stream",
     "text": [
      "train loss: 8.17e-03 | test loss: 9.01e-03 | reg: 8.26e+00 : 100%|██| 50/50 [00:01<00:00, 37.14it/s]\n",
      "/Users/gal.yona/Documents/MSc/Thesis/ImplicitNeuralSurfaces/forked_pykan/pykan/kan/KAN.py:344: UserWarning:\n",
      "\n",
      "std(): degrees of freedom is <= 0. Correction should be strictly less than the reduction factor (input numel divided by output numel). (Triggered internally at /Users/runner/work/pytorch/pytorch/pytorch/aten/src/ATen/native/ReduceOps.cpp:1760.)\n",
      "\n"
     ]
    },
    {
     "name": "stdout",
     "output_type": "stream",
     "text": [
      "31.53*(-(0.16 - x_2)**3 + 0.02*(1 - 0.26*x_1)**4 + 0.04)**2 - 0.1\n",
      "Number of vertices: 106712\n",
      "dataset down sampled size: 249\n"
     ]
    },
    {
     "name": "stderr",
     "output_type": "stream",
     "text": [
      "train loss: 8.61e-02 | test loss: 8.62e-02 | reg: 2.90e+00 : 100%|██| 20/20 [00:02<00:00,  8.50it/s]\n",
      "train loss: 8.54e-03 | test loss: 9.14e-03 | reg: 7.66e+00 : 100%|██| 50/50 [00:00<00:00, 75.71it/s]\n"
     ]
    },
    {
     "name": "stdout",
     "output_type": "stream",
     "text": [
      "r2 is 1.000000238418579\n",
      "r2 is 1.000000238418579\n",
      "Best value at boundary.\n",
      "r2 is 0.9999996423721313\n"
     ]
    },
    {
     "name": "stderr",
     "output_type": "stream",
     "text": [
      "train loss: 8.54e-03 | test loss: 9.14e-03 | reg: 8.24e+00 : 100%|█| 50/50 [00:00<00:00, 108.36it/s]\n",
      "/Users/gal.yona/Documents/MSc/Thesis/ImplicitNeuralSurfaces/forked_pykan/pykan/kan/KAN.py:344: UserWarning:\n",
      "\n",
      "std(): degrees of freedom is <= 0. Correction should be strictly less than the reduction factor (input numel divided by output numel). (Triggered internally at /Users/runner/work/pytorch/pytorch/pytorch/aten/src/ATen/native/ReduceOps.cpp:1760.)\n",
      "\n"
     ]
    },
    {
     "name": "stdout",
     "output_type": "stream",
     "text": [
      "30.33*(-(0.16 - x_2)**3 + 0.02*(1 - 0.26*x_1)**4 + 0.04)**2 - 0.1\n",
      "sampled_index 165 signature  tensor([[ 1.2934, -0.2540,  0.4746,  0.1063, -0.3929, -0.2638]],\n",
      "       grad_fn=<StackBackward0>)\n",
      "sampled_index 165 signature  tensor([[ 1.2798, -0.2571,  0.4656, -0.1098, -0.3983, -0.2188]],\n",
      "       grad_fn=<StackBackward0>)\n",
      "Number of vertices: 106712\n",
      "dataset full size: 286\n"
     ]
    },
    {
     "name": "stderr",
     "output_type": "stream",
     "text": [
      "train loss: 1.00e-02 | test loss: 1.15e-02 | reg: 3.16e+00 : 100%|██| 20/20 [00:02<00:00,  7.64it/s]\n",
      "train loss: 2.26e-03 | test loss: 5.32e-03 | reg: 5.40e+00 : 100%|██| 50/50 [00:02<00:00, 20.43it/s]\n"
     ]
    },
    {
     "name": "stdout",
     "output_type": "stream",
     "text": [
      "Best value at boundary.\n",
      "r2 is 0.8249903917312622\n",
      "r2 is not very high, please double check if you are choosing the correct symbolic function.\n",
      "r2 is 0.6495476961135864\n",
      "r2 is not very high, please double check if you are choosing the correct symbolic function.\n",
      "r2 is 0.9980353116989136\n"
     ]
    },
    {
     "name": "stderr",
     "output_type": "stream",
     "text": [
      "train loss: 3.68e-03 | test loss: 5.89e-03 | reg: 5.06e+00 : 100%|██| 50/50 [00:01<00:00, 33.09it/s]\n",
      "/Users/gal.yona/Documents/MSc/Thesis/ImplicitNeuralSurfaces/forked_pykan/pykan/kan/KAN.py:344: UserWarning:\n",
      "\n",
      "std(): degrees of freedom is <= 0. Correction should be strictly less than the reduction factor (input numel divided by output numel). (Triggered internally at /Users/runner/work/pytorch/pytorch/pytorch/aten/src/ATen/native/ReduceOps.cpp:1760.)\n",
      "\n"
     ]
    },
    {
     "name": "stdout",
     "output_type": "stream",
     "text": [
      "0.27 - 2870275.54*x_1**8\n",
      "Number of vertices: 106712\n",
      "dataset down sampled size: 229\n"
     ]
    },
    {
     "name": "stderr",
     "output_type": "stream",
     "text": [
      "train loss: 1.04e-02 | test loss: 1.14e-02 | reg: 3.02e+00 : 100%|██| 20/20 [00:02<00:00,  9.13it/s]\n",
      "train loss: 3.72e-03 | test loss: 5.95e-03 | reg: 4.84e+00 : 100%|██| 50/50 [00:00<00:00, 68.83it/s]\n"
     ]
    },
    {
     "name": "stdout",
     "output_type": "stream",
     "text": [
      "Best value at boundary.\n",
      "r2 is 0.8912633657455444\n",
      "r2 is not very high, please double check if you are choosing the correct symbolic function.\n",
      "r2 is 1.0000004768371582\n",
      "r2 is 1.0000004768371582\n"
     ]
    },
    {
     "name": "stderr",
     "output_type": "stream",
     "text": [
      "train loss: 3.72e-03 | test loss: 6.04e-03 | reg: 5.06e+00 : 100%|██| 50/50 [00:00<00:00, 81.58it/s]\n",
      "/Users/gal.yona/Documents/MSc/Thesis/ImplicitNeuralSurfaces/forked_pykan/pykan/kan/KAN.py:344: UserWarning:\n",
      "\n",
      "std(): degrees of freedom is <= 0. Correction should be strictly less than the reduction factor (input numel divided by output numel). (Triggered internally at /Users/runner/work/pytorch/pytorch/pytorch/aten/src/ATen/native/ReduceOps.cpp:1760.)\n",
      "\n"
     ]
    },
    {
     "name": "stdout",
     "output_type": "stream",
     "text": [
      "0.26 - 3032807.32*x_1**8\n",
      "sampled_index 166 signature  tensor([[ 2.5582e-01,  6.0721e-02,  4.3415e-01, -8.2961e+01,  2.8244e-01,\n",
      "         -3.1045e+01]], grad_fn=<StackBackward0>)\n",
      "sampled_index 166 signature  tensor([[ 2.4232e-01,  5.5876e-02,  4.3717e-01, -8.0106e+01,  2.5927e-01,\n",
      "         -3.0280e+01]], grad_fn=<StackBackward0>)\n",
      "Number of vertices: 106712\n",
      "dataset full size: 266\n"
     ]
    },
    {
     "name": "stderr",
     "output_type": "stream",
     "text": [
      "train loss: 6.41e-02 | test loss: 6.56e-02 | reg: 2.96e+00 : 100%|██| 20/20 [00:02<00:00,  8.73it/s]\n",
      "train loss: 2.81e-03 | test loss: 4.09e-03 | reg: 4.70e+00 : 100%|██| 50/50 [00:02<00:00, 21.96it/s]\n"
     ]
    },
    {
     "name": "stdout",
     "output_type": "stream",
     "text": [
      "r2 is 0.8361132740974426\n",
      "r2 is not very high, please double check if you are choosing the correct symbolic function.\n",
      "Best value at boundary.\n",
      "r2 is 0.9228776693344116\n",
      "r2 is 0.9954569339752197\n"
     ]
    },
    {
     "name": "stderr",
     "output_type": "stream",
     "text": [
      "train loss: 3.53e-03 | test loss: 5.47e-03 | reg: 4.82e+00 : 100%|██| 50/50 [00:00<00:00, 74.23it/s]\n",
      "/Users/gal.yona/Documents/MSc/Thesis/ImplicitNeuralSurfaces/forked_pykan/pykan/kan/KAN.py:344: UserWarning:\n",
      "\n",
      "std(): degrees of freedom is <= 0. Correction should be strictly less than the reduction factor (input numel divided by output numel). (Triggered internally at /Users/runner/work/pytorch/pytorch/pytorch/aten/src/ATen/native/ReduceOps.cpp:1760.)\n",
      "\n"
     ]
    },
    {
     "name": "stdout",
     "output_type": "stream",
     "text": [
      "382.64*(-0.01*(-0.22*x_1 - 1)**4 - (-x_2 - 0.2)**3)**2\n",
      "Number of vertices: 106712\n",
      "dataset down sampled size: 213\n"
     ]
    },
    {
     "name": "stderr",
     "output_type": "stream",
     "text": [
      "train loss: 6.11e-02 | test loss: 6.27e-02 | reg: 2.89e+00 : 100%|██| 20/20 [00:02<00:00,  8.93it/s]\n",
      "train loss: 3.53e-03 | test loss: 5.27e-03 | reg: 4.59e+00 : 100%|██| 50/50 [00:00<00:00, 76.86it/s]\n"
     ]
    },
    {
     "name": "stdout",
     "output_type": "stream",
     "text": [
      "r2 is 1.0000004768371582\n",
      "r2 is 1.0000003576278687\n",
      "r2 is 0.9981540441513062\n"
     ]
    },
    {
     "name": "stderr",
     "output_type": "stream",
     "text": [
      "train loss: 3.53e-03 | test loss: 5.27e-03 | reg: 4.81e+00 : 100%|██| 50/50 [00:00<00:00, 93.73it/s]\n",
      "/Users/gal.yona/Documents/MSc/Thesis/ImplicitNeuralSurfaces/forked_pykan/pykan/kan/KAN.py:344: UserWarning:\n",
      "\n",
      "std(): degrees of freedom is <= 0. Correction should be strictly less than the reduction factor (input numel divided by output numel). (Triggered internally at /Users/runner/work/pytorch/pytorch/pytorch/aten/src/ATen/native/ReduceOps.cpp:1760.)\n",
      "\n"
     ]
    },
    {
     "name": "stdout",
     "output_type": "stream",
     "text": [
      "381.53*(-0.01*(-0.22*x_1 - 1)**4 - (-x_2 - 0.2)**3)**2\n",
      "sampled_index 167 signature  tensor([[-5.9330e+00,  5.3116e-03, -1.4493e+02,  7.6183e+00, -5.9861e-01,\n",
      "         -9.0487e-04]], grad_fn=<StackBackward0>)\n",
      "sampled_index 167 signature  tensor([[-5.9216e+00,  5.0216e-03, -1.4502e+02,  7.6294e+00, -6.1835e-01,\n",
      "         -8.2321e-04]], grad_fn=<StackBackward0>)\n",
      "Number of vertices: 106712\n",
      "dataset full size: 294\n"
     ]
    },
    {
     "name": "stderr",
     "output_type": "stream",
     "text": [
      "train loss: 1.16e-02 | test loss: 1.31e-02 | reg: 3.61e+00 : 100%|██| 20/20 [00:02<00:00,  8.97it/s]\n",
      "train loss: 1.03e-03 | test loss: 1.76e-03 | reg: 2.30e+00 : 100%|██| 50/50 [00:02<00:00, 18.46it/s]\n"
     ]
    },
    {
     "name": "stdout",
     "output_type": "stream",
     "text": [
      "Best value at boundary.\n",
      "r2 is 0.8296738862991333\n",
      "r2 is not very high, please double check if you are choosing the correct symbolic function.\n",
      "Best value at boundary.\n",
      "r2 is 0.9776695966720581\n",
      "Best value at boundary.\n",
      "r2 is 0.7241067886352539\n",
      "r2 is not very high, please double check if you are choosing the correct symbolic function.\n"
     ]
    },
    {
     "name": "stderr",
     "output_type": "stream",
     "text": [
      "train loss: 1.37e-03 | test loss: 1.84e-03 | reg: 3.29e+00 : 100%|██| 50/50 [00:00<00:00, 54.78it/s]\n",
      "/Users/gal.yona/Documents/MSc/Thesis/ImplicitNeuralSurfaces/forked_pykan/pykan/kan/KAN.py:344: UserWarning:\n",
      "\n",
      "std(): degrees of freedom is <= 0. Correction should be strictly less than the reduction factor (input numel divided by output numel). (Triggered internally at /Users/runner/work/pytorch/pytorch/pytorch/aten/src/ATen/native/ReduceOps.cpp:1760.)\n",
      "\n"
     ]
    },
    {
     "name": "stdout",
     "output_type": "stream",
     "text": [
      "-11963.57*(x_1**4 + 0.38*(x_2 - 0.01)**3)**2\n",
      "Number of vertices: 106712\n",
      "dataset down sampled size: 236\n"
     ]
    },
    {
     "name": "stderr",
     "output_type": "stream",
     "text": [
      "train loss: 1.03e-02 | test loss: 1.16e-02 | reg: 3.45e+00 : 100%|██| 20/20 [00:02<00:00,  8.56it/s]\n",
      "train loss: 1.35e-03 | test loss: 1.87e-03 | reg: 2.09e+00 : 100%|██| 50/50 [00:01<00:00, 43.43it/s]\n"
     ]
    },
    {
     "name": "stdout",
     "output_type": "stream",
     "text": [
      "Best value at boundary.\n",
      "r2 is 0.9781646728515625\n",
      "Best value at boundary.\n",
      "r2 is 0.9928923845291138\n",
      "Best value at boundary.\n",
      "r2 is 0.9985041618347168\n"
     ]
    },
    {
     "name": "stderr",
     "output_type": "stream",
     "text": [
      "train loss: 1.35e-03 | test loss: 1.87e-03 | reg: 3.27e+00 : 100%|██| 50/50 [00:00<00:00, 64.81it/s]\n",
      "/Users/gal.yona/Documents/MSc/Thesis/ImplicitNeuralSurfaces/forked_pykan/pykan/kan/KAN.py:344: UserWarning:\n",
      "\n",
      "std(): degrees of freedom is <= 0. Correction should be strictly less than the reduction factor (input numel divided by output numel). (Triggered internally at /Users/runner/work/pytorch/pytorch/pytorch/aten/src/ATen/native/ReduceOps.cpp:1760.)\n",
      "\n"
     ]
    },
    {
     "name": "stdout",
     "output_type": "stream",
     "text": [
      "-12765.73*(x_1**4 - 0.38*(0.01 - x_2)**3)**2\n",
      "sampled_index 168 signature  tensor([[-8.3271e-02, -9.4978e-05,  5.8114e+00, -1.8969e-01,  6.5105e-03,\n",
      "          6.3404e-02]], grad_fn=<StackBackward0>)\n",
      "sampled_index 168 signature  tensor([[-8.6533e-02, -1.7810e-04,  5.7735e+00, -2.5534e-01,  1.1608e-02,\n",
      "          8.8923e-02]], grad_fn=<StackBackward0>)\n",
      "Number of vertices: 106712\n",
      "dataset full size: 370\n"
     ]
    },
    {
     "name": "stderr",
     "output_type": "stream",
     "text": [
      "train loss: 1.48e-02 | test loss: 1.57e-02 | reg: 3.28e+00 : 100%|██| 20/20 [00:03<00:00,  5.42it/s]\n",
      "train loss: 2.33e-03 | test loss: 1.59e-02 | reg: 2.96e+00 : 100%|██| 50/50 [00:02<00:00, 22.51it/s]\n"
     ]
    },
    {
     "name": "stdout",
     "output_type": "stream",
     "text": [
      "r2 is 0.9999196529388428\n",
      "r2 is 0.9734548330307007\n",
      "r2 is 0.7775541543960571\n",
      "r2 is not very high, please double check if you are choosing the correct symbolic function.\n"
     ]
    },
    {
     "name": "stderr",
     "output_type": "stream",
     "text": [
      "train loss: 7.74e-03 | test loss: 7.93e-03 | reg: 2.81e+00 : 100%|██| 50/50 [00:01<00:00, 48.04it/s]\n",
      "/Users/gal.yona/Documents/MSc/Thesis/ImplicitNeuralSurfaces/forked_pykan/pykan/kan/KAN.py:344: UserWarning:\n",
      "\n",
      "std(): degrees of freedom is <= 0. Correction should be strictly less than the reduction factor (input numel divided by output numel). (Triggered internally at /Users/runner/work/pytorch/pytorch/pytorch/aten/src/ATen/native/ReduceOps.cpp:1760.)\n",
      "\n"
     ]
    },
    {
     "name": "stdout",
     "output_type": "stream",
     "text": [
      "19.58*((0.3 - x_2)**3 + 0.05*(1 - 0.47*x_1)**4 - 0.1)**2 - 0.02\n",
      "Number of vertices: 106712\n",
      "dataset down sampled size: 297\n"
     ]
    },
    {
     "name": "stderr",
     "output_type": "stream",
     "text": [
      "train loss: 3.95e-02 | test loss: 3.97e-02 | reg: 3.17e+00 : 100%|██| 20/20 [00:02<00:00,  7.98it/s]\n",
      "train loss: 7.98e-03 | test loss: 7.97e-03 | reg: 2.43e+00 : 100%|█| 50/50 [00:00<00:00, 106.15it/s]\n"
     ]
    },
    {
     "name": "stdout",
     "output_type": "stream",
     "text": [
      "r2 is 1.0000003576278687\n",
      "r2 is 1.000000238418579\n",
      "Best value at boundary.\n",
      "r2 is 0.999918520450592\n"
     ]
    },
    {
     "name": "stderr",
     "output_type": "stream",
     "text": [
      "train loss: 7.97e-03 | test loss: 7.98e-03 | reg: 2.86e+00 : 100%|██| 50/50 [00:00<00:00, 80.65it/s]\n",
      "/Users/gal.yona/Documents/MSc/Thesis/ImplicitNeuralSurfaces/forked_pykan/pykan/kan/KAN.py:344: UserWarning:\n",
      "\n",
      "std(): degrees of freedom is <= 0. Correction should be strictly less than the reduction factor (input numel divided by output numel). (Triggered internally at /Users/runner/work/pytorch/pytorch/pytorch/aten/src/ATen/native/ReduceOps.cpp:1760.)\n",
      "\n"
     ]
    },
    {
     "name": "stdout",
     "output_type": "stream",
     "text": [
      "21.22*((0.29 - x_2)**3 + 0.04*(1 - 0.47*x_1)**4 - 0.1)**2 - 0.02\n",
      "sampled_index 169 signature  tensor([[-0.3496, -0.5220, 19.5096, 10.3295,  2.3548,  0.6278]],\n",
      "       grad_fn=<StackBackward0>)\n",
      "sampled_index 169 signature  tensor([[-0.4037, -0.5404, 21.3128, 10.6357,  2.4878,  0.5784]],\n",
      "       grad_fn=<StackBackward0>)\n",
      "Number of vertices: 106712\n",
      "dataset full size: 293\n"
     ]
    },
    {
     "name": "stderr",
     "output_type": "stream",
     "text": [
      "train loss: 9.05e-02 | test loss: 9.87e-02 | reg: 2.79e+00 : 100%|██| 20/20 [00:02<00:00,  7.85it/s]\n",
      "train loss: 5.05e-03 | test loss: 5.83e-02 | reg: 8.05e+00 : 100%|██| 50/50 [00:02<00:00, 24.23it/s]\n"
     ]
    },
    {
     "name": "stdout",
     "output_type": "stream",
     "text": [
      "r2 is 0.9198593497276306\n",
      "r2 is 0.9989059567451477\n",
      "r2 is 0.8009970188140869\n",
      "r2 is not very high, please double check if you are choosing the correct symbolic function.\n"
     ]
    },
    {
     "name": "stderr",
     "output_type": "stream",
     "text": [
      "train loss: 5.01e-03 | test loss: 3.78e-02 | reg: 7.16e+04 : 100%|██| 50/50 [00:01<00:00, 25.32it/s]\n",
      "/Users/gal.yona/Documents/MSc/Thesis/ImplicitNeuralSurfaces/forked_pykan/pykan/kan/KAN.py:344: UserWarning:\n",
      "\n",
      "std(): degrees of freedom is <= 0. Correction should be strictly less than the reduction factor (input numel divided by output numel). (Triggered internally at /Users/runner/work/pytorch/pytorch/pytorch/aten/src/ATen/native/ReduceOps.cpp:1760.)\n",
      "\n"
     ]
    },
    {
     "name": "stdout",
     "output_type": "stream",
     "text": [
      "6328.98*((-x_1 - 0.03)**4 + 0.96*(-x_2 - 0.07)**3)**2 - 0.e-2\n",
      "Number of vertices: 106712\n",
      "dataset down sampled size: 235\n"
     ]
    },
    {
     "name": "stderr",
     "output_type": "stream",
     "text": [
      "train loss: 8.57e-02 | test loss: 9.38e-02 | reg: 3.23e+00 : 100%|██| 20/20 [00:02<00:00,  9.00it/s]\n",
      "train loss: 4.94e-03 | test loss: 3.81e-02 | reg: 1.44e+01 : 100%|██| 50/50 [00:01<00:00, 45.79it/s]\n"
     ]
    },
    {
     "name": "stdout",
     "output_type": "stream",
     "text": [
      "r2 is 1.000000238418579\n",
      "r2 is 1.0000003576278687\n",
      "r2 is 1.0000004768371582\n"
     ]
    },
    {
     "name": "stderr",
     "output_type": "stream",
     "text": [
      "train loss: 4.94e-03 | test loss: 3.78e-02 | reg: 7.83e+04 : 100%|██| 50/50 [00:00<00:00, 68.13it/s]\n",
      "/Users/gal.yona/Documents/MSc/Thesis/ImplicitNeuralSurfaces/forked_pykan/pykan/kan/KAN.py:344: UserWarning:\n",
      "\n",
      "std(): degrees of freedom is <= 0. Correction should be strictly less than the reduction factor (input numel divided by output numel). (Triggered internally at /Users/runner/work/pytorch/pytorch/pytorch/aten/src/ATen/native/ReduceOps.cpp:1760.)\n",
      "\n"
     ]
    },
    {
     "name": "stdout",
     "output_type": "stream",
     "text": [
      "6364.9*((-x_1 - 0.03)**4 + 0.94*(-x_2 - 0.07)**3)**2 - 0.e-2\n",
      "sampled_index 170 signature  tensor([[-6.4833e-01,  3.1223e-02, -8.1924e+01,  2.0541e+00,  1.2519e+00,\n",
      "         -1.8274e+00]], grad_fn=<StackBackward0>)\n",
      "sampled_index 170 signature  tensor([[-7.2730e-01,  2.9691e-02, -8.3991e+01,  1.8056e+00,  2.8709e-01,\n",
      "         -1.7317e+00]], grad_fn=<StackBackward0>)\n",
      "Number of vertices: 106712\n",
      "dataset full size: 280\n"
     ]
    },
    {
     "name": "stderr",
     "output_type": "stream",
     "text": [
      "train loss: 1.76e-02 | test loss: 1.87e-02 | reg: 3.46e+00 : 100%|██| 20/20 [00:02<00:00,  8.04it/s]\n",
      "train loss: 1.94e-03 | test loss: 5.14e-03 | reg: 1.80e+01 : 100%|██| 50/50 [00:02<00:00, 17.00it/s]\n"
     ]
    },
    {
     "name": "stdout",
     "output_type": "stream",
     "text": [
      "Best value at boundary.\n",
      "r2 is 0.8182655572891235\n",
      "r2 is not very high, please double check if you are choosing the correct symbolic function.\n",
      "r2 is 0.9971650242805481\n",
      "Best value at boundary.\n",
      "r2 is 0.990025520324707\n"
     ]
    },
    {
     "name": "stderr",
     "output_type": "stream",
     "text": [
      "train loss: 2.88e-03 | test loss: 4.46e-03 | reg: 2.65e+01 : 100%|██| 50/50 [00:01<00:00, 32.69it/s]\n",
      "/Users/gal.yona/Documents/MSc/Thesis/ImplicitNeuralSurfaces/forked_pykan/pykan/kan/KAN.py:344: UserWarning:\n",
      "\n",
      "std(): degrees of freedom is <= 0. Correction should be strictly less than the reduction factor (input numel divided by output numel). (Triggered internally at /Users/runner/work/pytorch/pytorch/pytorch/aten/src/ATen/native/ReduceOps.cpp:1760.)\n",
      "\n"
     ]
    },
    {
     "name": "stdout",
     "output_type": "stream",
     "text": [
      "0.15 - 19051.95*(-(-x_1 - 0.01)**4 + 0.04*(-x_2 - 0.1)**3)**2\n",
      "Number of vertices: 106712\n",
      "dataset down sampled size: 225\n"
     ]
    },
    {
     "name": "stderr",
     "output_type": "stream",
     "text": [
      "train loss: 4.48e-02 | test loss: 4.38e-02 | reg: 2.80e+00 : 100%|██| 20/20 [00:02<00:00,  8.97it/s]\n",
      "train loss: 2.92e-03 | test loss: 4.42e-03 | reg: 2.60e+01 : 100%|██| 50/50 [00:00<00:00, 61.44it/s]\n"
     ]
    },
    {
     "name": "stdout",
     "output_type": "stream",
     "text": [
      "Best value at boundary.\n",
      "r2 is 0.9848981499671936\n",
      "r2 is 0.9999992251396179\n",
      "Best value at boundary.\n",
      "r2 is 0.9999542832374573\n"
     ]
    },
    {
     "name": "stderr",
     "output_type": "stream",
     "text": [
      "train loss: 2.93e-03 | test loss: 4.25e-03 | reg: 2.68e+01 : 100%|██| 50/50 [00:01<00:00, 39.21it/s]\n",
      "/Users/gal.yona/Documents/MSc/Thesis/ImplicitNeuralSurfaces/forked_pykan/pykan/kan/KAN.py:344: UserWarning:\n",
      "\n",
      "std(): degrees of freedom is <= 0. Correction should be strictly less than the reduction factor (input numel divided by output numel). (Triggered internally at /Users/runner/work/pytorch/pytorch/pytorch/aten/src/ATen/native/ReduceOps.cpp:1760.)\n",
      "\n"
     ]
    },
    {
     "name": "stdout",
     "output_type": "stream",
     "text": [
      "0.17 - 10981.75*(-(-x_1 - 0.02)**4 + 0.04*(-x_2 - 0.1)**3)**2\n",
      "sampled_index 171 signature  tensor([[  1.2960,   0.6231, -18.4650,  11.6739, -85.8095,   6.3435]],\n",
      "       grad_fn=<StackBackward0>)\n",
      "sampled_index 171 signature  tensor([[  1.3647,   0.9560, -20.6384,  11.4985, -95.6156,   9.5781]],\n",
      "       grad_fn=<StackBackward0>)\n",
      "Number of vertices: 106712\n",
      "dataset full size: 313\n"
     ]
    },
    {
     "name": "stderr",
     "output_type": "stream",
     "text": [
      "train loss: 1.41e-02 | test loss: 1.74e-02 | reg: 3.38e+00 : 100%|██| 20/20 [00:02<00:00,  8.13it/s]\n",
      "train loss: 7.27e-03 | test loss: 4.86e-02 | reg: 4.26e+00 : 100%|██| 50/50 [00:02<00:00, 19.85it/s]\n"
     ]
    },
    {
     "name": "stdout",
     "output_type": "stream",
     "text": [
      "r2 is 0.9253533482551575\n",
      "r2 is 0.6136264204978943\n",
      "r2 is not very high, please double check if you are choosing the correct symbolic function.\n",
      "r2 is 0.3732333481311798\n",
      "r2 is not very high, please double check if you are choosing the correct symbolic function.\n"
     ]
    },
    {
     "name": "stderr",
     "output_type": "stream",
     "text": [
      "train loss: nan | test loss: nan | reg: nan : 100%|█████████████████| 50/50 [00:03<00:00, 14.88it/s]\n",
      "/Users/gal.yona/Documents/MSc/Thesis/ImplicitNeuralSurfaces/forked_pykan/pykan/kan/KAN.py:344: UserWarning:\n",
      "\n",
      "std(): degrees of freedom is <= 0. Correction should be strictly less than the reduction factor (input numel divided by output numel). (Triggered internally at /Users/runner/work/pytorch/pytorch/pytorch/aten/src/ATen/native/ReduceOps.cpp:1760.)\n",
      "\n"
     ]
    },
    {
     "name": "stdout",
     "output_type": "stream",
     "text": [
      "nan\n",
      "Number of vertices: 106712\n",
      "dataset down sampled size: 251\n"
     ]
    },
    {
     "name": "stderr",
     "output_type": "stream",
     "text": [
      "train loss: 3.87e-02 | test loss: 3.95e-02 | reg: 3.30e+00 : 100%|██| 20/20 [00:02<00:00,  8.20it/s]\n",
      "train loss: nan | test loss: nan | reg: nan : 100%|█████████████████| 50/50 [00:03<00:00, 14.46it/s]\n"
     ]
    },
    {
     "name": "stdout",
     "output_type": "stream",
     "text": [
      "Best value at boundary.\n",
      "r2 is 0.0\n",
      "r2 is not very high, please double check if you are choosing the correct symbolic function.\n",
      "nan encountered\n",
      "Number of vertices: 106712\n",
      "dataset full size: 294\n"
     ]
    },
    {
     "name": "stderr",
     "output_type": "stream",
     "text": [
      "train loss: 7.61e-02 | test loss: 7.71e-02 | reg: 2.89e+00 : 100%|██| 20/20 [00:02<00:00,  8.61it/s]\n",
      "train loss: 1.03e-03 | test loss: 6.04e-03 | reg: 3.88e+00 : 100%|██| 50/50 [00:01<00:00, 29.86it/s]\n"
     ]
    },
    {
     "name": "stdout",
     "output_type": "stream",
     "text": [
      "r2 is 0.9525405168533325\n",
      "r2 is 0.9999226927757263\n",
      "r2 is 0.9787217378616333\n"
     ]
    },
    {
     "name": "stderr",
     "output_type": "stream",
     "text": [
      "train loss: 2.07e-03 | test loss: 3.80e-03 | reg: 3.73e+00 : 100%|██| 50/50 [00:01<00:00, 42.81it/s]\n",
      "/Users/gal.yona/Documents/MSc/Thesis/ImplicitNeuralSurfaces/forked_pykan/pykan/kan/KAN.py:344: UserWarning:\n",
      "\n",
      "std(): degrees of freedom is <= 0. Correction should be strictly less than the reduction factor (input numel divided by output numel). (Triggered internally at /Users/runner/work/pytorch/pytorch/pytorch/aten/src/ATen/native/ReduceOps.cpp:1760.)\n",
      "\n"
     ]
    },
    {
     "name": "stdout",
     "output_type": "stream",
     "text": [
      "168.84*(-(0.03 - x_2)**3 + 0.01*(0.52 - x_1)**4 - 0.04)**2 - 0.31\n",
      "Number of vertices: 106712\n",
      "dataset down sampled size: 236\n"
     ]
    },
    {
     "name": "stderr",
     "output_type": "stream",
     "text": [
      "train loss: 8.87e-02 | test loss: 8.94e-02 | reg: 2.90e+00 : 100%|██| 20/20 [00:02<00:00,  8.79it/s]\n",
      "train loss: 2.08e-03 | test loss: 3.89e-03 | reg: 3.49e+00 : 100%|██| 50/50 [00:01<00:00, 42.51it/s]\n"
     ]
    },
    {
     "name": "stdout",
     "output_type": "stream",
     "text": [
      "r2 is 1.0000003576278687\n",
      "r2 is 0.9995124936103821\n",
      "Best value at boundary.\n",
      "r2 is 0.9999936819076538\n"
     ]
    },
    {
     "name": "stderr",
     "output_type": "stream",
     "text": [
      "train loss: 2.08e-03 | test loss: 3.89e-03 | reg: 3.71e+00 : 100%|██| 50/50 [00:00<00:00, 71.29it/s]\n",
      "/Users/gal.yona/Documents/MSc/Thesis/ImplicitNeuralSurfaces/forked_pykan/pykan/kan/KAN.py:344: UserWarning:\n",
      "\n",
      "std(): degrees of freedom is <= 0. Correction should be strictly less than the reduction factor (input numel divided by output numel). (Triggered internally at /Users/runner/work/pytorch/pytorch/pytorch/aten/src/ATen/native/ReduceOps.cpp:1760.)\n",
      "\n"
     ]
    },
    {
     "name": "stdout",
     "output_type": "stream",
     "text": [
      "155.74*(-(0.03 - x_2)**3 + 0.01*(0.52 - x_1)**4 - 0.05)**2 - 0.33\n",
      "sampled_index 173 signature  tensor([[-1.1775, -0.6163, 43.3255,  0.4897, 20.5696, -2.2363]],\n",
      "       grad_fn=<StackBackward0>)\n",
      "sampled_index 173 signature  tensor([[-1.1778, -0.6246, 43.0689,  0.4938, 20.6943, -2.2738]],\n",
      "       grad_fn=<StackBackward0>)\n",
      "Number of vertices: 106712\n",
      "dataset full size: 275\n"
     ]
    },
    {
     "name": "stderr",
     "output_type": "stream",
     "text": [
      "train loss: 6.28e-02 | test loss: 6.32e-02 | reg: 2.77e+00 : 100%|██| 20/20 [00:02<00:00,  7.86it/s]\n",
      "train loss: 6.65e-04 | test loss: 1.20e-03 | reg: 2.57e+00 : 100%|██| 50/50 [00:02<00:00, 18.09it/s]\n"
     ]
    },
    {
     "name": "stdout",
     "output_type": "stream",
     "text": [
      "r2 is 0.9908662438392639\n",
      "Best value at boundary.\n",
      "r2 is 0.9647111296653748\n",
      "r2 is 0.3485054671764374\n",
      "r2 is not very high, please double check if you are choosing the correct symbolic function.\n"
     ]
    },
    {
     "name": "stderr",
     "output_type": "stream",
     "text": [
      "train loss: 8.50e-04 | test loss: 2.33e-03 | reg: 2.92e+00 : 100%|██| 50/50 [00:01<00:00, 40.47it/s]\n",
      "/Users/gal.yona/Documents/MSc/Thesis/ImplicitNeuralSurfaces/forked_pykan/pykan/kan/KAN.py:344: UserWarning:\n",
      "\n",
      "std(): degrees of freedom is <= 0. Correction should be strictly less than the reduction factor (input numel divided by output numel). (Triggered internally at /Users/runner/work/pytorch/pytorch/pytorch/aten/src/ATen/native/ReduceOps.cpp:1760.)\n",
      "\n"
     ]
    },
    {
     "name": "stdout",
     "output_type": "stream",
     "text": [
      "-24847.11*x_2**6\n",
      "Number of vertices: 106712\n",
      "dataset down sampled size: 221\n"
     ]
    },
    {
     "name": "stderr",
     "output_type": "stream",
     "text": [
      "train loss: 6.46e-02 | test loss: 6.48e-02 | reg: 2.74e+00 : 100%|██| 20/20 [00:02<00:00,  8.95it/s]\n",
      "train loss: 8.36e-04 | test loss: 2.10e-03 | reg: 2.52e+00 : 100%|██| 50/50 [00:00<00:00, 54.31it/s]\n"
     ]
    },
    {
     "name": "stdout",
     "output_type": "stream",
     "text": [
      "r2 is 1.0000004768371582\n",
      "Best value at boundary.\n",
      "r2 is 0.9743034243583679\n",
      "r2 is 0.9991147518157959\n"
     ]
    },
    {
     "name": "stderr",
     "output_type": "stream",
     "text": [
      "train loss: 8.36e-04 | test loss: 2.10e-03 | reg: 2.84e+00 : 100%|██| 50/50 [00:01<00:00, 41.28it/s]\n",
      "/Users/gal.yona/Documents/MSc/Thesis/ImplicitNeuralSurfaces/forked_pykan/pykan/kan/KAN.py:344: UserWarning:\n",
      "\n",
      "std(): degrees of freedom is <= 0. Correction should be strictly less than the reduction factor (input numel divided by output numel). (Triggered internally at /Users/runner/work/pytorch/pytorch/pytorch/aten/src/ATen/native/ReduceOps.cpp:1760.)\n",
      "\n"
     ]
    },
    {
     "name": "stdout",
     "output_type": "stream",
     "text": [
      "-26964.59*(x_2 + 0.01)**6\n",
      "sampled_index 174 signature  tensor([[ 6.9036e-02, -1.7804e-03,  1.2492e+00,  2.0767e+00,  3.9297e-01,\n",
      "          3.1912e-01]], grad_fn=<StackBackward0>)\n",
      "sampled_index 174 signature  tensor([[ 0.0635, -0.0039,  2.1426,  2.3948,  0.6937,  0.3855]],\n",
      "       grad_fn=<StackBackward0>)\n",
      "Number of vertices: 106712\n",
      "dataset full size: 277\n"
     ]
    },
    {
     "name": "stderr",
     "output_type": "stream",
     "text": [
      "train loss: 5.91e-03 | test loss: 2.40e-02 | reg: 3.95e+00 : 100%|██| 20/20 [00:02<00:00,  8.45it/s]\n",
      "train loss: 3.41e-03 | test loss: 7.98e-01 | reg: 2.47e+01 : 100%|██| 50/50 [00:02<00:00, 20.84it/s]\n"
     ]
    },
    {
     "name": "stdout",
     "output_type": "stream",
     "text": [
      "r2 is 0.9903502464294434\n",
      "r2 is 0.9932846426963806\n",
      "r2 is 0.08353903889656067\n",
      "r2 is not very high, please double check if you are choosing the correct symbolic function.\n"
     ]
    },
    {
     "name": "stderr",
     "output_type": "stream",
     "text": [
      "train loss: 4.10e-03 | test loss: 7.67e-02 | reg: 5.80e+01 : 100%|██| 50/50 [00:00<00:00, 62.13it/s]\n",
      "/Users/gal.yona/Documents/MSc/Thesis/ImplicitNeuralSurfaces/forked_pykan/pykan/kan/KAN.py:344: UserWarning:\n",
      "\n",
      "std(): degrees of freedom is <= 0. Correction should be strictly less than the reduction factor (input numel divided by output numel). (Triggered internally at /Users/runner/work/pytorch/pytorch/pytorch/aten/src/ATen/native/ReduceOps.cpp:1760.)\n",
      "\n"
     ]
    },
    {
     "name": "stdout",
     "output_type": "stream",
     "text": [
      "575.82*(0.11*(0.18 - x_2)**3 - (-x_1 - 0.16)**4 + 0.03)**2 - 0.48\n",
      "Number of vertices: 106712\n",
      "dataset down sampled size: 222\n"
     ]
    },
    {
     "name": "stderr",
     "output_type": "stream",
     "text": [
      "train loss: 5.84e-03 | test loss: 2.41e-02 | reg: 3.95e+00 : 100%|██| 20/20 [00:02<00:00,  8.24it/s]\n",
      "train loss: 4.09e-03 | test loss: 7.64e-02 | reg: 5.79e+01 : 100%|██| 50/50 [00:00<00:00, 85.73it/s]\n"
     ]
    },
    {
     "name": "stdout",
     "output_type": "stream",
     "text": [
      "Best value at boundary.\n",
      "r2 is 0.9999997019767761\n",
      "r2 is 1.0000003576278687\n",
      "r2 is 0.9999991655349731\n"
     ]
    },
    {
     "name": "stderr",
     "output_type": "stream",
     "text": [
      "train loss: 4.08e-03 | test loss: 7.64e-02 | reg: 5.81e+01 : 100%|██| 50/50 [00:00<00:00, 70.05it/s]\n",
      "/Users/gal.yona/Documents/MSc/Thesis/ImplicitNeuralSurfaces/forked_pykan/pykan/kan/KAN.py:344: UserWarning:\n",
      "\n",
      "std(): degrees of freedom is <= 0. Correction should be strictly less than the reduction factor (input numel divided by output numel). (Triggered internally at /Users/runner/work/pytorch/pytorch/pytorch/aten/src/ATen/native/ReduceOps.cpp:1760.)\n",
      "\n"
     ]
    },
    {
     "name": "stdout",
     "output_type": "stream",
     "text": [
      "579.34*(0.11*(0.18 - x_2)**3 - (-x_1 - 0.16)**4 + 0.03)**2 - 0.48\n",
      "sampled_index 175 signature  tensor([[  1.7104, -22.3215,  -6.6317,  -4.6883, -74.4072, -41.0891]],\n",
      "       grad_fn=<StackBackward0>)\n",
      "sampled_index 175 signature  tensor([[  1.7158, -22.3366,  -6.6430,  -4.7925, -74.2280, -40.3424]],\n",
      "       grad_fn=<StackBackward0>)\n",
      "Number of vertices: 106712\n",
      "dataset full size: 288\n"
     ]
    },
    {
     "name": "stderr",
     "output_type": "stream",
     "text": [
      "train loss: 6.88e-02 | test loss: 6.95e-02 | reg: 2.87e+00 : 100%|██| 20/20 [00:02<00:00,  7.79it/s]\n",
      "train loss: 1.83e-03 | test loss: 2.94e-03 | reg: 4.63e+00 : 100%|██| 50/50 [00:01<00:00, 27.39it/s]\n"
     ]
    },
    {
     "name": "stdout",
     "output_type": "stream",
     "text": [
      "r2 is 0.966349184513092\n",
      "r2 is 0.9993318319320679\n",
      "r2 is 0.8011244535446167\n",
      "r2 is not very high, please double check if you are choosing the correct symbolic function.\n"
     ]
    },
    {
     "name": "stderr",
     "output_type": "stream",
     "text": [
      "train loss: 1.96e-03 | test loss: 4.47e-03 | reg: 4.33e+00 : 100%|██| 50/50 [00:00<00:00, 61.18it/s]\n",
      "/Users/gal.yona/Documents/MSc/Thesis/ImplicitNeuralSurfaces/forked_pykan/pykan/kan/KAN.py:344: UserWarning:\n",
      "\n",
      "std(): degrees of freedom is <= 0. Correction should be strictly less than the reduction factor (input numel divided by output numel). (Triggered internally at /Users/runner/work/pytorch/pytorch/pytorch/aten/src/ATen/native/ReduceOps.cpp:1760.)\n",
      "\n"
     ]
    },
    {
     "name": "stdout",
     "output_type": "stream",
     "text": [
      "-101.0*(0.2*(0.33 - x_1)**4 - (-x_2 - 0.2)**3 - 0.01)**2\n",
      "Number of vertices: 106712\n",
      "dataset down sampled size: 231\n"
     ]
    },
    {
     "name": "stderr",
     "output_type": "stream",
     "text": [
      "train loss: 6.08e-02 | test loss: 6.14e-02 | reg: 2.71e+00 : 100%|██| 20/20 [00:02<00:00,  8.06it/s]\n",
      "train loss: 1.91e-03 | test loss: 3.94e-03 | reg: 4.16e+00 : 100%|██| 50/50 [00:00<00:00, 55.39it/s]\n"
     ]
    },
    {
     "name": "stdout",
     "output_type": "stream",
     "text": [
      "r2 is 1.0000003576278687\n",
      "r2 is 1.0000004768371582\n",
      "r2 is 0.9984188675880432\n"
     ]
    },
    {
     "name": "stderr",
     "output_type": "stream",
     "text": [
      "train loss: 1.91e-03 | test loss: 3.94e-03 | reg: 4.25e+00 : 100%|██| 50/50 [00:00<00:00, 54.68it/s]\n",
      "/Users/gal.yona/Documents/MSc/Thesis/ImplicitNeuralSurfaces/forked_pykan/pykan/kan/KAN.py:344: UserWarning:\n",
      "\n",
      "std(): degrees of freedom is <= 0. Correction should be strictly less than the reduction factor (input numel divided by output numel). (Triggered internally at /Users/runner/work/pytorch/pytorch/pytorch/aten/src/ATen/native/ReduceOps.cpp:1760.)\n",
      "\n"
     ]
    },
    {
     "name": "stdout",
     "output_type": "stream",
     "text": [
      "-12.47*(0.54*(0.33 - x_1)**4 - (-x_2 - 0.35)**3 - 0.05)**2\n",
      "sampled_index 176 signature  tensor([[ 1.4196, -0.1702, -5.8932, 46.9851, -1.0036, 17.7487]],\n",
      "       grad_fn=<StackBackward0>)\n",
      "sampled_index 176 signature  tensor([[ 1.7302, -0.0905, -2.7566, 32.6113, -0.5368, 23.1151]],\n",
      "       grad_fn=<StackBackward0>)\n",
      "Number of vertices: 106712\n",
      "dataset full size: 277\n"
     ]
    },
    {
     "name": "stderr",
     "output_type": "stream",
     "text": [
      "train loss: 2.70e-02 | test loss: 2.43e-02 | reg: 3.37e+00 : 100%|██| 20/20 [00:02<00:00,  7.49it/s]\n",
      "train loss: 1.67e-03 | test loss: 3.74e-03 | reg: 2.49e+00 : 100%|██| 50/50 [00:02<00:00, 22.90it/s]\n"
     ]
    },
    {
     "name": "stdout",
     "output_type": "stream",
     "text": [
      "r2 is 0.9905310869216919\n",
      "r2 is 0.9986256957054138\n",
      "r2 is 0.24557508528232574\n",
      "r2 is not very high, please double check if you are choosing the correct symbolic function.\n"
     ]
    },
    {
     "name": "stderr",
     "output_type": "stream",
     "text": [
      "train loss: 1.79e-03 | test loss: 8.82e-03 | reg: 2.90e+00 : 100%|██| 50/50 [00:01<00:00, 38.48it/s]\n",
      "/Users/gal.yona/Documents/MSc/Thesis/ImplicitNeuralSurfaces/forked_pykan/pykan/kan/KAN.py:344: UserWarning:\n",
      "\n",
      "std(): degrees of freedom is <= 0. Correction should be strictly less than the reduction factor (input numel divided by output numel). (Triggered internally at /Users/runner/work/pytorch/pytorch/pytorch/aten/src/ATen/native/ReduceOps.cpp:1760.)\n",
      "\n"
     ]
    },
    {
     "name": "stdout",
     "output_type": "stream",
     "text": [
      "-24.99*((0.3 - x_1)**4 - 0.09*(1 - 0.64*x_2)**3 + 0.08)**2\n",
      "Number of vertices: 106712\n",
      "dataset down sampled size: 222\n"
     ]
    },
    {
     "name": "stderr",
     "output_type": "stream",
     "text": [
      "train loss: 2.66e-02 | test loss: 2.41e-02 | reg: 3.22e+00 : 100%|██| 20/20 [00:02<00:00,  8.01it/s]\n",
      "train loss: 1.76e-03 | test loss: 8.55e-03 | reg: 2.78e+00 : 100%|██| 50/50 [00:00<00:00, 80.24it/s]\n"
     ]
    },
    {
     "name": "stdout",
     "output_type": "stream",
     "text": [
      "r2 is 1.000000238418579\n",
      "r2 is 1.0000003576278687\n",
      "r2 is 0.9999624490737915\n"
     ]
    },
    {
     "name": "stderr",
     "output_type": "stream",
     "text": [
      "train loss: 1.76e-03 | test loss: 8.55e-03 | reg: 2.87e+00 : 100%|██| 50/50 [00:00<00:00, 54.83it/s]\n",
      "/Users/gal.yona/Documents/MSc/Thesis/ImplicitNeuralSurfaces/forked_pykan/pykan/kan/KAN.py:344: UserWarning:\n",
      "\n",
      "std(): degrees of freedom is <= 0. Correction should be strictly less than the reduction factor (input numel divided by output numel). (Triggered internally at /Users/runner/work/pytorch/pytorch/pytorch/aten/src/ATen/native/ReduceOps.cpp:1760.)\n",
      "\n"
     ]
    },
    {
     "name": "stdout",
     "output_type": "stream",
     "text": [
      "-26.14*((0.3 - x_1)**4 - 0.09*(1 - 0.64*x_2)**3 + 0.08)**2\n",
      "sampled_index 177 signature  tensor([[1.0613e+00, 1.0321e-03, 5.8921e+00, 5.5481e+00, 3.5248e-03, 1.5818e+01]],\n",
      "       grad_fn=<StackBackward0>)\n",
      "sampled_index 177 signature  tensor([[ 1.0766e+00, -8.8718e-03,  6.1032e+00,  5.8556e+00, -2.9665e-02,\n",
      "          1.6419e+01]], grad_fn=<StackBackward0>)\n",
      "Number of vertices: 106712\n",
      "dataset full size: 267\n"
     ]
    },
    {
     "name": "stderr",
     "output_type": "stream",
     "text": [
      "train loss: 8.71e-03 | test loss: 1.84e-02 | reg: 3.82e+00 : 100%|██| 20/20 [00:02<00:00,  7.92it/s]\n",
      "train loss: 2.20e-03 | test loss: 1.16e-01 | reg: 3.07e+00 : 100%|██| 50/50 [00:02<00:00, 20.71it/s]\n"
     ]
    },
    {
     "name": "stdout",
     "output_type": "stream",
     "text": [
      "r2 is 0.9997212886810303\n",
      "r2 is 0.9907073974609375\n",
      "r2 is 0.7581733465194702\n",
      "r2 is not very high, please double check if you are choosing the correct symbolic function.\n"
     ]
    },
    {
     "name": "stderr",
     "output_type": "stream",
     "text": [
      "train loss: 3.62e-03 | test loss: 5.37e-03 | reg: 8.14e+00 : 100%|██| 50/50 [00:01<00:00, 33.41it/s]\n",
      "/Users/gal.yona/Documents/MSc/Thesis/ImplicitNeuralSurfaces/forked_pykan/pykan/kan/KAN.py:344: UserWarning:\n",
      "\n",
      "std(): degrees of freedom is <= 0. Correction should be strictly less than the reduction factor (input numel divided by output numel). (Triggered internally at /Users/runner/work/pytorch/pytorch/pytorch/aten/src/ATen/native/ReduceOps.cpp:1760.)\n",
      "\n"
     ]
    },
    {
     "name": "stdout",
     "output_type": "stream",
     "text": [
      "0.08*(-0.24*(0.64 - x_1)**4 - 0.64*(-x_2 - 0.41)**3 - 1)**2 - 0.08\n",
      "Number of vertices: 106712\n",
      "dataset down sampled size: 214\n"
     ]
    },
    {
     "name": "stderr",
     "output_type": "stream",
     "text": [
      "train loss: 9.96e-03 | test loss: 2.05e-02 | reg: 3.92e+00 : 100%|██| 20/20 [00:02<00:00,  8.74it/s]\n",
      "train loss: 3.52e-03 | test loss: 5.24e-03 | reg: 8.03e+00 : 100%|█| 50/50 [00:00<00:00, 107.05it/s]\n"
     ]
    },
    {
     "name": "stdout",
     "output_type": "stream",
     "text": [
      "r2 is 1.0000004768371582\n",
      "r2 is 1.0000004768371582\n",
      "Best value at boundary.\n",
      "r2 is 0.9995521306991577\n"
     ]
    },
    {
     "name": "stderr",
     "output_type": "stream",
     "text": [
      "train loss: 3.51e-03 | test loss: 5.27e-03 | reg: 8.09e+00 : 100%|██| 50/50 [00:00<00:00, 79.29it/s]\n",
      "/Users/gal.yona/Documents/MSc/Thesis/ImplicitNeuralSurfaces/forked_pykan/pykan/kan/KAN.py:344: UserWarning:\n",
      "\n",
      "std(): degrees of freedom is <= 0. Correction should be strictly less than the reduction factor (input numel divided by output numel). (Triggered internally at /Users/runner/work/pytorch/pytorch/pytorch/aten/src/ATen/native/ReduceOps.cpp:1760.)\n",
      "\n"
     ]
    },
    {
     "name": "stdout",
     "output_type": "stream",
     "text": [
      "0.16*(-0.12*(0.63 - x_1)**4 - 0.31*(-x_2 - 0.41)**3 - 1)**2 - 0.16\n",
      "sampled_index 178 signature  tensor([[ 0.0195, -0.0440, -0.3266,  0.1931, -0.1723, -0.0578]],\n",
      "       grad_fn=<StackBackward0>)\n",
      "sampled_index 178 signature  tensor([[ 0.0263, -0.0444, -0.3058,  0.2458, -0.1552, -0.0822]],\n",
      "       grad_fn=<StackBackward0>)\n",
      "Number of vertices: 106712\n",
      "dataset full size: 299\n"
     ]
    },
    {
     "name": "stderr",
     "output_type": "stream",
     "text": [
      "train loss: 2.56e-02 | test loss: 2.67e-02 | reg: 3.41e+00 : 100%|██| 20/20 [00:02<00:00,  7.38it/s]\n",
      "train loss: 3.90e-03 | test loss: 7.46e-03 | reg: 2.88e+00 : 100%|██| 50/50 [00:02<00:00, 21.18it/s]\n"
     ]
    },
    {
     "name": "stdout",
     "output_type": "stream",
     "text": [
      "r2 is 0.9999551177024841\n",
      "r2 is 0.9999727010726929\n",
      "r2 is 0.9513645768165588\n"
     ]
    },
    {
     "name": "stderr",
     "output_type": "stream",
     "text": [
      "train loss: 5.42e-03 | test loss: 6.80e-03 | reg: 4.61e+00 : 100%|██| 50/50 [00:00<00:00, 63.04it/s]\n",
      "/Users/gal.yona/Documents/MSc/Thesis/ImplicitNeuralSurfaces/forked_pykan/pykan/kan/KAN.py:344: UserWarning:\n",
      "\n",
      "std(): degrees of freedom is <= 0. Correction should be strictly less than the reduction factor (input numel divided by output numel). (Triggered internally at /Users/runner/work/pytorch/pytorch/pytorch/aten/src/ATen/native/ReduceOps.cpp:1760.)\n",
      "\n"
     ]
    },
    {
     "name": "stdout",
     "output_type": "stream",
     "text": [
      "89.99*(-(0.18 - x_2)**3 + 0.43*(0.38 - x_1)**4 - 0.01)**2 - 0.01\n",
      "Number of vertices: 106712\n",
      "dataset down sampled size: 240\n"
     ]
    },
    {
     "name": "stderr",
     "output_type": "stream",
     "text": [
      "train loss: 2.18e-02 | test loss: 2.28e-02 | reg: 3.35e+00 : 100%|██| 20/20 [00:02<00:00,  8.87it/s]\n",
      "train loss: 5.40e-03 | test loss: 6.69e-03 | reg: 3.12e+00 : 100%|██| 50/50 [00:00<00:00, 56.50it/s]\n"
     ]
    },
    {
     "name": "stdout",
     "output_type": "stream",
     "text": [
      "r2 is 1.0000003576278687\n",
      "Best value at boundary.\n",
      "r2 is 0.9999996423721313\n",
      "r2 is 0.9999915361404419\n"
     ]
    },
    {
     "name": "stderr",
     "output_type": "stream",
     "text": [
      "train loss: 5.40e-03 | test loss: 6.69e-03 | reg: 4.57e+00 : 100%|██| 50/50 [00:00<00:00, 82.98it/s]\n",
      "/Users/gal.yona/Documents/MSc/Thesis/ImplicitNeuralSurfaces/forked_pykan/pykan/kan/KAN.py:344: UserWarning:\n",
      "\n",
      "std(): degrees of freedom is <= 0. Correction should be strictly less than the reduction factor (input numel divided by output numel). (Triggered internally at /Users/runner/work/pytorch/pytorch/pytorch/aten/src/ATen/native/ReduceOps.cpp:1760.)\n",
      "\n"
     ]
    },
    {
     "name": "stdout",
     "output_type": "stream",
     "text": [
      "89.61*(-(0.18 - x_2)**3 + 0.43*(0.38 - x_1)**4 - 0.01)**2 - 0.01\n",
      "sampled_index 179 signature  tensor([[ -1.7789,  -1.2235,  16.3867, -15.5562,  79.7828,  16.8738]],\n",
      "       grad_fn=<StackBackward0>)\n",
      "sampled_index 179 signature  tensor([[ -1.7613,  -1.2770,  16.3801, -15.1942,  80.1794,  17.2635]],\n",
      "       grad_fn=<StackBackward0>)\n",
      "Number of vertices: 106712\n",
      "dataset full size: 331\n"
     ]
    },
    {
     "name": "stderr",
     "output_type": "stream",
     "text": [
      "train loss: 1.15e-02 | test loss: 1.38e-02 | reg: 3.04e+00 : 100%|██| 20/20 [00:03<00:00,  6.19it/s]\n",
      "train loss: 2.82e-03 | test loss: 9.51e-02 | reg: 2.67e+00 : 100%|██| 50/50 [00:01<00:00, 35.01it/s]\n"
     ]
    },
    {
     "name": "stdout",
     "output_type": "stream",
     "text": [
      "r2 is 0.99961918592453\n",
      "r2 is 0.9986631274223328\n",
      "r2 is 0.8901777267456055\n",
      "r2 is not very high, please double check if you are choosing the correct symbolic function.\n"
     ]
    },
    {
     "name": "stderr",
     "output_type": "stream",
     "text": [
      "train loss: 5.85e-03 | test loss: 1.99e-02 | reg: 3.91e+00 : 100%|██| 50/50 [00:00<00:00, 66.43it/s]\n",
      "/Users/gal.yona/Documents/MSc/Thesis/ImplicitNeuralSurfaces/forked_pykan/pykan/kan/KAN.py:344: UserWarning:\n",
      "\n",
      "std(): degrees of freedom is <= 0. Correction should be strictly less than the reduction factor (input numel divided by output numel). (Triggered internally at /Users/runner/work/pytorch/pytorch/pytorch/aten/src/ATen/native/ReduceOps.cpp:1760.)\n",
      "\n"
     ]
    },
    {
     "name": "stdout",
     "output_type": "stream",
     "text": [
      "14.45*(0.11*(1 - 0.65*x_2)**3 - (-x_1 - 0.54)**4 - 0.05)**2 - 0.e-2\n",
      "Number of vertices: 106712\n",
      "dataset down sampled size: 265\n"
     ]
    },
    {
     "name": "stderr",
     "output_type": "stream",
     "text": [
      "train loss: 1.41e-02 | test loss: 1.50e-02 | reg: 3.01e+00 : 100%|██| 20/20 [00:02<00:00,  8.20it/s]\n",
      "train loss: 5.90e-03 | test loss: 2.03e-02 | reg: 3.75e+00 : 100%|██| 50/50 [00:00<00:00, 70.31it/s]\n"
     ]
    },
    {
     "name": "stdout",
     "output_type": "stream",
     "text": [
      "r2 is 1.0000004768371582\n",
      "r2 is 1.0000003576278687\n",
      "r2 is 0.9999967217445374\n"
     ]
    },
    {
     "name": "stderr",
     "output_type": "stream",
     "text": [
      "train loss: 5.90e-03 | test loss: 2.03e-02 | reg: 3.89e+00 : 100%|██| 50/50 [00:00<00:00, 86.29it/s]\n",
      "/Users/gal.yona/Documents/MSc/Thesis/ImplicitNeuralSurfaces/forked_pykan/pykan/kan/KAN.py:344: UserWarning:\n",
      "\n",
      "std(): degrees of freedom is <= 0. Correction should be strictly less than the reduction factor (input numel divided by output numel). (Triggered internally at /Users/runner/work/pytorch/pytorch/pytorch/aten/src/ATen/native/ReduceOps.cpp:1760.)\n",
      "\n"
     ]
    },
    {
     "name": "stdout",
     "output_type": "stream",
     "text": [
      "14.4*(0.11*(1 - 0.65*x_2)**3 - (-x_1 - 0.54)**4 - 0.05)**2 - 0.e-2\n",
      "sampled_index 180 signature  tensor([[ -5.9433,   0.6289,   2.0277, -16.0945,   9.8670,   1.8258]],\n",
      "       grad_fn=<StackBackward0>)\n",
      "sampled_index 180 signature  tensor([[ -5.9562,   0.6599,   1.4180, -16.2573,   9.5562,   1.8626]],\n",
      "       grad_fn=<StackBackward0>)\n",
      "Number of vertices: 106712\n",
      "dataset full size: 284\n"
     ]
    },
    {
     "name": "stderr",
     "output_type": "stream",
     "text": [
      "train loss: 2.25e-02 | test loss: 2.36e-02 | reg: 2.93e+00 : 100%|██| 20/20 [00:02<00:00,  7.95it/s]\n",
      "train loss: 1.32e-03 | test loss: 4.75e-03 | reg: 3.04e+00 : 100%|██| 50/50 [00:02<00:00, 22.57it/s]\n"
     ]
    },
    {
     "name": "stdout",
     "output_type": "stream",
     "text": [
      "r2 is 0.8729158043861389\n",
      "r2 is not very high, please double check if you are choosing the correct symbolic function.\n",
      "r2 is 0.9970023036003113\n",
      "r2 is 0.8267115950584412\n",
      "r2 is not very high, please double check if you are choosing the correct symbolic function.\n"
     ]
    },
    {
     "name": "stderr",
     "output_type": "stream",
     "text": [
      "train loss: 2.25e-03 | test loss: 3.04e-03 | reg: 3.15e+00 : 100%|██| 50/50 [00:01<00:00, 45.18it/s]\n",
      "/Users/gal.yona/Documents/MSc/Thesis/ImplicitNeuralSurfaces/forked_pykan/pykan/kan/KAN.py:344: UserWarning:\n",
      "\n",
      "std(): degrees of freedom is <= 0. Correction should be strictly less than the reduction factor (input numel divided by output numel). (Triggered internally at /Users/runner/work/pytorch/pytorch/pytorch/aten/src/ATen/native/ReduceOps.cpp:1760.)\n",
      "\n"
     ]
    },
    {
     "name": "stdout",
     "output_type": "stream",
     "text": [
      "-1.32*(-(-x_1 - 0.48)**4 - 0.7*(-x_2 - 0.61)**3 - 0.13)**2\n",
      "Number of vertices: 106712\n",
      "dataset down sampled size: 228\n"
     ]
    },
    {
     "name": "stderr",
     "output_type": "stream",
     "text": [
      "train loss: 1.26e-02 | test loss: 1.43e-02 | reg: 3.41e+00 : 100%|██| 20/20 [00:02<00:00,  9.09it/s]\n",
      "train loss: 2.25e-03 | test loss: 3.10e-03 | reg: 2.89e+00 : 100%|██| 50/50 [00:01<00:00, 47.31it/s]\n"
     ]
    },
    {
     "name": "stdout",
     "output_type": "stream",
     "text": [
      "r2 is 1.0000004768371582\n",
      "r2 is 1.0000004768371582\n",
      "r2 is 0.9997618198394775\n"
     ]
    },
    {
     "name": "stderr",
     "output_type": "stream",
     "text": [
      "train loss: 2.25e-03 | test loss: 3.10e-03 | reg: 3.18e+00 : 100%|██| 50/50 [00:00<00:00, 72.76it/s]\n",
      "/Users/gal.yona/Documents/MSc/Thesis/ImplicitNeuralSurfaces/forked_pykan/pykan/kan/KAN.py:344: UserWarning:\n",
      "\n",
      "std(): degrees of freedom is <= 0. Correction should be strictly less than the reduction factor (input numel divided by output numel). (Triggered internally at /Users/runner/work/pytorch/pytorch/pytorch/aten/src/ATen/native/ReduceOps.cpp:1760.)\n",
      "\n"
     ]
    },
    {
     "name": "stdout",
     "output_type": "stream",
     "text": [
      "-1.28*(-(-x_1 - 0.48)**4 - 0.71*(-x_2 - 0.61)**3 - 0.13)**2\n",
      "sampled_index 181 signature  tensor([[ 1.0996,  0.1509, -5.8069,  2.7875, -0.4500, -4.9388]],\n",
      "       grad_fn=<StackBackward0>)\n",
      "sampled_index 181 signature  tensor([[ 1.0898,  0.1464, -5.6856,  2.9377, -0.4361, -4.9692]],\n",
      "       grad_fn=<StackBackward0>)\n",
      "Number of vertices: 106712\n",
      "dataset full size: 310\n"
     ]
    },
    {
     "name": "stderr",
     "output_type": "stream",
     "text": [
      "train loss: 2.66e-02 | test loss: 2.74e-02 | reg: 3.25e+00 : 100%|██| 20/20 [00:02<00:00,  8.24it/s]\n",
      "train loss: 1.89e-03 | test loss: 4.30e-03 | reg: 3.92e+00 : 100%|██| 50/50 [00:02<00:00, 20.34it/s]\n"
     ]
    },
    {
     "name": "stdout",
     "output_type": "stream",
     "text": [
      "r2 is 0.9998651146888733\n",
      "r2 is 0.6454408168792725\n",
      "r2 is not very high, please double check if you are choosing the correct symbolic function.\n",
      "r2 is 0.8925027847290039\n",
      "r2 is not very high, please double check if you are choosing the correct symbolic function.\n"
     ]
    },
    {
     "name": "stderr",
     "output_type": "stream",
     "text": [
      "train loss: 2.57e-03 | test loss: 4.15e-03 | reg: 4.85e+00 : 100%|██| 50/50 [00:01<00:00, 30.58it/s]\n",
      "/Users/gal.yona/Documents/MSc/Thesis/ImplicitNeuralSurfaces/forked_pykan/pykan/kan/KAN.py:344: UserWarning:\n",
      "\n",
      "std(): degrees of freedom is <= 0. Correction should be strictly less than the reduction factor (input numel divided by output numel). (Triggered internally at /Users/runner/work/pytorch/pytorch/pytorch/aten/src/ATen/native/ReduceOps.cpp:1760.)\n",
      "\n"
     ]
    },
    {
     "name": "stdout",
     "output_type": "stream",
     "text": [
      "-6.16*(-0.21*(-0.68*x_1 - 1)**4 + (-x_2 - 0.11)**3 + 0.21)**2\n",
      "Number of vertices: 106712\n",
      "dataset down sampled size: 249\n"
     ]
    },
    {
     "name": "stderr",
     "output_type": "stream",
     "text": [
      "train loss: 1.81e-02 | test loss: 1.95e-02 | reg: 3.46e+00 : 100%|██| 20/20 [00:02<00:00,  8.55it/s]\n",
      "train loss: 2.54e-03 | test loss: 4.12e-03 | reg: 4.67e+00 : 100%|█| 50/50 [00:00<00:00, 104.69it/s]\n"
     ]
    },
    {
     "name": "stdout",
     "output_type": "stream",
     "text": [
      "r2 is 1.0000004768371582\n",
      "r2 is 1.000000238418579\n",
      "r2 is 0.9995123147964478\n"
     ]
    },
    {
     "name": "stderr",
     "output_type": "stream",
     "text": [
      "train loss: 2.54e-03 | test loss: 4.12e-03 | reg: 4.84e+00 : 100%|██| 50/50 [00:00<00:00, 86.87it/s]\n",
      "/Users/gal.yona/Documents/MSc/Thesis/ImplicitNeuralSurfaces/forked_pykan/pykan/kan/KAN.py:344: UserWarning:\n",
      "\n",
      "std(): degrees of freedom is <= 0. Correction should be strictly less than the reduction factor (input numel divided by output numel). (Triggered internally at /Users/runner/work/pytorch/pytorch/pytorch/aten/src/ATen/native/ReduceOps.cpp:1760.)\n",
      "\n"
     ]
    },
    {
     "name": "stdout",
     "output_type": "stream",
     "text": [
      "-6.15*(-0.2*(-0.68*x_1 - 1)**4 + (-x_2 - 0.11)**3 + 0.2)**2\n",
      "sampled_index 182 signature  tensor([[  1.9251,   0.0380,   0.1644, -13.7207,  -0.3445, -17.6984]],\n",
      "       grad_fn=<StackBackward0>)\n",
      "sampled_index 182 signature  tensor([[  1.9268,   0.0397,   0.1642, -13.7564,  -0.3598, -17.7265]],\n",
      "       grad_fn=<StackBackward0>)\n",
      "Number of vertices: 106712\n",
      "dataset full size: 271\n"
     ]
    },
    {
     "name": "stderr",
     "output_type": "stream",
     "text": [
      "train loss: 3.53e-02 | test loss: 3.66e-02 | reg: 3.62e+00 : 100%|██| 20/20 [00:02<00:00,  7.95it/s]\n",
      "train loss: 1.87e-03 | test loss: 8.59e-02 | reg: 3.26e+00 : 100%|██| 50/50 [00:03<00:00, 15.40it/s]\n"
     ]
    },
    {
     "name": "stdout",
     "output_type": "stream",
     "text": [
      "r2 is 0.9972187280654907\n",
      "r2 is 0.9906384944915771\n",
      "r2 is 0.8918461203575134\n",
      "r2 is not very high, please double check if you are choosing the correct symbolic function.\n"
     ]
    },
    {
     "name": "stderr",
     "output_type": "stream",
     "text": [
      "train loss: 2.48e-03 | test loss: 1.40e-02 | reg: 5.50e+00 : 100%|██| 50/50 [00:00<00:00, 70.05it/s]\n",
      "/Users/gal.yona/Documents/MSc/Thesis/ImplicitNeuralSurfaces/forked_pykan/pykan/kan/KAN.py:344: UserWarning:\n",
      "\n",
      "std(): degrees of freedom is <= 0. Correction should be strictly less than the reduction factor (input numel divided by output numel). (Triggered internally at /Users/runner/work/pytorch/pytorch/pytorch/aten/src/ATen/native/ReduceOps.cpp:1760.)\n",
      "\n"
     ]
    },
    {
     "name": "stdout",
     "output_type": "stream",
     "text": [
      "0.36*(-0.31*(1 - 0.38*x_2)**3 - 0.13*(-0.85*x_1 - 1)**4 + 1)**2 - 0.11\n",
      "Number of vertices: 106712\n",
      "dataset down sampled size: 217\n"
     ]
    },
    {
     "name": "stderr",
     "output_type": "stream",
     "text": [
      "train loss: 3.51e-02 | test loss: 3.57e-02 | reg: 3.64e+00 : 100%|██| 20/20 [00:02<00:00,  9.50it/s]\n",
      "train loss: 2.50e-03 | test loss: 1.36e-02 | reg: 5.33e+00 : 100%|██| 50/50 [00:00<00:00, 84.26it/s]\n"
     ]
    },
    {
     "name": "stdout",
     "output_type": "stream",
     "text": [
      "r2 is 1.0000003576278687\n",
      "r2 is 1.0000003576278687\n",
      "r2 is 1.000000238418579\n"
     ]
    },
    {
     "name": "stderr",
     "output_type": "stream",
     "text": [
      "train loss: 2.50e-03 | test loss: 1.36e-02 | reg: 5.48e+00 : 100%|█| 50/50 [00:00<00:00, 102.25it/s]\n",
      "/Users/gal.yona/Documents/MSc/Thesis/ImplicitNeuralSurfaces/forked_pykan/pykan/kan/KAN.py:344: UserWarning:\n",
      "\n",
      "std(): degrees of freedom is <= 0. Correction should be strictly less than the reduction factor (input numel divided by output numel). (Triggered internally at /Users/runner/work/pytorch/pytorch/pytorch/aten/src/ATen/native/ReduceOps.cpp:1760.)\n",
      "\n"
     ]
    },
    {
     "name": "stdout",
     "output_type": "stream",
     "text": [
      "0.36*(-0.31*(1 - 0.38*x_2)**3 - 0.13*(-0.85*x_1 - 1)**4 + 1)**2 - 0.11\n",
      "sampled_index 183 signature  tensor([[ 0.1583, -0.0072, -0.2571,  0.0983, -0.0969,  0.0581]],\n",
      "       grad_fn=<StackBackward0>)\n",
      "sampled_index 183 signature  tensor([[ 0.1587, -0.0071, -0.2569,  0.1009, -0.0966,  0.0583]],\n",
      "       grad_fn=<StackBackward0>)\n",
      "Number of vertices: 106712\n",
      "dataset full size: 268\n"
     ]
    },
    {
     "name": "stderr",
     "output_type": "stream",
     "text": [
      "train loss: 2.06e-02 | test loss: 2.17e-02 | reg: 3.33e+00 : 100%|██| 20/20 [00:02<00:00,  8.88it/s]\n",
      "train loss: 1.91e-03 | test loss: 3.03e-03 | reg: 5.87e+00 : 100%|██| 50/50 [00:02<00:00, 21.66it/s]\n"
     ]
    },
    {
     "name": "stdout",
     "output_type": "stream",
     "text": [
      "r2 is 0.977867603302002\n",
      "r2 is 0.9734839797019958\n",
      "Best value at boundary.\n",
      "r2 is 0.9761002659797668\n"
     ]
    },
    {
     "name": "stderr",
     "output_type": "stream",
     "text": [
      "train loss: 1.99e-03 | test loss: 3.27e-03 | reg: 5.87e+00 : 100%|██| 50/50 [00:00<00:00, 50.32it/s]\n",
      "/Users/gal.yona/Documents/MSc/Thesis/ImplicitNeuralSurfaces/forked_pykan/pykan/kan/KAN.py:344: UserWarning:\n",
      "\n",
      "std(): degrees of freedom is <= 0. Correction should be strictly less than the reduction factor (input numel divided by output numel). (Triggered internally at /Users/runner/work/pytorch/pytorch/pytorch/aten/src/ATen/native/ReduceOps.cpp:1760.)\n",
      "\n"
     ]
    },
    {
     "name": "stdout",
     "output_type": "stream",
     "text": [
      "18804.31*(-(-x_1 - 0.06)**4 - 0.04*(-x_2 - 0.14)**3)**2\n",
      "Number of vertices: 106712\n",
      "dataset down sampled size: 215\n"
     ]
    },
    {
     "name": "stderr",
     "output_type": "stream",
     "text": [
      "train loss: 2.48e-02 | test loss: 2.58e-02 | reg: 3.25e+00 : 100%|██| 20/20 [00:02<00:00,  7.71it/s]\n",
      "train loss: 2.03e-03 | test loss: 3.26e-03 | reg: 5.81e+00 : 100%|██| 50/50 [00:00<00:00, 63.37it/s]\n"
     ]
    },
    {
     "name": "stdout",
     "output_type": "stream",
     "text": [
      "r2 is 1.0\n",
      "r2 is 1.0000001192092896\n",
      "Best value at boundary.\n",
      "r2 is 0.9790014624595642\n"
     ]
    },
    {
     "name": "stderr",
     "output_type": "stream",
     "text": [
      "train loss: 2.03e-03 | test loss: 3.26e-03 | reg: 5.88e+00 : 100%|██| 50/50 [00:01<00:00, 43.04it/s]\n",
      "/Users/gal.yona/Documents/MSc/Thesis/ImplicitNeuralSurfaces/forked_pykan/pykan/kan/KAN.py:344: UserWarning:\n",
      "\n",
      "std(): degrees of freedom is <= 0. Correction should be strictly less than the reduction factor (input numel divided by output numel). (Triggered internally at /Users/runner/work/pytorch/pytorch/pytorch/aten/src/ATen/native/ReduceOps.cpp:1760.)\n",
      "\n"
     ]
    },
    {
     "name": "stdout",
     "output_type": "stream",
     "text": [
      "18980.32*(-(-x_1 - 0.06)**4 - 0.04*(-x_2 - 0.14)**3)**2\n",
      "sampled_index 184 signature  tensor([[-0.1036, -0.0361, -2.3532,  0.8076, -2.3203,  0.7108]],\n",
      "       grad_fn=<StackBackward0>)\n",
      "sampled_index 184 signature  tensor([[-0.0975, -0.0375, -2.2485,  0.7123, -2.3112,  0.7251]],\n",
      "       grad_fn=<StackBackward0>)\n",
      "Number of vertices: 106712\n",
      "dataset full size: 251\n"
     ]
    },
    {
     "name": "stderr",
     "output_type": "stream",
     "text": [
      "train loss: 1.02e-02 | test loss: 1.08e-02 | reg: 2.68e+00 : 100%|██| 20/20 [00:02<00:00,  7.50it/s]\n",
      "train loss: 1.21e-03 | test loss: 4.88e-03 | reg: 4.30e+00 : 100%|██| 50/50 [00:02<00:00, 22.34it/s]\n"
     ]
    },
    {
     "name": "stdout",
     "output_type": "stream",
     "text": [
      "Best value at boundary.\n",
      "r2 is 0.9964845776557922\n",
      "r2 is 0.7983887791633606\n",
      "r2 is not very high, please double check if you are choosing the correct symbolic function.\n",
      "Best value at boundary.\n",
      "r2 is 0.8753389716148376\n",
      "r2 is not very high, please double check if you are choosing the correct symbolic function.\n"
     ]
    },
    {
     "name": "stderr",
     "output_type": "stream",
     "text": [
      "train loss: 2.23e-03 | test loss: 4.88e-03 | reg: 5.59e+00 : 100%|██| 50/50 [00:01<00:00, 36.15it/s]\n",
      "/Users/gal.yona/Documents/MSc/Thesis/ImplicitNeuralSurfaces/forked_pykan/pykan/kan/KAN.py:344: UserWarning:\n",
      "\n",
      "std(): degrees of freedom is <= 0. Correction should be strictly less than the reduction factor (input numel divided by output numel). (Triggered internally at /Users/runner/work/pytorch/pytorch/pytorch/aten/src/ATen/native/ReduceOps.cpp:1760.)\n",
      "\n"
     ]
    },
    {
     "name": "stdout",
     "output_type": "stream",
     "text": [
      "-130856.57*((0.12 - x_1)**4 + 0.01*(0.16 - x_2)**3)**2\n",
      "Number of vertices: 106712\n",
      "dataset down sampled size: 201\n"
     ]
    },
    {
     "name": "stderr",
     "output_type": "stream",
     "text": [
      "train loss: 8.86e-03 | test loss: 8.63e-03 | reg: 2.78e+00 : 100%|██| 20/20 [00:02<00:00,  9.37it/s]\n",
      "train loss: 2.29e-03 | test loss: 5.49e-03 | reg: 5.20e+00 : 100%|██| 50/50 [00:00<00:00, 50.06it/s]\n"
     ]
    },
    {
     "name": "stdout",
     "output_type": "stream",
     "text": [
      "r2 is 1.0\n",
      "r2 is 1.0000004768371582\n",
      "Best value at boundary.\n",
      "r2 is 0.9999991059303284\n"
     ]
    },
    {
     "name": "stderr",
     "output_type": "stream",
     "text": [
      "train loss: 2.29e-03 | test loss: 5.49e-03 | reg: 5.60e+00 : 100%|██| 50/50 [00:01<00:00, 46.86it/s]\n",
      "/Users/gal.yona/Documents/MSc/Thesis/ImplicitNeuralSurfaces/forked_pykan/pykan/kan/KAN.py:344: UserWarning:\n",
      "\n",
      "std(): degrees of freedom is <= 0. Correction should be strictly less than the reduction factor (input numel divided by output numel). (Triggered internally at /Users/runner/work/pytorch/pytorch/pytorch/aten/src/ATen/native/ReduceOps.cpp:1760.)\n",
      "\n"
     ]
    },
    {
     "name": "stdout",
     "output_type": "stream",
     "text": [
      "-133313.77*((0.12 - x_1)**4 + 0.01*(0.16 - x_2)**3)**2\n",
      "sampled_index 185 signature  tensor([[  7.5095,   3.9867, -16.2031, 379.1218,  32.5213, 410.4249]],\n",
      "       grad_fn=<StackBackward0>)\n",
      "sampled_index 185 signature  tensor([[  7.5526,   3.9783, -17.1616, 387.2539,  32.4967, 423.4767]],\n",
      "       grad_fn=<StackBackward0>)\n",
      "Number of vertices: 106712\n",
      "dataset full size: 280\n"
     ]
    },
    {
     "name": "stderr",
     "output_type": "stream",
     "text": [
      "train loss: 5.60e-02 | test loss: 6.19e-02 | reg: 3.33e+00 : 100%|██| 20/20 [00:02<00:00,  8.30it/s]\n",
      "train loss: 7.14e-03 | test loss: 8.72e-01 | reg: 1.37e+01 : 100%|██| 50/50 [00:02<00:00, 21.26it/s]\n"
     ]
    },
    {
     "name": "stdout",
     "output_type": "stream",
     "text": [
      "r2 is 0.995724618434906\n",
      "r2 is 0.9994904398918152\n",
      "r2 is 0.9519985318183899\n"
     ]
    },
    {
     "name": "stderr",
     "output_type": "stream",
     "text": [
      "train loss: 4.41e-03 | test loss: 1.63e-01 | reg: 2.53e+01 : 100%|██| 50/50 [00:01<00:00, 33.22it/s]\n",
      "/Users/gal.yona/Documents/MSc/Thesis/ImplicitNeuralSurfaces/forked_pykan/pykan/kan/KAN.py:344: UserWarning:\n",
      "\n",
      "std(): degrees of freedom is <= 0. Correction should be strictly less than the reduction factor (input numel divided by output numel). (Triggered internally at /Users/runner/work/pytorch/pytorch/pytorch/aten/src/ATen/native/ReduceOps.cpp:1760.)\n",
      "\n"
     ]
    },
    {
     "name": "stdout",
     "output_type": "stream",
     "text": [
      "4637068.09*(-(0.03 - x_2)**3 + 0.01*(0.24 - x_1)**4)**2 - 0.e-2\n",
      "Number of vertices: 106712\n",
      "dataset down sampled size: 225\n"
     ]
    },
    {
     "name": "stderr",
     "output_type": "stream",
     "text": [
      "train loss: 5.40e-02 | test loss: 5.91e-02 | reg: 3.34e+00 : 100%|██| 20/20 [00:02<00:00,  8.01it/s]\n",
      "train loss: 4.38e-03 | test loss: 1.59e-01 | reg: 2.52e+01 : 100%|██| 50/50 [00:00<00:00, 58.33it/s]\n"
     ]
    },
    {
     "name": "stdout",
     "output_type": "stream",
     "text": [
      "r2 is 1.0000003576278687\n",
      "r2 is 0.999973714351654\n",
      "r2 is 1.000000238418579\n"
     ]
    },
    {
     "name": "stderr",
     "output_type": "stream",
     "text": [
      "train loss: 4.38e-03 | test loss: 1.59e-01 | reg: 2.58e+01 : 100%|██| 50/50 [17:39<00:00, 21.19s/it]\n",
      "/Users/gal.yona/Documents/MSc/Thesis/ImplicitNeuralSurfaces/forked_pykan/pykan/kan/KAN.py:344: UserWarning:\n",
      "\n",
      "std(): degrees of freedom is <= 0. Correction should be strictly less than the reduction factor (input numel divided by output numel). (Triggered internally at /Users/runner/work/pytorch/pytorch/pytorch/aten/src/ATen/native/ReduceOps.cpp:1760.)\n",
      "\n"
     ]
    },
    {
     "name": "stdout",
     "output_type": "stream",
     "text": [
      "4594091.52*(-(0.03 - x_2)**3 + 0.01*(0.24 - x_1)**4)**2 - 0.e-2\n",
      "sampled_index 186 signature  tensor([[  -52.4557,   -46.0821, -2206.3638,  -410.0873,  7733.5884,  -221.4471]],\n",
      "       grad_fn=<StackBackward0>)\n",
      "sampled_index 186 signature  tensor([[  -49.6075,   -47.6706, -2573.6309,  -371.5430,  6184.5190,  -225.7175]],\n",
      "       grad_fn=<StackBackward0>)\n",
      "Number of vertices: 106712\n",
      "dataset full size: 276\n"
     ]
    },
    {
     "name": "stderr",
     "output_type": "stream",
     "text": [
      "train loss: 8.21e-02 | test loss: 8.11e-02 | reg: 2.90e+00 : 100%|██| 20/20 [00:02<00:00,  8.73it/s]\n",
      "train loss: 1.09e-03 | test loss: 2.31e-03 | reg: 1.13e+01 : 100%|██| 50/50 [10:08<00:00, 12.17s/it]\n"
     ]
    },
    {
     "name": "stdout",
     "output_type": "stream",
     "text": [
      "r2 is 0.8927772641181946\n",
      "r2 is not very high, please double check if you are choosing the correct symbolic function.\n",
      "r2 is 0.9871695637702942\n",
      "Best value at boundary.\n",
      "r2 is 0.9617937803268433\n"
     ]
    },
    {
     "name": "stderr",
     "output_type": "stream",
     "text": [
      "train loss: 2.40e-03 | test loss: 2.63e-03 | reg: 1.07e+01 : 100%|██| 50/50 [00:00<00:00, 56.09it/s]\n",
      "/Users/gal.yona/Documents/MSc/Thesis/ImplicitNeuralSurfaces/forked_pykan/pykan/kan/KAN.py:344: UserWarning:\n",
      "\n",
      "std(): degrees of freedom is <= 0. Correction should be strictly less than the reduction factor (input numel divided by output numel). (Triggered internally at /Users/runner/work/pytorch/pytorch/pytorch/aten/src/ATen/native/ReduceOps.cpp:1760.)\n",
      "\n"
     ]
    },
    {
     "name": "stdout",
     "output_type": "stream",
     "text": [
      "0.2 - 13.28*((0.06 - x_1)**4 - 0.04*(0.59 - x_2)**3 + 0.13)**2\n",
      "Number of vertices: 106712\n",
      "dataset down sampled size: 221\n"
     ]
    },
    {
     "name": "stderr",
     "output_type": "stream",
     "text": [
      "train loss: 8.13e-02 | test loss: 8.01e-02 | reg: 3.23e+00 : 100%|██| 20/20 [00:02<00:00,  8.22it/s]\n",
      "train loss: 2.41e-03 | test loss: 2.66e-03 | reg: 1.07e+01 : 100%|██| 50/50 [00:00<00:00, 67.90it/s]\n"
     ]
    },
    {
     "name": "stdout",
     "output_type": "stream",
     "text": [
      "r2 is 0.9999964237213135\n",
      "r2 is 1.000000238418579\n",
      "Best value at boundary.\n",
      "r2 is 0.9997680187225342\n"
     ]
    },
    {
     "name": "stderr",
     "output_type": "stream",
     "text": [
      "train loss: 2.41e-03 | test loss: 2.66e-03 | reg: 1.08e+01 : 100%|██| 50/50 [00:00<00:00, 50.33it/s]\n",
      "/Users/gal.yona/Documents/MSc/Thesis/ImplicitNeuralSurfaces/forked_pykan/pykan/kan/KAN.py:344: UserWarning:\n",
      "\n",
      "std(): degrees of freedom is <= 0. Correction should be strictly less than the reduction factor (input numel divided by output numel). (Triggered internally at /Users/runner/work/pytorch/pytorch/pytorch/aten/src/ATen/native/ReduceOps.cpp:1760.)\n",
      "\n"
     ]
    },
    {
     "name": "stdout",
     "output_type": "stream",
     "text": [
      "2.51 - 2.54*(0.66*(0.06 - x_1)**4 - 0.02*(0.59 - x_2)**3 + 1)**2\n",
      "sampled_index 187 signature  tensor([[-0.1175, -0.0498,  0.1566,  2.2975,  0.0221, -1.6996]],\n",
      "       grad_fn=<StackBackward0>)\n",
      "sampled_index 187 signature  tensor([[-0.1342, -0.0550,  0.3056,  2.3193,  0.0777, -1.8759]],\n",
      "       grad_fn=<StackBackward0>)\n",
      "Number of vertices: 106712\n",
      "dataset full size: 283\n"
     ]
    },
    {
     "name": "stderr",
     "output_type": "stream",
     "text": [
      "train loss: 2.91e-02 | test loss: 3.48e-02 | reg: 3.02e+00 : 100%|██| 20/20 [00:03<00:00,  6.31it/s]\n",
      "train loss: 9.24e-04 | test loss: 4.07e-01 | reg: 4.34e+00 : 100%|██| 50/50 [00:03<00:00, 16.60it/s]\n"
     ]
    },
    {
     "name": "stdout",
     "output_type": "stream",
     "text": [
      "r2 is 0.9998137354850769\n",
      "r2 is 0.9997122287750244\n",
      "r2 is 0.9714981913566589\n"
     ]
    },
    {
     "name": "stderr",
     "output_type": "stream",
     "text": [
      "train loss: 1.82e-03 | test loss: 1.12e-01 | reg: 1.57e+01 : 100%|██| 50/50 [00:01<00:00, 40.59it/s]\n",
      "/Users/gal.yona/Documents/MSc/Thesis/ImplicitNeuralSurfaces/forked_pykan/pykan/kan/KAN.py:344: UserWarning:\n",
      "\n",
      "std(): degrees of freedom is <= 0. Correction should be strictly less than the reduction factor (input numel divided by output numel). (Triggered internally at /Users/runner/work/pytorch/pytorch/pytorch/aten/src/ATen/native/ReduceOps.cpp:1760.)\n",
      "\n"
     ]
    },
    {
     "name": "stdout",
     "output_type": "stream",
     "text": [
      "-3.72*((1 - 0.39*x_1)**4 - 0.8*(1 - 0.38*x_2)**3 - 0.2)**2\n",
      "Number of vertices: 106712\n",
      "dataset down sampled size: 227\n"
     ]
    },
    {
     "name": "stderr",
     "output_type": "stream",
     "text": [
      "train loss: 2.24e-02 | test loss: 1.78e-02 | reg: 3.22e+00 : 100%|██| 20/20 [00:03<00:00,  6.36it/s]\n",
      "train loss: 1.69e-03 | test loss: 1.10e-01 | reg: 1.55e+01 : 100%|██| 50/50 [00:00<00:00, 67.05it/s]\n"
     ]
    },
    {
     "name": "stdout",
     "output_type": "stream",
     "text": [
      "r2 is 1.000000238418579\n",
      "r2 is 1.0000005960464478\n",
      "r2 is 1.0000003576278687\n"
     ]
    },
    {
     "name": "stderr",
     "output_type": "stream",
     "text": [
      "train loss: 1.69e-03 | test loss: 1.10e-01 | reg: 1.57e+01 : 100%|██| 50/50 [00:00<00:00, 66.63it/s]\n",
      "/Users/gal.yona/Documents/MSc/Thesis/ImplicitNeuralSurfaces/forked_pykan/pykan/kan/KAN.py:344: UserWarning:\n",
      "\n",
      "std(): degrees of freedom is <= 0. Correction should be strictly less than the reduction factor (input numel divided by output numel). (Triggered internally at /Users/runner/work/pytorch/pytorch/pytorch/aten/src/ATen/native/ReduceOps.cpp:1760.)\n",
      "\n"
     ]
    },
    {
     "name": "stdout",
     "output_type": "stream",
     "text": [
      "-3.63*((1 - 0.4*x_1)**4 - 0.8*(1 - 0.38*x_2)**3 - 0.19)**2\n",
      "sampled_index 188 signature  tensor([[ 12.1160,  -0.0736,  14.5815, -71.7442,   0.0797, -20.1078]],\n",
      "       grad_fn=<StackBackward0>)\n",
      "sampled_index 188 signature  tensor([[ 12.0156,  -0.0674,  14.5284, -66.7460,   0.0764, -18.9953]],\n",
      "       grad_fn=<StackBackward0>)\n",
      "Number of vertices: 106712\n",
      "dataset full size: 268\n"
     ]
    },
    {
     "name": "stderr",
     "output_type": "stream",
     "text": [
      "train loss: 1.85e-02 | test loss: 2.06e-02 | reg: 3.33e+00 : 100%|██| 20/20 [00:02<00:00,  8.26it/s]\n",
      "train loss: 3.94e-03 | test loss: 1.75e-02 | reg: 2.55e+00 : 100%|██| 50/50 [00:01<00:00, 26.91it/s]\n"
     ]
    },
    {
     "name": "stdout",
     "output_type": "stream",
     "text": [
      "r2 is 0.8312397003173828\n",
      "r2 is not very high, please double check if you are choosing the correct symbolic function.\n",
      "Best value at boundary.\n",
      "r2 is 0.9878625273704529\n",
      "r2 is 0.15211407840251923\n",
      "r2 is not very high, please double check if you are choosing the correct symbolic function.\n"
     ]
    },
    {
     "name": "stderr",
     "output_type": "stream",
     "text": [
      "train loss: 7.73e-03 | test loss: 8.39e-03 | reg: 5.24e+01 : 100%|██| 50/50 [00:01<00:00, 34.66it/s]\n",
      "/Users/gal.yona/Documents/MSc/Thesis/ImplicitNeuralSurfaces/forked_pykan/pykan/kan/KAN.py:344: UserWarning:\n",
      "\n",
      "std(): degrees of freedom is <= 0. Correction should be strictly less than the reduction factor (input numel divided by output numel). (Triggered internally at /Users/runner/work/pytorch/pytorch/pytorch/aten/src/ATen/native/ReduceOps.cpp:1760.)\n",
      "\n"
     ]
    },
    {
     "name": "stdout",
     "output_type": "stream",
     "text": [
      "0.19*(-x_2**3 - 0.37*(0.38 - x_1)**4 + 0.87)**2 - 0.16\n",
      "Number of vertices: 106712\n",
      "dataset down sampled size: 215\n"
     ]
    },
    {
     "name": "stderr",
     "output_type": "stream",
     "text": [
      "train loss: 1.10e-02 | test loss: 1.24e-02 | reg: 3.48e+00 : 100%|██| 20/20 [00:02<00:00,  9.68it/s]\n",
      "train loss: 7.69e-03 | test loss: 8.20e-03 | reg: 5.46e+01 : 100%|██| 50/50 [00:25<00:00,  1.92it/s]\n"
     ]
    },
    {
     "name": "stdout",
     "output_type": "stream",
     "text": [
      "r2 is 1.0000003576278687\n",
      "Best value at boundary.\n",
      "r2 is 0.845167338848114\n",
      "r2 is not very high, please double check if you are choosing the correct symbolic function.\n",
      "Best value at boundary.\n",
      "r2 is 0.995773434638977\n"
     ]
    },
    {
     "name": "stderr",
     "output_type": "stream",
     "text": [
      "train loss: 7.68e-03 | test loss: 8.20e-03 | reg: 5.43e+01 : 100%|██| 50/50 [00:00<00:00, 74.97it/s]\n",
      "/Users/gal.yona/Documents/MSc/Thesis/ImplicitNeuralSurfaces/forked_pykan/pykan/kan/KAN.py:344: UserWarning:\n",
      "\n",
      "std(): degrees of freedom is <= 0. Correction should be strictly less than the reduction factor (input numel divided by output numel). (Triggered internally at /Users/runner/work/pytorch/pytorch/pytorch/aten/src/ATen/native/ReduceOps.cpp:1760.)\n",
      "\n"
     ]
    },
    {
     "name": "stdout",
     "output_type": "stream",
     "text": [
      "1.75*(1 - 0.03*(0.38 - x_1)**4)**2 - 1.76\n",
      "sampled_index 189 signature  tensor([[ 1.0291e-01, -7.8972e-05, -9.9276e-01,  5.2486e-01, -4.0942e-01,\n",
      "         -3.9438e-04]], grad_fn=<StackBackward0>)\n",
      "sampled_index 189 signature  tensor([[ 9.7981e-02,  1.7663e-04, -9.7390e-05,  5.1628e-01, -3.5052e-05,\n",
      "          9.3295e-04]], grad_fn=<StackBackward0>)\n",
      "Number of vertices: 106712\n",
      "dataset full size: 290\n"
     ]
    },
    {
     "name": "stderr",
     "output_type": "stream",
     "text": [
      "train loss: 4.61e-02 | test loss: 4.59e-02 | reg: 2.94e+00 : 100%|██| 20/20 [00:02<00:00,  8.93it/s]\n",
      "train loss: 2.89e-04 | test loss: 6.72e-04 | reg: 1.50e+00 : 100%|██| 50/50 [00:02<00:00, 20.12it/s]\n"
     ]
    },
    {
     "name": "stdout",
     "output_type": "stream",
     "text": [
      "r2 is 0.9999221563339233\n",
      "r2 is 0.3256348669528961\n",
      "r2 is not very high, please double check if you are choosing the correct symbolic function.\n",
      "r2 is 0.6170339584350586\n",
      "r2 is not very high, please double check if you are choosing the correct symbolic function.\n"
     ]
    },
    {
     "name": "stderr",
     "output_type": "stream",
     "text": [
      "train loss: 5.29e-04 | test loss: 6.33e-04 | reg: 1.60e+00 : 100%|██| 50/50 [00:00<00:00, 70.17it/s]\n",
      "/Users/gal.yona/Documents/MSc/Thesis/ImplicitNeuralSurfaces/forked_pykan/pykan/kan/KAN.py:344: UserWarning:\n",
      "\n",
      "std(): degrees of freedom is <= 0. Correction should be strictly less than the reduction factor (input numel divided by output numel). (Triggered internally at /Users/runner/work/pytorch/pytorch/pytorch/aten/src/ATen/native/ReduceOps.cpp:1760.)\n",
      "\n"
     ]
    },
    {
     "name": "stdout",
     "output_type": "stream",
     "text": [
      "-46.27*(-0.02*(-x_1 - 0.38)**4 + (-x_2 - 0.05)**3 + 0.01)**2\n",
      "Number of vertices: 106712\n",
      "dataset down sampled size: 233\n"
     ]
    },
    {
     "name": "stderr",
     "output_type": "stream",
     "text": [
      "train loss: 3.78e-02 | test loss: 3.77e-02 | reg: 2.58e+00 : 100%|██| 20/20 [00:02<00:00,  8.42it/s]\n",
      "train loss: 5.32e-04 | test loss: 5.98e-04 | reg: 1.51e+00 : 100%|██| 50/50 [00:00<00:00, 77.39it/s]\n"
     ]
    },
    {
     "name": "stdout",
     "output_type": "stream",
     "text": [
      "r2 is 1.0000003576278687\n",
      "r2 is 0.9999857544898987\n",
      "Best value at boundary.\n",
      "r2 is 0.9929106831550598\n"
     ]
    },
    {
     "name": "stderr",
     "output_type": "stream",
     "text": [
      "train loss: 5.33e-04 | test loss: 6.05e-04 | reg: 1.60e+00 : 100%|██| 50/50 [00:00<00:00, 70.23it/s]\n",
      "/Users/gal.yona/Documents/MSc/Thesis/ImplicitNeuralSurfaces/forked_pykan/pykan/kan/KAN.py:344: UserWarning:\n",
      "\n",
      "std(): degrees of freedom is <= 0. Correction should be strictly less than the reduction factor (input numel divided by output numel). (Triggered internally at /Users/runner/work/pytorch/pytorch/pytorch/aten/src/ATen/native/ReduceOps.cpp:1760.)\n",
      "\n"
     ]
    },
    {
     "name": "stdout",
     "output_type": "stream",
     "text": [
      "0.02 - 5.13*(-0.02*(-x_1 - 0.38)**4 + (-x_2 - 0.05)**3 + 0.06)**2\n",
      "sampled_index 190 signature  tensor([[-0.0956,  0.0035, -1.6408,  0.0080,  0.0628, -0.0111]],\n",
      "       grad_fn=<StackBackward0>)\n",
      "sampled_index 190 signature  tensor([[-0.0897,  0.0032, -1.7058,  0.0479,  0.0680, -0.0160]],\n",
      "       grad_fn=<StackBackward0>)\n",
      "Number of vertices: 106712\n",
      "dataset full size: 285\n"
     ]
    },
    {
     "name": "stderr",
     "output_type": "stream",
     "text": [
      "train loss: 2.49e-02 | test loss: 2.64e-02 | reg: 3.30e+00 : 100%|██| 20/20 [00:02<00:00,  8.21it/s]\n",
      "train loss: 5.72e-03 | test loss: 8.18e-03 | reg: 2.73e+01 : 100%|██| 50/50 [00:03<00:00, 16.57it/s]\n"
     ]
    },
    {
     "name": "stdout",
     "output_type": "stream",
     "text": [
      "r2 is 0.9964612126350403\n",
      "Best value at boundary.\n",
      "r2 is 0.5390231609344482\n",
      "r2 is not very high, please double check if you are choosing the correct symbolic function.\n",
      "Best value at boundary.\n",
      "r2 is 0.6539373993873596\n",
      "r2 is not very high, please double check if you are choosing the correct symbolic function.\n"
     ]
    },
    {
     "name": "stderr",
     "output_type": "stream",
     "text": [
      "train loss: 7.43e-03 | test loss: 9.03e-03 | reg: 2.94e+01 : 100%|██| 50/50 [05:54<00:00,  7.10s/it]\n",
      "/Users/gal.yona/Documents/MSc/Thesis/ImplicitNeuralSurfaces/forked_pykan/pykan/kan/KAN.py:344: UserWarning:\n",
      "\n",
      "std(): degrees of freedom is <= 0. Correction should be strictly less than the reduction factor (input numel divided by output numel). (Triggered internally at /Users/runner/work/pytorch/pytorch/pytorch/aten/src/ATen/native/ReduceOps.cpp:1760.)\n",
      "\n"
     ]
    },
    {
     "name": "stdout",
     "output_type": "stream",
     "text": [
      "0.09 - 123.83*((0.04 - x_2)**3 - 0.03*(-x_1 - 0.47)**4 + 0.03)**2\n",
      "Number of vertices: 106712\n",
      "dataset down sampled size: 229\n"
     ]
    },
    {
     "name": "stderr",
     "output_type": "stream",
     "text": [
      "train loss: 1.97e-02 | test loss: 2.12e-02 | reg: 3.25e+00 : 100%|██| 20/20 [00:02<00:00,  8.48it/s]\n",
      "train loss: 7.80e-03 | test loss: 9.01e-03 | reg: 2.75e+01 : 100%|██| 50/50 [00:00<00:00, 77.42it/s]\n"
     ]
    },
    {
     "name": "stdout",
     "output_type": "stream",
     "text": [
      "r2 is 1.0000003576278687\n",
      "Best value at boundary.\n",
      "r2 is 0.9999989867210388\n",
      "Best value at boundary.\n",
      "r2 is 0.9999999403953552\n"
     ]
    },
    {
     "name": "stderr",
     "output_type": "stream",
     "text": [
      "train loss: 7.80e-03 | test loss: 9.01e-03 | reg: 2.96e+01 : 100%|██| 50/50 [00:00<00:00, 62.43it/s]\n",
      "/Users/gal.yona/Documents/MSc/Thesis/ImplicitNeuralSurfaces/forked_pykan/pykan/kan/KAN.py:344: UserWarning:\n",
      "\n",
      "std(): degrees of freedom is <= 0. Correction should be strictly less than the reduction factor (input numel divided by output numel). (Triggered internally at /Users/runner/work/pytorch/pytorch/pytorch/aten/src/ATen/native/ReduceOps.cpp:1760.)\n",
      "\n"
     ]
    },
    {
     "name": "stdout",
     "output_type": "stream",
     "text": [
      "0.09 - 124.54*((0.04 - x_2)**3 - 0.03*(-x_1 - 0.47)**4 + 0.03)**2\n",
      "sampled_index 191 signature  tensor([[  0.5759,  -0.9239,   1.0636, -21.3735,   2.4159,  23.4256]],\n",
      "       grad_fn=<StackBackward0>)\n",
      "sampled_index 191 signature  tensor([[  0.5680,  -0.9599,   1.0875, -21.4328,   2.4292,  24.3498]],\n",
      "       grad_fn=<StackBackward0>)\n",
      "Number of vertices: 106712\n",
      "dataset full size: 296\n"
     ]
    },
    {
     "name": "stderr",
     "output_type": "stream",
     "text": [
      "train loss: 1.90e-02 | test loss: 1.90e-02 | reg: 3.53e+00 : 100%|██| 20/20 [00:02<00:00,  8.59it/s]\n",
      "train loss: 3.10e-03 | test loss: 4.75e-03 | reg: 3.00e+00 : 100%|██| 50/50 [00:02<00:00, 24.14it/s]\n"
     ]
    },
    {
     "name": "stdout",
     "output_type": "stream",
     "text": [
      "r2 is 0.8423835635185242\n",
      "r2 is not very high, please double check if you are choosing the correct symbolic function.\n",
      "Best value at boundary.\n",
      "r2 is 0.6914887428283691\n",
      "r2 is not very high, please double check if you are choosing the correct symbolic function.\n",
      "Best value at boundary.\n",
      "r2 is 0.9892768263816833\n"
     ]
    },
    {
     "name": "stderr",
     "output_type": "stream",
     "text": [
      "train loss: 5.07e-03 | test loss: 4.79e-03 | reg: 2.97e+00 : 100%|██| 50/50 [00:00<00:00, 88.35it/s]\n",
      "/Users/gal.yona/Documents/MSc/Thesis/ImplicitNeuralSurfaces/forked_pykan/pykan/kan/KAN.py:344: UserWarning:\n",
      "\n",
      "std(): degrees of freedom is <= 0. Correction should be strictly less than the reduction factor (input numel divided by output numel). (Triggered internally at /Users/runner/work/pytorch/pytorch/pytorch/aten/src/ATen/native/ReduceOps.cpp:1760.)\n",
      "\n"
     ]
    },
    {
     "name": "stdout",
     "output_type": "stream",
     "text": [
      "682.31*(-0.26*(0.06 - x_2)**3 + (0.07 - x_1)**4 + 0.01)**2 - 0.15\n",
      "Number of vertices: 106712\n",
      "dataset down sampled size: 237\n"
     ]
    },
    {
     "name": "stderr",
     "output_type": "stream",
     "text": [
      "train loss: 1.48e-02 | test loss: 1.61e-02 | reg: 3.34e+00 : 100%|██| 20/20 [00:02<00:00,  9.25it/s]\n",
      "train loss: 5.17e-03 | test loss: 4.98e-03 | reg: 2.83e+00 : 100%|██| 50/50 [00:00<00:00, 70.12it/s]\n"
     ]
    },
    {
     "name": "stdout",
     "output_type": "stream",
     "text": [
      "r2 is 0.9999860525131226\n",
      "Best value at boundary.\n",
      "r2 is 0.9999717473983765\n",
      "Best value at boundary.\n",
      "r2 is 0.999591588973999\n"
     ]
    },
    {
     "name": "stderr",
     "output_type": "stream",
     "text": [
      "train loss: 5.17e-03 | test loss: 4.99e-03 | reg: 2.96e+00 : 100%|██| 50/50 [00:00<00:00, 88.35it/s]\n",
      "/Users/gal.yona/Documents/MSc/Thesis/ImplicitNeuralSurfaces/forked_pykan/pykan/kan/KAN.py:344: UserWarning:\n",
      "\n",
      "std(): degrees of freedom is <= 0. Correction should be strictly less than the reduction factor (input numel divided by output numel). (Triggered internally at /Users/runner/work/pytorch/pytorch/pytorch/aten/src/ATen/native/ReduceOps.cpp:1760.)\n",
      "\n"
     ]
    },
    {
     "name": "stdout",
     "output_type": "stream",
     "text": [
      "156.96*(-0.24*(0.06 - x_2)**3 + (0.07 - x_1)**4 + 0.07)**2 - 0.68\n",
      "sampled_index 192 signature  tensor([[  0.4069,  -1.9141, -15.7172, -14.8064, -58.3303,  29.8632]],\n",
      "       grad_fn=<StackBackward0>)\n",
      "sampled_index 192 signature  tensor([[  0.3643,  -1.9386, -16.2822, -14.7500, -58.7037,  31.2667]],\n",
      "       grad_fn=<StackBackward0>)\n",
      "Number of vertices: 106712\n",
      "dataset full size: 278\n"
     ]
    },
    {
     "name": "stderr",
     "output_type": "stream",
     "text": [
      "train loss: 9.23e-03 | test loss: 9.50e-03 | reg: 3.34e+00 : 100%|██| 20/20 [00:02<00:00,  9.14it/s]\n",
      "train loss: 2.15e-03 | test loss: 6.01e-03 | reg: 3.06e+01 : 100%|██| 50/50 [02:28<00:00,  2.98s/it]\n"
     ]
    },
    {
     "name": "stdout",
     "output_type": "stream",
     "text": [
      "Best value at boundary.\n",
      "r2 is 0.6686816215515137\n",
      "r2 is not very high, please double check if you are choosing the correct symbolic function.\n",
      "r2 is 0.7300788164138794\n",
      "r2 is not very high, please double check if you are choosing the correct symbolic function.\n",
      "Best value at boundary.\n",
      "r2 is 0.9503042101860046\n"
     ]
    },
    {
     "name": "stderr",
     "output_type": "stream",
     "text": [
      "train loss: 3.75e-03 | test loss: 4.29e-03 | reg: 6.39e+01 : 100%|██| 50/50 [00:00<00:00, 83.07it/s]\n",
      "/Users/gal.yona/Documents/MSc/Thesis/ImplicitNeuralSurfaces/forked_pykan/pykan/kan/KAN.py:344: UserWarning:\n",
      "\n",
      "std(): degrees of freedom is <= 0. Correction should be strictly less than the reduction factor (input numel divided by output numel). (Triggered internally at /Users/runner/work/pytorch/pytorch/pytorch/aten/src/ATen/native/ReduceOps.cpp:1760.)\n",
      "\n"
     ]
    },
    {
     "name": "stdout",
     "output_type": "stream",
     "text": [
      "9.78 - 176.37*(-(0.02 - x_1)**4 + 0.1*(-x_2 - 0.04)**3 - 0.24)**2\n",
      "Number of vertices: 106712\n",
      "dataset down sampled size: 223\n"
     ]
    },
    {
     "name": "stderr",
     "output_type": "stream",
     "text": [
      "train loss: 9.04e-03 | test loss: 9.44e-03 | reg: 3.36e+00 : 100%|██| 20/20 [00:02<00:00,  8.26it/s]\n",
      "train loss: 3.80e-03 | test loss: 4.30e-03 | reg: 6.36e+01 : 100%|██| 50/50 [00:00<00:00, 72.98it/s]\n"
     ]
    },
    {
     "name": "stdout",
     "output_type": "stream",
     "text": [
      "Best value at boundary.\n",
      "r2 is 0.9556608200073242\n",
      "Best value at boundary.\n",
      "r2 is 0.9953201413154602\n",
      "Best value at boundary.\n",
      "r2 is 0.999304473400116\n"
     ]
    },
    {
     "name": "stderr",
     "output_type": "stream",
     "text": [
      "train loss: 3.79e-03 | test loss: 4.30e-03 | reg: 6.30e+01 : 100%|██| 50/50 [00:00<00:00, 63.97it/s]\n",
      "/Users/gal.yona/Documents/MSc/Thesis/ImplicitNeuralSurfaces/forked_pykan/pykan/kan/KAN.py:344: UserWarning:\n",
      "\n",
      "std(): degrees of freedom is <= 0. Correction should be strictly less than the reduction factor (input numel divided by output numel). (Triggered internally at /Users/runner/work/pytorch/pytorch/pytorch/aten/src/ATen/native/ReduceOps.cpp:1760.)\n",
      "\n"
     ]
    },
    {
     "name": "stdout",
     "output_type": "stream",
     "text": [
      "137.25*(-(0.02 - x_1)**4 + 0.11*(-x_2 - 0.04)**3 + 0.3)**2 - 12.6\n",
      "sampled_index 193 signature  tensor([[ 1.2801,  0.8611, 19.9151, 24.6007, 86.1077, 19.5264]],\n",
      "       grad_fn=<StackBackward0>)\n",
      "sampled_index 193 signature  tensor([[ 1.2801,  0.8619, 19.9357, 26.6908, 86.1850, 21.2160]],\n",
      "       grad_fn=<StackBackward0>)\n",
      "Number of vertices: 106712\n",
      "dataset full size: 274\n"
     ]
    },
    {
     "name": "stderr",
     "output_type": "stream",
     "text": [
      "train loss: 1.13e-02 | test loss: 1.30e-02 | reg: 3.54e+00 : 100%|██| 20/20 [00:02<00:00,  9.23it/s]\n",
      "train loss: 1.69e-03 | test loss: 2.68e-03 | reg: 2.60e+00 : 100%|██| 50/50 [02:03<00:00,  2.47s/it]\n"
     ]
    },
    {
     "name": "stdout",
     "output_type": "stream",
     "text": [
      "r2 is 0.986876368522644\n",
      "r2 is 0.9642926454544067\n",
      "r2 is 0.9445623755455017\n"
     ]
    },
    {
     "name": "stderr",
     "output_type": "stream",
     "text": [
      "train loss: 2.16e-03 | test loss: 3.41e-03 | reg: 3.15e+00 : 100%|██| 50/50 [00:00<00:00, 76.80it/s]\n",
      "/Users/gal.yona/Documents/MSc/Thesis/ImplicitNeuralSurfaces/forked_pykan/pykan/kan/KAN.py:344: UserWarning:\n",
      "\n",
      "std(): degrees of freedom is <= 0. Correction should be strictly less than the reduction factor (input numel divided by output numel). (Triggered internally at /Users/runner/work/pytorch/pytorch/pytorch/aten/src/ATen/native/ReduceOps.cpp:1760.)\n",
      "\n"
     ]
    },
    {
     "name": "stdout",
     "output_type": "stream",
     "text": [
      "-0.9*(-(0.43 - x_2)**3 - 0.77*(-0.35*x_1 - 1)**4 + 0.84)**2\n",
      "Number of vertices: 106712\n",
      "dataset down sampled size: 220\n"
     ]
    },
    {
     "name": "stderr",
     "output_type": "stream",
     "text": [
      "train loss: 2.80e-02 | test loss: 2.75e-02 | reg: 3.36e+00 : 100%|██| 20/20 [00:02<00:00,  9.65it/s]\n",
      "train loss: 2.20e-03 | test loss: 3.45e-03 | reg: 2.66e+00 : 100%|██| 50/50 [00:00<00:00, 89.99it/s]\n"
     ]
    },
    {
     "name": "stdout",
     "output_type": "stream",
     "text": [
      "r2 is 1.0000003576278687\n",
      "r2 is 1.0000004768371582\n",
      "r2 is 0.9999622106552124\n"
     ]
    },
    {
     "name": "stderr",
     "output_type": "stream",
     "text": [
      "train loss: 2.20e-03 | test loss: 3.45e-03 | reg: 3.15e+00 : 100%|██| 50/50 [00:00<00:00, 99.45it/s]\n",
      "/Users/gal.yona/Documents/MSc/Thesis/ImplicitNeuralSurfaces/forked_pykan/pykan/kan/KAN.py:344: UserWarning:\n",
      "\n",
      "std(): degrees of freedom is <= 0. Correction should be strictly less than the reduction factor (input numel divided by output numel). (Triggered internally at /Users/runner/work/pytorch/pytorch/pytorch/aten/src/ATen/native/ReduceOps.cpp:1760.)\n",
      "\n"
     ]
    },
    {
     "name": "stdout",
     "output_type": "stream",
     "text": [
      "-0.89*(-(0.43 - x_2)**3 - 0.76*(-0.35*x_1 - 1)**4 + 0.84)**2\n",
      "sampled_index 194 signature  tensor([[  1.3175,   0.0199,   1.2548,  -7.0755,   0.0271, -13.0288]],\n",
      "       grad_fn=<StackBackward0>)\n",
      "sampled_index 194 signature  tensor([[  1.3140,   0.0152,   1.2288,  -7.0843,   0.0208, -12.9377]],\n",
      "       grad_fn=<StackBackward0>)\n",
      "Number of vertices: 106712\n",
      "dataset full size: 295\n"
     ]
    },
    {
     "name": "stderr",
     "output_type": "stream",
     "text": [
      "train loss: 1.89e-02 | test loss: 2.12e-02 | reg: 3.09e+00 : 100%|██| 20/20 [00:02<00:00,  9.41it/s]\n",
      "train loss: 1.79e-03 | test loss: 3.92e-03 | reg: 9.61e+00 : 100%|██| 50/50 [00:02<00:00, 20.60it/s]\n"
     ]
    },
    {
     "name": "stdout",
     "output_type": "stream",
     "text": [
      "r2 is 0.9825692176818848\n",
      "r2 is 0.845003068447113\n",
      "r2 is not very high, please double check if you are choosing the correct symbolic function.\n",
      "r2 is 0.8121427297592163\n",
      "r2 is not very high, please double check if you are choosing the correct symbolic function.\n"
     ]
    },
    {
     "name": "stderr",
     "output_type": "stream",
     "text": [
      "train loss: 2.52e-03 | test loss: 3.99e-03 | reg: 1.01e+01 : 100%|██| 50/50 [00:00<00:00, 60.87it/s]\n",
      "/Users/gal.yona/Documents/MSc/Thesis/ImplicitNeuralSurfaces/forked_pykan/pykan/kan/KAN.py:344: UserWarning:\n",
      "\n",
      "std(): degrees of freedom is <= 0. Correction should be strictly less than the reduction factor (input numel divided by output numel). (Triggered internally at /Users/runner/work/pytorch/pytorch/pytorch/aten/src/ATen/native/ReduceOps.cpp:1760.)\n",
      "\n"
     ]
    },
    {
     "name": "stdout",
     "output_type": "stream",
     "text": [
      "585.65*(0.15 - x_1)**8\n",
      "Number of vertices: 106712\n",
      "dataset down sampled size: 237\n"
     ]
    },
    {
     "name": "stderr",
     "output_type": "stream",
     "text": [
      "train loss: 2.34e-02 | test loss: 2.56e-02 | reg: 2.95e+00 : 100%|██| 20/20 [00:02<00:00,  9.97it/s]\n",
      "train loss: 2.49e-03 | test loss: 3.89e-03 | reg: 9.83e+00 : 100%|██| 50/50 [00:00<00:00, 99.92it/s]\n"
     ]
    },
    {
     "name": "stdout",
     "output_type": "stream",
     "text": [
      "r2 is 1.0000003576278687\n",
      "r2 is 1.0000003576278687\n",
      "r2 is 0.9980520606040955\n"
     ]
    },
    {
     "name": "stderr",
     "output_type": "stream",
     "text": [
      "train loss: 2.49e-03 | test loss: 3.89e-03 | reg: 1.01e+01 : 100%|██| 50/50 [00:00<00:00, 83.42it/s]\n",
      "/Users/gal.yona/Documents/MSc/Thesis/ImplicitNeuralSurfaces/forked_pykan/pykan/kan/KAN.py:344: UserWarning:\n",
      "\n",
      "std(): degrees of freedom is <= 0. Correction should be strictly less than the reduction factor (input numel divided by output numel). (Triggered internally at /Users/runner/work/pytorch/pytorch/pytorch/aten/src/ATen/native/ReduceOps.cpp:1760.)\n",
      "\n"
     ]
    },
    {
     "name": "stdout",
     "output_type": "stream",
     "text": [
      "581.99*(0.15 - x_1)**8\n",
      "sampled_index 195 signature  tensor([[-0.3321,  0.0185, -9.6405, -0.5311,  0.5752, -0.0469]],\n",
      "       grad_fn=<StackBackward0>)\n",
      "sampled_index 195 signature  tensor([[-0.3302,  0.0182, -9.5783, -0.5232,  0.5646, -0.0460]],\n",
      "       grad_fn=<StackBackward0>)\n",
      "Number of vertices: 106712\n",
      "dataset full size: 349\n"
     ]
    },
    {
     "name": "stderr",
     "output_type": "stream",
     "text": [
      "train loss: 3.60e-02 | test loss: 3.62e-02 | reg: 2.67e+00 : 100%|██| 20/20 [00:02<00:00,  6.92it/s]\n",
      "train loss: 1.15e-03 | test loss: 4.23e-03 | reg: 1.94e+00 : 100%|██| 50/50 [00:01<00:00, 25.14it/s]\n"
     ]
    },
    {
     "name": "stdout",
     "output_type": "stream",
     "text": [
      "r2 is 0.9987669587135315\n",
      "r2 is 1.0\n",
      "r2 is 0.8741305470466614\n",
      "r2 is not very high, please double check if you are choosing the correct symbolic function.\n"
     ]
    },
    {
     "name": "stderr",
     "output_type": "stream",
     "text": [
      "train loss: 3.58e-03 | test loss: 7.32e-03 | reg: 6.43e+00 : 100%|██| 50/50 [00:00<00:00, 61.62it/s]\n",
      "/Users/gal.yona/Documents/MSc/Thesis/ImplicitNeuralSurfaces/forked_pykan/pykan/kan/KAN.py:344: UserWarning:\n",
      "\n",
      "std(): degrees of freedom is <= 0. Correction should be strictly less than the reduction factor (input numel divided by output numel). (Triggered internally at /Users/runner/work/pytorch/pytorch/pytorch/aten/src/ATen/native/ReduceOps.cpp:1760.)\n",
      "\n"
     ]
    },
    {
     "name": "stdout",
     "output_type": "stream",
     "text": [
      "60.32*(0.09*(1 - 0.11*x_1)**4 - (1 - 0.09*x_2)**3 + 0.9)**2\n",
      "Number of vertices: 106712\n",
      "dataset down sampled size: 280\n"
     ]
    },
    {
     "name": "stderr",
     "output_type": "stream",
     "text": [
      "train loss: 3.24e-02 | test loss: 3.30e-02 | reg: 2.63e+00 : 100%|██| 20/20 [00:02<00:00,  7.72it/s]\n",
      "train loss: 3.49e-03 | test loss: 7.27e-03 | reg: 2.16e+00 : 100%|█| 50/50 [00:00<00:00, 100.49it/s]\n"
     ]
    },
    {
     "name": "stdout",
     "output_type": "stream",
     "text": [
      "r2 is 1.0000004768371582\n",
      "r2 is 1.0000003576278687\n",
      "r2 is 1.000000238418579\n"
     ]
    },
    {
     "name": "stderr",
     "output_type": "stream",
     "text": [
      "train loss: 3.49e-03 | test loss: 7.27e-03 | reg: 6.30e+00 : 100%|██| 50/50 [00:00<00:00, 75.37it/s]\n",
      "/Users/gal.yona/Documents/MSc/Thesis/ImplicitNeuralSurfaces/forked_pykan/pykan/kan/KAN.py:344: UserWarning:\n",
      "\n",
      "std(): degrees of freedom is <= 0. Correction should be strictly less than the reduction factor (input numel divided by output numel). (Triggered internally at /Users/runner/work/pytorch/pytorch/pytorch/aten/src/ATen/native/ReduceOps.cpp:1760.)\n",
      "\n"
     ]
    },
    {
     "name": "stdout",
     "output_type": "stream",
     "text": [
      "58.64*(0.09*(1 - 0.11*x_1)**4 - (1 - 0.09*x_2)**3 + 0.9)**2\n",
      "sampled_index 196 signature  tensor([[-4.2746e+00, -7.8507e-02, -2.0605e+01, -2.9222e-01,  2.9955e+00,\n",
      "         -1.6280e-02]], grad_fn=<StackBackward0>)\n",
      "sampled_index 196 signature  tensor([[-4.2764e+00, -7.8295e-02, -2.0521e+01, -2.9565e-01,  3.0001e+00,\n",
      "         -1.6240e-02]], grad_fn=<StackBackward0>)\n",
      "Number of vertices: 106712\n",
      "dataset full size: 284\n"
     ]
    },
    {
     "name": "stderr",
     "output_type": "stream",
     "text": [
      "train loss: 4.71e-02 | test loss: 4.35e-02 | reg: 3.20e+00 : 100%|██| 20/20 [00:02<00:00,  8.20it/s]\n",
      "train loss: 1.47e-03 | test loss: 7.54e-01 | reg: 4.81e+00 : 100%|██| 50/50 [00:02<00:00, 22.15it/s]\n"
     ]
    },
    {
     "name": "stdout",
     "output_type": "stream",
     "text": [
      "r2 is 0.9969691038131714\n",
      "r2 is 0.9984707236289978\n",
      "r2 is 0.8688353300094604\n",
      "r2 is not very high, please double check if you are choosing the correct symbolic function.\n"
     ]
    },
    {
     "name": "stderr",
     "output_type": "stream",
     "text": [
      "train loss: 5.88e-03 | test loss: 7.28e-02 | reg: 6.00e+00 : 100%|██| 50/50 [00:00<00:00, 63.06it/s]\n",
      "/Users/gal.yona/Documents/MSc/Thesis/ImplicitNeuralSurfaces/forked_pykan/pykan/kan/KAN.py:344: UserWarning:\n",
      "\n",
      "std(): degrees of freedom is <= 0. Correction should be strictly less than the reduction factor (input numel divided by output numel). (Triggered internally at /Users/runner/work/pytorch/pytorch/pytorch/aten/src/ATen/native/ReduceOps.cpp:1760.)\n",
      "\n"
     ]
    },
    {
     "name": "stdout",
     "output_type": "stream",
     "text": [
      "0.01 - 3732855.11*(0.03 - x_2)**6\n",
      "Number of vertices: 106712\n",
      "dataset down sampled size: 228\n"
     ]
    },
    {
     "name": "stderr",
     "output_type": "stream",
     "text": [
      "train loss: 4.74e-02 | test loss: 4.40e-02 | reg: 3.22e+00 : 100%|██| 20/20 [00:02<00:00,  8.01it/s]\n",
      "train loss: 3.32e-03 | test loss: 3.06e-02 | reg: 8.91e+00 : 100%|██| 50/50 [00:01<00:00, 49.85it/s]\n"
     ]
    },
    {
     "name": "stdout",
     "output_type": "stream",
     "text": [
      "r2 is 1.0000003576278687\n",
      "r2 is 0.9993751049041748\n",
      "r2 is 0.9999818801879883\n"
     ]
    },
    {
     "name": "stderr",
     "output_type": "stream",
     "text": [
      "train loss: 3.33e-03 | test loss: 3.06e-02 | reg: 2.11e+01 : 100%|██| 50/50 [00:00<00:00, 62.02it/s]\n",
      "/Users/gal.yona/Documents/MSc/Thesis/ImplicitNeuralSurfaces/forked_pykan/pykan/kan/KAN.py:344: UserWarning:\n",
      "\n",
      "std(): degrees of freedom is <= 0. Correction should be strictly less than the reduction factor (input numel divided by output numel). (Triggered internally at /Users/runner/work/pytorch/pytorch/pytorch/aten/src/ATen/native/ReduceOps.cpp:1760.)\n",
      "\n"
     ]
    },
    {
     "name": "stdout",
     "output_type": "stream",
     "text": [
      "0.16 - 33149.07*(0.05 - x_2)**6\n",
      "sampled_index 197 signature  tensor([[  24.7422,   -7.4526, -109.3640,  402.2223, -125.0934, 2591.7146]],\n",
      "       grad_fn=<StackBackward0>)\n",
      "sampled_index 197 signature  tensor([[   6.2282,  -10.1737,    2.6015,  297.2588,   21.0338, -642.0831]],\n",
      "       grad_fn=<StackBackward0>)\n",
      "Number of vertices: 106712\n",
      "dataset full size: 319\n"
     ]
    },
    {
     "name": "stderr",
     "output_type": "stream",
     "text": [
      "train loss: 6.11e-02 | test loss: 5.15e-02 | reg: 3.38e+00 : 100%|██| 20/20 [00:02<00:00,  8.70it/s]\n",
      "train loss: 9.59e-03 | test loss: 9.13e-02 | reg: 1.17e+01 : 100%|██| 50/50 [00:01<00:00, 26.26it/s]\n"
     ]
    },
    {
     "name": "stdout",
     "output_type": "stream",
     "text": [
      "r2 is 0.9116023778915405\n",
      "r2 is 0.9359493255615234\n",
      "r2 is 0.292839914560318\n",
      "r2 is not very high, please double check if you are choosing the correct symbolic function.\n"
     ]
    },
    {
     "name": "stderr",
     "output_type": "stream",
     "text": [
      "train loss: 1.26e-02 | test loss: 2.03e-02 | reg: 1.51e+01 : 100%|██| 50/50 [00:00<00:00, 62.07it/s]\n",
      "/Users/gal.yona/Documents/MSc/Thesis/ImplicitNeuralSurfaces/forked_pykan/pykan/kan/KAN.py:344: UserWarning:\n",
      "\n",
      "std(): degrees of freedom is <= 0. Correction should be strictly less than the reduction factor (input numel divided by output numel). (Triggered internally at /Users/runner/work/pytorch/pytorch/pytorch/aten/src/ATen/native/ReduceOps.cpp:1760.)\n",
      "\n"
     ]
    },
    {
     "name": "stdout",
     "output_type": "stream",
     "text": [
      "1.89 - 1.88*(0.19*(0.1 - x_2)**3 + 0.93*(x_1 - 0.02)**4 + 1)**2\n",
      "Number of vertices: 106712\n",
      "dataset down sampled size: 256\n"
     ]
    },
    {
     "name": "stderr",
     "output_type": "stream",
     "text": [
      "train loss: 6.25e-02 | test loss: 5.34e-02 | reg: 3.23e+00 : 100%|██| 20/20 [00:02<00:00,  8.33it/s]\n",
      "train loss: 1.30e-02 | test loss: 1.99e-02 | reg: 1.45e+01 : 100%|██| 50/50 [00:00<00:00, 97.86it/s]\n"
     ]
    },
    {
     "name": "stdout",
     "output_type": "stream",
     "text": [
      "r2 is 0.9999994039535522\n",
      "r2 is 1.0000003576278687\n",
      "Best value at boundary.\n",
      "r2 is 0.9999826550483704\n"
     ]
    },
    {
     "name": "stderr",
     "output_type": "stream",
     "text": [
      "train loss: 1.30e-02 | test loss: 1.98e-02 | reg: 1.53e+01 : 100%|██| 50/50 [00:00<00:00, 62.50it/s]\n",
      "/Users/gal.yona/Documents/MSc/Thesis/ImplicitNeuralSurfaces/forked_pykan/pykan/kan/KAN.py:344: UserWarning:\n",
      "\n",
      "std(): degrees of freedom is <= 0. Correction should be strictly less than the reduction factor (input numel divided by output numel). (Triggered internally at /Users/runner/work/pytorch/pytorch/pytorch/aten/src/ATen/native/ReduceOps.cpp:1760.)\n",
      "\n"
     ]
    },
    {
     "name": "stdout",
     "output_type": "stream",
     "text": [
      "0.23 - 5.14*((0.02 - x_1)**4 + 0.35*(0.1 - x_2)**3 + 0.21)**2\n",
      "sampled_index 198 signature  tensor([[ 0.2166,  0.0095,  0.9856, -2.1456,  0.8080, -0.0995]],\n",
      "       grad_fn=<StackBackward0>)\n",
      "sampled_index 198 signature  tensor([[ 0.2217,  0.0060,  0.5994, -2.2696,  0.5149, -0.0635]],\n",
      "       grad_fn=<StackBackward0>)\n",
      "Number of vertices: 106712\n",
      "dataset full size: 289\n"
     ]
    },
    {
     "name": "stderr",
     "output_type": "stream",
     "text": [
      "train loss: 3.43e-02 | test loss: 3.39e-02 | reg: 3.04e+00 : 100%|██| 20/20 [00:02<00:00,  9.36it/s]\n",
      "train loss: 3.63e-04 | test loss: 5.14e-03 | reg: 2.04e+00 : 100%|██| 50/50 [00:01<00:00, 38.46it/s]\n"
     ]
    },
    {
     "name": "stdout",
     "output_type": "stream",
     "text": [
      "r2 is 0.9998180270195007\n",
      "r2 is 0.9991840124130249\n",
      "r2 is 0.7428898215293884\n",
      "r2 is not very high, please double check if you are choosing the correct symbolic function.\n"
     ]
    },
    {
     "name": "stderr",
     "output_type": "stream",
     "text": [
      "train loss: 1.06e-03 | test loss: 3.01e-03 | reg: 6.36e+00 : 100%|██| 50/50 [00:01<00:00, 47.84it/s]\n",
      "/Users/gal.yona/Documents/MSc/Thesis/ImplicitNeuralSurfaces/forked_pykan/pykan/kan/KAN.py:344: UserWarning:\n",
      "\n",
      "std(): degrees of freedom is <= 0. Correction should be strictly less than the reduction factor (input numel divided by output numel). (Triggered internally at /Users/runner/work/pytorch/pytorch/pytorch/aten/src/ATen/native/ReduceOps.cpp:1760.)\n",
      "\n"
     ]
    },
    {
     "name": "stdout",
     "output_type": "stream",
     "text": [
      "9944.34*(-x_2 - 0.03)**6\n",
      "Number of vertices: 106712\n",
      "dataset down sampled size: 232\n"
     ]
    },
    {
     "name": "stderr",
     "output_type": "stream",
     "text": [
      "train loss: 3.39e-02 | test loss: 3.36e-02 | reg: 2.43e+00 : 100%|██| 20/20 [00:02<00:00,  9.08it/s]\n",
      "train loss: 1.00e-03 | test loss: 3.16e-03 | reg: 3.42e+00 : 100%|██| 50/50 [00:01<00:00, 46.84it/s]\n"
     ]
    },
    {
     "name": "stdout",
     "output_type": "stream",
     "text": [
      "r2 is 1.0000004768371582\n",
      "r2 is 0.9999987483024597\n",
      "r2 is 0.9999993443489075\n"
     ]
    },
    {
     "name": "stderr",
     "output_type": "stream",
     "text": [
      "train loss: 1.00e-03 | test loss: 3.17e-03 | reg: 4.52e+00 : 100%|██| 50/50 [00:00<00:00, 96.50it/s]\n",
      "/Users/gal.yona/Documents/MSc/Thesis/ImplicitNeuralSurfaces/forked_pykan/pykan/kan/KAN.py:344: UserWarning:\n",
      "\n",
      "std(): degrees of freedom is <= 0. Correction should be strictly less than the reduction factor (input numel divided by output numel). (Triggered internally at /Users/runner/work/pytorch/pytorch/pytorch/aten/src/ATen/native/ReduceOps.cpp:1760.)\n",
      "\n"
     ]
    },
    {
     "name": "stdout",
     "output_type": "stream",
     "text": [
      "7679.63*(-x_2 - 0.03)**6\n",
      "sampled_index 199 signature  tensor([[-1.6576e-01,  8.1827e-03, -1.2954e+01, -6.0469e+00,  2.0300e+00,\n",
      "          8.6867e-03]], grad_fn=<StackBackward0>)\n",
      "sampled_index 199 signature  tensor([[-1.1530e-01, -1.9872e-02,  1.3635e+01,  9.1496e+00, -2.0436e+00,\n",
      "          1.0615e-02]], grad_fn=<StackBackward0>)\n"
     ]
    }
   ],
   "source": [
    "grid_range = 1.0\n",
    "ball_radius = 0.09\n",
    "lr = 1.0\n",
    "\n",
    "\n",
    "signatures_full_sampling = torch.zeros((len(sampled_indices), 6), dtype=torch.float32)\n",
    "signatures_down_sampled = torch.zeros((len(sampled_indices), 6), dtype=torch.float32)\n",
    "for i,sampled_index in enumerate(sampled_indices):\n",
    "    dataset_full_sample = create_dataset_from_mesh(mesh_path=mesh_path, sampled_index=sampled_index, show_sample=False, ball_radius=ball_radius, seed=i, down_sampling_ratio=1.0)\n",
    "    print(\"dataset full size:\" , len(dataset_full_sample[\"train_input\"]))\n",
    "    model_full_sampled = KAN(width=[2, 5, 1], grid=1, k=5, grid_eps=1.0, seed=0, grid_range=[-grid_range, grid_range], noise_scale=0.1, noise_scale_base=0.1, base_fun=torch.nn.SiLU(), learn_rotation_mat=False)\n",
    "    model_full_sampled.train(dataset_full_sample, opt=\"LBFGS\", steps=20, lr=lr, lamb=10.0, lamb_l1=1.0, lamb_entropy=1.0, lamb_coef=0.0, lamb_coefdiff=0.0, sglr_avoid=True, loss_fn=gaussian_weighted_mse)\n",
    "    model_full_sampled = model_full_sampled.prune(threshold=3e-3, mode='manual', active_neurons_id=[[0, 1], [0]])\n",
    "    model_full_sampled.train(dataset_full_sample, opt=\"LBFGS\", steps=50, lr=lr, sglr_avoid=True, loss_fn=gaussian_weighted_mse)\n",
    "     # manual mode\n",
    "    # if nan continue\n",
    "\n",
    "    # fix all\n",
    "    try:\n",
    "        model_full_sampled.fix_symbolic(0, 0, 0, 'x^4')\n",
    "        model_full_sampled.fix_symbolic(0, 1, 0, 'x^3')\n",
    "        model_full_sampled.fix_symbolic(1, 0, 0, 'x^2')\n",
    "    except:\n",
    "        print(\"nan encountered\")\n",
    "        continue\n",
    "\n",
    "\n",
    "    model_full_sampled.train(dataset_full_sample, opt=\"LBFGS\", steps=50, lr=lr, sglr_avoid=True, lamb_coef=0.10, lamb_coefdiff=0.10, loss_fn=gaussian_weighted_mse)\n",
    "\n",
    "    print(model_full_sampled.symbolic_formula()[0][0])\n",
    "    x = torch.tensor([[0.0], [0.0]], requires_grad=True).T\n",
    "\n",
    "    signature_full = calculate_signature(model_full_sampled, x) # only calc sig in the origin\n",
    "\n",
    "\n",
    "    # down sampling\n",
    "\n",
    "    dataset_down_sampled = create_dataset_from_mesh(mesh_path=mesh_path, sampled_index=sampled_index, show_sample=False, ball_radius=ball_radius, seed=i, down_sampling_ratio=0.8)\n",
    "    print(\"dataset down sampled size:\" , len(dataset_down_sampled[\"train_input\"]))\n",
    "    model_down_sampled = KAN(width=[2, 5, 1], grid=1, k=5, grid_eps=1.0, seed=0, grid_range=[-grid_range, grid_range], noise_scale=0.1, noise_scale_base=0.1, base_fun=torch.nn.SiLU(), learn_rotation_mat=False)\n",
    "    model_down_sampled.train(dataset_down_sampled, opt=\"LBFGS\", steps=20, lr=lr, lamb=100.0, lamb_l1=1.0, lamb_entropy=1.0, lamb_coef=0.0, lamb_coefdiff=0.0, sglr_avoid=True, loss_fn=gaussian_weighted_mse)\n",
    "    model_down_sampled = model_full_sampled.prune(threshold=3e-3, mode='manual', active_neurons_id=[[0, 1], [0]])\n",
    "    model_down_sampled.train(dataset_down_sampled, opt=\"LBFGS\", steps=50, lr=lr, sglr_avoid=True, loss_fn=gaussian_weighted_mse)\n",
    "     # manual mode\n",
    "\n",
    "    # fix all\n",
    "    try:\n",
    "        model_down_sampled.fix_symbolic(0, 0, 0, 'x^4')\n",
    "        model_down_sampled.fix_symbolic(0, 1, 0, 'x^3')\n",
    "        model_down_sampled.fix_symbolic(1, 0, 0, 'x^2')\n",
    "    except:\n",
    "        print(\"nan encountered\")\n",
    "        continue\n",
    "\n",
    "    model_down_sampled.train(dataset_down_sampled, opt=\"LBFGS\", steps=50, lr=lr, sglr_avoid=True, lamb_coef=0.10, lamb_coefdiff=0.10, loss_fn=gaussian_weighted_mse)\n",
    "\n",
    "    print(model_down_sampled.symbolic_formula()[0][0])\n",
    "    x = torch.tensor([[0.0], [0.0]], requires_grad=True).T\n",
    "\n",
    "    signature_down_sampled = calculate_signature(model_down_sampled, x) # only calc sig in the origin\n",
    "    # check if signature_full or signature_down_sample is nan\n",
    "    if torch.isnan(signature_full).any(dim=1) or torch.isnan(signature_down_sampled).any(dim=1):\n",
    "        print(\"nan encountered\")\n",
    "        continue\n",
    "\n",
    "    print(\"sampled_index\", i, \"signature \", signature_full)\n",
    "    signatures_full_sampling[i,:] = signature_full\n",
    "    print(\"sampled_index\", i, \"signature \", signature_down_sampled)\n",
    "    signatures_down_sampled[i,:] = signature_down_sampled\n",
    "\n"
   ],
   "metadata": {
    "collapsed": false
   }
  },
  {
   "cell_type": "code",
   "execution_count": 206,
   "outputs": [],
   "source": [
    "indices_full_thrown = torch.isnan(signatures_full_sampling).any(dim=1)\n",
    "indices_full_thrown =torch.concatenate([indices_full_thrown, signatures_full_sampling.norm(dim=1) == 0])\n",
    "indices_down_sampled_thrown = torch.isnan(signatures_down_sampled).any(dim=1)\n",
    "indices_down_sampled_thrown = torch.concatenate([indices_down_sampled_thrown, signatures_down_sampled.norm(dim=1) == 0])\n",
    "\n",
    "# throw 0's\n",
    "signatures_full_sampling = signatures_full_sampling[signatures_full_sampling.norm(dim=1) != 0]\n",
    "signatures_down_sampled = signatures_down_sampled[signatures_down_sampled.norm(dim=1) != 0]\n",
    "# throw nan's\n",
    "signatures_full_sampling = signatures_full_sampling[~torch.isnan(signatures_full_sampling).any(dim=1)]\n",
    "signatures_down_sampled = signatures_down_sampled[~torch.isnan(signatures_down_sampled).any(dim=1)]\n"
   ],
   "metadata": {
    "collapsed": false
   }
  },
  {
   "cell_type": "code",
   "execution_count": 208,
   "outputs": [
    {
     "name": "stdout",
     "output_type": "stream",
     "text": [
      "torch.Size([400])\n",
      "tensor([200, 201, 205, 208, 211, 217, 231, 233, 241, 251, 287, 289, 300, 306,\n",
      "        311, 323, 325, 337, 346, 348, 372])\n",
      "torch.Size([400])\n",
      "tensor([200, 201, 205, 208, 211, 217, 231, 233, 241, 251, 287, 289, 300, 306,\n",
      "        311, 323, 325, 337, 346, 348, 372])\n"
     ]
    }
   ],
   "source": [
    "# indice_thrown indices, not logical\n",
    "# indices_full_thrown = torch.concatenate(indices_full_thrown)\n",
    "print(indices_full_thrown.shape)\n",
    "print(torch.arange(len(indices_full_thrown))[indices_full_thrown])\n",
    "\n",
    "print(indices_down_sampled_thrown.shape)\n",
    "print(torch.arange(len(indices_down_sampled_thrown))[indices_down_sampled_thrown])"
   ],
   "metadata": {
    "collapsed": false
   }
  },
  {
   "cell_type": "code",
   "execution_count": 209,
   "outputs": [
    {
     "name": "stdout",
     "output_type": "stream",
     "text": [
      "tensor([[ 1.1755e-04,  1.0764e-06,  2.6139e-04,  1.0356e-05,  2.1062e-05,\n",
      "          2.0811e-07],\n",
      "        [-1.7858e-04, -2.0987e-06,  1.9456e-03, -1.5406e-06,  2.8783e-06,\n",
      "          3.0782e-06],\n",
      "        [ 2.2794e-02, -6.3087e-06,  1.1474e-05, -2.3884e-03,  1.8209e-04,\n",
      "          1.7922e-06],\n",
      "        ...,\n",
      "        [ 5.8616e-02, -5.3815e-02, -3.4121e-02,  8.1355e-04, -1.6093e-02,\n",
      "          3.4285e-02],\n",
      "        [ 5.1302e-04,  6.8678e-05,  3.0752e-04, -4.3398e-06,  1.0395e-04,\n",
      "         -1.3169e-06],\n",
      "        [-3.9270e-04,  5.9088e-05, -4.0416e-03, -1.2231e-05,  2.6115e-04,\n",
      "          1.1491e-07]], grad_fn=<DivBackward0>)\n",
      "tensor([[ 1.1336e-04,  5.9826e-07,  1.9809e-04,  1.1306e-05,  1.9860e-05,\n",
      "          1.8226e-07],\n",
      "        [-2.0963e-04, -2.7446e-06,  2.0566e-03, -1.7555e-06,  4.6756e-06,\n",
      "          5.3779e-06],\n",
      "        [-1.2233e-03,  4.8712e-04, -6.3483e-03, -2.5446e-06,  4.9162e-04,\n",
      "          4.3218e-05],\n",
      "        ...,\n",
      "        [ 1.5102e-02, -7.1598e-02,  7.7076e-04,  5.9758e-04,  3.3740e-03,\n",
      "         -1.1284e-02],\n",
      "        [ 5.3766e-04,  4.2131e-05,  1.7760e-04, -4.5626e-06,  8.2600e-05,\n",
      "         -1.1156e-06],\n",
      "        [-2.7958e-04, -1.3985e-04,  4.0397e-03,  1.8394e-05, -3.2781e-04,\n",
      "          1.8654e-07]], grad_fn=<DivBackward0>)\n"
     ]
    }
   ],
   "source": [
    "# normalize each entry to 1 in each of the 6 columns of the signature\n",
    "signatures_full_sampling = signatures_full_sampling / torch.norm(signatures_full_sampling, dim=0)\n",
    "signatures_down_sampled = signatures_down_sampled / torch.norm(signatures_down_sampled, dim=0)\n",
    "print(signatures_full_sampling)\n",
    "print(signatures_down_sampled)"
   ],
   "metadata": {
    "collapsed": false
   }
  },
  {
   "cell_type": "code",
   "execution_count": 210,
   "outputs": [
    {
     "name": "stdout",
     "output_type": "stream",
     "text": [
      "tensor([[6.3457e-05, 1.8249e-03, 6.7783e-03,  ..., 7.4096e-02, 4.3498e-04,\n",
      "         3.8177e-03],\n",
      "        [1.7718e-03, 1.1530e-04, 8.3881e-03,  ..., 7.4162e-02, 1.9097e-03,\n",
      "         2.1270e-03],\n",
      "        [2.2808e-02, 2.3218e-02, 2.4966e-02,  ..., 7.3018e-02, 2.2384e-02,\n",
      "         2.3551e-02],\n",
      "        ...,\n",
      "        [9.4510e-02, 9.5394e-02, 9.3536e-02,  ..., 7.6698e-02, 9.4276e-02,\n",
      "         9.6076e-02],\n",
      "        [4.2855e-04, 1.8964e-03, 6.9023e-03,  ..., 7.4078e-02, 1.3655e-04,\n",
      "         3.8455e-03],\n",
      "        [4.2770e-03, 6.1066e-03, 2.4998e-03,  ..., 7.4400e-02, 4.3242e-03,\n",
      "         8.1060e-03]], grad_fn=<ViewBackward0>)\n"
     ]
    }
   ],
   "source": [
    "# measure correspondence according distance between signatures\n",
    "# before normalized each entry to 1\n",
    "\n",
    "distances = torch.cdist(signatures_full_sampling, signatures_down_sampled, p=2)\n",
    "print(distances)\n"
   ],
   "metadata": {
    "collapsed": false
   }
  },
  {
   "cell_type": "code",
   "execution_count": 211,
   "outputs": [
    {
     "name": "stdout",
     "output_type": "stream",
     "text": [
      "tensor([6.3457e-05, 1.1530e-04, 3.6033e-03, 5.5524e-04, 4.5107e-05, 1.4835e-05,\n",
      "        3.8035e-04, 1.2857e-02, 1.8700e-03, 6.1028e-03, 7.8105e-04, 4.1310e-04,\n",
      "        1.0477e-04, 2.5404e-05, 1.7712e-03, 1.5912e-01, 4.7744e-04, 3.8239e-04,\n",
      "        2.3299e-03, 1.4496e-04, 2.0317e-05, 3.3686e-04, 8.5701e-05, 8.7977e-05,\n",
      "        2.8448e-05, 8.2484e-03, 3.6074e-03, 1.1012e-03, 3.0135e-04, 2.0140e-04,\n",
      "        2.8841e-04, 1.3178e-02, 1.6601e-04, 4.0618e-05, 2.7433e-04, 1.4052e-04,\n",
      "        8.4702e-04, 6.4269e-03, 2.7920e-05, 3.1635e-05, 6.0539e-03, 1.0723e-03,\n",
      "        1.5347e-03, 2.0156e-04, 2.9879e-03, 8.9253e-03, 8.3176e-04, 8.3668e-04,\n",
      "        4.7255e-05, 9.9645e-06, 1.4403e-05, 9.5039e-04, 9.8012e-04, 2.4767e-04,\n",
      "        1.7408e-03, 6.6683e-06, 4.4593e-04, 1.9642e-04, 6.7023e-04, 3.2152e-05,\n",
      "        4.4899e-04, 3.5495e-05, 3.5440e-03, 2.9396e-04, 8.7377e-04, 4.0629e-04,\n",
      "        7.3239e-04, 1.3945e-04, 1.3112e-03, 1.3995e-04, 1.8588e-04, 3.5249e-04,\n",
      "        1.0879e-04, 7.2865e-03, 1.9561e-04, 5.9108e-04, 1.6638e-04, 2.7532e-04,\n",
      "        1.6444e-03, 4.6462e-04, 1.3718e-04, 2.5511e-04, 1.3093e-03, 1.8949e-04,\n",
      "        4.3035e-04, 3.2268e-04, 7.5649e-06, 6.3636e-05, 5.8902e-03, 2.3639e-04,\n",
      "        3.4378e-03, 1.5844e-03, 1.3785e-03, 2.1679e-05, 8.4169e-04, 3.0633e-04,\n",
      "        1.4380e-05, 1.5924e-04, 1.2254e-04, 2.0119e-04, 1.0651e-03, 1.2845e-04,\n",
      "        9.9276e-04, 2.1066e-04, 1.7464e-04, 4.3163e-04, 1.1782e-04, 2.4358e-04,\n",
      "        7.4361e-05, 8.6036e-05, 4.6294e-03, 4.1493e-03, 8.0892e-05, 2.5595e-04,\n",
      "        8.9546e-05, 1.0466e-04, 1.0339e-04, 5.5837e-03, 8.6141e-04, 5.6345e-04,\n",
      "        3.0334e-03, 1.8019e-04, 4.4774e-04, 1.1468e-04, 6.8506e-04, 3.3894e-03,\n",
      "        1.2340e-03, 8.6248e-05, 1.2685e-04, 5.6256e-03, 5.3086e-02, 1.1291e-04,\n",
      "        1.8312e-04, 3.1351e-05, 1.5585e-03, 2.4366e-05, 6.8174e-06, 1.1698e-03,\n",
      "        8.0608e-04, 3.9525e-05, 6.3267e-05, 3.4781e-04, 7.1638e-04, 2.3419e-03,\n",
      "        3.4056e-03, 4.9260e-05, 1.3131e-04, 2.2735e-03, 1.0339e-04, 2.9128e-04,\n",
      "        7.2282e-04, 4.8612e-03, 1.0171e-03, 9.1220e-05, 4.6264e-03, 1.4558e-03,\n",
      "        1.4624e-04, 2.1727e-05, 2.6169e-03, 5.0669e-04, 1.4730e-04, 1.3643e-04,\n",
      "        1.1304e-05, 9.9722e-05, 2.4513e-03, 7.4336e-02, 7.0134e-05, 5.0452e-04,\n",
      "        1.0117e-04, 1.1746e-05, 1.6568e-04, 1.9305e-03, 2.7720e-03, 9.6722e-05,\n",
      "        1.7147e-04, 4.3600e-04, 5.6179e-02, 1.3655e-04, 9.6231e-04],\n",
      "       grad_fn=<MinBackward0>)\n",
      "tensor([  0,   1, 122,   3,   4,   5,   6,   7,  82,   9,  10,  11,  12,  13,\n",
      "         14, 147,  16,  17,  18,  19,  20,  21,  22,  23,  24,  25,  26,  27,\n",
      "         28,  29,  30,  31,  32,  33,  34,  35, 115,  37,  38,  39,  40,  41,\n",
      "         42, 112,  44,  45,  46,  47,  48,  49,  50,  51,  52,  53,  54,  55,\n",
      "         56,  57,  58,  59,  60,  61,  62,  63,  64,  65,  66,  67,  94,  69,\n",
      "         70,  71,  72,  73,  74,  75,  76,  77,  78,  79,  80,  81,  82,  83,\n",
      "         84,  85,  86,  87,  88,  89, 149,  91,  92,  93,  85,  95,  96, 135,\n",
      "         98,  99, 100, 101, 102, 103, 153, 105, 106, 107, 108, 109, 110, 111,\n",
      "        112, 136, 114, 115, 116, 117, 118, 119, 120, 121, 122, 123, 124, 125,\n",
      "        126, 127, 128, 129, 130, 131, 132, 133, 134, 135, 136, 156, 138, 139,\n",
      "        140, 141,  98, 143, 144, 145, 146, 147, 148, 149, 150, 151, 152,  72,\n",
      "        154, 155, 156, 157, 158, 159, 160, 161, 162, 163, 164, 165, 166, 167,\n",
      "         96, 169, 170, 171, 172, 173, 174, 175, 129, 177,  74])\n"
     ]
    }
   ],
   "source": [
    "# take minimum distance for each row and assign index which is the closest for each surface\n",
    "min_distances, min_indices = torch.min(distances, dim=1)\n",
    "print(min_distances)\n",
    "print(min_indices)"
   ],
   "metadata": {
    "collapsed": false
   }
  },
  {
   "cell_type": "code",
   "execution_count": 212,
   "outputs": [
    {
     "data": {
      "text/plain": "tensor([[ 1.1755e-04,  1.0764e-06,  2.6139e-04,  1.0356e-05,  2.1062e-05,\n          2.0811e-07],\n        [-1.7858e-04, -2.0987e-06,  1.9456e-03, -1.5406e-06,  2.8783e-06,\n          3.0782e-06],\n        [ 2.2794e-02, -6.3087e-06,  1.1474e-05, -2.3884e-03,  1.8209e-04,\n          1.7922e-06],\n        ...,\n        [ 5.8616e-02, -5.3815e-02, -3.4121e-02,  8.1355e-04, -1.6093e-02,\n          3.4285e-02],\n        [ 5.1302e-04,  6.8678e-05,  3.0752e-04, -4.3398e-06,  1.0395e-04,\n         -1.3169e-06],\n        [-3.9270e-04,  5.9088e-05, -4.0416e-03, -1.2231e-05,  2.6115e-04,\n          1.1491e-07]], grad_fn=<DivBackward0>)"
     },
     "execution_count": 212,
     "metadata": {},
     "output_type": "execute_result"
    }
   ],
   "source": [
    "signatures_full_sampling"
   ],
   "metadata": {
    "collapsed": false
   }
  },
  {
   "cell_type": "code",
   "execution_count": 213,
   "outputs": [
    {
     "data": {
      "text/plain": "tensor([[-1.1530e-01, -1.9872e-02,  1.3635e+01,  9.1496e+00, -2.0436e+00,\n          1.0615e-02]], grad_fn=<StackBackward0>)"
     },
     "execution_count": 213,
     "metadata": {},
     "output_type": "execute_result"
    }
   ],
   "source": [
    "signature_down_sampled"
   ],
   "metadata": {
    "collapsed": false
   }
  },
  {
   "cell_type": "markdown",
   "source": [],
   "metadata": {
    "collapsed": false
   }
  },
  {
   "cell_type": "code",
   "execution_count": 214,
   "outputs": [
    {
     "data": {
      "text/plain": "tensor(0.0018, grad_fn=<LinalgVectorNormBackward0>)"
     },
     "execution_count": 214,
     "metadata": {},
     "output_type": "execute_result"
    }
   ],
   "source": [
    "torch.norm(signatures_full_sampling[0] - signatures_down_sampled[1])"
   ],
   "metadata": {
    "collapsed": false
   }
  },
  {
   "cell_type": "code",
   "execution_count": 215,
   "outputs": [
    {
     "data": {
      "text/plain": "tensor(162)"
     },
     "execution_count": 215,
     "metadata": {},
     "output_type": "execute_result"
    }
   ],
   "source": [
    "# sum all the min_indices whice equal their index, for example if 0 is in 0 index, add 1 to the counter\n",
    "torch.sum(min_indices == torch.arange(len(min_indices)))"
   ],
   "metadata": {
    "collapsed": false
   }
  },
  {
   "cell_type": "code",
   "execution_count": 216,
   "outputs": [
    {
     "name": "stdout",
     "output_type": "stream",
     "text": [
      "i 0 min_distances tensor([4.1864e-06, 7.6287e-06, 1.0544e-04, 2.0510e-06, 1.3914e-05, 1.1615e-05,\n",
      "        1.6859e-07, 1.7860e-04, 1.5554e-05, 1.2581e-04, 1.4674e-05, 1.5079e-06,\n",
      "        4.9497e-06, 1.5451e-06, 1.7438e-04, 1.2259e-04, 1.1596e-04, 1.1129e-04,\n",
      "        1.5582e-03, 7.3380e-05, 1.8201e-05, 1.5355e-05, 1.0126e-05, 2.2175e-05,\n",
      "        1.0126e-05, 2.4561e-04, 2.5590e-05, 1.0343e-05, 9.9237e-05, 8.6753e-06,\n",
      "        9.3229e-05, 2.8962e-04, 1.9192e-05, 1.2006e-05, 6.0886e-05, 7.4463e-05,\n",
      "        9.2154e-06, 6.6322e-04, 1.2206e-05, 6.5727e-06, 1.8916e-04, 2.4202e-05,\n",
      "        9.7820e-05, 2.7139e-05, 1.2028e-03, 1.2234e-03, 1.8532e-04, 1.1364e-05,\n",
      "        9.2690e-06, 2.5302e-06, 1.0241e-05, 4.4985e-06, 4.3800e-06, 6.9716e-05,\n",
      "        2.4613e-05, 8.4294e-08, 0.0000e+00, 7.2501e-05, 8.8376e-06, 5.1426e-06,\n",
      "        2.5536e-04, 5.8157e-06, 4.0766e-05, 1.1680e-06, 6.7435e-07, 3.0864e-05,\n",
      "        2.6716e-05, 7.1344e-05, 7.0525e-07, 2.4558e-05, 1.4893e-05, 2.9301e-05,\n",
      "        5.2109e-06, 2.0008e-03, 4.1287e-06, 1.0546e-04, 6.8039e-05, 5.8788e-06,\n",
      "        1.0129e-04, 2.8586e-05, 2.5232e-06, 7.4551e-05, 3.8147e-06, 2.2238e-06,\n",
      "        6.4681e-05, 5.8400e-07, 7.5036e-06, 5.8432e-05, 3.2621e-05, 1.8267e-05,\n",
      "        1.4180e-06, 7.6277e-04, 5.2235e-06, 1.7577e-05, 3.2900e-05, 5.0805e-05,\n",
      "        5.7369e-06, 2.2595e-06, 7.0242e-06, 2.0230e-06, 7.5133e-05, 2.1710e-05,\n",
      "        6.4286e-05, 9.3265e-05, 1.9493e-05, 8.0629e-05, 1.0458e-05, 8.7460e-05,\n",
      "        8.5032e-06, 1.0949e-05, 1.1707e-04, 7.3427e-05, 3.9031e-06, 1.6553e-05,\n",
      "        5.7220e-06, 1.9733e-05, 1.0331e-04, 7.9103e-05, 1.7759e-04, 4.1951e-05,\n",
      "        2.4414e-05, 1.3041e-05, 3.4896e-04, 5.5608e-06, 4.7506e-04, 1.1359e-04,\n",
      "        9.4316e-04, 1.5407e-05, 1.2562e-05, 2.4062e-03, 0.0000e+00, 1.1680e-06,\n",
      "        2.0359e-05, 6.9674e-06, 7.9160e-04, 2.5761e-06, 4.4681e-06, 4.7684e-06,\n",
      "        2.6860e-04, 3.4342e-05, 1.8372e-05, 1.6967e-04, 2.3336e-05, 4.9181e-05,\n",
      "        2.0435e-05, 1.7688e-05, 5.1302e-06, 3.0309e-04, 6.3361e-07, 1.3698e-05,\n",
      "        7.2473e-06, 2.3708e-05, 6.6416e-05, 9.5741e-06, 6.6934e-05, 2.5536e-05,\n",
      "        2.1325e-06, 1.7499e-05, 5.6468e-05, 2.7876e-04, 5.4784e-06, 3.8668e-05,\n",
      "        6.3674e-06, 8.8635e-06, 5.2343e-04, 3.9816e-03, 1.2331e-06, 4.3192e-04,\n",
      "        5.8083e-06, 8.9619e-06, 1.2993e-05, 1.4105e-06, 1.3984e-05, 1.7140e-05,\n",
      "        1.3935e-05, 1.0179e-04, 2.4807e-03, 5.4966e-06, 7.5432e-06],\n",
      "       grad_fn=<MinBackward0>) min_indices tensor([  0,  20, 122,  89,  69,   5,  55,   7, 103,  75, 150, 150, 109,  13,\n",
      "        125,  92,  16,  17,  44, 119,  20,  21,  29, 171, 177,  25,  46,  85,\n",
      "         28,  29, 101,  40,  35, 100,  34,  99,   2,  37,  38,  97,  40,  41,\n",
      "         42, 171,  44,  45,  40,  32,  48,  74,  50,  51,  12,   8,  54,  38,\n",
      "         54, 107,  58,  59,  60,  93,  62, 142, 143, 149, 150, 119, 144,  69,\n",
      "        149,  82,  72,  73,   1,  17,  76,  88, 176,  79,  80,  81, 137,  83,\n",
      "        126, 171,  86,  87,  88,  89,  38, 117, 145,  93,  85,  17,  96,  20,\n",
      "         33, 131,  98,  29, 102, 103, 157, 102,  69, 107,  89, 109, 110,  25,\n",
      "        112, 136, 114, 115, 116, 138, 118,  47,   2, 121,   7, 161, 124, 125,\n",
      "         84,  76,  57, 129, 130,  76, 132, 133, 164, 135, 136, 151, 138,  97,\n",
      "        108, 152,  29,  64, 104, 121,   5, 147,  49, 115,  80, 121, 152, 153,\n",
      "        103,  92, 114, 157, 158, 147, 156, 116,  52, 163, 164, 165, 178, 167,\n",
      "         96, 169, 170,  23, 121, 172, 174, 111,  15, 109,  59])\n",
      "i 0 sum tensor(73)\n",
      "i 1 min_distances tensor([4.2135e-06, 3.1055e-05, 1.9932e-03, 5.0912e-05, 4.2636e-05, 1.4652e-05,\n",
      "        1.7220e-04, 1.5637e-03, 9.5959e-04, 1.1380e-03, 7.0340e-05, 8.9801e-05,\n",
      "        1.8737e-05, 1.6345e-06, 4.2253e-04, 5.9697e-03, 1.2090e-04, 1.2145e-04,\n",
      "        1.8699e-03, 1.1331e-04, 1.8993e-05, 1.2111e-04, 8.1412e-05, 8.6231e-05,\n",
      "        2.2238e-05, 9.8935e-04, 2.9678e-03, 8.0420e-05, 1.4556e-04, 5.9614e-05,\n",
      "        1.8638e-04, 2.8309e-03, 1.4629e-04, 3.1330e-05, 1.9499e-04, 1.0482e-04,\n",
      "        3.6025e-04, 2.8453e-03, 1.2205e-05, 2.7874e-05, 1.8451e-03, 9.8120e-04,\n",
      "        8.8008e-04, 1.6777e-04, 1.2163e-03, 1.6298e-03, 4.2474e-04, 8.2536e-05,\n",
      "        4.5849e-05, 8.4731e-06, 1.0637e-05, 5.1357e-06, 3.7906e-04, 2.1826e-04,\n",
      "        1.4719e-03, 2.7379e-06, 2.0196e-04, 1.6712e-04, 2.9549e-04, 2.0049e-05,\n",
      "        3.0584e-04, 3.4412e-05, 1.4987e-04, 6.7253e-05, 1.1536e-04, 6.0760e-05,\n",
      "        5.2866e-04, 1.1519e-04, 7.2557e-05, 9.3316e-05, 2.6448e-05, 1.4796e-04,\n",
      "        5.2109e-06, 2.1119e-03, 9.1065e-06, 5.0588e-04, 8.0719e-05, 3.1283e-05,\n",
      "        9.8887e-04, 3.4665e-05, 7.1429e-05, 1.4795e-04, 1.1558e-03, 6.7964e-05,\n",
      "        3.5737e-04, 9.4013e-05, 7.5045e-06, 5.8451e-05, 1.9931e-03, 5.8108e-05,\n",
      "        6.3490e-04, 1.0837e-03, 1.3055e-03, 1.9515e-05, 2.7920e-04, 1.6226e-04,\n",
      "        6.1047e-06, 7.8631e-05, 1.1248e-04, 1.2486e-04, 9.2270e-04, 9.0204e-05,\n",
      "        8.5887e-04, 1.0739e-04, 2.5033e-05, 3.8433e-04, 2.4814e-05, 9.6540e-05,\n",
      "        3.4359e-05, 1.5953e-05, 2.8106e-03, 9.7936e-04, 5.1364e-05, 5.4693e-05,\n",
      "        5.9591e-05, 2.1035e-05, 1.0331e-04, 2.3347e-03, 4.3582e-04, 3.7784e-04,\n",
      "        2.3412e-03, 1.1197e-04, 4.1121e-04, 7.4679e-05, 4.7830e-04, 8.6833e-04,\n",
      "        1.2268e-03, 7.0829e-05, 4.1793e-05, 4.6283e-03, 5.9802e-04, 1.8107e-05,\n",
      "        7.9046e-05, 1.6876e-05, 1.5460e-03, 2.6151e-06, 4.6277e-06, 1.5543e-04,\n",
      "        2.6920e-04, 3.8002e-05, 6.0429e-05, 2.1443e-04, 2.6502e-04, 3.2637e-04,\n",
      "        7.3109e-04, 4.6329e-05, 4.8855e-05, 3.0312e-04, 1.2529e-05, 1.5451e-04,\n",
      "        2.1771e-04, 1.4096e-04, 8.5587e-05, 1.7311e-05, 3.9893e-03, 2.5517e-04,\n",
      "        1.1903e-04, 1.8343e-05, 1.6227e-04, 3.7688e-04, 6.9840e-05, 1.1151e-04,\n",
      "        1.0074e-05, 9.4356e-06, 9.4795e-04, 4.8245e-03, 5.4580e-05, 4.3554e-04,\n",
      "        6.4695e-06, 9.3193e-06, 8.4893e-05, 1.9571e-04, 1.6839e-04, 7.4692e-05,\n",
      "        1.5003e-05, 2.4314e-04, 1.0383e-02, 3.6216e-05, 4.0135e-05],\n",
      "       grad_fn=<MinBackward0>) min_indices tensor([  0,   1, 122,  89,   4,   5,   6,   7,  82,   9,  10,  11,  12,  13,\n",
      "         14,  26,  16,  17,  18,  19,  20,  21,  22,  23,  24,  25,   9,  27,\n",
      "         28,   3,  30,  40,  32,  33,  34,  35,  79,  37,  38,  39,  40,  41,\n",
      "         42, 133,  44,  45,  46, 114,  48,  49,  50,  51,  52,  53,  54,  38,\n",
      "        139, 107,  58,  59,  60,  61, 132,  63,  64,  65,  80,  67,  68,  69,\n",
      "         70,  71,  72,  73,  74,  75,  76,  77,  78,  79,  80,  81,  82,  83,\n",
      "         84,  85,  86,  87,  41,  89,  12,  91,  92,  93,  93,  95,  96,  20,\n",
      "         98,  99, 100, 101, 102, 103, 104, 105, 106, 107, 108, 109, 110, 111,\n",
      "        112,  94, 114, 115, 116, 117, 118, 119,  88, 121, 122, 161, 124, 125,\n",
      "         84, 127, 128, 129, 130, 131, 132, 133, 134, 135, 136, 173, 138, 139,\n",
      "        140, 141,   3, 143,  58, 145, 146, 147,   1, 149,  79,  71, 152, 153,\n",
      "        154, 137, 156, 157, 158, 159, 160, 161, 162, 163, 164, 165, 166, 167,\n",
      "        168, 169, 170, 171, 172, 173, 174, 175, 129, 177,  59])\n",
      "i 1 sum tensor(147)\n",
      "i 2 min_distances tensor([6.3438e-05, 1.1527e-04, 2.3662e-03, 3.4174e-04, 4.5020e-05, 1.4662e-05,\n",
      "        3.2522e-04, 1.5863e-03, 1.3582e-03, 1.1382e-03, 5.1164e-04, 4.1202e-04,\n",
      "        2.1452e-05, 1.0132e-05, 7.1850e-04, 1.5909e-01, 1.2337e-04, 3.5732e-04,\n",
      "        1.9749e-03, 1.3799e-04, 2.0277e-05, 1.6381e-04, 8.4205e-05, 8.6476e-05,\n",
      "        2.2278e-05, 2.0670e-03, 2.9683e-03, 8.5725e-05, 1.9106e-04, 1.7302e-04,\n",
      "        2.6724e-04, 8.6820e-03, 1.6069e-04, 3.9066e-05, 2.3797e-04, 1.0482e-04,\n",
      "        8.4077e-04, 5.1332e-03, 2.1576e-05, 3.1340e-05, 1.8857e-03, 9.9939e-04,\n",
      "        1.0476e-03, 2.0053e-04, 2.0988e-03, 4.7384e-03, 4.4006e-04, 8.1329e-04,\n",
      "        4.7059e-05, 9.4717e-06, 1.3952e-05, 1.8883e-04, 4.1675e-04, 2.3843e-04,\n",
      "        1.4725e-03, 6.6555e-06, 4.1534e-04, 1.8732e-04, 4.3459e-04, 3.2087e-05,\n",
      "        4.0067e-04, 3.4418e-05, 1.8480e-03, 1.2002e-04, 8.2240e-04, 2.1176e-04,\n",
      "        7.3235e-04, 1.2123e-04, 9.2274e-04, 1.3381e-04, 1.5830e-04, 1.5974e-04,\n",
      "        1.0216e-04, 2.4754e-03, 1.3621e-04, 5.4720e-04, 1.0403e-04, 2.7323e-04,\n",
      "        1.5971e-03, 4.5409e-04, 1.0801e-04, 1.6310e-04, 1.1833e-03, 1.6263e-04,\n",
      "        3.6459e-04, 1.0940e-04, 7.5611e-06, 6.1054e-05, 2.0060e-03, 7.1773e-05,\n",
      "        2.6652e-03, 1.1111e-03, 1.3399e-03, 2.0138e-05, 5.9565e-04, 3.0529e-04,\n",
      "        1.4357e-05, 1.5445e-04, 1.1259e-04, 1.2758e-04, 1.0626e-03, 1.2127e-04,\n",
      "        8.8494e-04, 1.6124e-04, 1.5990e-04, 3.9805e-04, 1.1038e-04, 2.3769e-04,\n",
      "        5.7399e-05, 5.9751e-05, 2.8240e-03, 1.1307e-03, 7.0899e-05, 1.5418e-04,\n",
      "        8.5080e-05, 1.0443e-04, 1.0336e-04, 3.1825e-03, 5.2492e-04, 3.8265e-04,\n",
      "        2.9537e-03, 1.2031e-04, 4.1585e-04, 9.7434e-05, 4.9091e-04, 1.0810e-03,\n",
      "        1.2314e-03, 8.5043e-05, 9.9301e-05, 4.6318e-03, 4.9929e-02, 1.8492e-05,\n",
      "        1.6607e-04, 2.4840e-05, 1.5530e-03, 2.4094e-05, 5.8034e-06, 1.1337e-03,\n",
      "        2.7959e-04, 3.8114e-05, 6.0650e-05, 2.3400e-04, 6.7991e-04, 1.1448e-03,\n",
      "        3.0815e-03, 4.7426e-05, 4.9214e-05, 2.2734e-03, 1.0338e-04, 2.7496e-04,\n",
      "        7.1358e-04, 2.2686e-03, 7.6217e-04, 8.2170e-05, 3.9907e-03, 1.4448e-03,\n",
      "        1.2278e-04, 2.1543e-05, 3.0618e-04, 4.3268e-04, 1.4515e-04, 1.1155e-04,\n",
      "        1.0887e-05, 6.8666e-05, 9.4838e-04, 7.4273e-02, 6.8675e-05, 4.9977e-04,\n",
      "        8.8413e-05, 1.1397e-05, 8.5448e-05, 2.1133e-04, 3.5020e-04, 7.9562e-05,\n",
      "        1.7067e-04, 4.2532e-04, 2.4777e-02, 1.3487e-04, 4.8297e-04],\n",
      "       grad_fn=<MinBackward0>) min_indices tensor([  0,   1, 122,   3,   4,   5,   6,   7,  82,   9,  10,  11,  12,  13,\n",
      "         14, 147,  16,  17,  18,  19,  20,  21,  22,  23,  24,  25,   9,  27,\n",
      "         28,  29,  30,  40,  32,  33,  34,  35, 115,  37,  38,  39,  40,  41,\n",
      "         42, 112,  44,  45,  46, 156,  48,  49,  50,  51,  52,  53,  54,  55,\n",
      "         56,  57,  58,  59,  60,  61,  62,  63,  64,  65,  66,  67,  94,  69,\n",
      "         70,  71,  72,  73,  74,  75,  76,  77,  78,  79,  80,  81,  82,  83,\n",
      "         84,  85,  86,  87,  41,  89,  27,  91,  92,  93,  85,  95,  96, 135,\n",
      "         98,  99, 100, 101, 102, 103, 153, 105, 106, 107, 108, 109, 110, 111,\n",
      "        112, 136, 114, 115, 116, 117, 118, 119, 120, 121, 122, 123, 124, 125,\n",
      "        126, 127, 128, 129, 130, 131, 132, 133, 134, 135, 136, 156, 138, 139,\n",
      "        140, 141,  98, 143, 144, 145, 146, 147, 148, 149, 150, 151, 152,  72,\n",
      "        154, 155, 156, 157, 158, 159, 160, 161, 162, 163, 164, 165, 166, 167,\n",
      "         96, 169, 170, 171, 172, 173, 174, 175, 129, 177,  74])\n",
      "i 2 sum tensor(158)\n",
      "i 3 min_distances tensor([6.3445e-05, 1.1527e-04, 3.5353e-03, 3.4174e-04, 4.5020e-05, 1.4663e-05,\n",
      "        3.2522e-04, 1.5864e-03, 1.3584e-03, 1.1383e-03, 5.1164e-04, 4.1202e-04,\n",
      "        2.1410e-05, 1.0141e-05, 7.1850e-04, 1.5911e-01, 1.2361e-04, 3.5733e-04,\n",
      "        1.9751e-03, 1.3799e-04, 2.0277e-05, 1.6372e-04, 8.4219e-05, 8.6477e-05,\n",
      "        2.2278e-05, 2.0670e-03, 3.2136e-03, 8.5788e-05, 1.9113e-04, 1.7302e-04,\n",
      "        2.6725e-04, 8.6843e-03, 1.6069e-04, 3.9060e-05, 2.3797e-04, 1.0482e-04,\n",
      "        8.4080e-04, 5.1332e-03, 2.1576e-05, 3.1340e-05, 1.8856e-03, 9.9939e-04,\n",
      "        1.0477e-03, 2.0055e-04, 2.1015e-03, 4.7390e-03, 4.4007e-04, 8.1767e-04,\n",
      "        4.7059e-05, 9.4717e-06, 1.3952e-05, 1.8883e-04, 4.1675e-04, 2.3843e-04,\n",
      "        1.4725e-03, 6.6555e-06, 4.1537e-04, 1.8732e-04, 4.3461e-04, 3.2087e-05,\n",
      "        4.0065e-04, 3.4418e-05, 1.8480e-03, 1.2002e-04, 8.2240e-04, 2.1176e-04,\n",
      "        7.3235e-04, 1.2123e-04, 9.2735e-04, 1.3381e-04, 1.5830e-04, 1.5975e-04,\n",
      "        1.0216e-04, 2.4754e-03, 1.3621e-04, 5.4720e-04, 1.0403e-04, 2.7323e-04,\n",
      "        1.5973e-03, 4.5409e-04, 1.0801e-04, 1.6310e-04, 1.1833e-03, 1.6263e-04,\n",
      "        3.6459e-04, 1.0941e-04, 7.5649e-06, 6.1054e-05, 2.0064e-03, 7.1779e-05,\n",
      "        2.6654e-03, 1.1111e-03, 1.3399e-03, 2.0138e-05, 6.0011e-04, 3.0530e-04,\n",
      "        1.4357e-05, 1.5445e-04, 1.1259e-04, 1.2758e-04, 1.0626e-03, 1.2127e-04,\n",
      "        8.8494e-04, 1.6125e-04, 1.5998e-04, 3.9806e-04, 1.1038e-04, 2.3769e-04,\n",
      "        5.7399e-05, 5.9752e-05, 2.8240e-03, 1.1307e-03, 7.0900e-05, 1.7021e-04,\n",
      "        8.5083e-05, 1.0443e-04, 1.0336e-04, 3.1825e-03, 5.2492e-04, 3.8264e-04,\n",
      "        2.9537e-03, 1.2032e-04, 4.1592e-04, 9.7424e-05, 4.9091e-04, 1.0810e-03,\n",
      "        1.2334e-03, 8.5043e-05, 9.9306e-05, 4.6589e-03, 4.9929e-02, 1.8517e-05,\n",
      "        1.6607e-04, 2.4853e-05, 1.5539e-03, 2.4093e-05, 5.8034e-06, 1.1355e-03,\n",
      "        2.7954e-04, 3.8113e-05, 6.0650e-05, 2.3400e-04, 6.8071e-04, 1.1448e-03,\n",
      "        3.0815e-03, 4.7426e-05, 4.9676e-05, 2.2734e-03, 1.0338e-04, 2.7496e-04,\n",
      "        7.1358e-04, 2.2686e-03, 7.6217e-04, 8.2287e-05, 3.9907e-03, 1.4451e-03,\n",
      "        1.2278e-04, 2.1543e-05, 3.0618e-04, 4.3268e-04, 1.4515e-04, 1.1154e-04,\n",
      "        1.0887e-05, 6.8667e-05, 9.4844e-04, 7.4273e-02, 6.8675e-05, 4.9983e-04,\n",
      "        8.8471e-05, 1.1397e-05, 8.5448e-05, 2.1133e-04, 3.5023e-04, 7.9562e-05,\n",
      "        1.7067e-04, 4.2532e-04, 2.5770e-02, 1.3487e-04, 4.8313e-04],\n",
      "       grad_fn=<MinBackward0>) min_indices tensor([  0,   1, 122,   3,   4,   5,   6,   7,  82,   9,  10,  11,  12,  13,\n",
      "         14, 147,  16,  17,  18,  19,  20,  21,  22,  23,  24,  25,   9,  27,\n",
      "         28,  29,  30,  40,  32,  33,  34,  35, 115,  37,  38,  39,  40,  41,\n",
      "         42, 112,  44,  45,  46, 156,  48,  49,  50,  51,  52,  53,  54,  55,\n",
      "         56,  57,  58,  59,  60,  61,  62,  63,  64,  65,  66,  67,  94,  69,\n",
      "         70,  71,  72,  73,  74,  75,  76,  77,  78,  79,  80,  81,  82,  83,\n",
      "         84,  85,  86,  87,  41,  89,  27,  91,  92,  93,  85,  95,  96, 135,\n",
      "         98,  99, 100, 101, 102, 103, 153, 105, 106, 107, 108, 109, 110, 111,\n",
      "        112, 136, 114, 115, 116, 117, 118, 119, 120, 121, 122, 123, 124, 125,\n",
      "        126, 127, 128, 129, 130, 131, 132, 133, 134, 135, 136, 156, 138, 139,\n",
      "        140, 141,  98, 143, 144, 145, 146, 147, 148, 149, 150, 151, 152,  72,\n",
      "        154, 155, 156, 157, 158, 159, 160, 161, 162, 163, 164, 165, 166, 167,\n",
      "         96, 169, 170, 171, 172, 173, 174, 175, 129, 177,  74])\n",
      "i 3 sum tensor(158)\n",
      "i 4 min_distances tensor([6.3457e-05, 1.1528e-04, 3.5412e-03, 5.5492e-04, 4.5084e-05, 1.4780e-05,\n",
      "        3.8034e-04, 1.2400e-02, 1.8293e-03, 2.4570e-03, 7.8104e-04, 4.1310e-04,\n",
      "        9.3606e-05, 2.5387e-05, 1.7699e-03, 1.5911e-01, 4.7697e-04, 3.5734e-04,\n",
      "        1.9753e-03, 1.3923e-04, 2.0317e-05, 3.2445e-04, 8.5165e-05, 8.7757e-05,\n",
      "        2.7592e-05, 8.2477e-03, 3.5713e-03, 1.1004e-03, 2.2061e-04, 2.0008e-04,\n",
      "        2.8836e-04, 1.3109e-02, 1.6140e-04, 3.9838e-05, 2.7427e-04, 1.4055e-04,\n",
      "        8.4122e-04, 6.4269e-03, 2.7920e-05, 3.1631e-05, 5.7271e-03, 1.0706e-03,\n",
      "        1.5334e-03, 2.0056e-04, 2.1034e-03, 4.7409e-03, 4.4009e-04, 8.1797e-04,\n",
      "        4.7250e-05, 9.9631e-06, 1.4402e-05, 9.5004e-04, 9.7220e-04, 2.3865e-04,\n",
      "        1.7404e-03, 6.6576e-06, 4.4563e-04, 1.9642e-04, 6.6886e-04, 3.2150e-05,\n",
      "        4.0071e-04, 3.5466e-05, 3.5339e-03, 2.9097e-04, 8.4674e-04, 4.0612e-04,\n",
      "        7.3239e-04, 1.2220e-04, 1.2866e-03, 1.3576e-04, 1.8586e-04, 3.3489e-04,\n",
      "        1.0879e-04, 2.4754e-03, 1.9561e-04, 5.4882e-04, 1.5689e-04, 2.7533e-04,\n",
      "        1.5973e-03, 4.6318e-04, 1.3694e-04, 1.6421e-04, 1.3035e-03, 1.8949e-04,\n",
      "        3.6461e-04, 3.2208e-04, 7.5649e-06, 6.1087e-05, 5.8581e-03, 2.3472e-04,\n",
      "        3.4358e-03, 1.5844e-03, 1.3522e-03, 2.0253e-05, 8.4092e-04, 3.0532e-04,\n",
      "        1.4373e-05, 1.5924e-04, 1.1605e-04, 1.8555e-04, 1.0627e-03, 1.2461e-04,\n",
      "        8.9182e-04, 1.6130e-04, 1.7451e-04, 4.0076e-04, 1.1767e-04, 2.4358e-04,\n",
      "        7.4220e-05, 8.5571e-05, 4.6217e-03, 4.1491e-03, 8.0891e-05, 1.7021e-04,\n",
      "        8.5086e-05, 1.0466e-04, 1.0336e-04, 5.5837e-03, 8.6136e-04, 5.5719e-04,\n",
      "        2.9853e-03, 1.7887e-04, 4.1599e-04, 9.7452e-05, 4.9977e-04, 3.3894e-03,\n",
      "        1.2340e-03, 8.5075e-05, 1.2684e-04, 4.6658e-03, 5.3088e-02, 1.0288e-04,\n",
      "        1.8301e-04, 3.1280e-05, 1.5584e-03, 2.4366e-05, 6.8096e-06, 1.1356e-03,\n",
      "        8.0607e-04, 3.9103e-05, 6.3224e-05, 3.4781e-04, 7.0777e-04, 2.3393e-03,\n",
      "        3.4044e-03, 4.9269e-05, 4.9954e-05, 2.2735e-03, 1.0339e-04, 2.9128e-04,\n",
      "        7.2282e-04, 4.8605e-03, 1.0170e-03, 9.1122e-05, 4.6234e-03, 1.4457e-03,\n",
      "        1.2289e-04, 2.1716e-05, 2.6157e-03, 5.0661e-04, 1.4565e-04, 1.1235e-04,\n",
      "        1.1300e-05, 9.9666e-05, 1.3994e-03, 7.4328e-02, 6.9346e-05, 4.9989e-04,\n",
      "        1.0115e-04, 1.1744e-05, 1.1625e-04, 1.9243e-03, 2.7697e-03, 7.9556e-05,\n",
      "        1.7148e-04, 4.3600e-04, 3.0165e-02, 1.3655e-04, 9.6231e-04],\n",
      "       grad_fn=<MinBackward0>) min_indices tensor([  0,   1, 122,   3,   4,   5,   6,   7,  82,   9,  10,  11,  12,  13,\n",
      "         14, 147,  16,  17,  18,  19,  20,  21,  22,  23,  24,  25,  26,  27,\n",
      "         28,  29,  30,  31,  32,  33,  34,  35, 115,  37,  38,  39,  40,  41,\n",
      "         42, 112,  44,  45,  46, 156,  48,  49,  50,  51,  52,  53,  54,  55,\n",
      "         56,  57,  58,  59,  60,  61,  62,  63,  64,  65,  66,  67,  94,  69,\n",
      "         70,  71,  72,  73,  74,  75,  76,  77,  78,  79,  80,  81,  82,  83,\n",
      "         84,  85,  86,  87,  88,  89, 149,  91,  92,  93,  85,  95,  96, 135,\n",
      "         98,  99, 100, 101, 102, 103, 153, 105, 106, 107, 108, 109, 110, 111,\n",
      "        112, 136, 114, 115, 116, 117, 118, 119, 120, 121, 122, 123, 124, 125,\n",
      "        126, 127, 128, 129, 130, 131, 132, 133, 134, 135, 136, 156, 138, 139,\n",
      "        140, 141, 140, 143, 144, 145, 146, 147, 148, 149, 150, 151, 152,  72,\n",
      "        154, 155, 156, 157, 158, 159, 160, 161, 162, 163, 164, 165, 166, 167,\n",
      "         96, 169, 170, 171, 172, 173, 174, 175, 129, 177,  74])\n",
      "i 4 sum tensor(161)\n",
      "i 5 min_distances tensor([6.3457e-05, 1.1530e-04, 3.6033e-03, 5.5524e-04, 4.5107e-05, 1.4835e-05,\n",
      "        3.8035e-04, 1.2857e-02, 1.8700e-03, 6.1028e-03, 7.8105e-04, 4.1310e-04,\n",
      "        1.0477e-04, 2.5404e-05, 1.7712e-03, 1.5912e-01, 4.7744e-04, 3.8239e-04,\n",
      "        2.3299e-03, 1.4496e-04, 2.0317e-05, 3.3686e-04, 8.5701e-05, 8.7977e-05,\n",
      "        2.8448e-05, 8.2484e-03, 3.6074e-03, 1.1012e-03, 3.0135e-04, 2.0140e-04,\n",
      "        2.8841e-04, 1.3178e-02, 1.6601e-04, 4.0618e-05, 2.7433e-04, 1.4052e-04,\n",
      "        8.4702e-04, 6.4269e-03, 2.7920e-05, 3.1635e-05, 6.0539e-03, 1.0723e-03,\n",
      "        1.5347e-03, 2.0156e-04, 2.9879e-03, 8.9253e-03, 8.3176e-04, 8.3668e-04,\n",
      "        4.7255e-05, 9.9645e-06, 1.4403e-05, 9.5039e-04, 9.8012e-04, 2.4767e-04,\n",
      "        1.7408e-03, 6.6683e-06, 4.4593e-04, 1.9642e-04, 6.7023e-04, 3.2152e-05,\n",
      "        4.4899e-04, 3.5495e-05, 3.5440e-03, 2.9396e-04, 8.7377e-04, 4.0629e-04,\n",
      "        7.3239e-04, 1.3945e-04, 1.3112e-03, 1.3995e-04, 1.8588e-04, 3.5249e-04,\n",
      "        1.0879e-04, 7.2865e-03, 1.9561e-04, 5.9108e-04, 1.6638e-04, 2.7532e-04,\n",
      "        1.6444e-03, 4.6462e-04, 1.3718e-04, 2.5511e-04, 1.3093e-03, 1.8949e-04,\n",
      "        4.3035e-04, 3.2268e-04, 7.5649e-06, 6.3636e-05, 5.8902e-03, 2.3639e-04,\n",
      "        3.4378e-03, 1.5844e-03, 1.3785e-03, 2.1679e-05, 8.4169e-04, 3.0633e-04,\n",
      "        1.4380e-05, 1.5924e-04, 1.2254e-04, 2.0119e-04, 1.0651e-03, 1.2845e-04,\n",
      "        9.9276e-04, 2.1066e-04, 1.7464e-04, 4.3163e-04, 1.1782e-04, 2.4358e-04,\n",
      "        7.4361e-05, 8.6036e-05, 4.6294e-03, 4.1493e-03, 8.0892e-05, 2.5595e-04,\n",
      "        8.9546e-05, 1.0466e-04, 1.0339e-04, 5.5837e-03, 8.6141e-04, 5.6345e-04,\n",
      "        3.0334e-03, 1.8019e-04, 4.4774e-04, 1.1468e-04, 6.8506e-04, 3.3894e-03,\n",
      "        1.2340e-03, 8.6248e-05, 1.2685e-04, 5.6256e-03, 5.3086e-02, 1.1291e-04,\n",
      "        1.8312e-04, 3.1351e-05, 1.5585e-03, 2.4366e-05, 6.8174e-06, 1.1698e-03,\n",
      "        8.0608e-04, 3.9525e-05, 6.3267e-05, 3.4781e-04, 7.1638e-04, 2.3419e-03,\n",
      "        3.4056e-03, 4.9260e-05, 1.3131e-04, 2.2735e-03, 1.0339e-04, 2.9128e-04,\n",
      "        7.2282e-04, 4.8612e-03, 1.0171e-03, 9.1220e-05, 4.6264e-03, 1.4558e-03,\n",
      "        1.4624e-04, 2.1727e-05, 2.6169e-03, 5.0669e-04, 1.4730e-04, 1.3643e-04,\n",
      "        1.1304e-05, 9.9722e-05, 2.4513e-03, 7.4336e-02, 7.0134e-05, 5.0452e-04,\n",
      "        1.0117e-04, 1.1746e-05, 1.6568e-04, 1.9305e-03, 2.7720e-03, 9.6722e-05,\n",
      "        1.7147e-04, 4.3600e-04, 5.6179e-02, 1.3655e-04, 9.6231e-04],\n",
      "       grad_fn=<MinBackward0>) min_indices tensor([  0,   1, 122,   3,   4,   5,   6,   7,  82,   9,  10,  11,  12,  13,\n",
      "         14, 147,  16,  17,  18,  19,  20,  21,  22,  23,  24,  25,  26,  27,\n",
      "         28,  29,  30,  31,  32,  33,  34,  35, 115,  37,  38,  39,  40,  41,\n",
      "         42, 112,  44,  45,  46,  47,  48,  49,  50,  51,  52,  53,  54,  55,\n",
      "         56,  57,  58,  59,  60,  61,  62,  63,  64,  65,  66,  67,  94,  69,\n",
      "         70,  71,  72,  73,  74,  75,  76,  77,  78,  79,  80,  81,  82,  83,\n",
      "         84,  85,  86,  87,  88,  89, 149,  91,  92,  93,  85,  95,  96, 135,\n",
      "         98,  99, 100, 101, 102, 103, 153, 105, 106, 107, 108, 109, 110, 111,\n",
      "        112, 136, 114, 115, 116, 117, 118, 119, 120, 121, 122, 123, 124, 125,\n",
      "        126, 127, 128, 129, 130, 131, 132, 133, 134, 135, 136, 156, 138, 139,\n",
      "        140, 141,  98, 143, 144, 145, 146, 147, 148, 149, 150, 151, 152,  72,\n",
      "        154, 155, 156, 157, 158, 159, 160, 161, 162, 163, 164, 165, 166, 167,\n",
      "         96, 169, 170, 171, 172, 173, 174, 175, 129, 177,  74])\n",
      "i 5 sum tensor(162)\n"
     ]
    }
   ],
   "source": [
    "# test of distances only using the first entry of the signature, then the first and second, then the first, second and third and so on til the fifth\n",
    "for i in range(6):\n",
    "    distances = torch.cdist(signatures_full_sampling[:, :i+1], signatures_down_sampled[:, :i+1], p=2)\n",
    "    min_distances, min_indices = torch.min(distances, dim=1)\n",
    "    print(\"i\", i, \"min_distances\", min_distances, \"min_indices\", min_indices)\n",
    "    print(\"i\", i, \"sum\", torch.sum(min_indices == torch.arange(len(min_indices))))"
   ],
   "metadata": {
    "collapsed": false
   }
  },
  {
   "cell_type": "code",
   "execution_count": 218,
   "outputs": [
    {
     "name": "stdout",
     "output_type": "stream",
     "text": [
      "i 0 min_distances tensor([4.1864e-06, 7.6287e-06, 1.0544e-04, 2.0510e-06, 1.3914e-05, 1.1615e-05,\n",
      "        1.6859e-07, 1.7860e-04, 1.5554e-05, 1.2581e-04, 1.4674e-05, 1.5079e-06,\n",
      "        4.9497e-06, 1.5451e-06, 1.7438e-04, 1.2259e-04, 1.1596e-04, 1.1129e-04,\n",
      "        1.5582e-03, 7.3380e-05, 1.8201e-05, 1.5355e-05, 1.0126e-05, 2.2175e-05,\n",
      "        1.0126e-05, 2.4561e-04, 2.5590e-05, 1.0343e-05, 9.9237e-05, 8.6753e-06,\n",
      "        9.3229e-05, 2.8962e-04, 1.9192e-05, 1.2006e-05, 6.0886e-05, 7.4463e-05,\n",
      "        9.2154e-06, 6.6322e-04, 1.2206e-05, 6.5727e-06, 1.8916e-04, 2.4202e-05,\n",
      "        9.7820e-05, 2.7139e-05, 1.2028e-03, 1.2234e-03, 1.8532e-04, 1.1364e-05,\n",
      "        9.2690e-06, 2.5302e-06, 1.0241e-05, 4.4985e-06, 4.3800e-06, 6.9716e-05,\n",
      "        2.4613e-05, 8.4294e-08, 0.0000e+00, 7.2501e-05, 8.8376e-06, 5.1426e-06,\n",
      "        2.5536e-04, 5.8157e-06, 4.0766e-05, 1.1680e-06, 6.7435e-07, 3.0864e-05,\n",
      "        2.6716e-05, 7.1344e-05, 7.0525e-07, 2.4558e-05, 1.4893e-05, 2.9301e-05,\n",
      "        5.2109e-06, 2.0008e-03, 4.1287e-06, 1.0546e-04, 6.8039e-05, 5.8788e-06,\n",
      "        1.0129e-04, 2.8586e-05, 2.5232e-06, 7.4551e-05, 3.8147e-06, 2.2238e-06,\n",
      "        6.4681e-05, 5.8400e-07, 7.5036e-06, 5.8432e-05, 3.2621e-05, 1.8267e-05,\n",
      "        1.4180e-06, 7.6277e-04, 5.2235e-06, 1.7577e-05, 3.2900e-05, 5.0805e-05,\n",
      "        5.7369e-06, 2.2595e-06, 7.0242e-06, 2.0230e-06, 7.5133e-05, 2.1710e-05,\n",
      "        6.4286e-05, 9.3265e-05, 1.9493e-05, 8.0629e-05, 1.0458e-05, 8.7460e-05,\n",
      "        8.5032e-06, 1.0949e-05, 1.1707e-04, 7.3427e-05, 3.9031e-06, 1.6553e-05,\n",
      "        5.7220e-06, 1.9733e-05, 1.0331e-04, 7.9103e-05, 1.7759e-04, 4.1951e-05,\n",
      "        2.4414e-05, 1.3041e-05, 3.4896e-04, 5.5608e-06, 4.7506e-04, 1.1359e-04,\n",
      "        9.4316e-04, 1.5407e-05, 1.2562e-05, 2.4062e-03, 0.0000e+00, 1.1680e-06,\n",
      "        2.0359e-05, 6.9674e-06, 7.9160e-04, 2.5761e-06, 4.4681e-06, 4.7684e-06,\n",
      "        2.6860e-04, 3.4342e-05, 1.8372e-05, 1.6967e-04, 2.3336e-05, 4.9181e-05,\n",
      "        2.0435e-05, 1.7688e-05, 5.1302e-06, 3.0309e-04, 6.3361e-07, 1.3698e-05,\n",
      "        7.2473e-06, 2.3708e-05, 6.6416e-05, 9.5741e-06, 6.6934e-05, 2.5536e-05,\n",
      "        2.1325e-06, 1.7499e-05, 5.6468e-05, 2.7876e-04, 5.4784e-06, 3.8668e-05,\n",
      "        6.3674e-06, 8.8635e-06, 5.2343e-04, 3.9816e-03, 1.2331e-06, 4.3192e-04,\n",
      "        5.8083e-06, 8.9619e-06, 1.2993e-05, 1.4105e-06, 1.3984e-05, 1.7140e-05,\n",
      "        1.3935e-05, 1.0179e-04, 2.4807e-03, 5.4966e-06, 7.5432e-06],\n",
      "       grad_fn=<MinBackward0>) min_indices tensor([  0,  20, 122,  89,  69,   5,  55,   7, 103,  75, 150, 150, 109,  13,\n",
      "        125,  92,  16,  17,  44, 119,  20,  21,  29, 171, 177,  25,  46,  85,\n",
      "         28,  29, 101,  40,  35, 100,  34,  99,   2,  37,  38,  97,  40,  41,\n",
      "         42, 171,  44,  45,  40,  32,  48,  74,  50,  51,  12,   8,  54,  38,\n",
      "         54, 107,  58,  59,  60,  93,  62, 142, 143, 149, 150, 119, 144,  69,\n",
      "        149,  82,  72,  73,   1,  17,  76,  88, 176,  79,  80,  81, 137,  83,\n",
      "        126, 171,  86,  87,  88,  89,  38, 117, 145,  93,  85,  17,  96,  20,\n",
      "         33, 131,  98,  29, 102, 103, 157, 102,  69, 107,  89, 109, 110,  25,\n",
      "        112, 136, 114, 115, 116, 138, 118,  47,   2, 121,   7, 161, 124, 125,\n",
      "         84,  76,  57, 129, 130,  76, 132, 133, 164, 135, 136, 151, 138,  97,\n",
      "        108, 152,  29,  64, 104, 121,   5, 147,  49, 115,  80, 121, 152, 153,\n",
      "        103,  92, 114, 157, 158, 147, 156, 116,  52, 163, 164, 165, 178, 167,\n",
      "         96, 169, 170,  23, 121, 172, 174, 111,  15, 109,  59])\n",
      "i 0 sum tensor(73)\n",
      "i 1 min_distances tensor([1.6672e-07, 6.4587e-07, 6.6525e-07, 1.7905e-05, 7.7011e-06, 6.0604e-06,\n",
      "        7.6294e-06, 1.5535e-03, 1.1887e-04, 1.0724e-03, 1.8870e-05, 1.3411e-07,\n",
      "        1.0360e-05, 4.9590e-07, 2.2293e-04, 2.4283e-03, 3.4150e-05, 2.9432e-05,\n",
      "        1.0686e-04, 4.8540e-06, 5.4276e-06, 1.2015e-04, 4.1895e-05, 4.8114e-06,\n",
      "        1.1921e-07, 9.5827e-04, 1.3035e-03, 6.9100e-06, 1.0646e-04, 1.7649e-05,\n",
      "        1.0115e-05, 2.8160e-03, 2.5288e-06, 1.1434e-06, 1.8524e-04, 1.5728e-05,\n",
      "        4.8344e-06, 1.4370e-04, 1.3496e-08, 4.9378e-06, 1.8355e-03, 1.7663e-04,\n",
      "        5.5167e-04, 9.6975e-06, 1.7949e-04, 1.0768e-03, 7.1073e-05, 2.3869e-05,\n",
      "        2.6968e-05, 7.5564e-06, 2.8785e-06, 2.5232e-06, 6.8850e-05, 2.4412e-05,\n",
      "        5.7101e-04, 5.2309e-07, 4.2039e-05, 4.3567e-06, 2.9541e-04, 1.9378e-05,\n",
      "        8.9431e-06, 2.6238e-05, 1.4400e-05, 1.6491e-05, 7.0080e-06, 1.8468e-06,\n",
      "        3.2649e-05, 6.5928e-05, 2.6239e-05, 3.5721e-05, 1.7140e-05, 4.8796e-05,\n",
      "        1.9229e-11, 6.7605e-04, 1.9433e-06, 1.3351e-05, 4.3437e-05, 5.0752e-07,\n",
      "        4.3240e-05, 8.3191e-06, 1.8019e-05, 1.0650e-04, 8.9614e-04, 1.6957e-05,\n",
      "        4.2185e-05, 4.2963e-05, 9.1261e-08, 1.5634e-06, 1.0811e-03, 1.3613e-05,\n",
      "        3.1671e-04, 7.6716e-05, 4.7268e-04, 5.4263e-06, 9.8850e-06, 6.4835e-06,\n",
      "        2.0865e-06, 1.0570e-06, 3.1005e-05, 1.6043e-05, 0.0000e+00, 2.9283e-05,\n",
      "        4.4735e-04, 5.3184e-05, 8.8400e-06, 7.2511e-05, 3.1585e-06, 2.1659e-05,\n",
      "        8.0640e-06, 7.1526e-07, 2.8083e-03, 2.8208e-04, 2.3090e-05, 2.3554e-05,\n",
      "        1.4402e-05, 5.7171e-07, 3.7579e-07, 3.9291e-04, 4.0350e-05, 3.2258e-04,\n",
      "        6.5604e-04, 1.8545e-05, 2.3017e-05, 1.1746e-05, 5.5510e-05, 1.9223e-04,\n",
      "        1.4438e-07, 1.9902e-05, 1.1374e-05, 3.9537e-03, 5.4592e-04, 5.7616e-06,\n",
      "        7.6365e-05, 1.2040e-05, 8.5752e-04, 7.4506e-09, 1.2069e-06, 4.1785e-06,\n",
      "        1.8492e-05, 0.0000e+00, 1.2822e-05, 5.3045e-05, 7.4022e-05, 2.9847e-04,\n",
      "        1.5444e-04, 2.5123e-05, 1.9660e-06, 3.0155e-06, 1.7890e-07, 3.3596e-05,\n",
      "        1.6510e-05, 4.3473e-05, 5.3982e-05, 7.2126e-06, 3.9879e-03, 5.5372e-05,\n",
      "        1.3240e-06, 5.4998e-06, 2.0185e-05, 8.5193e-05, 1.7123e-05, 1.1680e-06,\n",
      "        1.7363e-06, 1.1921e-07, 2.0922e-04, 2.7282e-03, 1.0242e-05, 5.8764e-06,\n",
      "        2.9448e-07, 1.1912e-06, 8.3880e-05, 1.7831e-04, 1.5243e-04, 1.5765e-05,\n",
      "        5.5658e-06, 1.5892e-05, 1.6044e-03, 2.6546e-05, 1.6956e-05],\n",
      "       grad_fn=<MinBackward0>) min_indices tensor([168,   1,  43,  51,   4,  79,  61,   7,  82,   9,  10, 169,  62,  13,\n",
      "         14,  15,  16,  22,  62,  19,  20,  21,  22, 146,  24,  25,   9,  27,\n",
      "         28,   3, 118,  40,  95,  95,  34,  35, 156, 152,  38, 115,  40, 111,\n",
      "        170, 115,  44,  45,  71,  93, 167,  49,  50,  51, 105,  76, 170,  55,\n",
      "         61,  11,  58,  59, 175,  78, 132,  63, 159,  65,  16,  67, 177, 122,\n",
      "        106, 159, 104,  73,  74,  98,  76,  94,  16,  87, 114, 142,   8,   2,\n",
      "         56,  85,  86,  87, 120,  51,  18, 149,   8, 175,  66,   2,  96,   4,\n",
      "         29, 105,  64, 167,  41, 103,  43,  52,  33, 115, 160,  39, 110,  88,\n",
      "          4,   4, 155, 112, 116, 171,  53,  82,  88,  53, 122, 123, 124, 170,\n",
      "        168,  89,  23, 129, 130,  17, 132, 163, 134,  50, 136, 169, 138,  84,\n",
      "        127, 141,  75, 143, 117, 145,  19, 147,  86, 149, 150,  71, 152,  43,\n",
      "        154,  16,  55, 157, 144,  71, 121,  79, 162, 133,   7, 165,  90,  93,\n",
      "         86,  57, 170, 171, 172, 174, 174, 175, 129, 177, 177])\n",
      "i 1 sum tensor(68)\n",
      "i 2 min_distances tensor([3.7807e-05, 4.7684e-07, 1.0051e-05, 1.4122e-04, 1.1512e-06, 1.9603e-07,\n",
      "        6.2899e-06, 5.7474e-05, 1.3304e-04, 2.4901e-05, 5.0190e-04, 3.3091e-05,\n",
      "        1.0482e-05, 1.0000e-05, 5.8114e-04, 1.5387e-01, 2.0104e-05, 3.3603e-04,\n",
      "        3.6506e-04, 4.3308e-05, 8.5989e-07, 1.1026e-04, 7.7629e-06, 3.3358e-06,\n",
      "        1.3308e-06, 9.7579e-04, 1.6723e-05, 2.9687e-05, 4.7759e-05, 4.7725e-05,\n",
      "        2.1495e-05, 2.5285e-04, 6.9510e-06, 1.6218e-05, 1.3644e-04, 1.2867e-06,\n",
      "        4.9605e-05, 1.0163e-03, 5.9366e-06, 1.4327e-05, 4.1875e-05, 2.7425e-05,\n",
      "        5.6835e-04, 2.9772e-05, 1.7105e-03, 4.4497e-03, 1.3283e-05, 6.1996e-05,\n",
      "        1.0601e-05, 4.2334e-06, 3.3301e-06, 3.8337e-05, 3.6936e-05, 4.5628e-06,\n",
      "        4.2221e-05, 1.8866e-06, 1.7520e-05, 8.6490e-06, 1.1664e-04, 1.4212e-06,\n",
      "        2.5886e-04, 6.2540e-07, 7.3921e-05, 2.8628e-05, 1.2478e-04, 2.0286e-04,\n",
      "        4.3328e-05, 3.7817e-05, 1.0130e-04, 4.7990e-05, 1.5079e-06, 2.6743e-05,\n",
      "        1.5008e-06, 1.2915e-03, 8.5480e-05, 1.2281e-04, 2.0730e-05, 1.7218e-04,\n",
      "        1.1093e-03, 5.8229e-05, 1.7053e-05, 2.6536e-05, 1.1789e-04, 6.0788e-06,\n",
      "        7.2177e-05, 1.7458e-05, 9.1924e-07, 7.6378e-06, 6.4198e-05, 6.4152e-06,\n",
      "        5.3081e-05, 2.4485e-04, 8.7610e-05, 1.1921e-07, 1.3071e-04, 2.6873e-05,\n",
      "        1.2995e-05, 5.5990e-06, 3.7123e-06, 3.1720e-06, 3.9396e-05, 1.2420e-05,\n",
      "        1.9073e-06, 3.0836e-05, 2.0425e-05, 2.0686e-05, 2.1919e-05, 5.8205e-06,\n",
      "        8.8665e-06, 5.7582e-05, 2.7041e-05, 6.8452e-05, 4.2053e-05, 4.2710e-06,\n",
      "        5.5585e-05, 2.3457e-05, 2.6968e-06, 4.7857e-04, 1.3476e-04, 3.1031e-05,\n",
      "        2.2928e-05, 3.1395e-05, 4.9324e-05, 2.8107e-05, 8.7924e-06, 1.0447e-05,\n",
      "        3.6917e-06, 4.7066e-05, 6.4918e-05, 1.7827e-04, 4.9927e-02, 3.8044e-06,\n",
      "        1.8157e-05, 4.7758e-06, 1.4752e-04, 3.1540e-07, 2.1010e-06, 1.5708e-04,\n",
      "        7.5623e-05, 2.9243e-06, 2.6842e-06, 5.6319e-06, 4.6814e-07, 2.8800e-05,\n",
      "        3.0158e-05, 1.0122e-05, 2.3466e-07, 1.7044e-03, 1.7842e-06, 1.4157e-04,\n",
      "        6.7610e-04, 1.7130e-04, 7.5734e-04, 2.1273e-05, 5.5780e-05, 5.1571e-05,\n",
      "        9.1721e-06, 1.0898e-05, 4.8908e-05, 2.1524e-06, 4.6238e-05, 2.6392e-06,\n",
      "        4.1274e-06, 3.2663e-05, 2.0894e-05, 7.4116e-02, 2.1439e-07, 2.2888e-05,\n",
      "        4.4731e-06, 6.5576e-06, 2.9406e-06, 7.9011e-05, 1.0093e-04, 1.9527e-05,\n",
      "        1.7002e-04, 8.0426e-05, 5.0143e-03, 8.3191e-06, 1.9147e-04],\n",
      "       grad_fn=<MinBackward0>) min_indices tensor([ 99,  57, 126,  84,  13,  86,  30,  40, 134,   9, 152, 149,  12,  13,\n",
      "         14,  73, 169,  17,  10, 127, 116,  21, 126, 161,  24,  91, 154,  27,\n",
      "         84,  29,   1, 134, 169,  67,  34,  35, 127, 129,  83,  39, 167, 137,\n",
      "         42,  67,  44,  45, 164, 137,  48,  49, 146, 167,  15,  72,  54,  55,\n",
      "        102,   6,   2,  50,  60,  86, 118, 122,  18,  65, 109,  67,  34,  66,\n",
      "         77, 109,  53,  73,   8,  85,  92, 174,  42, 125,  95, 123, 100,  39,\n",
      "         84,  28,  86,  12, 137, 148,  27,  91, 128,  98,  85, 124,  96,  67,\n",
      "         43, 170,  56,  87,  56,  30, 176,  31,   6, 106,  36, 109,  52, 138,\n",
      "         67,  24,  67,  26, 116,  18, 143, 148,  74,  16,  84, 109,  30, 111,\n",
      "        168, 127,  66, 129, 130, 131,  56,  83, 134,  72,  98, 137, 138, 139,\n",
      "         43,  92, 161, 129,  26, 145,  50,  73, 106,  11, 150,  15, 152, 135,\n",
      "         82, 105,  80,  48,  60, 153,  26, 161, 162,  29, 110, 165, 161,   7,\n",
      "         83, 169,  53,  46, 149, 135, 174,   2,  44,  99, 120])\n",
      "i 2 sum tensor(45)\n",
      "i 3 min_distances tensor([2.2491e-07, 6.2287e-08, 3.2087e-05, 3.3863e-07, 1.3761e-07, 3.2195e-08,\n",
      "        4.2813e-07, 1.2790e-05, 3.0547e-07, 1.2407e-05, 4.5635e-08, 6.5079e-07,\n",
      "        5.3208e-08, 3.2562e-07, 4.9281e-09, 2.3321e-05, 5.8146e-06, 8.0577e-07,\n",
      "        1.1449e-05, 8.8156e-07, 7.6210e-09, 0.0000e+00, 5.7755e-07, 2.7683e-07,\n",
      "        1.0246e-07, 2.6342e-09, 7.0411e-07, 2.1709e-07, 5.1371e-06, 2.7972e-07,\n",
      "        3.0593e-07, 2.2127e-07, 8.8058e-08, 8.9871e-08, 1.9536e-07, 1.5787e-07,\n",
      "        5.2580e-07, 2.7395e-07, 1.3939e-08, 1.1525e-07, 3.3886e-06, 2.8002e-08,\n",
      "        1.3677e-07, 2.1703e-07, 1.0540e-04, 5.4789e-05, 1.2161e-06, 1.4873e-06,\n",
      "        2.8894e-09, 4.1974e-10, 1.0674e-08, 1.9628e-07, 8.7207e-08, 1.3132e-07,\n",
      "        2.3807e-07, 8.6868e-09, 1.7128e-07, 2.9465e-08, 4.9422e-08, 2.0987e-10,\n",
      "        1.1921e-07, 5.5879e-09, 8.7207e-08, 8.5601e-08, 2.2027e-07, 1.0577e-07,\n",
      "        6.0474e-08, 7.6708e-08, 3.1747e-08, 2.3037e-07, 4.1536e-09, 2.0185e-07,\n",
      "        3.5910e-09, 5.6722e-06, 1.9705e-09, 8.2966e-08, 2.6143e-07, 2.5607e-07,\n",
      "        2.5886e-05, 2.1743e-07, 1.0495e-08, 6.1403e-07, 1.1595e-06, 8.9008e-08,\n",
      "        2.9392e-08, 9.2184e-07, 6.0357e-09, 5.2684e-09, 2.4890e-07, 6.4496e-07,\n",
      "        4.6333e-07, 1.2355e-07, 5.6634e-07, 1.0216e-07, 7.5277e-07, 2.3466e-07,\n",
      "        4.0058e-09, 4.6566e-10, 6.3849e-07, 1.1107e-07, 4.7122e-08, 1.1190e-08,\n",
      "        2.6641e-06, 3.0701e-07, 2.8337e-09, 3.4089e-06, 2.7885e-09, 1.2372e-07,\n",
      "        1.2702e-08, 4.7356e-08, 6.0357e-09, 6.4953e-08, 9.9543e-08, 1.1005e-06,\n",
      "        1.7023e-07, 2.5688e-09, 4.3861e-08, 1.6185e-07, 3.8729e-07, 4.8578e-07,\n",
      "        2.4116e-06, 1.5584e-08, 2.0904e-06, 6.4317e-07, 3.4370e-07, 1.3380e-06,\n",
      "        7.0644e-05, 1.7529e-07, 8.8471e-08, 5.0100e-04, 0.0000e+00, 7.5600e-07,\n",
      "        6.2821e-09, 7.3459e-07, 5.1724e-05, 7.1232e-09, 1.8699e-09, 2.6098e-06,\n",
      "        2.5810e-08, 1.5778e-08, 4.4017e-08, 2.2736e-08, 1.2764e-07, 4.5736e-07,\n",
      "        1.9242e-07, 1.2299e-08, 4.2048e-06, 7.1851e-08, 2.0367e-08, 8.2126e-08,\n",
      "        1.3734e-07, 1.0024e-07, 2.2088e-09, 9.1621e-08, 1.5164e-07, 1.8478e-05,\n",
      "        8.4622e-08, 4.3215e-08, 8.2496e-07, 1.2905e-07, 1.3818e-07, 9.7429e-08,\n",
      "        3.8580e-09, 8.5852e-08, 1.1675e-05, 7.5595e-05, 1.5472e-08, 1.0933e-05,\n",
      "        2.3728e-08, 1.5857e-08, 1.4409e-07, 1.2014e-07, 8.2832e-07, 6.9793e-08,\n",
      "        2.2388e-08, 3.2927e-09, 3.5052e-05, 2.2277e-07, 5.5630e-08],\n",
      "       grad_fn=<MinBackward0>) min_indices tensor([ 23, 135,  45,   3,   4,   5,  29,   7,  67,   9,  10,  11,  12,  13,\n",
      "          4,  45,  40,  17,  18,  19,  72,  21,  67,  23, 143,  52, 100,  67,\n",
      "         28, 127, 103,  63, 160,  33,  54, 161,  77, 118,  38,  39,  40, 160,\n",
      "         62, 147,  44,  45,  94,  47,  48,  49,  50,  67,   0, 157,  43,  55,\n",
      "         26, 115,  37,  49,  60,  61,  85,  63, 123,  65, 157,  67,  68,  38,\n",
      "         70,  12,  72, 165,  59,  98,  76,  77,  78,  79, 174,  81,  82, 132,\n",
      "          5,  85, 166,  87, 111,  91, 177,  91, 103,  93,  46, 159,  96, 174,\n",
      "         98,  25,  22, 101, 102, 103,  20, 105, 115, 107, 121,  87, 110, 111,\n",
      "        178,  47,  29, 115, 116,  79, 137, 127,  95, 166, 122, 123, 124, 125,\n",
      "        126, 127, 128, 129, 130,  27, 132, 133, 134, 135, 136,  81,  67, 139,\n",
      "        140, 141,  91,  24, 171, 162,  40, 147,  55,  36,   4,  67, 152,   4,\n",
      "        154,  17,   0,  66,  37, 159,  41, 161, 162, 140, 164,  73, 166, 167,\n",
      "        168, 113, 170,  42,  82, 173, 174, 175, 164, 177,  11])\n",
      "i 3 sum tensor(87)\n",
      "i 4 min_distances tensor([1.7330e-07, 2.9845e-07, 6.3153e-06, 2.5768e-05, 2.8668e-07, 7.6251e-07,\n",
      "        5.1632e-05, 1.2298e-02, 4.8196e-05, 5.5601e-04, 1.4453e-04, 1.6542e-06,\n",
      "        2.3564e-05, 1.8458e-06, 4.2650e-06, 7.9383e-05, 4.3204e-04, 1.0867e-07,\n",
      "        1.5698e-06, 2.5256e-06, 3.2132e-07, 3.2126e-05, 1.5024e-06, 6.9506e-07,\n",
      "        3.5063e-06, 4.8627e-03, 1.9418e-04, 1.9545e-04, 1.0392e-06, 7.6758e-06,\n",
      "        8.2116e-06, 9.6241e-05, 5.0091e-07, 4.8101e-07, 1.0646e-05, 2.2078e-06,\n",
      "        1.3849e-07, 3.5098e-03, 1.4293e-07, 1.0524e-07, 2.9403e-04, 5.6408e-05,\n",
      "        8.2077e-05, 1.2360e-06, 5.1260e-06, 5.4263e-06, 2.0613e-06, 5.8855e-07,\n",
      "        4.2385e-06, 1.1176e-08, 5.1653e-08, 1.9434e-04, 2.1021e-04, 1.0263e-06,\n",
      "        9.9441e-05, 1.4092e-07, 1.1700e-05, 1.2609e-05, 2.4960e-04, 4.9787e-07,\n",
      "        6.9694e-09, 1.3066e-06, 4.7900e-04, 5.6689e-05, 1.3107e-05, 4.6170e-05,\n",
      "        6.9018e-06, 2.1750e-06, 5.0063e-05, 3.5343e-06, 2.7172e-05, 6.8853e-06,\n",
      "        3.3157e-06, 1.8591e-07, 6.8863e-06, 4.1897e-05, 4.7684e-07, 9.7606e-06,\n",
      "        6.9094e-08, 4.4075e-06, 2.5138e-05, 1.5660e-05, 1.5228e-04, 5.1223e-06,\n",
      "        4.5783e-07, 2.1057e-06, 7.6945e-10, 7.0088e-07, 1.1263e-03, 1.2207e-04,\n",
      "        1.4925e-05, 5.4601e-05, 9.4169e-05, 1.7203e-07, 1.5341e-05, 4.1630e-07,\n",
      "        6.7221e-07, 2.6436e-07, 6.7758e-06, 2.3421e-06, 7.0080e-06, 1.6816e-05,\n",
      "        2.3421e-06, 1.1668e-06, 3.3320e-08, 3.1236e-05, 6.7253e-06, 4.4994e-05,\n",
      "        3.3654e-06, 5.6631e-06, 3.7935e-04, 1.2529e-03, 1.3059e-06, 2.9540e-07,\n",
      "        2.2773e-07, 1.0307e-06, 3.9217e-09, 3.7220e-03, 8.7333e-05, 8.6467e-05,\n",
      "        7.1322e-05, 3.3147e-05, 6.6348e-07, 1.1020e-08, 4.3352e-06, 3.1332e-04,\n",
      "        2.1931e-06, 2.6033e-07, 1.2157e-06, 3.1459e-05, 3.3949e-03, 3.2788e-06,\n",
      "        3.8821e-05, 4.3813e-06, 9.0591e-06, 5.5755e-08, 5.7350e-08, 1.1109e-06,\n",
      "        7.9218e-06, 4.5920e-06, 1.5175e-05, 2.6762e-05, 4.7730e-07, 9.5408e-04,\n",
      "        2.8406e-05, 6.5767e-06, 6.3308e-07, 2.8468e-06, 8.3225e-07, 5.7844e-06,\n",
      "        1.4731e-05, 8.6779e-04, 1.7098e-04, 1.5484e-06, 1.5559e-04, 1.0569e-05,\n",
      "        4.4814e-07, 4.7980e-07, 2.5977e-03, 5.1890e-05, 1.7757e-07, 3.4946e-07,\n",
      "        1.8581e-06, 2.9304e-05, 3.7376e-05, 2.8471e-03, 2.6631e-07, 4.0321e-07,\n",
      "        5.0454e-06, 9.4486e-07, 1.3635e-05, 5.6462e-04, 1.7841e-03, 1.5499e-07,\n",
      "        8.6017e-06, 4.3097e-06, 5.1589e-04, 1.6877e-06, 2.5197e-05],\n",
      "       grad_fn=<MinBackward0>) min_indices tensor([ 84,  73, 106,  45,  50, 114,  89,   7,  54,  14,  41, 177, 178,  43,\n",
      "        118,  63, 100,   4,  32, 145, 173, 121, 157,  97,  97, 117,  27, 152,\n",
      "         90, 101,  79, 171, 137,  97, 163,  75, 162, 158, 160, 166, 158, 119,\n",
      "         52, 112,  12,  99, 162,  39,  48, 167, 114,  27,  63, 174, 100,  55,\n",
      "         30,  98, 100, 156,   5,  48,  14,  85,  79,  89,  66, 161,  56, 147,\n",
      "        149,   6,  24,  55,  35, 178,  79, 106,  22, 170, 108,  24, 120,  38,\n",
      "        103, 141,  86,  59, 154,  56,  56,  42,  65, 123,  29,  84,  96,   0,\n",
      "        153,  74, 100,  44, 170,   4, 146,  77,  13, 178,  83,  77, 151, 125,\n",
      "        105,  39, 114,  48, 116, 110,  42,  92,  42,  45,  46,  59,  80, 172,\n",
      "        157, 123,  80,  29,   7,  80, 178,  38, 131, 162, 166, 114, 152, 157,\n",
      "        177,  99, 145,  31,  45,  61,  47,  19,  86, 105, 106, 154,  10,  24,\n",
      "        171,  69,  86, 122, 158,   6, 161,  61, 127, 178,  27, 165,  73,  50,\n",
      "        161, 114, 105,  31, 158, 173, 177, 170,  88,  53, 109])\n",
      "i 4 sum tensor(12)\n",
      "i 5 min_distances tensor([2.1574e-08, 4.5311e-08, 7.9458e-08, 7.4327e-07, 5.0801e-07, 5.7365e-08,\n",
      "        4.0773e-07, 3.2455e-03, 1.8977e-04, 1.7444e-04, 3.8086e-06, 8.3143e-09,\n",
      "        8.4294e-08, 4.9206e-08, 6.0870e-06, 8.9477e-05, 9.2158e-06, 1.7110e-06,\n",
      "        3.6337e-04, 2.7181e-06, 9.6147e-08, 2.1193e-05, 4.1540e-06, 2.7720e-07,\n",
      "        1.3265e-07, 4.0937e-06, 2.6592e-05, 3.0849e-06, 3.5403e-05, 1.5152e-06,\n",
      "        6.8813e-07, 7.9754e-06, 7.3606e-07, 1.1780e-06, 3.9777e-06, 1.2366e-07,\n",
      "        2.7109e-06, 6.9537e-07, 3.5822e-08, 6.0893e-09, 1.9621e-03, 4.0095e-06,\n",
      "        1.1023e-06, 2.3990e-07, 8.9091e-04, 7.5619e-03, 7.7270e-05, 9.9191e-07,\n",
      "        1.8652e-07, 7.7527e-08, 4.0200e-08, 3.6708e-06, 3.9357e-06, 1.9985e-05,\n",
      "        4.7957e-06, 1.2583e-07, 1.5674e-06, 1.3482e-07, 9.4337e-07, 6.3437e-08,\n",
      "        4.0601e-06, 7.6159e-07, 7.1486e-06, 1.2623e-05, 3.7325e-05, 1.1579e-06,\n",
      "        9.4279e-07, 2.1911e-05, 2.2802e-08, 9.4931e-06, 4.3667e-07, 4.9569e-06,\n",
      "        1.1151e-11, 5.0464e-03, 7.5635e-08, 3.1141e-05, 6.2443e-06, 1.0033e-07,\n",
      "        6.6426e-05, 2.6636e-06, 4.4392e-08, 7.9704e-05, 1.2329e-05, 3.0618e-08,\n",
      "        5.1432e-05, 5.4406e-06, 1.1783e-08, 1.2156e-06, 1.0257e-04, 6.6640e-08,\n",
      "        5.7961e-06, 1.1600e-07, 1.2593e-05, 3.0053e-07, 5.2932e-06, 1.7866e-07,\n",
      "        3.2056e-08, 3.8107e-08, 3.8485e-06, 2.4669e-06, 1.4485e-05, 3.1402e-06,\n",
      "        9.1899e-05, 1.2331e-06, 8.3985e-09, 4.0489e-05, 2.1070e-07, 2.9595e-08,\n",
      "        1.0676e-06, 2.5810e-08, 1.7616e-05, 2.9352e-07, 2.6013e-07, 2.2371e-05,\n",
      "        3.0683e-07, 1.0933e-07, 3.1400e-07, 5.1535e-06, 3.0259e-07, 7.3355e-06,\n",
      "        4.0358e-04, 1.6356e-06, 2.4388e-05, 1.2847e-05, 1.2461e-04, 3.6327e-06,\n",
      "        1.1872e-09, 3.4531e-06, 9.9009e-08, 1.3177e-03, 4.2286e-04, 3.3288e-06,\n",
      "        2.0659e-06, 2.1090e-06, 1.2593e-05, 5.3815e-10, 1.0823e-08, 3.9773e-07,\n",
      "        5.4512e-08, 4.9072e-06, 6.0701e-08, 2.0503e-08, 5.5734e-06, 4.6933e-07,\n",
      "        2.7340e-06, 2.6607e-07, 3.9681e-05, 2.4962e-09, 5.4672e-08, 2.6604e-08,\n",
      "        9.5123e-08, 6.9233e-06, 5.6971e-07, 9.0023e-07, 1.1429e-05, 6.8205e-06,\n",
      "        5.5011e-06, 4.4222e-08, 5.0520e-06, 9.2459e-08, 6.3672e-06, 6.7695e-06,\n",
      "        1.2505e-07, 6.7435e-07, 3.3078e-04, 5.6267e-05, 3.6462e-07, 1.9396e-05,\n",
      "        3.8355e-09, 8.4457e-08, 6.5152e-06, 1.1147e-05, 1.7068e-06, 7.0020e-07,\n",
      "        4.8421e-09, 6.6652e-08, 2.0352e-03, 1.2796e-07, 1.2638e-08],\n",
      "       grad_fn=<MinBackward0>) min_indices tensor([178,  13,  91, 109,  35,  35,   5,  44,  60,   7, 159, 178, 121,  37,\n",
      "         76, 124,  85, 155,   8, 121,  38, 134,  80,  70, 139,  76, 120,  56,\n",
      "        154, 160, 116,  60,  87,  24, 139,  48,  47,  57, 141,  77,  40,  79,\n",
      "         47,  35, 164,  45, 124, 152,   6,  43,  43,  85,  99, 172, 117,  77,\n",
      "         47, 148, 121,  49,  82,   1, 170,  54,  84, 159,  30, 134, 115,  54,\n",
      "        140, 172,  68, 129,  43,  64,  19,  59,  75, 111, 106, 146,  17, 141,\n",
      "        154,   2,  86,   3,  46, 160, 101, 148,  17,  34,  54, 106, 157, 169,\n",
      "        111, 123, 134,  54,  78, 143, 107, 103, 116, 168, 139, 132,  81,  32,\n",
      "        112, 134,  47,  20, 138,   2, 116,  14,  60,  32,  71, 151,  75, 159,\n",
      "        128, 152,  49, 176, 130, 151, 139, 133, 134, 135, 115, 138,   1, 133,\n",
      "         61, 168,  32, 158,  82,  48,  36, 147, 115, 140, 112,  51,  93,  57,\n",
      "        146, 123, 134, 174, 131,  80,  87, 173, 115, 116,  18,  88,  34,  14,\n",
      "        113,  86, 158, 137,  67,  19,  74, 169,  45, 157,  11])\n",
      "i 5 sum tensor(9)\n"
     ]
    }
   ],
   "source": [
    "# i want to check per entry which one is the closest and then do a major vote\n",
    "# for example surface i first entry is closest to surface j and second is closest to k and so on then i new_sig = [j,k,..,..,...] in the end we majority vote which closest, if j appear the most in i new sig then i is closest to j\n",
    "for i in range(6):\n",
    "    distances = torch.cdist(signatures_full_sampling[:, i:i+1], signatures_down_sampled[:, i:i+1], p=2)\n",
    "    min_distances, min_indices = torch.min(distances, dim=1)\n",
    "    print(\"i\", i, \"min_distances\", min_distances, \"min_indices\", min_indices)\n",
    "    print(\"i\", i, \"sum\", torch.sum(min_indices == torch.arange(len(min_indices))))\n"
   ],
   "metadata": {
    "collapsed": false
   }
  },
  {
   "cell_type": "code",
   "execution_count": 217,
   "outputs": [
    {
     "name": "stdout",
     "output_type": "stream",
     "text": [
      "torch.Size([179, 6])\n",
      "torch.Size([179, 6])\n"
     ]
    }
   ],
   "source": [
    "## check correspondence using cosine similarity\n",
    "cosine_similarity = torch.nn.CosineSimilarity(dim=1)\n",
    "print(signatures_full_sampling.shape)\n",
    "print(signatures_down_sampled.shape)\n",
    "# cosine_sim = cosine_similarity(signatures_full_sampling, signatures_down_sampled)\n",
    "# print(cosine_sim)\n",
    "# correspondence = torch.argmax(cosine_sim, dim=1)\n",
    "# print(correspondence)"
   ],
   "metadata": {
    "collapsed": false
   }
  },
  {
   "cell_type": "code",
   "execution_count": 220,
   "outputs": [
    {
     "data": {
      "text/plain": "179"
     },
     "execution_count": 220,
     "metadata": {},
     "output_type": "execute_result"
    }
   ],
   "source": [],
   "metadata": {
    "collapsed": false
   }
  },
  {
   "cell_type": "code",
   "execution_count": null,
   "outputs": [],
   "source": [],
   "metadata": {
    "collapsed": false
   }
  }
 ],
 "metadata": {
  "kernelspec": {
   "display_name": "Python 3",
   "language": "python",
   "name": "python3"
  },
  "language_info": {
   "codemirror_mode": {
    "name": "ipython",
    "version": 2
   },
   "file_extension": ".py",
   "mimetype": "text/x-python",
   "name": "python",
   "nbconvert_exporter": "python",
   "pygments_lexer": "ipython2",
   "version": "2.7.6"
  }
 },
 "nbformat": 4,
 "nbformat_minor": 0
}
